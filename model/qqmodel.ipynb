{
 "cells": [
  {
   "attachments": {},
   "cell_type": "markdown",
   "metadata": {},
   "source": [
    "# Proprocessing dataset"
   ]
  },
  {
   "cell_type": "code",
   "execution_count": 2,
   "metadata": {},
   "outputs": [],
   "source": [
    "import pandas as pd\n",
    "import datasets\n",
    "from datasets import load_dataset, Dataset, DatasetDict\n",
    "\n",
    "Qdata_frame = pd.read_csv('../dataset/train3.csv')\n"
   ]
  },
  {
   "cell_type": "code",
   "execution_count": 3,
   "metadata": {},
   "outputs": [],
   "source": [
    "# labelling\n",
    "Qdata_frame['topic'] = Qdata_frame['topic'].apply(lambda x: x.strip().split(', '))\n",
    "from sklearn.preprocessing import MultiLabelBinarizer\n",
    "mlb = MultiLabelBinarizer()\n",
    "Qdf = Qdata_frame.join(pd.DataFrame(mlb.fit_transform(Qdata_frame['topic']), columns=mlb.classes_))"
   ]
  },
  {
   "cell_type": "code",
   "execution_count": 4,
   "metadata": {},
   "outputs": [],
   "source": [
    "Qdf.to_csv(r'../dataset/train3_clean.csv')"
   ]
  },
  {
   "cell_type": "code",
   "execution_count": 5,
   "metadata": {},
   "outputs": [],
   "source": [
    "Qdata_Cleanframe = pd.read_csv('../dataset/train3_clean.csv')"
   ]
  },
  {
   "cell_type": "code",
   "execution_count": 43,
   "metadata": {},
   "outputs": [
    {
     "data": {
      "text/plain": [
       "63"
      ]
     },
     "execution_count": 43,
     "metadata": {},
     "output_type": "execute_result"
    }
   ],
   "source": [
    "max(Qdata_Cleanframe['String'].map(lambda x: len(x.split(' '))))"
   ]
  },
  {
   "cell_type": "code",
   "execution_count": 61,
   "metadata": {},
   "outputs": [],
   "source": [
    "# split the train, test, and validation data\n",
    "import sklearn\n",
    "from sklearn.model_selection import train_test_split\n",
    "\n",
    "Qdf_train, Qdf_remain = train_test_split(Qdata_Cleanframe, train_size=0.8)\n",
    "Qdf_valid, Qdf_test = train_test_split(Qdf_remain, test_size=0.5)"
   ]
  },
  {
   "cell_type": "code",
   "execution_count": 62,
   "metadata": {},
   "outputs": [
    {
     "data": {
      "text/plain": [
       "30"
      ]
     },
     "execution_count": 62,
     "metadata": {},
     "output_type": "execute_result"
    }
   ],
   "source": [
    "len(Qdf_train.columns)"
   ]
  },
  {
   "cell_type": "code",
   "execution_count": 63,
   "metadata": {},
   "outputs": [
    {
     "data": {
      "text/plain": [
       "30"
      ]
     },
     "execution_count": 63,
     "metadata": {},
     "output_type": "execute_result"
    }
   ],
   "source": [
    "len(Qdf_valid.columns)"
   ]
  },
  {
   "cell_type": "code",
   "execution_count": 64,
   "metadata": {},
   "outputs": [
    {
     "data": {
      "text/plain": [
       "30"
      ]
     },
     "execution_count": 64,
     "metadata": {},
     "output_type": "execute_result"
    }
   ],
   "source": [
    "len(Qdf_test.columns)"
   ]
  },
  {
   "cell_type": "code",
   "execution_count": 65,
   "metadata": {},
   "outputs": [
    {
     "name": "stdout",
     "output_type": "stream",
     "text": [
      "DatasetDict({\n",
      "    train: Dataset({\n",
      "        features: ['Unnamed: 0', 'id', 'String', 'topic', 'type', 'Algorithm Design', 'Communication Software and Protocols', 'Computer System', 'Data Manipulation and Analysis', 'Data Organisation and Data Control', 'Database', 'Elementary Web Authoring', 'Health and Ethical Issues', 'Input and Output Devices', 'Intellectual Property', 'Internet Services and Applications', 'Introduction to HTML', 'Introduction to Information Processing', 'Multimedia Elements', 'Number System', 'Problem- Formulation and Analysis', 'Program Development', 'Program Testing and Debugging', 'Secondary Storage Devices', 'Spreadsheet', 'System Software', 'System Unit of a Computer System', 'The Networking and Internet Basics', 'Threats and Security on the Internet', 'Word Presentation', '__index_level_0__'],\n",
      "        num_rows: 342\n",
      "    })\n",
      "    valid: Dataset({\n",
      "        features: ['Unnamed: 0', 'id', 'String', 'topic', 'type', 'Algorithm Design', 'Communication Software and Protocols', 'Computer System', 'Data Manipulation and Analysis', 'Data Organisation and Data Control', 'Database', 'Elementary Web Authoring', 'Health and Ethical Issues', 'Input and Output Devices', 'Intellectual Property', 'Internet Services and Applications', 'Introduction to HTML', 'Introduction to Information Processing', 'Multimedia Elements', 'Number System', 'Problem- Formulation and Analysis', 'Program Development', 'Program Testing and Debugging', 'Secondary Storage Devices', 'Spreadsheet', 'System Software', 'System Unit of a Computer System', 'The Networking and Internet Basics', 'Threats and Security on the Internet', 'Word Presentation', '__index_level_0__'],\n",
      "        num_rows: 43\n",
      "    })\n",
      "    test: Dataset({\n",
      "        features: ['Unnamed: 0', 'id', 'String', 'topic', 'type', 'Algorithm Design', 'Communication Software and Protocols', 'Computer System', 'Data Manipulation and Analysis', 'Data Organisation and Data Control', 'Database', 'Elementary Web Authoring', 'Health and Ethical Issues', 'Input and Output Devices', 'Intellectual Property', 'Internet Services and Applications', 'Introduction to HTML', 'Introduction to Information Processing', 'Multimedia Elements', 'Number System', 'Problem- Formulation and Analysis', 'Program Development', 'Program Testing and Debugging', 'Secondary Storage Devices', 'Spreadsheet', 'System Software', 'System Unit of a Computer System', 'The Networking and Internet Basics', 'Threats and Security on the Internet', 'Word Presentation', '__index_level_0__'],\n",
      "        num_rows: 43\n",
      "    })\n",
      "})\n"
     ]
    }
   ],
   "source": [
    "# change to hugging face dataset type\n",
    "trainDS = Dataset.from_pandas(Qdf_train)\n",
    "validDS = Dataset.from_pandas(Qdf_valid)\n",
    "testDS = Dataset.from_pandas(Qdf_test)\n",
    "ds = DatasetDict()\n",
    "ds[\"train\"] = trainDS\n",
    "ds[\"valid\"] = validDS\n",
    "ds[\"test\"] = testDS\n",
    "print(ds)"
   ]
  },
  {
   "cell_type": "code",
   "execution_count": 66,
   "metadata": {},
   "outputs": [
    {
     "name": "stdout",
     "output_type": "stream",
     "text": [
      "DatasetDict({\n",
      "    train: Dataset({\n",
      "        features: ['Unnamed: 0', 'String', 'Algorithm Design', 'Communication Software and Protocols', 'Computer System', 'Data Manipulation and Analysis', 'Data Organisation and Data Control', 'Database', 'Elementary Web Authoring', 'Health and Ethical Issues', 'Input and Output Devices', 'Intellectual Property', 'Internet Services and Applications', 'Introduction to HTML', 'Introduction to Information Processing', 'Multimedia Elements', 'Number System', 'Problem- Formulation and Analysis', 'Program Development', 'Program Testing and Debugging', 'Secondary Storage Devices', 'Spreadsheet', 'System Software', 'System Unit of a Computer System', 'The Networking and Internet Basics', 'Threats and Security on the Internet', 'Word Presentation', '__index_level_0__'],\n",
      "        num_rows: 342\n",
      "    })\n",
      "    valid: Dataset({\n",
      "        features: ['Unnamed: 0', 'String', 'Algorithm Design', 'Communication Software and Protocols', 'Computer System', 'Data Manipulation and Analysis', 'Data Organisation and Data Control', 'Database', 'Elementary Web Authoring', 'Health and Ethical Issues', 'Input and Output Devices', 'Intellectual Property', 'Internet Services and Applications', 'Introduction to HTML', 'Introduction to Information Processing', 'Multimedia Elements', 'Number System', 'Problem- Formulation and Analysis', 'Program Development', 'Program Testing and Debugging', 'Secondary Storage Devices', 'Spreadsheet', 'System Software', 'System Unit of a Computer System', 'The Networking and Internet Basics', 'Threats and Security on the Internet', 'Word Presentation', '__index_level_0__'],\n",
      "        num_rows: 43\n",
      "    })\n",
      "    test: Dataset({\n",
      "        features: ['Unnamed: 0', 'String', 'Algorithm Design', 'Communication Software and Protocols', 'Computer System', 'Data Manipulation and Analysis', 'Data Organisation and Data Control', 'Database', 'Elementary Web Authoring', 'Health and Ethical Issues', 'Input and Output Devices', 'Intellectual Property', 'Internet Services and Applications', 'Introduction to HTML', 'Introduction to Information Processing', 'Multimedia Elements', 'Number System', 'Problem- Formulation and Analysis', 'Program Development', 'Program Testing and Debugging', 'Secondary Storage Devices', 'Spreadsheet', 'System Software', 'System Unit of a Computer System', 'The Networking and Internet Basics', 'Threats and Security on the Internet', 'Word Presentation', '__index_level_0__'],\n",
      "        num_rows: 43\n",
      "    })\n",
      "})\n"
     ]
    }
   ],
   "source": [
    "#  clear not used columns\n",
    "columns = ds.column_names\n",
    "columns_toRemove = [\"id\", \"type\", \"topic\"]\n",
    "new_ds = ds.remove_columns(columns_toRemove)\n",
    "print(new_ds)\n"
   ]
  },
  {
   "cell_type": "code",
   "execution_count": 67,
   "metadata": {},
   "outputs": [],
   "source": [
    "labels = [label for label in new_ds['train'].features.keys() if label not in ['Unnamed: 0', 'String', '__index_level_0__']]"
   ]
  },
  {
   "cell_type": "code",
   "execution_count": 68,
   "metadata": {},
   "outputs": [],
   "source": [
    "# extract the labels\n",
    "labels\n",
    "id2label = {idx:label for idx, label in enumerate(labels)}\n",
    "label2id = {label:idx for idx, label in enumerate(labels)}"
   ]
  },
  {
   "cell_type": "code",
   "execution_count": 69,
   "metadata": {},
   "outputs": [
    {
     "data": {
      "text/plain": [
       "['Algorithm Design',\n",
       " 'Communication Software and Protocols',\n",
       " 'Computer System',\n",
       " 'Data Manipulation and Analysis',\n",
       " 'Data Organisation and Data Control',\n",
       " 'Database',\n",
       " 'Elementary Web Authoring',\n",
       " 'Health and Ethical Issues',\n",
       " 'Input and Output Devices',\n",
       " 'Intellectual Property',\n",
       " 'Internet Services and Applications',\n",
       " 'Introduction to HTML',\n",
       " 'Introduction to Information Processing',\n",
       " 'Multimedia Elements',\n",
       " 'Number System',\n",
       " 'Problem- Formulation and Analysis',\n",
       " 'Program Development',\n",
       " 'Program Testing and Debugging',\n",
       " 'Secondary Storage Devices',\n",
       " 'Spreadsheet',\n",
       " 'System Software',\n",
       " 'System Unit of a Computer System',\n",
       " 'The Networking and Internet Basics',\n",
       " 'Threats and Security on the Internet',\n",
       " 'Word Presentation']"
      ]
     },
     "execution_count": 69,
     "metadata": {},
     "output_type": "execute_result"
    }
   ],
   "source": [
    "labels"
   ]
  },
  {
   "cell_type": "code",
   "execution_count": 70,
   "metadata": {},
   "outputs": [
    {
     "name": "stderr",
     "output_type": "stream",
     "text": [
      "loading configuration file config.json from cache at C:\\Users\\user/.cache\\huggingface\\hub\\models--bert-base-uncased\\snapshots\\0a6aa9128b6194f4f3c4db429b6cb4891cdb421b\\config.json\n",
      "Model config BertConfig {\n",
      "  \"_name_or_path\": \"bert-base-uncased\",\n",
      "  \"architectures\": [\n",
      "    \"BertForMaskedLM\"\n",
      "  ],\n",
      "  \"attention_probs_dropout_prob\": 0.1,\n",
      "  \"classifier_dropout\": null,\n",
      "  \"gradient_checkpointing\": false,\n",
      "  \"hidden_act\": \"gelu\",\n",
      "  \"hidden_dropout_prob\": 0.1,\n",
      "  \"hidden_size\": 768,\n",
      "  \"initializer_range\": 0.02,\n",
      "  \"intermediate_size\": 3072,\n",
      "  \"layer_norm_eps\": 1e-12,\n",
      "  \"max_position_embeddings\": 512,\n",
      "  \"model_type\": \"bert\",\n",
      "  \"num_attention_heads\": 12,\n",
      "  \"num_hidden_layers\": 12,\n",
      "  \"pad_token_id\": 0,\n",
      "  \"position_embedding_type\": \"absolute\",\n",
      "  \"transformers_version\": \"4.26.0\",\n",
      "  \"type_vocab_size\": 2,\n",
      "  \"use_cache\": true,\n",
      "  \"vocab_size\": 30522\n",
      "}\n",
      "\n",
      "loading file vocab.txt from cache at C:\\Users\\user/.cache\\huggingface\\hub\\models--bert-base-uncased\\snapshots\\0a6aa9128b6194f4f3c4db429b6cb4891cdb421b\\vocab.txt\n",
      "loading file tokenizer.json from cache at C:\\Users\\user/.cache\\huggingface\\hub\\models--bert-base-uncased\\snapshots\\0a6aa9128b6194f4f3c4db429b6cb4891cdb421b\\tokenizer.json\n",
      "loading file added_tokens.json from cache at None\n",
      "loading file special_tokens_map.json from cache at None\n",
      "loading file tokenizer_config.json from cache at C:\\Users\\user/.cache\\huggingface\\hub\\models--bert-base-uncased\\snapshots\\0a6aa9128b6194f4f3c4db429b6cb4891cdb421b\\tokenizer_config.json\n",
      "loading configuration file config.json from cache at C:\\Users\\user/.cache\\huggingface\\hub\\models--bert-base-uncased\\snapshots\\0a6aa9128b6194f4f3c4db429b6cb4891cdb421b\\config.json\n",
      "Model config BertConfig {\n",
      "  \"_name_or_path\": \"bert-base-uncased\",\n",
      "  \"architectures\": [\n",
      "    \"BertForMaskedLM\"\n",
      "  ],\n",
      "  \"attention_probs_dropout_prob\": 0.1,\n",
      "  \"classifier_dropout\": null,\n",
      "  \"gradient_checkpointing\": false,\n",
      "  \"hidden_act\": \"gelu\",\n",
      "  \"hidden_dropout_prob\": 0.1,\n",
      "  \"hidden_size\": 768,\n",
      "  \"initializer_range\": 0.02,\n",
      "  \"intermediate_size\": 3072,\n",
      "  \"layer_norm_eps\": 1e-12,\n",
      "  \"max_position_embeddings\": 512,\n",
      "  \"model_type\": \"bert\",\n",
      "  \"num_attention_heads\": 12,\n",
      "  \"num_hidden_layers\": 12,\n",
      "  \"pad_token_id\": 0,\n",
      "  \"position_embedding_type\": \"absolute\",\n",
      "  \"transformers_version\": \"4.26.0\",\n",
      "  \"type_vocab_size\": 2,\n",
      "  \"use_cache\": true,\n",
      "  \"vocab_size\": 30522\n",
      "}\n",
      "\n"
     ]
    }
   ],
   "source": [
    "from transformers import AutoTokenizer, BertForSequenceClassification\n",
    "import numpy as np\n",
    "\n",
    "tokenizer = AutoTokenizer.from_pretrained(\"bert-base-uncased\")"
   ]
  },
  {
   "cell_type": "code",
   "execution_count": 71,
   "metadata": {},
   "outputs": [],
   "source": [
    "def encode_data(dataset):\n",
    "    text = dataset[\"String\"]\n",
    "    # tokenize string\n",
    "    encoding = tokenizer(text, padding=\"max_length\", truncation=True, max_length=70)\n",
    "    # create encoded array list with labels\n",
    "    labelsBatch = {x: dataset[x] for x in dataset.keys() if x in labels}\n",
    "    labels_matrix = np.zeros((len(text), len(labels)))\n",
    "    for idx, label in enumerate(labels):\n",
    "        labels_matrix[:, idx] = labelsBatch[label]\n",
    "    \n",
    "    encoding[\"labels\"] = labels_matrix.tolist()\n",
    "    return encoding"
   ]
  },
  {
   "cell_type": "code",
   "execution_count": 72,
   "metadata": {},
   "outputs": [
    {
     "name": "stderr",
     "output_type": "stream",
     "text": [
      "100%|██████████| 1/1 [00:00<00:00, 42.62ba/s]\n",
      "100%|██████████| 1/1 [00:00<00:00, 167.00ba/s]\n",
      "100%|██████████| 1/1 [00:00<00:00, 167.04ba/s]\n"
     ]
    },
    {
     "data": {
      "text/plain": [
       "dict_keys(['input_ids', 'token_type_ids', 'attention_mask', 'labels'])"
      ]
     },
     "execution_count": 72,
     "metadata": {},
     "output_type": "execute_result"
    }
   ],
   "source": [
    "encoded_ds = new_ds.map(encode_data, batched=True, remove_columns=new_ds['train'].column_names)\n",
    "encoded_ds['train'][0]\n",
    "encoded_ds['train'][0].keys()"
   ]
  },
  {
   "cell_type": "code",
   "execution_count": 73,
   "metadata": {},
   "outputs": [
    {
     "data": {
      "text/plain": [
       "[101,\n",
       " 2302,\n",
       " 2035,\n",
       " 27483,\n",
       " 2062,\n",
       " 5527,\n",
       " 4496,\n",
       " 11243,\n",
       " 13379,\n",
       " 1010,\n",
       " 6592,\n",
       " 2048,\n",
       " 4725,\n",
       " 2000,\n",
       " 5547,\n",
       " 1996,\n",
       " 5371,\n",
       " 2946,\n",
       " 1997,\n",
       " 1996,\n",
       " 7760,\n",
       " 1012,\n",
       " 102,\n",
       " 0,\n",
       " 0,\n",
       " 0,\n",
       " 0,\n",
       " 0,\n",
       " 0,\n",
       " 0,\n",
       " 0,\n",
       " 0,\n",
       " 0,\n",
       " 0,\n",
       " 0,\n",
       " 0,\n",
       " 0,\n",
       " 0,\n",
       " 0,\n",
       " 0,\n",
       " 0,\n",
       " 0,\n",
       " 0,\n",
       " 0,\n",
       " 0,\n",
       " 0,\n",
       " 0,\n",
       " 0,\n",
       " 0,\n",
       " 0,\n",
       " 0,\n",
       " 0,\n",
       " 0,\n",
       " 0,\n",
       " 0,\n",
       " 0,\n",
       " 0,\n",
       " 0,\n",
       " 0,\n",
       " 0,\n",
       " 0,\n",
       " 0,\n",
       " 0,\n",
       " 0,\n",
       " 0,\n",
       " 0,\n",
       " 0,\n",
       " 0,\n",
       " 0,\n",
       " 0]"
      ]
     },
     "execution_count": 73,
     "metadata": {},
     "output_type": "execute_result"
    }
   ],
   "source": [
    "encoded_ds['train']['input_ids'][0]"
   ]
  },
  {
   "cell_type": "code",
   "execution_count": 74,
   "metadata": {},
   "outputs": [
    {
     "data": {
      "text/plain": [
       "['Computer System']"
      ]
     },
     "execution_count": 74,
     "metadata": {},
     "output_type": "execute_result"
    }
   ],
   "source": [
    "[id2label[idx] for idx, label in enumerate(encoded_ds['train'][15]['labels']) if label == 1.0]"
   ]
  },
  {
   "attachments": {},
   "cell_type": "markdown",
   "metadata": {},
   "source": [
    "# Model training"
   ]
  },
  {
   "cell_type": "code",
   "execution_count": 75,
   "metadata": {},
   "outputs": [
    {
     "name": "stdout",
     "output_type": "stream",
     "text": [
      "Using device: cuda\n",
      "\n"
     ]
    }
   ],
   "source": [
    "# TODO:  tokenize text, feature extraction, multilabel classification\n",
    "import torch\n",
    "from torch import cuda\n",
    "device = torch.device('cuda' if torch.cuda.is_available() else 'cpu')\n",
    "print('Using device:', device)\n",
    "print()\n",
    "\n",
    "encoded_ds.set_format(\"torch\")"
   ]
  },
  {
   "cell_type": "code",
   "execution_count": 76,
   "metadata": {},
   "outputs": [
    {
     "name": "stderr",
     "output_type": "stream",
     "text": [
      "loading configuration file config.json from cache at C:\\Users\\user/.cache\\huggingface\\hub\\models--bert-base-uncased\\snapshots\\0a6aa9128b6194f4f3c4db429b6cb4891cdb421b\\config.json\n",
      "Model config BertConfig {\n",
      "  \"_name_or_path\": \"bert-base-uncased\",\n",
      "  \"architectures\": [\n",
      "    \"BertForMaskedLM\"\n",
      "  ],\n",
      "  \"attention_probs_dropout_prob\": 0.1,\n",
      "  \"classifier_dropout\": null,\n",
      "  \"gradient_checkpointing\": false,\n",
      "  \"hidden_act\": \"gelu\",\n",
      "  \"hidden_dropout_prob\": 0.1,\n",
      "  \"hidden_size\": 768,\n",
      "  \"id2label\": {\n",
      "    \"0\": \"Algorithm Design\",\n",
      "    \"1\": \"Communication Software and Protocols\",\n",
      "    \"2\": \"Computer System\",\n",
      "    \"3\": \"Data Manipulation and Analysis\",\n",
      "    \"4\": \"Data Organisation and Data Control\",\n",
      "    \"5\": \"Database\",\n",
      "    \"6\": \"Elementary Web Authoring\",\n",
      "    \"7\": \"Health and Ethical Issues\",\n",
      "    \"8\": \"Input and Output Devices\",\n",
      "    \"9\": \"Intellectual Property\",\n",
      "    \"10\": \"Internet Services and Applications\",\n",
      "    \"11\": \"Introduction to HTML\",\n",
      "    \"12\": \"Introduction to Information Processing\",\n",
      "    \"13\": \"Multimedia Elements\",\n",
      "    \"14\": \"Number System\",\n",
      "    \"15\": \"Problem- Formulation and Analysis\",\n",
      "    \"16\": \"Program Development\",\n",
      "    \"17\": \"Program Testing and Debugging\",\n",
      "    \"18\": \"Secondary Storage Devices\",\n",
      "    \"19\": \"Spreadsheet\",\n",
      "    \"20\": \"System Software\",\n",
      "    \"21\": \"System Unit of a Computer System\",\n",
      "    \"22\": \"The Networking and Internet Basics\",\n",
      "    \"23\": \"Threats and Security on the Internet\",\n",
      "    \"24\": \"Word Presentation\"\n",
      "  },\n",
      "  \"initializer_range\": 0.02,\n",
      "  \"intermediate_size\": 3072,\n",
      "  \"label2id\": {\n",
      "    \"Algorithm Design\": 0,\n",
      "    \"Communication Software and Protocols\": 1,\n",
      "    \"Computer System\": 2,\n",
      "    \"Data Manipulation and Analysis\": 3,\n",
      "    \"Data Organisation and Data Control\": 4,\n",
      "    \"Database\": 5,\n",
      "    \"Elementary Web Authoring\": 6,\n",
      "    \"Health and Ethical Issues\": 7,\n",
      "    \"Input and Output Devices\": 8,\n",
      "    \"Intellectual Property\": 9,\n",
      "    \"Internet Services and Applications\": 10,\n",
      "    \"Introduction to HTML\": 11,\n",
      "    \"Introduction to Information Processing\": 12,\n",
      "    \"Multimedia Elements\": 13,\n",
      "    \"Number System\": 14,\n",
      "    \"Problem- Formulation and Analysis\": 15,\n",
      "    \"Program Development\": 16,\n",
      "    \"Program Testing and Debugging\": 17,\n",
      "    \"Secondary Storage Devices\": 18,\n",
      "    \"Spreadsheet\": 19,\n",
      "    \"System Software\": 20,\n",
      "    \"System Unit of a Computer System\": 21,\n",
      "    \"The Networking and Internet Basics\": 22,\n",
      "    \"Threats and Security on the Internet\": 23,\n",
      "    \"Word Presentation\": 24\n",
      "  },\n",
      "  \"layer_norm_eps\": 1e-12,\n",
      "  \"max_position_embeddings\": 512,\n",
      "  \"model_type\": \"bert\",\n",
      "  \"num_attention_heads\": 12,\n",
      "  \"num_hidden_layers\": 12,\n",
      "  \"pad_token_id\": 0,\n",
      "  \"position_embedding_type\": \"absolute\",\n",
      "  \"problem_type\": \"multi_label_classification\",\n",
      "  \"transformers_version\": \"4.26.0\",\n",
      "  \"type_vocab_size\": 2,\n",
      "  \"use_cache\": true,\n",
      "  \"vocab_size\": 30522\n",
      "}\n",
      "\n",
      "loading weights file pytorch_model.bin from cache at C:\\Users\\user/.cache\\huggingface\\hub\\models--bert-base-uncased\\snapshots\\0a6aa9128b6194f4f3c4db429b6cb4891cdb421b\\pytorch_model.bin\n",
      "Some weights of the model checkpoint at bert-base-uncased were not used when initializing BertForSequenceClassification: ['cls.predictions.bias', 'cls.predictions.transform.LayerNorm.bias', 'cls.predictions.transform.dense.weight', 'cls.predictions.transform.LayerNorm.weight', 'cls.predictions.transform.dense.bias', 'cls.seq_relationship.weight', 'cls.predictions.decoder.weight', 'cls.seq_relationship.bias']\n",
      "- This IS expected if you are initializing BertForSequenceClassification from the checkpoint of a model trained on another task or with another architecture (e.g. initializing a BertForSequenceClassification model from a BertForPreTraining model).\n",
      "- This IS NOT expected if you are initializing BertForSequenceClassification from the checkpoint of a model that you expect to be exactly identical (initializing a BertForSequenceClassification model from a BertForSequenceClassification model).\n",
      "Some weights of BertForSequenceClassification were not initialized from the model checkpoint at bert-base-uncased and are newly initialized: ['classifier.weight', 'classifier.bias']\n",
      "You should probably TRAIN this model on a down-stream task to be able to use it for predictions and inference.\n"
     ]
    }
   ],
   "source": [
    "from transformers import AutoModelForSequenceClassification\n",
    "# define model\n",
    "model = AutoModelForSequenceClassification.from_pretrained(\"bert-base-uncased\", problem_type=\"multi_label_classification\", num_labels=len(labels), id2label=id2label, label2id=label2id)\n",
    "model.cuda()"
   ]
  },
  {
   "cell_type": "code",
   "execution_count": 77,
   "metadata": {},
   "outputs": [],
   "source": [
    "# train model\n",
    "batch_size = 8\n",
    "metric_name = \"f1\""
   ]
  },
  {
   "cell_type": "code",
   "execution_count": 78,
   "metadata": {},
   "outputs": [
    {
     "name": "stderr",
     "output_type": "stream",
     "text": [
      "PyTorch: setting up devices\n",
      "The default value for the training argument `--report_to` will change in v5 (from all installed integrations to none). In v5, you will need to use `--report_to all` to get the same behavior as now. You should start updating your code and make this info disappear :-).\n"
     ]
    }
   ],
   "source": [
    "from transformers import TrainingArguments, Trainer\n",
    "\n",
    "args = TrainingArguments(\n",
    "    f\"nbroad/ESG-BERT\",\n",
    "    evaluation_strategy = \"epoch\",\n",
    "    save_strategy = \"epoch\",\n",
    "    learning_rate=2e-5,\n",
    "    per_device_train_batch_size=batch_size,\n",
    "    per_device_eval_batch_size=batch_size,\n",
    "    num_train_epochs= 30,\n",
    "    weight_decay=0.01,\n",
    "    load_best_model_at_end=True,\n",
    "    metric_for_best_model=metric_name,\n",
    ")"
   ]
  },
  {
   "cell_type": "code",
   "execution_count": 79,
   "metadata": {},
   "outputs": [],
   "source": [
    "from sklearn.metrics import f1_score, roc_auc_score, accuracy_score\n",
    "from transformers import EvalPrediction\n",
    "    \n",
    "def multi_label_metrics(predictions, labels, threshold=0.5):\n",
    "    # apply sigmoid on predictions fitting (batch_size, num_labels)\n",
    "    sigmoid = torch.nn.Sigmoid()\n",
    "    probs = sigmoid(torch.Tensor(predictions))\n",
    "    # use threshold to turn them into integer predictions\n",
    "    y_pred = np.zeros(probs.shape)\n",
    "    y_pred[np.where(probs >= threshold)] = 1\n",
    "    # compute metrics\n",
    "    y_true = labels\n",
    "    f1_micro_average = f1_score(y_true=y_true, y_pred=y_pred, average='micro')\n",
    "    roc_auc = roc_auc_score(y_true, y_pred, average = 'micro')\n",
    "    accuracy = accuracy_score(y_true, y_pred)\n",
    "    # return as dictionary\n",
    "    metrics = {'f1': f1_micro_average,\n",
    "               'roc_auc': roc_auc,\n",
    "               'accuracy': accuracy}\n",
    "    return metrics\n",
    "\n",
    "def compute_metrics(p: EvalPrediction):\n",
    "    preds = p.predictions[0] if isinstance(p.predictions, \n",
    "            tuple) else p.predictions\n",
    "    result = multi_label_metrics(\n",
    "        predictions=preds, \n",
    "        labels=p.label_ids)\n",
    "    return result"
   ]
  },
  {
   "cell_type": "code",
   "execution_count": 80,
   "metadata": {},
   "outputs": [
    {
     "data": {
      "text/plain": [
       "'torch.FloatTensor'"
      ]
     },
     "execution_count": 80,
     "metadata": {},
     "output_type": "execute_result"
    }
   ],
   "source": [
    "encoded_ds['train'][0]['labels'].type()"
   ]
  },
  {
   "cell_type": "code",
   "execution_count": 81,
   "metadata": {},
   "outputs": [
    {
     "data": {
      "text/plain": [
       "tensor([  101,  2302,  2035, 27483,  2062,  5527,  4496, 11243, 13379,  1010,\n",
       "         6592,  2048,  4725,  2000,  5547,  1996,  5371,  2946,  1997,  1996,\n",
       "         7760,  1012,   102,     0,     0,     0,     0,     0,     0,     0,\n",
       "            0,     0,     0,     0,     0,     0,     0,     0,     0,     0,\n",
       "            0,     0,     0,     0,     0,     0,     0,     0,     0,     0,\n",
       "            0,     0,     0,     0,     0,     0,     0,     0,     0,     0,\n",
       "            0,     0,     0,     0,     0,     0,     0,     0,     0,     0])"
      ]
     },
     "execution_count": 81,
     "metadata": {},
     "output_type": "execute_result"
    }
   ],
   "source": [
    "encoded_ds['train']['input_ids'][0]"
   ]
  },
  {
   "cell_type": "code",
   "execution_count": 82,
   "metadata": {},
   "outputs": [
    {
     "data": {
      "text/plain": [
       "SequenceClassifierOutput(loss=tensor(0.6953, grad_fn=<BinaryCrossEntropyWithLogitsBackward0>), logits=tensor([[-0.2095,  0.2323, -0.1532,  0.1598, -0.1179, -0.3531, -0.2512,  0.6429,\n",
       "          0.7513, -0.0927,  0.0568, -0.4112,  0.1029, -0.2111,  0.1010,  0.1352,\n",
       "         -0.1768, -0.1278, -0.1133,  0.1024, -0.0047,  0.0091, -0.4164, -0.1585,\n",
       "         -0.2920]], grad_fn=<AddmmBackward0>), hidden_states=None, attentions=None)"
      ]
     },
     "execution_count": 82,
     "metadata": {},
     "output_type": "execute_result"
    }
   ],
   "source": [
    "#forward pass\n",
    "outputs = model(input_ids=encoded_ds['train']['input_ids'][0].unsqueeze(0), labels=encoded_ds['train'][0]['labels'].unsqueeze(0))\n",
    "outputs"
   ]
  },
  {
   "cell_type": "code",
   "execution_count": 83,
   "metadata": {},
   "outputs": [],
   "source": [
    "trainer = Trainer(\n",
    "    model,\n",
    "    args,\n",
    "    train_dataset=encoded_ds[\"train\"],\n",
    "    eval_dataset=encoded_ds[\"valid\"],\n",
    "    tokenizer=tokenizer,\n",
    "    compute_metrics=compute_metrics\n",
    ")"
   ]
  },
  {
   "cell_type": "code",
   "execution_count": 84,
   "metadata": {},
   "outputs": [
    {
     "name": "stderr",
     "output_type": "stream",
     "text": [
      "c:\\Users\\user\\Desktop\\QuestionQuestionModel\\venv\\lib\\site-packages\\transformers\\optimization.py:306: FutureWarning: This implementation of AdamW is deprecated and will be removed in a future version. Use the PyTorch implementation torch.optim.AdamW instead, or set `no_deprecation_warning=True` to disable this warning\n",
      "  warnings.warn(\n",
      "***** Running training *****\n",
      "  Num examples = 342\n",
      "  Num Epochs = 30\n",
      "  Instantaneous batch size per device = 8\n",
      "  Total train batch size (w. parallel, distributed & accumulation) = 8\n",
      "  Gradient Accumulation steps = 1\n",
      "  Total optimization steps = 1290\n",
      "  Number of trainable parameters = 109501465\n",
      "  0%|          | 0/1290 [00:00<?, ?it/s]You're using a BertTokenizerFast tokenizer. Please note that with a fast tokenizer, using the `__call__` method is faster than using a method to encode the text followed by a call to the `pad` method to get a padded encoding.\n",
      "  3%|▎         | 42/1290 [00:03<01:56, 10.73it/s]***** Running Evaluation *****\n",
      "  Num examples = 43\n",
      "  Batch size = 8\n",
      "\n",
      "  3%|▎         | 43/1290 [00:04<01:56, 10.73it/s]Saving model checkpoint to nbroad/ESG-BERT\\checkpoint-43\n",
      "Configuration saved in nbroad/ESG-BERT\\checkpoint-43\\config.json\n"
     ]
    },
    {
     "name": "stdout",
     "output_type": "stream",
     "text": [
      "{'eval_loss': 0.3255498707294464, 'eval_f1': 0.0, 'eval_roc_auc': 0.5, 'eval_accuracy': 0.0, 'eval_runtime': 0.1348, 'eval_samples_per_second': 319.07, 'eval_steps_per_second': 44.521, 'epoch': 1.0}\n"
     ]
    },
    {
     "name": "stderr",
     "output_type": "stream",
     "text": [
      "Model weights saved in nbroad/ESG-BERT\\checkpoint-43\\pytorch_model.bin\n",
      "tokenizer config file saved in nbroad/ESG-BERT\\checkpoint-43\\tokenizer_config.json\n",
      "Special tokens file saved in nbroad/ESG-BERT\\checkpoint-43\\special_tokens_map.json\n",
      "  7%|▋         | 85/1290 [00:13<01:52, 10.69it/s]***** Running Evaluation *****\n",
      "  Num examples = 43\n",
      "  Batch size = 8\n",
      "\n",
      "  7%|▋         | 86/1290 [00:13<01:52, 10.69it/s]Saving model checkpoint to nbroad/ESG-BERT\\checkpoint-86\n",
      "Configuration saved in nbroad/ESG-BERT\\checkpoint-86\\config.json\n"
     ]
    },
    {
     "name": "stdout",
     "output_type": "stream",
     "text": [
      "{'eval_loss': 0.22899845242500305, 'eval_f1': 0.0, 'eval_roc_auc': 0.5, 'eval_accuracy': 0.0, 'eval_runtime': 0.1342, 'eval_samples_per_second': 320.325, 'eval_steps_per_second': 44.696, 'epoch': 2.0}\n"
     ]
    },
    {
     "name": "stderr",
     "output_type": "stream",
     "text": [
      "Model weights saved in nbroad/ESG-BERT\\checkpoint-86\\pytorch_model.bin\n",
      "tokenizer config file saved in nbroad/ESG-BERT\\checkpoint-86\\tokenizer_config.json\n",
      "Special tokens file saved in nbroad/ESG-BERT\\checkpoint-86\\special_tokens_map.json\n",
      " 10%|█         | 129/1290 [00:19<01:46, 10.89it/s]***** Running Evaluation *****\n",
      "  Num examples = 43\n",
      "  Batch size = 8\n",
      "\n",
      " 10%|█         | 129/1290 [00:19<01:46, 10.89it/s]Saving model checkpoint to nbroad/ESG-BERT\\checkpoint-129\n",
      "Configuration saved in nbroad/ESG-BERT\\checkpoint-129\\config.json\n"
     ]
    },
    {
     "name": "stdout",
     "output_type": "stream",
     "text": [
      "{'eval_loss': 0.19950897991657257, 'eval_f1': 0.0, 'eval_roc_auc': 0.5, 'eval_accuracy': 0.0, 'eval_runtime': 0.1357, 'eval_samples_per_second': 316.946, 'eval_steps_per_second': 44.225, 'epoch': 3.0}\n"
     ]
    },
    {
     "name": "stderr",
     "output_type": "stream",
     "text": [
      "Model weights saved in nbroad/ESG-BERT\\checkpoint-129\\pytorch_model.bin\n",
      "tokenizer config file saved in nbroad/ESG-BERT\\checkpoint-129\\tokenizer_config.json\n",
      "Special tokens file saved in nbroad/ESG-BERT\\checkpoint-129\\special_tokens_map.json\n",
      " 13%|█▎        | 171/1290 [00:25<01:43, 10.82it/s]***** Running Evaluation *****\n",
      "  Num examples = 43\n",
      "  Batch size = 8\n",
      "\n",
      " 13%|█▎        | 172/1290 [00:25<01:43, 10.82it/s]Saving model checkpoint to nbroad/ESG-BERT\\checkpoint-172\n",
      "Configuration saved in nbroad/ESG-BERT\\checkpoint-172\\config.json\n"
     ]
    },
    {
     "name": "stdout",
     "output_type": "stream",
     "text": [
      "{'eval_loss': 0.18849807977676392, 'eval_f1': 0.0, 'eval_roc_auc': 0.5, 'eval_accuracy': 0.0, 'eval_runtime': 0.1342, 'eval_samples_per_second': 320.451, 'eval_steps_per_second': 44.714, 'epoch': 4.0}\n"
     ]
    },
    {
     "name": "stderr",
     "output_type": "stream",
     "text": [
      "Model weights saved in nbroad/ESG-BERT\\checkpoint-172\\pytorch_model.bin\n",
      "tokenizer config file saved in nbroad/ESG-BERT\\checkpoint-172\\tokenizer_config.json\n",
      "Special tokens file saved in nbroad/ESG-BERT\\checkpoint-172\\special_tokens_map.json\n",
      " 17%|█▋        | 215/1290 [00:31<01:38, 10.90it/s]***** Running Evaluation *****\n",
      "  Num examples = 43\n",
      "  Batch size = 8\n",
      "\n",
      " 17%|█▋        | 215/1290 [00:31<01:38, 10.90it/s]Saving model checkpoint to nbroad/ESG-BERT\\checkpoint-215\n",
      "Configuration saved in nbroad/ESG-BERT\\checkpoint-215\\config.json\n"
     ]
    },
    {
     "name": "stdout",
     "output_type": "stream",
     "text": [
      "{'eval_loss': 0.18158204853534698, 'eval_f1': 0.0, 'eval_roc_auc': 0.5, 'eval_accuracy': 0.0, 'eval_runtime': 0.1362, 'eval_samples_per_second': 315.732, 'eval_steps_per_second': 44.056, 'epoch': 5.0}\n"
     ]
    },
    {
     "name": "stderr",
     "output_type": "stream",
     "text": [
      "Model weights saved in nbroad/ESG-BERT\\checkpoint-215\\pytorch_model.bin\n",
      "tokenizer config file saved in nbroad/ESG-BERT\\checkpoint-215\\tokenizer_config.json\n",
      "Special tokens file saved in nbroad/ESG-BERT\\checkpoint-215\\special_tokens_map.json\n",
      " 20%|█▉        | 257/1290 [00:37<01:35, 10.77it/s]***** Running Evaluation *****\n",
      "  Num examples = 43\n",
      "  Batch size = 8\n",
      "\n",
      " 20%|██        | 258/1290 [00:37<01:35, 10.77it/s]Saving model checkpoint to nbroad/ESG-BERT\\checkpoint-258\n",
      "Configuration saved in nbroad/ESG-BERT\\checkpoint-258\\config.json\n"
     ]
    },
    {
     "name": "stdout",
     "output_type": "stream",
     "text": [
      "{'eval_loss': 0.1751895695924759, 'eval_f1': 0.0, 'eval_roc_auc': 0.5, 'eval_accuracy': 0.0, 'eval_runtime': 0.1347, 'eval_samples_per_second': 319.325, 'eval_steps_per_second': 44.557, 'epoch': 6.0}\n"
     ]
    },
    {
     "name": "stderr",
     "output_type": "stream",
     "text": [
      "Model weights saved in nbroad/ESG-BERT\\checkpoint-258\\pytorch_model.bin\n",
      "tokenizer config file saved in nbroad/ESG-BERT\\checkpoint-258\\tokenizer_config.json\n",
      "Special tokens file saved in nbroad/ESG-BERT\\checkpoint-258\\special_tokens_map.json\n",
      " 23%|██▎       | 301/1290 [00:42<01:30, 10.92it/s]***** Running Evaluation *****\n",
      "  Num examples = 43\n",
      "  Batch size = 8\n",
      "\n",
      " 23%|██▎       | 301/1290 [00:43<01:30, 10.92it/s]Saving model checkpoint to nbroad/ESG-BERT\\checkpoint-301\n",
      "Configuration saved in nbroad/ESG-BERT\\checkpoint-301\\config.json\n"
     ]
    },
    {
     "name": "stdout",
     "output_type": "stream",
     "text": [
      "{'eval_loss': 0.1674644649028778, 'eval_f1': 0.0, 'eval_roc_auc': 0.5, 'eval_accuracy': 0.0, 'eval_runtime': 0.1316, 'eval_samples_per_second': 326.785, 'eval_steps_per_second': 45.598, 'epoch': 7.0}\n"
     ]
    },
    {
     "name": "stderr",
     "output_type": "stream",
     "text": [
      "Model weights saved in nbroad/ESG-BERT\\checkpoint-301\\pytorch_model.bin\n",
      "tokenizer config file saved in nbroad/ESG-BERT\\checkpoint-301\\tokenizer_config.json\n",
      "Special tokens file saved in nbroad/ESG-BERT\\checkpoint-301\\special_tokens_map.json\n",
      " 27%|██▋       | 343/1290 [00:48<01:28, 10.74it/s]***** Running Evaluation *****\n",
      "  Num examples = 43\n",
      "  Batch size = 8\n",
      "\n",
      " 27%|██▋       | 344/1290 [00:49<01:28, 10.74it/s]Saving model checkpoint to nbroad/ESG-BERT\\checkpoint-344\n",
      "Configuration saved in nbroad/ESG-BERT\\checkpoint-344\\config.json\n"
     ]
    },
    {
     "name": "stdout",
     "output_type": "stream",
     "text": [
      "{'eval_loss': 0.16200415790081024, 'eval_f1': 0.0, 'eval_roc_auc': 0.5, 'eval_accuracy': 0.0, 'eval_runtime': 0.136, 'eval_samples_per_second': 316.242, 'eval_steps_per_second': 44.127, 'epoch': 8.0}\n"
     ]
    },
    {
     "name": "stderr",
     "output_type": "stream",
     "text": [
      "Model weights saved in nbroad/ESG-BERT\\checkpoint-344\\pytorch_model.bin\n",
      "tokenizer config file saved in nbroad/ESG-BERT\\checkpoint-344\\tokenizer_config.json\n",
      "Special tokens file saved in nbroad/ESG-BERT\\checkpoint-344\\special_tokens_map.json\n",
      " 30%|███       | 387/1290 [00:54<01:22, 10.93it/s]***** Running Evaluation *****\n",
      "  Num examples = 43\n",
      "  Batch size = 8\n",
      "\n",
      " 30%|███       | 387/1290 [00:54<01:22, 10.93it/s]Saving model checkpoint to nbroad/ESG-BERT\\checkpoint-387\n",
      "Configuration saved in nbroad/ESG-BERT\\checkpoint-387\\config.json\n"
     ]
    },
    {
     "name": "stdout",
     "output_type": "stream",
     "text": [
      "{'eval_loss': 0.1563015878200531, 'eval_f1': 0.11320754716981131, 'eval_roc_auc': 0.53, 'eval_accuracy': 0.0, 'eval_runtime': 0.1381, 'eval_samples_per_second': 311.474, 'eval_steps_per_second': 43.461, 'epoch': 9.0}\n"
     ]
    },
    {
     "name": "stderr",
     "output_type": "stream",
     "text": [
      "Model weights saved in nbroad/ESG-BERT\\checkpoint-387\\pytorch_model.bin\n",
      "tokenizer config file saved in nbroad/ESG-BERT\\checkpoint-387\\tokenizer_config.json\n",
      "Special tokens file saved in nbroad/ESG-BERT\\checkpoint-387\\special_tokens_map.json\n",
      " 33%|███▎      | 429/1290 [01:00<01:23, 10.33it/s]***** Running Evaluation *****\n",
      "  Num examples = 43\n",
      "  Batch size = 8\n",
      "\n",
      " 33%|███▎      | 430/1290 [01:00<01:23, 10.33it/s]Saving model checkpoint to nbroad/ESG-BERT\\checkpoint-430\n",
      "Configuration saved in nbroad/ESG-BERT\\checkpoint-430\\config.json\n"
     ]
    },
    {
     "name": "stdout",
     "output_type": "stream",
     "text": [
      "{'eval_loss': 0.14997489750385284, 'eval_f1': 0.21428571428571425, 'eval_roc_auc': 0.56, 'eval_accuracy': 0.06976744186046512, 'eval_runtime': 0.1375, 'eval_samples_per_second': 312.67, 'eval_steps_per_second': 43.628, 'epoch': 10.0}\n"
     ]
    },
    {
     "name": "stderr",
     "output_type": "stream",
     "text": [
      "Model weights saved in nbroad/ESG-BERT\\checkpoint-430\\pytorch_model.bin\n",
      "tokenizer config file saved in nbroad/ESG-BERT\\checkpoint-430\\tokenizer_config.json\n",
      "Special tokens file saved in nbroad/ESG-BERT\\checkpoint-430\\special_tokens_map.json\n",
      " 37%|███▋      | 473/1290 [01:21<01:14, 10.95it/s]***** Running Evaluation *****\n",
      "  Num examples = 43\n",
      "  Batch size = 8\n",
      "\n",
      " 37%|███▋      | 473/1290 [01:21<01:14, 10.95it/s]Saving model checkpoint to nbroad/ESG-BERT\\checkpoint-473\n",
      "Configuration saved in nbroad/ESG-BERT\\checkpoint-473\\config.json\n"
     ]
    },
    {
     "name": "stdout",
     "output_type": "stream",
     "text": [
      "{'eval_loss': 0.14471140503883362, 'eval_f1': 0.21428571428571425, 'eval_roc_auc': 0.56, 'eval_accuracy': 0.06976744186046512, 'eval_runtime': 0.1349, 'eval_samples_per_second': 318.792, 'eval_steps_per_second': 44.483, 'epoch': 11.0}\n"
     ]
    },
    {
     "name": "stderr",
     "output_type": "stream",
     "text": [
      "Model weights saved in nbroad/ESG-BERT\\checkpoint-473\\pytorch_model.bin\n",
      "tokenizer config file saved in nbroad/ESG-BERT\\checkpoint-473\\tokenizer_config.json\n",
      "Special tokens file saved in nbroad/ESG-BERT\\checkpoint-473\\special_tokens_map.json\n",
      " 39%|███▉      | 501/1290 [01:26<01:16, 10.30it/s]"
     ]
    },
    {
     "name": "stdout",
     "output_type": "stream",
     "text": [
      "{'loss': 0.2055, 'learning_rate': 1.2248062015503876e-05, 'epoch': 11.63}\n"
     ]
    },
    {
     "name": "stderr",
     "output_type": "stream",
     "text": [
      " 40%|███▉      | 515/1290 [01:27<01:11, 10.85it/s]***** Running Evaluation *****\n",
      "  Num examples = 43\n",
      "  Batch size = 8\n",
      "\n",
      " 40%|████      | 516/1290 [01:27<01:11, 10.85it/s]Saving model checkpoint to nbroad/ESG-BERT\\checkpoint-516\n",
      "Configuration saved in nbroad/ESG-BERT\\checkpoint-516\\config.json\n"
     ]
    },
    {
     "name": "stdout",
     "output_type": "stream",
     "text": [
      "{'eval_loss': 0.14044585824012756, 'eval_f1': 0.18181818181818182, 'eval_roc_auc': 0.55, 'eval_accuracy': 0.046511627906976744, 'eval_runtime': 0.1347, 'eval_samples_per_second': 319.332, 'eval_steps_per_second': 44.558, 'epoch': 12.0}\n"
     ]
    },
    {
     "name": "stderr",
     "output_type": "stream",
     "text": [
      "Model weights saved in nbroad/ESG-BERT\\checkpoint-516\\pytorch_model.bin\n",
      "tokenizer config file saved in nbroad/ESG-BERT\\checkpoint-516\\tokenizer_config.json\n",
      "Special tokens file saved in nbroad/ESG-BERT\\checkpoint-516\\special_tokens_map.json\n",
      " 43%|████▎     | 559/1290 [01:46<01:06, 10.95it/s]***** Running Evaluation *****\n",
      "  Num examples = 43\n",
      "  Batch size = 8\n",
      "\n",
      " 43%|████▎     | 559/1290 [01:46<01:06, 10.95it/s]Saving model checkpoint to nbroad/ESG-BERT\\checkpoint-559\n",
      "Configuration saved in nbroad/ESG-BERT\\checkpoint-559\\config.json\n"
     ]
    },
    {
     "name": "stdout",
     "output_type": "stream",
     "text": [
      "{'eval_loss': 0.1365732103586197, 'eval_f1': 0.24561403508771928, 'eval_roc_auc': 0.5700000000000001, 'eval_accuracy': 0.06976744186046512, 'eval_runtime': 0.1342, 'eval_samples_per_second': 320.368, 'eval_steps_per_second': 44.703, 'epoch': 13.0}\n"
     ]
    },
    {
     "name": "stderr",
     "output_type": "stream",
     "text": [
      "Model weights saved in nbroad/ESG-BERT\\checkpoint-559\\pytorch_model.bin\n",
      "tokenizer config file saved in nbroad/ESG-BERT\\checkpoint-559\\tokenizer_config.json\n",
      "Special tokens file saved in nbroad/ESG-BERT\\checkpoint-559\\special_tokens_map.json\n",
      " 47%|████▋     | 601/1290 [01:52<01:02, 11.00it/s]***** Running Evaluation *****\n",
      "  Num examples = 43\n",
      "  Batch size = 8\n",
      "\n",
      " 47%|████▋     | 602/1290 [01:52<01:02, 11.00it/s]Saving model checkpoint to nbroad/ESG-BERT\\checkpoint-602\n",
      "Configuration saved in nbroad/ESG-BERT\\checkpoint-602\\config.json\n"
     ]
    },
    {
     "name": "stdout",
     "output_type": "stream",
     "text": [
      "{'eval_loss': 0.13116984069347382, 'eval_f1': 0.2758620689655173, 'eval_roc_auc': 0.58, 'eval_accuracy': 0.06976744186046512, 'eval_runtime': 0.1324, 'eval_samples_per_second': 324.852, 'eval_steps_per_second': 45.328, 'epoch': 14.0}\n"
     ]
    },
    {
     "name": "stderr",
     "output_type": "stream",
     "text": [
      "Model weights saved in nbroad/ESG-BERT\\checkpoint-602\\pytorch_model.bin\n",
      "tokenizer config file saved in nbroad/ESG-BERT\\checkpoint-602\\tokenizer_config.json\n",
      "Special tokens file saved in nbroad/ESG-BERT\\checkpoint-602\\special_tokens_map.json\n",
      " 50%|█████     | 645/1290 [02:00<00:57, 11.15it/s]***** Running Evaluation *****\n",
      "  Num examples = 43\n",
      "  Batch size = 8\n",
      "\n",
      " 50%|█████     | 645/1290 [02:00<00:57, 11.15it/s]Saving model checkpoint to nbroad/ESG-BERT\\checkpoint-645\n",
      "Configuration saved in nbroad/ESG-BERT\\checkpoint-645\\config.json\n"
     ]
    },
    {
     "name": "stdout",
     "output_type": "stream",
     "text": [
      "{'eval_loss': 0.12622402608394623, 'eval_f1': 0.3050847457627119, 'eval_roc_auc': 0.59, 'eval_accuracy': 0.09302325581395349, 'eval_runtime': 0.1339, 'eval_samples_per_second': 321.161, 'eval_steps_per_second': 44.813, 'epoch': 15.0}\n"
     ]
    },
    {
     "name": "stderr",
     "output_type": "stream",
     "text": [
      "Model weights saved in nbroad/ESG-BERT\\checkpoint-645\\pytorch_model.bin\n",
      "tokenizer config file saved in nbroad/ESG-BERT\\checkpoint-645\\tokenizer_config.json\n",
      "Special tokens file saved in nbroad/ESG-BERT\\checkpoint-645\\special_tokens_map.json\n",
      " 53%|█████▎    | 687/1290 [02:06<00:55, 10.91it/s]***** Running Evaluation *****\n",
      "  Num examples = 43\n",
      "  Batch size = 8\n",
      "\n",
      " 53%|█████▎    | 688/1290 [02:06<00:55, 10.91it/s]Saving model checkpoint to nbroad/ESG-BERT\\checkpoint-688\n",
      "Configuration saved in nbroad/ESG-BERT\\checkpoint-688\\config.json\n"
     ]
    },
    {
     "name": "stdout",
     "output_type": "stream",
     "text": [
      "{'eval_loss': 0.1233050525188446, 'eval_f1': 0.3050847457627119, 'eval_roc_auc': 0.59, 'eval_accuracy': 0.09302325581395349, 'eval_runtime': 0.1346, 'eval_samples_per_second': 319.357, 'eval_steps_per_second': 44.561, 'epoch': 16.0}\n"
     ]
    },
    {
     "name": "stderr",
     "output_type": "stream",
     "text": [
      "Model weights saved in nbroad/ESG-BERT\\checkpoint-688\\pytorch_model.bin\n",
      "tokenizer config file saved in nbroad/ESG-BERT\\checkpoint-688\\tokenizer_config.json\n",
      "Special tokens file saved in nbroad/ESG-BERT\\checkpoint-688\\special_tokens_map.json\n",
      " 57%|█████▋    | 731/1290 [02:12<00:50, 11.16it/s]***** Running Evaluation *****\n",
      "  Num examples = 43\n",
      "  Batch size = 8\n",
      "\n",
      " 57%|█████▋    | 731/1290 [02:12<00:50, 11.16it/s]Saving model checkpoint to nbroad/ESG-BERT\\checkpoint-731\n",
      "Configuration saved in nbroad/ESG-BERT\\checkpoint-731\\config.json\n"
     ]
    },
    {
     "name": "stdout",
     "output_type": "stream",
     "text": [
      "{'eval_loss': 0.12035921216011047, 'eval_f1': 0.3050847457627119, 'eval_roc_auc': 0.59, 'eval_accuracy': 0.09302325581395349, 'eval_runtime': 0.1363, 'eval_samples_per_second': 315.488, 'eval_steps_per_second': 44.022, 'epoch': 17.0}\n"
     ]
    },
    {
     "name": "stderr",
     "output_type": "stream",
     "text": [
      "Model weights saved in nbroad/ESG-BERT\\checkpoint-731\\pytorch_model.bin\n",
      "tokenizer config file saved in nbroad/ESG-BERT\\checkpoint-731\\tokenizer_config.json\n",
      "Special tokens file saved in nbroad/ESG-BERT\\checkpoint-731\\special_tokens_map.json\n",
      " 60%|█████▉    | 773/1290 [02:26<00:47, 10.85it/s]***** Running Evaluation *****\n",
      "  Num examples = 43\n",
      "  Batch size = 8\n",
      "\n",
      " 60%|██████    | 774/1290 [02:26<00:47, 10.85it/s]Saving model checkpoint to nbroad/ESG-BERT\\checkpoint-774\n",
      "Configuration saved in nbroad/ESG-BERT\\checkpoint-774\\config.json\n"
     ]
    },
    {
     "name": "stdout",
     "output_type": "stream",
     "text": [
      "{'eval_loss': 0.1178024411201477, 'eval_f1': 0.43750000000000006, 'eval_roc_auc': 0.64, 'eval_accuracy': 0.20930232558139536, 'eval_runtime': 0.1379, 'eval_samples_per_second': 311.769, 'eval_steps_per_second': 43.503, 'epoch': 18.0}\n"
     ]
    },
    {
     "name": "stderr",
     "output_type": "stream",
     "text": [
      "Model weights saved in nbroad/ESG-BERT\\checkpoint-774\\pytorch_model.bin\n",
      "tokenizer config file saved in nbroad/ESG-BERT\\checkpoint-774\\tokenizer_config.json\n",
      "Special tokens file saved in nbroad/ESG-BERT\\checkpoint-774\\special_tokens_map.json\n",
      " 63%|██████▎   | 817/1290 [02:43<00:42, 11.06it/s]***** Running Evaluation *****\n",
      "  Num examples = 43\n",
      "  Batch size = 8\n",
      "\n",
      " 63%|██████▎   | 817/1290 [02:43<00:42, 11.06it/s]Saving model checkpoint to nbroad/ESG-BERT\\checkpoint-817\n",
      "Configuration saved in nbroad/ESG-BERT\\checkpoint-817\\config.json\n"
     ]
    },
    {
     "name": "stdout",
     "output_type": "stream",
     "text": [
      "{'eval_loss': 0.11568088084459305, 'eval_f1': 0.4615384615384615, 'eval_roc_auc': 0.65, 'eval_accuracy': 0.23255813953488372, 'eval_runtime': 0.1329, 'eval_samples_per_second': 323.662, 'eval_steps_per_second': 45.162, 'epoch': 19.0}\n"
     ]
    },
    {
     "name": "stderr",
     "output_type": "stream",
     "text": [
      "Model weights saved in nbroad/ESG-BERT\\checkpoint-817\\pytorch_model.bin\n",
      "tokenizer config file saved in nbroad/ESG-BERT\\checkpoint-817\\tokenizer_config.json\n",
      "Special tokens file saved in nbroad/ESG-BERT\\checkpoint-817\\special_tokens_map.json\n",
      " 67%|██████▋   | 859/1290 [03:08<00:39, 10.82it/s]***** Running Evaluation *****\n",
      "  Num examples = 43\n",
      "  Batch size = 8\n",
      "\n",
      " 67%|██████▋   | 860/1290 [03:08<00:39, 10.82it/s]Saving model checkpoint to nbroad/ESG-BERT\\checkpoint-860\n",
      "Configuration saved in nbroad/ESG-BERT\\checkpoint-860\\config.json\n"
     ]
    },
    {
     "name": "stdout",
     "output_type": "stream",
     "text": [
      "{'eval_loss': 0.11342690885066986, 'eval_f1': 0.4776119402985075, 'eval_roc_auc': 0.6595121951219513, 'eval_accuracy': 0.2558139534883721, 'eval_runtime': 0.1315, 'eval_samples_per_second': 326.98, 'eval_steps_per_second': 45.625, 'epoch': 20.0}\n"
     ]
    },
    {
     "name": "stderr",
     "output_type": "stream",
     "text": [
      "Model weights saved in nbroad/ESG-BERT\\checkpoint-860\\pytorch_model.bin\n",
      "tokenizer config file saved in nbroad/ESG-BERT\\checkpoint-860\\tokenizer_config.json\n",
      "Special tokens file saved in nbroad/ESG-BERT\\checkpoint-860\\special_tokens_map.json\n",
      " 70%|███████   | 903/1290 [03:17<00:34, 11.19it/s]***** Running Evaluation *****\n",
      "  Num examples = 43\n",
      "  Batch size = 8\n",
      "\n",
      " 70%|███████   | 903/1290 [03:17<00:34, 11.19it/s]Saving model checkpoint to nbroad/ESG-BERT\\checkpoint-903\n",
      "Configuration saved in nbroad/ESG-BERT\\checkpoint-903\\config.json\n"
     ]
    },
    {
     "name": "stdout",
     "output_type": "stream",
     "text": [
      "{'eval_loss': 0.11110803484916687, 'eval_f1': 0.5, 'eval_roc_auc': 0.6695121951219513, 'eval_accuracy': 0.27906976744186046, 'eval_runtime': 0.1318, 'eval_samples_per_second': 326.371, 'eval_steps_per_second': 45.54, 'epoch': 21.0}\n"
     ]
    },
    {
     "name": "stderr",
     "output_type": "stream",
     "text": [
      "Model weights saved in nbroad/ESG-BERT\\checkpoint-903\\pytorch_model.bin\n",
      "tokenizer config file saved in nbroad/ESG-BERT\\checkpoint-903\\tokenizer_config.json\n",
      "Special tokens file saved in nbroad/ESG-BERT\\checkpoint-903\\special_tokens_map.json\n",
      " 73%|███████▎  | 945/1290 [03:24<00:31, 10.98it/s]***** Running Evaluation *****\n",
      "  Num examples = 43\n",
      "  Batch size = 8\n",
      "\n",
      " 73%|███████▎  | 946/1290 [03:24<00:31, 10.98it/s]Saving model checkpoint to nbroad/ESG-BERT\\checkpoint-946\n",
      "Configuration saved in nbroad/ESG-BERT\\checkpoint-946\\config.json\n"
     ]
    },
    {
     "name": "stdout",
     "output_type": "stream",
     "text": [
      "{'eval_loss': 0.11010437458753586, 'eval_f1': 0.5428571428571428, 'eval_roc_auc': 0.6895121951219512, 'eval_accuracy': 0.32558139534883723, 'eval_runtime': 0.1328, 'eval_samples_per_second': 323.687, 'eval_steps_per_second': 45.166, 'epoch': 22.0}\n"
     ]
    },
    {
     "name": "stderr",
     "output_type": "stream",
     "text": [
      "Model weights saved in nbroad/ESG-BERT\\checkpoint-946\\pytorch_model.bin\n",
      "tokenizer config file saved in nbroad/ESG-BERT\\checkpoint-946\\tokenizer_config.json\n",
      "Special tokens file saved in nbroad/ESG-BERT\\checkpoint-946\\special_tokens_map.json\n",
      " 77%|███████▋  | 989/1290 [03:30<00:27, 11.10it/s]***** Running Evaluation *****\n",
      "  Num examples = 43\n",
      "  Batch size = 8\n",
      "\n",
      " 77%|███████▋  | 989/1290 [03:30<00:27, 11.10it/s]Saving model checkpoint to nbroad/ESG-BERT\\checkpoint-989\n",
      "Configuration saved in nbroad/ESG-BERT\\checkpoint-989\\config.json\n"
     ]
    },
    {
     "name": "stdout",
     "output_type": "stream",
     "text": [
      "{'eval_loss': 0.10802863538265228, 'eval_f1': 0.5428571428571428, 'eval_roc_auc': 0.6895121951219512, 'eval_accuracy': 0.32558139534883723, 'eval_runtime': 0.1333, 'eval_samples_per_second': 322.692, 'eval_steps_per_second': 45.027, 'epoch': 23.0}\n"
     ]
    },
    {
     "name": "stderr",
     "output_type": "stream",
     "text": [
      "Model weights saved in nbroad/ESG-BERT\\checkpoint-989\\pytorch_model.bin\n",
      "tokenizer config file saved in nbroad/ESG-BERT\\checkpoint-989\\tokenizer_config.json\n",
      "Special tokens file saved in nbroad/ESG-BERT\\checkpoint-989\\special_tokens_map.json\n",
      " 78%|███████▊  | 1001/1290 [03:34<00:45,  6.36it/s]"
     ]
    },
    {
     "name": "stdout",
     "output_type": "stream",
     "text": [
      "{'loss': 0.1064, 'learning_rate': 4.4961240310077525e-06, 'epoch': 23.26}\n"
     ]
    },
    {
     "name": "stderr",
     "output_type": "stream",
     "text": [
      " 80%|███████▉  | 1031/1290 [03:37<00:23, 10.95it/s]***** Running Evaluation *****\n",
      "  Num examples = 43\n",
      "  Batch size = 8\n",
      "\n",
      " 80%|████████  | 1032/1290 [03:37<00:23, 10.95it/s]Saving model checkpoint to nbroad/ESG-BERT\\checkpoint-1032\n",
      "Configuration saved in nbroad/ESG-BERT\\checkpoint-1032\\config.json\n"
     ]
    },
    {
     "name": "stdout",
     "output_type": "stream",
     "text": [
      "{'eval_loss': 0.10740739107131958, 'eval_f1': 0.5428571428571428, 'eval_roc_auc': 0.6895121951219512, 'eval_accuracy': 0.32558139534883723, 'eval_runtime': 0.1339, 'eval_samples_per_second': 321.107, 'eval_steps_per_second': 44.806, 'epoch': 24.0}\n"
     ]
    },
    {
     "name": "stderr",
     "output_type": "stream",
     "text": [
      "Model weights saved in nbroad/ESG-BERT\\checkpoint-1032\\pytorch_model.bin\n",
      "tokenizer config file saved in nbroad/ESG-BERT\\checkpoint-1032\\tokenizer_config.json\n",
      "Special tokens file saved in nbroad/ESG-BERT\\checkpoint-1032\\special_tokens_map.json\n",
      " 83%|████████▎ | 1075/1290 [03:43<00:19, 11.28it/s]***** Running Evaluation *****\n",
      "  Num examples = 43\n",
      "  Batch size = 8\n",
      "\n",
      " 83%|████████▎ | 1075/1290 [03:44<00:19, 11.28it/s]Saving model checkpoint to nbroad/ESG-BERT\\checkpoint-1075\n",
      "Configuration saved in nbroad/ESG-BERT\\checkpoint-1075\\config.json\n"
     ]
    },
    {
     "name": "stdout",
     "output_type": "stream",
     "text": [
      "{'eval_loss': 0.10615449398756027, 'eval_f1': 0.5428571428571428, 'eval_roc_auc': 0.6895121951219512, 'eval_accuracy': 0.32558139534883723, 'eval_runtime': 0.1302, 'eval_samples_per_second': 330.171, 'eval_steps_per_second': 46.07, 'epoch': 25.0}\n"
     ]
    },
    {
     "name": "stderr",
     "output_type": "stream",
     "text": [
      "Model weights saved in nbroad/ESG-BERT\\checkpoint-1075\\pytorch_model.bin\n",
      "tokenizer config file saved in nbroad/ESG-BERT\\checkpoint-1075\\tokenizer_config.json\n",
      "Special tokens file saved in nbroad/ESG-BERT\\checkpoint-1075\\special_tokens_map.json\n",
      " 87%|████████▋ | 1117/1290 [03:56<00:16, 10.69it/s]***** Running Evaluation *****\n",
      "  Num examples = 43\n",
      "  Batch size = 8\n",
      "\n",
      " 87%|████████▋ | 1118/1290 [03:56<00:16, 10.69it/s]Saving model checkpoint to nbroad/ESG-BERT\\checkpoint-1118\n",
      "Configuration saved in nbroad/ESG-BERT\\checkpoint-1118\\config.json\n",
      " 87%|████████▋ | 1118/1290 [04:06<00:16, 10.69it/s]"
     ]
    },
    {
     "name": "stdout",
     "output_type": "stream",
     "text": [
      "{'eval_loss': 0.10553965717554092, 'eval_f1': 0.5633802816901408, 'eval_roc_auc': 0.6995121951219512, 'eval_accuracy': 0.3488372093023256, 'eval_runtime': 0.1354, 'eval_samples_per_second': 317.687, 'eval_steps_per_second': 44.328, 'epoch': 26.0}\n"
     ]
    },
    {
     "name": "stderr",
     "output_type": "stream",
     "text": [
      "Model weights saved in nbroad/ESG-BERT\\checkpoint-1118\\pytorch_model.bin\n",
      "tokenizer config file saved in nbroad/ESG-BERT\\checkpoint-1118\\tokenizer_config.json\n",
      "Special tokens file saved in nbroad/ESG-BERT\\checkpoint-1118\\special_tokens_map.json\n",
      " 90%|█████████ | 1161/1290 [04:14<00:11, 11.02it/s]***** Running Evaluation *****\n",
      "  Num examples = 43\n",
      "  Batch size = 8\n",
      "\n",
      " 90%|█████████ | 1161/1290 [04:14<00:11, 11.02it/s]Saving model checkpoint to nbroad/ESG-BERT\\checkpoint-1161\n",
      "Configuration saved in nbroad/ESG-BERT\\checkpoint-1161\\config.json\n"
     ]
    },
    {
     "name": "stdout",
     "output_type": "stream",
     "text": [
      "{'eval_loss': 0.10535244643688202, 'eval_f1': 0.5633802816901408, 'eval_roc_auc': 0.6995121951219512, 'eval_accuracy': 0.3488372093023256, 'eval_runtime': 0.1322, 'eval_samples_per_second': 325.346, 'eval_steps_per_second': 45.397, 'epoch': 27.0}\n"
     ]
    },
    {
     "name": "stderr",
     "output_type": "stream",
     "text": [
      "Model weights saved in nbroad/ESG-BERT\\checkpoint-1161\\pytorch_model.bin\n",
      "tokenizer config file saved in nbroad/ESG-BERT\\checkpoint-1161\\tokenizer_config.json\n",
      "Special tokens file saved in nbroad/ESG-BERT\\checkpoint-1161\\special_tokens_map.json\n",
      " 93%|█████████▎| 1203/1290 [04:21<00:08, 10.84it/s]***** Running Evaluation *****\n",
      "  Num examples = 43\n",
      "  Batch size = 8\n",
      "\n",
      " 93%|█████████▎| 1204/1290 [04:21<00:07, 10.84it/s]Saving model checkpoint to nbroad/ESG-BERT\\checkpoint-1204\n",
      "Configuration saved in nbroad/ESG-BERT\\checkpoint-1204\\config.json\n"
     ]
    },
    {
     "name": "stdout",
     "output_type": "stream",
     "text": [
      "{'eval_loss': 0.10414627939462662, 'eval_f1': 0.5833333333333334, 'eval_roc_auc': 0.7095121951219512, 'eval_accuracy': 0.37209302325581395, 'eval_runtime': 0.1327, 'eval_samples_per_second': 324.152, 'eval_steps_per_second': 45.231, 'epoch': 28.0}\n"
     ]
    },
    {
     "name": "stderr",
     "output_type": "stream",
     "text": [
      "Model weights saved in nbroad/ESG-BERT\\checkpoint-1204\\pytorch_model.bin\n",
      "tokenizer config file saved in nbroad/ESG-BERT\\checkpoint-1204\\tokenizer_config.json\n",
      "Special tokens file saved in nbroad/ESG-BERT\\checkpoint-1204\\special_tokens_map.json\n",
      " 97%|█████████▋| 1247/1290 [04:31<00:03, 11.18it/s]***** Running Evaluation *****\n",
      "  Num examples = 43\n",
      "  Batch size = 8\n",
      "\n",
      " 97%|█████████▋| 1247/1290 [04:31<00:03, 11.18it/s]Saving model checkpoint to nbroad/ESG-BERT\\checkpoint-1247\n",
      "Configuration saved in nbroad/ESG-BERT\\checkpoint-1247\\config.json\n"
     ]
    },
    {
     "name": "stdout",
     "output_type": "stream",
     "text": [
      "{'eval_loss': 0.10416623950004578, 'eval_f1': 0.5633802816901408, 'eval_roc_auc': 0.6995121951219512, 'eval_accuracy': 0.3488372093023256, 'eval_runtime': 0.1352, 'eval_samples_per_second': 318.141, 'eval_steps_per_second': 44.392, 'epoch': 29.0}\n"
     ]
    },
    {
     "name": "stderr",
     "output_type": "stream",
     "text": [
      "Model weights saved in nbroad/ESG-BERT\\checkpoint-1247\\pytorch_model.bin\n",
      "tokenizer config file saved in nbroad/ESG-BERT\\checkpoint-1247\\tokenizer_config.json\n",
      "Special tokens file saved in nbroad/ESG-BERT\\checkpoint-1247\\special_tokens_map.json\n",
      "100%|█████████▉| 1289/1290 [04:39<00:00, 10.88it/s]***** Running Evaluation *****\n",
      "  Num examples = 43\n",
      "  Batch size = 8\n",
      "\n",
      "100%|██████████| 1290/1290 [04:39<00:00, 10.88it/s]Saving model checkpoint to nbroad/ESG-BERT\\checkpoint-1290\n",
      "Configuration saved in nbroad/ESG-BERT\\checkpoint-1290\\config.json\n"
     ]
    },
    {
     "name": "stdout",
     "output_type": "stream",
     "text": [
      "{'eval_loss': 0.10413876175880432, 'eval_f1': 0.5633802816901408, 'eval_roc_auc': 0.6995121951219512, 'eval_accuracy': 0.3488372093023256, 'eval_runtime': 0.1368, 'eval_samples_per_second': 314.414, 'eval_steps_per_second': 43.872, 'epoch': 30.0}\n"
     ]
    },
    {
     "name": "stderr",
     "output_type": "stream",
     "text": [
      "Model weights saved in nbroad/ESG-BERT\\checkpoint-1290\\pytorch_model.bin\n",
      "tokenizer config file saved in nbroad/ESG-BERT\\checkpoint-1290\\tokenizer_config.json\n",
      "Special tokens file saved in nbroad/ESG-BERT\\checkpoint-1290\\special_tokens_map.json\n",
      "\n",
      "\n",
      "Training completed. Do not forget to share your model on huggingface.co/models =)\n",
      "\n",
      "\n",
      "Loading best model from nbroad/ESG-BERT\\checkpoint-1204 (score: 0.5833333333333334).\n",
      "100%|██████████| 1290/1290 [04:48<00:00,  4.47it/s]"
     ]
    },
    {
     "name": "stdout",
     "output_type": "stream",
     "text": [
      "{'train_runtime': 288.7256, 'train_samples_per_second': 35.535, 'train_steps_per_second': 4.468, 'train_loss': 0.13947496488112812, 'epoch': 30.0}\n"
     ]
    },
    {
     "name": "stderr",
     "output_type": "stream",
     "text": [
      "\n"
     ]
    },
    {
     "data": {
      "text/plain": [
       "TrainOutput(global_step=1290, training_loss=0.13947496488112812, metrics={'train_runtime': 288.7256, 'train_samples_per_second': 35.535, 'train_steps_per_second': 4.468, 'train_loss': 0.13947496488112812, 'epoch': 30.0})"
      ]
     },
     "execution_count": 84,
     "metadata": {},
     "output_type": "execute_result"
    }
   ],
   "source": [
    "trainer.train()"
   ]
  },
  {
   "cell_type": "code",
   "execution_count": 85,
   "metadata": {},
   "outputs": [
    {
     "name": "stderr",
     "output_type": "stream",
     "text": [
      "***** Running Evaluation *****\n",
      "  Num examples = 43\n",
      "  Batch size = 8\n",
      "100%|██████████| 6/6 [00:00<00:00, 60.08it/s]\n"
     ]
    },
    {
     "data": {
      "text/plain": [
       "{'eval_loss': 0.10414627939462662,\n",
       " 'eval_f1': 0.5833333333333334,\n",
       " 'eval_roc_auc': 0.7095121951219512,\n",
       " 'eval_accuracy': 0.37209302325581395,\n",
       " 'eval_runtime': 0.1268,\n",
       " 'eval_samples_per_second': 339.117,\n",
       " 'eval_steps_per_second': 47.319,\n",
       " 'epoch': 30.0}"
      ]
     },
     "execution_count": 85,
     "metadata": {},
     "output_type": "execute_result"
    }
   ],
   "source": [
    "trainer.evaluate()"
   ]
  },
  {
   "cell_type": "code",
   "execution_count": 95,
   "metadata": {},
   "outputs": [],
   "source": [
    "text = \"ALGI and ALG3 below should always produce the same result. Complete Line 3 below.\"\n",
    "\n",
    "encoding = tokenizer(text, return_tensors=\"pt\")\n",
    "encoding = {k: v.to(trainer.model.device) for k,v in encoding.items()}\n",
    "\n",
    "\n",
    "outputs = trainer.model(**encoding)\n",
    "# outputs = trainer.model(encoded_ds[\"test\"])"
   ]
  },
  {
   "cell_type": "code",
   "execution_count": 96,
   "metadata": {},
   "outputs": [
    {
     "data": {
      "text/plain": [
       "{'input_ids': tensor([[ 101, 2632, 5856, 1998, 2632, 2290, 2509, 2917, 2323, 2467, 3965, 1996,\n",
       "          2168, 2765, 1012, 3143, 2240, 1017, 2917, 1012,  102]],\n",
       "        device='cuda:0'),\n",
       " 'token_type_ids': tensor([[0, 0, 0, 0, 0, 0, 0, 0, 0, 0, 0, 0, 0, 0, 0, 0, 0, 0, 0, 0, 0]],\n",
       "        device='cuda:0'),\n",
       " 'attention_mask': tensor([[1, 1, 1, 1, 1, 1, 1, 1, 1, 1, 1, 1, 1, 1, 1, 1, 1, 1, 1, 1, 1]],\n",
       "        device='cuda:0')}"
      ]
     },
     "execution_count": 96,
     "metadata": {},
     "output_type": "execute_result"
    }
   ],
   "source": [
    "encoding"
   ]
  },
  {
   "cell_type": "code",
   "execution_count": 99,
   "metadata": {},
   "outputs": [
    {
     "data": {
      "text/plain": [
       "{'input_ids': tensor([  101,  2817,  1996,  2206, 29296,  4861,  1012,  2043,  2508, 15389,\n",
       "          1996,  2682, 29296,  4861,  1010,  2002,  4858,  2008,  1996,  7809,\n",
       "          5651,  2053,  3463,  1012,  2029,  1997,  1996,  2206,  2024,  2825,\n",
       "          3114,  1006,  1055,  1007,  1029,   102,     0,     0,     0,     0,\n",
       "             0,     0,     0,     0,     0,     0,     0,     0,     0,     0,\n",
       "             0,     0,     0,     0,     0,     0,     0,     0,     0,     0,\n",
       "             0,     0,     0,     0,     0,     0,     0,     0,     0,     0]),\n",
       " 'token_type_ids': tensor([0, 0, 0, 0, 0, 0, 0, 0, 0, 0, 0, 0, 0, 0, 0, 0, 0, 0, 0, 0, 0, 0, 0, 0,\n",
       "         0, 0, 0, 0, 0, 0, 0, 0, 0, 0, 0, 0, 0, 0, 0, 0, 0, 0, 0, 0, 0, 0, 0, 0,\n",
       "         0, 0, 0, 0, 0, 0, 0, 0, 0, 0, 0, 0, 0, 0, 0, 0, 0, 0, 0, 0, 0, 0]),\n",
       " 'attention_mask': tensor([1, 1, 1, 1, 1, 1, 1, 1, 1, 1, 1, 1, 1, 1, 1, 1, 1, 1, 1, 1, 1, 1, 1, 1,\n",
       "         1, 1, 1, 1, 1, 1, 1, 1, 1, 1, 1, 1, 0, 0, 0, 0, 0, 0, 0, 0, 0, 0, 0, 0,\n",
       "         0, 0, 0, 0, 0, 0, 0, 0, 0, 0, 0, 0, 0, 0, 0, 0, 0, 0, 0, 0, 0, 0]),\n",
       " 'labels': tensor([0., 0., 0., 0., 0., 1., 0., 0., 0., 0., 0., 0., 0., 0., 0., 0., 0., 0.,\n",
       "         0., 0., 0., 0., 0., 0., 0.])}"
      ]
     },
     "execution_count": 99,
     "metadata": {},
     "output_type": "execute_result"
    }
   ],
   "source": [
    "encoded_ds[\"test\"][0]"
   ]
  },
  {
   "cell_type": "code",
   "execution_count": 97,
   "metadata": {},
   "outputs": [
    {
     "data": {
      "text/plain": [
       "torch.Size([1, 25])"
      ]
     },
     "execution_count": 97,
     "metadata": {},
     "output_type": "execute_result"
    }
   ],
   "source": [
    "logits = outputs.logits\n",
    "logits.shape"
   ]
  },
  {
   "cell_type": "code",
   "execution_count": 98,
   "metadata": {},
   "outputs": [
    {
     "name": "stdout",
     "output_type": "stream",
     "text": [
      "['Algorithm Design', 'Program Development']\n"
     ]
    }
   ],
   "source": [
    "sigmoid = torch.nn.Sigmoid()\n",
    "probs = sigmoid(logits.squeeze().cpu())\n",
    "predictions = np.zeros(probs.shape)\n",
    "predictions[np.where(probs >= 0.5)] = 1\n",
    "# turn predicted id's into actual label names\n",
    "predicted_labels = [id2label[idx] for idx, label in enumerate(predictions) if label == 1.0]\n",
    "print(predicted_labels)"
   ]
  }
 ],
 "metadata": {
  "kernelspec": {
   "display_name": "venv",
   "language": "python",
   "name": "python3"
  },
  "language_info": {
   "codemirror_mode": {
    "name": "ipython",
    "version": 3
   },
   "file_extension": ".py",
   "mimetype": "text/x-python",
   "name": "python",
   "nbconvert_exporter": "python",
   "pygments_lexer": "ipython3",
   "version": "3.8.10"
  },
  "orig_nbformat": 4,
  "vscode": {
   "interpreter": {
    "hash": "e32da21edddcaf775c480ccd7b569f19fc9b1c5c20d607727913c5339e7adca8"
   }
  }
 },
 "nbformat": 4,
 "nbformat_minor": 2
}
