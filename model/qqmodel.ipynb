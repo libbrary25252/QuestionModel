{
 "cells": [
  {
   "cell_type": "code",
   "execution_count": 3,
   "metadata": {},
   "outputs": [],
   "source": [
    "import pandas as pd\n",
    "import datasets\n",
    "from datasets import load_dataset, Dataset, DatasetDict\n",
    "\n",
    "Qdata_frame = pd.read_csv('../dataset/train1.csv')\n",
    "# Qdf_train = Qdata_frame[0:275]\n",
    "# Qdf_test = Qdata_frame[275:]\n",
    "\n",
    "# trainDS = Dataset.from_pandas(Qdf_train)\n",
    "# testDS = Dataset.from_pandas(Qdf_test)\n",
    "# ds = DatasetDict()\n",
    "\n",
    "# ds[\"train\"] = trainDS\n",
    "# ds[\"test\"]  = testDS"
   ]
  },
  {
   "cell_type": "code",
   "execution_count": 5,
   "metadata": {},
   "outputs": [],
   "source": [
    "# split the train, test, and validation data\n",
    "import sklearn\n",
    "from sklearn.model_selection import train_test_split\n",
    "\n",
    "Qdf_train, Qdf_remain = train_test_split(Qdata_frame, train_size=0.8)\n",
    "Qdf_valid, Qdf_test = train_test_split(Qdf_remain, test_size=0.5)"
   ]
  },
  {
   "cell_type": "code",
   "execution_count": 21,
   "metadata": {},
   "outputs": [
    {
     "data": {
      "text/html": [
       "<div>\n",
       "<style scoped>\n",
       "    .dataframe tbody tr th:only-of-type {\n",
       "        vertical-align: middle;\n",
       "    }\n",
       "\n",
       "    .dataframe tbody tr th {\n",
       "        vertical-align: top;\n",
       "    }\n",
       "\n",
       "    .dataframe thead th {\n",
       "        text-align: right;\n",
       "    }\n",
       "</style>\n",
       "<table border=\"1\" class=\"dataframe\">\n",
       "  <thead>\n",
       "    <tr style=\"text-align: right;\">\n",
       "      <th></th>\n",
       "      <th>id</th>\n",
       "      <th>String</th>\n",
       "      <th>topic</th>\n",
       "      <th>type</th>\n",
       "    </tr>\n",
       "  </thead>\n",
       "  <tbody>\n",
       "    <tr>\n",
       "      <th>318</th>\n",
       "      <td>319</td>\n",
       "      <td>Ada is going to take photos of the lunch sets ...</td>\n",
       "      <td>NaN</td>\n",
       "      <td>LQ</td>\n",
       "    </tr>\n",
       "    <tr>\n",
       "      <th>221</th>\n",
       "      <td>222</td>\n",
       "      <td>How many students are there in total?</td>\n",
       "      <td>Algorithm Design, Program Development</td>\n",
       "      <td>LQ</td>\n",
       "    </tr>\n",
       "  </tbody>\n",
       "</table>\n",
       "</div>"
      ],
      "text/plain": [
       "      id                                             String  \\\n",
       "318  319  Ada is going to take photos of the lunch sets ...   \n",
       "221  222              How many students are there in total?   \n",
       "\n",
       "                                     topic type  \n",
       "318                                    NaN   LQ  \n",
       "221  Algorithm Design, Program Development   LQ  "
      ]
     },
     "execution_count": 21,
     "metadata": {},
     "output_type": "execute_result"
    }
   ],
   "source": [
    "Qdf_train.head(2)"
   ]
  },
  {
   "cell_type": "code",
   "execution_count": 22,
   "metadata": {},
   "outputs": [
    {
     "data": {
      "text/html": [
       "<div>\n",
       "<style scoped>\n",
       "    .dataframe tbody tr th:only-of-type {\n",
       "        vertical-align: middle;\n",
       "    }\n",
       "\n",
       "    .dataframe tbody tr th {\n",
       "        vertical-align: top;\n",
       "    }\n",
       "\n",
       "    .dataframe thead th {\n",
       "        text-align: right;\n",
       "    }\n",
       "</style>\n",
       "<table border=\"1\" class=\"dataframe\">\n",
       "  <thead>\n",
       "    <tr style=\"text-align: right;\">\n",
       "      <th></th>\n",
       "      <th>id</th>\n",
       "      <th>String</th>\n",
       "      <th>topic</th>\n",
       "      <th>type</th>\n",
       "    </tr>\n",
       "  </thead>\n",
       "  <tbody>\n",
       "    <tr>\n",
       "      <th>172</th>\n",
       "      <td>173</td>\n",
       "      <td>Which of the following should Clara do to incr...</td>\n",
       "      <td>Internet Services and Applications</td>\n",
       "      <td>MC</td>\n",
       "    </tr>\n",
       "    <tr>\n",
       "      <th>260</th>\n",
       "      <td>261</td>\n",
       "      <td>Mark watches live stream on this platform for ...</td>\n",
       "      <td>Health and Ethical Issues</td>\n",
       "      <td>LQ</td>\n",
       "    </tr>\n",
       "  </tbody>\n",
       "</table>\n",
       "</div>"
      ],
      "text/plain": [
       "      id                                             String  \\\n",
       "172  173  Which of the following should Clara do to incr...   \n",
       "260  261  Mark watches live stream on this platform for ...   \n",
       "\n",
       "                                  topic type  \n",
       "172  Internet Services and Applications   MC  \n",
       "260           Health and Ethical Issues   LQ  "
      ]
     },
     "execution_count": 22,
     "metadata": {},
     "output_type": "execute_result"
    }
   ],
   "source": [
    "Qdf_valid.head(2)"
   ]
  },
  {
   "cell_type": "code",
   "execution_count": 23,
   "metadata": {},
   "outputs": [
    {
     "data": {
      "text/html": [
       "<div>\n",
       "<style scoped>\n",
       "    .dataframe tbody tr th:only-of-type {\n",
       "        vertical-align: middle;\n",
       "    }\n",
       "\n",
       "    .dataframe tbody tr th {\n",
       "        vertical-align: top;\n",
       "    }\n",
       "\n",
       "    .dataframe thead th {\n",
       "        text-align: right;\n",
       "    }\n",
       "</style>\n",
       "<table border=\"1\" class=\"dataframe\">\n",
       "  <thead>\n",
       "    <tr style=\"text-align: right;\">\n",
       "      <th></th>\n",
       "      <th>id</th>\n",
       "      <th>String</th>\n",
       "      <th>topic</th>\n",
       "      <th>type</th>\n",
       "    </tr>\n",
       "  </thead>\n",
       "  <tbody>\n",
       "    <tr>\n",
       "      <th>239</th>\n",
       "      <td>240</td>\n",
       "      <td>Which of the following are methods of authenti...</td>\n",
       "      <td>Threats and Security on the Internet</td>\n",
       "      <td>MC</td>\n",
       "    </tr>\n",
       "    <tr>\n",
       "      <th>58</th>\n",
       "      <td>59</td>\n",
       "      <td>Give an advantage of using JPG over BMP.</td>\n",
       "      <td>Multimedia Elements</td>\n",
       "      <td>LQ</td>\n",
       "    </tr>\n",
       "  </tbody>\n",
       "</table>\n",
       "</div>"
      ],
      "text/plain": [
       "      id                                             String  \\\n",
       "239  240  Which of the following are methods of authenti...   \n",
       "58    59           Give an advantage of using JPG over BMP.   \n",
       "\n",
       "                                    topic type  \n",
       "239  Threats and Security on the Internet   MC  \n",
       "58                    Multimedia Elements   LQ  "
      ]
     },
     "execution_count": 23,
     "metadata": {},
     "output_type": "execute_result"
    }
   ],
   "source": [
    "Qdf_test.head(2)"
   ]
  },
  {
   "cell_type": "code",
   "execution_count": 20,
   "metadata": {},
   "outputs": [
    {
     "data": {
      "text/plain": [
       "Dataset({\n",
       "    features: ['id', 'String', 'topic', 'type', '__index_level_0__'],\n",
       "    num_rows: 341\n",
       "})"
      ]
     },
     "execution_count": 20,
     "metadata": {},
     "output_type": "execute_result"
    }
   ],
   "source": [
    "# change to hugging face dataset type\n",
    "trainDS = Dataset.from_pandas(Qdf_train)\n",
    "validDS = Dataset.from_pandas(Qdf_valid)\n",
    "testDS = Dataset.from_pandas(Qdf_test)\n",
    "ds = DatasetDict()\n",
    "ds[\"train\"] = trainDS\n",
    "ds[\"valid\"] = validDS\n",
    "ds[\"test\"] = testDS\n",
    "print(ds)\n"
   ]
  },
  {
   "cell_type": "code",
   "execution_count": 25,
   "metadata": {},
   "outputs": [
    {
     "name": "stdout",
     "output_type": "stream",
     "text": [
      "DatasetDict({\n",
      "    train: Dataset({\n",
      "        features: ['String', 'topic', '__index_level_0__'],\n",
      "        num_rows: 341\n",
      "    })\n",
      "    valid: Dataset({\n",
      "        features: ['String', 'topic', '__index_level_0__'],\n",
      "        num_rows: 43\n",
      "    })\n",
      "    test: Dataset({\n",
      "        features: ['String', 'topic', '__index_level_0__'],\n",
      "        num_rows: 43\n",
      "    })\n",
      "})\n"
     ]
    }
   ],
   "source": [
    "#  clear not used columns\n",
    "columns = ds.column_names\n",
    "columns_toRemove = [\"id\", \"type\"]\n",
    "new_ds = ds.remove_columns(columns_toRemove)\n",
    "print(new_ds)\n"
   ]
  },
  {
   "cell_type": "code",
   "execution_count": null,
   "metadata": {},
   "outputs": [],
   "source": [
    "# TODO: tokenize text, feature extraction, multilabel classification\n",
    " "
   ]
  }
 ],
 "metadata": {
  "kernelspec": {
   "display_name": "venv",
   "language": "python",
   "name": "python3"
  },
  "language_info": {
   "codemirror_mode": {
    "name": "ipython",
    "version": 3
   },
   "file_extension": ".py",
   "mimetype": "text/x-python",
   "name": "python",
   "nbconvert_exporter": "python",
   "pygments_lexer": "ipython3",
   "version": "3.8.10"
  },
  "orig_nbformat": 4,
  "vscode": {
   "interpreter": {
    "hash": "e32da21edddcaf775c480ccd7b569f19fc9b1c5c20d607727913c5339e7adca8"
   }
  }
 },
 "nbformat": 4,
 "nbformat_minor": 2
}
