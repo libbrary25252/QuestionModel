{
 "cells": [
  {
   "cell_type": "code",
   "execution_count": 1,
   "metadata": {},
   "outputs": [
    {
     "name": "stderr",
     "output_type": "stream",
     "text": [
      "c:\\Users\\user\\Desktop\\QuestionQuestionModel\\venv\\lib\\site-packages\\tqdm\\auto.py:22: TqdmWarning: IProgress not found. Please update jupyter and ipywidgets. See https://ipywidgets.readthedocs.io/en/stable/user_install.html\n",
      "  from .autonotebook import tqdm as notebook_tqdm\n"
     ]
    },
    {
     "data": {
      "text/plain": [
       "DatasetDict({\n",
       "    train: Dataset({\n",
       "        features: ['String', 'Algorithm Design', 'Basic Machine Organisation', 'Computer System', 'Data Manipulation and Analysis', 'Data Organisation and Data Control', 'Elementary Web Authoring', 'Health and Ethical Issues', 'Information Processing', 'Intellectual Property', 'Internet Services and Applications', 'Multimedia Elements', 'Networking and Internet Basics', 'Program Development', 'Spreadsheets and Databases', 'Threats and Security on the Internet', '__index_level_0__'],\n",
       "        num_rows: 648\n",
       "    })\n",
       "    valid: Dataset({\n",
       "        features: ['String', 'Algorithm Design', 'Basic Machine Organisation', 'Computer System', 'Data Manipulation and Analysis', 'Data Organisation and Data Control', 'Elementary Web Authoring', 'Health and Ethical Issues', 'Information Processing', 'Intellectual Property', 'Internet Services and Applications', 'Multimedia Elements', 'Networking and Internet Basics', 'Program Development', 'Spreadsheets and Databases', 'Threats and Security on the Internet', '__index_level_0__'],\n",
       "        num_rows: 81\n",
       "    })\n",
       "    test: Dataset({\n",
       "        features: ['String', 'Algorithm Design', 'Basic Machine Organisation', 'Computer System', 'Data Manipulation and Analysis', 'Data Organisation and Data Control', 'Elementary Web Authoring', 'Health and Ethical Issues', 'Information Processing', 'Intellectual Property', 'Internet Services and Applications', 'Multimedia Elements', 'Networking and Internet Basics', 'Program Development', 'Spreadsheets and Databases', 'Threats and Security on the Internet', '__index_level_0__'],\n",
       "        num_rows: 81\n",
       "    })\n",
       "})"
      ]
     },
     "execution_count": 1,
     "metadata": {},
     "output_type": "execute_result"
    }
   ],
   "source": [
    "# Model Training\n",
    "from datasets import load_from_disk\n",
    "\n",
    "datasets = load_from_disk(\"./encoded_data3_better\")\n",
    "datasets"
   ]
  },
  {
   "cell_type": "code",
   "execution_count": 2,
   "metadata": {},
   "outputs": [],
   "source": [
    "model_labels = [label for label in datasets['train'].features.keys() if label not in ['Unnamed: 0', 'String', '__index_level_0__']]"
   ]
  },
  {
   "cell_type": "code",
   "execution_count": 3,
   "metadata": {},
   "outputs": [
    {
     "data": {
      "text/plain": [
       "['String',\n",
       " 'Algorithm Design',\n",
       " 'Basic Machine Organisation',\n",
       " 'Computer System',\n",
       " 'Data Manipulation and Analysis',\n",
       " 'Data Organisation and Data Control',\n",
       " 'Elementary Web Authoring',\n",
       " 'Health and Ethical Issues',\n",
       " 'Information Processing',\n",
       " 'Intellectual Property',\n",
       " 'Internet Services and Applications',\n",
       " 'Multimedia Elements',\n",
       " 'Networking and Internet Basics',\n",
       " 'Program Development',\n",
       " 'Spreadsheets and Databases',\n",
       " 'Threats and Security on the Internet',\n",
       " '__index_level_0__']"
      ]
     },
     "execution_count": 3,
     "metadata": {},
     "output_type": "execute_result"
    }
   ],
   "source": [
    "datasets[\"train\"].column_names"
   ]
  },
  {
   "cell_type": "code",
   "execution_count": 4,
   "metadata": {},
   "outputs": [
    {
     "data": {
      "text/plain": [
       "{'String': Value(dtype='string', id=None),\n",
       " 'Algorithm Design': Value(dtype='int64', id=None),\n",
       " 'Basic Machine Organisation': Value(dtype='int64', id=None),\n",
       " 'Computer System': Value(dtype='int64', id=None),\n",
       " 'Data Manipulation and Analysis': Value(dtype='int64', id=None),\n",
       " 'Data Organisation and Data Control': Value(dtype='int64', id=None),\n",
       " 'Elementary Web Authoring': Value(dtype='int64', id=None),\n",
       " 'Health and Ethical Issues': Value(dtype='int64', id=None),\n",
       " 'Information Processing': Value(dtype='int64', id=None),\n",
       " 'Intellectual Property': Value(dtype='int64', id=None),\n",
       " 'Internet Services and Applications': Value(dtype='int64', id=None),\n",
       " 'Multimedia Elements': Value(dtype='int64', id=None),\n",
       " 'Networking and Internet Basics': Value(dtype='int64', id=None),\n",
       " 'Program Development': Value(dtype='int64', id=None),\n",
       " 'Spreadsheets and Databases': Value(dtype='int64', id=None),\n",
       " 'Threats and Security on the Internet': Value(dtype='int64', id=None),\n",
       " '__index_level_0__': Value(dtype='int64', id=None)}"
      ]
     },
     "execution_count": 4,
     "metadata": {},
     "output_type": "execute_result"
    }
   ],
   "source": [
    "datasets[\"train\"].features"
   ]
  },
  {
   "cell_type": "code",
   "execution_count": 5,
   "metadata": {},
   "outputs": [],
   "source": [
    "#print(f\"{datasets.train.column_names}\\n{datasets.train.features}\")"
   ]
  },
  {
   "cell_type": "code",
   "execution_count": 6,
   "metadata": {},
   "outputs": [
    {
     "data": {
      "text/plain": [
       "['Algorithm Design',\n",
       " 'Basic Machine Organisation',\n",
       " 'Computer System',\n",
       " 'Data Manipulation and Analysis',\n",
       " 'Data Organisation and Data Control',\n",
       " 'Elementary Web Authoring',\n",
       " 'Health and Ethical Issues',\n",
       " 'Information Processing',\n",
       " 'Intellectual Property',\n",
       " 'Internet Services and Applications',\n",
       " 'Multimedia Elements',\n",
       " 'Networking and Internet Basics',\n",
       " 'Program Development',\n",
       " 'Spreadsheets and Databases',\n",
       " 'Threats and Security on the Internet']"
      ]
     },
     "execution_count": 6,
     "metadata": {},
     "output_type": "execute_result"
    }
   ],
   "source": [
    "model_labels"
   ]
  },
  {
   "cell_type": "code",
   "execution_count": 7,
   "metadata": {},
   "outputs": [],
   "source": [
    "id2label = {idx:label for idx, label in enumerate(model_labels)}\n",
    "label2id = {label:idx for idx, label in enumerate(model_labels)}"
   ]
  },
  {
   "cell_type": "code",
   "execution_count": 8,
   "metadata": {},
   "outputs": [],
   "source": [
    "from transformers import DistilBertTokenizer, DistilBertForSequenceClassification\n",
    "import numpy as np\n",
    "\n",
    "tokenizer = DistilBertTokenizer.from_pretrained(\"distilbert-base-uncased\")"
   ]
  },
  {
   "cell_type": "code",
   "execution_count": 9,
   "metadata": {},
   "outputs": [],
   "source": [
    "def encode_data(dataset):\n",
    "    text = dataset[\"String\"]\n",
    "    # tokenize string\n",
    "    encoding = tokenizer(text, padding=\"max_length\", truncation=True, max_length=70)\n",
    "    # create encoded array list with labels\n",
    "    labelsBatch = {x: dataset[x] for x in dataset.keys() if x in model_labels}\n",
    "    labels_matrix = np.zeros((len(text), len(model_labels)))\n",
    "    for idx, label in enumerate(model_labels):\n",
    "        labels_matrix[:, idx] = labelsBatch[label]\n",
    "    \n",
    "    encoding[\"labels\"] = labels_matrix.tolist()\n",
    "    return encoding"
   ]
  },
  {
   "cell_type": "code",
   "execution_count": 10,
   "metadata": {},
   "outputs": [
    {
     "name": "stderr",
     "output_type": "stream",
     "text": [
      "Loading cached processed dataset at c:\\Users\\user\\Desktop\\QuestionQuestionModel\\model\\encoded_data3_better\\train\\cache-1668182f3c08226f.arrow\n",
      "Loading cached processed dataset at c:\\Users\\user\\Desktop\\QuestionQuestionModel\\model\\encoded_data3_better\\valid\\cache-339e07acb2223203.arrow\n",
      "Loading cached processed dataset at c:\\Users\\user\\Desktop\\QuestionQuestionModel\\model\\encoded_data3_better\\test\\cache-1616b207cb5722c2.arrow\n"
     ]
    }
   ],
   "source": [
    "# tokenize the dataset\n",
    "encoded_ds = datasets.map(encode_data, batched=True, remove_columns=datasets['train'].column_names)"
   ]
  },
  {
   "cell_type": "code",
   "execution_count": 11,
   "metadata": {},
   "outputs": [
    {
     "data": {
      "text/plain": [
       "[0.0, 0.0, 0.0, 0.0, 0.0, 0.0, 0.0, 0.0, 0.0, 0.0, 0.0, 0.0, 0.0, 1.0, 0.0]"
      ]
     },
     "execution_count": 11,
     "metadata": {},
     "output_type": "execute_result"
    }
   ],
   "source": [
    "encoded_ds['train']['labels'][0]"
   ]
  },
  {
   "cell_type": "code",
   "execution_count": 12,
   "metadata": {},
   "outputs": [
    {
     "data": {
      "text/plain": [
       "['Data Organisation and Data Control']"
      ]
     },
     "execution_count": 12,
     "metadata": {},
     "output_type": "execute_result"
    }
   ],
   "source": [
    "[id2label[idx] for idx, label in enumerate(encoded_ds['train'][15]['labels']) if label == 1.0]"
   ]
  },
  {
   "cell_type": "code",
   "execution_count": 13,
   "metadata": {},
   "outputs": [
    {
     "name": "stdout",
     "output_type": "stream",
     "text": [
      "Using device: cuda\n",
      "\n"
     ]
    }
   ],
   "source": [
    "import torch\n",
    "from torch import cuda\n",
    "device = torch.device('cuda' if torch.cuda.is_available() else 'cpu')\n",
    "print('Using device:', device)\n",
    "print()\n",
    "\n",
    "encoded_ds.set_format(\"torch\")"
   ]
  },
  {
   "cell_type": "code",
   "execution_count": 14,
   "metadata": {},
   "outputs": [
    {
     "data": {
      "text/plain": [
       "Dataset({\n",
       "    features: ['input_ids', 'attention_mask', 'labels'],\n",
       "    num_rows: 648\n",
       "})"
      ]
     },
     "execution_count": 14,
     "metadata": {},
     "output_type": "execute_result"
    }
   ],
   "source": [
    "encoded_ds[\"train\"]"
   ]
  },
  {
   "cell_type": "code",
   "execution_count": 15,
   "metadata": {},
   "outputs": [
    {
     "name": "stderr",
     "output_type": "stream",
     "text": [
      "Some weights of the model checkpoint at distilbert-base-uncased were not used when initializing DistilBertForSequenceClassification: ['vocab_projector.bias', 'vocab_projector.weight', 'vocab_layer_norm.bias', 'vocab_transform.weight', 'vocab_layer_norm.weight', 'vocab_transform.bias']\n",
      "- This IS expected if you are initializing DistilBertForSequenceClassification from the checkpoint of a model trained on another task or with another architecture (e.g. initializing a BertForSequenceClassification model from a BertForPreTraining model).\n",
      "- This IS NOT expected if you are initializing DistilBertForSequenceClassification from the checkpoint of a model that you expect to be exactly identical (initializing a BertForSequenceClassification model from a BertForSequenceClassification model).\n",
      "Some weights of DistilBertForSequenceClassification were not initialized from the model checkpoint at distilbert-base-uncased and are newly initialized: ['pre_classifier.weight', 'pre_classifier.bias', 'classifier.bias', 'classifier.weight']\n",
      "You should probably TRAIN this model on a down-stream task to be able to use it for predictions and inference.\n"
     ]
    }
   ],
   "source": [
    "\n",
    "# define model\n",
    "model = DistilBertForSequenceClassification.from_pretrained(\"distilbert-base-uncased\", problem_type=\"multi_label_classification\", num_labels=len(model_labels), id2label=id2label, label2id=label2id)"
   ]
  },
  {
   "cell_type": "code",
   "execution_count": 16,
   "metadata": {},
   "outputs": [
    {
     "name": "stderr",
     "output_type": "stream",
     "text": [
      "c:\\Users\\user\\Desktop\\QuestionQuestionModel\\venv\\lib\\site-packages\\transformers\\optimization.py:306: FutureWarning: This implementation of AdamW is deprecated and will be removed in a future version. Use the PyTorch implementation torch.optim.AdamW instead, or set `no_deprecation_warning=True` to disable this warning\n",
      "  warnings.warn(\n"
     ]
    }
   ],
   "source": [
    "from transformers import AdamW\n",
    "optimizer = AdamW(model.parameters(), lr=5e-5)"
   ]
  },
  {
   "cell_type": "code",
   "execution_count": 17,
   "metadata": {},
   "outputs": [
    {
     "name": "stdout",
     "output_type": "stream",
     "text": [
      "2430\n"
     ]
    }
   ],
   "source": [
    "from transformers import get_scheduler\n",
    "\n",
    "num_training_steps = 2430\n",
    "lr_scheduler = get_scheduler(\n",
    "    \"linear\",\n",
    "    optimizer=optimizer,\n",
    "    num_warmup_steps=0,\n",
    "    num_training_steps=num_training_steps,\n",
    ")\n",
    "print(num_training_steps)"
   ]
  },
  {
   "cell_type": "code",
   "execution_count": 18,
   "metadata": {},
   "outputs": [],
   "source": [
    "# train model\n",
    "batch_size = 8\n",
    "metric_name = \"f1\""
   ]
  },
  {
   "cell_type": "code",
   "execution_count": 19,
   "metadata": {},
   "outputs": [],
   "source": [
    "import evaluate\n",
    "metric  = evaluate.load(\"accuracy\")"
   ]
  },
  {
   "cell_type": "code",
   "execution_count": 20,
   "metadata": {},
   "outputs": [
    {
     "data": {
      "text/plain": [
       "'20230312_044105$-train-model-distilbert-base-uncased'"
      ]
     },
     "execution_count": 20,
     "metadata": {},
     "output_type": "execute_result"
    }
   ],
   "source": [
    "import time\n",
    "\n",
    "train_name_dir = time.strftime(f\"%Y%m%d_%H%M%S$-train-model-{model.name_or_path}\")\n",
    "train_name_dir"
   ]
  },
  {
   "cell_type": "code",
   "execution_count": 21,
   "metadata": {},
   "outputs": [],
   "source": [
    "from transformers import TrainingArguments, Trainer\n",
    "\n",
    "\n",
    "args = TrainingArguments(\n",
    "    output_dir=\"./distBert-v8/\"+ train_name_dir,\n",
    "    evaluation_strategy = \"epoch\",\n",
    "    save_strategy = \"epoch\",\n",
    "    learning_rate=2e-5,\n",
    "    per_device_train_batch_size=batch_size,\n",
    "    per_device_eval_batch_size=batch_size,\n",
    "    num_train_epochs= 81,\n",
    "    weight_decay=0.01,\n",
    "    load_best_model_at_end=True,\n",
    "    metric_for_best_model=metric_name,\n",
    "    logging_dir='./distBert-v8/logging/'+ train_name_dir\n",
    ")"
   ]
  },
  {
   "cell_type": "code",
   "execution_count": 22,
   "metadata": {},
   "outputs": [],
   "source": [
    "from sklearn.metrics import f1_score, roc_auc_score, accuracy_score\n",
    "from transformers import EvalPrediction\n",
    "\n",
    "\n",
    "def multi_label_metrics(predictions, labels, threshold=0.50):\n",
    "    # apply sigmoid on predictions fitting (batch_size, num_labels)\n",
    "    sigmoid = torch.nn.Sigmoid()\n",
    "    probs = sigmoid(torch.Tensor(predictions))\n",
    "    # use threshold to turn them into integer predictions\n",
    "    y_pred = np.zeros(probs.shape)\n",
    "    y_pred[np.where(probs >= threshold)] = 1\n",
    "    # compute metrics\n",
    "    y_true = labels\n",
    "    f1_micro_average = f1_score(y_true=y_true, y_pred=y_pred, average='micro')\n",
    "    roc_auc = roc_auc_score(y_true, y_pred, average = 'micro')\n",
    "    accuracy = accuracy_score(y_true, y_pred)\n",
    "    # logits, labels = predictions\n",
    "    # prediction = np.argmax(logits, axis=-1)\n",
    "    # return as dictionary\n",
    "    metrics = {'f1': f1_micro_average,\n",
    "               'roc_auc': roc_auc,\n",
    "               'accuracy': accuracy}\n",
    "    return metrics\n",
    "\n",
    "def compute_metrics(p: EvalPrediction):\n",
    "    preds = p.predictions[0] if isinstance(p.predictions, \n",
    "            tuple) else p.predictions\n",
    "    result = multi_label_metrics(\n",
    "        predictions=preds, \n",
    "        labels=p.label_ids)\n",
    "    return result\n",
    "\n",
    "def compute_metrics_new(eval_pred):\n",
    "    logits, labels = eval_pred\n",
    "    predictions = np.argmax(logits, axis=-1)\n",
    "    return metric.compute(predictions=predictions, references=labels)"
   ]
  },
  {
   "cell_type": "code",
   "execution_count": 23,
   "metadata": {},
   "outputs": [
    {
     "data": {
      "text/plain": [
       "'torch.FloatTensor'"
      ]
     },
     "execution_count": 23,
     "metadata": {},
     "output_type": "execute_result"
    }
   ],
   "source": [
    "encoded_ds['train'][0]['labels'].type()"
   ]
  },
  {
   "cell_type": "code",
   "execution_count": 24,
   "metadata": {},
   "outputs": [],
   "source": [
    "# model.to(device)"
   ]
  },
  {
   "cell_type": "code",
   "execution_count": 25,
   "metadata": {},
   "outputs": [
    {
     "data": {
      "text/plain": [
       "SequenceClassifierOutput(loss=tensor(0.6815, grad_fn=<BinaryCrossEntropyWithLogitsBackward0>), logits=tensor([[-0.0507, -0.0173, -0.0950, -0.0450, -0.0969,  0.0082,  0.1329,  0.0231,\n",
       "         -0.0566, -0.1218,  0.0390, -0.0533, -0.0410,  0.0573,  0.0652]],\n",
       "       grad_fn=<AddmmBackward0>), hidden_states=None, attentions=None)"
      ]
     },
     "execution_count": 25,
     "metadata": {},
     "output_type": "execute_result"
    }
   ],
   "source": [
    "outputs = model(input_ids=encoded_ds['train']['input_ids'][0].unsqueeze(0), labels=encoded_ds['train'][0]['labels'].unsqueeze(0))\n",
    "outputs"
   ]
  },
  {
   "cell_type": "code",
   "execution_count": 26,
   "metadata": {},
   "outputs": [],
   "source": [
    "trainer = Trainer(\n",
    "    model,\n",
    "    args,\n",
    "    train_dataset=encoded_ds[\"train\"],\n",
    "    eval_dataset=encoded_ds[\"valid\"],\n",
    "    compute_metrics=compute_metrics,\n",
    "    tokenizer=tokenizer\n",
    ")"
   ]
  },
  {
   "cell_type": "code",
   "execution_count": 27,
   "metadata": {},
   "outputs": [
    {
     "name": "stderr",
     "output_type": "stream",
     "text": [
      "c:\\Users\\user\\Desktop\\QuestionQuestionModel\\venv\\lib\\site-packages\\transformers\\optimization.py:306: FutureWarning: This implementation of AdamW is deprecated and will be removed in a future version. Use the PyTorch implementation torch.optim.AdamW instead, or set `no_deprecation_warning=True` to disable this warning\n",
      "  warnings.warn(\n",
      "***** Running training *****\n",
      "  Num examples = 648\n",
      "  Num Epochs = 81\n",
      "  Instantaneous batch size per device = 8\n",
      "  Total train batch size (w. parallel, distributed & accumulation) = 8\n",
      "  Gradient Accumulation steps = 1\n",
      "  Total optimization steps = 6561\n",
      "  Number of trainable parameters = 66965007\n",
      "  1%|          | 81/6561 [00:05<05:45, 18.77it/s] ***** Running Evaluation *****\n",
      "  Num examples = 81\n",
      "  Batch size = 8\n",
      "                                                 \n",
      "  1%|          | 81/6561 [00:06<05:45, 18.77it/s]Saving model checkpoint to ./distBert-v8/20230312_044105$-train-model-distilbert-base-uncased\\checkpoint-81\n",
      "Configuration saved in ./distBert-v8/20230312_044105$-train-model-distilbert-base-uncased\\checkpoint-81\\config.json\n"
     ]
    },
    {
     "name": "stdout",
     "output_type": "stream",
     "text": [
      "{'eval_loss': 0.27346426248550415, 'eval_f1': 0.0, 'eval_roc_auc': 0.5, 'eval_accuracy': 0.0, 'eval_runtime': 0.1491, 'eval_samples_per_second': 543.431, 'eval_steps_per_second': 73.799, 'epoch': 1.0}\n"
     ]
    },
    {
     "name": "stderr",
     "output_type": "stream",
     "text": [
      "Model weights saved in ./distBert-v8/20230312_044105$-train-model-distilbert-base-uncased\\checkpoint-81\\pytorch_model.bin\n",
      "tokenizer config file saved in ./distBert-v8/20230312_044105$-train-model-distilbert-base-uncased\\checkpoint-81\\tokenizer_config.json\n",
      "Special tokens file saved in ./distBert-v8/20230312_044105$-train-model-distilbert-base-uncased\\checkpoint-81\\special_tokens_map.json\n",
      "  2%|▏         | 161/6561 [00:19<05:42, 18.71it/s] ***** Running Evaluation *****\n",
      "  Num examples = 81\n",
      "  Batch size = 8\n",
      "                                                  \n",
      "  2%|▏         | 162/6561 [00:19<05:42, 18.71it/s]Saving model checkpoint to ./distBert-v8/20230312_044105$-train-model-distilbert-base-uncased\\checkpoint-162\n",
      "Configuration saved in ./distBert-v8/20230312_044105$-train-model-distilbert-base-uncased\\checkpoint-162\\config.json\n"
     ]
    },
    {
     "name": "stdout",
     "output_type": "stream",
     "text": [
      "{'eval_loss': 0.2528999149799347, 'eval_f1': 0.0, 'eval_roc_auc': 0.5, 'eval_accuracy': 0.0, 'eval_runtime': 0.1448, 'eval_samples_per_second': 559.502, 'eval_steps_per_second': 75.982, 'epoch': 2.0}\n"
     ]
    },
    {
     "name": "stderr",
     "output_type": "stream",
     "text": [
      "Model weights saved in ./distBert-v8/20230312_044105$-train-model-distilbert-base-uncased\\checkpoint-162\\pytorch_model.bin\n",
      "tokenizer config file saved in ./distBert-v8/20230312_044105$-train-model-distilbert-base-uncased\\checkpoint-162\\tokenizer_config.json\n",
      "Special tokens file saved in ./distBert-v8/20230312_044105$-train-model-distilbert-base-uncased\\checkpoint-162\\special_tokens_map.json\n",
      "  4%|▎         | 243/6561 [00:25<05:36, 18.79it/s]***** Running Evaluation *****\n",
      "  Num examples = 81\n",
      "  Batch size = 8\n",
      "                                                  \n",
      "  4%|▎         | 243/6561 [00:25<05:36, 18.79it/s]Saving model checkpoint to ./distBert-v8/20230312_044105$-train-model-distilbert-base-uncased\\checkpoint-243\n",
      "Configuration saved in ./distBert-v8/20230312_044105$-train-model-distilbert-base-uncased\\checkpoint-243\\config.json\n"
     ]
    },
    {
     "name": "stdout",
     "output_type": "stream",
     "text": [
      "{'eval_loss': 0.22856394946575165, 'eval_f1': 0.0, 'eval_roc_auc': 0.5, 'eval_accuracy': 0.0, 'eval_runtime': 0.1457, 'eval_samples_per_second': 556.044, 'eval_steps_per_second': 75.512, 'epoch': 3.0}\n"
     ]
    },
    {
     "name": "stderr",
     "output_type": "stream",
     "text": [
      "Model weights saved in ./distBert-v8/20230312_044105$-train-model-distilbert-base-uncased\\checkpoint-243\\pytorch_model.bin\n",
      "tokenizer config file saved in ./distBert-v8/20230312_044105$-train-model-distilbert-base-uncased\\checkpoint-243\\tokenizer_config.json\n",
      "Special tokens file saved in ./distBert-v8/20230312_044105$-train-model-distilbert-base-uncased\\checkpoint-243\\special_tokens_map.json\n",
      "  5%|▍         | 323/6561 [00:30<05:32, 18.79it/s]***** Running Evaluation *****\n",
      "  Num examples = 81\n",
      "  Batch size = 8\n",
      "                                                  \n",
      "  5%|▍         | 324/6561 [00:30<05:31, 18.79it/s]Saving model checkpoint to ./distBert-v8/20230312_044105$-train-model-distilbert-base-uncased\\checkpoint-324\n",
      "Configuration saved in ./distBert-v8/20230312_044105$-train-model-distilbert-base-uncased\\checkpoint-324\\config.json\n"
     ]
    },
    {
     "name": "stdout",
     "output_type": "stream",
     "text": [
      "{'eval_loss': 0.19552889466285706, 'eval_f1': 0.24242424242424243, 'eval_roc_auc': 0.5693245720641853, 'eval_accuracy': 0.12345679012345678, 'eval_runtime': 0.1451, 'eval_samples_per_second': 558.355, 'eval_steps_per_second': 75.826, 'epoch': 4.0}\n"
     ]
    },
    {
     "name": "stderr",
     "output_type": "stream",
     "text": [
      "Model weights saved in ./distBert-v8/20230312_044105$-train-model-distilbert-base-uncased\\checkpoint-324\\pytorch_model.bin\n",
      "tokenizer config file saved in ./distBert-v8/20230312_044105$-train-model-distilbert-base-uncased\\checkpoint-324\\tokenizer_config.json\n",
      "Special tokens file saved in ./distBert-v8/20230312_044105$-train-model-distilbert-base-uncased\\checkpoint-324\\special_tokens_map.json\n",
      "  6%|▌         | 405/6561 [00:45<05:28, 18.74it/s]  ***** Running Evaluation *****\n",
      "  Num examples = 81\n",
      "  Batch size = 8\n",
      "                                                  \n",
      "  6%|▌         | 405/6561 [00:45<05:28, 18.74it/s]Saving model checkpoint to ./distBert-v8/20230312_044105$-train-model-distilbert-base-uncased\\checkpoint-405\n",
      "Configuration saved in ./distBert-v8/20230312_044105$-train-model-distilbert-base-uncased\\checkpoint-405\\config.json\n",
      "  6%|▌         | 405/6561 [00:57<05:28, 18.74it/s]"
     ]
    },
    {
     "name": "stdout",
     "output_type": "stream",
     "text": [
      "{'eval_loss': 0.16366563737392426, 'eval_f1': 0.39639639639639646, 'eval_roc_auc': 0.6265783673553463, 'eval_accuracy': 0.2345679012345679, 'eval_runtime': 0.1462, 'eval_samples_per_second': 554.148, 'eval_steps_per_second': 75.255, 'epoch': 5.0}\n"
     ]
    },
    {
     "name": "stderr",
     "output_type": "stream",
     "text": [
      "Model weights saved in ./distBert-v8/20230312_044105$-train-model-distilbert-base-uncased\\checkpoint-405\\pytorch_model.bin\n",
      "tokenizer config file saved in ./distBert-v8/20230312_044105$-train-model-distilbert-base-uncased\\checkpoint-405\\tokenizer_config.json\n",
      "Special tokens file saved in ./distBert-v8/20230312_044105$-train-model-distilbert-base-uncased\\checkpoint-405\\special_tokens_map.json\n",
      "  7%|▋         | 486/6561 [01:05<05:22, 18.85it/s]  ***** Running Evaluation *****\n",
      "  Num examples = 81\n",
      "  Batch size = 8\n",
      "                                                  \n",
      "  7%|▋         | 486/6561 [01:05<05:22, 18.85it/s]Saving model checkpoint to ./distBert-v8/20230312_044105$-train-model-distilbert-base-uncased\\checkpoint-486\n",
      "Configuration saved in ./distBert-v8/20230312_044105$-train-model-distilbert-base-uncased\\checkpoint-486\\config.json\n"
     ]
    },
    {
     "name": "stdout",
     "output_type": "stream",
     "text": [
      "{'eval_loss': 0.13432222604751587, 'eval_f1': 0.564516129032258, 'eval_roc_auc': 0.7021597627041837, 'eval_accuracy': 0.3950617283950617, 'eval_runtime': 0.1567, 'eval_samples_per_second': 516.799, 'eval_steps_per_second': 70.183, 'epoch': 6.0}\n"
     ]
    },
    {
     "name": "stderr",
     "output_type": "stream",
     "text": [
      "Model weights saved in ./distBert-v8/20230312_044105$-train-model-distilbert-base-uncased\\checkpoint-486\\pytorch_model.bin\n",
      "tokenizer config file saved in ./distBert-v8/20230312_044105$-train-model-distilbert-base-uncased\\checkpoint-486\\tokenizer_config.json\n",
      "Special tokens file saved in ./distBert-v8/20230312_044105$-train-model-distilbert-base-uncased\\checkpoint-486\\special_tokens_map.json\n",
      "  8%|▊         | 503/6561 [01:20<18:04,  5.59it/s]  "
     ]
    },
    {
     "name": "stdout",
     "output_type": "stream",
     "text": [
      "{'loss': 0.2264, 'learning_rate': 1.8475842097241278e-05, 'epoch': 6.17}\n"
     ]
    },
    {
     "name": "stderr",
     "output_type": "stream",
     "text": [
      "  9%|▊         | 567/6561 [01:23<05:15, 19.01it/s]***** Running Evaluation *****\n",
      "  Num examples = 81\n",
      "  Batch size = 8\n",
      "                                                  \n",
      "  9%|▊         | 567/6561 [01:23<05:15, 19.01it/s]Saving model checkpoint to ./distBert-v8/20230312_044105$-train-model-distilbert-base-uncased\\checkpoint-567\n",
      "Configuration saved in ./distBert-v8/20230312_044105$-train-model-distilbert-base-uncased\\checkpoint-567\\config.json\n"
     ]
    },
    {
     "name": "stdout",
     "output_type": "stream",
     "text": [
      "{'eval_loss': 0.1214575469493866, 'eval_f1': 0.6106870229007634, 'eval_roc_auc': 0.7303437905534842, 'eval_accuracy': 0.4444444444444444, 'eval_runtime': 0.1412, 'eval_samples_per_second': 573.83, 'eval_steps_per_second': 77.928, 'epoch': 7.0}\n"
     ]
    },
    {
     "name": "stderr",
     "output_type": "stream",
     "text": [
      "Model weights saved in ./distBert-v8/20230312_044105$-train-model-distilbert-base-uncased\\checkpoint-567\\pytorch_model.bin\n",
      "tokenizer config file saved in ./distBert-v8/20230312_044105$-train-model-distilbert-base-uncased\\checkpoint-567\\tokenizer_config.json\n",
      "Special tokens file saved in ./distBert-v8/20230312_044105$-train-model-distilbert-base-uncased\\checkpoint-567\\special_tokens_map.json\n",
      " 10%|▉         | 647/6561 [01:29<05:11, 19.00it/s]***** Running Evaluation *****\n",
      "  Num examples = 81\n",
      "  Batch size = 8\n",
      "                                                  \n",
      " 10%|▉         | 648/6561 [01:29<05:11, 19.00it/s]Saving model checkpoint to ./distBert-v8/20230312_044105$-train-model-distilbert-base-uncased\\checkpoint-648\n",
      "Configuration saved in ./distBert-v8/20230312_044105$-train-model-distilbert-base-uncased\\checkpoint-648\\config.json\n"
     ]
    },
    {
     "name": "stdout",
     "output_type": "stream",
     "text": [
      "{'eval_loss': 0.1094340905547142, 'eval_f1': 0.6811594202898551, 'eval_roc_auc': 0.7710414649720889, 'eval_accuracy': 0.5308641975308642, 'eval_runtime': 0.1433, 'eval_samples_per_second': 565.363, 'eval_steps_per_second': 76.778, 'epoch': 8.0}\n"
     ]
    },
    {
     "name": "stderr",
     "output_type": "stream",
     "text": [
      "Model weights saved in ./distBert-v8/20230312_044105$-train-model-distilbert-base-uncased\\checkpoint-648\\pytorch_model.bin\n",
      "tokenizer config file saved in ./distBert-v8/20230312_044105$-train-model-distilbert-base-uncased\\checkpoint-648\\tokenizer_config.json\n",
      "Special tokens file saved in ./distBert-v8/20230312_044105$-train-model-distilbert-base-uncased\\checkpoint-648\\special_tokens_map.json\n",
      " 11%|█         | 729/6561 [01:41<05:01, 19.32it/s]  ***** Running Evaluation *****\n",
      "  Num examples = 81\n",
      "  Batch size = 8\n",
      "                                                  \n",
      " 11%|█         | 729/6561 [01:41<05:01, 19.32it/s]Saving model checkpoint to ./distBert-v8/20230312_044105$-train-model-distilbert-base-uncased\\checkpoint-729\n",
      "Configuration saved in ./distBert-v8/20230312_044105$-train-model-distilbert-base-uncased\\checkpoint-729\\config.json\n"
     ]
    },
    {
     "name": "stdout",
     "output_type": "stream",
     "text": [
      "{'eval_loss': 0.10503765195608139, 'eval_f1': 0.6857142857142857, 'eval_roc_auc': 0.7764125486641812, 'eval_accuracy': 0.5432098765432098, 'eval_runtime': 0.1405, 'eval_samples_per_second': 576.411, 'eval_steps_per_second': 78.278, 'epoch': 9.0}\n"
     ]
    },
    {
     "name": "stderr",
     "output_type": "stream",
     "text": [
      " 11%|█         | 729/6561 [02:00<05:01, 19.32it/s]Model weights saved in ./distBert-v8/20230312_044105$-train-model-distilbert-base-uncased\\checkpoint-729\\pytorch_model.bin\n",
      "tokenizer config file saved in ./distBert-v8/20230312_044105$-train-model-distilbert-base-uncased\\checkpoint-729\\tokenizer_config.json\n",
      "Special tokens file saved in ./distBert-v8/20230312_044105$-train-model-distilbert-base-uncased\\checkpoint-729\\special_tokens_map.json\n",
      " 12%|█▏        | 810/6561 [02:05<04:59, 19.21it/s]  ***** Running Evaluation *****\n",
      "  Num examples = 81\n",
      "  Batch size = 8\n",
      "                                                  \n",
      " 12%|█▏        | 810/6561 [02:06<04:59, 19.21it/s]Saving model checkpoint to ./distBert-v8/20230312_044105$-train-model-distilbert-base-uncased\\checkpoint-810\n",
      "Configuration saved in ./distBert-v8/20230312_044105$-train-model-distilbert-base-uncased\\checkpoint-810\\config.json\n"
     ]
    },
    {
     "name": "stdout",
     "output_type": "stream",
     "text": [
      "{'eval_loss': 0.09649663418531418, 'eval_f1': 0.7346938775510204, 'eval_roc_auc': 0.8108533997981338, 'eval_accuracy': 0.6172839506172839, 'eval_runtime': 0.1415, 'eval_samples_per_second': 572.4, 'eval_steps_per_second': 77.733, 'epoch': 10.0}\n"
     ]
    },
    {
     "name": "stderr",
     "output_type": "stream",
     "text": [
      "Model weights saved in ./distBert-v8/20230312_044105$-train-model-distilbert-base-uncased\\checkpoint-810\\pytorch_model.bin\n",
      "tokenizer config file saved in ./distBert-v8/20230312_044105$-train-model-distilbert-base-uncased\\checkpoint-810\\tokenizer_config.json\n",
      "Special tokens file saved in ./distBert-v8/20230312_044105$-train-model-distilbert-base-uncased\\checkpoint-810\\special_tokens_map.json\n",
      " 14%|█▎        | 890/6561 [02:11<04:58, 19.02it/s]***** Running Evaluation *****\n",
      "  Num examples = 81\n",
      "  Batch size = 8\n",
      "                                                  \n",
      " 14%|█▎        | 891/6561 [02:11<04:58, 19.02it/s]Saving model checkpoint to ./distBert-v8/20230312_044105$-train-model-distilbert-base-uncased\\checkpoint-891\n",
      "Configuration saved in ./distBert-v8/20230312_044105$-train-model-distilbert-base-uncased\\checkpoint-891\\config.json\n"
     ]
    },
    {
     "name": "stdout",
     "output_type": "stream",
     "text": [
      "{'eval_loss': 0.09414836764335632, 'eval_f1': 0.7564102564102564, 'eval_roc_auc': 0.8381516880548746, 'eval_accuracy': 0.6790123456790124, 'eval_runtime': 0.1408, 'eval_samples_per_second': 575.212, 'eval_steps_per_second': 78.115, 'epoch': 11.0}\n"
     ]
    },
    {
     "name": "stderr",
     "output_type": "stream",
     "text": [
      "Model weights saved in ./distBert-v8/20230312_044105$-train-model-distilbert-base-uncased\\checkpoint-891\\pytorch_model.bin\n",
      "tokenizer config file saved in ./distBert-v8/20230312_044105$-train-model-distilbert-base-uncased\\checkpoint-891\\tokenizer_config.json\n",
      "Special tokens file saved in ./distBert-v8/20230312_044105$-train-model-distilbert-base-uncased\\checkpoint-891\\special_tokens_map.json\n",
      " 15%|█▍        | 972/6561 [02:16<04:50, 19.23it/s]***** Running Evaluation *****\n",
      "  Num examples = 81\n",
      "  Batch size = 8\n",
      "                                                  \n",
      " 15%|█▍        | 972/6561 [02:16<04:50, 19.23it/s]Saving model checkpoint to ./distBert-v8/20230312_044105$-train-model-distilbert-base-uncased\\checkpoint-972\n",
      "Configuration saved in ./distBert-v8/20230312_044105$-train-model-distilbert-base-uncased\\checkpoint-972\\config.json\n"
     ]
    },
    {
     "name": "stdout",
     "output_type": "stream",
     "text": [
      "{'eval_loss': 0.09554749727249146, 'eval_f1': 0.7402597402597402, 'eval_roc_auc': 0.8265237810781304, 'eval_accuracy': 0.6419753086419753, 'eval_runtime': 0.1408, 'eval_samples_per_second': 575.487, 'eval_steps_per_second': 78.153, 'epoch': 12.0}\n"
     ]
    },
    {
     "name": "stderr",
     "output_type": "stream",
     "text": [
      "Model weights saved in ./distBert-v8/20230312_044105$-train-model-distilbert-base-uncased\\checkpoint-972\\pytorch_model.bin\n",
      "tokenizer config file saved in ./distBert-v8/20230312_044105$-train-model-distilbert-base-uncased\\checkpoint-972\\tokenizer_config.json\n",
      "Special tokens file saved in ./distBert-v8/20230312_044105$-train-model-distilbert-base-uncased\\checkpoint-972\\special_tokens_map.json\n",
      " 15%|█▌        | 1004/6561 [02:19<04:55, 18.81it/s]"
     ]
    },
    {
     "name": "stdout",
     "output_type": "stream",
     "text": [
      "{'loss': 0.0479, 'learning_rate': 1.6951684194482548e-05, 'epoch': 12.35}\n"
     ]
    },
    {
     "name": "stderr",
     "output_type": "stream",
     "text": [
      " 16%|█▌        | 1052/6561 [02:21<04:48, 19.12it/s]***** Running Evaluation *****\n",
      "  Num examples = 81\n",
      "  Batch size = 8\n",
      "                                                   \n",
      " 16%|█▌        | 1053/6561 [02:22<04:48, 19.12it/s]Saving model checkpoint to ./distBert-v8/20230312_044105$-train-model-distilbert-base-uncased\\checkpoint-1053\n",
      "Configuration saved in ./distBert-v8/20230312_044105$-train-model-distilbert-base-uncased\\checkpoint-1053\\config.json\n"
     ]
    },
    {
     "name": "stdout",
     "output_type": "stream",
     "text": [
      "{'eval_loss': 0.08884215354919434, 'eval_f1': 0.779874213836478, 'eval_roc_auc': 0.8555935485199909, 'eval_accuracy': 0.7037037037037037, 'eval_runtime': 0.1429, 'eval_samples_per_second': 566.908, 'eval_steps_per_second': 76.988, 'epoch': 13.0}\n"
     ]
    },
    {
     "name": "stderr",
     "output_type": "stream",
     "text": [
      "Model weights saved in ./distBert-v8/20230312_044105$-train-model-distilbert-base-uncased\\checkpoint-1053\\pytorch_model.bin\n",
      "tokenizer config file saved in ./distBert-v8/20230312_044105$-train-model-distilbert-base-uncased\\checkpoint-1053\\tokenizer_config.json\n",
      "Special tokens file saved in ./distBert-v8/20230312_044105$-train-model-distilbert-base-uncased\\checkpoint-1053\\special_tokens_map.json\n",
      " 17%|█▋        | 1134/6561 [02:27<04:45, 19.03it/s]***** Running Evaluation *****\n",
      "  Num examples = 81\n",
      "  Batch size = 8\n",
      "                                                   \n",
      " 17%|█▋        | 1134/6561 [02:27<04:45, 19.03it/s]Saving model checkpoint to ./distBert-v8/20230312_044105$-train-model-distilbert-base-uncased\\checkpoint-1134\n",
      "Configuration saved in ./distBert-v8/20230312_044105$-train-model-distilbert-base-uncased\\checkpoint-1134\\config.json\n"
     ]
    },
    {
     "name": "stdout",
     "output_type": "stream",
     "text": [
      "{'eval_loss': 0.09285791218280792, 'eval_f1': 0.7643312101910827, 'eval_roc_auc': 0.8439656415432467, 'eval_accuracy': 0.6790123456790124, 'eval_runtime': 0.1393, 'eval_samples_per_second': 581.4, 'eval_steps_per_second': 78.956, 'epoch': 14.0}\n"
     ]
    },
    {
     "name": "stderr",
     "output_type": "stream",
     "text": [
      "Model weights saved in ./distBert-v8/20230312_044105$-train-model-distilbert-base-uncased\\checkpoint-1134\\pytorch_model.bin\n",
      "tokenizer config file saved in ./distBert-v8/20230312_044105$-train-model-distilbert-base-uncased\\checkpoint-1134\\tokenizer_config.json\n",
      "Special tokens file saved in ./distBert-v8/20230312_044105$-train-model-distilbert-base-uncased\\checkpoint-1134\\special_tokens_map.json\n",
      " 19%|█▊        | 1214/6561 [02:32<04:39, 19.16it/s]***** Running Evaluation *****\n",
      "  Num examples = 81\n",
      "  Batch size = 8\n",
      "                                                   \n",
      " 19%|█▊        | 1215/6561 [02:34<04:38, 19.16it/s]Saving model checkpoint to ./distBert-v8/20230312_044105$-train-model-distilbert-base-uncased\\checkpoint-1215\n",
      "Configuration saved in ./distBert-v8/20230312_044105$-train-model-distilbert-base-uncased\\checkpoint-1215\\config.json\n",
      " 19%|█▊        | 1215/6561 [02:42<04:38, 19.16it/s]"
     ]
    },
    {
     "name": "stdout",
     "output_type": "stream",
     "text": [
      "{'eval_loss': 0.09075258672237396, 'eval_f1': 0.7770700636942676, 'eval_roc_auc': 0.8502224648278986, 'eval_accuracy': 0.691358024691358, 'eval_runtime': 0.1416, 'eval_samples_per_second': 572.233, 'eval_steps_per_second': 77.711, 'epoch': 15.0}\n"
     ]
    },
    {
     "name": "stderr",
     "output_type": "stream",
     "text": [
      "Model weights saved in ./distBert-v8/20230312_044105$-train-model-distilbert-base-uncased\\checkpoint-1215\\pytorch_model.bin\n",
      "tokenizer config file saved in ./distBert-v8/20230312_044105$-train-model-distilbert-base-uncased\\checkpoint-1215\\tokenizer_config.json\n",
      "Special tokens file saved in ./distBert-v8/20230312_044105$-train-model-distilbert-base-uncased\\checkpoint-1215\\special_tokens_map.json\n",
      " 20%|█▉        | 1296/6561 [02:48<04:33, 19.22it/s]  ***** Running Evaluation *****\n",
      "  Num examples = 81\n",
      "  Batch size = 8\n",
      "                                                   \n",
      " 20%|█▉        | 1296/6561 [02:48<04:33, 19.22it/s]Saving model checkpoint to ./distBert-v8/20230312_044105$-train-model-distilbert-base-uncased\\checkpoint-1296\n",
      "Configuration saved in ./distBert-v8/20230312_044105$-train-model-distilbert-base-uncased\\checkpoint-1296\\config.json\n"
     ]
    },
    {
     "name": "stdout",
     "output_type": "stream",
     "text": [
      "{'eval_loss': 0.0894993469119072, 'eval_f1': 0.7848101265822784, 'eval_roc_auc': 0.8560364183162708, 'eval_accuracy': 0.7037037037037037, 'eval_runtime': 0.1362, 'eval_samples_per_second': 594.685, 'eval_steps_per_second': 80.76, 'epoch': 16.0}\n"
     ]
    },
    {
     "name": "stderr",
     "output_type": "stream",
     "text": [
      "Model weights saved in ./distBert-v8/20230312_044105$-train-model-distilbert-base-uncased\\checkpoint-1296\\pytorch_model.bin\n",
      "tokenizer config file saved in ./distBert-v8/20230312_044105$-train-model-distilbert-base-uncased\\checkpoint-1296\\tokenizer_config.json\n",
      "Special tokens file saved in ./distBert-v8/20230312_044105$-train-model-distilbert-base-uncased\\checkpoint-1296\\special_tokens_map.json\n",
      " 21%|██        | 1377/6561 [03:07<04:46, 18.12it/s]  ***** Running Evaluation *****\n",
      "  Num examples = 81\n",
      "  Batch size = 8\n",
      "                                                   \n",
      " 21%|██        | 1377/6561 [03:07<04:46, 18.12it/s]Saving model checkpoint to ./distBert-v8/20230312_044105$-train-model-distilbert-base-uncased\\checkpoint-1377\n",
      "Configuration saved in ./distBert-v8/20230312_044105$-train-model-distilbert-base-uncased\\checkpoint-1377\\config.json\n"
     ]
    },
    {
     "name": "stdout",
     "output_type": "stream",
     "text": [
      "{'eval_loss': 0.09843789786100388, 'eval_f1': 0.759493670886076, 'eval_roc_auc': 0.8435227717469668, 'eval_accuracy': 0.6790123456790124, 'eval_runtime': 0.1518, 'eval_samples_per_second': 533.707, 'eval_steps_per_second': 72.479, 'epoch': 17.0}\n"
     ]
    },
    {
     "name": "stderr",
     "output_type": "stream",
     "text": [
      "Model weights saved in ./distBert-v8/20230312_044105$-train-model-distilbert-base-uncased\\checkpoint-1377\\pytorch_model.bin\n",
      "tokenizer config file saved in ./distBert-v8/20230312_044105$-train-model-distilbert-base-uncased\\checkpoint-1377\\tokenizer_config.json\n",
      "Special tokens file saved in ./distBert-v8/20230312_044105$-train-model-distilbert-base-uncased\\checkpoint-1377\\special_tokens_map.json\n",
      " 22%|██▏       | 1458/6561 [03:13<04:35, 18.53it/s]***** Running Evaluation *****\n",
      "  Num examples = 81\n",
      "  Batch size = 8\n",
      "                                                   \n",
      " 22%|██▏       | 1458/6561 [03:13<04:35, 18.53it/s]Saving model checkpoint to ./distBert-v8/20230312_044105$-train-model-distilbert-base-uncased\\checkpoint-1458\n",
      "Configuration saved in ./distBert-v8/20230312_044105$-train-model-distilbert-base-uncased\\checkpoint-1458\\config.json\n"
     ]
    },
    {
     "name": "stdout",
     "output_type": "stream",
     "text": [
      "{'eval_loss': 0.08992932736873627, 'eval_f1': 0.8074534161490684, 'eval_roc_auc': 0.8734782787813872, 'eval_accuracy': 0.7407407407407407, 'eval_runtime': 0.1481, 'eval_samples_per_second': 546.822, 'eval_steps_per_second': 74.26, 'epoch': 18.0}\n"
     ]
    },
    {
     "name": "stderr",
     "output_type": "stream",
     "text": [
      " 22%|██▏       | 1458/6561 [03:23<04:35, 18.53it/s]Model weights saved in ./distBert-v8/20230312_044105$-train-model-distilbert-base-uncased\\checkpoint-1458\\pytorch_model.bin\n",
      "tokenizer config file saved in ./distBert-v8/20230312_044105$-train-model-distilbert-base-uncased\\checkpoint-1458\\tokenizer_config.json\n",
      "Special tokens file saved in ./distBert-v8/20230312_044105$-train-model-distilbert-base-uncased\\checkpoint-1458\\special_tokens_map.json\n",
      " 23%|██▎       | 1503/6561 [03:27<04:36, 18.26it/s]  "
     ]
    },
    {
     "name": "stdout",
     "output_type": "stream",
     "text": [
      "{'loss': 0.0131, 'learning_rate': 1.5427526291723824e-05, 'epoch': 18.52}\n"
     ]
    },
    {
     "name": "stderr",
     "output_type": "stream",
     "text": [
      " 23%|██▎       | 1539/6561 [03:29<04:27, 18.77it/s]***** Running Evaluation *****\n",
      "  Num examples = 81\n",
      "  Batch size = 8\n",
      "                                                   \n",
      " 23%|██▎       | 1539/6561 [03:29<04:27, 18.77it/s]Saving model checkpoint to ./distBert-v8/20230312_044105$-train-model-distilbert-base-uncased\\checkpoint-1539\n",
      "Configuration saved in ./distBert-v8/20230312_044105$-train-model-distilbert-base-uncased\\checkpoint-1539\\config.json\n"
     ]
    },
    {
     "name": "stdout",
     "output_type": "stream",
     "text": [
      "{'eval_loss': 0.09526584297418594, 'eval_f1': 0.759493670886076, 'eval_roc_auc': 0.8435227717469668, 'eval_accuracy': 0.6790123456790124, 'eval_runtime': 0.1539, 'eval_samples_per_second': 526.475, 'eval_steps_per_second': 71.497, 'epoch': 19.0}\n"
     ]
    },
    {
     "name": "stderr",
     "output_type": "stream",
     "text": [
      "Model weights saved in ./distBert-v8/20230312_044105$-train-model-distilbert-base-uncased\\checkpoint-1539\\pytorch_model.bin\n",
      "tokenizer config file saved in ./distBert-v8/20230312_044105$-train-model-distilbert-base-uncased\\checkpoint-1539\\tokenizer_config.json\n",
      "Special tokens file saved in ./distBert-v8/20230312_044105$-train-model-distilbert-base-uncased\\checkpoint-1539\\special_tokens_map.json\n",
      " 25%|██▍       | 1620/6561 [03:48<04:24, 18.68it/s]  ***** Running Evaluation *****\n",
      "  Num examples = 81\n",
      "  Batch size = 8\n",
      "                                                   \n",
      " 25%|██▍       | 1620/6561 [03:49<04:24, 18.68it/s]Saving model checkpoint to ./distBert-v8/20230312_044105$-train-model-distilbert-base-uncased\\checkpoint-1620\n",
      "Configuration saved in ./distBert-v8/20230312_044105$-train-model-distilbert-base-uncased\\checkpoint-1620\\config.json\n"
     ]
    },
    {
     "name": "stdout",
     "output_type": "stream",
     "text": [
      "{'eval_loss': 0.09741596132516861, 'eval_f1': 0.8024691358024691, 'eval_roc_auc': 0.8730354089851072, 'eval_accuracy': 0.7407407407407407, 'eval_runtime': 0.1454, 'eval_samples_per_second': 557.155, 'eval_steps_per_second': 75.663, 'epoch': 20.0}\n"
     ]
    },
    {
     "name": "stderr",
     "output_type": "stream",
     "text": [
      "Model weights saved in ./distBert-v8/20230312_044105$-train-model-distilbert-base-uncased\\checkpoint-1620\\pytorch_model.bin\n",
      "tokenizer config file saved in ./distBert-v8/20230312_044105$-train-model-distilbert-base-uncased\\checkpoint-1620\\tokenizer_config.json\n",
      "Special tokens file saved in ./distBert-v8/20230312_044105$-train-model-distilbert-base-uncased\\checkpoint-1620\\special_tokens_map.json\n",
      " 26%|██▌       | 1700/6561 [03:54<04:43, 17.12it/s]***** Running Evaluation *****\n",
      "  Num examples = 81\n",
      "  Batch size = 8\n",
      "                                                   \n",
      " 26%|██▌       | 1701/6561 [03:54<04:43, 17.12it/s]Saving model checkpoint to ./distBert-v8/20230312_044105$-train-model-distilbert-base-uncased\\checkpoint-1701\n",
      "Configuration saved in ./distBert-v8/20230312_044105$-train-model-distilbert-base-uncased\\checkpoint-1701\\config.json\n",
      " 26%|██▌       | 1701/6561 [04:04<04:43, 17.12it/s]"
     ]
    },
    {
     "name": "stdout",
     "output_type": "stream",
     "text": [
      "{'eval_loss': 0.09365051984786987, 'eval_f1': 0.7901234567901234, 'eval_roc_auc': 0.8667785857004553, 'eval_accuracy': 0.7160493827160493, 'eval_runtime': 0.1564, 'eval_samples_per_second': 517.827, 'eval_steps_per_second': 70.322, 'epoch': 21.0}\n"
     ]
    },
    {
     "name": "stderr",
     "output_type": "stream",
     "text": [
      "Model weights saved in ./distBert-v8/20230312_044105$-train-model-distilbert-base-uncased\\checkpoint-1701\\pytorch_model.bin\n",
      "tokenizer config file saved in ./distBert-v8/20230312_044105$-train-model-distilbert-base-uncased\\checkpoint-1701\\tokenizer_config.json\n",
      "Special tokens file saved in ./distBert-v8/20230312_044105$-train-model-distilbert-base-uncased\\checkpoint-1701\\special_tokens_map.json\n",
      " 27%|██▋       | 1782/6561 [04:10<04:18, 18.51it/s]  ***** Running Evaluation *****\n",
      "  Num examples = 81\n",
      "  Batch size = 8\n",
      "                                                   \n",
      " 27%|██▋       | 1782/6561 [04:10<04:18, 18.51it/s]Saving model checkpoint to ./distBert-v8/20230312_044105$-train-model-distilbert-base-uncased\\checkpoint-1782\n",
      "Configuration saved in ./distBert-v8/20230312_044105$-train-model-distilbert-base-uncased\\checkpoint-1782\\config.json\n"
     ]
    },
    {
     "name": "stdout",
     "output_type": "stream",
     "text": [
      "{'eval_loss': 0.09817254543304443, 'eval_f1': 0.7875, 'eval_roc_auc': 0.861407502008363, 'eval_accuracy': 0.7160493827160493, 'eval_runtime': 0.1415, 'eval_samples_per_second': 572.47, 'eval_steps_per_second': 77.743, 'epoch': 22.0}\n"
     ]
    },
    {
     "name": "stderr",
     "output_type": "stream",
     "text": [
      "Model weights saved in ./distBert-v8/20230312_044105$-train-model-distilbert-base-uncased\\checkpoint-1782\\pytorch_model.bin\n",
      "tokenizer config file saved in ./distBert-v8/20230312_044105$-train-model-distilbert-base-uncased\\checkpoint-1782\\tokenizer_config.json\n",
      "Special tokens file saved in ./distBert-v8/20230312_044105$-train-model-distilbert-base-uncased\\checkpoint-1782\\special_tokens_map.json\n",
      " 28%|██▊       | 1862/6561 [04:27<04:12, 18.58it/s]  ***** Running Evaluation *****\n",
      "  Num examples = 81\n",
      "  Batch size = 8\n",
      "                                                   \n",
      " 28%|██▊       | 1863/6561 [04:27<04:12, 18.58it/s]Saving model checkpoint to ./distBert-v8/20230312_044105$-train-model-distilbert-base-uncased\\checkpoint-1863\n",
      "Configuration saved in ./distBert-v8/20230312_044105$-train-model-distilbert-base-uncased\\checkpoint-1863\\config.json\n"
     ]
    },
    {
     "name": "stdout",
     "output_type": "stream",
     "text": [
      "{'eval_loss': 0.09653657674789429, 'eval_f1': 0.7975460122699386, 'eval_roc_auc': 0.8725925391888273, 'eval_accuracy': 0.7407407407407407, 'eval_runtime': 0.1471, 'eval_samples_per_second': 550.551, 'eval_steps_per_second': 74.766, 'epoch': 23.0}\n"
     ]
    },
    {
     "name": "stderr",
     "output_type": "stream",
     "text": [
      "Model weights saved in ./distBert-v8/20230312_044105$-train-model-distilbert-base-uncased\\checkpoint-1863\\pytorch_model.bin\n",
      "tokenizer config file saved in ./distBert-v8/20230312_044105$-train-model-distilbert-base-uncased\\checkpoint-1863\\tokenizer_config.json\n",
      "Special tokens file saved in ./distBert-v8/20230312_044105$-train-model-distilbert-base-uncased\\checkpoint-1863\\special_tokens_map.json\n",
      " 30%|██▉       | 1943/6561 [04:44<04:07, 18.64it/s]  ***** Running Evaluation *****\n",
      "  Num examples = 81\n",
      "  Batch size = 8\n",
      "                                                   \n",
      " 30%|██▉       | 1944/6561 [04:44<04:07, 18.64it/s]Saving model checkpoint to ./distBert-v8/20230312_044105$-train-model-distilbert-base-uncased\\checkpoint-1944\n",
      "Configuration saved in ./distBert-v8/20230312_044105$-train-model-distilbert-base-uncased\\checkpoint-1944\\config.json\n"
     ]
    },
    {
     "name": "stdout",
     "output_type": "stream",
     "text": [
      "{'eval_loss': 0.10166638344526291, 'eval_f1': 0.787878787878788, 'eval_roc_auc': 0.8717067995962675, 'eval_accuracy': 0.7283950617283951, 'eval_runtime': 0.1538, 'eval_samples_per_second': 526.543, 'eval_steps_per_second': 71.506, 'epoch': 24.0}\n"
     ]
    },
    {
     "name": "stderr",
     "output_type": "stream",
     "text": [
      "Model weights saved in ./distBert-v8/20230312_044105$-train-model-distilbert-base-uncased\\checkpoint-1944\\pytorch_model.bin\n",
      "tokenizer config file saved in ./distBert-v8/20230312_044105$-train-model-distilbert-base-uncased\\checkpoint-1944\\tokenizer_config.json\n",
      "Special tokens file saved in ./distBert-v8/20230312_044105$-train-model-distilbert-base-uncased\\checkpoint-1944\\special_tokens_map.json\n",
      " 31%|███       | 2002/6561 [04:48<04:30, 16.86it/s]"
     ]
    },
    {
     "name": "stdout",
     "output_type": "stream",
     "text": [
      "{'loss': 0.0062, 'learning_rate': 1.3903368388965097e-05, 'epoch': 24.69}\n"
     ]
    },
    {
     "name": "stderr",
     "output_type": "stream",
     "text": [
      " 31%|███       | 2024/6561 [04:50<04:06, 18.44it/s]***** Running Evaluation *****\n",
      "  Num examples = 81\n",
      "  Batch size = 8\n",
      "                                                   \n",
      " 31%|███       | 2025/6561 [04:50<04:05, 18.44it/s]Saving model checkpoint to ./distBert-v8/20230312_044105$-train-model-distilbert-base-uncased\\checkpoint-2025\n"
     ]
    },
    {
     "name": "stdout",
     "output_type": "stream",
     "text": [
      "{'eval_loss': 0.10298623889684677, 'eval_f1': 0.7826086956521738, 'eval_roc_auc': 0.8609646322120832, 'eval_accuracy': 0.7037037037037037, 'eval_runtime': 0.1434, 'eval_samples_per_second': 564.683, 'eval_steps_per_second': 76.685, 'epoch': 25.0}\n"
     ]
    },
    {
     "name": "stderr",
     "output_type": "stream",
     "text": [
      "Configuration saved in ./distBert-v8/20230312_044105$-train-model-distilbert-base-uncased\\checkpoint-2025\\config.json\n",
      "Model weights saved in ./distBert-v8/20230312_044105$-train-model-distilbert-base-uncased\\checkpoint-2025\\pytorch_model.bin\n",
      "tokenizer config file saved in ./distBert-v8/20230312_044105$-train-model-distilbert-base-uncased\\checkpoint-2025\\tokenizer_config.json\n",
      "Special tokens file saved in ./distBert-v8/20230312_044105$-train-model-distilbert-base-uncased\\checkpoint-2025\\special_tokens_map.json\n",
      " 32%|███▏      | 2106/6561 [05:05<04:10, 17.80it/s]  ***** Running Evaluation *****\n",
      "  Num examples = 81\n",
      "  Batch size = 8\n",
      "                                                   \n",
      " 32%|███▏      | 2106/6561 [05:05<04:10, 17.80it/s]Saving model checkpoint to ./distBert-v8/20230312_044105$-train-model-distilbert-base-uncased\\checkpoint-2106\n",
      "Configuration saved in ./distBert-v8/20230312_044105$-train-model-distilbert-base-uncased\\checkpoint-2106\\config.json\n"
     ]
    },
    {
     "name": "stdout",
     "output_type": "stream",
     "text": [
      "{'eval_loss': 0.10606690496206284, 'eval_f1': 0.7901234567901234, 'eval_roc_auc': 0.8667785857004553, 'eval_accuracy': 0.7160493827160493, 'eval_runtime': 0.1462, 'eval_samples_per_second': 554.141, 'eval_steps_per_second': 75.254, 'epoch': 26.0}\n"
     ]
    },
    {
     "name": "stderr",
     "output_type": "stream",
     "text": [
      "Model weights saved in ./distBert-v8/20230312_044105$-train-model-distilbert-base-uncased\\checkpoint-2106\\pytorch_model.bin\n",
      "tokenizer config file saved in ./distBert-v8/20230312_044105$-train-model-distilbert-base-uncased\\checkpoint-2106\\tokenizer_config.json\n",
      "Special tokens file saved in ./distBert-v8/20230312_044105$-train-model-distilbert-base-uncased\\checkpoint-2106\\special_tokens_map.json\n",
      " 33%|███▎      | 2187/6561 [05:24<03:52, 18.79it/s]  ***** Running Evaluation *****\n",
      "  Num examples = 81\n",
      "  Batch size = 8\n",
      "                                                   \n",
      " 33%|███▎      | 2187/6561 [05:25<03:52, 18.79it/s]Saving model checkpoint to ./distBert-v8/20230312_044105$-train-model-distilbert-base-uncased\\checkpoint-2187\n",
      "Configuration saved in ./distBert-v8/20230312_044105$-train-model-distilbert-base-uncased\\checkpoint-2187\\config.json\n"
     ]
    },
    {
     "name": "stdout",
     "output_type": "stream",
     "text": [
      "{'eval_loss': 0.10248670727014542, 'eval_f1': 0.8024691358024691, 'eval_roc_auc': 0.8730354089851072, 'eval_accuracy': 0.7407407407407407, 'eval_runtime': 0.1455, 'eval_samples_per_second': 556.723, 'eval_steps_per_second': 75.604, 'epoch': 27.0}\n"
     ]
    },
    {
     "name": "stderr",
     "output_type": "stream",
     "text": [
      "Model weights saved in ./distBert-v8/20230312_044105$-train-model-distilbert-base-uncased\\checkpoint-2187\\pytorch_model.bin\n",
      "tokenizer config file saved in ./distBert-v8/20230312_044105$-train-model-distilbert-base-uncased\\checkpoint-2187\\tokenizer_config.json\n",
      "Special tokens file saved in ./distBert-v8/20230312_044105$-train-model-distilbert-base-uncased\\checkpoint-2187\\special_tokens_map.json\n",
      " 35%|███▍      | 2267/6561 [05:30<04:06, 17.39it/s]***** Running Evaluation *****\n",
      "  Num examples = 81\n",
      "  Batch size = 8\n",
      "                                                   \n",
      " 35%|███▍      | 2268/6561 [05:30<04:06, 17.39it/s]Saving model checkpoint to ./distBert-v8/20230312_044105$-train-model-distilbert-base-uncased\\checkpoint-2268\n",
      "Configuration saved in ./distBert-v8/20230312_044105$-train-model-distilbert-base-uncased\\checkpoint-2268\\config.json\n",
      " 35%|███▍      | 2268/6561 [05:51<04:06, 17.39it/s]"
     ]
    },
    {
     "name": "stdout",
     "output_type": "stream",
     "text": [
      "{'eval_loss': 0.1076902225613594, 'eval_f1': 0.7975460122699386, 'eval_roc_auc': 0.8725925391888273, 'eval_accuracy': 0.7407407407407407, 'eval_runtime': 0.1424, 'eval_samples_per_second': 568.795, 'eval_steps_per_second': 77.244, 'epoch': 28.0}\n"
     ]
    },
    {
     "name": "stderr",
     "output_type": "stream",
     "text": [
      "Model weights saved in ./distBert-v8/20230312_044105$-train-model-distilbert-base-uncased\\checkpoint-2268\\pytorch_model.bin\n",
      "tokenizer config file saved in ./distBert-v8/20230312_044105$-train-model-distilbert-base-uncased\\checkpoint-2268\\tokenizer_config.json\n",
      "Special tokens file saved in ./distBert-v8/20230312_044105$-train-model-distilbert-base-uncased\\checkpoint-2268\\special_tokens_map.json\n",
      " 36%|███▌      | 2349/6561 [06:01<03:45, 18.69it/s]  ***** Running Evaluation *****\n",
      "  Num examples = 81\n",
      "  Batch size = 8\n",
      "                                                   \n",
      " 36%|███▌      | 2349/6561 [06:01<03:45, 18.69it/s]Saving model checkpoint to ./distBert-v8/20230312_044105$-train-model-distilbert-base-uncased\\checkpoint-2349\n",
      "Configuration saved in ./distBert-v8/20230312_044105$-train-model-distilbert-base-uncased\\checkpoint-2349\\config.json\n"
     ]
    },
    {
     "name": "stdout",
     "output_type": "stream",
     "text": [
      "{'eval_loss': 0.10674430429935455, 'eval_f1': 0.8048780487804877, 'eval_roc_auc': 0.8784064926771994, 'eval_accuracy': 0.7407407407407407, 'eval_runtime': 0.1448, 'eval_samples_per_second': 559.499, 'eval_steps_per_second': 75.981, 'epoch': 29.0}\n"
     ]
    },
    {
     "name": "stderr",
     "output_type": "stream",
     "text": [
      "Model weights saved in ./distBert-v8/20230312_044105$-train-model-distilbert-base-uncased\\checkpoint-2349\\pytorch_model.bin\n",
      "tokenizer config file saved in ./distBert-v8/20230312_044105$-train-model-distilbert-base-uncased\\checkpoint-2349\\tokenizer_config.json\n",
      "Special tokens file saved in ./distBert-v8/20230312_044105$-train-model-distilbert-base-uncased\\checkpoint-2349\\special_tokens_map.json\n",
      " 37%|███▋      | 2429/6561 [06:07<03:55, 17.56it/s]***** Running Evaluation *****\n",
      "  Num examples = 81\n",
      "  Batch size = 8\n",
      "                                                   \n",
      " 37%|███▋      | 2430/6561 [06:07<03:55, 17.56it/s]Saving model checkpoint to ./distBert-v8/20230312_044105$-train-model-distilbert-base-uncased\\checkpoint-2430\n",
      "Configuration saved in ./distBert-v8/20230312_044105$-train-model-distilbert-base-uncased\\checkpoint-2430\\config.json\n"
     ]
    },
    {
     "name": "stdout",
     "output_type": "stream",
     "text": [
      "{'eval_loss': 0.10436603426933289, 'eval_f1': 0.8098159509202453, 'eval_roc_auc': 0.8788493624734793, 'eval_accuracy': 0.7530864197530864, 'eval_runtime': 0.1615, 'eval_samples_per_second': 501.565, 'eval_steps_per_second': 68.114, 'epoch': 30.0}\n"
     ]
    },
    {
     "name": "stderr",
     "output_type": "stream",
     "text": [
      "Model weights saved in ./distBert-v8/20230312_044105$-train-model-distilbert-base-uncased\\checkpoint-2430\\pytorch_model.bin\n",
      "tokenizer config file saved in ./distBert-v8/20230312_044105$-train-model-distilbert-base-uncased\\checkpoint-2430\\tokenizer_config.json\n",
      "Special tokens file saved in ./distBert-v8/20230312_044105$-train-model-distilbert-base-uncased\\checkpoint-2430\\special_tokens_map.json\n",
      " 38%|███▊      | 2503/6561 [06:12<03:54, 17.32it/s]"
     ]
    },
    {
     "name": "stdout",
     "output_type": "stream",
     "text": [
      "{'loss': 0.0034, 'learning_rate': 1.2379210486206372e-05, 'epoch': 30.86}\n"
     ]
    },
    {
     "name": "stderr",
     "output_type": "stream",
     "text": [
      " 38%|███▊      | 2511/6561 [06:13<03:45, 17.97it/s]***** Running Evaluation *****\n",
      "  Num examples = 81\n",
      "  Batch size = 8\n",
      "                                                   \n",
      " 38%|███▊      | 2511/6561 [06:13<03:45, 17.97it/s]Saving model checkpoint to ./distBert-v8/20230312_044105$-train-model-distilbert-base-uncased\\checkpoint-2511\n",
      "Configuration saved in ./distBert-v8/20230312_044105$-train-model-distilbert-base-uncased\\checkpoint-2511\\config.json\n"
     ]
    },
    {
     "name": "stdout",
     "output_type": "stream",
     "text": [
      "{'eval_loss': 0.10498186945915222, 'eval_f1': 0.8170731707317073, 'eval_roc_auc': 0.8846633159618514, 'eval_accuracy': 0.7654320987654321, 'eval_runtime': 0.1454, 'eval_samples_per_second': 557.165, 'eval_steps_per_second': 75.664, 'epoch': 31.0}\n"
     ]
    },
    {
     "name": "stderr",
     "output_type": "stream",
     "text": [
      "Model weights saved in ./distBert-v8/20230312_044105$-train-model-distilbert-base-uncased\\checkpoint-2511\\pytorch_model.bin\n",
      "tokenizer config file saved in ./distBert-v8/20230312_044105$-train-model-distilbert-base-uncased\\checkpoint-2511\\tokenizer_config.json\n",
      "Special tokens file saved in ./distBert-v8/20230312_044105$-train-model-distilbert-base-uncased\\checkpoint-2511\\special_tokens_map.json\n",
      " 39%|███▉      | 2591/6561 [06:18<03:33, 18.62it/s]***** Running Evaluation *****\n",
      "  Num examples = 81\n",
      "  Batch size = 8\n",
      "                                                   \n",
      " 40%|███▉      | 2592/6561 [06:18<03:33, 18.62it/s]Saving model checkpoint to ./distBert-v8/20230312_044105$-train-model-distilbert-base-uncased\\checkpoint-2592\n",
      "Configuration saved in ./distBert-v8/20230312_044105$-train-model-distilbert-base-uncased\\checkpoint-2592\\config.json\n"
     ]
    },
    {
     "name": "stdout",
     "output_type": "stream",
     "text": [
      "{'eval_loss': 0.10934064537286758, 'eval_f1': 0.8, 'eval_roc_auc': 0.8779636228809196, 'eval_accuracy': 0.7407407407407407, 'eval_runtime': 0.1682, 'eval_samples_per_second': 481.676, 'eval_steps_per_second': 65.413, 'epoch': 32.0}\n"
     ]
    },
    {
     "name": "stderr",
     "output_type": "stream",
     "text": [
      "Model weights saved in ./distBert-v8/20230312_044105$-train-model-distilbert-base-uncased\\checkpoint-2592\\pytorch_model.bin\n",
      "tokenizer config file saved in ./distBert-v8/20230312_044105$-train-model-distilbert-base-uncased\\checkpoint-2592\\tokenizer_config.json\n",
      "Special tokens file saved in ./distBert-v8/20230312_044105$-train-model-distilbert-base-uncased\\checkpoint-2592\\special_tokens_map.json\n",
      " 41%|████      | 2673/6561 [06:24<03:43, 17.38it/s]***** Running Evaluation *****\n",
      "  Num examples = 81\n",
      "  Batch size = 8\n",
      "                                                   \n",
      " 41%|████      | 2673/6561 [06:24<03:43, 17.38it/s]Saving model checkpoint to ./distBert-v8/20230312_044105$-train-model-distilbert-base-uncased\\checkpoint-2673\n",
      "Configuration saved in ./distBert-v8/20230312_044105$-train-model-distilbert-base-uncased\\checkpoint-2673\\config.json\n"
     ]
    },
    {
     "name": "stdout",
     "output_type": "stream",
     "text": [
      "{'eval_loss': 0.10825478285551071, 'eval_f1': 0.8098159509202453, 'eval_roc_auc': 0.8788493624734793, 'eval_accuracy': 0.7530864197530864, 'eval_runtime': 0.1646, 'eval_samples_per_second': 492.119, 'eval_steps_per_second': 66.831, 'epoch': 33.0}\n"
     ]
    },
    {
     "name": "stderr",
     "output_type": "stream",
     "text": [
      "Model weights saved in ./distBert-v8/20230312_044105$-train-model-distilbert-base-uncased\\checkpoint-2673\\pytorch_model.bin\n",
      "tokenizer config file saved in ./distBert-v8/20230312_044105$-train-model-distilbert-base-uncased\\checkpoint-2673\\tokenizer_config.json\n",
      "Special tokens file saved in ./distBert-v8/20230312_044105$-train-model-distilbert-base-uncased\\checkpoint-2673\\special_tokens_map.json\n",
      " 42%|████▏     | 2753/6561 [06:39<03:31, 18.00it/s]  ***** Running Evaluation *****\n",
      "  Num examples = 81\n",
      "  Batch size = 8\n",
      "                                                   \n",
      " 42%|████▏     | 2754/6561 [06:39<03:31, 18.00it/s]Saving model checkpoint to ./distBert-v8/20230312_044105$-train-model-distilbert-base-uncased\\checkpoint-2754\n",
      "Configuration saved in ./distBert-v8/20230312_044105$-train-model-distilbert-base-uncased\\checkpoint-2754\\config.json\n"
     ]
    },
    {
     "name": "stdout",
     "output_type": "stream",
     "text": [
      "{'eval_loss': 0.11437314003705978, 'eval_f1': 0.7852760736196319, 'eval_roc_auc': 0.8663357159041754, 'eval_accuracy': 0.7160493827160493, 'eval_runtime': 0.1557, 'eval_samples_per_second': 520.141, 'eval_steps_per_second': 70.636, 'epoch': 34.0}\n"
     ]
    },
    {
     "name": "stderr",
     "output_type": "stream",
     "text": [
      "Model weights saved in ./distBert-v8/20230312_044105$-train-model-distilbert-base-uncased\\checkpoint-2754\\pytorch_model.bin\n",
      "tokenizer config file saved in ./distBert-v8/20230312_044105$-train-model-distilbert-base-uncased\\checkpoint-2754\\tokenizer_config.json\n",
      "Special tokens file saved in ./distBert-v8/20230312_044105$-train-model-distilbert-base-uncased\\checkpoint-2754\\special_tokens_map.json\n",
      " 43%|████▎     | 2835/6561 [06:58<03:15, 19.04it/s]  ***** Running Evaluation *****\n",
      "  Num examples = 81\n",
      "  Batch size = 8\n",
      "                                                   \n",
      " 43%|████▎     | 2835/6561 [06:58<03:15, 19.04it/s]Saving model checkpoint to ./distBert-v8/20230312_044105$-train-model-distilbert-base-uncased\\checkpoint-2835\n",
      "Configuration saved in ./distBert-v8/20230312_044105$-train-model-distilbert-base-uncased\\checkpoint-2835\\config.json\n"
     ]
    },
    {
     "name": "stdout",
     "output_type": "stream",
     "text": [
      "{'eval_loss': 0.10900899767875671, 'eval_f1': 0.8098159509202453, 'eval_roc_auc': 0.8788493624734793, 'eval_accuracy': 0.7530864197530864, 'eval_runtime': 0.1397, 'eval_samples_per_second': 579.79, 'eval_steps_per_second': 78.737, 'epoch': 35.0}\n"
     ]
    },
    {
     "name": "stderr",
     "output_type": "stream",
     "text": [
      "Model weights saved in ./distBert-v8/20230312_044105$-train-model-distilbert-base-uncased\\checkpoint-2835\\pytorch_model.bin\n",
      "tokenizer config file saved in ./distBert-v8/20230312_044105$-train-model-distilbert-base-uncased\\checkpoint-2835\\tokenizer_config.json\n",
      "Special tokens file saved in ./distBert-v8/20230312_044105$-train-model-distilbert-base-uncased\\checkpoint-2835\\special_tokens_map.json\n",
      " 44%|████▍     | 2915/6561 [07:03<03:16, 18.52it/s]***** Running Evaluation *****\n",
      "  Num examples = 81\n",
      "  Batch size = 8\n",
      "                                                   \n",
      " 44%|████▍     | 2916/6561 [07:04<03:16, 18.52it/s]Saving model checkpoint to ./distBert-v8/20230312_044105$-train-model-distilbert-base-uncased\\checkpoint-2916\n",
      "Configuration saved in ./distBert-v8/20230312_044105$-train-model-distilbert-base-uncased\\checkpoint-2916\\config.json\n"
     ]
    },
    {
     "name": "stdout",
     "output_type": "stream",
     "text": [
      "{'eval_loss': 0.11070909351110458, 'eval_f1': 0.8024691358024691, 'eval_roc_auc': 0.8730354089851072, 'eval_accuracy': 0.7407407407407407, 'eval_runtime': 0.1421, 'eval_samples_per_second': 570.014, 'eval_steps_per_second': 77.409, 'epoch': 36.0}\n"
     ]
    },
    {
     "name": "stderr",
     "output_type": "stream",
     "text": [
      "Model weights saved in ./distBert-v8/20230312_044105$-train-model-distilbert-base-uncased\\checkpoint-2916\\pytorch_model.bin\n",
      "tokenizer config file saved in ./distBert-v8/20230312_044105$-train-model-distilbert-base-uncased\\checkpoint-2916\\tokenizer_config.json\n",
      "Special tokens file saved in ./distBert-v8/20230312_044105$-train-model-distilbert-base-uncased\\checkpoint-2916\\special_tokens_map.json\n",
      " 46%|████▌     | 2996/6561 [07:19<03:04, 19.28it/s]  ***** Running Evaluation *****\n",
      "  Num examples = 81\n",
      "  Batch size = 8\n",
      "                                                   \n",
      " 46%|████▌     | 2997/6561 [07:19<03:04, 19.28it/s]Saving model checkpoint to ./distBert-v8/20230312_044105$-train-model-distilbert-base-uncased\\checkpoint-2997\n",
      "Configuration saved in ./distBert-v8/20230312_044105$-train-model-distilbert-base-uncased\\checkpoint-2997\\config.json\n"
     ]
    },
    {
     "name": "stdout",
     "output_type": "stream",
     "text": [
      "{'eval_loss': 0.11319335550069809, 'eval_f1': 0.812121212121212, 'eval_roc_auc': 0.8842204461655716, 'eval_accuracy': 0.7654320987654321, 'eval_runtime': 0.1403, 'eval_samples_per_second': 577.344, 'eval_steps_per_second': 78.405, 'epoch': 37.0}\n"
     ]
    },
    {
     "name": "stderr",
     "output_type": "stream",
     "text": [
      " 46%|████▌     | 2997/6561 [07:29<03:04, 19.28it/s]Model weights saved in ./distBert-v8/20230312_044105$-train-model-distilbert-base-uncased\\checkpoint-2997\\pytorch_model.bin\n",
      "tokenizer config file saved in ./distBert-v8/20230312_044105$-train-model-distilbert-base-uncased\\checkpoint-2997\\tokenizer_config.json\n",
      "Special tokens file saved in ./distBert-v8/20230312_044105$-train-model-distilbert-base-uncased\\checkpoint-2997\\special_tokens_map.json\n",
      " 46%|████▌     | 3004/6561 [07:31<39:02,  1.52it/s]  "
     ]
    },
    {
     "name": "stdout",
     "output_type": "stream",
     "text": [
      "{'loss': 0.0022, 'learning_rate': 1.0855052583447645e-05, 'epoch': 37.04}\n"
     ]
    },
    {
     "name": "stderr",
     "output_type": "stream",
     "text": [
      " 47%|████▋     | 3078/6561 [07:35<03:04, 18.90it/s]***** Running Evaluation *****\n",
      "  Num examples = 81\n",
      "  Batch size = 8\n",
      "                                                   \n",
      " 47%|████▋     | 3078/6561 [07:35<03:04, 18.90it/s]Saving model checkpoint to ./distBert-v8/20230312_044105$-train-model-distilbert-base-uncased\\checkpoint-3078\n",
      "Configuration saved in ./distBert-v8/20230312_044105$-train-model-distilbert-base-uncased\\checkpoint-3078\\config.json\n"
     ]
    },
    {
     "name": "stdout",
     "output_type": "stream",
     "text": [
      "{'eval_loss': 0.1147693321108818, 'eval_f1': 0.8, 'eval_roc_auc': 0.8779636228809196, 'eval_accuracy': 0.7530864197530864, 'eval_runtime': 0.1454, 'eval_samples_per_second': 557.03, 'eval_steps_per_second': 75.646, 'epoch': 38.0}\n"
     ]
    },
    {
     "name": "stderr",
     "output_type": "stream",
     "text": [
      "Model weights saved in ./distBert-v8/20230312_044105$-train-model-distilbert-base-uncased\\checkpoint-3078\\pytorch_model.bin\n",
      "tokenizer config file saved in ./distBert-v8/20230312_044105$-train-model-distilbert-base-uncased\\checkpoint-3078\\tokenizer_config.json\n",
      "Special tokens file saved in ./distBert-v8/20230312_044105$-train-model-distilbert-base-uncased\\checkpoint-3078\\special_tokens_map.json\n",
      " 48%|████▊     | 3159/6561 [07:54<03:21, 16.89it/s]  ***** Running Evaluation *****\n",
      "  Num examples = 81\n",
      "  Batch size = 8\n",
      "                                                   \n",
      " 48%|████▊     | 3159/6561 [07:55<03:21, 16.89it/s]Saving model checkpoint to ./distBert-v8/20230312_044105$-train-model-distilbert-base-uncased\\checkpoint-3159\n",
      "Configuration saved in ./distBert-v8/20230312_044105$-train-model-distilbert-base-uncased\\checkpoint-3159\\config.json\n"
     ]
    },
    {
     "name": "stdout",
     "output_type": "stream",
     "text": [
      "{'eval_loss': 0.11925149708986282, 'eval_f1': 0.8, 'eval_roc_auc': 0.8779636228809196, 'eval_accuracy': 0.7530864197530864, 'eval_runtime': 0.1766, 'eval_samples_per_second': 458.762, 'eval_steps_per_second': 62.301, 'epoch': 39.0}\n"
     ]
    },
    {
     "name": "stderr",
     "output_type": "stream",
     "text": [
      "Model weights saved in ./distBert-v8/20230312_044105$-train-model-distilbert-base-uncased\\checkpoint-3159\\pytorch_model.bin\n",
      "tokenizer config file saved in ./distBert-v8/20230312_044105$-train-model-distilbert-base-uncased\\checkpoint-3159\\tokenizer_config.json\n",
      "Special tokens file saved in ./distBert-v8/20230312_044105$-train-model-distilbert-base-uncased\\checkpoint-3159\\special_tokens_map.json\n",
      " 49%|████▉     | 3240/6561 [08:00<02:58, 18.57it/s]***** Running Evaluation *****\n",
      "  Num examples = 81\n",
      "  Batch size = 8\n",
      "                                                   \n",
      " 49%|████▉     | 3240/6561 [08:00<02:58, 18.57it/s]Saving model checkpoint to ./distBert-v8/20230312_044105$-train-model-distilbert-base-uncased\\checkpoint-3240\n",
      "Configuration saved in ./distBert-v8/20230312_044105$-train-model-distilbert-base-uncased\\checkpoint-3240\\config.json\n",
      " 49%|████▉     | 3240/6561 [08:10<02:58, 18.57it/s]"
     ]
    },
    {
     "name": "stdout",
     "output_type": "stream",
     "text": [
      "{'eval_loss': 0.11915826052427292, 'eval_f1': 0.8048780487804877, 'eval_roc_auc': 0.8784064926771994, 'eval_accuracy': 0.7530864197530864, 'eval_runtime': 0.1592, 'eval_samples_per_second': 508.831, 'eval_steps_per_second': 69.101, 'epoch': 40.0}\n"
     ]
    },
    {
     "name": "stderr",
     "output_type": "stream",
     "text": [
      "Model weights saved in ./distBert-v8/20230312_044105$-train-model-distilbert-base-uncased\\checkpoint-3240\\pytorch_model.bin\n",
      "tokenizer config file saved in ./distBert-v8/20230312_044105$-train-model-distilbert-base-uncased\\checkpoint-3240\\tokenizer_config.json\n",
      "Special tokens file saved in ./distBert-v8/20230312_044105$-train-model-distilbert-base-uncased\\checkpoint-3240\\special_tokens_map.json\n",
      " 51%|█████     | 3321/6561 [08:15<02:48, 19.22it/s]  ***** Running Evaluation *****\n",
      "  Num examples = 81\n",
      "  Batch size = 8\n",
      "                                                   \n",
      " 51%|█████     | 3321/6561 [08:15<02:48, 19.22it/s]Saving model checkpoint to ./distBert-v8/20230312_044105$-train-model-distilbert-base-uncased\\checkpoint-3321\n",
      "Configuration saved in ./distBert-v8/20230312_044105$-train-model-distilbert-base-uncased\\checkpoint-3321\\config.json\n"
     ]
    },
    {
     "name": "stdout",
     "output_type": "stream",
     "text": [
      "{'eval_loss': 0.11440166085958481, 'eval_f1': 0.8170731707317073, 'eval_roc_auc': 0.8846633159618514, 'eval_accuracy': 0.7654320987654321, 'eval_runtime': 0.1407, 'eval_samples_per_second': 575.537, 'eval_steps_per_second': 78.159, 'epoch': 41.0}\n"
     ]
    },
    {
     "name": "stderr",
     "output_type": "stream",
     "text": [
      "Model weights saved in ./distBert-v8/20230312_044105$-train-model-distilbert-base-uncased\\checkpoint-3321\\pytorch_model.bin\n",
      "tokenizer config file saved in ./distBert-v8/20230312_044105$-train-model-distilbert-base-uncased\\checkpoint-3321\\tokenizer_config.json\n",
      "Special tokens file saved in ./distBert-v8/20230312_044105$-train-model-distilbert-base-uncased\\checkpoint-3321\\special_tokens_map.json\n",
      " 52%|█████▏    | 3402/6561 [08:47<02:38, 19.87it/s]  ***** Running Evaluation *****\n",
      "  Num examples = 81\n",
      "  Batch size = 8\n",
      "                                                   \n",
      " 52%|█████▏    | 3402/6561 [08:47<02:38, 19.87it/s]Saving model checkpoint to ./distBert-v8/20230312_044105$-train-model-distilbert-base-uncased\\checkpoint-3402\n",
      "Configuration saved in ./distBert-v8/20230312_044105$-train-model-distilbert-base-uncased\\checkpoint-3402\\config.json\n"
     ]
    },
    {
     "name": "stdout",
     "output_type": "stream",
     "text": [
      "{'eval_loss': 0.11729244887828827, 'eval_f1': 0.8072289156626506, 'eval_roc_auc': 0.8837775763692917, 'eval_accuracy': 0.7530864197530864, 'eval_runtime': 0.1342, 'eval_samples_per_second': 603.392, 'eval_steps_per_second': 81.942, 'epoch': 42.0}\n"
     ]
    },
    {
     "name": "stderr",
     "output_type": "stream",
     "text": [
      "Model weights saved in ./distBert-v8/20230312_044105$-train-model-distilbert-base-uncased\\checkpoint-3402\\pytorch_model.bin\n",
      "tokenizer config file saved in ./distBert-v8/20230312_044105$-train-model-distilbert-base-uncased\\checkpoint-3402\\tokenizer_config.json\n",
      "Special tokens file saved in ./distBert-v8/20230312_044105$-train-model-distilbert-base-uncased\\checkpoint-3402\\special_tokens_map.json\n",
      " 53%|█████▎    | 3481/6561 [08:52<02:36, 19.72it/s]***** Running Evaluation *****\n",
      "  Num examples = 81\n",
      "  Batch size = 8\n",
      "                                                   \n",
      " 53%|█████▎    | 3483/6561 [08:52<02:36, 19.72it/s]Saving model checkpoint to ./distBert-v8/20230312_044105$-train-model-distilbert-base-uncased\\checkpoint-3483\n",
      "Configuration saved in ./distBert-v8/20230312_044105$-train-model-distilbert-base-uncased\\checkpoint-3483\\config.json\n"
     ]
    },
    {
     "name": "stdout",
     "output_type": "stream",
     "text": [
      "{'eval_loss': 0.11450382322072983, 'eval_f1': 0.8170731707317073, 'eval_roc_auc': 0.8846633159618514, 'eval_accuracy': 0.7654320987654321, 'eval_runtime': 0.1397, 'eval_samples_per_second': 579.935, 'eval_steps_per_second': 78.757, 'epoch': 43.0}\n"
     ]
    },
    {
     "name": "stderr",
     "output_type": "stream",
     "text": [
      "Model weights saved in ./distBert-v8/20230312_044105$-train-model-distilbert-base-uncased\\checkpoint-3483\\pytorch_model.bin\n",
      "tokenizer config file saved in ./distBert-v8/20230312_044105$-train-model-distilbert-base-uncased\\checkpoint-3483\\tokenizer_config.json\n",
      "Special tokens file saved in ./distBert-v8/20230312_044105$-train-model-distilbert-base-uncased\\checkpoint-3483\\special_tokens_map.json\n",
      " 53%|█████▎    | 3502/6561 [08:54<02:55, 17.40it/s]"
     ]
    },
    {
     "name": "stdout",
     "output_type": "stream",
     "text": [
      "{'loss': 0.0015, 'learning_rate': 9.33089468068892e-06, 'epoch': 43.21}\n"
     ]
    },
    {
     "name": "stderr",
     "output_type": "stream",
     "text": [
      " 54%|█████▍    | 3562/6561 [08:57<02:31, 19.83it/s]***** Running Evaluation *****\n",
      "  Num examples = 81\n",
      "  Batch size = 8\n",
      "                                                   \n",
      " 54%|█████▍    | 3564/6561 [08:57<02:31, 19.83it/s]Saving model checkpoint to ./distBert-v8/20230312_044105$-train-model-distilbert-base-uncased\\checkpoint-3564\n",
      "Configuration saved in ./distBert-v8/20230312_044105$-train-model-distilbert-base-uncased\\checkpoint-3564\\config.json\n"
     ]
    },
    {
     "name": "stdout",
     "output_type": "stream",
     "text": [
      "{'eval_loss': 0.11271076649427414, 'eval_f1': 0.8242424242424243, 'eval_roc_auc': 0.8904772694502235, 'eval_accuracy': 0.7777777777777778, 'eval_runtime': 0.135, 'eval_samples_per_second': 600.032, 'eval_steps_per_second': 81.486, 'epoch': 44.0}\n"
     ]
    },
    {
     "name": "stderr",
     "output_type": "stream",
     "text": [
      "Model weights saved in ./distBert-v8/20230312_044105$-train-model-distilbert-base-uncased\\checkpoint-3564\\pytorch_model.bin\n",
      "tokenizer config file saved in ./distBert-v8/20230312_044105$-train-model-distilbert-base-uncased\\checkpoint-3564\\tokenizer_config.json\n",
      "Special tokens file saved in ./distBert-v8/20230312_044105$-train-model-distilbert-base-uncased\\checkpoint-3564\\special_tokens_map.json\n",
      " 56%|█████▌    | 3644/6561 [09:02<02:27, 19.82it/s]***** Running Evaluation *****\n",
      "  Num examples = 81\n",
      "  Batch size = 8\n",
      "                                                   \n",
      " 56%|█████▌    | 3645/6561 [09:02<02:27, 19.82it/s]Saving model checkpoint to ./distBert-v8/20230312_044105$-train-model-distilbert-base-uncased\\checkpoint-3645\n",
      "Configuration saved in ./distBert-v8/20230312_044105$-train-model-distilbert-base-uncased\\checkpoint-3645\\config.json\n",
      " 56%|█████▌    | 3645/6561 [09:12<02:27, 19.82it/s]"
     ]
    },
    {
     "name": "stdout",
     "output_type": "stream",
     "text": [
      "{'eval_loss': 0.11492554098367691, 'eval_f1': 0.8072289156626506, 'eval_roc_auc': 0.8837775763692917, 'eval_accuracy': 0.7530864197530864, 'eval_runtime': 0.1375, 'eval_samples_per_second': 588.935, 'eval_steps_per_second': 79.979, 'epoch': 45.0}\n"
     ]
    },
    {
     "name": "stderr",
     "output_type": "stream",
     "text": [
      "Model weights saved in ./distBert-v8/20230312_044105$-train-model-distilbert-base-uncased\\checkpoint-3645\\pytorch_model.bin\n",
      "tokenizer config file saved in ./distBert-v8/20230312_044105$-train-model-distilbert-base-uncased\\checkpoint-3645\\tokenizer_config.json\n",
      "Special tokens file saved in ./distBert-v8/20230312_044105$-train-model-distilbert-base-uncased\\checkpoint-3645\\special_tokens_map.json\n",
      " 57%|█████▋    | 3726/6561 [09:23<02:13, 21.16it/s]  ***** Running Evaluation *****\n",
      "  Num examples = 81\n",
      "  Batch size = 8\n",
      "                                                   \n",
      " 57%|█████▋    | 3726/6561 [09:23<02:13, 21.16it/s]Saving model checkpoint to ./distBert-v8/20230312_044105$-train-model-distilbert-base-uncased\\checkpoint-3726\n",
      "Configuration saved in ./distBert-v8/20230312_044105$-train-model-distilbert-base-uncased\\checkpoint-3726\\config.json\n"
     ]
    },
    {
     "name": "stdout",
     "output_type": "stream",
     "text": [
      "{'eval_loss': 0.11858358234167099, 'eval_f1': 0.812121212121212, 'eval_roc_auc': 0.8842204461655716, 'eval_accuracy': 0.7654320987654321, 'eval_runtime': 0.1284, 'eval_samples_per_second': 630.809, 'eval_steps_per_second': 85.665, 'epoch': 46.0}\n"
     ]
    },
    {
     "name": "stderr",
     "output_type": "stream",
     "text": [
      "Model weights saved in ./distBert-v8/20230312_044105$-train-model-distilbert-base-uncased\\checkpoint-3726\\pytorch_model.bin\n",
      "tokenizer config file saved in ./distBert-v8/20230312_044105$-train-model-distilbert-base-uncased\\checkpoint-3726\\tokenizer_config.json\n",
      "Special tokens file saved in ./distBert-v8/20230312_044105$-train-model-distilbert-base-uncased\\checkpoint-3726\\special_tokens_map.json\n",
      " 58%|█████▊    | 3807/6561 [09:28<02:06, 21.85it/s]***** Running Evaluation *****\n",
      "  Num examples = 81\n",
      "  Batch size = 8\n",
      "                                                   \n",
      " 58%|█████▊    | 3807/6561 [09:28<02:06, 21.85it/s]Saving model checkpoint to ./distBert-v8/20230312_044105$-train-model-distilbert-base-uncased\\checkpoint-3807\n",
      "Configuration saved in ./distBert-v8/20230312_044105$-train-model-distilbert-base-uncased\\checkpoint-3807\\config.json\n",
      " 58%|█████▊    | 3807/6561 [09:39<02:06, 21.85it/s]"
     ]
    },
    {
     "name": "stdout",
     "output_type": "stream",
     "text": [
      "{'eval_loss': 0.11904428154230118, 'eval_f1': 0.8, 'eval_roc_auc': 0.8779636228809196, 'eval_accuracy': 0.7407407407407407, 'eval_runtime': 0.1219, 'eval_samples_per_second': 664.752, 'eval_steps_per_second': 90.275, 'epoch': 47.0}\n"
     ]
    },
    {
     "name": "stderr",
     "output_type": "stream",
     "text": [
      "Model weights saved in ./distBert-v8/20230312_044105$-train-model-distilbert-base-uncased\\checkpoint-3807\\pytorch_model.bin\n",
      "tokenizer config file saved in ./distBert-v8/20230312_044105$-train-model-distilbert-base-uncased\\checkpoint-3807\\tokenizer_config.json\n",
      "Special tokens file saved in ./distBert-v8/20230312_044105$-train-model-distilbert-base-uncased\\checkpoint-3807\\special_tokens_map.json\n",
      " 59%|█████▉    | 3888/6561 [09:44<02:05, 21.32it/s]  ***** Running Evaluation *****\n",
      "  Num examples = 81\n",
      "  Batch size = 8\n",
      "                                                   \n",
      " 59%|█████▉    | 3888/6561 [09:44<02:05, 21.32it/s]Saving model checkpoint to ./distBert-v8/20230312_044105$-train-model-distilbert-base-uncased\\checkpoint-3888\n",
      "Configuration saved in ./distBert-v8/20230312_044105$-train-model-distilbert-base-uncased\\checkpoint-3888\\config.json\n"
     ]
    },
    {
     "name": "stdout",
     "output_type": "stream",
     "text": [
      "{'eval_loss': 0.11897533386945724, 'eval_f1': 0.812121212121212, 'eval_roc_auc': 0.8842204461655716, 'eval_accuracy': 0.7654320987654321, 'eval_runtime': 0.1263, 'eval_samples_per_second': 641.553, 'eval_steps_per_second': 87.124, 'epoch': 48.0}\n"
     ]
    },
    {
     "name": "stderr",
     "output_type": "stream",
     "text": [
      "Model weights saved in ./distBert-v8/20230312_044105$-train-model-distilbert-base-uncased\\checkpoint-3888\\pytorch_model.bin\n",
      "tokenizer config file saved in ./distBert-v8/20230312_044105$-train-model-distilbert-base-uncased\\checkpoint-3888\\tokenizer_config.json\n",
      "Special tokens file saved in ./distBert-v8/20230312_044105$-train-model-distilbert-base-uncased\\checkpoint-3888\\special_tokens_map.json\n",
      " 60%|██████    | 3969/6561 [09:49<01:59, 21.65it/s]***** Running Evaluation *****\n",
      "  Num examples = 81\n",
      "  Batch size = 8\n",
      "                                                   \n",
      " 60%|██████    | 3969/6561 [09:49<01:59, 21.65it/s]Saving model checkpoint to ./distBert-v8/20230312_044105$-train-model-distilbert-base-uncased\\checkpoint-3969\n",
      "Configuration saved in ./distBert-v8/20230312_044105$-train-model-distilbert-base-uncased\\checkpoint-3969\\config.json\n"
     ]
    },
    {
     "name": "stdout",
     "output_type": "stream",
     "text": [
      "{'eval_loss': 0.11973138153553009, 'eval_f1': 0.812121212121212, 'eval_roc_auc': 0.8842204461655716, 'eval_accuracy': 0.7654320987654321, 'eval_runtime': 0.122, 'eval_samples_per_second': 664.134, 'eval_steps_per_second': 90.191, 'epoch': 49.0}\n"
     ]
    },
    {
     "name": "stderr",
     "output_type": "stream",
     "text": [
      "Model weights saved in ./distBert-v8/20230312_044105$-train-model-distilbert-base-uncased\\checkpoint-3969\\pytorch_model.bin\n",
      "tokenizer config file saved in ./distBert-v8/20230312_044105$-train-model-distilbert-base-uncased\\checkpoint-3969\\tokenizer_config.json\n",
      "Special tokens file saved in ./distBert-v8/20230312_044105$-train-model-distilbert-base-uncased\\checkpoint-3969\\special_tokens_map.json\n",
      " 61%|██████    | 4002/6561 [09:52<02:05, 20.46it/s]"
     ]
    },
    {
     "name": "stdout",
     "output_type": "stream",
     "text": [
      "{'loss': 0.0011, 'learning_rate': 7.806736777930195e-06, 'epoch': 49.38}\n"
     ]
    },
    {
     "name": "stderr",
     "output_type": "stream",
     "text": [
      " 62%|██████▏   | 4050/6561 [09:54<02:22, 17.61it/s]***** Running Evaluation *****\n",
      "  Num examples = 81\n",
      "  Batch size = 8\n",
      "                                                   \n",
      " 62%|██████▏   | 4050/6561 [09:54<02:22, 17.61it/s]Saving model checkpoint to ./distBert-v8/20230312_044105$-train-model-distilbert-base-uncased\\checkpoint-4050\n",
      "Configuration saved in ./distBert-v8/20230312_044105$-train-model-distilbert-base-uncased\\checkpoint-4050\\config.json\n"
     ]
    },
    {
     "name": "stdout",
     "output_type": "stream",
     "text": [
      "{'eval_loss': 0.12392681837081909, 'eval_f1': 0.8072289156626506, 'eval_roc_auc': 0.8837775763692917, 'eval_accuracy': 0.7530864197530864, 'eval_runtime': 0.1322, 'eval_samples_per_second': 612.798, 'eval_steps_per_second': 83.219, 'epoch': 50.0}\n"
     ]
    },
    {
     "name": "stderr",
     "output_type": "stream",
     "text": [
      "Model weights saved in ./distBert-v8/20230312_044105$-train-model-distilbert-base-uncased\\checkpoint-4050\\pytorch_model.bin\n",
      "tokenizer config file saved in ./distBert-v8/20230312_044105$-train-model-distilbert-base-uncased\\checkpoint-4050\\tokenizer_config.json\n",
      "Special tokens file saved in ./distBert-v8/20230312_044105$-train-model-distilbert-base-uncased\\checkpoint-4050\\special_tokens_map.json\n",
      " 63%|██████▎   | 4131/6561 [09:59<01:55, 20.98it/s]***** Running Evaluation *****\n",
      "  Num examples = 81\n",
      "  Batch size = 8\n",
      "                                                   \n",
      " 63%|██████▎   | 4131/6561 [10:00<01:55, 20.98it/s]Saving model checkpoint to ./distBert-v8/20230312_044105$-train-model-distilbert-base-uncased\\checkpoint-4131\n",
      "Configuration saved in ./distBert-v8/20230312_044105$-train-model-distilbert-base-uncased\\checkpoint-4131\\config.json\n"
     ]
    },
    {
     "name": "stdout",
     "output_type": "stream",
     "text": [
      "{'eval_loss': 0.1213669627904892, 'eval_f1': 0.8192771084337349, 'eval_roc_auc': 0.8900343996539437, 'eval_accuracy': 0.7777777777777778, 'eval_runtime': 0.1328, 'eval_samples_per_second': 610.145, 'eval_steps_per_second': 82.859, 'epoch': 51.0}\n"
     ]
    },
    {
     "name": "stderr",
     "output_type": "stream",
     "text": [
      "Model weights saved in ./distBert-v8/20230312_044105$-train-model-distilbert-base-uncased\\checkpoint-4131\\pytorch_model.bin\n",
      "tokenizer config file saved in ./distBert-v8/20230312_044105$-train-model-distilbert-base-uncased\\checkpoint-4131\\tokenizer_config.json\n",
      "Special tokens file saved in ./distBert-v8/20230312_044105$-train-model-distilbert-base-uncased\\checkpoint-4131\\special_tokens_map.json\n",
      " 64%|██████▍   | 4211/6561 [10:04<01:49, 21.51it/s]***** Running Evaluation *****\n",
      "  Num examples = 81\n",
      "  Batch size = 8\n",
      "                                                   \n",
      " 64%|██████▍   | 4212/6561 [10:04<01:49, 21.51it/s]Saving model checkpoint to ./distBert-v8/20230312_044105$-train-model-distilbert-base-uncased\\checkpoint-4212\n",
      "Configuration saved in ./distBert-v8/20230312_044105$-train-model-distilbert-base-uncased\\checkpoint-4212\\config.json\n"
     ]
    },
    {
     "name": "stdout",
     "output_type": "stream",
     "text": [
      "{'eval_loss': 0.12734951078891754, 'eval_f1': 0.8072289156626506, 'eval_roc_auc': 0.8837775763692917, 'eval_accuracy': 0.7530864197530864, 'eval_runtime': 0.1236, 'eval_samples_per_second': 655.45, 'eval_steps_per_second': 89.012, 'epoch': 52.0}\n"
     ]
    },
    {
     "name": "stderr",
     "output_type": "stream",
     "text": [
      "Model weights saved in ./distBert-v8/20230312_044105$-train-model-distilbert-base-uncased\\checkpoint-4212\\pytorch_model.bin\n",
      "tokenizer config file saved in ./distBert-v8/20230312_044105$-train-model-distilbert-base-uncased\\checkpoint-4212\\tokenizer_config.json\n",
      "Special tokens file saved in ./distBert-v8/20230312_044105$-train-model-distilbert-base-uncased\\checkpoint-4212\\special_tokens_map.json\n",
      " 65%|██████▌   | 4292/6561 [10:09<01:47, 21.18it/s]***** Running Evaluation *****\n",
      "  Num examples = 81\n",
      "  Batch size = 8\n",
      "                                                   \n",
      " 65%|██████▌   | 4293/6561 [10:09<01:47, 21.18it/s]Saving model checkpoint to ./distBert-v8/20230312_044105$-train-model-distilbert-base-uncased\\checkpoint-4293\n",
      "Configuration saved in ./distBert-v8/20230312_044105$-train-model-distilbert-base-uncased\\checkpoint-4293\\config.json\n"
     ]
    },
    {
     "name": "stdout",
     "output_type": "stream",
     "text": [
      "{'eval_loss': 0.12462181597948074, 'eval_f1': 0.8072289156626506, 'eval_roc_auc': 0.8837775763692917, 'eval_accuracy': 0.7530864197530864, 'eval_runtime': 0.1244, 'eval_samples_per_second': 651.304, 'eval_steps_per_second': 88.449, 'epoch': 53.0}\n"
     ]
    },
    {
     "name": "stderr",
     "output_type": "stream",
     "text": [
      "Model weights saved in ./distBert-v8/20230312_044105$-train-model-distilbert-base-uncased\\checkpoint-4293\\pytorch_model.bin\n",
      "tokenizer config file saved in ./distBert-v8/20230312_044105$-train-model-distilbert-base-uncased\\checkpoint-4293\\tokenizer_config.json\n",
      "Special tokens file saved in ./distBert-v8/20230312_044105$-train-model-distilbert-base-uncased\\checkpoint-4293\\special_tokens_map.json\n",
      " 67%|██████▋   | 4372/6561 [10:14<01:41, 21.61it/s]***** Running Evaluation *****\n",
      "  Num examples = 81\n",
      "  Batch size = 8\n",
      "                                                   \n",
      " 67%|██████▋   | 4374/6561 [10:14<01:41, 21.61it/s]Saving model checkpoint to ./distBert-v8/20230312_044105$-train-model-distilbert-base-uncased\\checkpoint-4374\n",
      "Configuration saved in ./distBert-v8/20230312_044105$-train-model-distilbert-base-uncased\\checkpoint-4374\\config.json\n",
      " 67%|██████▋   | 4374/6561 [10:25<01:41, 21.61it/s]"
     ]
    },
    {
     "name": "stdout",
     "output_type": "stream",
     "text": [
      "{'eval_loss': 0.12490540742874146, 'eval_f1': 0.812121212121212, 'eval_roc_auc': 0.8842204461655716, 'eval_accuracy': 0.7654320987654321, 'eval_runtime': 0.1317, 'eval_samples_per_second': 614.897, 'eval_steps_per_second': 83.505, 'epoch': 54.0}\n"
     ]
    },
    {
     "name": "stderr",
     "output_type": "stream",
     "text": [
      "Model weights saved in ./distBert-v8/20230312_044105$-train-model-distilbert-base-uncased\\checkpoint-4374\\pytorch_model.bin\n",
      "tokenizer config file saved in ./distBert-v8/20230312_044105$-train-model-distilbert-base-uncased\\checkpoint-4374\\tokenizer_config.json\n",
      "Special tokens file saved in ./distBert-v8/20230312_044105$-train-model-distilbert-base-uncased\\checkpoint-4374\\special_tokens_map.json\n",
      " 68%|██████▊   | 4454/6561 [10:30<01:38, 21.41it/s]***** Running Evaluation *****\n",
      "  Num examples = 81\n",
      "  Batch size = 8\n",
      "                                                   \n",
      " 68%|██████▊   | 4455/6561 [10:30<01:38, 21.41it/s]Saving model checkpoint to ./distBert-v8/20230312_044105$-train-model-distilbert-base-uncased\\checkpoint-4455\n",
      "Configuration saved in ./distBert-v8/20230312_044105$-train-model-distilbert-base-uncased\\checkpoint-4455\\config.json\n"
     ]
    },
    {
     "name": "stdout",
     "output_type": "stream",
     "text": [
      "{'eval_loss': 0.12619739770889282, 'eval_f1': 0.8072289156626506, 'eval_roc_auc': 0.8837775763692917, 'eval_accuracy': 0.7530864197530864, 'eval_runtime': 0.1262, 'eval_samples_per_second': 641.607, 'eval_steps_per_second': 87.132, 'epoch': 55.0}\n"
     ]
    },
    {
     "name": "stderr",
     "output_type": "stream",
     "text": [
      "Model weights saved in ./distBert-v8/20230312_044105$-train-model-distilbert-base-uncased\\checkpoint-4455\\pytorch_model.bin\n",
      "tokenizer config file saved in ./distBert-v8/20230312_044105$-train-model-distilbert-base-uncased\\checkpoint-4455\\tokenizer_config.json\n",
      "Special tokens file saved in ./distBert-v8/20230312_044105$-train-model-distilbert-base-uncased\\checkpoint-4455\\special_tokens_map.json\n",
      " 69%|██████▊   | 4504/6561 [10:47<01:46, 19.37it/s]  "
     ]
    },
    {
     "name": "stdout",
     "output_type": "stream",
     "text": [
      "{'loss': 0.0009, 'learning_rate': 6.282578875171468e-06, 'epoch': 55.56}\n"
     ]
    },
    {
     "name": "stderr",
     "output_type": "stream",
     "text": [
      " 69%|██████▉   | 4534/6561 [10:49<01:33, 21.74it/s]***** Running Evaluation *****\n",
      "  Num examples = 81\n",
      "  Batch size = 8\n",
      "                                                   \n",
      " 69%|██████▉   | 4536/6561 [10:49<01:33, 21.74it/s]Saving model checkpoint to ./distBert-v8/20230312_044105$-train-model-distilbert-base-uncased\\checkpoint-4536\n",
      "Configuration saved in ./distBert-v8/20230312_044105$-train-model-distilbert-base-uncased\\checkpoint-4536\\config.json\n"
     ]
    },
    {
     "name": "stdout",
     "output_type": "stream",
     "text": [
      "{'eval_loss': 0.12193042784929276, 'eval_f1': 0.8072289156626506, 'eval_roc_auc': 0.8837775763692917, 'eval_accuracy': 0.7530864197530864, 'eval_runtime': 0.1282, 'eval_samples_per_second': 631.814, 'eval_steps_per_second': 85.802, 'epoch': 56.0}\n"
     ]
    },
    {
     "name": "stderr",
     "output_type": "stream",
     "text": [
      "Model weights saved in ./distBert-v8/20230312_044105$-train-model-distilbert-base-uncased\\checkpoint-4536\\pytorch_model.bin\n",
      "tokenizer config file saved in ./distBert-v8/20230312_044105$-train-model-distilbert-base-uncased\\checkpoint-4536\\tokenizer_config.json\n",
      "Special tokens file saved in ./distBert-v8/20230312_044105$-train-model-distilbert-base-uncased\\checkpoint-4536\\special_tokens_map.json\n",
      " 70%|███████   | 4615/6561 [10:54<01:31, 21.17it/s]***** Running Evaluation *****\n",
      "  Num examples = 81\n",
      "  Batch size = 8\n",
      "                                                   \n",
      " 70%|███████   | 4617/6561 [10:54<01:31, 21.17it/s]Saving model checkpoint to ./distBert-v8/20230312_044105$-train-model-distilbert-base-uncased\\checkpoint-4617\n",
      "Configuration saved in ./distBert-v8/20230312_044105$-train-model-distilbert-base-uncased\\checkpoint-4617\\config.json\n",
      " 70%|███████   | 4617/6561 [11:05<01:31, 21.17it/s]"
     ]
    },
    {
     "name": "stdout",
     "output_type": "stream",
     "text": [
      "{'eval_loss': 0.1254681944847107, 'eval_f1': 0.812121212121212, 'eval_roc_auc': 0.8842204461655716, 'eval_accuracy': 0.7654320987654321, 'eval_runtime': 0.1249, 'eval_samples_per_second': 648.546, 'eval_steps_per_second': 88.074, 'epoch': 57.0}\n"
     ]
    },
    {
     "name": "stderr",
     "output_type": "stream",
     "text": [
      "Model weights saved in ./distBert-v8/20230312_044105$-train-model-distilbert-base-uncased\\checkpoint-4617\\pytorch_model.bin\n",
      "tokenizer config file saved in ./distBert-v8/20230312_044105$-train-model-distilbert-base-uncased\\checkpoint-4617\\tokenizer_config.json\n",
      "Special tokens file saved in ./distBert-v8/20230312_044105$-train-model-distilbert-base-uncased\\checkpoint-4617\\special_tokens_map.json\n",
      " 72%|███████▏  | 4696/6561 [11:10<01:31, 20.31it/s]***** Running Evaluation *****\n",
      "  Num examples = 81\n",
      "  Batch size = 8\n",
      "                                                   \n",
      " 72%|███████▏  | 4698/6561 [11:10<01:31, 20.31it/s]Saving model checkpoint to ./distBert-v8/20230312_044105$-train-model-distilbert-base-uncased\\checkpoint-4698\n",
      "Configuration saved in ./distBert-v8/20230312_044105$-train-model-distilbert-base-uncased\\checkpoint-4698\\config.json\n"
     ]
    },
    {
     "name": "stdout",
     "output_type": "stream",
     "text": [
      "{'eval_loss': 0.1296076476573944, 'eval_f1': 0.8072289156626506, 'eval_roc_auc': 0.8837775763692917, 'eval_accuracy': 0.7530864197530864, 'eval_runtime': 0.1365, 'eval_samples_per_second': 593.501, 'eval_steps_per_second': 80.599, 'epoch': 58.0}\n"
     ]
    },
    {
     "name": "stderr",
     "output_type": "stream",
     "text": [
      "Model weights saved in ./distBert-v8/20230312_044105$-train-model-distilbert-base-uncased\\checkpoint-4698\\pytorch_model.bin\n",
      "tokenizer config file saved in ./distBert-v8/20230312_044105$-train-model-distilbert-base-uncased\\checkpoint-4698\\tokenizer_config.json\n",
      "Special tokens file saved in ./distBert-v8/20230312_044105$-train-model-distilbert-base-uncased\\checkpoint-4698\\special_tokens_map.json\n",
      " 73%|███████▎  | 4778/6561 [11:29<01:22, 21.57it/s]***** Running Evaluation *****\n",
      "  Num examples = 81\n",
      "  Batch size = 8\n",
      "                                                   \n",
      " 73%|███████▎  | 4779/6561 [11:30<01:22, 21.57it/s]Saving model checkpoint to ./distBert-v8/20230312_044105$-train-model-distilbert-base-uncased\\checkpoint-4779\n",
      "Configuration saved in ./distBert-v8/20230312_044105$-train-model-distilbert-base-uncased\\checkpoint-4779\\config.json\n"
     ]
    },
    {
     "name": "stdout",
     "output_type": "stream",
     "text": [
      "{'eval_loss': 0.12702850997447968, 'eval_f1': 0.812121212121212, 'eval_roc_auc': 0.8842204461655716, 'eval_accuracy': 0.7654320987654321, 'eval_runtime': 0.1227, 'eval_samples_per_second': 660.105, 'eval_steps_per_second': 89.644, 'epoch': 59.0}\n"
     ]
    },
    {
     "name": "stderr",
     "output_type": "stream",
     "text": [
      "Model weights saved in ./distBert-v8/20230312_044105$-train-model-distilbert-base-uncased\\checkpoint-4779\\pytorch_model.bin\n",
      "tokenizer config file saved in ./distBert-v8/20230312_044105$-train-model-distilbert-base-uncased\\checkpoint-4779\\tokenizer_config.json\n",
      "Special tokens file saved in ./distBert-v8/20230312_044105$-train-model-distilbert-base-uncased\\checkpoint-4779\\special_tokens_map.json\n",
      " 74%|███████▍  | 4858/6561 [11:34<01:20, 21.26it/s]***** Running Evaluation *****\n",
      "  Num examples = 81\n",
      "  Batch size = 8\n",
      "                                                   \n",
      " 74%|███████▍  | 4860/6561 [11:34<01:20, 21.26it/s]Saving model checkpoint to ./distBert-v8/20230312_044105$-train-model-distilbert-base-uncased\\checkpoint-4860\n",
      "Configuration saved in ./distBert-v8/20230312_044105$-train-model-distilbert-base-uncased\\checkpoint-4860\\config.json\n"
     ]
    },
    {
     "name": "stdout",
     "output_type": "stream",
     "text": [
      "{'eval_loss': 0.12728609144687653, 'eval_f1': 0.812121212121212, 'eval_roc_auc': 0.8842204461655716, 'eval_accuracy': 0.7654320987654321, 'eval_runtime': 0.1233, 'eval_samples_per_second': 657.187, 'eval_steps_per_second': 89.248, 'epoch': 60.0}\n"
     ]
    },
    {
     "name": "stderr",
     "output_type": "stream",
     "text": [
      " 74%|███████▍  | 4860/6561 [11:45<01:20, 21.26it/s]Model weights saved in ./distBert-v8/20230312_044105$-train-model-distilbert-base-uncased\\checkpoint-4860\\pytorch_model.bin\n",
      "tokenizer config file saved in ./distBert-v8/20230312_044105$-train-model-distilbert-base-uncased\\checkpoint-4860\\tokenizer_config.json\n",
      "Special tokens file saved in ./distBert-v8/20230312_044105$-train-model-distilbert-base-uncased\\checkpoint-4860\\special_tokens_map.json\n",
      " 75%|███████▌  | 4939/6561 [11:49<01:16, 21.31it/s]***** Running Evaluation *****\n",
      "  Num examples = 81\n",
      "  Batch size = 8\n",
      "                                                   \n",
      " 75%|███████▌  | 4941/6561 [11:50<01:16, 21.31it/s]Saving model checkpoint to ./distBert-v8/20230312_044105$-train-model-distilbert-base-uncased\\checkpoint-4941\n",
      "Configuration saved in ./distBert-v8/20230312_044105$-train-model-distilbert-base-uncased\\checkpoint-4941\\config.json\n"
     ]
    },
    {
     "name": "stdout",
     "output_type": "stream",
     "text": [
      "{'eval_loss': 0.1290653795003891, 'eval_f1': 0.812121212121212, 'eval_roc_auc': 0.8842204461655716, 'eval_accuracy': 0.7654320987654321, 'eval_runtime': 0.127, 'eval_samples_per_second': 637.7, 'eval_steps_per_second': 86.601, 'epoch': 61.0}\n"
     ]
    },
    {
     "name": "stderr",
     "output_type": "stream",
     "text": [
      "Model weights saved in ./distBert-v8/20230312_044105$-train-model-distilbert-base-uncased\\checkpoint-4941\\pytorch_model.bin\n",
      "tokenizer config file saved in ./distBert-v8/20230312_044105$-train-model-distilbert-base-uncased\\checkpoint-4941\\tokenizer_config.json\n",
      "Special tokens file saved in ./distBert-v8/20230312_044105$-train-model-distilbert-base-uncased\\checkpoint-4941\\special_tokens_map.json\n",
      " 76%|███████▋  | 5003/6561 [12:06<01:25, 18.23it/s]"
     ]
    },
    {
     "name": "stdout",
     "output_type": "stream",
     "text": [
      "{'loss': 0.0007, 'learning_rate': 4.7584209724127425e-06, 'epoch': 61.73}\n"
     ]
    },
    {
     "name": "stderr",
     "output_type": "stream",
     "text": [
      " 77%|███████▋  | 5021/6561 [12:07<01:22, 18.72it/s]***** Running Evaluation *****\n",
      "  Num examples = 81\n",
      "  Batch size = 8\n",
      "                                                   \n",
      " 77%|███████▋  | 5022/6561 [12:07<01:22, 18.72it/s]Saving model checkpoint to ./distBert-v8/20230312_044105$-train-model-distilbert-base-uncased\\checkpoint-5022\n",
      "Configuration saved in ./distBert-v8/20230312_044105$-train-model-distilbert-base-uncased\\checkpoint-5022\\config.json\n"
     ]
    },
    {
     "name": "stdout",
     "output_type": "stream",
     "text": [
      "{'eval_loss': 0.13144029676914215, 'eval_f1': 0.8072289156626506, 'eval_roc_auc': 0.8837775763692917, 'eval_accuracy': 0.7530864197530864, 'eval_runtime': 0.1377, 'eval_samples_per_second': 588.435, 'eval_steps_per_second': 79.911, 'epoch': 62.0}\n"
     ]
    },
    {
     "name": "stderr",
     "output_type": "stream",
     "text": [
      "Model weights saved in ./distBert-v8/20230312_044105$-train-model-distilbert-base-uncased\\checkpoint-5022\\pytorch_model.bin\n",
      "tokenizer config file saved in ./distBert-v8/20230312_044105$-train-model-distilbert-base-uncased\\checkpoint-5022\\tokenizer_config.json\n",
      "Special tokens file saved in ./distBert-v8/20230312_044105$-train-model-distilbert-base-uncased\\checkpoint-5022\\special_tokens_map.json\n",
      " 78%|███████▊  | 5103/6561 [12:12<01:18, 18.59it/s]***** Running Evaluation *****\n",
      "  Num examples = 81\n",
      "  Batch size = 8\n",
      "                                                   \n",
      " 78%|███████▊  | 5103/6561 [12:12<01:18, 18.59it/s]Saving model checkpoint to ./distBert-v8/20230312_044105$-train-model-distilbert-base-uncased\\checkpoint-5103\n",
      "Configuration saved in ./distBert-v8/20230312_044105$-train-model-distilbert-base-uncased\\checkpoint-5103\\config.json\n"
     ]
    },
    {
     "name": "stdout",
     "output_type": "stream",
     "text": [
      "{'eval_loss': 0.13008899986743927, 'eval_f1': 0.812121212121212, 'eval_roc_auc': 0.8842204461655716, 'eval_accuracy': 0.7654320987654321, 'eval_runtime': 0.1383, 'eval_samples_per_second': 585.602, 'eval_steps_per_second': 79.526, 'epoch': 63.0}\n"
     ]
    },
    {
     "name": "stderr",
     "output_type": "stream",
     "text": [
      "Model weights saved in ./distBert-v8/20230312_044105$-train-model-distilbert-base-uncased\\checkpoint-5103\\pytorch_model.bin\n",
      "tokenizer config file saved in ./distBert-v8/20230312_044105$-train-model-distilbert-base-uncased\\checkpoint-5103\\tokenizer_config.json\n",
      "Special tokens file saved in ./distBert-v8/20230312_044105$-train-model-distilbert-base-uncased\\checkpoint-5103\\special_tokens_map.json\n",
      " 79%|███████▉  | 5184/6561 [12:27<01:10, 19.57it/s]***** Running Evaluation *****\n",
      "  Num examples = 81\n",
      "  Batch size = 8\n",
      "                                                   \n",
      " 79%|███████▉  | 5184/6561 [12:27<01:10, 19.57it/s]Saving model checkpoint to ./distBert-v8/20230312_044105$-train-model-distilbert-base-uncased\\checkpoint-5184\n",
      "Configuration saved in ./distBert-v8/20230312_044105$-train-model-distilbert-base-uncased\\checkpoint-5184\\config.json\n"
     ]
    },
    {
     "name": "stdout",
     "output_type": "stream",
     "text": [
      "{'eval_loss': 0.12773272395133972, 'eval_f1': 0.8072289156626506, 'eval_roc_auc': 0.8837775763692917, 'eval_accuracy': 0.7530864197530864, 'eval_runtime': 0.1341, 'eval_samples_per_second': 603.876, 'eval_steps_per_second': 82.008, 'epoch': 64.0}\n"
     ]
    },
    {
     "name": "stderr",
     "output_type": "stream",
     "text": [
      "Model weights saved in ./distBert-v8/20230312_044105$-train-model-distilbert-base-uncased\\checkpoint-5184\\pytorch_model.bin\n",
      "tokenizer config file saved in ./distBert-v8/20230312_044105$-train-model-distilbert-base-uncased\\checkpoint-5184\\tokenizer_config.json\n",
      "Special tokens file saved in ./distBert-v8/20230312_044105$-train-model-distilbert-base-uncased\\checkpoint-5184\\special_tokens_map.json\n",
      " 80%|████████  | 5263/6561 [12:43<01:07, 19.19it/s]***** Running Evaluation *****\n",
      "  Num examples = 81\n",
      "  Batch size = 8\n",
      "                                                   \n",
      " 80%|████████  | 5265/6561 [12:43<01:07, 19.19it/s]Saving model checkpoint to ./distBert-v8/20230312_044105$-train-model-distilbert-base-uncased\\checkpoint-5265\n",
      "Configuration saved in ./distBert-v8/20230312_044105$-train-model-distilbert-base-uncased\\checkpoint-5265\\config.json\n"
     ]
    },
    {
     "name": "stdout",
     "output_type": "stream",
     "text": [
      "{'eval_loss': 0.1272953599691391, 'eval_f1': 0.812121212121212, 'eval_roc_auc': 0.8842204461655716, 'eval_accuracy': 0.7654320987654321, 'eval_runtime': 0.138, 'eval_samples_per_second': 587.089, 'eval_steps_per_second': 79.728, 'epoch': 65.0}\n"
     ]
    },
    {
     "name": "stderr",
     "output_type": "stream",
     "text": [
      "Model weights saved in ./distBert-v8/20230312_044105$-train-model-distilbert-base-uncased\\checkpoint-5265\\pytorch_model.bin\n",
      "tokenizer config file saved in ./distBert-v8/20230312_044105$-train-model-distilbert-base-uncased\\checkpoint-5265\\tokenizer_config.json\n",
      "Special tokens file saved in ./distBert-v8/20230312_044105$-train-model-distilbert-base-uncased\\checkpoint-5265\\special_tokens_map.json\n",
      " 81%|████████▏ | 5346/6561 [12:50<01:01, 19.68it/s]***** Running Evaluation *****\n",
      "  Num examples = 81\n",
      "  Batch size = 8\n",
      "                                                   \n",
      " 81%|████████▏ | 5346/6561 [12:50<01:01, 19.68it/s]Saving model checkpoint to ./distBert-v8/20230312_044105$-train-model-distilbert-base-uncased\\checkpoint-5346\n",
      "Configuration saved in ./distBert-v8/20230312_044105$-train-model-distilbert-base-uncased\\checkpoint-5346\\config.json\n"
     ]
    },
    {
     "name": "stdout",
     "output_type": "stream",
     "text": [
      "{'eval_loss': 0.12786509096622467, 'eval_f1': 0.812121212121212, 'eval_roc_auc': 0.8842204461655716, 'eval_accuracy': 0.7654320987654321, 'eval_runtime': 0.1382, 'eval_samples_per_second': 586.083, 'eval_steps_per_second': 79.591, 'epoch': 66.0}\n"
     ]
    },
    {
     "name": "stderr",
     "output_type": "stream",
     "text": [
      "Model weights saved in ./distBert-v8/20230312_044105$-train-model-distilbert-base-uncased\\checkpoint-5346\\pytorch_model.bin\n",
      "tokenizer config file saved in ./distBert-v8/20230312_044105$-train-model-distilbert-base-uncased\\checkpoint-5346\\tokenizer_config.json\n",
      "Special tokens file saved in ./distBert-v8/20230312_044105$-train-model-distilbert-base-uncased\\checkpoint-5346\\special_tokens_map.json\n",
      " 83%|████████▎ | 5426/6561 [13:03<00:56, 20.18it/s]***** Running Evaluation *****\n",
      "  Num examples = 81\n",
      "  Batch size = 8\n",
      "                                                   \n",
      " 83%|████████▎ | 5427/6561 [13:04<00:56, 20.18it/s]Saving model checkpoint to ./distBert-v8/20230312_044105$-train-model-distilbert-base-uncased\\checkpoint-5427\n",
      "Configuration saved in ./distBert-v8/20230312_044105$-train-model-distilbert-base-uncased\\checkpoint-5427\\config.json\n"
     ]
    },
    {
     "name": "stdout",
     "output_type": "stream",
     "text": [
      "{'eval_loss': 0.13076454401016235, 'eval_f1': 0.8072289156626506, 'eval_roc_auc': 0.8837775763692917, 'eval_accuracy': 0.7530864197530864, 'eval_runtime': 0.1369, 'eval_samples_per_second': 591.61, 'eval_steps_per_second': 80.342, 'epoch': 67.0}\n"
     ]
    },
    {
     "name": "stderr",
     "output_type": "stream",
     "text": [
      "Model weights saved in ./distBert-v8/20230312_044105$-train-model-distilbert-base-uncased\\checkpoint-5427\\pytorch_model.bin\n",
      "tokenizer config file saved in ./distBert-v8/20230312_044105$-train-model-distilbert-base-uncased\\checkpoint-5427\\tokenizer_config.json\n",
      "Special tokens file saved in ./distBert-v8/20230312_044105$-train-model-distilbert-base-uncased\\checkpoint-5427\\special_tokens_map.json\n",
      " 84%|████████▍ | 5503/6561 [13:18<00:52, 20.07it/s]"
     ]
    },
    {
     "name": "stdout",
     "output_type": "stream",
     "text": [
      "{'loss': 0.0006, 'learning_rate': 3.234263069654016e-06, 'epoch': 67.9}\n"
     ]
    },
    {
     "name": "stderr",
     "output_type": "stream",
     "text": [
      " 84%|████████▍ | 5506/6561 [13:19<00:52, 20.22it/s]***** Running Evaluation *****\n",
      "  Num examples = 81\n",
      "  Batch size = 8\n",
      "                                                   \n",
      " 84%|████████▍ | 5508/6561 [13:19<00:52, 20.22it/s]Saving model checkpoint to ./distBert-v8/20230312_044105$-train-model-distilbert-base-uncased\\checkpoint-5508\n",
      "Configuration saved in ./distBert-v8/20230312_044105$-train-model-distilbert-base-uncased\\checkpoint-5508\\config.json\n"
     ]
    },
    {
     "name": "stdout",
     "output_type": "stream",
     "text": [
      "{'eval_loss': 0.12958067655563354, 'eval_f1': 0.8072289156626506, 'eval_roc_auc': 0.8837775763692917, 'eval_accuracy': 0.7530864197530864, 'eval_runtime': 0.131, 'eval_samples_per_second': 618.453, 'eval_steps_per_second': 83.987, 'epoch': 68.0}\n"
     ]
    },
    {
     "name": "stderr",
     "output_type": "stream",
     "text": [
      "Model weights saved in ./distBert-v8/20230312_044105$-train-model-distilbert-base-uncased\\checkpoint-5508\\pytorch_model.bin\n",
      "tokenizer config file saved in ./distBert-v8/20230312_044105$-train-model-distilbert-base-uncased\\checkpoint-5508\\tokenizer_config.json\n",
      "Special tokens file saved in ./distBert-v8/20230312_044105$-train-model-distilbert-base-uncased\\checkpoint-5508\\special_tokens_map.json\n",
      " 85%|████████▌ | 5587/6561 [13:27<00:47, 20.44it/s]***** Running Evaluation *****\n",
      "  Num examples = 81\n",
      "  Batch size = 8\n",
      "                                                   \n",
      " 85%|████████▌ | 5589/6561 [13:27<00:47, 20.44it/s]Saving model checkpoint to ./distBert-v8/20230312_044105$-train-model-distilbert-base-uncased\\checkpoint-5589\n",
      "Configuration saved in ./distBert-v8/20230312_044105$-train-model-distilbert-base-uncased\\checkpoint-5589\\config.json\n"
     ]
    },
    {
     "name": "stdout",
     "output_type": "stream",
     "text": [
      "{'eval_loss': 0.13074661791324615, 'eval_f1': 0.8072289156626506, 'eval_roc_auc': 0.8837775763692917, 'eval_accuracy': 0.7530864197530864, 'eval_runtime': 0.1377, 'eval_samples_per_second': 588.28, 'eval_steps_per_second': 79.89, 'epoch': 69.0}\n"
     ]
    },
    {
     "name": "stderr",
     "output_type": "stream",
     "text": [
      "Model weights saved in ./distBert-v8/20230312_044105$-train-model-distilbert-base-uncased\\checkpoint-5589\\pytorch_model.bin\n",
      "tokenizer config file saved in ./distBert-v8/20230312_044105$-train-model-distilbert-base-uncased\\checkpoint-5589\\tokenizer_config.json\n",
      "Special tokens file saved in ./distBert-v8/20230312_044105$-train-model-distilbert-base-uncased\\checkpoint-5589\\special_tokens_map.json\n",
      " 86%|████████▋ | 5668/6561 [13:39<00:43, 20.44it/s]***** Running Evaluation *****\n",
      "  Num examples = 81\n",
      "  Batch size = 8\n",
      "                                                   \n",
      " 86%|████████▋ | 5670/6561 [13:39<00:43, 20.44it/s]Saving model checkpoint to ./distBert-v8/20230312_044105$-train-model-distilbert-base-uncased\\checkpoint-5670\n",
      "Configuration saved in ./distBert-v8/20230312_044105$-train-model-distilbert-base-uncased\\checkpoint-5670\\config.json\n"
     ]
    },
    {
     "name": "stdout",
     "output_type": "stream",
     "text": [
      "{'eval_loss': 0.13277815282344818, 'eval_f1': 0.8072289156626506, 'eval_roc_auc': 0.8837775763692917, 'eval_accuracy': 0.7530864197530864, 'eval_runtime': 0.1341, 'eval_samples_per_second': 603.814, 'eval_steps_per_second': 81.999, 'epoch': 70.0}\n"
     ]
    },
    {
     "name": "stderr",
     "output_type": "stream",
     "text": [
      "Model weights saved in ./distBert-v8/20230312_044105$-train-model-distilbert-base-uncased\\checkpoint-5670\\pytorch_model.bin\n",
      "tokenizer config file saved in ./distBert-v8/20230312_044105$-train-model-distilbert-base-uncased\\checkpoint-5670\\tokenizer_config.json\n",
      "Special tokens file saved in ./distBert-v8/20230312_044105$-train-model-distilbert-base-uncased\\checkpoint-5670\\special_tokens_map.json\n",
      " 88%|████████▊ | 5751/6561 [13:54<00:40, 20.01it/s]***** Running Evaluation *****\n",
      "  Num examples = 81\n",
      "  Batch size = 8\n",
      "                                                   \n",
      " 88%|████████▊ | 5751/6561 [13:54<00:40, 20.01it/s]Saving model checkpoint to ./distBert-v8/20230312_044105$-train-model-distilbert-base-uncased\\checkpoint-5751\n",
      "Configuration saved in ./distBert-v8/20230312_044105$-train-model-distilbert-base-uncased\\checkpoint-5751\\config.json\n"
     ]
    },
    {
     "name": "stdout",
     "output_type": "stream",
     "text": [
      "{'eval_loss': 0.13225118815898895, 'eval_f1': 0.8072289156626506, 'eval_roc_auc': 0.8837775763692917, 'eval_accuracy': 0.7530864197530864, 'eval_runtime': 0.1391, 'eval_samples_per_second': 582.186, 'eval_steps_per_second': 79.062, 'epoch': 71.0}\n"
     ]
    },
    {
     "name": "stderr",
     "output_type": "stream",
     "text": [
      "Model weights saved in ./distBert-v8/20230312_044105$-train-model-distilbert-base-uncased\\checkpoint-5751\\pytorch_model.bin\n",
      "tokenizer config file saved in ./distBert-v8/20230312_044105$-train-model-distilbert-base-uncased\\checkpoint-5751\\tokenizer_config.json\n",
      "Special tokens file saved in ./distBert-v8/20230312_044105$-train-model-distilbert-base-uncased\\checkpoint-5751\\special_tokens_map.json\n",
      " 89%|████████▉ | 5832/6561 [14:05<00:35, 20.42it/s]***** Running Evaluation *****\n",
      "  Num examples = 81\n",
      "  Batch size = 8\n",
      "                                                   \n",
      " 89%|████████▉ | 5832/6561 [14:05<00:35, 20.42it/s]Saving model checkpoint to ./distBert-v8/20230312_044105$-train-model-distilbert-base-uncased\\checkpoint-5832\n",
      "Configuration saved in ./distBert-v8/20230312_044105$-train-model-distilbert-base-uncased\\checkpoint-5832\\config.json\n"
     ]
    },
    {
     "name": "stdout",
     "output_type": "stream",
     "text": [
      "{'eval_loss': 0.13308167457580566, 'eval_f1': 0.8072289156626506, 'eval_roc_auc': 0.8837775763692917, 'eval_accuracy': 0.7530864197530864, 'eval_runtime': 0.1348, 'eval_samples_per_second': 600.831, 'eval_steps_per_second': 81.594, 'epoch': 72.0}\n"
     ]
    },
    {
     "name": "stderr",
     "output_type": "stream",
     "text": [
      "Model weights saved in ./distBert-v8/20230312_044105$-train-model-distilbert-base-uncased\\checkpoint-5832\\pytorch_model.bin\n",
      "tokenizer config file saved in ./distBert-v8/20230312_044105$-train-model-distilbert-base-uncased\\checkpoint-5832\\tokenizer_config.json\n",
      "Special tokens file saved in ./distBert-v8/20230312_044105$-train-model-distilbert-base-uncased\\checkpoint-5832\\special_tokens_map.json\n",
      " 90%|█████████ | 5911/6561 [14:14<00:31, 20.40it/s]***** Running Evaluation *****\n",
      "  Num examples = 81\n",
      "  Batch size = 8\n",
      "                                                   \n",
      " 90%|█████████ | 5913/6561 [14:15<00:31, 20.40it/s]Saving model checkpoint to ./distBert-v8/20230312_044105$-train-model-distilbert-base-uncased\\checkpoint-5913\n",
      "Configuration saved in ./distBert-v8/20230312_044105$-train-model-distilbert-base-uncased\\checkpoint-5913\\config.json\n"
     ]
    },
    {
     "name": "stdout",
     "output_type": "stream",
     "text": [
      "{'eval_loss': 0.1343746930360794, 'eval_f1': 0.8072289156626506, 'eval_roc_auc': 0.8837775763692917, 'eval_accuracy': 0.7530864197530864, 'eval_runtime': 0.1373, 'eval_samples_per_second': 589.781, 'eval_steps_per_second': 80.094, 'epoch': 73.0}\n"
     ]
    },
    {
     "name": "stderr",
     "output_type": "stream",
     "text": [
      " 90%|█████████ | 5913/6561 [14:25<00:31, 20.40it/s]Model weights saved in ./distBert-v8/20230312_044105$-train-model-distilbert-base-uncased\\checkpoint-5913\\pytorch_model.bin\n",
      "tokenizer config file saved in ./distBert-v8/20230312_044105$-train-model-distilbert-base-uncased\\checkpoint-5913\\tokenizer_config.json\n",
      "Special tokens file saved in ./distBert-v8/20230312_044105$-train-model-distilbert-base-uncased\\checkpoint-5913\\special_tokens_map.json\n",
      " 91%|█████████▏| 5993/6561 [14:31<00:27, 20.34it/s]***** Running Evaluation *****\n",
      "  Num examples = 81\n",
      "  Batch size = 8\n",
      "                                                   \n",
      " 91%|█████████▏| 5994/6561 [14:31<00:27, 20.34it/s]Saving model checkpoint to ./distBert-v8/20230312_044105$-train-model-distilbert-base-uncased\\checkpoint-5994\n",
      "Configuration saved in ./distBert-v8/20230312_044105$-train-model-distilbert-base-uncased\\checkpoint-5994\\config.json\n"
     ]
    },
    {
     "name": "stdout",
     "output_type": "stream",
     "text": [
      "{'eval_loss': 0.1317467838525772, 'eval_f1': 0.8072289156626506, 'eval_roc_auc': 0.8837775763692917, 'eval_accuracy': 0.7530864197530864, 'eval_runtime': 0.1352, 'eval_samples_per_second': 599.026, 'eval_steps_per_second': 81.349, 'epoch': 74.0}\n"
     ]
    },
    {
     "name": "stderr",
     "output_type": "stream",
     "text": [
      "Model weights saved in ./distBert-v8/20230312_044105$-train-model-distilbert-base-uncased\\checkpoint-5994\\pytorch_model.bin\n",
      "tokenizer config file saved in ./distBert-v8/20230312_044105$-train-model-distilbert-base-uncased\\checkpoint-5994\\tokenizer_config.json\n",
      "Special tokens file saved in ./distBert-v8/20230312_044105$-train-model-distilbert-base-uncased\\checkpoint-5994\\special_tokens_map.json\n",
      " 92%|█████████▏| 6004/6561 [14:38<02:42,  3.42it/s]"
     ]
    },
    {
     "name": "stdout",
     "output_type": "stream",
     "text": [
      "{'loss': 0.0005, 'learning_rate': 1.7101051668952906e-06, 'epoch': 74.07}\n"
     ]
    },
    {
     "name": "stderr",
     "output_type": "stream",
     "text": [
      " 93%|█████████▎| 6075/6561 [14:41<00:23, 20.34it/s]***** Running Evaluation *****\n",
      "  Num examples = 81\n",
      "  Batch size = 8\n",
      "                                                   \n",
      " 93%|█████████▎| 6075/6561 [14:41<00:23, 20.34it/s]Saving model checkpoint to ./distBert-v8/20230312_044105$-train-model-distilbert-base-uncased\\checkpoint-6075\n",
      "Configuration saved in ./distBert-v8/20230312_044105$-train-model-distilbert-base-uncased\\checkpoint-6075\\config.json\n"
     ]
    },
    {
     "name": "stdout",
     "output_type": "stream",
     "text": [
      "{'eval_loss': 0.1331893354654312, 'eval_f1': 0.8072289156626506, 'eval_roc_auc': 0.8837775763692917, 'eval_accuracy': 0.7530864197530864, 'eval_runtime': 0.1343, 'eval_samples_per_second': 603.304, 'eval_steps_per_second': 81.93, 'epoch': 75.0}\n"
     ]
    },
    {
     "name": "stderr",
     "output_type": "stream",
     "text": [
      "Model weights saved in ./distBert-v8/20230312_044105$-train-model-distilbert-base-uncased\\checkpoint-6075\\pytorch_model.bin\n",
      "tokenizer config file saved in ./distBert-v8/20230312_044105$-train-model-distilbert-base-uncased\\checkpoint-6075\\tokenizer_config.json\n",
      "Special tokens file saved in ./distBert-v8/20230312_044105$-train-model-distilbert-base-uncased\\checkpoint-6075\\special_tokens_map.json\n",
      " 94%|█████████▍| 6155/6561 [14:51<00:19, 20.36it/s]***** Running Evaluation *****\n",
      "  Num examples = 81\n",
      "  Batch size = 8\n",
      "                                                   \n",
      " 94%|█████████▍| 6156/6561 [14:51<00:19, 20.36it/s]Saving model checkpoint to ./distBert-v8/20230312_044105$-train-model-distilbert-base-uncased\\checkpoint-6156\n",
      "Configuration saved in ./distBert-v8/20230312_044105$-train-model-distilbert-base-uncased\\checkpoint-6156\\config.json\n"
     ]
    },
    {
     "name": "stdout",
     "output_type": "stream",
     "text": [
      "{'eval_loss': 0.13307981193065643, 'eval_f1': 0.8072289156626506, 'eval_roc_auc': 0.8837775763692917, 'eval_accuracy': 0.7530864197530864, 'eval_runtime': 0.1353, 'eval_samples_per_second': 598.596, 'eval_steps_per_second': 81.291, 'epoch': 76.0}\n"
     ]
    },
    {
     "name": "stderr",
     "output_type": "stream",
     "text": [
      "Model weights saved in ./distBert-v8/20230312_044105$-train-model-distilbert-base-uncased\\checkpoint-6156\\pytorch_model.bin\n",
      "tokenizer config file saved in ./distBert-v8/20230312_044105$-train-model-distilbert-base-uncased\\checkpoint-6156\\tokenizer_config.json\n",
      "Special tokens file saved in ./distBert-v8/20230312_044105$-train-model-distilbert-base-uncased\\checkpoint-6156\\special_tokens_map.json\n",
      " 95%|█████████▌| 6236/6561 [15:06<00:15, 20.32it/s]***** Running Evaluation *****\n",
      "  Num examples = 81\n",
      "  Batch size = 8\n",
      "                                                   \n",
      " 95%|█████████▌| 6237/6561 [15:06<00:15, 20.32it/s]Saving model checkpoint to ./distBert-v8/20230312_044105$-train-model-distilbert-base-uncased\\checkpoint-6237\n",
      "Configuration saved in ./distBert-v8/20230312_044105$-train-model-distilbert-base-uncased\\checkpoint-6237\\config.json\n"
     ]
    },
    {
     "name": "stdout",
     "output_type": "stream",
     "text": [
      "{'eval_loss': 0.13225188851356506, 'eval_f1': 0.8072289156626506, 'eval_roc_auc': 0.8837775763692917, 'eval_accuracy': 0.7530864197530864, 'eval_runtime': 0.1382, 'eval_samples_per_second': 586.038, 'eval_steps_per_second': 79.585, 'epoch': 77.0}\n"
     ]
    },
    {
     "name": "stderr",
     "output_type": "stream",
     "text": [
      "Model weights saved in ./distBert-v8/20230312_044105$-train-model-distilbert-base-uncased\\checkpoint-6237\\pytorch_model.bin\n",
      "tokenizer config file saved in ./distBert-v8/20230312_044105$-train-model-distilbert-base-uncased\\checkpoint-6237\\tokenizer_config.json\n",
      "Special tokens file saved in ./distBert-v8/20230312_044105$-train-model-distilbert-base-uncased\\checkpoint-6237\\special_tokens_map.json\n",
      " 96%|█████████▋| 6317/6561 [15:15<00:13, 18.24it/s]***** Running Evaluation *****\n",
      "  Num examples = 81\n",
      "  Batch size = 8\n",
      "                                                   \n",
      " 96%|█████████▋| 6318/6561 [15:15<00:13, 18.24it/s]Saving model checkpoint to ./distBert-v8/20230312_044105$-train-model-distilbert-base-uncased\\checkpoint-6318\n"
     ]
    },
    {
     "name": "stdout",
     "output_type": "stream",
     "text": [
      "{'eval_loss': 0.1325666457414627, 'eval_f1': 0.8072289156626506, 'eval_roc_auc': 0.8837775763692917, 'eval_accuracy': 0.7530864197530864, 'eval_runtime': 0.1503, 'eval_samples_per_second': 538.969, 'eval_steps_per_second': 73.193, 'epoch': 78.0}\n"
     ]
    },
    {
     "name": "stderr",
     "output_type": "stream",
     "text": [
      "Configuration saved in ./distBert-v8/20230312_044105$-train-model-distilbert-base-uncased\\checkpoint-6318\\config.json\n",
      "Model weights saved in ./distBert-v8/20230312_044105$-train-model-distilbert-base-uncased\\checkpoint-6318\\pytorch_model.bin\n",
      "tokenizer config file saved in ./distBert-v8/20230312_044105$-train-model-distilbert-base-uncased\\checkpoint-6318\\tokenizer_config.json\n",
      "Special tokens file saved in ./distBert-v8/20230312_044105$-train-model-distilbert-base-uncased\\checkpoint-6318\\special_tokens_map.json\n",
      " 98%|█████████▊| 6398/6561 [15:26<00:08, 20.33it/s]***** Running Evaluation *****\n",
      "  Num examples = 81\n",
      "  Batch size = 8\n",
      "                                                   \n",
      " 98%|█████████▊| 6399/6561 [15:26<00:07, 20.33it/s]Saving model checkpoint to ./distBert-v8/20230312_044105$-train-model-distilbert-base-uncased\\checkpoint-6399\n",
      "Configuration saved in ./distBert-v8/20230312_044105$-train-model-distilbert-base-uncased\\checkpoint-6399\\config.json\n"
     ]
    },
    {
     "name": "stdout",
     "output_type": "stream",
     "text": [
      "{'eval_loss': 0.13297772407531738, 'eval_f1': 0.8072289156626506, 'eval_roc_auc': 0.8837775763692917, 'eval_accuracy': 0.7530864197530864, 'eval_runtime': 0.1387, 'eval_samples_per_second': 583.874, 'eval_steps_per_second': 79.291, 'epoch': 79.0}\n"
     ]
    },
    {
     "name": "stderr",
     "output_type": "stream",
     "text": [
      "Model weights saved in ./distBert-v8/20230312_044105$-train-model-distilbert-base-uncased\\checkpoint-6399\\pytorch_model.bin\n",
      "tokenizer config file saved in ./distBert-v8/20230312_044105$-train-model-distilbert-base-uncased\\checkpoint-6399\\tokenizer_config.json\n",
      "Special tokens file saved in ./distBert-v8/20230312_044105$-train-model-distilbert-base-uncased\\checkpoint-6399\\special_tokens_map.json\n",
      " 99%|█████████▉| 6479/6561 [15:41<00:04, 19.68it/s]***** Running Evaluation *****\n",
      "  Num examples = 81\n",
      "  Batch size = 8\n",
      "                                                   \n",
      " 99%|█████████▉| 6480/6561 [15:42<00:04, 19.68it/s]Saving model checkpoint to ./distBert-v8/20230312_044105$-train-model-distilbert-base-uncased\\checkpoint-6480\n",
      "Configuration saved in ./distBert-v8/20230312_044105$-train-model-distilbert-base-uncased\\checkpoint-6480\\config.json\n"
     ]
    },
    {
     "name": "stdout",
     "output_type": "stream",
     "text": [
      "{'eval_loss': 0.13310211896896362, 'eval_f1': 0.8072289156626506, 'eval_roc_auc': 0.8837775763692917, 'eval_accuracy': 0.7530864197530864, 'eval_runtime': 0.1508, 'eval_samples_per_second': 537.081, 'eval_steps_per_second': 72.937, 'epoch': 80.0}\n"
     ]
    },
    {
     "name": "stderr",
     "output_type": "stream",
     "text": [
      "Model weights saved in ./distBert-v8/20230312_044105$-train-model-distilbert-base-uncased\\checkpoint-6480\\pytorch_model.bin\n",
      "tokenizer config file saved in ./distBert-v8/20230312_044105$-train-model-distilbert-base-uncased\\checkpoint-6480\\tokenizer_config.json\n",
      "Special tokens file saved in ./distBert-v8/20230312_044105$-train-model-distilbert-base-uncased\\checkpoint-6480\\special_tokens_map.json\n",
      " 99%|█████████▉| 6502/6561 [15:58<00:08,  6.69it/s]"
     ]
    },
    {
     "name": "stdout",
     "output_type": "stream",
     "text": [
      "{'loss': 0.0005, 'learning_rate': 1.8594726413656458e-07, 'epoch': 80.25}\n"
     ]
    },
    {
     "name": "stderr",
     "output_type": "stream",
     "text": [
      "100%|█████████▉| 6559/6561 [16:01<00:00, 20.12it/s]***** Running Evaluation *****\n",
      "  Num examples = 81\n",
      "  Batch size = 8\n",
      "                                                   \n",
      "100%|██████████| 6561/6561 [16:01<00:00, 20.12it/s]Saving model checkpoint to ./distBert-v8/20230312_044105$-train-model-distilbert-base-uncased\\checkpoint-6561\n",
      "Configuration saved in ./distBert-v8/20230312_044105$-train-model-distilbert-base-uncased\\checkpoint-6561\\config.json\n",
      "100%|██████████| 6561/6561 [16:12<00:00, 20.12it/s]"
     ]
    },
    {
     "name": "stdout",
     "output_type": "stream",
     "text": [
      "{'eval_loss': 0.13299304246902466, 'eval_f1': 0.8072289156626506, 'eval_roc_auc': 0.8837775763692917, 'eval_accuracy': 0.7530864197530864, 'eval_runtime': 0.1367, 'eval_samples_per_second': 592.745, 'eval_steps_per_second': 80.496, 'epoch': 81.0}\n"
     ]
    },
    {
     "name": "stderr",
     "output_type": "stream",
     "text": [
      "Model weights saved in ./distBert-v8/20230312_044105$-train-model-distilbert-base-uncased\\checkpoint-6561\\pytorch_model.bin\n",
      "tokenizer config file saved in ./distBert-v8/20230312_044105$-train-model-distilbert-base-uncased\\checkpoint-6561\\tokenizer_config.json\n",
      "Special tokens file saved in ./distBert-v8/20230312_044105$-train-model-distilbert-base-uncased\\checkpoint-6561\\special_tokens_map.json\n",
      "\n",
      "\n",
      "Training completed. Do not forget to share your model on huggingface.co/models =)\n",
      "\n",
      "\n",
      "Loading best model from ./distBert-v8/20230312_044105$-train-model-distilbert-base-uncased\\checkpoint-3564 (score: 0.8242424242424243).\n",
      "100%|██████████| 6561/6561 [16:14<00:00,  6.74it/s]"
     ]
    },
    {
     "name": "stdout",
     "output_type": "stream",
     "text": [
      "{'train_runtime': 974.1846, 'train_samples_per_second': 53.879, 'train_steps_per_second': 6.735, 'train_loss': 0.02326273483364316, 'epoch': 81.0}\n"
     ]
    },
    {
     "name": "stderr",
     "output_type": "stream",
     "text": [
      "\n"
     ]
    },
    {
     "data": {
      "text/plain": [
       "TrainOutput(global_step=6561, training_loss=0.02326273483364316, metrics={'train_runtime': 974.1846, 'train_samples_per_second': 53.879, 'train_steps_per_second': 6.735, 'train_loss': 0.02326273483364316, 'epoch': 81.0})"
      ]
     },
     "execution_count": 27,
     "metadata": {},
     "output_type": "execute_result"
    }
   ],
   "source": [
    "trainer.train()"
   ]
  },
  {
   "cell_type": "code",
   "execution_count": 28,
   "metadata": {},
   "outputs": [
    {
     "name": "stderr",
     "output_type": "stream",
     "text": [
      "***** Running Evaluation *****\n",
      "  Num examples = 81\n",
      "  Batch size = 8\n",
      "100%|██████████| 11/11 [00:00<00:00, 60.92it/s]\n"
     ]
    },
    {
     "data": {
      "text/plain": [
       "{'eval_loss': 0.11271076649427414,\n",
       " 'eval_f1': 0.8242424242424243,\n",
       " 'eval_roc_auc': 0.8904772694502235,\n",
       " 'eval_accuracy': 0.7777777777777778,\n",
       " 'eval_runtime': 0.1985,\n",
       " 'eval_samples_per_second': 408.052,\n",
       " 'eval_steps_per_second': 55.414,\n",
       " 'epoch': 81.0}"
      ]
     },
     "execution_count": 28,
     "metadata": {},
     "output_type": "execute_result"
    }
   ],
   "source": [
    "trainer.evaluate()"
   ]
  },
  {
   "cell_type": "code",
   "execution_count": 29,
   "metadata": {},
   "outputs": [
    {
     "name": "stderr",
     "output_type": "stream",
     "text": [
      "***** Running Prediction *****\n",
      "  Num examples = 81\n",
      "  Batch size = 8\n",
      "100%|██████████| 11/11 [00:00<00:00, 98.87it/s]\n"
     ]
    }
   ],
   "source": [
    "prediction_result = trainer.predict(encoded_ds['test'])"
   ]
  },
  {
   "cell_type": "code",
   "execution_count": 30,
   "metadata": {},
   "outputs": [
    {
     "name": "stdout",
     "output_type": "stream",
     "text": [
      "{'test_loss': 0.14533638954162598, 'test_f1': 0.7354838709677419, 'test_roc_auc': 0.8405000753449723, 'test_accuracy': 0.6666666666666666, 'test_runtime': 0.1272, 'test_samples_per_second': 636.718, 'test_steps_per_second': 86.468}\n"
     ]
    }
   ],
   "source": [
    "print(prediction_result.metrics)"
   ]
  },
  {
   "cell_type": "code",
   "execution_count": 31,
   "metadata": {},
   "outputs": [
    {
     "name": "stderr",
     "output_type": "stream",
     "text": [
      "Saving model checkpoint to ./distlBert-model-v8\n",
      "Configuration saved in ./distlBert-model-v8\\config.json\n",
      "Model weights saved in ./distlBert-model-v8\\pytorch_model.bin\n",
      "tokenizer config file saved in ./distlBert-model-v8\\tokenizer_config.json\n",
      "Special tokens file saved in ./distlBert-model-v8\\special_tokens_map.json\n"
     ]
    }
   ],
   "source": [
    "trainer.save_model(\"./distlBert-model-v8\")"
   ]
  }
 ],
 "metadata": {
  "kernelspec": {
   "display_name": "venv",
   "language": "python",
   "name": "python3"
  },
  "language_info": {
   "codemirror_mode": {
    "name": "ipython",
    "version": 3
   },
   "file_extension": ".py",
   "mimetype": "text/x-python",
   "name": "python",
   "nbconvert_exporter": "python",
   "pygments_lexer": "ipython3",
   "version": "3.8.10"
  },
  "orig_nbformat": 4,
  "vscode": {
   "interpreter": {
    "hash": "e32da21edddcaf775c480ccd7b569f19fc9b1c5c20d607727913c5339e7adca8"
   }
  }
 },
 "nbformat": 4,
 "nbformat_minor": 2
}
