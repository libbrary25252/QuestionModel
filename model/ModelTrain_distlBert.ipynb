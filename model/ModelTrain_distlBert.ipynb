{
 "cells": [
  {
   "cell_type": "code",
   "execution_count": 1,
   "metadata": {},
   "outputs": [
    {
     "name": "stderr",
     "output_type": "stream",
     "text": [
      "c:\\Users\\user\\Desktop\\QuestionQuestionModel\\venv\\lib\\site-packages\\tqdm\\auto.py:22: TqdmWarning: IProgress not found. Please update jupyter and ipywidgets. See https://ipywidgets.readthedocs.io/en/stable/user_install.html\n",
      "  from .autonotebook import tqdm as notebook_tqdm\n"
     ]
    },
    {
     "data": {
      "text/plain": [
       "DatasetDict({\n",
       "    train: Dataset({\n",
       "        features: ['Unnamed: 0', 'String', 'Algorithm Design', 'Basic Machine Organisation', 'Computer System', 'Data Manipulation and Analysis', 'Data Organisation and Data Control', 'Elementary Web Authoring', 'Health and Ethical Issues', 'Information Processing', 'Intellectual Property', 'Internet Services and Applications', 'Multimedia Elements', 'Networking and Internet Basics', 'Program Development', 'Threats and Security on the Internet', '__index_level_0__'],\n",
       "        num_rows: 350\n",
       "    })\n",
       "    valid: Dataset({\n",
       "        features: ['Unnamed: 0', 'String', 'Algorithm Design', 'Basic Machine Organisation', 'Computer System', 'Data Manipulation and Analysis', 'Data Organisation and Data Control', 'Elementary Web Authoring', 'Health and Ethical Issues', 'Information Processing', 'Intellectual Property', 'Internet Services and Applications', 'Multimedia Elements', 'Networking and Internet Basics', 'Program Development', 'Threats and Security on the Internet', '__index_level_0__'],\n",
       "        num_rows: 44\n",
       "    })\n",
       "    test: Dataset({\n",
       "        features: ['Unnamed: 0', 'String', 'Algorithm Design', 'Basic Machine Organisation', 'Computer System', 'Data Manipulation and Analysis', 'Data Organisation and Data Control', 'Elementary Web Authoring', 'Health and Ethical Issues', 'Information Processing', 'Intellectual Property', 'Internet Services and Applications', 'Multimedia Elements', 'Networking and Internet Basics', 'Program Development', 'Threats and Security on the Internet', '__index_level_0__'],\n",
       "        num_rows: 44\n",
       "    })\n",
       "})"
      ]
     },
     "execution_count": 1,
     "metadata": {},
     "output_type": "execute_result"
    }
   ],
   "source": [
    "# Model Training\n",
    "from datasets import load_from_disk\n",
    "\n",
    "datasets = load_from_disk(\"./encoded_data2_better\")\n",
    "datasets\n"
   ]
  },
  {
   "cell_type": "code",
   "execution_count": 2,
   "metadata": {},
   "outputs": [],
   "source": [
    "model_labels = [label for label in datasets['train'].features.keys() if label not in ['Unnamed: 0', 'String', '__index_level_0__']]"
   ]
  },
  {
   "cell_type": "code",
   "execution_count": 11,
   "metadata": {},
   "outputs": [
    {
     "data": {
      "text/plain": [
       "['Unnamed: 0',\n",
       " 'String',\n",
       " 'Algorithm Design',\n",
       " 'Basic Machine Organisation',\n",
       " 'Computer System',\n",
       " 'Data Manipulation and Analysis',\n",
       " 'Data Organisation and Data Control',\n",
       " 'Elementary Web Authoring',\n",
       " 'Health and Ethical Issues',\n",
       " 'Information Processing',\n",
       " 'Intellectual Property',\n",
       " 'Internet Services and Applications',\n",
       " 'Multimedia Elements',\n",
       " 'Networking and Internet Basics',\n",
       " 'Program Development',\n",
       " 'Threats and Security on the Internet',\n",
       " '__index_level_0__']"
      ]
     },
     "execution_count": 11,
     "metadata": {},
     "output_type": "execute_result"
    }
   ],
   "source": [
    "datasets[\"train\"].column_names"
   ]
  },
  {
   "cell_type": "code",
   "execution_count": 12,
   "metadata": {},
   "outputs": [
    {
     "data": {
      "text/plain": [
       "{'Unnamed: 0': Value(dtype='int64', id=None),\n",
       " 'String': Value(dtype='string', id=None),\n",
       " 'Algorithm Design': Value(dtype='int64', id=None),\n",
       " 'Basic Machine Organisation': Value(dtype='int64', id=None),\n",
       " 'Computer System': Value(dtype='int64', id=None),\n",
       " 'Data Manipulation and Analysis': Value(dtype='int64', id=None),\n",
       " 'Data Organisation and Data Control': Value(dtype='int64', id=None),\n",
       " 'Elementary Web Authoring': Value(dtype='int64', id=None),\n",
       " 'Health and Ethical Issues': Value(dtype='int64', id=None),\n",
       " 'Information Processing': Value(dtype='int64', id=None),\n",
       " 'Intellectual Property': Value(dtype='int64', id=None),\n",
       " 'Internet Services and Applications': Value(dtype='int64', id=None),\n",
       " 'Multimedia Elements': Value(dtype='int64', id=None),\n",
       " 'Networking and Internet Basics': Value(dtype='int64', id=None),\n",
       " 'Program Development': Value(dtype='int64', id=None),\n",
       " 'Threats and Security on the Internet': Value(dtype='int64', id=None),\n",
       " '__index_level_0__': Value(dtype='int64', id=None)}"
      ]
     },
     "execution_count": 12,
     "metadata": {},
     "output_type": "execute_result"
    }
   ],
   "source": [
    "datasets[\"train\"].features"
   ]
  },
  {
   "cell_type": "code",
   "execution_count": 10,
   "metadata": {},
   "outputs": [
    {
     "ename": "AttributeError",
     "evalue": "'DatasetDict' object has no attribute 'train'",
     "output_type": "error",
     "traceback": [
      "\u001b[1;31m---------------------------------------------------------------------------\u001b[0m",
      "\u001b[1;31mAttributeError\u001b[0m                            Traceback (most recent call last)",
      "Cell \u001b[1;32mIn[10], line 1\u001b[0m\n\u001b[1;32m----> 1\u001b[0m \u001b[39mprint\u001b[39m(\u001b[39mf\u001b[39m\u001b[39m\"\u001b[39m\u001b[39m{\u001b[39;00mdatasets\u001b[39m.\u001b[39mtrain\u001b[39m.\u001b[39mcolumn_names\u001b[39m}\u001b[39;00m\u001b[39m\\n\u001b[39;00m\u001b[39m{\u001b[39;00mdatasets\u001b[39m.\u001b[39mtrain\u001b[39m.\u001b[39mfeatures\u001b[39m}\u001b[39;00m\u001b[39m\"\u001b[39m)\n",
      "\u001b[1;31mAttributeError\u001b[0m: 'DatasetDict' object has no attribute 'train'"
     ]
    }
   ],
   "source": [
    "print(f\"{datasets.train.column_names}\\n{datasets.train.features}\")"
   ]
  },
  {
   "cell_type": "code",
   "execution_count": 3,
   "metadata": {},
   "outputs": [
    {
     "data": {
      "text/plain": [
       "['Algorithm Design',\n",
       " 'Basic Machine Organisation',\n",
       " 'Computer System',\n",
       " 'Data Manipulation and Analysis',\n",
       " 'Data Organisation and Data Control',\n",
       " 'Elementary Web Authoring',\n",
       " 'Health and Ethical Issues',\n",
       " 'Information Processing',\n",
       " 'Intellectual Property',\n",
       " 'Internet Services and Applications',\n",
       " 'Multimedia Elements',\n",
       " 'Networking and Internet Basics',\n",
       " 'Program Development',\n",
       " 'Threats and Security on the Internet']"
      ]
     },
     "execution_count": 3,
     "metadata": {},
     "output_type": "execute_result"
    }
   ],
   "source": [
    "model_labels"
   ]
  },
  {
   "cell_type": "code",
   "execution_count": 4,
   "metadata": {},
   "outputs": [],
   "source": [
    "id2label = {idx:label for idx, label in enumerate(model_labels)}\n",
    "label2id = {label:idx for idx, label in enumerate(model_labels)}"
   ]
  },
  {
   "cell_type": "code",
   "execution_count": 15,
   "metadata": {},
   "outputs": [],
   "source": [
    "from transformers import DistilBertTokenizer, DistilBertForSequenceClassification\n",
    "import numpy as np\n",
    "\n",
    "tokenizer = DistilBertTokenizer.from_pretrained(\"distilbert-base-uncased\")"
   ]
  },
  {
   "cell_type": "code",
   "execution_count": 17,
   "metadata": {},
   "outputs": [],
   "source": [
    "def encode_data(dataset):\n",
    "    text = dataset[\"String\"]\n",
    "    # tokenize string\n",
    "    encoding = tokenizer(text, padding=\"max_length\", truncation=True, max_length=70)\n",
    "    # create encoded array list with labels\n",
    "    labelsBatch = {x: dataset[x] for x in dataset.keys() if x in model_labels}\n",
    "    labels_matrix = np.zeros((len(text), len(model_labels)))\n",
    "    for idx, label in enumerate(model_labels):\n",
    "        labels_matrix[:, idx] = labelsBatch[label]\n",
    "    \n",
    "    encoding[\"labels\"] = labels_matrix.tolist()\n",
    "    return encoding"
   ]
  },
  {
   "cell_type": "code",
   "execution_count": 18,
   "metadata": {},
   "outputs": [
    {
     "name": "stderr",
     "output_type": "stream",
     "text": [
      "Loading cached processed dataset at c:\\Users\\user\\Desktop\\QuestionQuestionModel\\model\\encoded_data2_better\\train\\cache-6fd00cfa85b31aec.arrow\n",
      "Loading cached processed dataset at c:\\Users\\user\\Desktop\\QuestionQuestionModel\\model\\encoded_data2_better\\valid\\cache-9f8ae3e78e953f1d.arrow\n",
      "Loading cached processed dataset at c:\\Users\\user\\Desktop\\QuestionQuestionModel\\model\\encoded_data2_better\\test\\cache-28791c87e7a459c1.arrow\n"
     ]
    }
   ],
   "source": [
    "# tokenize the dataset\n",
    "encoded_ds = datasets.map(encode_data, batched=True, remove_columns=datasets['train'].column_names)"
   ]
  },
  {
   "cell_type": "code",
   "execution_count": 20,
   "metadata": {},
   "outputs": [
    {
     "data": {
      "text/plain": [
       "[0.0, 0.0, 1.0, 0.0, 0.0, 0.0, 0.0, 0.0, 0.0, 0.0, 0.0, 0.0, 0.0, 0.0]"
      ]
     },
     "execution_count": 20,
     "metadata": {},
     "output_type": "execute_result"
    }
   ],
   "source": [
    "encoded_ds['train']['input'][0]"
   ]
  },
  {
   "cell_type": "code",
   "execution_count": 9,
   "metadata": {},
   "outputs": [
    {
     "data": {
      "text/plain": [
       "['Basic Machine Organisation']"
      ]
     },
     "execution_count": 9,
     "metadata": {},
     "output_type": "execute_result"
    }
   ],
   "source": [
    "[id2label[idx] for idx, label in enumerate(encoded_ds['train'][15]['labels']) if label == 1.0]"
   ]
  },
  {
   "cell_type": "code",
   "execution_count": 10,
   "metadata": {},
   "outputs": [
    {
     "name": "stdout",
     "output_type": "stream",
     "text": [
      "Using device: cuda\n",
      "\n"
     ]
    }
   ],
   "source": [
    "import torch\n",
    "from torch import cuda\n",
    "device = torch.device('cuda' if torch.cuda.is_available() else 'cpu')\n",
    "print('Using device:', device)\n",
    "print()\n",
    "\n",
    "encoded_ds.set_format(\"torch\")"
   ]
  },
  {
   "cell_type": "code",
   "execution_count": 11,
   "metadata": {},
   "outputs": [
    {
     "data": {
      "text/plain": [
       "14"
      ]
     },
     "execution_count": 11,
     "metadata": {},
     "output_type": "execute_result"
    }
   ],
   "source": [
    "len(model_labels)"
   ]
  },
  {
   "cell_type": "code",
   "execution_count": 12,
   "metadata": {},
   "outputs": [
    {
     "data": {
      "text/plain": [
       "Dataset({\n",
       "    features: ['input_ids', 'attention_mask', 'labels'],\n",
       "    num_rows: 350\n",
       "})"
      ]
     },
     "execution_count": 12,
     "metadata": {},
     "output_type": "execute_result"
    }
   ],
   "source": [
    "encoded_ds[\"train\"]"
   ]
  },
  {
   "cell_type": "code",
   "execution_count": 14,
   "metadata": {},
   "outputs": [],
   "source": [
    "# len(train_dataloader)"
   ]
  },
  {
   "cell_type": "code",
   "execution_count": 15,
   "metadata": {},
   "outputs": [
    {
     "name": "stderr",
     "output_type": "stream",
     "text": [
      "Some weights of the model checkpoint at distilbert-base-uncased were not used when initializing DistilBertForSequenceClassification: ['vocab_layer_norm.bias', 'vocab_transform.weight', 'vocab_projector.weight', 'vocab_transform.bias', 'vocab_layer_norm.weight', 'vocab_projector.bias']\n",
      "- This IS expected if you are initializing DistilBertForSequenceClassification from the checkpoint of a model trained on another task or with another architecture (e.g. initializing a BertForSequenceClassification model from a BertForPreTraining model).\n",
      "- This IS NOT expected if you are initializing DistilBertForSequenceClassification from the checkpoint of a model that you expect to be exactly identical (initializing a BertForSequenceClassification model from a BertForSequenceClassification model).\n",
      "Some weights of DistilBertForSequenceClassification were not initialized from the model checkpoint at distilbert-base-uncased and are newly initialized: ['pre_classifier.bias', 'classifier.weight', 'pre_classifier.weight', 'classifier.bias']\n",
      "You should probably TRAIN this model on a down-stream task to be able to use it for predictions and inference.\n"
     ]
    }
   ],
   "source": [
    "\n",
    "# define model\n",
    "model = DistilBertForSequenceClassification.from_pretrained(\"distilbert-base-uncased\", problem_type=\"multi_label_classification\", num_labels=len(model_labels), id2label=id2label, label2id=label2id)"
   ]
  },
  {
   "cell_type": "code",
   "execution_count": 16,
   "metadata": {},
   "outputs": [],
   "source": [
    "# from torch.optim import AdamW\n",
    "\n",
    "# optimizer = AdamW(model.parameters(), lr=2e-5)"
   ]
  },
  {
   "cell_type": "code",
   "execution_count": 17,
   "metadata": {},
   "outputs": [],
   "source": [
    "# from transformers import get_scheduler\n",
    "\n",
    "# num_epochs = 70\n",
    "# num_training_steps = num_epochs * len(train_dataloader)\n",
    "# lr_scheduler = get_scheduler(\n",
    "#     name=\"linear\", optimizer=optimizer, num_warmup_steps=0, num_training_steps=num_training_steps\n",
    "# )"
   ]
  },
  {
   "cell_type": "code",
   "execution_count": 18,
   "metadata": {},
   "outputs": [],
   "source": [
    "# train model\n",
    "batch_size = 8\n",
    "metric_name = \"f1\""
   ]
  },
  {
   "cell_type": "code",
   "execution_count": 19,
   "metadata": {},
   "outputs": [],
   "source": [
    "import evaluate\n",
    "metric  = evaluate.load(\"accuracy\")"
   ]
  },
  {
   "cell_type": "code",
   "execution_count": 20,
   "metadata": {},
   "outputs": [
    {
     "data": {
      "text/plain": [
       "'20230203_083620$-train-model-distilbert-base-uncased'"
      ]
     },
     "execution_count": 20,
     "metadata": {},
     "output_type": "execute_result"
    }
   ],
   "source": [
    "import time\n",
    "\n",
    "train_name_dir = time.strftime(f\"%Y%m%d_%H%M%S$-train-model-{model.name_or_path}\")\n",
    "train_name_dir"
   ]
  },
  {
   "cell_type": "code",
   "execution_count": 21,
   "metadata": {},
   "outputs": [],
   "source": [
    "from transformers import TrainingArguments, Trainer\n",
    "\n",
    "\n",
    "args = TrainingArguments(\n",
    "    output_dir=\"./distBert-v4/\"+ train_name_dir,\n",
    "    evaluation_strategy = \"epoch\",\n",
    "    save_strategy = \"epoch\",\n",
    "    learning_rate=2e-5,\n",
    "    per_device_train_batch_size=batch_size,\n",
    "    per_device_eval_batch_size=batch_size,\n",
    "    num_train_epochs= 70,\n",
    "    weight_decay=0.01,\n",
    "    load_best_model_at_end=True,\n",
    "    metric_for_best_model=metric_name,\n",
    "    logging_dir='./distBert-v4/logging/'+ train_name_dir\n",
    ")"
   ]
  },
  {
   "cell_type": "code",
   "execution_count": 22,
   "metadata": {},
   "outputs": [],
   "source": [
    "from sklearn.metrics import f1_score, roc_auc_score, accuracy_score\n",
    "from transformers import EvalPrediction\n",
    "\n",
    "\n",
    "def multi_label_metrics(predictions, labels, threshold=0.5):\n",
    "    # apply sigmoid on predictions fitting (batch_size, num_labels)\n",
    "    sigmoid = torch.nn.Sigmoid()\n",
    "    probs = sigmoid(torch.Tensor(predictions))\n",
    "    # use threshold to turn them into integer predictions\n",
    "    y_pred = np.zeros(probs.shape)\n",
    "    y_pred[np.where(probs >= threshold)] = 1\n",
    "    # compute metrics\n",
    "    y_true = labels\n",
    "    f1_micro_average = f1_score(y_true=y_true, y_pred=y_pred, average='micro')\n",
    "    roc_auc = roc_auc_score(y_true, y_pred, average = 'micro')\n",
    "    accuracy = accuracy_score(y_true, y_pred)\n",
    "    # logits, labels = predictions\n",
    "    # prediction = np.argmax(logits, axis=-1)\n",
    "    # return as dictionary\n",
    "    metrics = {'f1': f1_micro_average,\n",
    "               'roc_auc': roc_auc,\n",
    "               'accuracy': accuracy}\n",
    "    return metrics\n",
    "\n",
    "def compute_metrics(p: EvalPrediction):\n",
    "    preds = p.predictions[0] if isinstance(p.predictions, \n",
    "            tuple) else p.predictions\n",
    "    result = multi_label_metrics(\n",
    "        predictions=preds, \n",
    "        labels=p.label_ids)\n",
    "    return result\n",
    "\n",
    "def compute_metrics_new(eval_pred):\n",
    "    logits, labels = eval_pred\n",
    "    predictions = np.argmax(logits, axis=-1)\n",
    "    return metric.compute(predictions=predictions, references=labels)"
   ]
  },
  {
   "cell_type": "code",
   "execution_count": 23,
   "metadata": {},
   "outputs": [
    {
     "data": {
      "text/plain": [
       "'torch.FloatTensor'"
      ]
     },
     "execution_count": 23,
     "metadata": {},
     "output_type": "execute_result"
    }
   ],
   "source": [
    "encoded_ds['train'][0]['labels'].type()"
   ]
  },
  {
   "cell_type": "code",
   "execution_count": 24,
   "metadata": {},
   "outputs": [],
   "source": [
    "# model.to(device)"
   ]
  },
  {
   "cell_type": "code",
   "execution_count": 25,
   "metadata": {},
   "outputs": [
    {
     "data": {
      "text/plain": [
       "SequenceClassifierOutput(loss=tensor(0.7023, grad_fn=<BinaryCrossEntropyWithLogitsBackward0>), logits=tensor([[-0.0815,  0.1147, -0.0566,  0.0512,  0.0432, -0.0413, -0.0578,  0.0303,\n",
       "          0.0477, -0.0607,  0.0151, -0.0045,  0.0462,  0.0851]],\n",
       "       grad_fn=<AddmmBackward0>), hidden_states=None, attentions=None)"
      ]
     },
     "execution_count": 25,
     "metadata": {},
     "output_type": "execute_result"
    }
   ],
   "source": [
    "outputs = model(input_ids=encoded_ds['train']['input_ids'][0].unsqueeze(0), labels=encoded_ds['train'][0]['labels'].unsqueeze(0))\n",
    "outputs"
   ]
  },
  {
   "cell_type": "code",
   "execution_count": 26,
   "metadata": {},
   "outputs": [],
   "source": [
    "trainer = Trainer(\n",
    "    model,\n",
    "    args,\n",
    "    train_dataset=encoded_ds[\"train\"],\n",
    "    eval_dataset=encoded_ds[\"valid\"],\n",
    "    compute_metrics=compute_metrics,\n",
    "    tokenizer=tokenizer\n",
    ")"
   ]
  },
  {
   "cell_type": "code",
   "execution_count": 27,
   "metadata": {},
   "outputs": [
    {
     "name": "stderr",
     "output_type": "stream",
     "text": [
      "c:\\Users\\user\\Desktop\\QuestionQuestionModel\\venv\\lib\\site-packages\\transformers\\optimization.py:306: FutureWarning: This implementation of AdamW is deprecated and will be removed in a future version. Use the PyTorch implementation torch.optim.AdamW instead, or set `no_deprecation_warning=True` to disable this warning\n",
      "  warnings.warn(\n",
      "***** Running training *****\n",
      "  Num examples = 350\n",
      "  Num Epochs = 70\n",
      "  Instantaneous batch size per device = 8\n",
      "  Total train batch size (w. parallel, distributed & accumulation) = 8\n",
      "  Gradient Accumulation steps = 1\n",
      "  Total optimization steps = 3080\n",
      "  Number of trainable parameters = 66964238\n",
      "  1%|▏         | 42/3080 [00:03<02:24, 20.98it/s] ***** Running Evaluation *****\n",
      "  Num examples = 44\n",
      "  Batch size = 8\n",
      "                                                 \n",
      "  1%|▏         | 44/3080 [00:03<02:24, 20.98it/s]Saving model checkpoint to ./distBert-v4/20230203_083620$-train-model-distilbert-base-uncased\\checkpoint-44\n",
      "Configuration saved in ./distBert-v4/20230203_083620$-train-model-distilbert-base-uncased\\checkpoint-44\\config.json\n"
     ]
    },
    {
     "name": "stdout",
     "output_type": "stream",
     "text": [
      "{'eval_loss': 0.3635549247264862, 'eval_f1': 0.0, 'eval_roc_auc': 0.5, 'eval_accuracy': 0.0, 'eval_runtime': 0.0754, 'eval_samples_per_second': 583.483, 'eval_steps_per_second': 79.566, 'epoch': 1.0}\n"
     ]
    },
    {
     "name": "stderr",
     "output_type": "stream",
     "text": [
      "Model weights saved in ./distBert-v4/20230203_083620$-train-model-distilbert-base-uncased\\checkpoint-44\\pytorch_model.bin\n",
      "tokenizer config file saved in ./distBert-v4/20230203_083620$-train-model-distilbert-base-uncased\\checkpoint-44\\tokenizer_config.json\n",
      "Special tokens file saved in ./distBert-v4/20230203_083620$-train-model-distilbert-base-uncased\\checkpoint-44\\special_tokens_map.json\n",
      "  3%|▎         | 87/3080 [00:06<02:22, 20.94it/s]***** Running Evaluation *****\n",
      "  Num examples = 44\n",
      "  Batch size = 8\n",
      "                                                 \n",
      "  3%|▎         | 88/3080 [00:06<02:22, 20.94it/s]Saving model checkpoint to ./distBert-v4/20230203_083620$-train-model-distilbert-base-uncased\\checkpoint-88\n",
      "Configuration saved in ./distBert-v4/20230203_083620$-train-model-distilbert-base-uncased\\checkpoint-88\\config.json\n"
     ]
    },
    {
     "name": "stdout",
     "output_type": "stream",
     "text": [
      "{'eval_loss': 0.2967499792575836, 'eval_f1': 0.0, 'eval_roc_auc': 0.5, 'eval_accuracy': 0.0, 'eval_runtime': 0.0714, 'eval_samples_per_second': 616.577, 'eval_steps_per_second': 84.079, 'epoch': 2.0}\n"
     ]
    },
    {
     "name": "stderr",
     "output_type": "stream",
     "text": [
      "Model weights saved in ./distBert-v4/20230203_083620$-train-model-distilbert-base-uncased\\checkpoint-88\\pytorch_model.bin\n",
      "tokenizer config file saved in ./distBert-v4/20230203_083620$-train-model-distilbert-base-uncased\\checkpoint-88\\tokenizer_config.json\n",
      "Special tokens file saved in ./distBert-v4/20230203_083620$-train-model-distilbert-base-uncased\\checkpoint-88\\special_tokens_map.json\n",
      "  4%|▍         | 132/3080 [00:09<02:19, 21.08it/s]***** Running Evaluation *****\n",
      "  Num examples = 44\n",
      "  Batch size = 8\n",
      "                                                  \n",
      "  4%|▍         | 132/3080 [00:09<02:19, 21.08it/s]Saving model checkpoint to ./distBert-v4/20230203_083620$-train-model-distilbert-base-uncased\\checkpoint-132\n",
      "Configuration saved in ./distBert-v4/20230203_083620$-train-model-distilbert-base-uncased\\checkpoint-132\\config.json\n"
     ]
    },
    {
     "name": "stdout",
     "output_type": "stream",
     "text": [
      "{'eval_loss': 0.2794531583786011, 'eval_f1': 0.0, 'eval_roc_auc': 0.5, 'eval_accuracy': 0.0, 'eval_runtime': 0.074, 'eval_samples_per_second': 594.764, 'eval_steps_per_second': 81.104, 'epoch': 3.0}\n"
     ]
    },
    {
     "name": "stderr",
     "output_type": "stream",
     "text": [
      "Model weights saved in ./distBert-v4/20230203_083620$-train-model-distilbert-base-uncased\\checkpoint-132\\pytorch_model.bin\n",
      "tokenizer config file saved in ./distBert-v4/20230203_083620$-train-model-distilbert-base-uncased\\checkpoint-132\\tokenizer_config.json\n",
      "Special tokens file saved in ./distBert-v4/20230203_083620$-train-model-distilbert-base-uncased\\checkpoint-132\\special_tokens_map.json\n",
      "  6%|▌         | 174/3080 [00:12<02:18, 20.93it/s]***** Running Evaluation *****\n",
      "  Num examples = 44\n",
      "  Batch size = 8\n",
      "                                                  \n",
      "  6%|▌         | 176/3080 [00:13<02:18, 20.93it/s]Saving model checkpoint to ./distBert-v4/20230203_083620$-train-model-distilbert-base-uncased\\checkpoint-176\n",
      "Configuration saved in ./distBert-v4/20230203_083620$-train-model-distilbert-base-uncased\\checkpoint-176\\config.json\n"
     ]
    },
    {
     "name": "stdout",
     "output_type": "stream",
     "text": [
      "{'eval_loss': 0.2608588933944702, 'eval_f1': 0.0, 'eval_roc_auc': 0.5, 'eval_accuracy': 0.0, 'eval_runtime': 0.0753, 'eval_samples_per_second': 584.428, 'eval_steps_per_second': 79.695, 'epoch': 4.0}\n"
     ]
    },
    {
     "name": "stderr",
     "output_type": "stream",
     "text": [
      "Model weights saved in ./distBert-v4/20230203_083620$-train-model-distilbert-base-uncased\\checkpoint-176\\pytorch_model.bin\n",
      "tokenizer config file saved in ./distBert-v4/20230203_083620$-train-model-distilbert-base-uncased\\checkpoint-176\\tokenizer_config.json\n",
      "Special tokens file saved in ./distBert-v4/20230203_083620$-train-model-distilbert-base-uncased\\checkpoint-176\\special_tokens_map.json\n",
      "  7%|▋         | 219/3080 [00:16<02:17, 20.88it/s]***** Running Evaluation *****\n",
      "  Num examples = 44\n",
      "  Batch size = 8\n",
      "                                                  \n",
      "  7%|▋         | 220/3080 [00:16<02:16, 20.88it/s]Saving model checkpoint to ./distBert-v4/20230203_083620$-train-model-distilbert-base-uncased\\checkpoint-220\n",
      "Configuration saved in ./distBert-v4/20230203_083620$-train-model-distilbert-base-uncased\\checkpoint-220\\config.json\n"
     ]
    },
    {
     "name": "stdout",
     "output_type": "stream",
     "text": [
      "{'eval_loss': 0.23757921159267426, 'eval_f1': 0.03773584905660378, 'eval_roc_auc': 0.5096153846153846, 'eval_accuracy': 0.0, 'eval_runtime': 0.0743, 'eval_samples_per_second': 592.121, 'eval_steps_per_second': 80.744, 'epoch': 5.0}\n"
     ]
    },
    {
     "name": "stderr",
     "output_type": "stream",
     "text": [
      "Model weights saved in ./distBert-v4/20230203_083620$-train-model-distilbert-base-uncased\\checkpoint-220\\pytorch_model.bin\n",
      "tokenizer config file saved in ./distBert-v4/20230203_083620$-train-model-distilbert-base-uncased\\checkpoint-220\\tokenizer_config.json\n",
      "Special tokens file saved in ./distBert-v4/20230203_083620$-train-model-distilbert-base-uncased\\checkpoint-220\\special_tokens_map.json\n",
      "  9%|▊         | 264/3080 [00:19<02:12, 21.17it/s]***** Running Evaluation *****\n",
      "  Num examples = 44\n",
      "  Batch size = 8\n",
      "                                                  \n",
      "  9%|▊         | 264/3080 [00:19<02:12, 21.17it/s]Saving model checkpoint to ./distBert-v4/20230203_083620$-train-model-distilbert-base-uncased\\checkpoint-264\n",
      "Configuration saved in ./distBert-v4/20230203_083620$-train-model-distilbert-base-uncased\\checkpoint-264\\config.json\n"
     ]
    },
    {
     "name": "stdout",
     "output_type": "stream",
     "text": [
      "{'eval_loss': 0.22120614349842072, 'eval_f1': 0.20689655172413793, 'eval_roc_auc': 0.5576923076923077, 'eval_accuracy': 0.11363636363636363, 'eval_runtime': 0.0754, 'eval_samples_per_second': 583.574, 'eval_steps_per_second': 79.578, 'epoch': 6.0}\n"
     ]
    },
    {
     "name": "stderr",
     "output_type": "stream",
     "text": [
      "Model weights saved in ./distBert-v4/20230203_083620$-train-model-distilbert-base-uncased\\checkpoint-264\\pytorch_model.bin\n",
      "tokenizer config file saved in ./distBert-v4/20230203_083620$-train-model-distilbert-base-uncased\\checkpoint-264\\tokenizer_config.json\n",
      "Special tokens file saved in ./distBert-v4/20230203_083620$-train-model-distilbert-base-uncased\\checkpoint-264\\special_tokens_map.json\n",
      " 10%|▉         | 306/3080 [00:22<02:14, 20.64it/s]***** Running Evaluation *****\n",
      "  Num examples = 44\n",
      "  Batch size = 8\n",
      "                                                  \n",
      " 10%|█         | 308/3080 [00:22<02:14, 20.64it/s]Saving model checkpoint to ./distBert-v4/20230203_083620$-train-model-distilbert-base-uncased\\checkpoint-308\n",
      "Configuration saved in ./distBert-v4/20230203_083620$-train-model-distilbert-base-uncased\\checkpoint-308\\config.json\n"
     ]
    },
    {
     "name": "stdout",
     "output_type": "stream",
     "text": [
      "{'eval_loss': 0.19205273687839508, 'eval_f1': 0.44117647058823534, 'eval_roc_auc': 0.6433442444080741, 'eval_accuracy': 0.20454545454545456, 'eval_runtime': 0.0743, 'eval_samples_per_second': 592.247, 'eval_steps_per_second': 80.761, 'epoch': 7.0}\n"
     ]
    },
    {
     "name": "stderr",
     "output_type": "stream",
     "text": [
      "Model weights saved in ./distBert-v4/20230203_083620$-train-model-distilbert-base-uncased\\checkpoint-308\\pytorch_model.bin\n",
      "tokenizer config file saved in ./distBert-v4/20230203_083620$-train-model-distilbert-base-uncased\\checkpoint-308\\tokenizer_config.json\n",
      "Special tokens file saved in ./distBert-v4/20230203_083620$-train-model-distilbert-base-uncased\\checkpoint-308\\special_tokens_map.json\n",
      " 11%|█▏        | 351/3080 [00:25<02:08, 21.22it/s]***** Running Evaluation *****\n",
      "  Num examples = 44\n",
      "  Batch size = 8\n",
      "                                                  \n",
      " 11%|█▏        | 352/3080 [00:25<02:08, 21.22it/s]Saving model checkpoint to ./distBert-v4/20230203_083620$-train-model-distilbert-base-uncased\\checkpoint-352\n",
      "Configuration saved in ./distBert-v4/20230203_083620$-train-model-distilbert-base-uncased\\checkpoint-352\\config.json\n"
     ]
    },
    {
     "name": "stdout",
     "output_type": "stream",
     "text": [
      "{'eval_loss': 0.17479261755943298, 'eval_f1': 0.5277777777777778, 'eval_roc_auc': 0.6818057828696127, 'eval_accuracy': 0.29545454545454547, 'eval_runtime': 0.0739, 'eval_samples_per_second': 595.351, 'eval_steps_per_second': 81.184, 'epoch': 8.0}\n"
     ]
    },
    {
     "name": "stderr",
     "output_type": "stream",
     "text": [
      "Model weights saved in ./distBert-v4/20230203_083620$-train-model-distilbert-base-uncased\\checkpoint-352\\pytorch_model.bin\n",
      "tokenizer config file saved in ./distBert-v4/20230203_083620$-train-model-distilbert-base-uncased\\checkpoint-352\\tokenizer_config.json\n",
      "Special tokens file saved in ./distBert-v4/20230203_083620$-train-model-distilbert-base-uncased\\checkpoint-352\\special_tokens_map.json\n",
      " 13%|█▎        | 396/3080 [00:28<02:05, 21.43it/s]***** Running Evaluation *****\n",
      "  Num examples = 44\n",
      "  Batch size = 8\n",
      "                                                  \n",
      " 13%|█▎        | 396/3080 [00:29<02:05, 21.43it/s]Saving model checkpoint to ./distBert-v4/20230203_083620$-train-model-distilbert-base-uncased\\checkpoint-396\n",
      "Configuration saved in ./distBert-v4/20230203_083620$-train-model-distilbert-base-uncased\\checkpoint-396\\config.json\n"
     ]
    },
    {
     "name": "stdout",
     "output_type": "stream",
     "text": [
      "{'eval_loss': 0.16536997258663177, 'eval_f1': 0.5897435897435898, 'eval_roc_auc': 0.7184942716857611, 'eval_accuracy': 0.38636363636363635, 'eval_runtime': 0.0719, 'eval_samples_per_second': 612.017, 'eval_steps_per_second': 83.457, 'epoch': 9.0}\n"
     ]
    },
    {
     "name": "stderr",
     "output_type": "stream",
     "text": [
      "Model weights saved in ./distBert-v4/20230203_083620$-train-model-distilbert-base-uncased\\checkpoint-396\\pytorch_model.bin\n",
      "tokenizer config file saved in ./distBert-v4/20230203_083620$-train-model-distilbert-base-uncased\\checkpoint-396\\tokenizer_config.json\n",
      "Special tokens file saved in ./distBert-v4/20230203_083620$-train-model-distilbert-base-uncased\\checkpoint-396\\special_tokens_map.json\n",
      " 14%|█▍        | 438/3080 [00:32<02:06, 20.90it/s]***** Running Evaluation *****\n",
      "  Num examples = 44\n",
      "  Batch size = 8\n",
      "                                                  \n",
      " 14%|█▍        | 440/3080 [00:32<02:06, 20.90it/s]Saving model checkpoint to ./distBert-v4/20230203_083620$-train-model-distilbert-base-uncased\\checkpoint-440\n",
      "Configuration saved in ./distBert-v4/20230203_083620$-train-model-distilbert-base-uncased\\checkpoint-440\\config.json\n"
     ]
    },
    {
     "name": "stdout",
     "output_type": "stream",
     "text": [
      "{'eval_loss': 0.1587987244129181, 'eval_f1': 0.5822784810126582, 'eval_roc_auc': 0.717607746863066, 'eval_accuracy': 0.38636363636363635, 'eval_runtime': 0.0749, 'eval_samples_per_second': 587.387, 'eval_steps_per_second': 80.098, 'epoch': 10.0}\n"
     ]
    },
    {
     "name": "stderr",
     "output_type": "stream",
     "text": [
      "Model weights saved in ./distBert-v4/20230203_083620$-train-model-distilbert-base-uncased\\checkpoint-440\\pytorch_model.bin\n",
      "tokenizer config file saved in ./distBert-v4/20230203_083620$-train-model-distilbert-base-uncased\\checkpoint-440\\tokenizer_config.json\n",
      "Special tokens file saved in ./distBert-v4/20230203_083620$-train-model-distilbert-base-uncased\\checkpoint-440\\special_tokens_map.json\n",
      " 16%|█▌        | 483/3080 [00:35<02:03, 21.10it/s]***** Running Evaluation *****\n",
      "  Num examples = 44\n",
      "  Batch size = 8\n",
      "                                                  \n",
      " 16%|█▌        | 484/3080 [00:35<02:03, 21.10it/s]Saving model checkpoint to ./distBert-v4/20230203_083620$-train-model-distilbert-base-uncased\\checkpoint-484\n",
      "Configuration saved in ./distBert-v4/20230203_083620$-train-model-distilbert-base-uncased\\checkpoint-484\\config.json\n"
     ]
    },
    {
     "name": "stdout",
     "output_type": "stream",
     "text": [
      "{'eval_loss': 0.14390268921852112, 'eval_f1': 0.6818181818181818, 'eval_roc_auc': 0.7831423895253682, 'eval_accuracy': 0.5227272727272727, 'eval_runtime': 0.0748, 'eval_samples_per_second': 588.108, 'eval_steps_per_second': 80.197, 'epoch': 11.0}\n"
     ]
    },
    {
     "name": "stderr",
     "output_type": "stream",
     "text": [
      "Model weights saved in ./distBert-v4/20230203_083620$-train-model-distilbert-base-uncased\\checkpoint-484\\pytorch_model.bin\n",
      "tokenizer config file saved in ./distBert-v4/20230203_083620$-train-model-distilbert-base-uncased\\checkpoint-484\\tokenizer_config.json\n",
      "Special tokens file saved in ./distBert-v4/20230203_083620$-train-model-distilbert-base-uncased\\checkpoint-484\\special_tokens_map.json\n",
      " 16%|█▋        | 503/3080 [00:44<06:53,  6.23it/s]"
     ]
    },
    {
     "name": "stdout",
     "output_type": "stream",
     "text": [
      "{'loss': 0.2195, 'learning_rate': 1.6753246753246756e-05, 'epoch': 11.36}\n"
     ]
    },
    {
     "name": "stderr",
     "output_type": "stream",
     "text": [
      " 17%|█▋        | 527/3080 [00:45<02:17, 18.55it/s]***** Running Evaluation *****\n",
      "  Num examples = 44\n",
      "  Batch size = 8\n",
      "                                                  \n",
      " 17%|█▋        | 528/3080 [00:45<02:17, 18.55it/s]Saving model checkpoint to ./distBert-v4/20230203_083620$-train-model-distilbert-base-uncased\\checkpoint-528\n",
      "Configuration saved in ./distBert-v4/20230203_083620$-train-model-distilbert-base-uncased\\checkpoint-528\\config.json\n"
     ]
    },
    {
     "name": "stdout",
     "output_type": "stream",
     "text": [
      "{'eval_loss': 0.1406213343143463, 'eval_f1': 0.6428571428571429, 'eval_roc_auc': 0.7551827605019094, 'eval_accuracy': 0.4772727272727273, 'eval_runtime': 0.0748, 'eval_samples_per_second': 588.241, 'eval_steps_per_second': 80.215, 'epoch': 12.0}\n"
     ]
    },
    {
     "name": "stderr",
     "output_type": "stream",
     "text": [
      "Model weights saved in ./distBert-v4/20230203_083620$-train-model-distilbert-base-uncased\\checkpoint-528\\pytorch_model.bin\n",
      "tokenizer config file saved in ./distBert-v4/20230203_083620$-train-model-distilbert-base-uncased\\checkpoint-528\\tokenizer_config.json\n",
      "Special tokens file saved in ./distBert-v4/20230203_083620$-train-model-distilbert-base-uncased\\checkpoint-528\\special_tokens_map.json\n",
      " 19%|█▊        | 571/3080 [00:55<02:13, 18.84it/s]***** Running Evaluation *****\n",
      "  Num examples = 44\n",
      "  Batch size = 8\n",
      "                                                  \n",
      " 19%|█▊        | 572/3080 [00:56<02:13, 18.84it/s]Saving model checkpoint to ./distBert-v4/20230203_083620$-train-model-distilbert-base-uncased\\checkpoint-572\n",
      "Configuration saved in ./distBert-v4/20230203_083620$-train-model-distilbert-base-uncased\\checkpoint-572\\config.json\n"
     ]
    },
    {
     "name": "stdout",
     "output_type": "stream",
     "text": [
      "{'eval_loss': 0.13700652122497559, 'eval_f1': 0.6823529411764707, 'eval_roc_auc': 0.7753000545553738, 'eval_accuracy': 0.5227272727272727, 'eval_runtime': 0.0748, 'eval_samples_per_second': 588.492, 'eval_steps_per_second': 80.249, 'epoch': 13.0}\n"
     ]
    },
    {
     "name": "stderr",
     "output_type": "stream",
     "text": [
      "Model weights saved in ./distBert-v4/20230203_083620$-train-model-distilbert-base-uncased\\checkpoint-572\\pytorch_model.bin\n",
      "tokenizer config file saved in ./distBert-v4/20230203_083620$-train-model-distilbert-base-uncased\\checkpoint-572\\tokenizer_config.json\n",
      "Special tokens file saved in ./distBert-v4/20230203_083620$-train-model-distilbert-base-uncased\\checkpoint-572\\special_tokens_map.json\n",
      " 20%|██        | 616/3080 [00:59<01:58, 20.87it/s]***** Running Evaluation *****\n",
      "  Num examples = 44\n",
      "  Batch size = 8\n",
      "                                                  \n",
      " 20%|██        | 616/3080 [00:59<01:58, 20.87it/s]Saving model checkpoint to ./distBert-v4/20230203_083620$-train-model-distilbert-base-uncased\\checkpoint-616\n",
      "Configuration saved in ./distBert-v4/20230203_083620$-train-model-distilbert-base-uncased\\checkpoint-616\\config.json\n"
     ]
    },
    {
     "name": "stdout",
     "output_type": "stream",
     "text": [
      "{'eval_loss': 0.13144636154174805, 'eval_f1': 0.6823529411764707, 'eval_roc_auc': 0.7753000545553738, 'eval_accuracy': 0.5227272727272727, 'eval_runtime': 0.0813, 'eval_samples_per_second': 541.151, 'eval_steps_per_second': 73.793, 'epoch': 14.0}\n"
     ]
    },
    {
     "name": "stderr",
     "output_type": "stream",
     "text": [
      "Model weights saved in ./distBert-v4/20230203_083620$-train-model-distilbert-base-uncased\\checkpoint-616\\pytorch_model.bin\n",
      "tokenizer config file saved in ./distBert-v4/20230203_083620$-train-model-distilbert-base-uncased\\checkpoint-616\\tokenizer_config.json\n",
      "Special tokens file saved in ./distBert-v4/20230203_083620$-train-model-distilbert-base-uncased\\checkpoint-616\\special_tokens_map.json\n",
      " 21%|██▏       | 658/3080 [01:02<01:57, 20.57it/s]***** Running Evaluation *****\n",
      "  Num examples = 44\n",
      "  Batch size = 8\n",
      "                                                  \n",
      " 21%|██▏       | 660/3080 [01:02<01:57, 20.57it/s]Saving model checkpoint to ./distBert-v4/20230203_083620$-train-model-distilbert-base-uncased\\checkpoint-660\n",
      "Configuration saved in ./distBert-v4/20230203_083620$-train-model-distilbert-base-uncased\\checkpoint-660\\config.json\n"
     ]
    },
    {
     "name": "stdout",
     "output_type": "stream",
     "text": [
      "{'eval_loss': 0.13118761777877808, 'eval_f1': 0.6744186046511628, 'eval_roc_auc': 0.7744135297326787, 'eval_accuracy': 0.5, 'eval_runtime': 0.0767, 'eval_samples_per_second': 573.646, 'eval_steps_per_second': 78.224, 'epoch': 15.0}\n"
     ]
    },
    {
     "name": "stderr",
     "output_type": "stream",
     "text": [
      "Model weights saved in ./distBert-v4/20230203_083620$-train-model-distilbert-base-uncased\\checkpoint-660\\pytorch_model.bin\n",
      "tokenizer config file saved in ./distBert-v4/20230203_083620$-train-model-distilbert-base-uncased\\checkpoint-660\\tokenizer_config.json\n",
      "Special tokens file saved in ./distBert-v4/20230203_083620$-train-model-distilbert-base-uncased\\checkpoint-660\\special_tokens_map.json\n",
      " 23%|██▎       | 703/3080 [01:05<01:54, 20.74it/s]***** Running Evaluation *****\n",
      "  Num examples = 44\n",
      "  Batch size = 8\n",
      "                                                  \n",
      " 23%|██▎       | 704/3080 [01:05<01:54, 20.74it/s]Saving model checkpoint to ./distBert-v4/20230203_083620$-train-model-distilbert-base-uncased\\checkpoint-704\n",
      "Configuration saved in ./distBert-v4/20230203_083620$-train-model-distilbert-base-uncased\\checkpoint-704\\config.json\n"
     ]
    },
    {
     "name": "stdout",
     "output_type": "stream",
     "text": [
      "{'eval_loss': 0.14150141179561615, 'eval_f1': 0.7045454545454546, 'eval_roc_auc': 0.793644298963448, 'eval_accuracy': 0.5454545454545454, 'eval_runtime': 0.0768, 'eval_samples_per_second': 572.663, 'eval_steps_per_second': 78.09, 'epoch': 16.0}\n"
     ]
    },
    {
     "name": "stderr",
     "output_type": "stream",
     "text": [
      "Model weights saved in ./distBert-v4/20230203_083620$-train-model-distilbert-base-uncased\\checkpoint-704\\pytorch_model.bin\n",
      "tokenizer config file saved in ./distBert-v4/20230203_083620$-train-model-distilbert-base-uncased\\checkpoint-704\\tokenizer_config.json\n",
      "Special tokens file saved in ./distBert-v4/20230203_083620$-train-model-distilbert-base-uncased\\checkpoint-704\\special_tokens_map.json\n",
      " 24%|██▍       | 748/3080 [01:08<01:51, 20.98it/s]***** Running Evaluation *****\n",
      "  Num examples = 44\n",
      "  Batch size = 8\n",
      "                                                  \n",
      " 24%|██▍       | 748/3080 [01:08<01:51, 20.98it/s]Saving model checkpoint to ./distBert-v4/20230203_083620$-train-model-distilbert-base-uncased\\checkpoint-748\n",
      "Configuration saved in ./distBert-v4/20230203_083620$-train-model-distilbert-base-uncased\\checkpoint-748\\config.json\n"
     ]
    },
    {
     "name": "stdout",
     "output_type": "stream",
     "text": [
      "{'eval_loss': 0.1485213041305542, 'eval_f1': 0.689655172413793, 'eval_roc_auc': 0.7840289143480633, 'eval_accuracy': 0.5227272727272727, 'eval_runtime': 0.0758, 'eval_samples_per_second': 580.225, 'eval_steps_per_second': 79.122, 'epoch': 17.0}\n"
     ]
    },
    {
     "name": "stderr",
     "output_type": "stream",
     "text": [
      "Model weights saved in ./distBert-v4/20230203_083620$-train-model-distilbert-base-uncased\\checkpoint-748\\pytorch_model.bin\n",
      "tokenizer config file saved in ./distBert-v4/20230203_083620$-train-model-distilbert-base-uncased\\checkpoint-748\\tokenizer_config.json\n",
      "Special tokens file saved in ./distBert-v4/20230203_083620$-train-model-distilbert-base-uncased\\checkpoint-748\\special_tokens_map.json\n",
      " 26%|██▌       | 790/3080 [01:11<01:50, 20.69it/s]***** Running Evaluation *****\n",
      "  Num examples = 44\n",
      "  Batch size = 8\n",
      "                                                  \n",
      " 26%|██▌       | 792/3080 [01:12<01:50, 20.69it/s]Saving model checkpoint to ./distBert-v4/20230203_083620$-train-model-distilbert-base-uncased\\checkpoint-792\n",
      "Configuration saved in ./distBert-v4/20230203_083620$-train-model-distilbert-base-uncased\\checkpoint-792\\config.json\n"
     ]
    },
    {
     "name": "stdout",
     "output_type": "stream",
     "text": [
      "{'eval_loss': 0.1527131050825119, 'eval_f1': 0.6666666666666667, 'eval_roc_auc': 0.765684669939989, 'eval_accuracy': 0.4772727272727273, 'eval_runtime': 0.077, 'eval_samples_per_second': 571.443, 'eval_steps_per_second': 77.924, 'epoch': 18.0}\n"
     ]
    },
    {
     "name": "stderr",
     "output_type": "stream",
     "text": [
      "Model weights saved in ./distBert-v4/20230203_083620$-train-model-distilbert-base-uncased\\checkpoint-792\\pytorch_model.bin\n",
      "tokenizer config file saved in ./distBert-v4/20230203_083620$-train-model-distilbert-base-uncased\\checkpoint-792\\tokenizer_config.json\n",
      "Special tokens file saved in ./distBert-v4/20230203_083620$-train-model-distilbert-base-uncased\\checkpoint-792\\special_tokens_map.json\n",
      " 27%|██▋       | 835/3080 [01:15<01:47, 20.87it/s]***** Running Evaluation *****\n",
      "  Num examples = 44\n",
      "  Batch size = 8\n",
      "                                                  \n",
      " 27%|██▋       | 836/3080 [01:15<01:47, 20.87it/s]Saving model checkpoint to ./distBert-v4/20230203_083620$-train-model-distilbert-base-uncased\\checkpoint-836\n",
      "Configuration saved in ./distBert-v4/20230203_083620$-train-model-distilbert-base-uncased\\checkpoint-836\\config.json\n"
     ]
    },
    {
     "name": "stdout",
     "output_type": "stream",
     "text": [
      "{'eval_loss': 0.12097382545471191, 'eval_f1': 0.7333333333333333, 'eval_roc_auc': 0.8128750681942172, 'eval_accuracy': 0.5454545454545454, 'eval_runtime': 0.0787, 'eval_samples_per_second': 558.738, 'eval_steps_per_second': 76.192, 'epoch': 19.0}\n"
     ]
    },
    {
     "name": "stderr",
     "output_type": "stream",
     "text": [
      " 27%|██▋       | 836/3080 [01:25<01:47, 20.87it/s]Model weights saved in ./distBert-v4/20230203_083620$-train-model-distilbert-base-uncased\\checkpoint-836\\pytorch_model.bin\n",
      "tokenizer config file saved in ./distBert-v4/20230203_083620$-train-model-distilbert-base-uncased\\checkpoint-836\\tokenizer_config.json\n",
      "Special tokens file saved in ./distBert-v4/20230203_083620$-train-model-distilbert-base-uncased\\checkpoint-836\\special_tokens_map.json\n",
      " 29%|██▊       | 878/3080 [01:31<02:06, 17.45it/s]  ***** Running Evaluation *****\n",
      "  Num examples = 44\n",
      "  Batch size = 8\n",
      "                                                  \n",
      " 29%|██▊       | 880/3080 [01:32<02:06, 17.45it/s]Saving model checkpoint to ./distBert-v4/20230203_083620$-train-model-distilbert-base-uncased\\checkpoint-880\n",
      "Configuration saved in ./distBert-v4/20230203_083620$-train-model-distilbert-base-uncased\\checkpoint-880\\config.json\n"
     ]
    },
    {
     "name": "stdout",
     "output_type": "stream",
     "text": [
      "{'eval_loss': 0.13672031462192535, 'eval_f1': 0.7191011235955056, 'eval_roc_auc': 0.8032596835788326, 'eval_accuracy': 0.5454545454545454, 'eval_runtime': 0.0753, 'eval_samples_per_second': 584.276, 'eval_steps_per_second': 79.674, 'epoch': 20.0}\n"
     ]
    },
    {
     "name": "stderr",
     "output_type": "stream",
     "text": [
      "Model weights saved in ./distBert-v4/20230203_083620$-train-model-distilbert-base-uncased\\checkpoint-880\\pytorch_model.bin\n",
      "tokenizer config file saved in ./distBert-v4/20230203_083620$-train-model-distilbert-base-uncased\\checkpoint-880\\tokenizer_config.json\n",
      "Special tokens file saved in ./distBert-v4/20230203_083620$-train-model-distilbert-base-uncased\\checkpoint-880\\special_tokens_map.json\n",
      " 30%|██▉       | 922/3080 [01:46<02:01, 17.77it/s]***** Running Evaluation *****\n",
      "  Num examples = 44\n",
      "  Batch size = 8\n",
      "                                                  \n",
      " 30%|███       | 924/3080 [01:47<02:01, 17.77it/s]Saving model checkpoint to ./distBert-v4/20230203_083620$-train-model-distilbert-base-uncased\\checkpoint-924\n",
      "Configuration saved in ./distBert-v4/20230203_083620$-train-model-distilbert-base-uncased\\checkpoint-924\\config.json\n",
      " 30%|███       | 924/3080 [02:01<02:01, 17.77it/s]"
     ]
    },
    {
     "name": "stdout",
     "output_type": "stream",
     "text": [
      "{'eval_loss': 0.1392994523048401, 'eval_f1': 0.7272727272727274, 'eval_roc_auc': 0.8041462084015275, 'eval_accuracy': 0.5681818181818182, 'eval_runtime': 0.0748, 'eval_samples_per_second': 587.954, 'eval_steps_per_second': 80.176, 'epoch': 21.0}\n"
     ]
    },
    {
     "name": "stderr",
     "output_type": "stream",
     "text": [
      "Model weights saved in ./distBert-v4/20230203_083620$-train-model-distilbert-base-uncased\\checkpoint-924\\pytorch_model.bin\n",
      "tokenizer config file saved in ./distBert-v4/20230203_083620$-train-model-distilbert-base-uncased\\checkpoint-924\\tokenizer_config.json\n",
      "Special tokens file saved in ./distBert-v4/20230203_083620$-train-model-distilbert-base-uncased\\checkpoint-924\\special_tokens_map.json\n",
      " 31%|███▏      | 966/3080 [02:05<02:04, 17.02it/s]  ***** Running Evaluation *****\n",
      "  Num examples = 44\n",
      "  Batch size = 8\n",
      "                                                  \n",
      " 31%|███▏      | 968/3080 [02:05<02:04, 17.02it/s]Saving model checkpoint to ./distBert-v4/20230203_083620$-train-model-distilbert-base-uncased\\checkpoint-968\n",
      "Configuration saved in ./distBert-v4/20230203_083620$-train-model-distilbert-base-uncased\\checkpoint-968\\config.json\n"
     ]
    },
    {
     "name": "stdout",
     "output_type": "stream",
     "text": [
      "{'eval_loss': 0.1322440654039383, 'eval_f1': 0.7272727272727274, 'eval_roc_auc': 0.8041462084015275, 'eval_accuracy': 0.5454545454545454, 'eval_runtime': 0.0763, 'eval_samples_per_second': 576.465, 'eval_steps_per_second': 78.609, 'epoch': 22.0}\n"
     ]
    },
    {
     "name": "stderr",
     "output_type": "stream",
     "text": [
      "Model weights saved in ./distBert-v4/20230203_083620$-train-model-distilbert-base-uncased\\checkpoint-968\\pytorch_model.bin\n",
      "tokenizer config file saved in ./distBert-v4/20230203_083620$-train-model-distilbert-base-uncased\\checkpoint-968\\tokenizer_config.json\n",
      "Special tokens file saved in ./distBert-v4/20230203_083620$-train-model-distilbert-base-uncased\\checkpoint-968\\special_tokens_map.json\n",
      " 33%|███▎      | 1002/3080 [02:07<01:44, 19.95it/s]"
     ]
    },
    {
     "name": "stdout",
     "output_type": "stream",
     "text": [
      "{'loss': 0.0371, 'learning_rate': 1.3506493506493508e-05, 'epoch': 22.73}\n"
     ]
    },
    {
     "name": "stderr",
     "output_type": "stream",
     "text": [
      " 33%|███▎      | 1011/3080 [02:08<01:40, 20.68it/s]***** Running Evaluation *****\n",
      "  Num examples = 44\n",
      "  Batch size = 8\n",
      "                                                   \n",
      " 33%|███▎      | 1012/3080 [02:08<01:39, 20.68it/s]Saving model checkpoint to ./distBert-v4/20230203_083620$-train-model-distilbert-base-uncased\\checkpoint-1012\n",
      "Configuration saved in ./distBert-v4/20230203_083620$-train-model-distilbert-base-uncased\\checkpoint-1012\\config.json\n"
     ]
    },
    {
     "name": "stdout",
     "output_type": "stream",
     "text": [
      "{'eval_loss': 0.13310831785202026, 'eval_f1': 0.7415730337078652, 'eval_roc_auc': 0.8137615930169122, 'eval_accuracy': 0.5681818181818182, 'eval_runtime': 0.0763, 'eval_samples_per_second': 576.495, 'eval_steps_per_second': 78.613, 'epoch': 23.0}\n"
     ]
    },
    {
     "name": "stderr",
     "output_type": "stream",
     "text": [
      "Model weights saved in ./distBert-v4/20230203_083620$-train-model-distilbert-base-uncased\\checkpoint-1012\\pytorch_model.bin\n",
      "tokenizer config file saved in ./distBert-v4/20230203_083620$-train-model-distilbert-base-uncased\\checkpoint-1012\\tokenizer_config.json\n",
      "Special tokens file saved in ./distBert-v4/20230203_083620$-train-model-distilbert-base-uncased\\checkpoint-1012\\special_tokens_map.json\n",
      " 34%|███▍      | 1054/3080 [02:25<01:56, 17.32it/s]***** Running Evaluation *****\n",
      "  Num examples = 44\n",
      "  Batch size = 8\n",
      "                                                   \n",
      " 34%|███▍      | 1056/3080 [02:25<01:56, 17.32it/s]Saving model checkpoint to ./distBert-v4/20230203_083620$-train-model-distilbert-base-uncased\\checkpoint-1056\n",
      "Configuration saved in ./distBert-v4/20230203_083620$-train-model-distilbert-base-uncased\\checkpoint-1056\\config.json\n"
     ]
    },
    {
     "name": "stdout",
     "output_type": "stream",
     "text": [
      "{'eval_loss': 0.13931618630886078, 'eval_f1': 0.7191011235955056, 'eval_roc_auc': 0.8032596835788326, 'eval_accuracy': 0.5454545454545454, 'eval_runtime': 0.0753, 'eval_samples_per_second': 583.945, 'eval_steps_per_second': 79.629, 'epoch': 24.0}\n"
     ]
    },
    {
     "name": "stderr",
     "output_type": "stream",
     "text": [
      "Model weights saved in ./distBert-v4/20230203_083620$-train-model-distilbert-base-uncased\\checkpoint-1056\\pytorch_model.bin\n",
      "tokenizer config file saved in ./distBert-v4/20230203_083620$-train-model-distilbert-base-uncased\\checkpoint-1056\\tokenizer_config.json\n",
      "Special tokens file saved in ./distBert-v4/20230203_083620$-train-model-distilbert-base-uncased\\checkpoint-1056\\special_tokens_map.json\n",
      " 36%|███▌      | 1099/3080 [02:28<01:35, 20.75it/s]***** Running Evaluation *****\n",
      "  Num examples = 44\n",
      "  Batch size = 8\n",
      "                                                   \n",
      " 36%|███▌      | 1100/3080 [02:28<01:35, 20.75it/s]Saving model checkpoint to ./distBert-v4/20230203_083620$-train-model-distilbert-base-uncased\\checkpoint-1100\n",
      "Configuration saved in ./distBert-v4/20230203_083620$-train-model-distilbert-base-uncased\\checkpoint-1100\\config.json\n"
     ]
    },
    {
     "name": "stdout",
     "output_type": "stream",
     "text": [
      "{'eval_loss': 0.1370813250541687, 'eval_f1': 0.7191011235955056, 'eval_roc_auc': 0.8032596835788326, 'eval_accuracy': 0.5454545454545454, 'eval_runtime': 0.0754, 'eval_samples_per_second': 583.618, 'eval_steps_per_second': 79.584, 'epoch': 25.0}\n"
     ]
    },
    {
     "name": "stderr",
     "output_type": "stream",
     "text": [
      " 36%|███▌      | 1100/3080 [02:40<01:35, 20.75it/s]Model weights saved in ./distBert-v4/20230203_083620$-train-model-distilbert-base-uncased\\checkpoint-1100\\pytorch_model.bin\n",
      "tokenizer config file saved in ./distBert-v4/20230203_083620$-train-model-distilbert-base-uncased\\checkpoint-1100\\tokenizer_config.json\n",
      "Special tokens file saved in ./distBert-v4/20230203_083620$-train-model-distilbert-base-uncased\\checkpoint-1100\\special_tokens_map.json\n",
      " 37%|███▋      | 1142/3080 [02:44<01:50, 17.48it/s]***** Running Evaluation *****\n",
      "  Num examples = 44\n",
      "  Batch size = 8\n",
      "                                                   \n",
      " 37%|███▋      | 1144/3080 [02:45<01:50, 17.48it/s]Saving model checkpoint to ./distBert-v4/20230203_083620$-train-model-distilbert-base-uncased\\checkpoint-1144\n",
      "Configuration saved in ./distBert-v4/20230203_083620$-train-model-distilbert-base-uncased\\checkpoint-1144\\config.json\n"
     ]
    },
    {
     "name": "stdout",
     "output_type": "stream",
     "text": [
      "{'eval_loss': 0.13547849655151367, 'eval_f1': 0.7191011235955056, 'eval_roc_auc': 0.8032596835788326, 'eval_accuracy': 0.5454545454545454, 'eval_runtime': 0.0813, 'eval_samples_per_second': 540.91, 'eval_steps_per_second': 73.76, 'epoch': 26.0}\n"
     ]
    },
    {
     "name": "stderr",
     "output_type": "stream",
     "text": [
      "Model weights saved in ./distBert-v4/20230203_083620$-train-model-distilbert-base-uncased\\checkpoint-1144\\pytorch_model.bin\n",
      "tokenizer config file saved in ./distBert-v4/20230203_083620$-train-model-distilbert-base-uncased\\checkpoint-1144\\tokenizer_config.json\n",
      "Special tokens file saved in ./distBert-v4/20230203_083620$-train-model-distilbert-base-uncased\\checkpoint-1144\\special_tokens_map.json\n",
      " 39%|███▊      | 1186/3080 [03:02<01:49, 17.26it/s]***** Running Evaluation *****\n",
      "  Num examples = 44\n",
      "  Batch size = 8\n",
      "                                                   \n",
      " 39%|███▊      | 1188/3080 [03:02<01:49, 17.26it/s]Saving model checkpoint to ./distBert-v4/20230203_083620$-train-model-distilbert-base-uncased\\checkpoint-1188\n",
      "Configuration saved in ./distBert-v4/20230203_083620$-train-model-distilbert-base-uncased\\checkpoint-1188\\config.json\n",
      " 39%|███▊      | 1188/3080 [03:14<01:49, 17.26it/s]"
     ]
    },
    {
     "name": "stdout",
     "output_type": "stream",
     "text": [
      "{'eval_loss': 0.1425076127052307, 'eval_f1': 0.7191011235955056, 'eval_roc_auc': 0.8032596835788326, 'eval_accuracy': 0.5454545454545454, 'eval_runtime': 0.0754, 'eval_samples_per_second': 583.627, 'eval_steps_per_second': 79.586, 'epoch': 27.0}\n"
     ]
    },
    {
     "name": "stderr",
     "output_type": "stream",
     "text": [
      "Model weights saved in ./distBert-v4/20230203_083620$-train-model-distilbert-base-uncased\\checkpoint-1188\\pytorch_model.bin\n",
      "tokenizer config file saved in ./distBert-v4/20230203_083620$-train-model-distilbert-base-uncased\\checkpoint-1188\\tokenizer_config.json\n",
      "Special tokens file saved in ./distBert-v4/20230203_083620$-train-model-distilbert-base-uncased\\checkpoint-1188\\special_tokens_map.json\n",
      " 40%|███▉      | 1231/3080 [03:18<01:43, 17.94it/s]***** Running Evaluation *****\n",
      "  Num examples = 44\n",
      "  Batch size = 8\n",
      "                                                   \n",
      " 40%|████      | 1232/3080 [03:18<01:42, 17.94it/s]Saving model checkpoint to ./distBert-v4/20230203_083620$-train-model-distilbert-base-uncased\\checkpoint-1232\n",
      "Configuration saved in ./distBert-v4/20230203_083620$-train-model-distilbert-base-uncased\\checkpoint-1232\\config.json\n"
     ]
    },
    {
     "name": "stdout",
     "output_type": "stream",
     "text": [
      "{'eval_loss': 0.1428346484899521, 'eval_f1': 0.7333333333333333, 'eval_roc_auc': 0.8128750681942172, 'eval_accuracy': 0.5681818181818182, 'eval_runtime': 0.075, 'eval_samples_per_second': 586.294, 'eval_steps_per_second': 79.949, 'epoch': 28.0}\n"
     ]
    },
    {
     "name": "stderr",
     "output_type": "stream",
     "text": [
      "Model weights saved in ./distBert-v4/20230203_083620$-train-model-distilbert-base-uncased\\checkpoint-1232\\pytorch_model.bin\n",
      "tokenizer config file saved in ./distBert-v4/20230203_083620$-train-model-distilbert-base-uncased\\checkpoint-1232\\tokenizer_config.json\n",
      "Special tokens file saved in ./distBert-v4/20230203_083620$-train-model-distilbert-base-uncased\\checkpoint-1232\\special_tokens_map.json\n",
      " 41%|████▏     | 1276/3080 [03:21<01:24, 21.32it/s]***** Running Evaluation *****\n",
      "  Num examples = 44\n",
      "  Batch size = 8\n",
      "                                                   \n",
      " 41%|████▏     | 1276/3080 [03:21<01:24, 21.32it/s]Saving model checkpoint to ./distBert-v4/20230203_083620$-train-model-distilbert-base-uncased\\checkpoint-1276\n",
      "Configuration saved in ./distBert-v4/20230203_083620$-train-model-distilbert-base-uncased\\checkpoint-1276\\config.json\n",
      " 41%|████▏     | 1276/3080 [03:33<01:24, 21.32it/s]"
     ]
    },
    {
     "name": "stdout",
     "output_type": "stream",
     "text": [
      "{'eval_loss': 0.14827187359333038, 'eval_f1': 0.7333333333333333, 'eval_roc_auc': 0.8128750681942172, 'eval_accuracy': 0.5681818181818182, 'eval_runtime': 0.0755, 'eval_samples_per_second': 583.015, 'eval_steps_per_second': 79.502, 'epoch': 29.0}\n"
     ]
    },
    {
     "name": "stderr",
     "output_type": "stream",
     "text": [
      "Model weights saved in ./distBert-v4/20230203_083620$-train-model-distilbert-base-uncased\\checkpoint-1276\\pytorch_model.bin\n",
      "tokenizer config file saved in ./distBert-v4/20230203_083620$-train-model-distilbert-base-uncased\\checkpoint-1276\\tokenizer_config.json\n",
      "Special tokens file saved in ./distBert-v4/20230203_083620$-train-model-distilbert-base-uncased\\checkpoint-1276\\special_tokens_map.json\n",
      " 43%|████▎     | 1318/3080 [03:36<01:38, 17.92it/s]***** Running Evaluation *****\n",
      "  Num examples = 44\n",
      "  Batch size = 8\n",
      "                                                   \n",
      " 43%|████▎     | 1320/3080 [03:36<01:38, 17.92it/s]Saving model checkpoint to ./distBert-v4/20230203_083620$-train-model-distilbert-base-uncased\\checkpoint-1320\n",
      "Configuration saved in ./distBert-v4/20230203_083620$-train-model-distilbert-base-uncased\\checkpoint-1320\\config.json\n"
     ]
    },
    {
     "name": "stdout",
     "output_type": "stream",
     "text": [
      "{'eval_loss': 0.14240556955337524, 'eval_f1': 0.7252747252747251, 'eval_roc_auc': 0.811988543371522, 'eval_accuracy': 0.5681818181818182, 'eval_runtime': 0.0765, 'eval_samples_per_second': 575.11, 'eval_steps_per_second': 78.424, 'epoch': 30.0}\n"
     ]
    },
    {
     "name": "stderr",
     "output_type": "stream",
     "text": [
      "Model weights saved in ./distBert-v4/20230203_083620$-train-model-distilbert-base-uncased\\checkpoint-1320\\pytorch_model.bin\n",
      "tokenizer config file saved in ./distBert-v4/20230203_083620$-train-model-distilbert-base-uncased\\checkpoint-1320\\tokenizer_config.json\n",
      "Special tokens file saved in ./distBert-v4/20230203_083620$-train-model-distilbert-base-uncased\\checkpoint-1320\\special_tokens_map.json\n",
      " 44%|████▍     | 1362/3080 [04:07<01:56, 14.80it/s]  ***** Running Evaluation *****\n",
      "  Num examples = 44\n",
      "  Batch size = 8\n",
      "                                                   \n",
      " 44%|████▍     | 1364/3080 [04:07<01:55, 14.80it/s]Saving model checkpoint to ./distBert-v4/20230203_083620$-train-model-distilbert-base-uncased\\checkpoint-1364\n",
      "Configuration saved in ./distBert-v4/20230203_083620$-train-model-distilbert-base-uncased\\checkpoint-1364\\config.json\n"
     ]
    },
    {
     "name": "stdout",
     "output_type": "stream",
     "text": [
      "{'eval_loss': 0.14546725153923035, 'eval_f1': 0.7415730337078652, 'eval_roc_auc': 0.8137615930169122, 'eval_accuracy': 0.5681818181818182, 'eval_runtime': 0.0773, 'eval_samples_per_second': 569.126, 'eval_steps_per_second': 77.608, 'epoch': 31.0}\n"
     ]
    },
    {
     "name": "stderr",
     "output_type": "stream",
     "text": [
      "Model weights saved in ./distBert-v4/20230203_083620$-train-model-distilbert-base-uncased\\checkpoint-1364\\pytorch_model.bin\n",
      "tokenizer config file saved in ./distBert-v4/20230203_083620$-train-model-distilbert-base-uncased\\checkpoint-1364\\tokenizer_config.json\n",
      "Special tokens file saved in ./distBert-v4/20230203_083620$-train-model-distilbert-base-uncased\\checkpoint-1364\\special_tokens_map.json\n",
      " 46%|████▌     | 1407/3080 [04:10<01:20, 20.73it/s]***** Running Evaluation *****\n",
      "  Num examples = 44\n",
      "  Batch size = 8\n",
      "                                                   \n",
      " 46%|████▌     | 1408/3080 [04:10<01:20, 20.73it/s]Saving model checkpoint to ./distBert-v4/20230203_083620$-train-model-distilbert-base-uncased\\checkpoint-1408\n",
      "Configuration saved in ./distBert-v4/20230203_083620$-train-model-distilbert-base-uncased\\checkpoint-1408\\config.json\n"
     ]
    },
    {
     "name": "stdout",
     "output_type": "stream",
     "text": [
      "{'eval_loss': 0.14922991394996643, 'eval_f1': 0.7191011235955056, 'eval_roc_auc': 0.8032596835788326, 'eval_accuracy': 0.5454545454545454, 'eval_runtime': 0.0758, 'eval_samples_per_second': 580.742, 'eval_steps_per_second': 79.192, 'epoch': 32.0}\n"
     ]
    },
    {
     "name": "stderr",
     "output_type": "stream",
     "text": [
      "Model weights saved in ./distBert-v4/20230203_083620$-train-model-distilbert-base-uncased\\checkpoint-1408\\pytorch_model.bin\n",
      "tokenizer config file saved in ./distBert-v4/20230203_083620$-train-model-distilbert-base-uncased\\checkpoint-1408\\tokenizer_config.json\n",
      "Special tokens file saved in ./distBert-v4/20230203_083620$-train-model-distilbert-base-uncased\\checkpoint-1408\\special_tokens_map.json\n",
      " 47%|████▋     | 1450/3080 [04:27<01:30, 18.06it/s]***** Running Evaluation *****\n",
      "  Num examples = 44\n",
      "  Batch size = 8\n",
      "                                                   \n",
      " 47%|████▋     | 1452/3080 [04:27<01:30, 18.06it/s]Saving model checkpoint to ./distBert-v4/20230203_083620$-train-model-distilbert-base-uncased\\checkpoint-1452\n",
      "Configuration saved in ./distBert-v4/20230203_083620$-train-model-distilbert-base-uncased\\checkpoint-1452\\config.json\n"
     ]
    },
    {
     "name": "stdout",
     "output_type": "stream",
     "text": [
      "{'eval_loss': 0.14435097575187683, 'eval_f1': 0.7333333333333333, 'eval_roc_auc': 0.8128750681942172, 'eval_accuracy': 0.5681818181818182, 'eval_runtime': 0.0754, 'eval_samples_per_second': 583.817, 'eval_steps_per_second': 79.611, 'epoch': 33.0}\n"
     ]
    },
    {
     "name": "stderr",
     "output_type": "stream",
     "text": [
      "Model weights saved in ./distBert-v4/20230203_083620$-train-model-distilbert-base-uncased\\checkpoint-1452\\pytorch_model.bin\n",
      "tokenizer config file saved in ./distBert-v4/20230203_083620$-train-model-distilbert-base-uncased\\checkpoint-1452\\tokenizer_config.json\n",
      "Special tokens file saved in ./distBert-v4/20230203_083620$-train-model-distilbert-base-uncased\\checkpoint-1452\\special_tokens_map.json\n",
      " 49%|████▊     | 1495/3080 [04:30<01:15, 21.00it/s]***** Running Evaluation *****\n",
      "  Num examples = 44\n",
      "  Batch size = 8\n",
      "                                                   \n",
      " 49%|████▊     | 1496/3080 [04:30<01:15, 21.00it/s]Saving model checkpoint to ./distBert-v4/20230203_083620$-train-model-distilbert-base-uncased\\checkpoint-1496\n",
      "Configuration saved in ./distBert-v4/20230203_083620$-train-model-distilbert-base-uncased\\checkpoint-1496\\config.json\n",
      " 49%|████▊     | 1496/3080 [04:41<01:15, 21.00it/s]"
     ]
    },
    {
     "name": "stdout",
     "output_type": "stream",
     "text": [
      "{'eval_loss': 0.15140855312347412, 'eval_f1': 0.7333333333333333, 'eval_roc_auc': 0.8128750681942172, 'eval_accuracy': 0.5681818181818182, 'eval_runtime': 0.0774, 'eval_samples_per_second': 568.514, 'eval_steps_per_second': 77.525, 'epoch': 34.0}\n"
     ]
    },
    {
     "name": "stderr",
     "output_type": "stream",
     "text": [
      "Model weights saved in ./distBert-v4/20230203_083620$-train-model-distilbert-base-uncased\\checkpoint-1496\\pytorch_model.bin\n",
      "tokenizer config file saved in ./distBert-v4/20230203_083620$-train-model-distilbert-base-uncased\\checkpoint-1496\\tokenizer_config.json\n",
      "Special tokens file saved in ./distBert-v4/20230203_083620$-train-model-distilbert-base-uncased\\checkpoint-1496\\special_tokens_map.json\n",
      " 49%|████▉     | 1503/3080 [05:00<36:46,  1.40s/it]  "
     ]
    },
    {
     "name": "stdout",
     "output_type": "stream",
     "text": [
      "{'loss': 0.0117, 'learning_rate': 1.025974025974026e-05, 'epoch': 34.09}\n"
     ]
    },
    {
     "name": "stderr",
     "output_type": "stream",
     "text": [
      " 50%|█████     | 1540/3080 [05:02<01:22, 18.60it/s]***** Running Evaluation *****\n",
      "  Num examples = 44\n",
      "  Batch size = 8\n",
      "                                                   \n",
      " 50%|█████     | 1540/3080 [05:02<01:22, 18.60it/s]Saving model checkpoint to ./distBert-v4/20230203_083620$-train-model-distilbert-base-uncased\\checkpoint-1540\n",
      "Configuration saved in ./distBert-v4/20230203_083620$-train-model-distilbert-base-uncased\\checkpoint-1540\\config.json\n"
     ]
    },
    {
     "name": "stdout",
     "output_type": "stream",
     "text": [
      "{'eval_loss': 0.15295356512069702, 'eval_f1': 0.7333333333333333, 'eval_roc_auc': 0.8128750681942172, 'eval_accuracy': 0.5681818181818182, 'eval_runtime': 0.0748, 'eval_samples_per_second': 587.986, 'eval_steps_per_second': 80.18, 'epoch': 35.0}\n"
     ]
    },
    {
     "name": "stderr",
     "output_type": "stream",
     "text": [
      "Model weights saved in ./distBert-v4/20230203_083620$-train-model-distilbert-base-uncased\\checkpoint-1540\\pytorch_model.bin\n",
      "tokenizer config file saved in ./distBert-v4/20230203_083620$-train-model-distilbert-base-uncased\\checkpoint-1540\\tokenizer_config.json\n",
      "Special tokens file saved in ./distBert-v4/20230203_083620$-train-model-distilbert-base-uncased\\checkpoint-1540\\special_tokens_map.json\n",
      " 51%|█████▏    | 1583/3080 [05:05<01:14, 20.23it/s]***** Running Evaluation *****\n",
      "  Num examples = 44\n",
      "  Batch size = 8\n",
      "                                                   \n",
      " 51%|█████▏    | 1584/3080 [05:05<01:13, 20.23it/s]Saving model checkpoint to ./distBert-v4/20230203_083620$-train-model-distilbert-base-uncased\\checkpoint-1584\n",
      "Configuration saved in ./distBert-v4/20230203_083620$-train-model-distilbert-base-uncased\\checkpoint-1584\\config.json\n"
     ]
    },
    {
     "name": "stdout",
     "output_type": "stream",
     "text": [
      "{'eval_loss': 0.1479475200176239, 'eval_f1': 0.7333333333333333, 'eval_roc_auc': 0.8128750681942172, 'eval_accuracy': 0.5681818181818182, 'eval_runtime': 0.0769, 'eval_samples_per_second': 572.154, 'eval_steps_per_second': 78.021, 'epoch': 36.0}\n"
     ]
    },
    {
     "name": "stderr",
     "output_type": "stream",
     "text": [
      "Model weights saved in ./distBert-v4/20230203_083620$-train-model-distilbert-base-uncased\\checkpoint-1584\\pytorch_model.bin\n",
      "tokenizer config file saved in ./distBert-v4/20230203_083620$-train-model-distilbert-base-uncased\\checkpoint-1584\\tokenizer_config.json\n",
      "Special tokens file saved in ./distBert-v4/20230203_083620$-train-model-distilbert-base-uncased\\checkpoint-1584\\special_tokens_map.json\n",
      " 53%|█████▎    | 1626/3080 [05:21<01:26, 16.86it/s]***** Running Evaluation *****\n",
      "  Num examples = 44\n",
      "  Batch size = 8\n",
      "                                                   \n",
      " 53%|█████▎    | 1628/3080 [05:22<01:26, 16.86it/s]Saving model checkpoint to ./distBert-v4/20230203_083620$-train-model-distilbert-base-uncased\\checkpoint-1628\n",
      "Configuration saved in ./distBert-v4/20230203_083620$-train-model-distilbert-base-uncased\\checkpoint-1628\\config.json\n"
     ]
    },
    {
     "name": "stdout",
     "output_type": "stream",
     "text": [
      "{'eval_loss': 0.1564096063375473, 'eval_f1': 0.7252747252747251, 'eval_roc_auc': 0.811988543371522, 'eval_accuracy': 0.5681818181818182, 'eval_runtime': 0.0789, 'eval_samples_per_second': 557.45, 'eval_steps_per_second': 76.016, 'epoch': 37.0}\n"
     ]
    },
    {
     "name": "stderr",
     "output_type": "stream",
     "text": [
      "Model weights saved in ./distBert-v4/20230203_083620$-train-model-distilbert-base-uncased\\checkpoint-1628\\pytorch_model.bin\n",
      "tokenizer config file saved in ./distBert-v4/20230203_083620$-train-model-distilbert-base-uncased\\checkpoint-1628\\tokenizer_config.json\n",
      "Special tokens file saved in ./distBert-v4/20230203_083620$-train-model-distilbert-base-uncased\\checkpoint-1628\\special_tokens_map.json\n",
      " 54%|█████▍    | 1670/3080 [05:25<01:09, 20.24it/s]***** Running Evaluation *****\n",
      "  Num examples = 44\n",
      "  Batch size = 8\n",
      "                                                   \n",
      " 54%|█████▍    | 1672/3080 [05:25<01:09, 20.24it/s]Saving model checkpoint to ./distBert-v4/20230203_083620$-train-model-distilbert-base-uncased\\checkpoint-1672\n",
      "Configuration saved in ./distBert-v4/20230203_083620$-train-model-distilbert-base-uncased\\checkpoint-1672\\config.json\n",
      " 54%|█████▍    | 1672/3080 [05:37<01:09, 20.24it/s]"
     ]
    },
    {
     "name": "stdout",
     "output_type": "stream",
     "text": [
      "{'eval_loss': 0.14806804060935974, 'eval_f1': 0.7252747252747251, 'eval_roc_auc': 0.811988543371522, 'eval_accuracy': 0.5681818181818182, 'eval_runtime': 0.078, 'eval_samples_per_second': 564.195, 'eval_steps_per_second': 76.936, 'epoch': 38.0}\n"
     ]
    },
    {
     "name": "stderr",
     "output_type": "stream",
     "text": [
      "Model weights saved in ./distBert-v4/20230203_083620$-train-model-distilbert-base-uncased\\checkpoint-1672\\pytorch_model.bin\n",
      "tokenizer config file saved in ./distBert-v4/20230203_083620$-train-model-distilbert-base-uncased\\checkpoint-1672\\tokenizer_config.json\n",
      "Special tokens file saved in ./distBert-v4/20230203_083620$-train-model-distilbert-base-uncased\\checkpoint-1672\\special_tokens_map.json\n",
      " 56%|█████▌    | 1716/3080 [05:55<01:25, 15.95it/s]  ***** Running Evaluation *****\n",
      "  Num examples = 44\n",
      "  Batch size = 8\n",
      "                                                   \n",
      " 56%|█████▌    | 1716/3080 [05:55<01:25, 15.95it/s]Saving model checkpoint to ./distBert-v4/20230203_083620$-train-model-distilbert-base-uncased\\checkpoint-1716\n",
      "Configuration saved in ./distBert-v4/20230203_083620$-train-model-distilbert-base-uncased\\checkpoint-1716\\config.json\n"
     ]
    },
    {
     "name": "stdout",
     "output_type": "stream",
     "text": [
      "{'eval_loss': 0.1588260978460312, 'eval_f1': 0.7252747252747251, 'eval_roc_auc': 0.811988543371522, 'eval_accuracy': 0.5681818181818182, 'eval_runtime': 0.081, 'eval_samples_per_second': 542.976, 'eval_steps_per_second': 74.042, 'epoch': 39.0}\n"
     ]
    },
    {
     "name": "stderr",
     "output_type": "stream",
     "text": [
      "Model weights saved in ./distBert-v4/20230203_083620$-train-model-distilbert-base-uncased\\checkpoint-1716\\pytorch_model.bin\n",
      "tokenizer config file saved in ./distBert-v4/20230203_083620$-train-model-distilbert-base-uncased\\checkpoint-1716\\tokenizer_config.json\n",
      "Special tokens file saved in ./distBert-v4/20230203_083620$-train-model-distilbert-base-uncased\\checkpoint-1716\\special_tokens_map.json\n",
      " 57%|█████▋    | 1758/3080 [05:58<01:05, 20.06it/s]***** Running Evaluation *****\n",
      "  Num examples = 44\n",
      "  Batch size = 8\n",
      "                                                   \n",
      " 57%|█████▋    | 1760/3080 [05:58<01:05, 20.06it/s]Saving model checkpoint to ./distBert-v4/20230203_083620$-train-model-distilbert-base-uncased\\checkpoint-1760\n",
      "Configuration saved in ./distBert-v4/20230203_083620$-train-model-distilbert-base-uncased\\checkpoint-1760\\config.json\n",
      " 57%|█████▋    | 1760/3080 [06:10<01:05, 20.06it/s]"
     ]
    },
    {
     "name": "stdout",
     "output_type": "stream",
     "text": [
      "{'eval_loss': 0.15177065134048462, 'eval_f1': 0.7333333333333333, 'eval_roc_auc': 0.8128750681942172, 'eval_accuracy': 0.5681818181818182, 'eval_runtime': 0.0788, 'eval_samples_per_second': 558.455, 'eval_steps_per_second': 76.153, 'epoch': 40.0}\n"
     ]
    },
    {
     "name": "stderr",
     "output_type": "stream",
     "text": [
      "Model weights saved in ./distBert-v4/20230203_083620$-train-model-distilbert-base-uncased\\checkpoint-1760\\pytorch_model.bin\n",
      "tokenizer config file saved in ./distBert-v4/20230203_083620$-train-model-distilbert-base-uncased\\checkpoint-1760\\tokenizer_config.json\n",
      "Special tokens file saved in ./distBert-v4/20230203_083620$-train-model-distilbert-base-uncased\\checkpoint-1760\\special_tokens_map.json\n",
      " 59%|█████▊    | 1804/3080 [06:13<01:09, 18.31it/s]***** Running Evaluation *****\n",
      "  Num examples = 44\n",
      "  Batch size = 8\n",
      "                                                   \n",
      " 59%|█████▊    | 1804/3080 [06:14<01:09, 18.31it/s]Saving model checkpoint to ./distBert-v4/20230203_083620$-train-model-distilbert-base-uncased\\checkpoint-1804\n",
      "Configuration saved in ./distBert-v4/20230203_083620$-train-model-distilbert-base-uncased\\checkpoint-1804\\config.json\n"
     ]
    },
    {
     "name": "stdout",
     "output_type": "stream",
     "text": [
      "{'eval_loss': 0.15600818395614624, 'eval_f1': 0.7333333333333333, 'eval_roc_auc': 0.8128750681942172, 'eval_accuracy': 0.5681818181818182, 'eval_runtime': 0.0768, 'eval_samples_per_second': 572.882, 'eval_steps_per_second': 78.12, 'epoch': 41.0}\n"
     ]
    },
    {
     "name": "stderr",
     "output_type": "stream",
     "text": [
      "Model weights saved in ./distBert-v4/20230203_083620$-train-model-distilbert-base-uncased\\checkpoint-1804\\pytorch_model.bin\n",
      "tokenizer config file saved in ./distBert-v4/20230203_083620$-train-model-distilbert-base-uncased\\checkpoint-1804\\tokenizer_config.json\n",
      "Special tokens file saved in ./distBert-v4/20230203_083620$-train-model-distilbert-base-uncased\\checkpoint-1804\\special_tokens_map.json\n",
      " 60%|█████▉    | 1847/3080 [06:29<01:11, 17.17it/s]***** Running Evaluation *****\n",
      "  Num examples = 44\n",
      "  Batch size = 8\n",
      "                                                   \n",
      " 60%|██████    | 1848/3080 [06:29<01:11, 17.17it/s]Saving model checkpoint to ./distBert-v4/20230203_083620$-train-model-distilbert-base-uncased\\checkpoint-1848\n",
      "Configuration saved in ./distBert-v4/20230203_083620$-train-model-distilbert-base-uncased\\checkpoint-1848\\config.json\n",
      " 60%|██████    | 1848/3080 [06:43<01:11, 17.17it/s]"
     ]
    },
    {
     "name": "stdout",
     "output_type": "stream",
     "text": [
      "{'eval_loss': 0.15363077819347382, 'eval_f1': 0.7391304347826088, 'eval_roc_auc': 0.8216039279869067, 'eval_accuracy': 0.5909090909090909, 'eval_runtime': 0.0784, 'eval_samples_per_second': 561.483, 'eval_steps_per_second': 76.566, 'epoch': 42.0}\n"
     ]
    },
    {
     "name": "stderr",
     "output_type": "stream",
     "text": [
      "Model weights saved in ./distBert-v4/20230203_083620$-train-model-distilbert-base-uncased\\checkpoint-1848\\pytorch_model.bin\n",
      "tokenizer config file saved in ./distBert-v4/20230203_083620$-train-model-distilbert-base-uncased\\checkpoint-1848\\tokenizer_config.json\n",
      "Special tokens file saved in ./distBert-v4/20230203_083620$-train-model-distilbert-base-uncased\\checkpoint-1848\\special_tokens_map.json\n",
      " 61%|██████▏   | 1892/3080 [06:46<01:05, 18.04it/s]***** Running Evaluation *****\n",
      "  Num examples = 44\n",
      "  Batch size = 8\n",
      "                                                   \n",
      " 61%|██████▏   | 1892/3080 [06:47<01:05, 18.04it/s]Saving model checkpoint to ./distBert-v4/20230203_083620$-train-model-distilbert-base-uncased\\checkpoint-1892\n",
      "Configuration saved in ./distBert-v4/20230203_083620$-train-model-distilbert-base-uncased\\checkpoint-1892\\config.json\n"
     ]
    },
    {
     "name": "stdout",
     "output_type": "stream",
     "text": [
      "{'eval_loss': 0.16147714853286743, 'eval_f1': 0.7472527472527474, 'eval_roc_auc': 0.8224904528096018, 'eval_accuracy': 0.5909090909090909, 'eval_runtime': 0.0778, 'eval_samples_per_second': 565.632, 'eval_steps_per_second': 77.132, 'epoch': 43.0}\n"
     ]
    },
    {
     "name": "stderr",
     "output_type": "stream",
     "text": [
      "Model weights saved in ./distBert-v4/20230203_083620$-train-model-distilbert-base-uncased\\checkpoint-1892\\pytorch_model.bin\n",
      "tokenizer config file saved in ./distBert-v4/20230203_083620$-train-model-distilbert-base-uncased\\checkpoint-1892\\tokenizer_config.json\n",
      "Special tokens file saved in ./distBert-v4/20230203_083620$-train-model-distilbert-base-uncased\\checkpoint-1892\\special_tokens_map.json\n",
      " 63%|██████▎   | 1934/3080 [06:50<00:56, 20.21it/s]***** Running Evaluation *****\n",
      "  Num examples = 44\n",
      "  Batch size = 8\n",
      "                                                   \n",
      " 63%|██████▎   | 1936/3080 [06:50<00:56, 20.21it/s]Saving model checkpoint to ./distBert-v4/20230203_083620$-train-model-distilbert-base-uncased\\checkpoint-1936\n",
      "Configuration saved in ./distBert-v4/20230203_083620$-train-model-distilbert-base-uncased\\checkpoint-1936\\config.json\n",
      " 63%|██████▎   | 1936/3080 [07:01<00:56, 20.21it/s]"
     ]
    },
    {
     "name": "stdout",
     "output_type": "stream",
     "text": [
      "{'eval_loss': 0.15674351155757904, 'eval_f1': 0.7333333333333333, 'eval_roc_auc': 0.8128750681942172, 'eval_accuracy': 0.5681818181818182, 'eval_runtime': 0.0783, 'eval_samples_per_second': 561.751, 'eval_steps_per_second': 76.602, 'epoch': 44.0}\n"
     ]
    },
    {
     "name": "stderr",
     "output_type": "stream",
     "text": [
      "Model weights saved in ./distBert-v4/20230203_083620$-train-model-distilbert-base-uncased\\checkpoint-1936\\pytorch_model.bin\n",
      "tokenizer config file saved in ./distBert-v4/20230203_083620$-train-model-distilbert-base-uncased\\checkpoint-1936\\tokenizer_config.json\n",
      "Special tokens file saved in ./distBert-v4/20230203_083620$-train-model-distilbert-base-uncased\\checkpoint-1936\\special_tokens_map.json\n",
      " 64%|██████▍   | 1978/3080 [07:05<01:03, 17.35it/s]***** Running Evaluation *****\n",
      "  Num examples = 44\n",
      "  Batch size = 8\n",
      "                                                   \n",
      " 64%|██████▍   | 1980/3080 [07:05<01:03, 17.35it/s]Saving model checkpoint to ./distBert-v4/20230203_083620$-train-model-distilbert-base-uncased\\checkpoint-1980\n",
      "Configuration saved in ./distBert-v4/20230203_083620$-train-model-distilbert-base-uncased\\checkpoint-1980\\config.json\n"
     ]
    },
    {
     "name": "stdout",
     "output_type": "stream",
     "text": [
      "{'eval_loss': 0.1574835181236267, 'eval_f1': 0.7252747252747251, 'eval_roc_auc': 0.811988543371522, 'eval_accuracy': 0.5681818181818182, 'eval_runtime': 0.0773, 'eval_samples_per_second': 569.379, 'eval_steps_per_second': 77.643, 'epoch': 45.0}\n"
     ]
    },
    {
     "name": "stderr",
     "output_type": "stream",
     "text": [
      "Model weights saved in ./distBert-v4/20230203_083620$-train-model-distilbert-base-uncased\\checkpoint-1980\\pytorch_model.bin\n",
      "tokenizer config file saved in ./distBert-v4/20230203_083620$-train-model-distilbert-base-uncased\\checkpoint-1980\\tokenizer_config.json\n",
      "Special tokens file saved in ./distBert-v4/20230203_083620$-train-model-distilbert-base-uncased\\checkpoint-1980\\special_tokens_map.json\n",
      " 65%|██████▌   | 2004/3080 [07:22<02:29,  7.18it/s]"
     ]
    },
    {
     "name": "stdout",
     "output_type": "stream",
     "text": [
      "{'loss': 0.0062, 'learning_rate': 7.012987012987014e-06, 'epoch': 45.45}\n"
     ]
    },
    {
     "name": "stderr",
     "output_type": "stream",
     "text": [
      " 66%|██████▌   | 2022/3080 [07:22<01:03, 16.75it/s]***** Running Evaluation *****\n",
      "  Num examples = 44\n",
      "  Batch size = 8\n",
      "                                                   \n",
      " 66%|██████▌   | 2024/3080 [07:23<01:03, 16.75it/s]"
     ]
    },
    {
     "name": "stdout",
     "output_type": "stream",
     "text": [
      "{'eval_loss': 0.1587384194135666, 'eval_f1': 0.7252747252747251, 'eval_roc_auc': 0.811988543371522, 'eval_accuracy': 0.5681818181818182, 'eval_runtime': 0.0762, 'eval_samples_per_second': 577.735, 'eval_steps_per_second': 78.782, 'epoch': 46.0}\n"
     ]
    },
    {
     "name": "stderr",
     "output_type": "stream",
     "text": [
      "Saving model checkpoint to ./distBert-v4/20230203_083620$-train-model-distilbert-base-uncased\\checkpoint-2024\n",
      "Configuration saved in ./distBert-v4/20230203_083620$-train-model-distilbert-base-uncased\\checkpoint-2024\\config.json\n",
      " 66%|██████▌   | 2024/3080 [07:35<01:03, 16.75it/s]Model weights saved in ./distBert-v4/20230203_083620$-train-model-distilbert-base-uncased\\checkpoint-2024\\pytorch_model.bin\n",
      "tokenizer config file saved in ./distBert-v4/20230203_083620$-train-model-distilbert-base-uncased\\checkpoint-2024\\tokenizer_config.json\n",
      "Special tokens file saved in ./distBert-v4/20230203_083620$-train-model-distilbert-base-uncased\\checkpoint-2024\\special_tokens_map.json\n",
      " 67%|██████▋   | 2067/3080 [07:38<00:58, 17.22it/s]***** Running Evaluation *****\n",
      "  Num examples = 44\n",
      "  Batch size = 8\n",
      "                                                   \n",
      " 67%|██████▋   | 2068/3080 [07:38<00:58, 17.22it/s]Saving model checkpoint to ./distBert-v4/20230203_083620$-train-model-distilbert-base-uncased\\checkpoint-2068\n",
      "Configuration saved in ./distBert-v4/20230203_083620$-train-model-distilbert-base-uncased\\checkpoint-2068\\config.json\n"
     ]
    },
    {
     "name": "stdout",
     "output_type": "stream",
     "text": [
      "{'eval_loss': 0.1588141769170761, 'eval_f1': 0.7252747252747251, 'eval_roc_auc': 0.811988543371522, 'eval_accuracy': 0.5681818181818182, 'eval_runtime': 0.0773, 'eval_samples_per_second': 569.147, 'eval_steps_per_second': 77.611, 'epoch': 47.0}\n"
     ]
    },
    {
     "name": "stderr",
     "output_type": "stream",
     "text": [
      "Model weights saved in ./distBert-v4/20230203_083620$-train-model-distilbert-base-uncased\\checkpoint-2068\\pytorch_model.bin\n",
      "tokenizer config file saved in ./distBert-v4/20230203_083620$-train-model-distilbert-base-uncased\\checkpoint-2068\\tokenizer_config.json\n",
      "Special tokens file saved in ./distBert-v4/20230203_083620$-train-model-distilbert-base-uncased\\checkpoint-2068\\special_tokens_map.json\n",
      " 69%|██████▊   | 2110/3080 [07:55<00:57, 17.01it/s]***** Running Evaluation *****\n",
      "  Num examples = 44\n",
      "  Batch size = 8\n",
      "                                                   \n",
      " 69%|██████▊   | 2112/3080 [07:55<00:56, 17.01it/s]Saving model checkpoint to ./distBert-v4/20230203_083620$-train-model-distilbert-base-uncased\\checkpoint-2112\n",
      "Configuration saved in ./distBert-v4/20230203_083620$-train-model-distilbert-base-uncased\\checkpoint-2112\\config.json\n"
     ]
    },
    {
     "name": "stdout",
     "output_type": "stream",
     "text": [
      "{'eval_loss': 0.1600191742181778, 'eval_f1': 0.7391304347826088, 'eval_roc_auc': 0.8216039279869067, 'eval_accuracy': 0.5909090909090909, 'eval_runtime': 0.0792, 'eval_samples_per_second': 555.266, 'eval_steps_per_second': 75.718, 'epoch': 48.0}\n"
     ]
    },
    {
     "name": "stderr",
     "output_type": "stream",
     "text": [
      " 69%|██████▊   | 2112/3080 [08:08<00:56, 17.01it/s]Model weights saved in ./distBert-v4/20230203_083620$-train-model-distilbert-base-uncased\\checkpoint-2112\\pytorch_model.bin\n",
      "tokenizer config file saved in ./distBert-v4/20230203_083620$-train-model-distilbert-base-uncased\\checkpoint-2112\\tokenizer_config.json\n",
      "Special tokens file saved in ./distBert-v4/20230203_083620$-train-model-distilbert-base-uncased\\checkpoint-2112\\special_tokens_map.json\n",
      " 70%|███████   | 2156/3080 [08:11<00:51, 17.96it/s]***** Running Evaluation *****\n",
      "  Num examples = 44\n",
      "  Batch size = 8\n",
      "                                                   \n",
      " 70%|███████   | 2156/3080 [08:12<00:51, 17.96it/s]Saving model checkpoint to ./distBert-v4/20230203_083620$-train-model-distilbert-base-uncased\\checkpoint-2156\n",
      "Configuration saved in ./distBert-v4/20230203_083620$-train-model-distilbert-base-uncased\\checkpoint-2156\\config.json\n"
     ]
    },
    {
     "name": "stdout",
     "output_type": "stream",
     "text": [
      "{'eval_loss': 0.16305603086948395, 'eval_f1': 0.7252747252747251, 'eval_roc_auc': 0.811988543371522, 'eval_accuracy': 0.5681818181818182, 'eval_runtime': 0.079, 'eval_samples_per_second': 556.779, 'eval_steps_per_second': 75.924, 'epoch': 49.0}\n"
     ]
    },
    {
     "name": "stderr",
     "output_type": "stream",
     "text": [
      "Model weights saved in ./distBert-v4/20230203_083620$-train-model-distilbert-base-uncased\\checkpoint-2156\\pytorch_model.bin\n",
      "tokenizer config file saved in ./distBert-v4/20230203_083620$-train-model-distilbert-base-uncased\\checkpoint-2156\\tokenizer_config.json\n",
      "Special tokens file saved in ./distBert-v4/20230203_083620$-train-model-distilbert-base-uncased\\checkpoint-2156\\special_tokens_map.json\n",
      " 71%|███████▏  | 2198/3080 [08:14<00:44, 19.94it/s]***** Running Evaluation *****\n",
      "  Num examples = 44\n",
      "  Batch size = 8\n",
      "                                                   \n",
      " 71%|███████▏  | 2200/3080 [08:15<00:44, 19.94it/s]Saving model checkpoint to ./distBert-v4/20230203_083620$-train-model-distilbert-base-uncased\\checkpoint-2200\n",
      "Configuration saved in ./distBert-v4/20230203_083620$-train-model-distilbert-base-uncased\\checkpoint-2200\\config.json\n"
     ]
    },
    {
     "name": "stdout",
     "output_type": "stream",
     "text": [
      "{'eval_loss': 0.16309241950511932, 'eval_f1': 0.7252747252747251, 'eval_roc_auc': 0.811988543371522, 'eval_accuracy': 0.5681818181818182, 'eval_runtime': 0.0778, 'eval_samples_per_second': 565.39, 'eval_steps_per_second': 77.099, 'epoch': 50.0}\n"
     ]
    },
    {
     "name": "stderr",
     "output_type": "stream",
     "text": [
      " 71%|███████▏  | 2200/3080 [08:27<00:44, 19.94it/s]Model weights saved in ./distBert-v4/20230203_083620$-train-model-distilbert-base-uncased\\checkpoint-2200\\pytorch_model.bin\n",
      "tokenizer config file saved in ./distBert-v4/20230203_083620$-train-model-distilbert-base-uncased\\checkpoint-2200\\tokenizer_config.json\n",
      "Special tokens file saved in ./distBert-v4/20230203_083620$-train-model-distilbert-base-uncased\\checkpoint-2200\\special_tokens_map.json\n",
      " 73%|███████▎  | 2244/3080 [08:30<00:44, 18.96it/s]***** Running Evaluation *****\n",
      "  Num examples = 44\n",
      "  Batch size = 8\n",
      "                                                   \n",
      " 73%|███████▎  | 2244/3080 [08:30<00:44, 18.96it/s]Saving model checkpoint to ./distBert-v4/20230203_083620$-train-model-distilbert-base-uncased\\checkpoint-2244\n",
      "Configuration saved in ./distBert-v4/20230203_083620$-train-model-distilbert-base-uncased\\checkpoint-2244\\config.json\n"
     ]
    },
    {
     "name": "stdout",
     "output_type": "stream",
     "text": [
      "{'eval_loss': 0.16065439581871033, 'eval_f1': 0.717391304347826, 'eval_roc_auc': 0.811102018548827, 'eval_accuracy': 0.5681818181818182, 'eval_runtime': 0.0795, 'eval_samples_per_second': 553.335, 'eval_steps_per_second': 75.455, 'epoch': 51.0}\n"
     ]
    },
    {
     "name": "stderr",
     "output_type": "stream",
     "text": [
      "Model weights saved in ./distBert-v4/20230203_083620$-train-model-distilbert-base-uncased\\checkpoint-2244\\pytorch_model.bin\n",
      "tokenizer config file saved in ./distBert-v4/20230203_083620$-train-model-distilbert-base-uncased\\checkpoint-2244\\tokenizer_config.json\n",
      "Special tokens file saved in ./distBert-v4/20230203_083620$-train-model-distilbert-base-uncased\\checkpoint-2244\\special_tokens_map.json\n",
      " 74%|███████▍  | 2287/3080 [08:53<00:42, 18.47it/s]***** Running Evaluation *****\n",
      "  Num examples = 44\n",
      "  Batch size = 8\n",
      "                                                   \n",
      " 74%|███████▍  | 2288/3080 [08:53<00:42, 18.47it/s]Saving model checkpoint to ./distBert-v4/20230203_083620$-train-model-distilbert-base-uncased\\checkpoint-2288\n",
      "Configuration saved in ./distBert-v4/20230203_083620$-train-model-distilbert-base-uncased\\checkpoint-2288\\config.json\n"
     ]
    },
    {
     "name": "stdout",
     "output_type": "stream",
     "text": [
      "{'eval_loss': 0.16016875207424164, 'eval_f1': 0.7252747252747251, 'eval_roc_auc': 0.811988543371522, 'eval_accuracy': 0.5681818181818182, 'eval_runtime': 0.0802, 'eval_samples_per_second': 548.414, 'eval_steps_per_second': 74.784, 'epoch': 52.0}\n"
     ]
    },
    {
     "name": "stderr",
     "output_type": "stream",
     "text": [
      "Model weights saved in ./distBert-v4/20230203_083620$-train-model-distilbert-base-uncased\\checkpoint-2288\\pytorch_model.bin\n",
      "tokenizer config file saved in ./distBert-v4/20230203_083620$-train-model-distilbert-base-uncased\\checkpoint-2288\\tokenizer_config.json\n",
      "Special tokens file saved in ./distBert-v4/20230203_083620$-train-model-distilbert-base-uncased\\checkpoint-2288\\special_tokens_map.json\n",
      " 76%|███████▌  | 2331/3080 [09:03<00:39, 19.15it/s]***** Running Evaluation *****\n",
      "  Num examples = 44\n",
      "  Batch size = 8\n",
      "                                                   \n",
      " 76%|███████▌  | 2332/3080 [09:04<00:39, 19.15it/s]Saving model checkpoint to ./distBert-v4/20230203_083620$-train-model-distilbert-base-uncased\\checkpoint-2332\n",
      "Configuration saved in ./distBert-v4/20230203_083620$-train-model-distilbert-base-uncased\\checkpoint-2332\\config.json\n"
     ]
    },
    {
     "name": "stdout",
     "output_type": "stream",
     "text": [
      "{'eval_loss': 0.15948210656642914, 'eval_f1': 0.7252747252747251, 'eval_roc_auc': 0.811988543371522, 'eval_accuracy': 0.5681818181818182, 'eval_runtime': 0.0811, 'eval_samples_per_second': 542.666, 'eval_steps_per_second': 74.0, 'epoch': 53.0}\n"
     ]
    },
    {
     "name": "stderr",
     "output_type": "stream",
     "text": [
      "Model weights saved in ./distBert-v4/20230203_083620$-train-model-distilbert-base-uncased\\checkpoint-2332\\pytorch_model.bin\n",
      "tokenizer config file saved in ./distBert-v4/20230203_083620$-train-model-distilbert-base-uncased\\checkpoint-2332\\tokenizer_config.json\n",
      "Special tokens file saved in ./distBert-v4/20230203_083620$-train-model-distilbert-base-uncased\\checkpoint-2332\\special_tokens_map.json\n",
      " 77%|███████▋  | 2376/3080 [09:31<00:40, 17.24it/s]***** Running Evaluation *****\n",
      "  Num examples = 44\n",
      "  Batch size = 8\n",
      "                                                   \n",
      " 77%|███████▋  | 2376/3080 [09:31<00:40, 17.24it/s]Saving model checkpoint to ./distBert-v4/20230203_083620$-train-model-distilbert-base-uncased\\checkpoint-2376\n",
      "Configuration saved in ./distBert-v4/20230203_083620$-train-model-distilbert-base-uncased\\checkpoint-2376\\config.json\n"
     ]
    },
    {
     "name": "stdout",
     "output_type": "stream",
     "text": [
      "{'eval_loss': 0.15986797213554382, 'eval_f1': 0.7252747252747251, 'eval_roc_auc': 0.811988543371522, 'eval_accuracy': 0.5681818181818182, 'eval_runtime': 0.0798, 'eval_samples_per_second': 551.648, 'eval_steps_per_second': 75.225, 'epoch': 54.0}\n"
     ]
    },
    {
     "name": "stderr",
     "output_type": "stream",
     "text": [
      "Model weights saved in ./distBert-v4/20230203_083620$-train-model-distilbert-base-uncased\\checkpoint-2376\\pytorch_model.bin\n",
      "tokenizer config file saved in ./distBert-v4/20230203_083620$-train-model-distilbert-base-uncased\\checkpoint-2376\\tokenizer_config.json\n",
      "Special tokens file saved in ./distBert-v4/20230203_083620$-train-model-distilbert-base-uncased\\checkpoint-2376\\special_tokens_map.json\n",
      " 79%|███████▊  | 2420/3080 [09:36<00:33, 19.63it/s]***** Running Evaluation *****\n",
      "  Num examples = 44\n",
      "  Batch size = 8\n",
      "                                                   \n",
      " 79%|███████▊  | 2420/3080 [09:36<00:33, 19.63it/s]Saving model checkpoint to ./distBert-v4/20230203_083620$-train-model-distilbert-base-uncased\\checkpoint-2420\n",
      "Configuration saved in ./distBert-v4/20230203_083620$-train-model-distilbert-base-uncased\\checkpoint-2420\\config.json\n"
     ]
    },
    {
     "name": "stdout",
     "output_type": "stream",
     "text": [
      "{'eval_loss': 0.16941596567630768, 'eval_f1': 0.7333333333333333, 'eval_roc_auc': 0.8128750681942172, 'eval_accuracy': 0.5681818181818182, 'eval_runtime': 0.0803, 'eval_samples_per_second': 547.998, 'eval_steps_per_second': 74.727, 'epoch': 55.0}\n"
     ]
    },
    {
     "name": "stderr",
     "output_type": "stream",
     "text": [
      "Model weights saved in ./distBert-v4/20230203_083620$-train-model-distilbert-base-uncased\\checkpoint-2420\\pytorch_model.bin\n",
      "tokenizer config file saved in ./distBert-v4/20230203_083620$-train-model-distilbert-base-uncased\\checkpoint-2420\\tokenizer_config.json\n",
      "Special tokens file saved in ./distBert-v4/20230203_083620$-train-model-distilbert-base-uncased\\checkpoint-2420\\special_tokens_map.json\n",
      " 80%|███████▉  | 2463/3080 [09:40<00:31, 19.65it/s]***** Running Evaluation *****\n",
      "  Num examples = 44\n",
      "  Batch size = 8\n",
      "                                                   \n",
      " 80%|████████  | 2464/3080 [09:40<00:31, 19.65it/s]Saving model checkpoint to ./distBert-v4/20230203_083620$-train-model-distilbert-base-uncased\\checkpoint-2464\n",
      "Configuration saved in ./distBert-v4/20230203_083620$-train-model-distilbert-base-uncased\\checkpoint-2464\\config.json\n",
      " 80%|████████  | 2464/3080 [09:52<00:31, 19.65it/s]"
     ]
    },
    {
     "name": "stdout",
     "output_type": "stream",
     "text": [
      "{'eval_loss': 0.1634495109319687, 'eval_f1': 0.7391304347826088, 'eval_roc_auc': 0.8216039279869067, 'eval_accuracy': 0.5909090909090909, 'eval_runtime': 0.0809, 'eval_samples_per_second': 543.907, 'eval_steps_per_second': 74.169, 'epoch': 56.0}\n"
     ]
    },
    {
     "name": "stderr",
     "output_type": "stream",
     "text": [
      "Model weights saved in ./distBert-v4/20230203_083620$-train-model-distilbert-base-uncased\\checkpoint-2464\\pytorch_model.bin\n",
      "tokenizer config file saved in ./distBert-v4/20230203_083620$-train-model-distilbert-base-uncased\\checkpoint-2464\\tokenizer_config.json\n",
      "Special tokens file saved in ./distBert-v4/20230203_083620$-train-model-distilbert-base-uncased\\checkpoint-2464\\special_tokens_map.json\n",
      " 81%|████████▏ | 2504/3080 [09:55<00:30, 18.66it/s]"
     ]
    },
    {
     "name": "stdout",
     "output_type": "stream",
     "text": [
      "{'loss': 0.0042, 'learning_rate': 3.7662337662337666e-06, 'epoch': 56.82}\n"
     ]
    },
    {
     "name": "stderr",
     "output_type": "stream",
     "text": [
      " 81%|████████▏ | 2507/3080 [09:55<00:30, 19.06it/s]***** Running Evaluation *****\n",
      "  Num examples = 44\n",
      "  Batch size = 8\n",
      "                                                   \n",
      " 81%|████████▏ | 2508/3080 [09:55<00:30, 19.06it/s]Saving model checkpoint to ./distBert-v4/20230203_083620$-train-model-distilbert-base-uncased\\checkpoint-2508\n",
      "Configuration saved in ./distBert-v4/20230203_083620$-train-model-distilbert-base-uncased\\checkpoint-2508\\config.json\n"
     ]
    },
    {
     "name": "stdout",
     "output_type": "stream",
     "text": [
      "{'eval_loss': 0.16562940180301666, 'eval_f1': 0.7252747252747251, 'eval_roc_auc': 0.811988543371522, 'eval_accuracy': 0.5681818181818182, 'eval_runtime': 0.0818, 'eval_samples_per_second': 537.916, 'eval_steps_per_second': 73.352, 'epoch': 57.0}\n"
     ]
    },
    {
     "name": "stderr",
     "output_type": "stream",
     "text": [
      "Model weights saved in ./distBert-v4/20230203_083620$-train-model-distilbert-base-uncased\\checkpoint-2508\\pytorch_model.bin\n",
      "tokenizer config file saved in ./distBert-v4/20230203_083620$-train-model-distilbert-base-uncased\\checkpoint-2508\\tokenizer_config.json\n",
      "Special tokens file saved in ./distBert-v4/20230203_083620$-train-model-distilbert-base-uncased\\checkpoint-2508\\special_tokens_map.json\n",
      " 83%|████████▎ | 2551/3080 [10:24<00:28, 18.39it/s]***** Running Evaluation *****\n",
      "  Num examples = 44\n",
      "  Batch size = 8\n",
      "                                                   \n",
      " 83%|████████▎ | 2552/3080 [10:24<00:28, 18.39it/s]Saving model checkpoint to ./distBert-v4/20230203_083620$-train-model-distilbert-base-uncased\\checkpoint-2552\n",
      "Configuration saved in ./distBert-v4/20230203_083620$-train-model-distilbert-base-uncased\\checkpoint-2552\\config.json\n"
     ]
    },
    {
     "name": "stdout",
     "output_type": "stream",
     "text": [
      "{'eval_loss': 0.16459184885025024, 'eval_f1': 0.7252747252747251, 'eval_roc_auc': 0.811988543371522, 'eval_accuracy': 0.5681818181818182, 'eval_runtime': 0.0803, 'eval_samples_per_second': 547.74, 'eval_steps_per_second': 74.692, 'epoch': 58.0}\n"
     ]
    },
    {
     "name": "stderr",
     "output_type": "stream",
     "text": [
      "Model weights saved in ./distBert-v4/20230203_083620$-train-model-distilbert-base-uncased\\checkpoint-2552\\pytorch_model.bin\n",
      "tokenizer config file saved in ./distBert-v4/20230203_083620$-train-model-distilbert-base-uncased\\checkpoint-2552\\tokenizer_config.json\n",
      "Special tokens file saved in ./distBert-v4/20230203_083620$-train-model-distilbert-base-uncased\\checkpoint-2552\\special_tokens_map.json\n",
      " 84%|████████▍ | 2594/3080 [10:28<00:24, 19.72it/s]***** Running Evaluation *****\n",
      "  Num examples = 44\n",
      "  Batch size = 8\n",
      "                                                   \n",
      " 84%|████████▍ | 2596/3080 [10:28<00:24, 19.72it/s]Saving model checkpoint to ./distBert-v4/20230203_083620$-train-model-distilbert-base-uncased\\checkpoint-2596\n",
      "Configuration saved in ./distBert-v4/20230203_083620$-train-model-distilbert-base-uncased\\checkpoint-2596\\config.json\n"
     ]
    },
    {
     "name": "stdout",
     "output_type": "stream",
     "text": [
      "{'eval_loss': 0.16355735063552856, 'eval_f1': 0.7252747252747251, 'eval_roc_auc': 0.811988543371522, 'eval_accuracy': 0.5681818181818182, 'eval_runtime': 0.0794, 'eval_samples_per_second': 554.465, 'eval_steps_per_second': 75.609, 'epoch': 59.0}\n"
     ]
    },
    {
     "name": "stderr",
     "output_type": "stream",
     "text": [
      "Model weights saved in ./distBert-v4/20230203_083620$-train-model-distilbert-base-uncased\\checkpoint-2596\\pytorch_model.bin\n",
      "tokenizer config file saved in ./distBert-v4/20230203_083620$-train-model-distilbert-base-uncased\\checkpoint-2596\\tokenizer_config.json\n",
      "Special tokens file saved in ./distBert-v4/20230203_083620$-train-model-distilbert-base-uncased\\checkpoint-2596\\special_tokens_map.json\n",
      " 86%|████████▌ | 2638/3080 [10:58<00:23, 18.50it/s]***** Running Evaluation *****\n",
      "  Num examples = 44\n",
      "  Batch size = 8\n",
      "                                                   \n",
      " 86%|████████▌ | 2640/3080 [10:58<00:23, 18.50it/s]Saving model checkpoint to ./distBert-v4/20230203_083620$-train-model-distilbert-base-uncased\\checkpoint-2640\n",
      "Configuration saved in ./distBert-v4/20230203_083620$-train-model-distilbert-base-uncased\\checkpoint-2640\\config.json\n"
     ]
    },
    {
     "name": "stdout",
     "output_type": "stream",
     "text": [
      "{'eval_loss': 0.16698521375656128, 'eval_f1': 0.7252747252747251, 'eval_roc_auc': 0.811988543371522, 'eval_accuracy': 0.5681818181818182, 'eval_runtime': 0.0824, 'eval_samples_per_second': 534.21, 'eval_steps_per_second': 72.847, 'epoch': 60.0}\n"
     ]
    },
    {
     "name": "stderr",
     "output_type": "stream",
     "text": [
      "Model weights saved in ./distBert-v4/20230203_083620$-train-model-distilbert-base-uncased\\checkpoint-2640\\pytorch_model.bin\n",
      "tokenizer config file saved in ./distBert-v4/20230203_083620$-train-model-distilbert-base-uncased\\checkpoint-2640\\tokenizer_config.json\n",
      "Special tokens file saved in ./distBert-v4/20230203_083620$-train-model-distilbert-base-uncased\\checkpoint-2640\\special_tokens_map.json\n",
      " 87%|████████▋ | 2683/3080 [11:01<00:20, 19.75it/s]***** Running Evaluation *****\n",
      "  Num examples = 44\n",
      "  Batch size = 8\n",
      "                                                   \n",
      " 87%|████████▋ | 2684/3080 [11:01<00:20, 19.75it/s]Saving model checkpoint to ./distBert-v4/20230203_083620$-train-model-distilbert-base-uncased\\checkpoint-2684\n",
      "Configuration saved in ./distBert-v4/20230203_083620$-train-model-distilbert-base-uncased\\checkpoint-2684\\config.json\n"
     ]
    },
    {
     "name": "stdout",
     "output_type": "stream",
     "text": [
      "{'eval_loss': 0.16666747629642487, 'eval_f1': 0.7252747252747251, 'eval_roc_auc': 0.811988543371522, 'eval_accuracy': 0.5681818181818182, 'eval_runtime': 0.0815, 'eval_samples_per_second': 539.607, 'eval_steps_per_second': 73.583, 'epoch': 61.0}\n"
     ]
    },
    {
     "name": "stderr",
     "output_type": "stream",
     "text": [
      "Model weights saved in ./distBert-v4/20230203_083620$-train-model-distilbert-base-uncased\\checkpoint-2684\\pytorch_model.bin\n",
      "tokenizer config file saved in ./distBert-v4/20230203_083620$-train-model-distilbert-base-uncased\\checkpoint-2684\\tokenizer_config.json\n",
      "Special tokens file saved in ./distBert-v4/20230203_083620$-train-model-distilbert-base-uncased\\checkpoint-2684\\special_tokens_map.json\n",
      " 89%|████████▊ | 2727/3080 [11:04<00:17, 19.81it/s]***** Running Evaluation *****\n",
      "  Num examples = 44\n",
      "  Batch size = 8\n",
      "                                                   \n",
      " 89%|████████▊ | 2728/3080 [11:04<00:17, 19.81it/s]Saving model checkpoint to ./distBert-v4/20230203_083620$-train-model-distilbert-base-uncased\\checkpoint-2728\n",
      "Configuration saved in ./distBert-v4/20230203_083620$-train-model-distilbert-base-uncased\\checkpoint-2728\\config.json\n",
      " 89%|████████▊ | 2728/3080 [11:16<00:17, 19.81it/s]"
     ]
    },
    {
     "name": "stdout",
     "output_type": "stream",
     "text": [
      "{'eval_loss': 0.16806428134441376, 'eval_f1': 0.7252747252747251, 'eval_roc_auc': 0.811988543371522, 'eval_accuracy': 0.5681818181818182, 'eval_runtime': 0.0833, 'eval_samples_per_second': 528.144, 'eval_steps_per_second': 72.02, 'epoch': 62.0}\n"
     ]
    },
    {
     "name": "stderr",
     "output_type": "stream",
     "text": [
      "Model weights saved in ./distBert-v4/20230203_083620$-train-model-distilbert-base-uncased\\checkpoint-2728\\pytorch_model.bin\n",
      "tokenizer config file saved in ./distBert-v4/20230203_083620$-train-model-distilbert-base-uncased\\checkpoint-2728\\tokenizer_config.json\n",
      "Special tokens file saved in ./distBert-v4/20230203_083620$-train-model-distilbert-base-uncased\\checkpoint-2728\\special_tokens_map.json\n",
      " 90%|█████████ | 2772/3080 [11:19<00:15, 19.29it/s]***** Running Evaluation *****\n",
      "  Num examples = 44\n",
      "  Batch size = 8\n",
      "                                                   \n",
      " 90%|█████████ | 2772/3080 [11:20<00:15, 19.29it/s]Saving model checkpoint to ./distBert-v4/20230203_083620$-train-model-distilbert-base-uncased\\checkpoint-2772\n",
      "Configuration saved in ./distBert-v4/20230203_083620$-train-model-distilbert-base-uncased\\checkpoint-2772\\config.json\n"
     ]
    },
    {
     "name": "stdout",
     "output_type": "stream",
     "text": [
      "{'eval_loss': 0.1666712611913681, 'eval_f1': 0.7391304347826088, 'eval_roc_auc': 0.8216039279869067, 'eval_accuracy': 0.5909090909090909, 'eval_runtime': 0.0794, 'eval_samples_per_second': 554.405, 'eval_steps_per_second': 75.601, 'epoch': 63.0}\n"
     ]
    },
    {
     "name": "stderr",
     "output_type": "stream",
     "text": [
      "Model weights saved in ./distBert-v4/20230203_083620$-train-model-distilbert-base-uncased\\checkpoint-2772\\pytorch_model.bin\n",
      "tokenizer config file saved in ./distBert-v4/20230203_083620$-train-model-distilbert-base-uncased\\checkpoint-2772\\tokenizer_config.json\n",
      "Special tokens file saved in ./distBert-v4/20230203_083620$-train-model-distilbert-base-uncased\\checkpoint-2772\\special_tokens_map.json\n",
      " 91%|█████████▏| 2815/3080 [11:52<00:14, 18.32it/s]***** Running Evaluation *****\n",
      "  Num examples = 44\n",
      "  Batch size = 8\n",
      "                                                   \n",
      " 91%|█████████▏| 2816/3080 [11:52<00:14, 18.32it/s]Saving model checkpoint to ./distBert-v4/20230203_083620$-train-model-distilbert-base-uncased\\checkpoint-2816\n",
      "Configuration saved in ./distBert-v4/20230203_083620$-train-model-distilbert-base-uncased\\checkpoint-2816\\config.json\n"
     ]
    },
    {
     "name": "stdout",
     "output_type": "stream",
     "text": [
      "{'eval_loss': 0.1666843742132187, 'eval_f1': 0.7252747252747251, 'eval_roc_auc': 0.811988543371522, 'eval_accuracy': 0.5681818181818182, 'eval_runtime': 0.0803, 'eval_samples_per_second': 547.73, 'eval_steps_per_second': 74.69, 'epoch': 64.0}\n"
     ]
    },
    {
     "name": "stderr",
     "output_type": "stream",
     "text": [
      "Model weights saved in ./distBert-v4/20230203_083620$-train-model-distilbert-base-uncased\\checkpoint-2816\\pytorch_model.bin\n",
      "tokenizer config file saved in ./distBert-v4/20230203_083620$-train-model-distilbert-base-uncased\\checkpoint-2816\\tokenizer_config.json\n",
      "Special tokens file saved in ./distBert-v4/20230203_083620$-train-model-distilbert-base-uncased\\checkpoint-2816\\special_tokens_map.json\n",
      " 93%|█████████▎| 2859/3080 [11:55<00:11, 19.87it/s]***** Running Evaluation *****\n",
      "  Num examples = 44\n",
      "  Batch size = 8\n",
      "                                                   \n",
      " 93%|█████████▎| 2860/3080 [11:55<00:11, 19.87it/s]Saving model checkpoint to ./distBert-v4/20230203_083620$-train-model-distilbert-base-uncased\\checkpoint-2860\n",
      "Configuration saved in ./distBert-v4/20230203_083620$-train-model-distilbert-base-uncased\\checkpoint-2860\\config.json\n"
     ]
    },
    {
     "name": "stdout",
     "output_type": "stream",
     "text": [
      "{'eval_loss': 0.16768890619277954, 'eval_f1': 0.7252747252747251, 'eval_roc_auc': 0.811988543371522, 'eval_accuracy': 0.5681818181818182, 'eval_runtime': 0.0805, 'eval_samples_per_second': 546.397, 'eval_steps_per_second': 74.509, 'epoch': 65.0}\n"
     ]
    },
    {
     "name": "stderr",
     "output_type": "stream",
     "text": [
      "Model weights saved in ./distBert-v4/20230203_083620$-train-model-distilbert-base-uncased\\checkpoint-2860\\pytorch_model.bin\n",
      "tokenizer config file saved in ./distBert-v4/20230203_083620$-train-model-distilbert-base-uncased\\checkpoint-2860\\tokenizer_config.json\n",
      "Special tokens file saved in ./distBert-v4/20230203_083620$-train-model-distilbert-base-uncased\\checkpoint-2860\\special_tokens_map.json\n",
      " 94%|█████████▍| 2903/3080 [12:27<00:09, 18.52it/s]***** Running Evaluation *****\n",
      "  Num examples = 44\n",
      "  Batch size = 8\n",
      "                                                   \n",
      " 94%|█████████▍| 2904/3080 [12:27<00:09, 18.52it/s]Saving model checkpoint to ./distBert-v4/20230203_083620$-train-model-distilbert-base-uncased\\checkpoint-2904\n",
      "Configuration saved in ./distBert-v4/20230203_083620$-train-model-distilbert-base-uncased\\checkpoint-2904\\config.json\n"
     ]
    },
    {
     "name": "stdout",
     "output_type": "stream",
     "text": [
      "{'eval_loss': 0.16844871640205383, 'eval_f1': 0.7252747252747251, 'eval_roc_auc': 0.811988543371522, 'eval_accuracy': 0.5681818181818182, 'eval_runtime': 0.0825, 'eval_samples_per_second': 533.542, 'eval_steps_per_second': 72.756, 'epoch': 66.0}\n"
     ]
    },
    {
     "name": "stderr",
     "output_type": "stream",
     "text": [
      "Model weights saved in ./distBert-v4/20230203_083620$-train-model-distilbert-base-uncased\\checkpoint-2904\\pytorch_model.bin\n",
      "tokenizer config file saved in ./distBert-v4/20230203_083620$-train-model-distilbert-base-uncased\\checkpoint-2904\\tokenizer_config.json\n",
      "Special tokens file saved in ./distBert-v4/20230203_083620$-train-model-distilbert-base-uncased\\checkpoint-2904\\special_tokens_map.json\n",
      " 96%|█████████▌| 2947/3080 [12:31<00:06, 19.41it/s]***** Running Evaluation *****\n",
      "  Num examples = 44\n",
      "  Batch size = 8\n",
      "                                                   \n",
      " 96%|█████████▌| 2948/3080 [12:31<00:06, 19.41it/s]Saving model checkpoint to ./distBert-v4/20230203_083620$-train-model-distilbert-base-uncased\\checkpoint-2948\n",
      "Configuration saved in ./distBert-v4/20230203_083620$-train-model-distilbert-base-uncased\\checkpoint-2948\\config.json\n",
      " 96%|█████████▌| 2948/3080 [12:43<00:06, 19.41it/s]"
     ]
    },
    {
     "name": "stdout",
     "output_type": "stream",
     "text": [
      "{'eval_loss': 0.16947588324546814, 'eval_f1': 0.7391304347826088, 'eval_roc_auc': 0.8216039279869067, 'eval_accuracy': 0.5909090909090909, 'eval_runtime': 0.0838, 'eval_samples_per_second': 524.817, 'eval_steps_per_second': 71.566, 'epoch': 67.0}\n"
     ]
    },
    {
     "name": "stderr",
     "output_type": "stream",
     "text": [
      "Model weights saved in ./distBert-v4/20230203_083620$-train-model-distilbert-base-uncased\\checkpoint-2948\\pytorch_model.bin\n",
      "tokenizer config file saved in ./distBert-v4/20230203_083620$-train-model-distilbert-base-uncased\\checkpoint-2948\\tokenizer_config.json\n",
      "Special tokens file saved in ./distBert-v4/20230203_083620$-train-model-distilbert-base-uncased\\checkpoint-2948\\special_tokens_map.json\n",
      " 97%|█████████▋| 2990/3080 [12:47<00:04, 19.18it/s]***** Running Evaluation *****\n",
      "  Num examples = 44\n",
      "  Batch size = 8\n",
      "                                                   \n",
      " 97%|█████████▋| 2992/3080 [12:47<00:04, 19.18it/s]Saving model checkpoint to ./distBert-v4/20230203_083620$-train-model-distilbert-base-uncased\\checkpoint-2992\n",
      "Configuration saved in ./distBert-v4/20230203_083620$-train-model-distilbert-base-uncased\\checkpoint-2992\\config.json\n"
     ]
    },
    {
     "name": "stdout",
     "output_type": "stream",
     "text": [
      "{'eval_loss': 0.168314591050148, 'eval_f1': 0.7252747252747251, 'eval_roc_auc': 0.811988543371522, 'eval_accuracy': 0.5681818181818182, 'eval_runtime': 0.0822, 'eval_samples_per_second': 535.36, 'eval_steps_per_second': 73.004, 'epoch': 68.0}\n"
     ]
    },
    {
     "name": "stderr",
     "output_type": "stream",
     "text": [
      "Model weights saved in ./distBert-v4/20230203_083620$-train-model-distilbert-base-uncased\\checkpoint-2992\\pytorch_model.bin\n",
      "tokenizer config file saved in ./distBert-v4/20230203_083620$-train-model-distilbert-base-uncased\\checkpoint-2992\\tokenizer_config.json\n",
      "Special tokens file saved in ./distBert-v4/20230203_083620$-train-model-distilbert-base-uncased\\checkpoint-2992\\special_tokens_map.json\n",
      " 97%|█████████▋| 3002/3080 [12:48<00:06, 11.92it/s]"
     ]
    },
    {
     "name": "stdout",
     "output_type": "stream",
     "text": [
      "{'loss': 0.0034, 'learning_rate': 5.194805194805196e-07, 'epoch': 68.18}\n"
     ]
    },
    {
     "name": "stderr",
     "output_type": "stream",
     "text": [
      " 99%|█████████▊| 3034/3080 [12:50<00:02, 19.83it/s]***** Running Evaluation *****\n",
      "  Num examples = 44\n",
      "  Batch size = 8\n",
      "                                                   \n",
      " 99%|█████████▊| 3036/3080 [12:50<00:02, 19.83it/s]Saving model checkpoint to ./distBert-v4/20230203_083620$-train-model-distilbert-base-uncased\\checkpoint-3036\n",
      "Configuration saved in ./distBert-v4/20230203_083620$-train-model-distilbert-base-uncased\\checkpoint-3036\\config.json\n"
     ]
    },
    {
     "name": "stdout",
     "output_type": "stream",
     "text": [
      "{'eval_loss': 0.16802182793617249, 'eval_f1': 0.7252747252747251, 'eval_roc_auc': 0.811988543371522, 'eval_accuracy': 0.5681818181818182, 'eval_runtime': 0.0799, 'eval_samples_per_second': 550.654, 'eval_steps_per_second': 75.089, 'epoch': 69.0}\n"
     ]
    },
    {
     "name": "stderr",
     "output_type": "stream",
     "text": [
      " 99%|█████████▊| 3036/3080 [13:06<00:02, 19.83it/s]Model weights saved in ./distBert-v4/20230203_083620$-train-model-distilbert-base-uncased\\checkpoint-3036\\pytorch_model.bin\n",
      "tokenizer config file saved in ./distBert-v4/20230203_083620$-train-model-distilbert-base-uncased\\checkpoint-3036\\tokenizer_config.json\n",
      "Special tokens file saved in ./distBert-v4/20230203_083620$-train-model-distilbert-base-uncased\\checkpoint-3036\\special_tokens_map.json\n",
      "100%|██████████| 3080/3080 [13:20<00:00, 19.04it/s]***** Running Evaluation *****\n",
      "  Num examples = 44\n",
      "  Batch size = 8\n",
      "                                                   \n",
      "100%|██████████| 3080/3080 [13:20<00:00, 19.04it/s]Saving model checkpoint to ./distBert-v4/20230203_083620$-train-model-distilbert-base-uncased\\checkpoint-3080\n",
      "Configuration saved in ./distBert-v4/20230203_083620$-train-model-distilbert-base-uncased\\checkpoint-3080\\config.json\n"
     ]
    },
    {
     "name": "stdout",
     "output_type": "stream",
     "text": [
      "{'eval_loss': 0.16809970140457153, 'eval_f1': 0.7252747252747251, 'eval_roc_auc': 0.811988543371522, 'eval_accuracy': 0.5681818181818182, 'eval_runtime': 0.0812, 'eval_samples_per_second': 541.728, 'eval_steps_per_second': 73.872, 'epoch': 70.0}\n"
     ]
    },
    {
     "name": "stderr",
     "output_type": "stream",
     "text": [
      "Model weights saved in ./distBert-v4/20230203_083620$-train-model-distilbert-base-uncased\\checkpoint-3080\\pytorch_model.bin\n",
      "tokenizer config file saved in ./distBert-v4/20230203_083620$-train-model-distilbert-base-uncased\\checkpoint-3080\\tokenizer_config.json\n",
      "Special tokens file saved in ./distBert-v4/20230203_083620$-train-model-distilbert-base-uncased\\checkpoint-3080\\special_tokens_map.json\n",
      "\n",
      "\n",
      "Training completed. Do not forget to share your model on huggingface.co/models =)\n",
      "\n",
      "\n",
      "Loading best model from ./distBert-v4/20230203_083620$-train-model-distilbert-base-uncased\\checkpoint-1892 (score: 0.7472527472527474).\n",
      "100%|██████████| 3080/3080 [13:27<00:00,  3.81it/s]"
     ]
    },
    {
     "name": "stdout",
     "output_type": "stream",
     "text": [
      "{'train_runtime': 807.9284, 'train_samples_per_second': 30.324, 'train_steps_per_second': 3.812, 'train_loss': 0.04587776635761385, 'epoch': 70.0}\n"
     ]
    },
    {
     "name": "stderr",
     "output_type": "stream",
     "text": [
      "\n"
     ]
    },
    {
     "data": {
      "text/plain": [
       "TrainOutput(global_step=3080, training_loss=0.04587776635761385, metrics={'train_runtime': 807.9284, 'train_samples_per_second': 30.324, 'train_steps_per_second': 3.812, 'train_loss': 0.04587776635761385, 'epoch': 70.0})"
      ]
     },
     "execution_count": 27,
     "metadata": {},
     "output_type": "execute_result"
    }
   ],
   "source": [
    "trainer.train()"
   ]
  },
  {
   "cell_type": "code",
   "execution_count": 28,
   "metadata": {},
   "outputs": [
    {
     "name": "stderr",
     "output_type": "stream",
     "text": [
      "***** Running Evaluation *****\n",
      "  Num examples = 44\n",
      "  Batch size = 8\n",
      "100%|██████████| 6/6 [00:00<00:00, 89.23it/s]\n"
     ]
    },
    {
     "data": {
      "text/plain": [
       "{'eval_loss': 0.16147714853286743,\n",
       " 'eval_f1': 0.7472527472527474,\n",
       " 'eval_roc_auc': 0.8224904528096018,\n",
       " 'eval_accuracy': 0.5909090909090909,\n",
       " 'eval_runtime': 0.0792,\n",
       " 'eval_samples_per_second': 555.433,\n",
       " 'eval_steps_per_second': 75.741,\n",
       " 'epoch': 70.0}"
      ]
     },
     "execution_count": 28,
     "metadata": {},
     "output_type": "execute_result"
    }
   ],
   "source": [
    "trainer.evaluate()"
   ]
  },
  {
   "cell_type": "code",
   "execution_count": 30,
   "metadata": {},
   "outputs": [
    {
     "name": "stderr",
     "output_type": "stream",
     "text": [
      "***** Running Prediction *****\n",
      "  Num examples = 44\n",
      "  Batch size = 8\n",
      "100%|██████████| 6/6 [00:00<00:00, 109.13it/s]\n"
     ]
    }
   ],
   "source": [
    "prediction_result = trainer.predict(encoded_ds['test'])"
   ]
  },
  {
   "cell_type": "code",
   "execution_count": 31,
   "metadata": {},
   "outputs": [
    {
     "name": "stdout",
     "output_type": "stream",
     "text": [
      "{'test_loss': 0.13981007039546967, 'test_f1': 0.6976744186046512, 'test_roc_auc': 0.799949609473419, 'test_accuracy': 0.5909090909090909, 'test_runtime': 0.1865, 'test_samples_per_second': 235.964, 'test_steps_per_second': 32.177}\n"
     ]
    }
   ],
   "source": [
    "print(prediction_result.metrics)"
   ]
  },
  {
   "cell_type": "code",
   "execution_count": 32,
   "metadata": {},
   "outputs": [
    {
     "name": "stderr",
     "output_type": "stream",
     "text": [
      "Saving model checkpoint to ./distlBert-model-v4\n",
      "Configuration saved in ./distlBert-model-v4\\config.json\n",
      "Model weights saved in ./distlBert-model-v4\\pytorch_model.bin\n",
      "tokenizer config file saved in ./distlBert-model-v4\\tokenizer_config.json\n",
      "Special tokens file saved in ./distlBert-model-v4\\special_tokens_map.json\n"
     ]
    }
   ],
   "source": [
    "trainer.save_model(\"./distlBert-model-v4\")"
   ]
  }
 ],
 "metadata": {
  "kernelspec": {
   "display_name": "venv",
   "language": "python",
   "name": "python3"
  },
  "language_info": {
   "codemirror_mode": {
    "name": "ipython",
    "version": 3
   },
   "file_extension": ".py",
   "mimetype": "text/x-python",
   "name": "python",
   "nbconvert_exporter": "python",
   "pygments_lexer": "ipython3",
   "version": "3.8.10"
  },
  "orig_nbformat": 4,
  "vscode": {
   "interpreter": {
    "hash": "e32da21edddcaf775c480ccd7b569f19fc9b1c5c20d607727913c5339e7adca8"
   }
  }
 },
 "nbformat": 4,
 "nbformat_minor": 2
}
