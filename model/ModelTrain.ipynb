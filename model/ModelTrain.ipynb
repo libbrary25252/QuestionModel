{
 "cells": [
  {
   "cell_type": "code",
   "execution_count": 1,
   "metadata": {},
   "outputs": [
    {
     "name": "stderr",
     "output_type": "stream",
     "text": [
      "c:\\Users\\user\\Desktop\\QuestionQuestionModel\\venv\\lib\\site-packages\\tqdm\\auto.py:22: TqdmWarning: IProgress not found. Please update jupyter and ipywidgets. See https://ipywidgets.readthedocs.io/en/stable/user_install.html\n",
      "  from .autonotebook import tqdm as notebook_tqdm\n"
     ]
    },
    {
     "data": {
      "text/plain": [
       "DatasetDict({\n",
       "    train: Dataset({\n",
       "        features: ['Unnamed: 0', 'String', 'Algorithm Design', 'Basic Machine Organisation', 'Computer System', 'Data Manipulation and Analysis', 'Data Organisation and Data Control', 'Elementary Web Authoring', 'Health and Ethical Issues', 'Information Processing', 'Intellectual Property', 'Internet Services and Applications', 'Multimedia Elements', 'Networking and Internet Basics', 'Program Development', 'Threats and Security on the Internet', '__index_level_0__'],\n",
       "        num_rows: 350\n",
       "    })\n",
       "    valid: Dataset({\n",
       "        features: ['Unnamed: 0', 'String', 'Algorithm Design', 'Basic Machine Organisation', 'Computer System', 'Data Manipulation and Analysis', 'Data Organisation and Data Control', 'Elementary Web Authoring', 'Health and Ethical Issues', 'Information Processing', 'Intellectual Property', 'Internet Services and Applications', 'Multimedia Elements', 'Networking and Internet Basics', 'Program Development', 'Threats and Security on the Internet', '__index_level_0__'],\n",
       "        num_rows: 44\n",
       "    })\n",
       "    test: Dataset({\n",
       "        features: ['Unnamed: 0', 'String', 'Algorithm Design', 'Basic Machine Organisation', 'Computer System', 'Data Manipulation and Analysis', 'Data Organisation and Data Control', 'Elementary Web Authoring', 'Health and Ethical Issues', 'Information Processing', 'Intellectual Property', 'Internet Services and Applications', 'Multimedia Elements', 'Networking and Internet Basics', 'Program Development', 'Threats and Security on the Internet', '__index_level_0__'],\n",
       "        num_rows: 44\n",
       "    })\n",
       "})"
      ]
     },
     "execution_count": 1,
     "metadata": {},
     "output_type": "execute_result"
    }
   ],
   "source": [
    "# Model Training\n",
    "from datasets import load_from_disk\n",
    "\n",
    "datasets = load_from_disk(\"./encoded_data2\")\n",
    "datasets\n"
   ]
  },
  {
   "cell_type": "code",
   "execution_count": 2,
   "metadata": {},
   "outputs": [],
   "source": [
    "model_labels = [label for label in datasets['train'].features.keys() if label not in ['Unnamed: 0', 'String', '__index_level_0__']]"
   ]
  },
  {
   "cell_type": "code",
   "execution_count": 3,
   "metadata": {},
   "outputs": [
    {
     "data": {
      "text/plain": [
       "['Algorithm Design',\n",
       " 'Basic Machine Organisation',\n",
       " 'Computer System',\n",
       " 'Data Manipulation and Analysis',\n",
       " 'Data Organisation and Data Control',\n",
       " 'Elementary Web Authoring',\n",
       " 'Health and Ethical Issues',\n",
       " 'Information Processing',\n",
       " 'Intellectual Property',\n",
       " 'Internet Services and Applications',\n",
       " 'Multimedia Elements',\n",
       " 'Networking and Internet Basics',\n",
       " 'Program Development',\n",
       " 'Threats and Security on the Internet']"
      ]
     },
     "execution_count": 3,
     "metadata": {},
     "output_type": "execute_result"
    }
   ],
   "source": [
    "model_labels"
   ]
  },
  {
   "cell_type": "code",
   "execution_count": 4,
   "metadata": {},
   "outputs": [],
   "source": [
    "id2label = {idx:label for idx, label in enumerate(model_labels)}\n",
    "label2id = {label:idx for idx, label in enumerate(model_labels)}"
   ]
  },
  {
   "cell_type": "code",
   "execution_count": 5,
   "metadata": {},
   "outputs": [],
   "source": [
    "from transformers import DistilBertTokenizer, DistilBertForSequenceClassification\n",
    "import numpy as np\n",
    "\n",
    "tokenizer = DistilBertTokenizer.from_pretrained(\"distilbert-base-uncased\")"
   ]
  },
  {
   "cell_type": "code",
   "execution_count": 6,
   "metadata": {},
   "outputs": [],
   "source": [
    "def encode_data(dataset):\n",
    "    text = dataset[\"String\"]\n",
    "    # tokenize string\n",
    "    encoding = tokenizer(text, padding=\"max_length\", truncation=True, max_length=70)\n",
    "    # create encoded array list with labels\n",
    "    labelsBatch = {x: dataset[x] for x in dataset.keys() if x in model_labels}\n",
    "    labels_matrix = np.zeros((len(text), len(model_labels)))\n",
    "    for idx, label in enumerate(model_labels):\n",
    "        labels_matrix[:, idx] = labelsBatch[label]\n",
    "    \n",
    "    encoding[\"labels\"] = labels_matrix.tolist()\n",
    "    return encoding"
   ]
  },
  {
   "cell_type": "code",
   "execution_count": 8,
   "metadata": {},
   "outputs": [
    {
     "name": "stderr",
     "output_type": "stream",
     "text": [
      "Loading cached processed dataset at c:\\Users\\user\\Desktop\\QuestionQuestionModel\\model\\encoded_data2\\train\\cache-2b16d6c5bd35f15f.arrow\n",
      "Loading cached processed dataset at c:\\Users\\user\\Desktop\\QuestionQuestionModel\\model\\encoded_data2\\valid\\cache-689012c425206285.arrow\n",
      "Loading cached processed dataset at c:\\Users\\user\\Desktop\\QuestionQuestionModel\\model\\encoded_data2\\test\\cache-85c90415b3ef70cb.arrow\n"
     ]
    }
   ],
   "source": [
    "encoded_ds = datasets.map(encode_data, batched=True, remove_columns=datasets['train'].column_names)"
   ]
  },
  {
   "cell_type": "code",
   "execution_count": 9,
   "metadata": {},
   "outputs": [
    {
     "data": {
      "text/plain": [
       "dict_keys(['input_ids', 'attention_mask', 'labels'])"
      ]
     },
     "execution_count": 9,
     "metadata": {},
     "output_type": "execute_result"
    }
   ],
   "source": [
    "encoded_ds['train'][0].keys()"
   ]
  },
  {
   "cell_type": "code",
   "execution_count": 10,
   "metadata": {},
   "outputs": [
    {
     "data": {
      "text/plain": [
       "['Networking and Internet Basics']"
      ]
     },
     "execution_count": 10,
     "metadata": {},
     "output_type": "execute_result"
    }
   ],
   "source": [
    "[id2label[idx] for idx, label in enumerate(encoded_ds['train'][15]['labels']) if label == 1.0]"
   ]
  },
  {
   "cell_type": "code",
   "execution_count": 11,
   "metadata": {},
   "outputs": [
    {
     "name": "stdout",
     "output_type": "stream",
     "text": [
      "Using device: cuda\n",
      "\n"
     ]
    }
   ],
   "source": [
    "import torch\n",
    "from torch import cuda\n",
    "device = torch.device('cuda' if torch.cuda.is_available() else 'cpu')\n",
    "print('Using device:', device)\n",
    "print()\n",
    "\n",
    "encoded_ds.set_format(\"torch\")"
   ]
  },
  {
   "cell_type": "code",
   "execution_count": 12,
   "metadata": {},
   "outputs": [
    {
     "data": {
      "text/plain": [
       "14"
      ]
     },
     "execution_count": 12,
     "metadata": {},
     "output_type": "execute_result"
    }
   ],
   "source": [
    "len(model_labels)"
   ]
  },
  {
   "cell_type": "code",
   "execution_count": 13,
   "metadata": {},
   "outputs": [
    {
     "name": "stderr",
     "output_type": "stream",
     "text": [
      "Some weights of the model checkpoint at distilbert-base-uncased were not used when initializing DistilBertForSequenceClassification: ['vocab_projector.weight', 'vocab_layer_norm.weight', 'vocab_projector.bias', 'vocab_transform.weight', 'vocab_layer_norm.bias', 'vocab_transform.bias']\n",
      "- This IS expected if you are initializing DistilBertForSequenceClassification from the checkpoint of a model trained on another task or with another architecture (e.g. initializing a BertForSequenceClassification model from a BertForPreTraining model).\n",
      "- This IS NOT expected if you are initializing DistilBertForSequenceClassification from the checkpoint of a model that you expect to be exactly identical (initializing a BertForSequenceClassification model from a BertForSequenceClassification model).\n",
      "Some weights of DistilBertForSequenceClassification were not initialized from the model checkpoint at distilbert-base-uncased and are newly initialized: ['classifier.bias', 'pre_classifier.bias', 'classifier.weight', 'pre_classifier.weight']\n",
      "You should probably TRAIN this model on a down-stream task to be able to use it for predictions and inference.\n"
     ]
    }
   ],
   "source": [
    "\n",
    "# define model\n",
    "model = DistilBertForSequenceClassification.from_pretrained(\"distilbert-base-uncased\", problem_type=\"multi_label_classification\", num_labels=len(model_labels), id2label=id2label, label2id=label2id)"
   ]
  },
  {
   "cell_type": "code",
   "execution_count": 31,
   "metadata": {},
   "outputs": [],
   "source": [
    "from torch.utils.data import DataLoader\n",
    "\n",
    "train_dataloader = DataLoader(encoded_ds[\"train\"], batch_size=8)\n",
    "eval_dataloader = DataLoader(encoded_ds[\"valid\"], batch_size=8)"
   ]
  },
  {
   "cell_type": "code",
   "execution_count": 14,
   "metadata": {},
   "outputs": [],
   "source": [
    "# train model\n",
    "batch_size = 8\n",
    "metric_name = \"f1\""
   ]
  },
  {
   "cell_type": "code",
   "execution_count": 15,
   "metadata": {},
   "outputs": [],
   "source": [
    "import evaluate\n",
    "\n",
    "metric  = evaluate.load(\"accuracy\")"
   ]
  },
  {
   "cell_type": "code",
   "execution_count": 16,
   "metadata": {},
   "outputs": [],
   "source": [
    "from transformers import TrainingArguments, Trainer\n",
    "\n",
    "args = TrainingArguments(\n",
    "    output_dir=\"./distBert/trainer\",\n",
    "    evaluation_strategy = \"epoch\",\n",
    "    save_strategy = \"epoch\",\n",
    "    learning_rate=2e-5,\n",
    "    per_device_train_batch_size=batch_size,\n",
    "    per_device_eval_batch_size=batch_size,\n",
    "    num_train_epochs= 70,\n",
    "    weight_decay=0.01,\n",
    "    load_best_model_at_end=True,\n",
    "    metric_for_best_model=metric_name,\n",
    ")"
   ]
  },
  {
   "cell_type": "code",
   "execution_count": 17,
   "metadata": {},
   "outputs": [],
   "source": [
    "from sklearn.metrics import f1_score, roc_auc_score, accuracy_score\n",
    "from transformers import EvalPrediction\n",
    "    \n",
    "def multi_label_metrics(predictions, labels, threshold=0.5):\n",
    "    # apply sigmoid on predictions fitting (batch_size, num_labels)\n",
    "    sigmoid = torch.nn.Sigmoid()\n",
    "    probs = sigmoid(torch.Tensor(predictions))\n",
    "    # use threshold to turn them into integer predictions\n",
    "    y_pred = np.zeros(probs.shape)\n",
    "    y_pred[np.where(probs >= threshold)] = 1\n",
    "    # compute metrics\n",
    "    y_true = labels\n",
    "    f1_micro_average = f1_score(y_true=y_true, y_pred=y_pred, average='micro')\n",
    "    roc_auc = roc_auc_score(y_true, y_pred, average = 'micro')\n",
    "    accuracy = accuracy_score(y_true, y_pred)\n",
    "    # logits, labels = predictions\n",
    "    # prediction = np.argmax(logits, axis=-1)\n",
    "    # return as dictionary\n",
    "    metrics = {'f1': f1_micro_average,\n",
    "               'roc_auc': roc_auc,\n",
    "               'accuracy': accuracy}\n",
    "    return metrics\n",
    "\n",
    "def compute_metrics(p: EvalPrediction):\n",
    "    preds = p.predictions[0] if isinstance(p.predictions, \n",
    "            tuple) else p.predictions\n",
    "    result = multi_label_metrics(\n",
    "        predictions=preds, \n",
    "        labels=p.label_ids)\n",
    "    return result\n",
    "\n",
    "def compute_metrics_new(eval_pred):\n",
    "    logits, labels = eval_pred\n",
    "    predictions = np.argmax(logits, axis=-1)\n",
    "    return metric.compute(predictions=predictions, references=labels)"
   ]
  },
  {
   "cell_type": "code",
   "execution_count": 18,
   "metadata": {},
   "outputs": [
    {
     "data": {
      "text/plain": [
       "'torch.FloatTensor'"
      ]
     },
     "execution_count": 18,
     "metadata": {},
     "output_type": "execute_result"
    }
   ],
   "source": [
    "encoded_ds['train'][0]['labels'].type()"
   ]
  },
  {
   "cell_type": "code",
   "execution_count": 19,
   "metadata": {},
   "outputs": [],
   "source": [
    "# model.to(device)"
   ]
  },
  {
   "cell_type": "code",
   "execution_count": 20,
   "metadata": {},
   "outputs": [
    {
     "data": {
      "text/plain": [
       "SequenceClassifierOutput(loss=tensor(0.7083, grad_fn=<BinaryCrossEntropyWithLogitsBackward0>), logits=tensor([[-0.0888, -0.0467,  0.0785,  0.0748,  0.1638, -0.0354,  0.0353, -0.0033,\n",
       "          0.1245, -0.0093,  0.0845,  0.0318,  0.0856,  0.0754]],\n",
       "       grad_fn=<AddmmBackward0>), hidden_states=None, attentions=None)"
      ]
     },
     "execution_count": 20,
     "metadata": {},
     "output_type": "execute_result"
    }
   ],
   "source": [
    "outputs = model(input_ids=encoded_ds['train']['input_ids'][0].unsqueeze(0), labels=encoded_ds['train'][0]['labels'].unsqueeze(0))\n",
    "outputs"
   ]
  },
  {
   "cell_type": "code",
   "execution_count": 21,
   "metadata": {},
   "outputs": [],
   "source": [
    "trainer = Trainer(\n",
    "    model,\n",
    "    args,\n",
    "    train_dataset=encoded_ds[\"train\"],\n",
    "    eval_dataset=encoded_ds[\"valid\"],\n",
    "    compute_metrics=compute_metrics,\n",
    "    tokenizer=tokenizer\n",
    ")"
   ]
  },
  {
   "cell_type": "code",
   "execution_count": 22,
   "metadata": {},
   "outputs": [
    {
     "name": "stderr",
     "output_type": "stream",
     "text": [
      "c:\\Users\\user\\Desktop\\QuestionQuestionModel\\venv\\lib\\site-packages\\transformers\\optimization.py:306: FutureWarning: This implementation of AdamW is deprecated and will be removed in a future version. Use the PyTorch implementation torch.optim.AdamW instead, or set `no_deprecation_warning=True` to disable this warning\n",
      "  warnings.warn(\n",
      "***** Running training *****\n",
      "  Num examples = 350\n",
      "  Num Epochs = 70\n",
      "  Instantaneous batch size per device = 8\n",
      "  Total train batch size (w. parallel, distributed & accumulation) = 8\n",
      "  Gradient Accumulation steps = 1\n",
      "  Total optimization steps = 3080\n",
      "  Number of trainable parameters = 66964238\n",
      "  1%|▏         | 42/3080 [00:03<02:34, 19.65it/s] ***** Running Evaluation *****\n",
      "  Num examples = 44\n",
      "  Batch size = 8\n",
      "                                                 \n",
      "  1%|▏         | 44/3080 [00:03<02:34, 19.65it/s]Saving model checkpoint to ./distBert/trainer\\checkpoint-44\n",
      "Configuration saved in ./distBert/trainer\\checkpoint-44\\config.json\n"
     ]
    },
    {
     "name": "stdout",
     "output_type": "stream",
     "text": [
      "{'eval_loss': 0.3572169542312622, 'eval_f1': 0.0, 'eval_roc_auc': 0.5, 'eval_accuracy': 0.0, 'eval_runtime': 0.0798, 'eval_samples_per_second': 551.564, 'eval_steps_per_second': 75.213, 'epoch': 1.0}\n"
     ]
    },
    {
     "name": "stderr",
     "output_type": "stream",
     "text": [
      "Model weights saved in ./distBert/trainer\\checkpoint-44\\pytorch_model.bin\n",
      "tokenizer config file saved in ./distBert/trainer\\checkpoint-44\\tokenizer_config.json\n",
      "Special tokens file saved in ./distBert/trainer\\checkpoint-44\\special_tokens_map.json\n",
      "  3%|▎         | 87/3080 [00:06<02:30, 19.85it/s]***** Running Evaluation *****\n",
      "  Num examples = 44\n",
      "  Batch size = 8\n",
      "                                                 \n",
      "  3%|▎         | 88/3080 [00:06<02:30, 19.85it/s]Saving model checkpoint to ./distBert/trainer\\checkpoint-88\n",
      "Configuration saved in ./distBert/trainer\\checkpoint-88\\config.json\n"
     ]
    },
    {
     "name": "stdout",
     "output_type": "stream",
     "text": [
      "{'eval_loss': 0.28318551182746887, 'eval_f1': 0.0, 'eval_roc_auc': 0.5, 'eval_accuracy': 0.0, 'eval_runtime': 0.0766, 'eval_samples_per_second': 574.044, 'eval_steps_per_second': 78.279, 'epoch': 2.0}\n"
     ]
    },
    {
     "name": "stderr",
     "output_type": "stream",
     "text": [
      "Model weights saved in ./distBert/trainer\\checkpoint-88\\pytorch_model.bin\n",
      "tokenizer config file saved in ./distBert/trainer\\checkpoint-88\\tokenizer_config.json\n",
      "Special tokens file saved in ./distBert/trainer\\checkpoint-88\\special_tokens_map.json\n",
      "  4%|▍         | 131/3080 [00:10<02:27, 19.99it/s]***** Running Evaluation *****\n",
      "  Num examples = 44\n",
      "  Batch size = 8\n",
      "                                                  \n",
      "  4%|▍         | 132/3080 [00:10<02:27, 19.99it/s]Saving model checkpoint to ./distBert/trainer\\checkpoint-132\n",
      "Configuration saved in ./distBert/trainer\\checkpoint-132\\config.json\n"
     ]
    },
    {
     "name": "stdout",
     "output_type": "stream",
     "text": [
      "{'eval_loss': 0.2625400125980377, 'eval_f1': 0.0, 'eval_roc_auc': 0.5, 'eval_accuracy': 0.0, 'eval_runtime': 0.0808, 'eval_samples_per_second': 544.614, 'eval_steps_per_second': 74.265, 'epoch': 3.0}\n"
     ]
    },
    {
     "name": "stderr",
     "output_type": "stream",
     "text": [
      "Model weights saved in ./distBert/trainer\\checkpoint-132\\pytorch_model.bin\n",
      "tokenizer config file saved in ./distBert/trainer\\checkpoint-132\\tokenizer_config.json\n",
      "Special tokens file saved in ./distBert/trainer\\checkpoint-132\\special_tokens_map.json\n",
      "  6%|▌         | 175/3080 [00:13<02:25, 20.02it/s]***** Running Evaluation *****\n",
      "  Num examples = 44\n",
      "  Batch size = 8\n",
      "                                                  \n",
      "  6%|▌         | 176/3080 [00:13<02:25, 20.02it/s]Saving model checkpoint to ./distBert/trainer\\checkpoint-176\n",
      "Configuration saved in ./distBert/trainer\\checkpoint-176\\config.json\n"
     ]
    },
    {
     "name": "stdout",
     "output_type": "stream",
     "text": [
      "{'eval_loss': 0.24511365592479706, 'eval_f1': 0.0, 'eval_roc_auc': 0.5, 'eval_accuracy': 0.0, 'eval_runtime': 0.0788, 'eval_samples_per_second': 558.638, 'eval_steps_per_second': 76.178, 'epoch': 4.0}\n"
     ]
    },
    {
     "name": "stderr",
     "output_type": "stream",
     "text": [
      "Model weights saved in ./distBert/trainer\\checkpoint-176\\pytorch_model.bin\n",
      "tokenizer config file saved in ./distBert/trainer\\checkpoint-176\\tokenizer_config.json\n",
      "Special tokens file saved in ./distBert/trainer\\checkpoint-176\\special_tokens_map.json\n",
      "  7%|▋         | 220/3080 [00:16<02:22, 20.08it/s]***** Running Evaluation *****\n",
      "  Num examples = 44\n",
      "  Batch size = 8\n",
      "                                                  \n",
      "  7%|▋         | 220/3080 [00:16<02:22, 20.08it/s]Saving model checkpoint to ./distBert/trainer\\checkpoint-220\n",
      "Configuration saved in ./distBert/trainer\\checkpoint-220\\config.json\n"
     ]
    },
    {
     "name": "stdout",
     "output_type": "stream",
     "text": [
      "{'eval_loss': 0.22653041779994965, 'eval_f1': 0.2711864406779661, 'eval_roc_auc': 0.5806924882629108, 'eval_accuracy': 0.09090909090909091, 'eval_runtime': 0.0814, 'eval_samples_per_second': 540.302, 'eval_steps_per_second': 73.678, 'epoch': 5.0}\n"
     ]
    },
    {
     "name": "stderr",
     "output_type": "stream",
     "text": [
      "Model weights saved in ./distBert/trainer\\checkpoint-220\\pytorch_model.bin\n",
      "tokenizer config file saved in ./distBert/trainer\\checkpoint-220\\tokenizer_config.json\n",
      "Special tokens file saved in ./distBert/trainer\\checkpoint-220\\special_tokens_map.json\n",
      "  9%|▊         | 262/3080 [00:19<02:22, 19.83it/s]***** Running Evaluation *****\n",
      "  Num examples = 44\n",
      "  Batch size = 8\n",
      "                                                  \n",
      "  9%|▊         | 264/3080 [00:19<02:22, 19.83it/s]Saving model checkpoint to ./distBert/trainer\\checkpoint-264\n",
      "Configuration saved in ./distBert/trainer\\checkpoint-264\\config.json\n"
     ]
    },
    {
     "name": "stdout",
     "output_type": "stream",
     "text": [
      "{'eval_loss': 0.20363488793373108, 'eval_f1': 0.38095238095238093, 'eval_roc_auc': 0.6223591549295774, 'eval_accuracy': 0.18181818181818182, 'eval_runtime': 0.0788, 'eval_samples_per_second': 558.192, 'eval_steps_per_second': 76.117, 'epoch': 6.0}\n"
     ]
    },
    {
     "name": "stderr",
     "output_type": "stream",
     "text": [
      "Model weights saved in ./distBert/trainer\\checkpoint-264\\pytorch_model.bin\n",
      "tokenizer config file saved in ./distBert/trainer\\checkpoint-264\\tokenizer_config.json\n",
      "Special tokens file saved in ./distBert/trainer\\checkpoint-264\\special_tokens_map.json\n",
      " 10%|▉         | 306/3080 [00:22<02:19, 19.91it/s]***** Running Evaluation *****\n",
      "  Num examples = 44\n",
      "  Batch size = 8\n",
      "                                                  \n",
      " 10%|█         | 308/3080 [00:23<02:19, 19.91it/s]Saving model checkpoint to ./distBert/trainer\\checkpoint-308\n",
      "Configuration saved in ./distBert/trainer\\checkpoint-308\\config.json\n"
     ]
    },
    {
     "name": "stdout",
     "output_type": "stream",
     "text": [
      "{'eval_loss': 0.18162834644317627, 'eval_f1': 0.40625, 'eval_roc_auc': 0.632775821596244, 'eval_accuracy': 0.20454545454545456, 'eval_runtime': 0.0788, 'eval_samples_per_second': 558.227, 'eval_steps_per_second': 76.122, 'epoch': 7.0}\n"
     ]
    },
    {
     "name": "stderr",
     "output_type": "stream",
     "text": [
      "Model weights saved in ./distBert/trainer\\checkpoint-308\\pytorch_model.bin\n",
      "tokenizer config file saved in ./distBert/trainer\\checkpoint-308\\tokenizer_config.json\n",
      "Special tokens file saved in ./distBert/trainer\\checkpoint-308\\special_tokens_map.json\n",
      " 11%|█▏        | 351/3080 [00:26<02:16, 19.93it/s]***** Running Evaluation *****\n",
      "  Num examples = 44\n",
      "  Batch size = 8\n",
      "                                                  \n",
      " 11%|█▏        | 352/3080 [00:26<02:16, 19.93it/s]Saving model checkpoint to ./distBert/trainer\\checkpoint-352\n",
      "Configuration saved in ./distBert/trainer\\checkpoint-352\\config.json\n"
     ]
    },
    {
     "name": "stdout",
     "output_type": "stream",
     "text": [
      "{'eval_loss': 0.1641300916671753, 'eval_f1': 0.5633802816901409, 'eval_roc_auc': 0.7056924882629108, 'eval_accuracy': 0.3409090909090909, 'eval_runtime': 0.0788, 'eval_samples_per_second': 558.177, 'eval_steps_per_second': 76.115, 'epoch': 8.0}\n"
     ]
    },
    {
     "name": "stderr",
     "output_type": "stream",
     "text": [
      "Model weights saved in ./distBert/trainer\\checkpoint-352\\pytorch_model.bin\n",
      "tokenizer config file saved in ./distBert/trainer\\checkpoint-352\\tokenizer_config.json\n",
      "Special tokens file saved in ./distBert/trainer\\checkpoint-352\\special_tokens_map.json\n",
      " 13%|█▎        | 395/3080 [00:29<02:15, 19.83it/s]***** Running Evaluation *****\n",
      "  Num examples = 44\n",
      "  Batch size = 8\n",
      "                                                  \n",
      " 13%|█▎        | 396/3080 [00:29<02:15, 19.83it/s]Saving model checkpoint to ./distBert/trainer\\checkpoint-396\n",
      "Configuration saved in ./distBert/trainer\\checkpoint-396\\config.json\n"
     ]
    },
    {
     "name": "stdout",
     "output_type": "stream",
     "text": [
      "{'eval_loss': 0.14804983139038086, 'eval_f1': 0.5633802816901409, 'eval_roc_auc': 0.7056924882629108, 'eval_accuracy': 0.3409090909090909, 'eval_runtime': 0.0798, 'eval_samples_per_second': 551.244, 'eval_steps_per_second': 75.17, 'epoch': 9.0}\n"
     ]
    },
    {
     "name": "stderr",
     "output_type": "stream",
     "text": [
      "Model weights saved in ./distBert/trainer\\checkpoint-396\\pytorch_model.bin\n",
      "tokenizer config file saved in ./distBert/trainer\\checkpoint-396\\tokenizer_config.json\n",
      "Special tokens file saved in ./distBert/trainer\\checkpoint-396\\special_tokens_map.json\n",
      " 14%|█▍        | 440/3080 [00:32<02:10, 20.19it/s]***** Running Evaluation *****\n",
      "  Num examples = 44\n",
      "  Batch size = 8\n",
      "                                                  \n",
      " 14%|█▍        | 440/3080 [00:33<02:10, 20.19it/s]Saving model checkpoint to ./distBert/trainer\\checkpoint-440\n",
      "Configuration saved in ./distBert/trainer\\checkpoint-440\\config.json\n"
     ]
    },
    {
     "name": "stdout",
     "output_type": "stream",
     "text": [
      "{'eval_loss': 0.14161115884780884, 'eval_f1': 0.5555555555555556, 'eval_roc_auc': 0.70481220657277, 'eval_accuracy': 0.3409090909090909, 'eval_runtime': 0.0788, 'eval_samples_per_second': 558.454, 'eval_steps_per_second': 76.153, 'epoch': 10.0}\n"
     ]
    },
    {
     "name": "stderr",
     "output_type": "stream",
     "text": [
      "Model weights saved in ./distBert/trainer\\checkpoint-440\\pytorch_model.bin\n",
      "tokenizer config file saved in ./distBert/trainer\\checkpoint-440\\tokenizer_config.json\n",
      "Special tokens file saved in ./distBert/trainer\\checkpoint-440\\special_tokens_map.json\n",
      " 16%|█▌        | 484/3080 [00:36<02:09, 20.06it/s]***** Running Evaluation *****\n",
      "  Num examples = 44\n",
      "  Batch size = 8\n",
      "                                                  \n",
      " 16%|█▌        | 484/3080 [00:36<02:09, 20.06it/s]Saving model checkpoint to ./distBert/trainer\\checkpoint-484\n",
      "Configuration saved in ./distBert/trainer\\checkpoint-484\\config.json\n"
     ]
    },
    {
     "name": "stdout",
     "output_type": "stream",
     "text": [
      "{'eval_loss': 0.12464045733213425, 'eval_f1': 0.6133333333333334, 'eval_roc_auc': 0.73606220657277, 'eval_accuracy': 0.4090909090909091, 'eval_runtime': 0.0828, 'eval_samples_per_second': 531.163, 'eval_steps_per_second': 72.431, 'epoch': 11.0}\n"
     ]
    },
    {
     "name": "stderr",
     "output_type": "stream",
     "text": [
      "Model weights saved in ./distBert/trainer\\checkpoint-484\\pytorch_model.bin\n",
      "tokenizer config file saved in ./distBert/trainer\\checkpoint-484\\tokenizer_config.json\n",
      "Special tokens file saved in ./distBert/trainer\\checkpoint-484\\special_tokens_map.json\n",
      " 16%|█▋        | 504/3080 [00:38<02:45, 15.55it/s]"
     ]
    },
    {
     "name": "stdout",
     "output_type": "stream",
     "text": [
      "{'loss': 0.215, 'learning_rate': 1.6753246753246756e-05, 'epoch': 11.36}\n"
     ]
    },
    {
     "name": "stderr",
     "output_type": "stream",
     "text": [
      " 17%|█▋        | 528/3080 [00:39<02:07, 20.04it/s]***** Running Evaluation *****\n",
      "  Num examples = 44\n",
      "  Batch size = 8\n",
      "                                                  \n",
      " 17%|█▋        | 528/3080 [00:39<02:07, 20.04it/s]Saving model checkpoint to ./distBert/trainer\\checkpoint-528\n",
      "Configuration saved in ./distBert/trainer\\checkpoint-528\\config.json\n"
     ]
    },
    {
     "name": "stdout",
     "output_type": "stream",
     "text": [
      "{'eval_loss': 0.11974798887968063, 'eval_f1': 0.6578947368421053, 'eval_roc_auc': 0.7577758215962442, 'eval_accuracy': 0.45454545454545453, 'eval_runtime': 0.0779, 'eval_samples_per_second': 564.815, 'eval_steps_per_second': 77.02, 'epoch': 12.0}\n"
     ]
    },
    {
     "name": "stderr",
     "output_type": "stream",
     "text": [
      "Model weights saved in ./distBert/trainer\\checkpoint-528\\pytorch_model.bin\n",
      "tokenizer config file saved in ./distBert/trainer\\checkpoint-528\\tokenizer_config.json\n",
      "Special tokens file saved in ./distBert/trainer\\checkpoint-528\\special_tokens_map.json\n",
      " 19%|█▊        | 571/3080 [00:43<02:05, 19.96it/s]***** Running Evaluation *****\n",
      "  Num examples = 44\n",
      "  Batch size = 8\n",
      "                                                  \n",
      " 19%|█▊        | 572/3080 [00:43<02:05, 19.96it/s]Saving model checkpoint to ./distBert/trainer\\checkpoint-572\n",
      "Configuration saved in ./distBert/trainer\\checkpoint-572\\config.json\n"
     ]
    },
    {
     "name": "stdout",
     "output_type": "stream",
     "text": [
      "{'eval_loss': 0.11076488345861435, 'eval_f1': 0.6753246753246753, 'eval_roc_auc': 0.7681924882629106, 'eval_accuracy': 0.4772727272727273, 'eval_runtime': 0.0798, 'eval_samples_per_second': 551.381, 'eval_steps_per_second': 75.188, 'epoch': 13.0}\n"
     ]
    },
    {
     "name": "stderr",
     "output_type": "stream",
     "text": [
      "Model weights saved in ./distBert/trainer\\checkpoint-572\\pytorch_model.bin\n",
      "tokenizer config file saved in ./distBert/trainer\\checkpoint-572\\tokenizer_config.json\n",
      "Special tokens file saved in ./distBert/trainer\\checkpoint-572\\special_tokens_map.json\n",
      " 20%|█▉        | 615/3080 [00:46<02:04, 19.87it/s]***** Running Evaluation *****\n",
      "  Num examples = 44\n",
      "  Batch size = 8\n",
      "                                                  \n",
      " 20%|██        | 616/3080 [00:46<02:03, 19.87it/s]Saving model checkpoint to ./distBert/trainer\\checkpoint-616\n",
      "Configuration saved in ./distBert/trainer\\checkpoint-616\\config.json\n"
     ]
    },
    {
     "name": "stdout",
     "output_type": "stream",
     "text": [
      "{'eval_loss': 0.10994704067707062, 'eval_f1': 0.7088607594936709, 'eval_roc_auc': 0.7890258215962442, 'eval_accuracy': 0.5227272727272727, 'eval_runtime': 0.0778, 'eval_samples_per_second': 565.235, 'eval_steps_per_second': 77.078, 'epoch': 14.0}\n"
     ]
    },
    {
     "name": "stderr",
     "output_type": "stream",
     "text": [
      "Model weights saved in ./distBert/trainer\\checkpoint-616\\pytorch_model.bin\n",
      "tokenizer config file saved in ./distBert/trainer\\checkpoint-616\\tokenizer_config.json\n",
      "Special tokens file saved in ./distBert/trainer\\checkpoint-616\\special_tokens_map.json\n",
      " 21%|██▏       | 659/3080 [00:49<02:01, 19.94it/s]***** Running Evaluation *****\n",
      "  Num examples = 44\n",
      "  Batch size = 8\n",
      "                                                  \n",
      " 21%|██▏       | 660/3080 [00:49<02:01, 19.94it/s]Saving model checkpoint to ./distBert/trainer\\checkpoint-660\n",
      "Configuration saved in ./distBert/trainer\\checkpoint-660\\config.json\n"
     ]
    },
    {
     "name": "stdout",
     "output_type": "stream",
     "text": [
      "{'eval_loss': 0.10410428792238235, 'eval_f1': 0.7000000000000001, 'eval_roc_auc': 0.7881455399061034, 'eval_accuracy': 0.5227272727272727, 'eval_runtime': 0.0813, 'eval_samples_per_second': 541.532, 'eval_steps_per_second': 73.845, 'epoch': 15.0}\n"
     ]
    },
    {
     "name": "stderr",
     "output_type": "stream",
     "text": [
      "Model weights saved in ./distBert/trainer\\checkpoint-660\\pytorch_model.bin\n",
      "tokenizer config file saved in ./distBert/trainer\\checkpoint-660\\tokenizer_config.json\n",
      "Special tokens file saved in ./distBert/trainer\\checkpoint-660\\special_tokens_map.json\n",
      " 23%|██▎       | 702/3080 [00:52<01:59, 19.94it/s]***** Running Evaluation *****\n",
      "  Num examples = 44\n",
      "  Batch size = 8\n",
      "                                                  \n",
      " 23%|██▎       | 704/3080 [00:52<01:59, 19.94it/s]Saving model checkpoint to ./distBert/trainer\\checkpoint-704\n",
      "Configuration saved in ./distBert/trainer\\checkpoint-704\\config.json\n"
     ]
    },
    {
     "name": "stdout",
     "output_type": "stream",
     "text": [
      "{'eval_loss': 0.10589755326509476, 'eval_f1': 0.7228915662650602, 'eval_roc_auc': 0.8080985915492958, 'eval_accuracy': 0.5454545454545454, 'eval_runtime': 0.0788, 'eval_samples_per_second': 558.33, 'eval_steps_per_second': 76.136, 'epoch': 16.0}\n"
     ]
    },
    {
     "name": "stderr",
     "output_type": "stream",
     "text": [
      "Model weights saved in ./distBert/trainer\\checkpoint-704\\pytorch_model.bin\n",
      "tokenizer config file saved in ./distBert/trainer\\checkpoint-704\\tokenizer_config.json\n",
      "Special tokens file saved in ./distBert/trainer\\checkpoint-704\\special_tokens_map.json\n",
      " 24%|██▍       | 748/3080 [00:56<01:55, 20.17it/s]***** Running Evaluation *****\n",
      "  Num examples = 44\n",
      "  Batch size = 8\n",
      "                                                  \n",
      " 24%|██▍       | 748/3080 [00:56<01:55, 20.17it/s]Saving model checkpoint to ./distBert/trainer\\checkpoint-748\n",
      "Configuration saved in ./distBert/trainer\\checkpoint-748\\config.json\n"
     ]
    },
    {
     "name": "stdout",
     "output_type": "stream",
     "text": [
      "{'eval_loss': 0.10753848403692245, 'eval_f1': 0.7000000000000001, 'eval_roc_auc': 0.7881455399061034, 'eval_accuracy': 0.5, 'eval_runtime': 0.0803, 'eval_samples_per_second': 547.712, 'eval_steps_per_second': 74.688, 'epoch': 17.0}\n"
     ]
    },
    {
     "name": "stderr",
     "output_type": "stream",
     "text": [
      "Model weights saved in ./distBert/trainer\\checkpoint-748\\pytorch_model.bin\n",
      "tokenizer config file saved in ./distBert/trainer\\checkpoint-748\\tokenizer_config.json\n",
      "Special tokens file saved in ./distBert/trainer\\checkpoint-748\\special_tokens_map.json\n",
      " 26%|██▌       | 792/3080 [00:59<01:53, 20.14it/s]***** Running Evaluation *****\n",
      "  Num examples = 44\n",
      "  Batch size = 8\n",
      "                                                  \n",
      " 26%|██▌       | 792/3080 [00:59<01:53, 20.14it/s]Saving model checkpoint to ./distBert/trainer\\checkpoint-792\n",
      "Configuration saved in ./distBert/trainer\\checkpoint-792\\config.json\n"
     ]
    },
    {
     "name": "stdout",
     "output_type": "stream",
     "text": [
      "{'eval_loss': 0.10302948951721191, 'eval_f1': 0.7142857142857143, 'eval_roc_auc': 0.8072183098591549, 'eval_accuracy': 0.5454545454545454, 'eval_runtime': 0.0783, 'eval_samples_per_second': 561.82, 'eval_steps_per_second': 76.612, 'epoch': 18.0}\n"
     ]
    },
    {
     "name": "stderr",
     "output_type": "stream",
     "text": [
      "Model weights saved in ./distBert/trainer\\checkpoint-792\\pytorch_model.bin\n",
      "tokenizer config file saved in ./distBert/trainer\\checkpoint-792\\tokenizer_config.json\n",
      "Special tokens file saved in ./distBert/trainer\\checkpoint-792\\special_tokens_map.json\n",
      " 27%|██▋       | 834/3080 [01:02<01:53, 19.82it/s]***** Running Evaluation *****\n",
      "  Num examples = 44\n",
      "  Batch size = 8\n",
      "                                                  \n",
      " 27%|██▋       | 836/3080 [01:02<01:53, 19.82it/s]Saving model checkpoint to ./distBert/trainer\\checkpoint-836\n",
      "Configuration saved in ./distBert/trainer\\checkpoint-836\\config.json\n"
     ]
    },
    {
     "name": "stdout",
     "output_type": "stream",
     "text": [
      "{'eval_loss': 0.09880641102790833, 'eval_f1': 0.7294117647058824, 'eval_roc_auc': 0.8176349765258216, 'eval_accuracy': 0.5681818181818182, 'eval_runtime': 0.0801, 'eval_samples_per_second': 549.607, 'eval_steps_per_second': 74.946, 'epoch': 19.0}\n"
     ]
    },
    {
     "name": "stderr",
     "output_type": "stream",
     "text": [
      "Model weights saved in ./distBert/trainer\\checkpoint-836\\pytorch_model.bin\n",
      "tokenizer config file saved in ./distBert/trainer\\checkpoint-836\\tokenizer_config.json\n",
      "Special tokens file saved in ./distBert/trainer\\checkpoint-836\\special_tokens_map.json\n",
      " 29%|██▊       | 878/3080 [01:05<01:50, 19.90it/s]***** Running Evaluation *****\n",
      "  Num examples = 44\n",
      "  Batch size = 8\n",
      "                                                  \n",
      " 29%|██▊       | 880/3080 [01:05<01:50, 19.90it/s]Saving model checkpoint to ./distBert/trainer\\checkpoint-880\n",
      "Configuration saved in ./distBert/trainer\\checkpoint-880\\config.json\n"
     ]
    },
    {
     "name": "stdout",
     "output_type": "stream",
     "text": [
      "{'eval_loss': 0.10103916376829147, 'eval_f1': 0.7415730337078651, 'eval_roc_auc': 0.8367077464788732, 'eval_accuracy': 0.5909090909090909, 'eval_runtime': 0.0843, 'eval_samples_per_second': 522.177, 'eval_steps_per_second': 71.206, 'epoch': 20.0}\n"
     ]
    },
    {
     "name": "stderr",
     "output_type": "stream",
     "text": [
      "Model weights saved in ./distBert/trainer\\checkpoint-880\\pytorch_model.bin\n",
      "tokenizer config file saved in ./distBert/trainer\\checkpoint-880\\tokenizer_config.json\n",
      "Special tokens file saved in ./distBert/trainer\\checkpoint-880\\special_tokens_map.json\n",
      " 30%|███       | 924/3080 [01:09<01:46, 20.28it/s]***** Running Evaluation *****\n",
      "  Num examples = 44\n",
      "  Batch size = 8\n",
      "                                                  \n",
      " 30%|███       | 924/3080 [01:09<01:46, 20.28it/s]Saving model checkpoint to ./distBert/trainer\\checkpoint-924\n",
      "Configuration saved in ./distBert/trainer\\checkpoint-924\\config.json\n"
     ]
    },
    {
     "name": "stdout",
     "output_type": "stream",
     "text": [
      "{'eval_loss': 0.09616120159626007, 'eval_f1': 0.7294117647058824, 'eval_roc_auc': 0.8176349765258216, 'eval_accuracy': 0.5681818181818182, 'eval_runtime': 0.0797, 'eval_samples_per_second': 552.219, 'eval_steps_per_second': 75.303, 'epoch': 21.0}\n"
     ]
    },
    {
     "name": "stderr",
     "output_type": "stream",
     "text": [
      "Model weights saved in ./distBert/trainer\\checkpoint-924\\pytorch_model.bin\n",
      "tokenizer config file saved in ./distBert/trainer\\checkpoint-924\\tokenizer_config.json\n",
      "Special tokens file saved in ./distBert/trainer\\checkpoint-924\\special_tokens_map.json\n",
      " 31%|███▏      | 967/3080 [01:12<01:45, 19.94it/s]***** Running Evaluation *****\n",
      "  Num examples = 44\n",
      "  Batch size = 8\n",
      "                                                  \n",
      " 31%|███▏      | 968/3080 [01:12<01:45, 19.94it/s]Saving model checkpoint to ./distBert/trainer\\checkpoint-968\n",
      "Configuration saved in ./distBert/trainer\\checkpoint-968\\config.json\n"
     ]
    },
    {
     "name": "stdout",
     "output_type": "stream",
     "text": [
      "{'eval_loss': 0.0968775823712349, 'eval_f1': 0.744186046511628, 'eval_roc_auc': 0.8280516431924883, 'eval_accuracy': 0.5681818181818182, 'eval_runtime': 0.0804, 'eval_samples_per_second': 547.087, 'eval_steps_per_second': 74.603, 'epoch': 22.0}\n"
     ]
    },
    {
     "name": "stderr",
     "output_type": "stream",
     "text": [
      "Model weights saved in ./distBert/trainer\\checkpoint-968\\pytorch_model.bin\n",
      "tokenizer config file saved in ./distBert/trainer\\checkpoint-968\\tokenizer_config.json\n",
      "Special tokens file saved in ./distBert/trainer\\checkpoint-968\\special_tokens_map.json\n",
      " 33%|███▎      | 1003/3080 [01:15<01:47, 19.33it/s]"
     ]
    },
    {
     "name": "stdout",
     "output_type": "stream",
     "text": [
      "{'loss': 0.0378, 'learning_rate': 1.3506493506493508e-05, 'epoch': 22.73}\n"
     ]
    },
    {
     "name": "stderr",
     "output_type": "stream",
     "text": [
      " 33%|███▎      | 1012/3080 [01:15<01:43, 20.00it/s]***** Running Evaluation *****\n",
      "  Num examples = 44\n",
      "  Batch size = 8\n",
      "                                                   \n",
      " 33%|███▎      | 1012/3080 [01:15<01:43, 20.00it/s]Saving model checkpoint to ./distBert/trainer\\checkpoint-1012\n",
      "Configuration saved in ./distBert/trainer\\checkpoint-1012\\config.json\n"
     ]
    },
    {
     "name": "stdout",
     "output_type": "stream",
     "text": [
      "{'eval_loss': 0.09840795397758484, 'eval_f1': 0.7294117647058824, 'eval_roc_auc': 0.8176349765258216, 'eval_accuracy': 0.5454545454545454, 'eval_runtime': 0.078, 'eval_samples_per_second': 564.454, 'eval_steps_per_second': 76.971, 'epoch': 23.0}\n"
     ]
    },
    {
     "name": "stderr",
     "output_type": "stream",
     "text": [
      "Model weights saved in ./distBert/trainer\\checkpoint-1012\\pytorch_model.bin\n",
      "tokenizer config file saved in ./distBert/trainer\\checkpoint-1012\\tokenizer_config.json\n",
      "Special tokens file saved in ./distBert/trainer\\checkpoint-1012\\special_tokens_map.json\n",
      " 34%|███▍      | 1056/3080 [01:18<01:40, 20.07it/s]***** Running Evaluation *****\n",
      "  Num examples = 44\n",
      "  Batch size = 8\n",
      "                                                   \n",
      " 34%|███▍      | 1056/3080 [01:18<01:40, 20.07it/s]Saving model checkpoint to ./distBert/trainer\\checkpoint-1056\n",
      "Configuration saved in ./distBert/trainer\\checkpoint-1056\\config.json\n"
     ]
    },
    {
     "name": "stdout",
     "output_type": "stream",
     "text": [
      "{'eval_loss': 0.10172133147716522, 'eval_f1': 0.7294117647058824, 'eval_roc_auc': 0.8176349765258216, 'eval_accuracy': 0.5681818181818182, 'eval_runtime': 0.0796, 'eval_samples_per_second': 552.742, 'eval_steps_per_second': 75.374, 'epoch': 24.0}\n"
     ]
    },
    {
     "name": "stderr",
     "output_type": "stream",
     "text": [
      "Model weights saved in ./distBert/trainer\\checkpoint-1056\\pytorch_model.bin\n",
      "tokenizer config file saved in ./distBert/trainer\\checkpoint-1056\\tokenizer_config.json\n",
      "Special tokens file saved in ./distBert/trainer\\checkpoint-1056\\special_tokens_map.json\n",
      " 36%|███▌      | 1100/3080 [01:21<01:42, 19.28it/s]***** Running Evaluation *****\n",
      "  Num examples = 44\n",
      "  Batch size = 8\n",
      "                                                   \n",
      " 36%|███▌      | 1100/3080 [01:22<01:42, 19.28it/s]Saving model checkpoint to ./distBert/trainer\\checkpoint-1100\n",
      "Configuration saved in ./distBert/trainer\\checkpoint-1100\\config.json\n"
     ]
    },
    {
     "name": "stdout",
     "output_type": "stream",
     "text": [
      "{'eval_loss': 0.10055262595415115, 'eval_f1': 0.7865168539325843, 'eval_roc_auc': 0.8593016431924883, 'eval_accuracy': 0.6136363636363636, 'eval_runtime': 0.0839, 'eval_samples_per_second': 524.559, 'eval_steps_per_second': 71.531, 'epoch': 25.0}\n"
     ]
    },
    {
     "name": "stderr",
     "output_type": "stream",
     "text": [
      "Model weights saved in ./distBert/trainer\\checkpoint-1100\\pytorch_model.bin\n",
      "tokenizer config file saved in ./distBert/trainer\\checkpoint-1100\\tokenizer_config.json\n",
      "Special tokens file saved in ./distBert/trainer\\checkpoint-1100\\special_tokens_map.json\n",
      " 37%|███▋      | 1143/3080 [01:25<01:38, 19.72it/s]***** Running Evaluation *****\n",
      "  Num examples = 44\n",
      "  Batch size = 8\n",
      "                                                   \n",
      " 37%|███▋      | 1144/3080 [01:25<01:38, 19.72it/s]Saving model checkpoint to ./distBert/trainer\\checkpoint-1144\n",
      "Configuration saved in ./distBert/trainer\\checkpoint-1144\\config.json\n"
     ]
    },
    {
     "name": "stdout",
     "output_type": "stream",
     "text": [
      "{'eval_loss': 0.10088270157575607, 'eval_f1': 0.744186046511628, 'eval_roc_auc': 0.8280516431924883, 'eval_accuracy': 0.5909090909090909, 'eval_runtime': 0.0803, 'eval_samples_per_second': 548.003, 'eval_steps_per_second': 74.728, 'epoch': 26.0}\n"
     ]
    },
    {
     "name": "stderr",
     "output_type": "stream",
     "text": [
      "Model weights saved in ./distBert/trainer\\checkpoint-1144\\pytorch_model.bin\n",
      "tokenizer config file saved in ./distBert/trainer\\checkpoint-1144\\tokenizer_config.json\n",
      "Special tokens file saved in ./distBert/trainer\\checkpoint-1144\\special_tokens_map.json\n",
      " 39%|███▊      | 1186/3080 [01:28<01:36, 19.66it/s]***** Running Evaluation *****\n",
      "  Num examples = 44\n",
      "  Batch size = 8\n",
      "                                                   \n",
      " 39%|███▊      | 1188/3080 [01:28<01:36, 19.66it/s]Saving model checkpoint to ./distBert/trainer\\checkpoint-1188\n",
      "Configuration saved in ./distBert/trainer\\checkpoint-1188\\config.json\n"
     ]
    },
    {
     "name": "stdout",
     "output_type": "stream",
     "text": [
      "{'eval_loss': 0.10606960952281952, 'eval_f1': 0.7356321839080459, 'eval_roc_auc': 0.8271713615023473, 'eval_accuracy': 0.5681818181818182, 'eval_runtime': 0.0797, 'eval_samples_per_second': 551.725, 'eval_steps_per_second': 75.235, 'epoch': 27.0}\n"
     ]
    },
    {
     "name": "stderr",
     "output_type": "stream",
     "text": [
      "Model weights saved in ./distBert/trainer\\checkpoint-1188\\pytorch_model.bin\n",
      "tokenizer config file saved in ./distBert/trainer\\checkpoint-1188\\tokenizer_config.json\n",
      "Special tokens file saved in ./distBert/trainer\\checkpoint-1188\\special_tokens_map.json\n",
      " 40%|███▉      | 1230/3080 [01:31<01:28, 20.86it/s]***** Running Evaluation *****\n",
      "  Num examples = 44\n",
      "  Batch size = 8\n",
      "                                                   \n",
      " 40%|████      | 1232/3080 [01:32<01:28, 20.86it/s]Saving model checkpoint to ./distBert/trainer\\checkpoint-1232\n",
      "Configuration saved in ./distBert/trainer\\checkpoint-1232\\config.json\n",
      " 40%|████      | 1232/3080 [01:44<01:28, 20.86it/s]"
     ]
    },
    {
     "name": "stdout",
     "output_type": "stream",
     "text": [
      "{'eval_loss': 0.10343986004590988, 'eval_f1': 0.744186046511628, 'eval_roc_auc': 0.8280516431924883, 'eval_accuracy': 0.5681818181818182, 'eval_runtime': 0.0749, 'eval_samples_per_second': 587.411, 'eval_steps_per_second': 80.102, 'epoch': 28.0}\n"
     ]
    },
    {
     "name": "stderr",
     "output_type": "stream",
     "text": [
      "Model weights saved in ./distBert/trainer\\checkpoint-1232\\pytorch_model.bin\n",
      "tokenizer config file saved in ./distBert/trainer\\checkpoint-1232\\tokenizer_config.json\n",
      "Special tokens file saved in ./distBert/trainer\\checkpoint-1232\\special_tokens_map.json\n",
      " 41%|████▏     | 1276/3080 [01:48<02:02, 14.71it/s]***** Running Evaluation *****\n",
      "  Num examples = 44\n",
      "  Batch size = 8\n",
      "                                                   \n",
      " 41%|████▏     | 1276/3080 [01:48<02:02, 14.71it/s]Saving model checkpoint to ./distBert/trainer\\checkpoint-1276\n",
      "Configuration saved in ./distBert/trainer\\checkpoint-1276\\config.json\n"
     ]
    },
    {
     "name": "stdout",
     "output_type": "stream",
     "text": [
      "{'eval_loss': 0.10393049567937851, 'eval_f1': 0.7294117647058824, 'eval_roc_auc': 0.8176349765258216, 'eval_accuracy': 0.5681818181818182, 'eval_runtime': 0.1519, 'eval_samples_per_second': 289.665, 'eval_steps_per_second': 39.5, 'epoch': 29.0}\n"
     ]
    },
    {
     "name": "stderr",
     "output_type": "stream",
     "text": [
      "Model weights saved in ./distBert/trainer\\checkpoint-1276\\pytorch_model.bin\n",
      "tokenizer config file saved in ./distBert/trainer\\checkpoint-1276\\tokenizer_config.json\n",
      "Special tokens file saved in ./distBert/trainer\\checkpoint-1276\\special_tokens_map.json\n",
      " 43%|████▎     | 1319/3080 [01:52<01:33, 18.88it/s]***** Running Evaluation *****\n",
      "  Num examples = 44\n",
      "  Batch size = 8\n",
      "                                                   \n",
      " 43%|████▎     | 1320/3080 [01:52<01:33, 18.88it/s]Saving model checkpoint to ./distBert/trainer\\checkpoint-1320\n",
      "Configuration saved in ./distBert/trainer\\checkpoint-1320\\config.json\n"
     ]
    },
    {
     "name": "stdout",
     "output_type": "stream",
     "text": [
      "{'eval_loss': 0.10477621108293533, 'eval_f1': 0.7640449438202247, 'eval_roc_auc': 0.8480046948356809, 'eval_accuracy': 0.6136363636363636, 'eval_runtime': 0.0838, 'eval_samples_per_second': 525.049, 'eval_steps_per_second': 71.598, 'epoch': 30.0}\n"
     ]
    },
    {
     "name": "stderr",
     "output_type": "stream",
     "text": [
      "Model weights saved in ./distBert/trainer\\checkpoint-1320\\pytorch_model.bin\n",
      "tokenizer config file saved in ./distBert/trainer\\checkpoint-1320\\tokenizer_config.json\n",
      "Special tokens file saved in ./distBert/trainer\\checkpoint-1320\\special_tokens_map.json\n",
      " 44%|████▍     | 1362/3080 [01:55<01:28, 19.47it/s]***** Running Evaluation *****\n",
      "  Num examples = 44\n",
      "  Batch size = 8\n",
      "                                                   \n",
      " 44%|████▍     | 1364/3080 [01:55<01:28, 19.47it/s]Saving model checkpoint to ./distBert/trainer\\checkpoint-1364\n",
      "Configuration saved in ./distBert/trainer\\checkpoint-1364\\config.json\n"
     ]
    },
    {
     "name": "stdout",
     "output_type": "stream",
     "text": [
      "{'eval_loss': 0.10388808697462082, 'eval_f1': 0.744186046511628, 'eval_roc_auc': 0.8280516431924883, 'eval_accuracy': 0.5681818181818182, 'eval_runtime': 0.0813, 'eval_samples_per_second': 541.301, 'eval_steps_per_second': 73.814, 'epoch': 31.0}\n"
     ]
    },
    {
     "name": "stderr",
     "output_type": "stream",
     "text": [
      "Model weights saved in ./distBert/trainer\\checkpoint-1364\\pytorch_model.bin\n",
      "tokenizer config file saved in ./distBert/trainer\\checkpoint-1364\\tokenizer_config.json\n",
      "Special tokens file saved in ./distBert/trainer\\checkpoint-1364\\special_tokens_map.json\n",
      " 46%|████▌     | 1407/3080 [01:58<01:25, 19.53it/s]***** Running Evaluation *****\n",
      "  Num examples = 44\n",
      "  Batch size = 8\n",
      "                                                   \n",
      " 46%|████▌     | 1408/3080 [01:59<01:25, 19.53it/s]Saving model checkpoint to ./distBert/trainer\\checkpoint-1408\n",
      "Configuration saved in ./distBert/trainer\\checkpoint-1408\\config.json\n"
     ]
    },
    {
     "name": "stdout",
     "output_type": "stream",
     "text": [
      "{'eval_loss': 0.10544486343860626, 'eval_f1': 0.7294117647058824, 'eval_roc_auc': 0.8176349765258216, 'eval_accuracy': 0.5681818181818182, 'eval_runtime': 0.0819, 'eval_samples_per_second': 537.396, 'eval_steps_per_second': 73.281, 'epoch': 32.0}\n"
     ]
    },
    {
     "name": "stderr",
     "output_type": "stream",
     "text": [
      "Model weights saved in ./distBert/trainer\\checkpoint-1408\\pytorch_model.bin\n",
      "tokenizer config file saved in ./distBert/trainer\\checkpoint-1408\\tokenizer_config.json\n",
      "Special tokens file saved in ./distBert/trainer\\checkpoint-1408\\special_tokens_map.json\n",
      " 47%|████▋     | 1451/3080 [02:02<01:23, 19.50it/s]***** Running Evaluation *****\n",
      "  Num examples = 44\n",
      "  Batch size = 8\n",
      "                                                   \n",
      " 47%|████▋     | 1452/3080 [02:02<01:23, 19.50it/s]Saving model checkpoint to ./distBert/trainer\\checkpoint-1452\n",
      "Configuration saved in ./distBert/trainer\\checkpoint-1452\\config.json\n"
     ]
    },
    {
     "name": "stdout",
     "output_type": "stream",
     "text": [
      "{'eval_loss': 0.10835123807191849, 'eval_f1': 0.7356321839080459, 'eval_roc_auc': 0.8271713615023473, 'eval_accuracy': 0.5681818181818182, 'eval_runtime': 0.0799, 'eval_samples_per_second': 550.843, 'eval_steps_per_second': 75.115, 'epoch': 33.0}\n"
     ]
    },
    {
     "name": "stderr",
     "output_type": "stream",
     "text": [
      "Model weights saved in ./distBert/trainer\\checkpoint-1452\\pytorch_model.bin\n",
      "tokenizer config file saved in ./distBert/trainer\\checkpoint-1452\\tokenizer_config.json\n",
      "Special tokens file saved in ./distBert/trainer\\checkpoint-1452\\special_tokens_map.json\n",
      " 49%|████▊     | 1495/3080 [02:05<01:20, 19.62it/s]***** Running Evaluation *****\n",
      "  Num examples = 44\n",
      "  Batch size = 8\n",
      "                                                   \n",
      " 49%|████▊     | 1496/3080 [02:05<01:20, 19.62it/s]Saving model checkpoint to ./distBert/trainer\\checkpoint-1496\n",
      "Configuration saved in ./distBert/trainer\\checkpoint-1496\\config.json\n"
     ]
    },
    {
     "name": "stdout",
     "output_type": "stream",
     "text": [
      "{'eval_loss': 0.10259617120027542, 'eval_f1': 0.7727272727272727, 'eval_roc_auc': 0.8488849765258217, 'eval_accuracy': 0.5909090909090909, 'eval_runtime': 0.0833, 'eval_samples_per_second': 528.282, 'eval_steps_per_second': 72.038, 'epoch': 34.0}\n"
     ]
    },
    {
     "name": "stderr",
     "output_type": "stream",
     "text": [
      "Model weights saved in ./distBert/trainer\\checkpoint-1496\\pytorch_model.bin\n",
      "tokenizer config file saved in ./distBert/trainer\\checkpoint-1496\\tokenizer_config.json\n",
      "Special tokens file saved in ./distBert/trainer\\checkpoint-1496\\special_tokens_map.json\n",
      " 49%|████▉     | 1503/3080 [02:06<02:42,  9.68it/s]"
     ]
    },
    {
     "name": "stdout",
     "output_type": "stream",
     "text": [
      "{'loss': 0.0127, 'learning_rate': 1.025974025974026e-05, 'epoch': 34.09}\n"
     ]
    },
    {
     "name": "stderr",
     "output_type": "stream",
     "text": [
      " 50%|████▉     | 1538/3080 [02:08<01:19, 19.49it/s]***** Running Evaluation *****\n",
      "  Num examples = 44\n",
      "  Batch size = 8\n",
      "                                                   \n",
      " 50%|█████     | 1540/3080 [02:08<01:19, 19.49it/s]Saving model checkpoint to ./distBert/trainer\\checkpoint-1540\n",
      "Configuration saved in ./distBert/trainer\\checkpoint-1540\\config.json\n"
     ]
    },
    {
     "name": "stdout",
     "output_type": "stream",
     "text": [
      "{'eval_loss': 0.10716403275728226, 'eval_f1': 0.7555555555555556, 'eval_roc_auc': 0.84712441314554, 'eval_accuracy': 0.5909090909090909, 'eval_runtime': 0.0847, 'eval_samples_per_second': 519.322, 'eval_steps_per_second': 70.817, 'epoch': 35.0}\n"
     ]
    },
    {
     "name": "stderr",
     "output_type": "stream",
     "text": [
      "Model weights saved in ./distBert/trainer\\checkpoint-1540\\pytorch_model.bin\n",
      "tokenizer config file saved in ./distBert/trainer\\checkpoint-1540\\tokenizer_config.json\n",
      "Special tokens file saved in ./distBert/trainer\\checkpoint-1540\\special_tokens_map.json\n",
      " 51%|█████▏    | 1584/3080 [02:27<01:17, 19.36it/s]***** Running Evaluation *****\n",
      "  Num examples = 44\n",
      "  Batch size = 8\n",
      "                                                   \n",
      " 51%|█████▏    | 1584/3080 [02:27<01:17, 19.36it/s]Saving model checkpoint to ./distBert/trainer\\checkpoint-1584\n",
      "Configuration saved in ./distBert/trainer\\checkpoint-1584\\config.json\n"
     ]
    },
    {
     "name": "stdout",
     "output_type": "stream",
     "text": [
      "{'eval_loss': 0.10589144378900528, 'eval_f1': 0.75, 'eval_roc_auc': 0.8375880281690141, 'eval_accuracy': 0.5909090909090909, 'eval_runtime': 0.0803, 'eval_samples_per_second': 548.13, 'eval_steps_per_second': 74.745, 'epoch': 36.0}\n"
     ]
    },
    {
     "name": "stderr",
     "output_type": "stream",
     "text": [
      "Model weights saved in ./distBert/trainer\\checkpoint-1584\\pytorch_model.bin\n",
      "tokenizer config file saved in ./distBert/trainer\\checkpoint-1584\\tokenizer_config.json\n",
      "Special tokens file saved in ./distBert/trainer\\checkpoint-1584\\special_tokens_map.json\n",
      " 53%|█████▎    | 1627/3080 [02:30<01:14, 19.49it/s]***** Running Evaluation *****\n",
      "  Num examples = 44\n",
      "  Batch size = 8\n",
      "                                                   \n",
      " 53%|█████▎    | 1628/3080 [02:30<01:14, 19.49it/s]Saving model checkpoint to ./distBert/trainer\\checkpoint-1628\n",
      "Configuration saved in ./distBert/trainer\\checkpoint-1628\\config.json\n"
     ]
    },
    {
     "name": "stdout",
     "output_type": "stream",
     "text": [
      "{'eval_loss': 0.10904254764318466, 'eval_f1': 0.7640449438202247, 'eval_roc_auc': 0.8480046948356809, 'eval_accuracy': 0.5909090909090909, 'eval_runtime': 0.0818, 'eval_samples_per_second': 538.006, 'eval_steps_per_second': 73.364, 'epoch': 37.0}\n"
     ]
    },
    {
     "name": "stderr",
     "output_type": "stream",
     "text": [
      "Model weights saved in ./distBert/trainer\\checkpoint-1628\\pytorch_model.bin\n",
      "tokenizer config file saved in ./distBert/trainer\\checkpoint-1628\\tokenizer_config.json\n",
      "Special tokens file saved in ./distBert/trainer\\checkpoint-1628\\special_tokens_map.json\n",
      " 54%|█████▍    | 1671/3080 [02:33<01:12, 19.42it/s]***** Running Evaluation *****\n",
      "  Num examples = 44\n",
      "  Batch size = 8\n",
      "                                                   \n",
      " 54%|█████▍    | 1672/3080 [02:34<01:12, 19.42it/s]Saving model checkpoint to ./distBert/trainer\\checkpoint-1672\n",
      "Configuration saved in ./distBert/trainer\\checkpoint-1672\\config.json\n"
     ]
    },
    {
     "name": "stdout",
     "output_type": "stream",
     "text": [
      "{'eval_loss': 0.10850941389799118, 'eval_f1': 0.75, 'eval_roc_auc': 0.8375880281690141, 'eval_accuracy': 0.5909090909090909, 'eval_runtime': 0.0828, 'eval_samples_per_second': 531.093, 'eval_steps_per_second': 72.422, 'epoch': 38.0}\n"
     ]
    },
    {
     "name": "stderr",
     "output_type": "stream",
     "text": [
      "Model weights saved in ./distBert/trainer\\checkpoint-1672\\pytorch_model.bin\n",
      "tokenizer config file saved in ./distBert/trainer\\checkpoint-1672\\tokenizer_config.json\n",
      "Special tokens file saved in ./distBert/trainer\\checkpoint-1672\\special_tokens_map.json\n",
      " 56%|█████▌    | 1714/3080 [02:37<01:10, 19.36it/s]***** Running Evaluation *****\n",
      "  Num examples = 44\n",
      "  Batch size = 8\n",
      "                                                   \n",
      " 56%|█████▌    | 1716/3080 [02:37<01:10, 19.36it/s]Saving model checkpoint to ./distBert/trainer\\checkpoint-1716\n",
      "Configuration saved in ./distBert/trainer\\checkpoint-1716\\config.json\n"
     ]
    },
    {
     "name": "stdout",
     "output_type": "stream",
     "text": [
      "{'eval_loss': 0.10928516834974289, 'eval_f1': 0.7415730337078651, 'eval_roc_auc': 0.8367077464788732, 'eval_accuracy': 0.6136363636363636, 'eval_runtime': 0.0818, 'eval_samples_per_second': 537.858, 'eval_steps_per_second': 73.344, 'epoch': 39.0}\n"
     ]
    },
    {
     "name": "stderr",
     "output_type": "stream",
     "text": [
      "Model weights saved in ./distBert/trainer\\checkpoint-1716\\pytorch_model.bin\n",
      "tokenizer config file saved in ./distBert/trainer\\checkpoint-1716\\tokenizer_config.json\n",
      "Special tokens file saved in ./distBert/trainer\\checkpoint-1716\\special_tokens_map.json\n",
      " 57%|█████▋    | 1759/3080 [02:40<01:07, 19.46it/s]***** Running Evaluation *****\n",
      "  Num examples = 44\n",
      "  Batch size = 8\n",
      "                                                   \n",
      " 57%|█████▋    | 1760/3080 [02:40<01:07, 19.46it/s]Saving model checkpoint to ./distBert/trainer\\checkpoint-1760\n",
      "Configuration saved in ./distBert/trainer\\checkpoint-1760\\config.json\n"
     ]
    },
    {
     "name": "stdout",
     "output_type": "stream",
     "text": [
      "{'eval_loss': 0.10583693534135818, 'eval_f1': 0.7865168539325843, 'eval_roc_auc': 0.8593016431924883, 'eval_accuracy': 0.6136363636363636, 'eval_runtime': 0.0809, 'eval_samples_per_second': 543.688, 'eval_steps_per_second': 74.139, 'epoch': 40.0}\n"
     ]
    },
    {
     "name": "stderr",
     "output_type": "stream",
     "text": [
      "Model weights saved in ./distBert/trainer\\checkpoint-1760\\pytorch_model.bin\n",
      "tokenizer config file saved in ./distBert/trainer\\checkpoint-1760\\tokenizer_config.json\n",
      "Special tokens file saved in ./distBert/trainer\\checkpoint-1760\\special_tokens_map.json\n",
      " 59%|█████▊    | 1803/3080 [02:43<01:06, 19.34it/s]***** Running Evaluation *****\n",
      "  Num examples = 44\n",
      "  Batch size = 8\n",
      "                                                   \n",
      " 59%|█████▊    | 1804/3080 [02:44<01:05, 19.34it/s]Saving model checkpoint to ./distBert/trainer\\checkpoint-1804\n",
      "Configuration saved in ./distBert/trainer\\checkpoint-1804\\config.json\n"
     ]
    },
    {
     "name": "stdout",
     "output_type": "stream",
     "text": [
      "{'eval_loss': 0.10956092178821564, 'eval_f1': 0.7191011235955055, 'eval_roc_auc': 0.8254107981220656, 'eval_accuracy': 0.5909090909090909, 'eval_runtime': 0.0848, 'eval_samples_per_second': 518.947, 'eval_steps_per_second': 70.765, 'epoch': 41.0}\n"
     ]
    },
    {
     "name": "stderr",
     "output_type": "stream",
     "text": [
      " 59%|█████▊    | 1804/3080 [02:55<01:05, 19.34it/s]Model weights saved in ./distBert/trainer\\checkpoint-1804\\pytorch_model.bin\n",
      "tokenizer config file saved in ./distBert/trainer\\checkpoint-1804\\tokenizer_config.json\n",
      "Special tokens file saved in ./distBert/trainer\\checkpoint-1804\\special_tokens_map.json\n",
      " 60%|█████▉    | 1846/3080 [03:00<01:05, 18.77it/s]***** Running Evaluation *****\n",
      "  Num examples = 44\n",
      "  Batch size = 8\n",
      "                                                   \n",
      " 60%|██████    | 1848/3080 [03:00<01:05, 18.77it/s]Saving model checkpoint to ./distBert/trainer\\checkpoint-1848\n",
      "Configuration saved in ./distBert/trainer\\checkpoint-1848\\config.json\n"
     ]
    },
    {
     "name": "stdout",
     "output_type": "stream",
     "text": [
      "{'eval_loss': 0.10979161411523819, 'eval_f1': 0.7727272727272727, 'eval_roc_auc': 0.8488849765258217, 'eval_accuracy': 0.6136363636363636, 'eval_runtime': 0.0837, 'eval_samples_per_second': 525.384, 'eval_steps_per_second': 71.643, 'epoch': 42.0}\n"
     ]
    },
    {
     "name": "stderr",
     "output_type": "stream",
     "text": [
      "Model weights saved in ./distBert/trainer\\checkpoint-1848\\pytorch_model.bin\n",
      "tokenizer config file saved in ./distBert/trainer\\checkpoint-1848\\tokenizer_config.json\n",
      "Special tokens file saved in ./distBert/trainer\\checkpoint-1848\\special_tokens_map.json\n",
      " 61%|██████▏   | 1890/3080 [03:03<01:00, 19.53it/s]***** Running Evaluation *****\n",
      "  Num examples = 44\n",
      "  Batch size = 8\n",
      "                                                   \n",
      " 61%|██████▏   | 1892/3080 [03:03<01:00, 19.53it/s]Saving model checkpoint to ./distBert/trainer\\checkpoint-1892\n",
      "Configuration saved in ./distBert/trainer\\checkpoint-1892\\config.json\n"
     ]
    },
    {
     "name": "stdout",
     "output_type": "stream",
     "text": [
      "{'eval_loss': 0.11145028471946716, 'eval_f1': 0.75, 'eval_roc_auc': 0.8375880281690141, 'eval_accuracy': 0.5909090909090909, 'eval_runtime': 0.0816, 'eval_samples_per_second': 539.115, 'eval_steps_per_second': 73.516, 'epoch': 43.0}\n"
     ]
    },
    {
     "name": "stderr",
     "output_type": "stream",
     "text": [
      " 61%|██████▏   | 1892/3080 [03:15<01:00, 19.53it/s]Model weights saved in ./distBert/trainer\\checkpoint-1892\\pytorch_model.bin\n",
      "tokenizer config file saved in ./distBert/trainer\\checkpoint-1892\\tokenizer_config.json\n",
      "Special tokens file saved in ./distBert/trainer\\checkpoint-1892\\special_tokens_map.json\n",
      " 63%|██████▎   | 1935/3080 [03:20<01:00, 18.94it/s]***** Running Evaluation *****\n",
      "  Num examples = 44\n",
      "  Batch size = 8\n",
      "                                                   \n",
      " 63%|██████▎   | 1936/3080 [03:20<01:00, 18.94it/s]Saving model checkpoint to ./distBert/trainer\\checkpoint-1936\n",
      "Configuration saved in ./distBert/trainer\\checkpoint-1936\\config.json\n"
     ]
    },
    {
     "name": "stdout",
     "output_type": "stream",
     "text": [
      "{'eval_loss': 0.11423802375793457, 'eval_f1': 0.75, 'eval_roc_auc': 0.8375880281690141, 'eval_accuracy': 0.5909090909090909, 'eval_runtime': 0.0811, 'eval_samples_per_second': 542.658, 'eval_steps_per_second': 73.999, 'epoch': 44.0}\n"
     ]
    },
    {
     "name": "stderr",
     "output_type": "stream",
     "text": [
      "Model weights saved in ./distBert/trainer\\checkpoint-1936\\pytorch_model.bin\n",
      "tokenizer config file saved in ./distBert/trainer\\checkpoint-1936\\tokenizer_config.json\n",
      "Special tokens file saved in ./distBert/trainer\\checkpoint-1936\\special_tokens_map.json\n",
      " 64%|██████▍   | 1979/3080 [03:36<00:57, 19.03it/s]***** Running Evaluation *****\n",
      "  Num examples = 44\n",
      "  Batch size = 8\n",
      "                                                   \n",
      " 64%|██████▍   | 1980/3080 [03:36<00:57, 19.03it/s]Saving model checkpoint to ./distBert/trainer\\checkpoint-1980\n",
      "Configuration saved in ./distBert/trainer\\checkpoint-1980\\config.json\n"
     ]
    },
    {
     "name": "stdout",
     "output_type": "stream",
     "text": [
      "{'eval_loss': 0.11061560362577438, 'eval_f1': 0.7356321839080459, 'eval_roc_auc': 0.8271713615023473, 'eval_accuracy': 0.5909090909090909, 'eval_runtime': 0.0798, 'eval_samples_per_second': 551.289, 'eval_steps_per_second': 75.176, 'epoch': 45.0}\n"
     ]
    },
    {
     "name": "stderr",
     "output_type": "stream",
     "text": [
      "Model weights saved in ./distBert/trainer\\checkpoint-1980\\pytorch_model.bin\n",
      "tokenizer config file saved in ./distBert/trainer\\checkpoint-1980\\tokenizer_config.json\n",
      "Special tokens file saved in ./distBert/trainer\\checkpoint-1980\\special_tokens_map.json\n",
      " 65%|██████▌   | 2002/3080 [03:38<01:00, 17.79it/s]"
     ]
    },
    {
     "name": "stdout",
     "output_type": "stream",
     "text": [
      "{'loss': 0.0069, 'learning_rate': 7.012987012987014e-06, 'epoch': 45.45}\n"
     ]
    },
    {
     "name": "stderr",
     "output_type": "stream",
     "text": [
      " 66%|██████▌   | 2022/3080 [03:39<00:53, 19.65it/s]***** Running Evaluation *****\n",
      "  Num examples = 44\n",
      "  Batch size = 8\n",
      "                                                   \n",
      " 66%|██████▌   | 2024/3080 [03:39<00:53, 19.65it/s]Saving model checkpoint to ./distBert/trainer\\checkpoint-2024\n",
      "Configuration saved in ./distBert/trainer\\checkpoint-2024\\config.json\n"
     ]
    },
    {
     "name": "stdout",
     "output_type": "stream",
     "text": [
      "{'eval_loss': 0.11183417588472366, 'eval_f1': 0.7692307692307692, 'eval_roc_auc': 0.8575410798122065, 'eval_accuracy': 0.6136363636363636, 'eval_runtime': 0.082, 'eval_samples_per_second': 536.702, 'eval_steps_per_second': 73.187, 'epoch': 46.0}\n"
     ]
    },
    {
     "name": "stderr",
     "output_type": "stream",
     "text": [
      " 66%|██████▌   | 2024/3080 [03:50<00:53, 19.65it/s]Model weights saved in ./distBert/trainer\\checkpoint-2024\\pytorch_model.bin\n",
      "tokenizer config file saved in ./distBert/trainer\\checkpoint-2024\\tokenizer_config.json\n",
      "Special tokens file saved in ./distBert/trainer\\checkpoint-2024\\special_tokens_map.json\n",
      " 67%|██████▋   | 2066/3080 [03:55<00:53, 19.06it/s]***** Running Evaluation *****\n",
      "  Num examples = 44\n",
      "  Batch size = 8\n",
      "                                                   \n",
      " 67%|██████▋   | 2068/3080 [03:55<00:53, 19.06it/s]Saving model checkpoint to ./distBert/trainer\\checkpoint-2068\n",
      "Configuration saved in ./distBert/trainer\\checkpoint-2068\\config.json\n"
     ]
    },
    {
     "name": "stdout",
     "output_type": "stream",
     "text": [
      "{'eval_loss': 0.11011917889118195, 'eval_f1': 0.7640449438202247, 'eval_roc_auc': 0.8480046948356809, 'eval_accuracy': 0.5909090909090909, 'eval_runtime': 0.0823, 'eval_samples_per_second': 534.456, 'eval_steps_per_second': 72.88, 'epoch': 47.0}\n"
     ]
    },
    {
     "name": "stderr",
     "output_type": "stream",
     "text": [
      "Model weights saved in ./distBert/trainer\\checkpoint-2068\\pytorch_model.bin\n",
      "tokenizer config file saved in ./distBert/trainer\\checkpoint-2068\\tokenizer_config.json\n",
      "Special tokens file saved in ./distBert/trainer\\checkpoint-2068\\special_tokens_map.json\n",
      " 69%|██████▊   | 2111/3080 [04:12<00:50, 19.10it/s]***** Running Evaluation *****\n",
      "  Num examples = 44\n",
      "  Batch size = 8\n",
      "                                                   \n",
      " 69%|██████▊   | 2112/3080 [04:12<00:50, 19.10it/s]Saving model checkpoint to ./distBert/trainer\\checkpoint-2112\n",
      "Configuration saved in ./distBert/trainer\\checkpoint-2112\\config.json\n"
     ]
    },
    {
     "name": "stdout",
     "output_type": "stream",
     "text": [
      "{'eval_loss': 0.11163648962974548, 'eval_f1': 0.7777777777777777, 'eval_roc_auc': 0.8584213615023473, 'eval_accuracy': 0.6136363636363636, 'eval_runtime': 0.0837, 'eval_samples_per_second': 525.404, 'eval_steps_per_second': 71.646, 'epoch': 48.0}\n"
     ]
    },
    {
     "name": "stderr",
     "output_type": "stream",
     "text": [
      "Model weights saved in ./distBert/trainer\\checkpoint-2112\\pytorch_model.bin\n",
      "tokenizer config file saved in ./distBert/trainer\\checkpoint-2112\\tokenizer_config.json\n",
      "Special tokens file saved in ./distBert/trainer\\checkpoint-2112\\special_tokens_map.json\n",
      " 70%|██████▉   | 2154/3080 [04:15<00:47, 19.65it/s]***** Running Evaluation *****\n",
      "  Num examples = 44\n",
      "  Batch size = 8\n",
      "                                                   \n",
      " 70%|███████   | 2156/3080 [04:15<00:47, 19.65it/s]Saving model checkpoint to ./distBert/trainer\\checkpoint-2156\n",
      "Configuration saved in ./distBert/trainer\\checkpoint-2156\\config.json\n",
      " 70%|███████   | 2156/3080 [04:26<00:47, 19.65it/s]"
     ]
    },
    {
     "name": "stdout",
     "output_type": "stream",
     "text": [
      "{'eval_loss': 0.11387345939874649, 'eval_f1': 0.7640449438202247, 'eval_roc_auc': 0.8480046948356809, 'eval_accuracy': 0.6136363636363636, 'eval_runtime': 0.0824, 'eval_samples_per_second': 534.209, 'eval_steps_per_second': 72.847, 'epoch': 49.0}\n"
     ]
    },
    {
     "name": "stderr",
     "output_type": "stream",
     "text": [
      "Model weights saved in ./distBert/trainer\\checkpoint-2156\\pytorch_model.bin\n",
      "tokenizer config file saved in ./distBert/trainer\\checkpoint-2156\\tokenizer_config.json\n",
      "Special tokens file saved in ./distBert/trainer\\checkpoint-2156\\special_tokens_map.json\n",
      " 71%|███████▏  | 2199/3080 [04:30<00:46, 19.12it/s]***** Running Evaluation *****\n",
      "  Num examples = 44\n",
      "  Batch size = 8\n",
      "                                                   \n",
      " 71%|███████▏  | 2200/3080 [04:31<00:46, 19.12it/s]Saving model checkpoint to ./distBert/trainer\\checkpoint-2200\n",
      "Configuration saved in ./distBert/trainer\\checkpoint-2200\\config.json\n"
     ]
    },
    {
     "name": "stdout",
     "output_type": "stream",
     "text": [
      "{'eval_loss': 0.11568133533000946, 'eval_f1': 0.7777777777777777, 'eval_roc_auc': 0.8584213615023473, 'eval_accuracy': 0.6136363636363636, 'eval_runtime': 0.0808, 'eval_samples_per_second': 544.673, 'eval_steps_per_second': 74.274, 'epoch': 50.0}\n"
     ]
    },
    {
     "name": "stderr",
     "output_type": "stream",
     "text": [
      "Model weights saved in ./distBert/trainer\\checkpoint-2200\\pytorch_model.bin\n",
      "tokenizer config file saved in ./distBert/trainer\\checkpoint-2200\\tokenizer_config.json\n",
      "Special tokens file saved in ./distBert/trainer\\checkpoint-2200\\special_tokens_map.json\n",
      " 73%|███████▎  | 2242/3080 [04:48<00:44, 18.88it/s]***** Running Evaluation *****\n",
      "  Num examples = 44\n",
      "  Batch size = 8\n",
      "                                                   \n",
      " 73%|███████▎  | 2244/3080 [04:48<00:44, 18.88it/s]Saving model checkpoint to ./distBert/trainer\\checkpoint-2244\n",
      "Configuration saved in ./distBert/trainer\\checkpoint-2244\\config.json\n"
     ]
    },
    {
     "name": "stdout",
     "output_type": "stream",
     "text": [
      "{'eval_loss': 0.11182989925146103, 'eval_f1': 0.7777777777777777, 'eval_roc_auc': 0.8584213615023473, 'eval_accuracy': 0.6136363636363636, 'eval_runtime': 0.0837, 'eval_samples_per_second': 525.401, 'eval_steps_per_second': 71.646, 'epoch': 51.0}\n"
     ]
    },
    {
     "name": "stderr",
     "output_type": "stream",
     "text": [
      "Model weights saved in ./distBert/trainer\\checkpoint-2244\\pytorch_model.bin\n",
      "tokenizer config file saved in ./distBert/trainer\\checkpoint-2244\\tokenizer_config.json\n",
      "Special tokens file saved in ./distBert/trainer\\checkpoint-2244\\special_tokens_map.json\n",
      " 74%|███████▍  | 2287/3080 [04:51<00:40, 19.61it/s]***** Running Evaluation *****\n",
      "  Num examples = 44\n",
      "  Batch size = 8\n",
      "                                                   \n",
      " 74%|███████▍  | 2288/3080 [04:51<00:40, 19.61it/s]Saving model checkpoint to ./distBert/trainer\\checkpoint-2288\n",
      "Configuration saved in ./distBert/trainer\\checkpoint-2288\\config.json\n",
      " 74%|███████▍  | 2288/3080 [05:03<00:40, 19.61it/s]"
     ]
    },
    {
     "name": "stdout",
     "output_type": "stream",
     "text": [
      "{'eval_loss': 0.11479707062244415, 'eval_f1': 0.7777777777777777, 'eval_roc_auc': 0.8584213615023473, 'eval_accuracy': 0.6136363636363636, 'eval_runtime': 0.0798, 'eval_samples_per_second': 551.691, 'eval_steps_per_second': 75.231, 'epoch': 52.0}\n"
     ]
    },
    {
     "name": "stderr",
     "output_type": "stream",
     "text": [
      "Model weights saved in ./distBert/trainer\\checkpoint-2288\\pytorch_model.bin\n",
      "tokenizer config file saved in ./distBert/trainer\\checkpoint-2288\\tokenizer_config.json\n",
      "Special tokens file saved in ./distBert/trainer\\checkpoint-2288\\special_tokens_map.json\n",
      " 76%|███████▌  | 2331/3080 [05:08<00:39, 18.99it/s]***** Running Evaluation *****\n",
      "  Num examples = 44\n",
      "  Batch size = 8\n",
      "                                                   \n",
      " 76%|███████▌  | 2332/3080 [05:08<00:39, 18.99it/s]Saving model checkpoint to ./distBert/trainer\\checkpoint-2332\n",
      "Configuration saved in ./distBert/trainer\\checkpoint-2332\\config.json\n"
     ]
    },
    {
     "name": "stdout",
     "output_type": "stream",
     "text": [
      "{'eval_loss': 0.11366751790046692, 'eval_f1': 0.7777777777777777, 'eval_roc_auc': 0.8584213615023473, 'eval_accuracy': 0.6136363636363636, 'eval_runtime': 0.0811, 'eval_samples_per_second': 542.244, 'eval_steps_per_second': 73.942, 'epoch': 53.0}\n"
     ]
    },
    {
     "name": "stderr",
     "output_type": "stream",
     "text": [
      "Model weights saved in ./distBert/trainer\\checkpoint-2332\\pytorch_model.bin\n",
      "tokenizer config file saved in ./distBert/trainer\\checkpoint-2332\\tokenizer_config.json\n",
      "Special tokens file saved in ./distBert/trainer\\checkpoint-2332\\special_tokens_map.json\n",
      " 77%|███████▋  | 2375/3080 [05:25<00:37, 19.00it/s]***** Running Evaluation *****\n",
      "  Num examples = 44\n",
      "  Batch size = 8\n",
      "                                                   \n",
      " 77%|███████▋  | 2376/3080 [05:25<00:37, 19.00it/s]Saving model checkpoint to ./distBert/trainer\\checkpoint-2376\n",
      "Configuration saved in ./distBert/trainer\\checkpoint-2376\\config.json\n"
     ]
    },
    {
     "name": "stdout",
     "output_type": "stream",
     "text": [
      "{'eval_loss': 0.11394136399030685, 'eval_f1': 0.7640449438202247, 'eval_roc_auc': 0.8480046948356809, 'eval_accuracy': 0.5909090909090909, 'eval_runtime': 0.0808, 'eval_samples_per_second': 544.401, 'eval_steps_per_second': 74.237, 'epoch': 54.0}\n"
     ]
    },
    {
     "name": "stderr",
     "output_type": "stream",
     "text": [
      "Model weights saved in ./distBert/trainer\\checkpoint-2376\\pytorch_model.bin\n",
      "tokenizer config file saved in ./distBert/trainer\\checkpoint-2376\\tokenizer_config.json\n",
      "Special tokens file saved in ./distBert/trainer\\checkpoint-2376\\special_tokens_map.json\n",
      " 79%|███████▊  | 2418/3080 [05:28<00:33, 19.57it/s]***** Running Evaluation *****\n",
      "  Num examples = 44\n",
      "  Batch size = 8\n",
      "                                                   \n",
      " 79%|███████▊  | 2420/3080 [05:29<00:33, 19.57it/s]Saving model checkpoint to ./distBert/trainer\\checkpoint-2420\n",
      "Configuration saved in ./distBert/trainer\\checkpoint-2420\\config.json\n"
     ]
    },
    {
     "name": "stdout",
     "output_type": "stream",
     "text": [
      "{'eval_loss': 0.11723800003528595, 'eval_f1': 0.7640449438202247, 'eval_roc_auc': 0.8480046948356809, 'eval_accuracy': 0.6136363636363636, 'eval_runtime': 0.0809, 'eval_samples_per_second': 543.912, 'eval_steps_per_second': 74.17, 'epoch': 55.0}\n"
     ]
    },
    {
     "name": "stderr",
     "output_type": "stream",
     "text": [
      " 79%|███████▊  | 2420/3080 [05:39<00:33, 19.57it/s]Model weights saved in ./distBert/trainer\\checkpoint-2420\\pytorch_model.bin\n",
      "tokenizer config file saved in ./distBert/trainer\\checkpoint-2420\\tokenizer_config.json\n",
      "Special tokens file saved in ./distBert/trainer\\checkpoint-2420\\special_tokens_map.json\n",
      " 80%|███████▉  | 2463/3080 [05:44<00:32, 18.91it/s]***** Running Evaluation *****\n",
      "  Num examples = 44\n",
      "  Batch size = 8\n",
      "                                                   \n",
      " 80%|████████  | 2464/3080 [05:44<00:32, 18.91it/s]Saving model checkpoint to ./distBert/trainer\\checkpoint-2464\n",
      "Configuration saved in ./distBert/trainer\\checkpoint-2464\\config.json\n"
     ]
    },
    {
     "name": "stdout",
     "output_type": "stream",
     "text": [
      "{'eval_loss': 0.11645407974720001, 'eval_f1': 0.75, 'eval_roc_auc': 0.8375880281690141, 'eval_accuracy': 0.5909090909090909, 'eval_runtime': 0.083, 'eval_samples_per_second': 530.269, 'eval_steps_per_second': 72.309, 'epoch': 56.0}\n"
     ]
    },
    {
     "name": "stderr",
     "output_type": "stream",
     "text": [
      "Model weights saved in ./distBert/trainer\\checkpoint-2464\\pytorch_model.bin\n",
      "tokenizer config file saved in ./distBert/trainer\\checkpoint-2464\\tokenizer_config.json\n",
      "Special tokens file saved in ./distBert/trainer\\checkpoint-2464\\special_tokens_map.json\n",
      " 81%|████████▏ | 2503/3080 [06:01<00:31, 18.27it/s]"
     ]
    },
    {
     "name": "stdout",
     "output_type": "stream",
     "text": [
      "{'loss': 0.0047, 'learning_rate': 3.7662337662337666e-06, 'epoch': 56.82}\n"
     ]
    },
    {
     "name": "stderr",
     "output_type": "stream",
     "text": [
      " 81%|████████▏ | 2507/3080 [06:01<00:30, 18.59it/s]***** Running Evaluation *****\n",
      "  Num examples = 44\n",
      "  Batch size = 8\n",
      "                                                   \n",
      " 81%|████████▏ | 2508/3080 [06:01<00:30, 18.59it/s]Saving model checkpoint to ./distBert/trainer\\checkpoint-2508\n",
      "Configuration saved in ./distBert/trainer\\checkpoint-2508\\config.json\n"
     ]
    },
    {
     "name": "stdout",
     "output_type": "stream",
     "text": [
      "{'eval_loss': 0.11603192985057831, 'eval_f1': 0.7640449438202247, 'eval_roc_auc': 0.8480046948356809, 'eval_accuracy': 0.5909090909090909, 'eval_runtime': 0.0824, 'eval_samples_per_second': 533.849, 'eval_steps_per_second': 72.798, 'epoch': 57.0}\n"
     ]
    },
    {
     "name": "stderr",
     "output_type": "stream",
     "text": [
      "Model weights saved in ./distBert/trainer\\checkpoint-2508\\pytorch_model.bin\n",
      "tokenizer config file saved in ./distBert/trainer\\checkpoint-2508\\tokenizer_config.json\n",
      "Special tokens file saved in ./distBert/trainer\\checkpoint-2508\\special_tokens_map.json\n",
      " 83%|████████▎ | 2550/3080 [06:04<00:27, 19.44it/s]***** Running Evaluation *****\n",
      "  Num examples = 44\n",
      "  Batch size = 8\n",
      "                                                   \n",
      " 83%|████████▎ | 2552/3080 [06:04<00:27, 19.44it/s]Saving model checkpoint to ./distBert/trainer\\checkpoint-2552\n",
      "Configuration saved in ./distBert/trainer\\checkpoint-2552\\config.json\n",
      " 83%|████████▎ | 2552/3080 [06:16<00:27, 19.44it/s]"
     ]
    },
    {
     "name": "stdout",
     "output_type": "stream",
     "text": [
      "{'eval_loss': 0.11758578568696976, 'eval_f1': 0.7640449438202247, 'eval_roc_auc': 0.8480046948356809, 'eval_accuracy': 0.5909090909090909, 'eval_runtime': 0.0808, 'eval_samples_per_second': 544.842, 'eval_steps_per_second': 74.297, 'epoch': 58.0}\n"
     ]
    },
    {
     "name": "stderr",
     "output_type": "stream",
     "text": [
      "Model weights saved in ./distBert/trainer\\checkpoint-2552\\pytorch_model.bin\n",
      "tokenizer config file saved in ./distBert/trainer\\checkpoint-2552\\tokenizer_config.json\n",
      "Special tokens file saved in ./distBert/trainer\\checkpoint-2552\\special_tokens_map.json\n",
      " 84%|████████▍ | 2596/3080 [06:19<00:24, 19.38it/s]***** Running Evaluation *****\n",
      "  Num examples = 44\n",
      "  Batch size = 8\n",
      "                                                   \n",
      " 84%|████████▍ | 2596/3080 [06:19<00:24, 19.38it/s]Saving model checkpoint to ./distBert/trainer\\checkpoint-2596\n",
      "Configuration saved in ./distBert/trainer\\checkpoint-2596\\config.json\n"
     ]
    },
    {
     "name": "stdout",
     "output_type": "stream",
     "text": [
      "{'eval_loss': 0.11554960906505585, 'eval_f1': 0.7640449438202247, 'eval_roc_auc': 0.8480046948356809, 'eval_accuracy': 0.5909090909090909, 'eval_runtime': 0.0803, 'eval_samples_per_second': 547.813, 'eval_steps_per_second': 74.702, 'epoch': 59.0}\n"
     ]
    },
    {
     "name": "stderr",
     "output_type": "stream",
     "text": [
      "Model weights saved in ./distBert/trainer\\checkpoint-2596\\pytorch_model.bin\n",
      "tokenizer config file saved in ./distBert/trainer\\checkpoint-2596\\tokenizer_config.json\n",
      "Special tokens file saved in ./distBert/trainer\\checkpoint-2596\\special_tokens_map.json\n",
      " 86%|████████▌ | 2639/3080 [06:37<00:23, 18.95it/s]***** Running Evaluation *****\n",
      "  Num examples = 44\n",
      "  Batch size = 8\n",
      "                                                   \n",
      " 86%|████████▌ | 2640/3080 [06:37<00:23, 18.95it/s]Saving model checkpoint to ./distBert/trainer\\checkpoint-2640\n",
      "Configuration saved in ./distBert/trainer\\checkpoint-2640\\config.json\n"
     ]
    },
    {
     "name": "stdout",
     "output_type": "stream",
     "text": [
      "{'eval_loss': 0.11878946423530579, 'eval_f1': 0.75, 'eval_roc_auc': 0.8375880281690141, 'eval_accuracy': 0.5909090909090909, 'eval_runtime': 0.0827, 'eval_samples_per_second': 531.738, 'eval_steps_per_second': 72.51, 'epoch': 60.0}\n"
     ]
    },
    {
     "name": "stderr",
     "output_type": "stream",
     "text": [
      "Model weights saved in ./distBert/trainer\\checkpoint-2640\\pytorch_model.bin\n",
      "tokenizer config file saved in ./distBert/trainer\\checkpoint-2640\\tokenizer_config.json\n",
      "Special tokens file saved in ./distBert/trainer\\checkpoint-2640\\special_tokens_map.json\n",
      " 87%|████████▋ | 2682/3080 [06:40<00:20, 19.57it/s]***** Running Evaluation *****\n",
      "  Num examples = 44\n",
      "  Batch size = 8\n",
      "                                                   \n",
      " 87%|████████▋ | 2684/3080 [06:40<00:20, 19.57it/s]Saving model checkpoint to ./distBert/trainer\\checkpoint-2684\n",
      "Configuration saved in ./distBert/trainer\\checkpoint-2684\\config.json\n"
     ]
    },
    {
     "name": "stdout",
     "output_type": "stream",
     "text": [
      "{'eval_loss': 0.11695017665624619, 'eval_f1': 0.7640449438202247, 'eval_roc_auc': 0.8480046948356809, 'eval_accuracy': 0.5909090909090909, 'eval_runtime': 0.082, 'eval_samples_per_second': 536.27, 'eval_steps_per_second': 73.128, 'epoch': 61.0}\n"
     ]
    },
    {
     "name": "stderr",
     "output_type": "stream",
     "text": [
      " 87%|████████▋ | 2684/3080 [06:51<00:20, 19.57it/s]Model weights saved in ./distBert/trainer\\checkpoint-2684\\pytorch_model.bin\n",
      "tokenizer config file saved in ./distBert/trainer\\checkpoint-2684\\tokenizer_config.json\n",
      "Special tokens file saved in ./distBert/trainer\\checkpoint-2684\\special_tokens_map.json\n",
      " 89%|████████▊ | 2727/3080 [06:55<00:18, 19.16it/s]***** Running Evaluation *****\n",
      "  Num examples = 44\n",
      "  Batch size = 8\n",
      "                                                   \n",
      " 89%|████████▊ | 2728/3080 [06:55<00:18, 19.16it/s]Saving model checkpoint to ./distBert/trainer\\checkpoint-2728\n",
      "Configuration saved in ./distBert/trainer\\checkpoint-2728\\config.json\n"
     ]
    },
    {
     "name": "stdout",
     "output_type": "stream",
     "text": [
      "{'eval_loss': 0.11830192059278488, 'eval_f1': 0.7640449438202247, 'eval_roc_auc': 0.8480046948356809, 'eval_accuracy': 0.5909090909090909, 'eval_runtime': 0.1208, 'eval_samples_per_second': 364.215, 'eval_steps_per_second': 49.666, 'epoch': 62.0}\n"
     ]
    },
    {
     "name": "stderr",
     "output_type": "stream",
     "text": [
      "Model weights saved in ./distBert/trainer\\checkpoint-2728\\pytorch_model.bin\n",
      "tokenizer config file saved in ./distBert/trainer\\checkpoint-2728\\tokenizer_config.json\n",
      "Special tokens file saved in ./distBert/trainer\\checkpoint-2728\\special_tokens_map.json\n",
      " 90%|████████▉ | 2771/3080 [07:13<00:16, 18.93it/s]***** Running Evaluation *****\n",
      "  Num examples = 44\n",
      "  Batch size = 8\n",
      "                                                   \n",
      " 90%|█████████ | 2772/3080 [07:13<00:16, 18.93it/s]Saving model checkpoint to ./distBert/trainer\\checkpoint-2772\n",
      "Configuration saved in ./distBert/trainer\\checkpoint-2772\\config.json\n"
     ]
    },
    {
     "name": "stdout",
     "output_type": "stream",
     "text": [
      "{'eval_loss': 0.1171872690320015, 'eval_f1': 0.7640449438202247, 'eval_roc_auc': 0.8480046948356809, 'eval_accuracy': 0.5909090909090909, 'eval_runtime': 0.0828, 'eval_samples_per_second': 531.604, 'eval_steps_per_second': 72.491, 'epoch': 63.0}\n"
     ]
    },
    {
     "name": "stderr",
     "output_type": "stream",
     "text": [
      "Model weights saved in ./distBert/trainer\\checkpoint-2772\\pytorch_model.bin\n",
      "tokenizer config file saved in ./distBert/trainer\\checkpoint-2772\\tokenizer_config.json\n",
      "Special tokens file saved in ./distBert/trainer\\checkpoint-2772\\special_tokens_map.json\n",
      " 91%|█████████▏| 2815/3080 [07:16<00:13, 19.68it/s]***** Running Evaluation *****\n",
      "  Num examples = 44\n",
      "  Batch size = 8\n",
      "                                                   \n",
      " 91%|█████████▏| 2816/3080 [07:16<00:13, 19.68it/s]Saving model checkpoint to ./distBert/trainer\\checkpoint-2816\n",
      "Configuration saved in ./distBert/trainer\\checkpoint-2816\\config.json\n"
     ]
    },
    {
     "name": "stdout",
     "output_type": "stream",
     "text": [
      "{'eval_loss': 0.11686109751462936, 'eval_f1': 0.7640449438202247, 'eval_roc_auc': 0.8480046948356809, 'eval_accuracy': 0.5909090909090909, 'eval_runtime': 0.08, 'eval_samples_per_second': 550.04, 'eval_steps_per_second': 75.005, 'epoch': 64.0}\n"
     ]
    },
    {
     "name": "stderr",
     "output_type": "stream",
     "text": [
      " 91%|█████████▏| 2816/3080 [07:28<00:13, 19.68it/s]Model weights saved in ./distBert/trainer\\checkpoint-2816\\pytorch_model.bin\n",
      "tokenizer config file saved in ./distBert/trainer\\checkpoint-2816\\tokenizer_config.json\n",
      "Special tokens file saved in ./distBert/trainer\\checkpoint-2816\\special_tokens_map.json\n",
      " 93%|█████████▎| 2859/3080 [07:32<00:11, 19.04it/s]***** Running Evaluation *****\n",
      "  Num examples = 44\n",
      "  Batch size = 8\n",
      "                                                   \n",
      " 93%|█████████▎| 2860/3080 [07:32<00:11, 19.04it/s]Saving model checkpoint to ./distBert/trainer\\checkpoint-2860\n",
      "Configuration saved in ./distBert/trainer\\checkpoint-2860\\config.json\n"
     ]
    },
    {
     "name": "stdout",
     "output_type": "stream",
     "text": [
      "{'eval_loss': 0.1174703910946846, 'eval_f1': 0.7640449438202247, 'eval_roc_auc': 0.8480046948356809, 'eval_accuracy': 0.5909090909090909, 'eval_runtime': 0.0824, 'eval_samples_per_second': 533.864, 'eval_steps_per_second': 72.8, 'epoch': 65.0}\n"
     ]
    },
    {
     "name": "stderr",
     "output_type": "stream",
     "text": [
      "Model weights saved in ./distBert/trainer\\checkpoint-2860\\pytorch_model.bin\n",
      "tokenizer config file saved in ./distBert/trainer\\checkpoint-2860\\tokenizer_config.json\n",
      "Special tokens file saved in ./distBert/trainer\\checkpoint-2860\\special_tokens_map.json\n",
      " 94%|█████████▍| 2903/3080 [07:49<00:09, 18.94it/s]***** Running Evaluation *****\n",
      "  Num examples = 44\n",
      "  Batch size = 8\n",
      "                                                   \n",
      " 94%|█████████▍| 2904/3080 [07:50<00:09, 18.94it/s]Saving model checkpoint to ./distBert/trainer\\checkpoint-2904\n",
      "Configuration saved in ./distBert/trainer\\checkpoint-2904\\config.json\n"
     ]
    },
    {
     "name": "stdout",
     "output_type": "stream",
     "text": [
      "{'eval_loss': 0.11915154755115509, 'eval_f1': 0.7640449438202247, 'eval_roc_auc': 0.8480046948356809, 'eval_accuracy': 0.5909090909090909, 'eval_runtime': 0.0821, 'eval_samples_per_second': 536.258, 'eval_steps_per_second': 73.126, 'epoch': 66.0}\n"
     ]
    },
    {
     "name": "stderr",
     "output_type": "stream",
     "text": [
      "Model weights saved in ./distBert/trainer\\checkpoint-2904\\pytorch_model.bin\n",
      "tokenizer config file saved in ./distBert/trainer\\checkpoint-2904\\tokenizer_config.json\n",
      "Special tokens file saved in ./distBert/trainer\\checkpoint-2904\\special_tokens_map.json\n",
      " 96%|█████████▌| 2947/3080 [07:53<00:06, 19.51it/s]***** Running Evaluation *****\n",
      "  Num examples = 44\n",
      "  Batch size = 8\n",
      "                                                   \n",
      " 96%|█████████▌| 2948/3080 [07:53<00:06, 19.51it/s]"
     ]
    },
    {
     "name": "stdout",
     "output_type": "stream",
     "text": [
      "{'eval_loss': 0.11858344078063965, 'eval_f1': 0.7640449438202247, 'eval_roc_auc': 0.8480046948356809, 'eval_accuracy': 0.5909090909090909, 'eval_runtime': 0.0814, 'eval_samples_per_second': 540.43, 'eval_steps_per_second': 73.695, 'epoch': 67.0}\n"
     ]
    },
    {
     "name": "stderr",
     "output_type": "stream",
     "text": [
      "Saving model checkpoint to ./distBert/trainer\\checkpoint-2948\n",
      "Configuration saved in ./distBert/trainer\\checkpoint-2948\\config.json\n",
      " 96%|█████████▌| 2948/3080 [08:04<00:06, 19.51it/s]Model weights saved in ./distBert/trainer\\checkpoint-2948\\pytorch_model.bin\n",
      "tokenizer config file saved in ./distBert/trainer\\checkpoint-2948\\tokenizer_config.json\n",
      "Special tokens file saved in ./distBert/trainer\\checkpoint-2948\\special_tokens_map.json\n",
      " 97%|█████████▋| 2991/3080 [08:08<00:04, 19.22it/s]***** Running Evaluation *****\n",
      "  Num examples = 44\n",
      "  Batch size = 8\n",
      "                                                   \n",
      " 97%|█████████▋| 2992/3080 [08:08<00:04, 19.22it/s]Saving model checkpoint to ./distBert/trainer\\checkpoint-2992\n",
      "Configuration saved in ./distBert/trainer\\checkpoint-2992\\config.json\n"
     ]
    },
    {
     "name": "stdout",
     "output_type": "stream",
     "text": [
      "{'eval_loss': 0.11801639199256897, 'eval_f1': 0.7640449438202247, 'eval_roc_auc': 0.8480046948356809, 'eval_accuracy': 0.5909090909090909, 'eval_runtime': 0.0776, 'eval_samples_per_second': 566.725, 'eval_steps_per_second': 77.281, 'epoch': 68.0}\n"
     ]
    },
    {
     "name": "stderr",
     "output_type": "stream",
     "text": [
      "Model weights saved in ./distBert/trainer\\checkpoint-2992\\pytorch_model.bin\n",
      "tokenizer config file saved in ./distBert/trainer\\checkpoint-2992\\tokenizer_config.json\n",
      "Special tokens file saved in ./distBert/trainer\\checkpoint-2992\\special_tokens_map.json\n",
      " 98%|█████████▊| 3003/3080 [08:24<00:32,  2.34it/s]"
     ]
    },
    {
     "name": "stdout",
     "output_type": "stream",
     "text": [
      "{'loss': 0.0038, 'learning_rate': 5.194805194805196e-07, 'epoch': 68.18}\n"
     ]
    },
    {
     "name": "stderr",
     "output_type": "stream",
     "text": [
      " 99%|█████████▊| 3035/3080 [08:25<00:02, 18.99it/s]***** Running Evaluation *****\n",
      "  Num examples = 44\n",
      "  Batch size = 8\n",
      "                                                   \n",
      " 99%|█████████▊| 3036/3080 [08:25<00:02, 18.99it/s]Saving model checkpoint to ./distBert/trainer\\checkpoint-3036\n",
      "Configuration saved in ./distBert/trainer\\checkpoint-3036\\config.json\n"
     ]
    },
    {
     "name": "stdout",
     "output_type": "stream",
     "text": [
      "{'eval_loss': 0.11811728030443192, 'eval_f1': 0.7640449438202247, 'eval_roc_auc': 0.8480046948356809, 'eval_accuracy': 0.5909090909090909, 'eval_runtime': 0.0819, 'eval_samples_per_second': 537.418, 'eval_steps_per_second': 73.284, 'epoch': 69.0}\n"
     ]
    },
    {
     "name": "stderr",
     "output_type": "stream",
     "text": [
      "Model weights saved in ./distBert/trainer\\checkpoint-3036\\pytorch_model.bin\n",
      "tokenizer config file saved in ./distBert/trainer\\checkpoint-3036\\tokenizer_config.json\n",
      "Special tokens file saved in ./distBert/trainer\\checkpoint-3036\\special_tokens_map.json\n",
      "100%|█████████▉| 3078/3080 [08:30<00:00, 19.44it/s]***** Running Evaluation *****\n",
      "  Num examples = 44\n",
      "  Batch size = 8\n",
      "                                                   \n",
      "100%|██████████| 3080/3080 [08:30<00:00, 19.44it/s]Saving model checkpoint to ./distBert/trainer\\checkpoint-3080\n",
      "Configuration saved in ./distBert/trainer\\checkpoint-3080\\config.json\n"
     ]
    },
    {
     "name": "stdout",
     "output_type": "stream",
     "text": [
      "{'eval_loss': 0.11801730841398239, 'eval_f1': 0.7640449438202247, 'eval_roc_auc': 0.8480046948356809, 'eval_accuracy': 0.5909090909090909, 'eval_runtime': 0.0813, 'eval_samples_per_second': 541.458, 'eval_steps_per_second': 73.835, 'epoch': 70.0}\n"
     ]
    },
    {
     "name": "stderr",
     "output_type": "stream",
     "text": [
      "100%|██████████| 3080/3080 [08:40<00:00, 19.44it/s]Model weights saved in ./distBert/trainer\\checkpoint-3080\\pytorch_model.bin\n",
      "tokenizer config file saved in ./distBert/trainer\\checkpoint-3080\\tokenizer_config.json\n",
      "Special tokens file saved in ./distBert/trainer\\checkpoint-3080\\special_tokens_map.json\n",
      "\n",
      "\n",
      "Training completed. Do not forget to share your model on huggingface.co/models =)\n",
      "\n",
      "\n",
      "Loading best model from ./distBert/trainer\\checkpoint-1100 (score: 0.7865168539325843).\n",
      "100%|██████████| 3080/3080 [08:42<00:00,  5.90it/s]"
     ]
    },
    {
     "name": "stdout",
     "output_type": "stream",
     "text": [
      "{'train_runtime': 522.3716, 'train_samples_per_second': 46.901, 'train_steps_per_second': 5.896, 'train_loss': 0.045695906645291814, 'epoch': 70.0}\n"
     ]
    },
    {
     "name": "stderr",
     "output_type": "stream",
     "text": [
      "\n"
     ]
    },
    {
     "data": {
      "text/plain": [
       "TrainOutput(global_step=3080, training_loss=0.045695906645291814, metrics={'train_runtime': 522.3716, 'train_samples_per_second': 46.901, 'train_steps_per_second': 5.896, 'train_loss': 0.045695906645291814, 'epoch': 70.0})"
      ]
     },
     "execution_count": 22,
     "metadata": {},
     "output_type": "execute_result"
    }
   ],
   "source": [
    "trainer.train()"
   ]
  },
  {
   "cell_type": "code",
   "execution_count": 30,
   "metadata": {},
   "outputs": [
    {
     "name": "stderr",
     "output_type": "stream",
     "text": [
      "***** Running Evaluation *****\n",
      "  Num examples = 44\n",
      "  Batch size = 8\n",
      "100%|██████████| 6/6 [00:00<00:00, 90.93it/s]\n"
     ]
    },
    {
     "data": {
      "text/plain": [
       "{'eval_loss': 0.10055262595415115,\n",
       " 'eval_f1': 0.7865168539325843,\n",
       " 'eval_roc_auc': 0.8593016431924883,\n",
       " 'eval_accuracy': 0.6136363636363636,\n",
       " 'eval_runtime': 0.1896,\n",
       " 'eval_samples_per_second': 232.076,\n",
       " 'eval_steps_per_second': 31.647,\n",
       " 'epoch': 70.0}"
      ]
     },
     "execution_count": 30,
     "metadata": {},
     "output_type": "execute_result"
    }
   ],
   "source": [
    "trainer.evaluate()"
   ]
  },
  {
   "cell_type": "code",
   "execution_count": 28,
   "metadata": {},
   "outputs": [
    {
     "name": "stderr",
     "output_type": "stream",
     "text": [
      "***** Running Evaluation *****\n",
      "  Num examples = 350\n",
      "  Batch size = 8\n",
      "100%|██████████| 44/44 [00:00<00:00, 81.60it/s]\n"
     ]
    }
   ],
   "source": [
    "training_results = trainer.evaluate(encoded_ds['train'])"
   ]
  },
  {
   "cell_type": "code",
   "execution_count": 25,
   "metadata": {},
   "outputs": [
    {
     "name": "stderr",
     "output_type": "stream",
     "text": [
      "***** Running Prediction *****\n",
      "  Num examples = 44\n",
      "  Batch size = 8\n",
      "100%|██████████| 6/6 [00:00<00:00, 88.25it/s]\n"
     ]
    }
   ],
   "source": [
    "prediction_result = trainer.predict(encoded_ds['test'])"
   ]
  },
  {
   "cell_type": "code",
   "execution_count": 26,
   "metadata": {},
   "outputs": [
    {
     "name": "stdout",
     "output_type": "stream",
     "text": [
      "{'test_loss': 0.09050417691469193, 'test_f1': 0.8139534883720931, 'test_roc_auc': 0.8619424882629108, 'test_accuracy': 0.6818181818181818, 'test_runtime': 0.2745, 'test_samples_per_second': 160.285, 'test_steps_per_second': 21.857}\n"
     ]
    }
   ],
   "source": [
    "print(prediction_result.metrics)"
   ]
  },
  {
   "cell_type": "code",
   "execution_count": 32,
   "metadata": {},
   "outputs": [
    {
     "name": "stderr",
     "output_type": "stream",
     "text": [
      "Saving model checkpoint to ./distlBert-model-v1\n",
      "Configuration saved in ./distlBert-model-v1\\config.json\n",
      "Model weights saved in ./distlBert-model-v1\\pytorch_model.bin\n",
      "tokenizer config file saved in ./distlBert-model-v1\\tokenizer_config.json\n",
      "Special tokens file saved in ./distlBert-model-v1\\special_tokens_map.json\n"
     ]
    }
   ],
   "source": [
    "trainer.save_model(\"./distlBert-model-v1\")"
   ]
  },
  {
   "cell_type": "code",
   "execution_count": null,
   "metadata": {},
   "outputs": [],
   "source": [
    "from torch.utils.tensorboard import SummaryWriter\n",
    "\n",
    "# default `log_dir` is \"runs\" - we'll be more specific here\n",
    "writer = SummaryWriter('distlbert/')"
   ]
  }
 ],
 "metadata": {
  "kernelspec": {
   "display_name": "venv",
   "language": "python",
   "name": "python3"
  },
  "language_info": {
   "codemirror_mode": {
    "name": "ipython",
    "version": 3
   },
   "file_extension": ".py",
   "mimetype": "text/x-python",
   "name": "python",
   "nbconvert_exporter": "python",
   "pygments_lexer": "ipython3",
   "version": "3.8.10"
  },
  "orig_nbformat": 4,
  "vscode": {
   "interpreter": {
    "hash": "e32da21edddcaf775c480ccd7b569f19fc9b1c5c20d607727913c5339e7adca8"
   }
  }
 },
 "nbformat": 4,
 "nbformat_minor": 2
}
