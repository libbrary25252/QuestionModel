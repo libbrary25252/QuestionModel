{
 "cells": [
  {
   "cell_type": "code",
   "execution_count": 1,
   "metadata": {},
   "outputs": [
    {
     "name": "stderr",
     "output_type": "stream",
     "text": [
      "c:\\Users\\user\\Desktop\\QuestionQuestionModel\\venv\\lib\\site-packages\\tqdm\\auto.py:22: TqdmWarning: IProgress not found. Please update jupyter and ipywidgets. See https://ipywidgets.readthedocs.io/en/stable/user_install.html\n",
      "  from .autonotebook import tqdm as notebook_tqdm\n"
     ]
    },
    {
     "data": {
      "text/plain": [
       "DatasetDict({\n",
       "    train: Dataset({\n",
       "        features: ['Unnamed: 0', 'String', 'Algorithm Design', 'Basic Machine Organisation', 'Computer System', 'Data Manipulation and Analysis', 'Data Organisation and Data Control', 'Elementary Web Authoring', 'Health and Ethical Issues', 'Information Processing', 'Intellectual Property', 'Internet Services and Applications', 'Multimedia Elements', 'Networking and Internet Basics', 'Program Development', 'Threats and Security on the Internet', '__index_level_0__'],\n",
       "        num_rows: 350\n",
       "    })\n",
       "    valid: Dataset({\n",
       "        features: ['Unnamed: 0', 'String', 'Algorithm Design', 'Basic Machine Organisation', 'Computer System', 'Data Manipulation and Analysis', 'Data Organisation and Data Control', 'Elementary Web Authoring', 'Health and Ethical Issues', 'Information Processing', 'Intellectual Property', 'Internet Services and Applications', 'Multimedia Elements', 'Networking and Internet Basics', 'Program Development', 'Threats and Security on the Internet', '__index_level_0__'],\n",
       "        num_rows: 44\n",
       "    })\n",
       "    test: Dataset({\n",
       "        features: ['Unnamed: 0', 'String', 'Algorithm Design', 'Basic Machine Organisation', 'Computer System', 'Data Manipulation and Analysis', 'Data Organisation and Data Control', 'Elementary Web Authoring', 'Health and Ethical Issues', 'Information Processing', 'Intellectual Property', 'Internet Services and Applications', 'Multimedia Elements', 'Networking and Internet Basics', 'Program Development', 'Threats and Security on the Internet', '__index_level_0__'],\n",
       "        num_rows: 44\n",
       "    })\n",
       "})"
      ]
     },
     "execution_count": 1,
     "metadata": {},
     "output_type": "execute_result"
    }
   ],
   "source": [
    "# Model Training\n",
    "from datasets import load_from_disk\n",
    "\n",
    "datasets = load_from_disk(\"./encoded_data2\")\n",
    "datasets\n"
   ]
  },
  {
   "cell_type": "code",
   "execution_count": 2,
   "metadata": {},
   "outputs": [],
   "source": [
    "model_labels = [label for label in datasets['train'].features.keys() if label not in ['Unnamed: 0', 'String', '__index_level_0__']]"
   ]
  },
  {
   "cell_type": "code",
   "execution_count": 3,
   "metadata": {},
   "outputs": [
    {
     "data": {
      "text/plain": [
       "['Algorithm Design',\n",
       " 'Basic Machine Organisation',\n",
       " 'Computer System',\n",
       " 'Data Manipulation and Analysis',\n",
       " 'Data Organisation and Data Control',\n",
       " 'Elementary Web Authoring',\n",
       " 'Health and Ethical Issues',\n",
       " 'Information Processing',\n",
       " 'Intellectual Property',\n",
       " 'Internet Services and Applications',\n",
       " 'Multimedia Elements',\n",
       " 'Networking and Internet Basics',\n",
       " 'Program Development',\n",
       " 'Threats and Security on the Internet']"
      ]
     },
     "execution_count": 3,
     "metadata": {},
     "output_type": "execute_result"
    }
   ],
   "source": [
    "model_labels"
   ]
  },
  {
   "cell_type": "code",
   "execution_count": 4,
   "metadata": {},
   "outputs": [],
   "source": [
    "id2label = {idx:label for idx, label in enumerate(model_labels)}\n",
    "label2id = {label:idx for idx, label in enumerate(model_labels)}"
   ]
  },
  {
   "cell_type": "code",
   "execution_count": 5,
   "metadata": {},
   "outputs": [],
   "source": [
    "from transformers import DistilBertTokenizer, DistilBertForSequenceClassification\n",
    "import numpy as np\n",
    "\n",
    "tokenizer = DistilBertTokenizer.from_pretrained(\"distilbert-base-uncased\")"
   ]
  },
  {
   "cell_type": "code",
   "execution_count": 6,
   "metadata": {},
   "outputs": [],
   "source": [
    "def encode_data(dataset):\n",
    "    text = dataset[\"String\"]\n",
    "    # tokenize string\n",
    "    encoding = tokenizer(text, padding=\"max_length\", truncation=True, max_length=70)\n",
    "    # create encoded array list with labels\n",
    "    labelsBatch = {x: dataset[x] for x in dataset.keys() if x in model_labels}\n",
    "    labels_matrix = np.zeros((len(text), len(model_labels)))\n",
    "    for idx, label in enumerate(model_labels):\n",
    "        labels_matrix[:, idx] = labelsBatch[label]\n",
    "    \n",
    "    encoding[\"labels\"] = labels_matrix.tolist()\n",
    "    return encoding"
   ]
  },
  {
   "cell_type": "code",
   "execution_count": 7,
   "metadata": {},
   "outputs": [
    {
     "name": "stderr",
     "output_type": "stream",
     "text": [
      "Loading cached processed dataset at c:\\Users\\user\\Desktop\\QuestionQuestionModel\\model\\encoded_data2\\train\\cache-2b16d6c5bd35f15f.arrow\n",
      "Loading cached processed dataset at c:\\Users\\user\\Desktop\\QuestionQuestionModel\\model\\encoded_data2\\valid\\cache-689012c425206285.arrow\n",
      "Loading cached processed dataset at c:\\Users\\user\\Desktop\\QuestionQuestionModel\\model\\encoded_data2\\test\\cache-85c90415b3ef70cb.arrow\n"
     ]
    }
   ],
   "source": [
    "# tokenize the dataset\n",
    "encoded_ds = datasets.map(encode_data, batched=True, remove_columns=datasets['train'].column_names)"
   ]
  },
  {
   "cell_type": "code",
   "execution_count": 8,
   "metadata": {},
   "outputs": [
    {
     "data": {
      "text/plain": [
       "dict_keys(['input_ids', 'attention_mask', 'labels'])"
      ]
     },
     "execution_count": 8,
     "metadata": {},
     "output_type": "execute_result"
    }
   ],
   "source": [
    "encoded_ds['train'][0].keys()"
   ]
  },
  {
   "cell_type": "code",
   "execution_count": 9,
   "metadata": {},
   "outputs": [
    {
     "data": {
      "text/plain": [
       "['Networking and Internet Basics']"
      ]
     },
     "execution_count": 9,
     "metadata": {},
     "output_type": "execute_result"
    }
   ],
   "source": [
    "[id2label[idx] for idx, label in enumerate(encoded_ds['train'][15]['labels']) if label == 1.0]"
   ]
  },
  {
   "cell_type": "code",
   "execution_count": 10,
   "metadata": {},
   "outputs": [
    {
     "name": "stdout",
     "output_type": "stream",
     "text": [
      "Using device: cuda\n",
      "\n"
     ]
    }
   ],
   "source": [
    "import torch\n",
    "from torch import cuda\n",
    "device = torch.device('cuda' if torch.cuda.is_available() else 'cpu')\n",
    "print('Using device:', device)\n",
    "print()\n",
    "\n",
    "encoded_ds.set_format(\"torch\")"
   ]
  },
  {
   "cell_type": "code",
   "execution_count": 11,
   "metadata": {},
   "outputs": [
    {
     "data": {
      "text/plain": [
       "14"
      ]
     },
     "execution_count": 11,
     "metadata": {},
     "output_type": "execute_result"
    }
   ],
   "source": [
    "len(model_labels)"
   ]
  },
  {
   "cell_type": "code",
   "execution_count": 12,
   "metadata": {},
   "outputs": [
    {
     "data": {
      "text/plain": [
       "Dataset({\n",
       "    features: ['input_ids', 'attention_mask', 'labels'],\n",
       "    num_rows: 350\n",
       "})"
      ]
     },
     "execution_count": 12,
     "metadata": {},
     "output_type": "execute_result"
    }
   ],
   "source": [
    "encoded_ds[\"train\"]"
   ]
  },
  {
   "cell_type": "code",
   "execution_count": 13,
   "metadata": {},
   "outputs": [],
   "source": [
    "# from torch.utils.data import DataLoader\n",
    "\n",
    "# train_dataloader = DataLoader(encoded_ds[\"train\"], batch_size=8)\n",
    "# eval_dataloader = DataLoader(encoded_ds[\"valid\"], batch_size=8)"
   ]
  },
  {
   "cell_type": "code",
   "execution_count": 14,
   "metadata": {},
   "outputs": [],
   "source": [
    "# len(train_dataloader)"
   ]
  },
  {
   "cell_type": "code",
   "execution_count": 15,
   "metadata": {},
   "outputs": [
    {
     "name": "stderr",
     "output_type": "stream",
     "text": [
      "Some weights of the model checkpoint at distilbert-base-uncased were not used when initializing DistilBertForSequenceClassification: ['vocab_projector.weight', 'vocab_transform.bias', 'vocab_layer_norm.weight', 'vocab_projector.bias', 'vocab_layer_norm.bias', 'vocab_transform.weight']\n",
      "- This IS expected if you are initializing DistilBertForSequenceClassification from the checkpoint of a model trained on another task or with another architecture (e.g. initializing a BertForSequenceClassification model from a BertForPreTraining model).\n",
      "- This IS NOT expected if you are initializing DistilBertForSequenceClassification from the checkpoint of a model that you expect to be exactly identical (initializing a BertForSequenceClassification model from a BertForSequenceClassification model).\n",
      "Some weights of DistilBertForSequenceClassification were not initialized from the model checkpoint at distilbert-base-uncased and are newly initialized: ['pre_classifier.weight', 'pre_classifier.bias', 'classifier.weight', 'classifier.bias']\n",
      "You should probably TRAIN this model on a down-stream task to be able to use it for predictions and inference.\n"
     ]
    }
   ],
   "source": [
    "\n",
    "# define model\n",
    "model = DistilBertForSequenceClassification.from_pretrained(\"distilbert-base-uncased\", problem_type=\"multi_label_classification\", num_labels=len(model_labels), id2label=id2label, label2id=label2id)"
   ]
  },
  {
   "cell_type": "code",
   "execution_count": 16,
   "metadata": {},
   "outputs": [],
   "source": [
    "# from torch.optim import AdamW\n",
    "\n",
    "# optimizer = AdamW(model.parameters(), lr=2e-5)"
   ]
  },
  {
   "cell_type": "code",
   "execution_count": 17,
   "metadata": {},
   "outputs": [],
   "source": [
    "# from transformers import get_scheduler\n",
    "\n",
    "# num_epochs = 70\n",
    "# num_training_steps = num_epochs * len(train_dataloader)\n",
    "# lr_scheduler = get_scheduler(\n",
    "#     name=\"linear\", optimizer=optimizer, num_warmup_steps=0, num_training_steps=num_training_steps\n",
    "# )"
   ]
  },
  {
   "cell_type": "code",
   "execution_count": 18,
   "metadata": {},
   "outputs": [],
   "source": [
    "# train model\n",
    "batch_size = 8\n",
    "metric_name = \"f1\""
   ]
  },
  {
   "cell_type": "code",
   "execution_count": 19,
   "metadata": {},
   "outputs": [],
   "source": [
    "import evaluate\n",
    "metric  = evaluate.load(\"accuracy\")"
   ]
  },
  {
   "cell_type": "code",
   "execution_count": 20,
   "metadata": {},
   "outputs": [
    {
     "data": {
      "text/plain": [
       "'20230203_044137$-train-model-distilbert-base-uncased'"
      ]
     },
     "execution_count": 20,
     "metadata": {},
     "output_type": "execute_result"
    }
   ],
   "source": [
    "import time\n",
    "\n",
    "train_name_dir = time.strftime(f\"%Y%m%d_%H%M%S$-train-model-{model.name_or_path}\")\n",
    "train_name_dir"
   ]
  },
  {
   "cell_type": "code",
   "execution_count": 21,
   "metadata": {},
   "outputs": [],
   "source": [
    "from transformers import TrainingArguments, Trainer\n",
    "\n",
    "\n",
    "args = TrainingArguments(\n",
    "    output_dir=\"./distBert-v2/\"+ train_name_dir,\n",
    "    evaluation_strategy = \"epoch\",\n",
    "    save_strategy = \"epoch\",\n",
    "    learning_rate=2e-5,\n",
    "    per_device_train_batch_size=batch_size,\n",
    "    per_device_eval_batch_size=batch_size,\n",
    "    num_train_epochs= 70,\n",
    "    weight_decay=0.01,\n",
    "    load_best_model_at_end=True,\n",
    "    metric_for_best_model=metric_name,\n",
    "    logging_dir='./distBert-v2/logging/'+ train_name_dir\n",
    ")"
   ]
  },
  {
   "cell_type": "code",
   "execution_count": 22,
   "metadata": {},
   "outputs": [],
   "source": [
    "from sklearn.metrics import f1_score, roc_auc_score, accuracy_score\n",
    "from transformers import EvalPrediction\n",
    "\n",
    "\n",
    "def multi_label_metrics(predictions, labels, threshold=0.5):\n",
    "    # apply sigmoid on predictions fitting (batch_size, num_labels)\n",
    "    sigmoid = torch.nn.Sigmoid()\n",
    "    probs = sigmoid(torch.Tensor(predictions))\n",
    "    # use threshold to turn them into integer predictions\n",
    "    y_pred = np.zeros(probs.shape)\n",
    "    y_pred[np.where(probs >= threshold)] = 1\n",
    "    # compute metrics\n",
    "    y_true = labels\n",
    "    f1_micro_average = f1_score(y_true=y_true, y_pred=y_pred, average='micro')\n",
    "    roc_auc = roc_auc_score(y_true, y_pred, average = 'micro')\n",
    "    accuracy = accuracy_score(y_true, y_pred)\n",
    "    # logits, labels = predictions\n",
    "    # prediction = np.argmax(logits, axis=-1)\n",
    "    # return as dictionary\n",
    "    metrics = {'f1': f1_micro_average,\n",
    "               'roc_auc': roc_auc,\n",
    "               'accuracy': accuracy}\n",
    "    return metrics\n",
    "\n",
    "def compute_metrics(p: EvalPrediction):\n",
    "    preds = p.predictions[0] if isinstance(p.predictions, \n",
    "            tuple) else p.predictions\n",
    "    result = multi_label_metrics(\n",
    "        predictions=preds, \n",
    "        labels=p.label_ids)\n",
    "    return result\n",
    "\n",
    "def compute_metrics_new(eval_pred):\n",
    "    logits, labels = eval_pred\n",
    "    predictions = np.argmax(logits, axis=-1)\n",
    "    return metric.compute(predictions=predictions, references=labels)"
   ]
  },
  {
   "cell_type": "code",
   "execution_count": 23,
   "metadata": {},
   "outputs": [
    {
     "data": {
      "text/plain": [
       "'torch.FloatTensor'"
      ]
     },
     "execution_count": 23,
     "metadata": {},
     "output_type": "execute_result"
    }
   ],
   "source": [
    "encoded_ds['train'][0]['labels'].type()"
   ]
  },
  {
   "cell_type": "code",
   "execution_count": 24,
   "metadata": {},
   "outputs": [],
   "source": [
    "# model.to(device)"
   ]
  },
  {
   "cell_type": "code",
   "execution_count": 25,
   "metadata": {},
   "outputs": [
    {
     "data": {
      "text/plain": [
       "SequenceClassifierOutput(loss=tensor(0.6801, grad_fn=<BinaryCrossEntropyWithLogitsBackward0>), logits=tensor([[-0.0499, -0.0933, -0.0358,  0.1000,  0.0396,  0.0849,  0.0165, -0.1536,\n",
       "         -0.1324, -0.0354,  0.0361, -0.0135, -0.0405, -0.0342]],\n",
       "       grad_fn=<AddmmBackward0>), hidden_states=None, attentions=None)"
      ]
     },
     "execution_count": 25,
     "metadata": {},
     "output_type": "execute_result"
    }
   ],
   "source": [
    "outputs = model(input_ids=encoded_ds['train']['input_ids'][0].unsqueeze(0), labels=encoded_ds['train'][0]['labels'].unsqueeze(0))\n",
    "outputs"
   ]
  },
  {
   "cell_type": "code",
   "execution_count": 26,
   "metadata": {},
   "outputs": [],
   "source": [
    "trainer = Trainer(\n",
    "    model,\n",
    "    args,\n",
    "    train_dataset=encoded_ds[\"train\"],\n",
    "    eval_dataset=encoded_ds[\"valid\"],\n",
    "    compute_metrics=compute_metrics,\n",
    "    tokenizer=tokenizer\n",
    ")"
   ]
  },
  {
   "cell_type": "code",
   "execution_count": 27,
   "metadata": {},
   "outputs": [
    {
     "name": "stderr",
     "output_type": "stream",
     "text": [
      "c:\\Users\\user\\Desktop\\QuestionQuestionModel\\venv\\lib\\site-packages\\transformers\\optimization.py:306: FutureWarning: This implementation of AdamW is deprecated and will be removed in a future version. Use the PyTorch implementation torch.optim.AdamW instead, or set `no_deprecation_warning=True` to disable this warning\n",
      "  warnings.warn(\n",
      "***** Running training *****\n",
      "  Num examples = 350\n",
      "  Num Epochs = 70\n",
      "  Instantaneous batch size per device = 8\n",
      "  Total train batch size (w. parallel, distributed & accumulation) = 8\n",
      "  Gradient Accumulation steps = 1\n",
      "  Total optimization steps = 3080\n",
      "  Number of trainable parameters = 66964238\n",
      "  1%|▏         | 43/3080 [00:03<02:47, 18.17it/s] ***** Running Evaluation *****\n",
      "  Num examples = 44\n",
      "  Batch size = 8\n",
      "                                                 \n",
      "  1%|▏         | 44/3080 [00:04<02:47, 18.17it/s]Saving model checkpoint to ./distBert-v2/20230203_044137$-train-model-distilbert-base-uncased\\checkpoint-44\n",
      "Configuration saved in ./distBert-v2/20230203_044137$-train-model-distilbert-base-uncased\\checkpoint-44\\config.json\n"
     ]
    },
    {
     "name": "stdout",
     "output_type": "stream",
     "text": [
      "{'eval_loss': 0.35093820095062256, 'eval_f1': 0.0, 'eval_roc_auc': 0.5, 'eval_accuracy': 0.0, 'eval_runtime': 0.0911, 'eval_samples_per_second': 483.044, 'eval_steps_per_second': 65.87, 'epoch': 1.0}\n"
     ]
    },
    {
     "name": "stderr",
     "output_type": "stream",
     "text": [
      "Model weights saved in ./distBert-v2/20230203_044137$-train-model-distilbert-base-uncased\\checkpoint-44\\pytorch_model.bin\n",
      "tokenizer config file saved in ./distBert-v2/20230203_044137$-train-model-distilbert-base-uncased\\checkpoint-44\\tokenizer_config.json\n",
      "Special tokens file saved in ./distBert-v2/20230203_044137$-train-model-distilbert-base-uncased\\checkpoint-44\\special_tokens_map.json\n",
      "  3%|▎         | 87/3080 [00:12<02:48, 17.80it/s]***** Running Evaluation *****\n",
      "  Num examples = 44\n",
      "  Batch size = 8\n",
      "                                                 \n",
      "  3%|▎         | 88/3080 [00:12<02:48, 17.80it/s]Saving model checkpoint to ./distBert-v2/20230203_044137$-train-model-distilbert-base-uncased\\checkpoint-88\n",
      "Configuration saved in ./distBert-v2/20230203_044137$-train-model-distilbert-base-uncased\\checkpoint-88\\config.json\n"
     ]
    },
    {
     "name": "stdout",
     "output_type": "stream",
     "text": [
      "{'eval_loss': 0.28109586238861084, 'eval_f1': 0.0, 'eval_roc_auc': 0.5, 'eval_accuracy': 0.0, 'eval_runtime': 0.0858, 'eval_samples_per_second': 512.993, 'eval_steps_per_second': 69.954, 'epoch': 2.0}\n"
     ]
    },
    {
     "name": "stderr",
     "output_type": "stream",
     "text": [
      "Model weights saved in ./distBert-v2/20230203_044137$-train-model-distilbert-base-uncased\\checkpoint-88\\pytorch_model.bin\n",
      "tokenizer config file saved in ./distBert-v2/20230203_044137$-train-model-distilbert-base-uncased\\checkpoint-88\\tokenizer_config.json\n",
      "Special tokens file saved in ./distBert-v2/20230203_044137$-train-model-distilbert-base-uncased\\checkpoint-88\\special_tokens_map.json\n",
      "  4%|▍         | 131/3080 [00:16<02:38, 18.55it/s]***** Running Evaluation *****\n",
      "  Num examples = 44\n",
      "  Batch size = 8\n",
      "                                                  \n",
      "  4%|▍         | 132/3080 [00:16<02:38, 18.55it/s]Saving model checkpoint to ./distBert-v2/20230203_044137$-train-model-distilbert-base-uncased\\checkpoint-132\n",
      "Configuration saved in ./distBert-v2/20230203_044137$-train-model-distilbert-base-uncased\\checkpoint-132\\config.json\n"
     ]
    },
    {
     "name": "stdout",
     "output_type": "stream",
     "text": [
      "{'eval_loss': 0.26225873827934265, 'eval_f1': 0.0, 'eval_roc_auc': 0.5, 'eval_accuracy': 0.0, 'eval_runtime': 0.0871, 'eval_samples_per_second': 505.123, 'eval_steps_per_second': 68.88, 'epoch': 3.0}\n"
     ]
    },
    {
     "name": "stderr",
     "output_type": "stream",
     "text": [
      "Model weights saved in ./distBert-v2/20230203_044137$-train-model-distilbert-base-uncased\\checkpoint-132\\pytorch_model.bin\n",
      "tokenizer config file saved in ./distBert-v2/20230203_044137$-train-model-distilbert-base-uncased\\checkpoint-132\\tokenizer_config.json\n",
      "Special tokens file saved in ./distBert-v2/20230203_044137$-train-model-distilbert-base-uncased\\checkpoint-132\\special_tokens_map.json\n",
      "  6%|▌         | 175/3080 [00:19<02:34, 18.75it/s]***** Running Evaluation *****\n",
      "  Num examples = 44\n",
      "  Batch size = 8\n",
      "                                                  \n",
      "  6%|▌         | 176/3080 [00:19<02:34, 18.75it/s]Saving model checkpoint to ./distBert-v2/20230203_044137$-train-model-distilbert-base-uncased\\checkpoint-176\n",
      "Configuration saved in ./distBert-v2/20230203_044137$-train-model-distilbert-base-uncased\\checkpoint-176\\config.json\n"
     ]
    },
    {
     "name": "stdout",
     "output_type": "stream",
     "text": [
      "{'eval_loss': 0.2434508353471756, 'eval_f1': 0.0, 'eval_roc_auc': 0.5, 'eval_accuracy': 0.0, 'eval_runtime': 0.0841, 'eval_samples_per_second': 522.905, 'eval_steps_per_second': 71.305, 'epoch': 4.0}\n"
     ]
    },
    {
     "name": "stderr",
     "output_type": "stream",
     "text": [
      "Model weights saved in ./distBert-v2/20230203_044137$-train-model-distilbert-base-uncased\\checkpoint-176\\pytorch_model.bin\n",
      "tokenizer config file saved in ./distBert-v2/20230203_044137$-train-model-distilbert-base-uncased\\checkpoint-176\\tokenizer_config.json\n",
      "Special tokens file saved in ./distBert-v2/20230203_044137$-train-model-distilbert-base-uncased\\checkpoint-176\\special_tokens_map.json\n",
      "  7%|▋         | 219/3080 [00:23<02:33, 18.64it/s]***** Running Evaluation *****\n",
      "  Num examples = 44\n",
      "  Batch size = 8\n",
      "                                                  \n",
      "  7%|▋         | 220/3080 [00:23<02:33, 18.64it/s]Saving model checkpoint to ./distBert-v2/20230203_044137$-train-model-distilbert-base-uncased\\checkpoint-220\n",
      "Configuration saved in ./distBert-v2/20230203_044137$-train-model-distilbert-base-uncased\\checkpoint-220\\config.json\n"
     ]
    },
    {
     "name": "stdout",
     "output_type": "stream",
     "text": [
      "{'eval_loss': 0.21836787462234497, 'eval_f1': 0.3, 'eval_roc_auc': 0.5911091549295775, 'eval_accuracy': 0.11363636363636363, 'eval_runtime': 0.0851, 'eval_samples_per_second': 516.848, 'eval_steps_per_second': 70.479, 'epoch': 5.0}\n"
     ]
    },
    {
     "name": "stderr",
     "output_type": "stream",
     "text": [
      "Model weights saved in ./distBert-v2/20230203_044137$-train-model-distilbert-base-uncased\\checkpoint-220\\pytorch_model.bin\n",
      "tokenizer config file saved in ./distBert-v2/20230203_044137$-train-model-distilbert-base-uncased\\checkpoint-220\\tokenizer_config.json\n",
      "Special tokens file saved in ./distBert-v2/20230203_044137$-train-model-distilbert-base-uncased\\checkpoint-220\\special_tokens_map.json\n",
      "  9%|▊         | 263/3080 [00:26<02:32, 18.45it/s]***** Running Evaluation *****\n",
      "  Num examples = 44\n",
      "  Batch size = 8\n",
      "                                                  \n",
      "  9%|▊         | 264/3080 [00:27<02:32, 18.45it/s]Saving model checkpoint to ./distBert-v2/20230203_044137$-train-model-distilbert-base-uncased\\checkpoint-264\n",
      "Configuration saved in ./distBert-v2/20230203_044137$-train-model-distilbert-base-uncased\\checkpoint-264\\config.json\n"
     ]
    },
    {
     "name": "stdout",
     "output_type": "stream",
     "text": [
      "{'eval_loss': 0.2011677324771881, 'eval_f1': 0.38095238095238093, 'eval_roc_auc': 0.6223591549295774, 'eval_accuracy': 0.18181818181818182, 'eval_runtime': 0.0961, 'eval_samples_per_second': 457.63, 'eval_steps_per_second': 62.404, 'epoch': 6.0}\n"
     ]
    },
    {
     "name": "stderr",
     "output_type": "stream",
     "text": [
      "Model weights saved in ./distBert-v2/20230203_044137$-train-model-distilbert-base-uncased\\checkpoint-264\\pytorch_model.bin\n",
      "tokenizer config file saved in ./distBert-v2/20230203_044137$-train-model-distilbert-base-uncased\\checkpoint-264\\tokenizer_config.json\n",
      "Special tokens file saved in ./distBert-v2/20230203_044137$-train-model-distilbert-base-uncased\\checkpoint-264\\special_tokens_map.json\n",
      " 10%|▉         | 307/3080 [00:37<02:32, 18.13it/s]  ***** Running Evaluation *****\n",
      "  Num examples = 44\n",
      "  Batch size = 8\n",
      "                                                  \n",
      " 10%|█         | 308/3080 [00:38<02:32, 18.13it/s]Saving model checkpoint to ./distBert-v2/20230203_044137$-train-model-distilbert-base-uncased\\checkpoint-308\n",
      "Configuration saved in ./distBert-v2/20230203_044137$-train-model-distilbert-base-uncased\\checkpoint-308\\config.json\n"
     ]
    },
    {
     "name": "stdout",
     "output_type": "stream",
     "text": [
      "{'eval_loss': 0.1838286817073822, 'eval_f1': 0.38095238095238093, 'eval_roc_auc': 0.6223591549295774, 'eval_accuracy': 0.1590909090909091, 'eval_runtime': 0.0853, 'eval_samples_per_second': 515.87, 'eval_steps_per_second': 70.346, 'epoch': 7.0}\n"
     ]
    },
    {
     "name": "stderr",
     "output_type": "stream",
     "text": [
      "Model weights saved in ./distBert-v2/20230203_044137$-train-model-distilbert-base-uncased\\checkpoint-308\\pytorch_model.bin\n",
      "tokenizer config file saved in ./distBert-v2/20230203_044137$-train-model-distilbert-base-uncased\\checkpoint-308\\tokenizer_config.json\n",
      "Special tokens file saved in ./distBert-v2/20230203_044137$-train-model-distilbert-base-uncased\\checkpoint-308\\special_tokens_map.json\n",
      " 11%|█▏        | 351/3080 [00:46<02:31, 17.97it/s]***** Running Evaluation *****\n",
      "  Num examples = 44\n",
      "  Batch size = 8\n",
      "                                                  \n",
      " 11%|█▏        | 352/3080 [00:47<02:31, 17.97it/s]Saving model checkpoint to ./distBert-v2/20230203_044137$-train-model-distilbert-base-uncased\\checkpoint-352\n",
      "Configuration saved in ./distBert-v2/20230203_044137$-train-model-distilbert-base-uncased\\checkpoint-352\\config.json\n"
     ]
    },
    {
     "name": "stdout",
     "output_type": "stream",
     "text": [
      "{'eval_loss': 0.1651562750339508, 'eval_f1': 0.5428571428571428, 'eval_roc_auc': 0.695275821596244, 'eval_accuracy': 0.3181818181818182, 'eval_runtime': 0.0848, 'eval_samples_per_second': 519.058, 'eval_steps_per_second': 70.781, 'epoch': 8.0}\n"
     ]
    },
    {
     "name": "stderr",
     "output_type": "stream",
     "text": [
      "Model weights saved in ./distBert-v2/20230203_044137$-train-model-distilbert-base-uncased\\checkpoint-352\\pytorch_model.bin\n",
      "tokenizer config file saved in ./distBert-v2/20230203_044137$-train-model-distilbert-base-uncased\\checkpoint-352\\tokenizer_config.json\n",
      "Special tokens file saved in ./distBert-v2/20230203_044137$-train-model-distilbert-base-uncased\\checkpoint-352\\special_tokens_map.json\n",
      " 13%|█▎        | 395/3080 [01:02<02:29, 17.96it/s]  ***** Running Evaluation *****\n",
      "  Num examples = 44\n",
      "  Batch size = 8\n",
      "                                                  \n",
      " 13%|█▎        | 396/3080 [01:02<02:29, 17.96it/s]Saving model checkpoint to ./distBert-v2/20230203_044137$-train-model-distilbert-base-uncased\\checkpoint-396\n",
      "Configuration saved in ./distBert-v2/20230203_044137$-train-model-distilbert-base-uncased\\checkpoint-396\\config.json\n"
     ]
    },
    {
     "name": "stdout",
     "output_type": "stream",
     "text": [
      "{'eval_loss': 0.15219689905643463, 'eval_f1': 0.5428571428571428, 'eval_roc_auc': 0.695275821596244, 'eval_accuracy': 0.3181818181818182, 'eval_runtime': 0.0888, 'eval_samples_per_second': 495.478, 'eval_steps_per_second': 67.565, 'epoch': 9.0}\n"
     ]
    },
    {
     "name": "stderr",
     "output_type": "stream",
     "text": [
      "Model weights saved in ./distBert-v2/20230203_044137$-train-model-distilbert-base-uncased\\checkpoint-396\\pytorch_model.bin\n",
      "tokenizer config file saved in ./distBert-v2/20230203_044137$-train-model-distilbert-base-uncased\\checkpoint-396\\tokenizer_config.json\n",
      "Special tokens file saved in ./distBert-v2/20230203_044137$-train-model-distilbert-base-uncased\\checkpoint-396\\special_tokens_map.json\n",
      " 14%|█▍        | 439/3080 [01:05<02:21, 18.63it/s]***** Running Evaluation *****\n",
      "  Num examples = 44\n",
      "  Batch size = 8\n",
      "                                                  \n",
      " 14%|█▍        | 440/3080 [01:06<02:21, 18.63it/s]Saving model checkpoint to ./distBert-v2/20230203_044137$-train-model-distilbert-base-uncased\\checkpoint-440\n",
      "Configuration saved in ./distBert-v2/20230203_044137$-train-model-distilbert-base-uncased\\checkpoint-440\\config.json\n"
     ]
    },
    {
     "name": "stdout",
     "output_type": "stream",
     "text": [
      "{'eval_loss': 0.13823674619197845, 'eval_f1': 0.5633802816901409, 'eval_roc_auc': 0.7056924882629108, 'eval_accuracy': 0.3409090909090909, 'eval_runtime': 0.0888, 'eval_samples_per_second': 495.658, 'eval_steps_per_second': 67.59, 'epoch': 10.0}\n"
     ]
    },
    {
     "name": "stderr",
     "output_type": "stream",
     "text": [
      "Model weights saved in ./distBert-v2/20230203_044137$-train-model-distilbert-base-uncased\\checkpoint-440\\pytorch_model.bin\n",
      "tokenizer config file saved in ./distBert-v2/20230203_044137$-train-model-distilbert-base-uncased\\checkpoint-440\\tokenizer_config.json\n",
      "Special tokens file saved in ./distBert-v2/20230203_044137$-train-model-distilbert-base-uncased\\checkpoint-440\\special_tokens_map.json\n",
      " 16%|█▌        | 483/3080 [01:23<02:27, 17.58it/s]  ***** Running Evaluation *****\n",
      "  Num examples = 44\n",
      "  Batch size = 8\n",
      "                                                  \n",
      " 16%|█▌        | 484/3080 [01:23<02:27, 17.58it/s]Saving model checkpoint to ./distBert-v2/20230203_044137$-train-model-distilbert-base-uncased\\checkpoint-484\n",
      "Configuration saved in ./distBert-v2/20230203_044137$-train-model-distilbert-base-uncased\\checkpoint-484\\config.json\n"
     ]
    },
    {
     "name": "stdout",
     "output_type": "stream",
     "text": [
      "{'eval_loss': 0.12355297058820724, 'eval_f1': 0.675, 'eval_roc_auc': 0.7768485915492958, 'eval_accuracy': 0.5, 'eval_runtime': 0.0908, 'eval_samples_per_second': 484.725, 'eval_steps_per_second': 66.099, 'epoch': 11.0}\n"
     ]
    },
    {
     "name": "stderr",
     "output_type": "stream",
     "text": [
      "Model weights saved in ./distBert-v2/20230203_044137$-train-model-distilbert-base-uncased\\checkpoint-484\\pytorch_model.bin\n",
      "tokenizer config file saved in ./distBert-v2/20230203_044137$-train-model-distilbert-base-uncased\\checkpoint-484\\tokenizer_config.json\n",
      "Special tokens file saved in ./distBert-v2/20230203_044137$-train-model-distilbert-base-uncased\\checkpoint-484\\special_tokens_map.json\n",
      " 16%|█▋        | 503/3080 [01:36<06:10,  6.95it/s]  "
     ]
    },
    {
     "name": "stdout",
     "output_type": "stream",
     "text": [
      "{'loss': 0.2088, 'learning_rate': 1.6753246753246756e-05, 'epoch': 11.36}\n"
     ]
    },
    {
     "name": "stderr",
     "output_type": "stream",
     "text": [
      " 17%|█▋        | 527/3080 [01:37<02:23, 17.77it/s]***** Running Evaluation *****\n",
      "  Num examples = 44\n",
      "  Batch size = 8\n",
      "                                                  \n",
      " 17%|█▋        | 528/3080 [01:38<02:23, 17.77it/s]Saving model checkpoint to ./distBert-v2/20230203_044137$-train-model-distilbert-base-uncased\\checkpoint-528\n",
      "Configuration saved in ./distBert-v2/20230203_044137$-train-model-distilbert-base-uncased\\checkpoint-528\\config.json\n"
     ]
    },
    {
     "name": "stdout",
     "output_type": "stream",
     "text": [
      "{'eval_loss': 0.11822741478681564, 'eval_f1': 0.7228915662650602, 'eval_roc_auc': 0.8080985915492958, 'eval_accuracy': 0.5681818181818182, 'eval_runtime': 0.0913, 'eval_samples_per_second': 482.166, 'eval_steps_per_second': 65.75, 'epoch': 12.0}\n"
     ]
    },
    {
     "name": "stderr",
     "output_type": "stream",
     "text": [
      "Model weights saved in ./distBert-v2/20230203_044137$-train-model-distilbert-base-uncased\\checkpoint-528\\pytorch_model.bin\n",
      "tokenizer config file saved in ./distBert-v2/20230203_044137$-train-model-distilbert-base-uncased\\checkpoint-528\\tokenizer_config.json\n",
      "Special tokens file saved in ./distBert-v2/20230203_044137$-train-model-distilbert-base-uncased\\checkpoint-528\\special_tokens_map.json\n",
      " 19%|█▊        | 571/3080 [01:43<02:17, 18.20it/s]***** Running Evaluation *****\n",
      "  Num examples = 44\n",
      "  Batch size = 8\n",
      "                                                  \n",
      " 19%|█▊        | 572/3080 [01:43<02:17, 18.20it/s]Saving model checkpoint to ./distBert-v2/20230203_044137$-train-model-distilbert-base-uncased\\checkpoint-572\n",
      "Configuration saved in ./distBert-v2/20230203_044137$-train-model-distilbert-base-uncased\\checkpoint-572\\config.json\n"
     ]
    },
    {
     "name": "stdout",
     "output_type": "stream",
     "text": [
      "{'eval_loss': 0.11484511196613312, 'eval_f1': 0.691358024691358, 'eval_roc_auc': 0.7872652582159624, 'eval_accuracy': 0.5227272727272727, 'eval_runtime': 0.0882, 'eval_samples_per_second': 498.669, 'eval_steps_per_second': 68.0, 'epoch': 13.0}\n"
     ]
    },
    {
     "name": "stderr",
     "output_type": "stream",
     "text": [
      "Model weights saved in ./distBert-v2/20230203_044137$-train-model-distilbert-base-uncased\\checkpoint-572\\pytorch_model.bin\n",
      "tokenizer config file saved in ./distBert-v2/20230203_044137$-train-model-distilbert-base-uncased\\checkpoint-572\\tokenizer_config.json\n",
      "Special tokens file saved in ./distBert-v2/20230203_044137$-train-model-distilbert-base-uncased\\checkpoint-572\\special_tokens_map.json\n",
      " 20%|█▉        | 615/3080 [01:59<02:20, 17.57it/s]  ***** Running Evaluation *****\n",
      "  Num examples = 44\n",
      "  Batch size = 8\n",
      "                                                  \n",
      " 20%|██        | 616/3080 [01:59<02:20, 17.57it/s]Saving model checkpoint to ./distBert-v2/20230203_044137$-train-model-distilbert-base-uncased\\checkpoint-616\n",
      "Configuration saved in ./distBert-v2/20230203_044137$-train-model-distilbert-base-uncased\\checkpoint-616\\config.json\n"
     ]
    },
    {
     "name": "stdout",
     "output_type": "stream",
     "text": [
      "{'eval_loss': 0.11545469611883163, 'eval_f1': 0.7000000000000001, 'eval_roc_auc': 0.7881455399061034, 'eval_accuracy': 0.5227272727272727, 'eval_runtime': 0.0927, 'eval_samples_per_second': 474.431, 'eval_steps_per_second': 64.695, 'epoch': 14.0}\n"
     ]
    },
    {
     "name": "stderr",
     "output_type": "stream",
     "text": [
      "Model weights saved in ./distBert-v2/20230203_044137$-train-model-distilbert-base-uncased\\checkpoint-616\\pytorch_model.bin\n",
      "tokenizer config file saved in ./distBert-v2/20230203_044137$-train-model-distilbert-base-uncased\\checkpoint-616\\tokenizer_config.json\n",
      "Special tokens file saved in ./distBert-v2/20230203_044137$-train-model-distilbert-base-uncased\\checkpoint-616\\special_tokens_map.json\n",
      " 21%|██▏       | 659/3080 [02:16<02:18, 17.52it/s]  ***** Running Evaluation *****\n",
      "  Num examples = 44\n",
      "  Batch size = 8\n",
      "                                                  \n",
      " 21%|██▏       | 660/3080 [02:17<02:18, 17.52it/s]Saving model checkpoint to ./distBert-v2/20230203_044137$-train-model-distilbert-base-uncased\\checkpoint-660\n",
      "Configuration saved in ./distBert-v2/20230203_044137$-train-model-distilbert-base-uncased\\checkpoint-660\\config.json\n"
     ]
    },
    {
     "name": "stdout",
     "output_type": "stream",
     "text": [
      "{'eval_loss': 0.11021259427070618, 'eval_f1': 0.6835443037974683, 'eval_roc_auc': 0.7777288732394366, 'eval_accuracy': 0.5, 'eval_runtime': 0.0939, 'eval_samples_per_second': 468.46, 'eval_steps_per_second': 63.881, 'epoch': 15.0}\n"
     ]
    },
    {
     "name": "stderr",
     "output_type": "stream",
     "text": [
      "Model weights saved in ./distBert-v2/20230203_044137$-train-model-distilbert-base-uncased\\checkpoint-660\\pytorch_model.bin\n",
      "tokenizer config file saved in ./distBert-v2/20230203_044137$-train-model-distilbert-base-uncased\\checkpoint-660\\tokenizer_config.json\n",
      "Special tokens file saved in ./distBert-v2/20230203_044137$-train-model-distilbert-base-uncased\\checkpoint-660\\special_tokens_map.json\n",
      " 23%|██▎       | 703/3080 [02:20<02:20, 16.89it/s]***** Running Evaluation *****\n",
      "  Num examples = 44\n",
      "  Batch size = 8\n",
      "                                                  \n",
      " 23%|██▎       | 704/3080 [02:20<02:20, 16.89it/s]Saving model checkpoint to ./distBert-v2/20230203_044137$-train-model-distilbert-base-uncased\\checkpoint-704\n",
      "Configuration saved in ./distBert-v2/20230203_044137$-train-model-distilbert-base-uncased\\checkpoint-704\\config.json\n",
      " 23%|██▎       | 704/3080 [02:32<02:20, 16.89it/s]"
     ]
    },
    {
     "name": "stdout",
     "output_type": "stream",
     "text": [
      "{'eval_loss': 0.10316271334886551, 'eval_f1': 0.7727272727272727, 'eval_roc_auc': 0.8488849765258217, 'eval_accuracy': 0.6590909090909091, 'eval_runtime': 0.0961, 'eval_samples_per_second': 457.908, 'eval_steps_per_second': 62.442, 'epoch': 16.0}\n"
     ]
    },
    {
     "name": "stderr",
     "output_type": "stream",
     "text": [
      "Model weights saved in ./distBert-v2/20230203_044137$-train-model-distilbert-base-uncased\\checkpoint-704\\pytorch_model.bin\n",
      "tokenizer config file saved in ./distBert-v2/20230203_044137$-train-model-distilbert-base-uncased\\checkpoint-704\\tokenizer_config.json\n",
      "Special tokens file saved in ./distBert-v2/20230203_044137$-train-model-distilbert-base-uncased\\checkpoint-704\\special_tokens_map.json\n",
      " 24%|██▍       | 748/3080 [02:36<02:09, 18.04it/s]  ***** Running Evaluation *****\n",
      "  Num examples = 44\n",
      "  Batch size = 8\n",
      "                                                  \n",
      " 24%|██▍       | 748/3080 [02:36<02:09, 18.04it/s]Saving model checkpoint to ./distBert-v2/20230203_044137$-train-model-distilbert-base-uncased\\checkpoint-748\n",
      "Configuration saved in ./distBert-v2/20230203_044137$-train-model-distilbert-base-uncased\\checkpoint-748\\config.json\n"
     ]
    },
    {
     "name": "stdout",
     "output_type": "stream",
     "text": [
      "{'eval_loss': 0.11248237639665604, 'eval_f1': 0.7317073170731708, 'eval_roc_auc': 0.8089788732394366, 'eval_accuracy': 0.5681818181818182, 'eval_runtime': 0.089, 'eval_samples_per_second': 494.444, 'eval_steps_per_second': 67.424, 'epoch': 17.0}\n"
     ]
    },
    {
     "name": "stderr",
     "output_type": "stream",
     "text": [
      "Model weights saved in ./distBert-v2/20230203_044137$-train-model-distilbert-base-uncased\\checkpoint-748\\pytorch_model.bin\n",
      "tokenizer config file saved in ./distBert-v2/20230203_044137$-train-model-distilbert-base-uncased\\checkpoint-748\\tokenizer_config.json\n",
      "Special tokens file saved in ./distBert-v2/20230203_044137$-train-model-distilbert-base-uncased\\checkpoint-748\\special_tokens_map.json\n",
      " 26%|██▌       | 791/3080 [02:54<02:11, 17.35it/s]  ***** Running Evaluation *****\n",
      "  Num examples = 44\n",
      "  Batch size = 8\n",
      "                                                  \n",
      " 26%|██▌       | 792/3080 [02:54<02:11, 17.35it/s]Saving model checkpoint to ./distBert-v2/20230203_044137$-train-model-distilbert-base-uncased\\checkpoint-792\n",
      "Configuration saved in ./distBert-v2/20230203_044137$-train-model-distilbert-base-uncased\\checkpoint-792\\config.json\n"
     ]
    },
    {
     "name": "stdout",
     "output_type": "stream",
     "text": [
      "{'eval_loss': 0.10101556777954102, 'eval_f1': 0.744186046511628, 'eval_roc_auc': 0.8280516431924883, 'eval_accuracy': 0.6136363636363636, 'eval_runtime': 0.0858, 'eval_samples_per_second': 512.65, 'eval_steps_per_second': 69.907, 'epoch': 18.0}\n"
     ]
    },
    {
     "name": "stderr",
     "output_type": "stream",
     "text": [
      "Model weights saved in ./distBert-v2/20230203_044137$-train-model-distilbert-base-uncased\\checkpoint-792\\pytorch_model.bin\n",
      "tokenizer config file saved in ./distBert-v2/20230203_044137$-train-model-distilbert-base-uncased\\checkpoint-792\\tokenizer_config.json\n",
      "Special tokens file saved in ./distBert-v2/20230203_044137$-train-model-distilbert-base-uncased\\checkpoint-792\\special_tokens_map.json\n",
      " 27%|██▋       | 835/3080 [02:58<02:03, 18.15it/s]***** Running Evaluation *****\n",
      "  Num examples = 44\n",
      "  Batch size = 8\n",
      "                                                  \n",
      " 27%|██▋       | 836/3080 [02:58<02:03, 18.15it/s]Saving model checkpoint to ./distBert-v2/20230203_044137$-train-model-distilbert-base-uncased\\checkpoint-836\n",
      "Configuration saved in ./distBert-v2/20230203_044137$-train-model-distilbert-base-uncased\\checkpoint-836\\config.json\n",
      " 27%|██▋       | 836/3080 [03:09<02:03, 18.15it/s]"
     ]
    },
    {
     "name": "stdout",
     "output_type": "stream",
     "text": [
      "{'eval_loss': 0.09651095420122147, 'eval_f1': 0.738095238095238, 'eval_roc_auc': 0.8185152582159625, 'eval_accuracy': 0.5909090909090909, 'eval_runtime': 0.0933, 'eval_samples_per_second': 471.564, 'eval_steps_per_second': 64.304, 'epoch': 19.0}\n"
     ]
    },
    {
     "name": "stderr",
     "output_type": "stream",
     "text": [
      "Model weights saved in ./distBert-v2/20230203_044137$-train-model-distilbert-base-uncased\\checkpoint-836\\pytorch_model.bin\n",
      "tokenizer config file saved in ./distBert-v2/20230203_044137$-train-model-distilbert-base-uncased\\checkpoint-836\\tokenizer_config.json\n",
      "Special tokens file saved in ./distBert-v2/20230203_044137$-train-model-distilbert-base-uncased\\checkpoint-836\\special_tokens_map.json\n",
      " 29%|██▊       | 879/3080 [03:13<02:04, 17.73it/s]  ***** Running Evaluation *****\n",
      "  Num examples = 44\n",
      "  Batch size = 8\n",
      "                                                  \n",
      " 29%|██▊       | 880/3080 [03:13<02:04, 17.73it/s]Saving model checkpoint to ./distBert-v2/20230203_044137$-train-model-distilbert-base-uncased\\checkpoint-880\n",
      "Configuration saved in ./distBert-v2/20230203_044137$-train-model-distilbert-base-uncased\\checkpoint-880\\config.json\n"
     ]
    },
    {
     "name": "stdout",
     "output_type": "stream",
     "text": [
      "{'eval_loss': 0.09720360487699509, 'eval_f1': 0.744186046511628, 'eval_roc_auc': 0.8280516431924883, 'eval_accuracy': 0.5909090909090909, 'eval_runtime': 0.0916, 'eval_samples_per_second': 480.19, 'eval_steps_per_second': 65.48, 'epoch': 20.0}\n"
     ]
    },
    {
     "name": "stderr",
     "output_type": "stream",
     "text": [
      "Model weights saved in ./distBert-v2/20230203_044137$-train-model-distilbert-base-uncased\\checkpoint-880\\pytorch_model.bin\n",
      "tokenizer config file saved in ./distBert-v2/20230203_044137$-train-model-distilbert-base-uncased\\checkpoint-880\\tokenizer_config.json\n",
      "Special tokens file saved in ./distBert-v2/20230203_044137$-train-model-distilbert-base-uncased\\checkpoint-880\\special_tokens_map.json\n",
      " 30%|██▉       | 923/3080 [03:20<01:59, 17.99it/s]***** Running Evaluation *****\n",
      "  Num examples = 44\n",
      "  Batch size = 8\n",
      "                                                  \n",
      " 30%|███       | 924/3080 [03:20<01:59, 17.99it/s]Saving model checkpoint to ./distBert-v2/20230203_044137$-train-model-distilbert-base-uncased\\checkpoint-924\n",
      "Configuration saved in ./distBert-v2/20230203_044137$-train-model-distilbert-base-uncased\\checkpoint-924\\config.json\n"
     ]
    },
    {
     "name": "stdout",
     "output_type": "stream",
     "text": [
      "{'eval_loss': 0.09767262637615204, 'eval_f1': 0.7529411764705882, 'eval_roc_auc': 0.828931924882629, 'eval_accuracy': 0.6136363636363636, 'eval_runtime': 0.0856, 'eval_samples_per_second': 513.777, 'eval_steps_per_second': 70.061, 'epoch': 21.0}\n"
     ]
    },
    {
     "name": "stderr",
     "output_type": "stream",
     "text": [
      "Model weights saved in ./distBert-v2/20230203_044137$-train-model-distilbert-base-uncased\\checkpoint-924\\pytorch_model.bin\n",
      "tokenizer config file saved in ./distBert-v2/20230203_044137$-train-model-distilbert-base-uncased\\checkpoint-924\\tokenizer_config.json\n",
      "Special tokens file saved in ./distBert-v2/20230203_044137$-train-model-distilbert-base-uncased\\checkpoint-924\\special_tokens_map.json\n",
      " 31%|███▏      | 967/3080 [03:31<01:59, 17.72it/s]***** Running Evaluation *****\n",
      "  Num examples = 44\n",
      "  Batch size = 8\n",
      "                                                  \n",
      " 31%|███▏      | 968/3080 [03:31<01:59, 17.72it/s]Saving model checkpoint to ./distBert-v2/20230203_044137$-train-model-distilbert-base-uncased\\checkpoint-968\n",
      "Configuration saved in ./distBert-v2/20230203_044137$-train-model-distilbert-base-uncased\\checkpoint-968\\config.json\n"
     ]
    },
    {
     "name": "stdout",
     "output_type": "stream",
     "text": [
      "{'eval_loss': 0.09236656874418259, 'eval_f1': 0.7764705882352941, 'eval_roc_auc': 0.8402288732394366, 'eval_accuracy': 0.6363636363636364, 'eval_runtime': 0.091, 'eval_samples_per_second': 483.338, 'eval_steps_per_second': 65.91, 'epoch': 22.0}\n"
     ]
    },
    {
     "name": "stderr",
     "output_type": "stream",
     "text": [
      "Model weights saved in ./distBert-v2/20230203_044137$-train-model-distilbert-base-uncased\\checkpoint-968\\pytorch_model.bin\n",
      "tokenizer config file saved in ./distBert-v2/20230203_044137$-train-model-distilbert-base-uncased\\checkpoint-968\\tokenizer_config.json\n",
      "Special tokens file saved in ./distBert-v2/20230203_044137$-train-model-distilbert-base-uncased\\checkpoint-968\\special_tokens_map.json\n",
      " 33%|███▎      | 1002/3080 [03:49<02:08, 16.13it/s] "
     ]
    },
    {
     "name": "stdout",
     "output_type": "stream",
     "text": [
      "{'loss': 0.0354, 'learning_rate': 1.3506493506493508e-05, 'epoch': 22.73}\n"
     ]
    },
    {
     "name": "stderr",
     "output_type": "stream",
     "text": [
      " 33%|███▎      | 1012/3080 [03:49<01:53, 18.29it/s]***** Running Evaluation *****\n",
      "  Num examples = 44\n",
      "  Batch size = 8\n",
      "                                                   \n",
      " 33%|███▎      | 1012/3080 [03:49<01:53, 18.29it/s]Saving model checkpoint to ./distBert-v2/20230203_044137$-train-model-distilbert-base-uncased\\checkpoint-1012\n",
      "Configuration saved in ./distBert-v2/20230203_044137$-train-model-distilbert-base-uncased\\checkpoint-1012\\config.json\n"
     ]
    },
    {
     "name": "stdout",
     "output_type": "stream",
     "text": [
      "{'eval_loss': 0.0977751687169075, 'eval_f1': 0.7816091954022988, 'eval_roc_auc': 0.8497652582159625, 'eval_accuracy': 0.6363636363636364, 'eval_runtime': 0.0913, 'eval_samples_per_second': 481.758, 'eval_steps_per_second': 65.694, 'epoch': 23.0}\n"
     ]
    },
    {
     "name": "stderr",
     "output_type": "stream",
     "text": [
      "Model weights saved in ./distBert-v2/20230203_044137$-train-model-distilbert-base-uncased\\checkpoint-1012\\pytorch_model.bin\n",
      "tokenizer config file saved in ./distBert-v2/20230203_044137$-train-model-distilbert-base-uncased\\checkpoint-1012\\tokenizer_config.json\n",
      "Special tokens file saved in ./distBert-v2/20230203_044137$-train-model-distilbert-base-uncased\\checkpoint-1012\\special_tokens_map.json\n",
      " 34%|███▍      | 1056/3080 [03:58<01:50, 18.29it/s]***** Running Evaluation *****\n",
      "  Num examples = 44\n",
      "  Batch size = 8\n",
      "                                                   \n",
      " 34%|███▍      | 1056/3080 [03:58<01:50, 18.29it/s]Saving model checkpoint to ./distBert-v2/20230203_044137$-train-model-distilbert-base-uncased\\checkpoint-1056\n",
      "Configuration saved in ./distBert-v2/20230203_044137$-train-model-distilbert-base-uncased\\checkpoint-1056\\config.json\n"
     ]
    },
    {
     "name": "stdout",
     "output_type": "stream",
     "text": [
      "{'eval_loss': 0.09335646778345108, 'eval_f1': 0.7777777777777777, 'eval_roc_auc': 0.8584213615023473, 'eval_accuracy': 0.6363636363636364, 'eval_runtime': 0.0883, 'eval_samples_per_second': 498.358, 'eval_steps_per_second': 67.958, 'epoch': 24.0}\n"
     ]
    },
    {
     "name": "stderr",
     "output_type": "stream",
     "text": [
      "Model weights saved in ./distBert-v2/20230203_044137$-train-model-distilbert-base-uncased\\checkpoint-1056\\pytorch_model.bin\n",
      "tokenizer config file saved in ./distBert-v2/20230203_044137$-train-model-distilbert-base-uncased\\checkpoint-1056\\tokenizer_config.json\n",
      "Special tokens file saved in ./distBert-v2/20230203_044137$-train-model-distilbert-base-uncased\\checkpoint-1056\\special_tokens_map.json\n",
      " 36%|███▌      | 1098/3080 [04:08<01:50, 17.92it/s]***** Running Evaluation *****\n",
      "  Num examples = 44\n",
      "  Batch size = 8\n",
      "                                                   \n",
      " 36%|███▌      | 1100/3080 [04:08<01:50, 17.92it/s]Saving model checkpoint to ./distBert-v2/20230203_044137$-train-model-distilbert-base-uncased\\checkpoint-1100\n",
      "Configuration saved in ./distBert-v2/20230203_044137$-train-model-distilbert-base-uncased\\checkpoint-1100\\config.json\n"
     ]
    },
    {
     "name": "stdout",
     "output_type": "stream",
     "text": [
      "{'eval_loss': 0.09403788298368454, 'eval_f1': 0.7816091954022988, 'eval_roc_auc': 0.8497652582159625, 'eval_accuracy': 0.6590909090909091, 'eval_runtime': 0.0911, 'eval_samples_per_second': 482.854, 'eval_steps_per_second': 65.844, 'epoch': 25.0}\n"
     ]
    },
    {
     "name": "stderr",
     "output_type": "stream",
     "text": [
      "Model weights saved in ./distBert-v2/20230203_044137$-train-model-distilbert-base-uncased\\checkpoint-1100\\pytorch_model.bin\n",
      "tokenizer config file saved in ./distBert-v2/20230203_044137$-train-model-distilbert-base-uncased\\checkpoint-1100\\tokenizer_config.json\n",
      "Special tokens file saved in ./distBert-v2/20230203_044137$-train-model-distilbert-base-uncased\\checkpoint-1100\\special_tokens_map.json\n",
      " 37%|███▋      | 1144/3080 [04:26<01:46, 18.18it/s]  ***** Running Evaluation *****\n",
      "  Num examples = 44\n",
      "  Batch size = 8\n",
      "                                                   \n",
      " 37%|███▋      | 1144/3080 [04:26<01:46, 18.18it/s]Saving model checkpoint to ./distBert-v2/20230203_044137$-train-model-distilbert-base-uncased\\checkpoint-1144\n",
      "Configuration saved in ./distBert-v2/20230203_044137$-train-model-distilbert-base-uncased\\checkpoint-1144\\config.json\n"
     ]
    },
    {
     "name": "stdout",
     "output_type": "stream",
     "text": [
      "{'eval_loss': 0.09611544013023376, 'eval_f1': 0.7906976744186046, 'eval_roc_auc': 0.8506455399061034, 'eval_accuracy': 0.6363636363636364, 'eval_runtime': 0.0895, 'eval_samples_per_second': 491.837, 'eval_steps_per_second': 67.069, 'epoch': 26.0}\n"
     ]
    },
    {
     "name": "stderr",
     "output_type": "stream",
     "text": [
      "Model weights saved in ./distBert-v2/20230203_044137$-train-model-distilbert-base-uncased\\checkpoint-1144\\pytorch_model.bin\n",
      "tokenizer config file saved in ./distBert-v2/20230203_044137$-train-model-distilbert-base-uncased\\checkpoint-1144\\tokenizer_config.json\n",
      "Special tokens file saved in ./distBert-v2/20230203_044137$-train-model-distilbert-base-uncased\\checkpoint-1144\\special_tokens_map.json\n",
      " 39%|███▊      | 1188/3080 [04:38<01:44, 18.09it/s]***** Running Evaluation *****\n",
      "  Num examples = 44\n",
      "  Batch size = 8\n",
      "                                                   \n",
      " 39%|███▊      | 1188/3080 [04:38<01:44, 18.09it/s]Saving model checkpoint to ./distBert-v2/20230203_044137$-train-model-distilbert-base-uncased\\checkpoint-1188\n",
      "Configuration saved in ./distBert-v2/20230203_044137$-train-model-distilbert-base-uncased\\checkpoint-1188\\config.json\n"
     ]
    },
    {
     "name": "stdout",
     "output_type": "stream",
     "text": [
      "{'eval_loss': 0.09676405787467957, 'eval_f1': 0.75, 'eval_roc_auc': 0.8375880281690141, 'eval_accuracy': 0.6136363636363636, 'eval_runtime': 0.0928, 'eval_samples_per_second': 474.324, 'eval_steps_per_second': 64.68, 'epoch': 27.0}\n"
     ]
    },
    {
     "name": "stderr",
     "output_type": "stream",
     "text": [
      "Model weights saved in ./distBert-v2/20230203_044137$-train-model-distilbert-base-uncased\\checkpoint-1188\\pytorch_model.bin\n",
      "tokenizer config file saved in ./distBert-v2/20230203_044137$-train-model-distilbert-base-uncased\\checkpoint-1188\\tokenizer_config.json\n",
      "Special tokens file saved in ./distBert-v2/20230203_044137$-train-model-distilbert-base-uncased\\checkpoint-1188\\special_tokens_map.json\n",
      " 40%|████      | 1232/3080 [04:45<01:40, 18.44it/s]***** Running Evaluation *****\n",
      "  Num examples = 44\n",
      "  Batch size = 8\n",
      "                                                   \n",
      " 40%|████      | 1232/3080 [04:45<01:40, 18.44it/s]Saving model checkpoint to ./distBert-v2/20230203_044137$-train-model-distilbert-base-uncased\\checkpoint-1232\n",
      "Configuration saved in ./distBert-v2/20230203_044137$-train-model-distilbert-base-uncased\\checkpoint-1232\\config.json\n"
     ]
    },
    {
     "name": "stdout",
     "output_type": "stream",
     "text": [
      "{'eval_loss': 0.09562449157238007, 'eval_f1': 0.7906976744186046, 'eval_roc_auc': 0.8506455399061034, 'eval_accuracy': 0.6363636363636364, 'eval_runtime': 0.0893, 'eval_samples_per_second': 492.781, 'eval_steps_per_second': 67.197, 'epoch': 28.0}\n"
     ]
    },
    {
     "name": "stderr",
     "output_type": "stream",
     "text": [
      "Model weights saved in ./distBert-v2/20230203_044137$-train-model-distilbert-base-uncased\\checkpoint-1232\\pytorch_model.bin\n",
      "tokenizer config file saved in ./distBert-v2/20230203_044137$-train-model-distilbert-base-uncased\\checkpoint-1232\\tokenizer_config.json\n",
      "Special tokens file saved in ./distBert-v2/20230203_044137$-train-model-distilbert-base-uncased\\checkpoint-1232\\special_tokens_map.json\n",
      " 41%|████▏     | 1276/3080 [05:02<01:38, 18.35it/s]  ***** Running Evaluation *****\n",
      "  Num examples = 44\n",
      "  Batch size = 8\n",
      "                                                   \n",
      " 41%|████▏     | 1276/3080 [05:02<01:38, 18.35it/s]Saving model checkpoint to ./distBert-v2/20230203_044137$-train-model-distilbert-base-uncased\\checkpoint-1276\n",
      "Configuration saved in ./distBert-v2/20230203_044137$-train-model-distilbert-base-uncased\\checkpoint-1276\\config.json\n"
     ]
    },
    {
     "name": "stdout",
     "output_type": "stream",
     "text": [
      "{'eval_loss': 0.10277722030878067, 'eval_f1': 0.7555555555555556, 'eval_roc_auc': 0.84712441314554, 'eval_accuracy': 0.6136363636363636, 'eval_runtime': 0.0877, 'eval_samples_per_second': 501.888, 'eval_steps_per_second': 68.439, 'epoch': 29.0}\n"
     ]
    },
    {
     "name": "stderr",
     "output_type": "stream",
     "text": [
      "Model weights saved in ./distBert-v2/20230203_044137$-train-model-distilbert-base-uncased\\checkpoint-1276\\pytorch_model.bin\n",
      "tokenizer config file saved in ./distBert-v2/20230203_044137$-train-model-distilbert-base-uncased\\checkpoint-1276\\tokenizer_config.json\n",
      "Special tokens file saved in ./distBert-v2/20230203_044137$-train-model-distilbert-base-uncased\\checkpoint-1276\\special_tokens_map.json\n",
      " 43%|████▎     | 1320/3080 [05:13<01:36, 18.29it/s]***** Running Evaluation *****\n",
      "  Num examples = 44\n",
      "  Batch size = 8\n",
      "                                                   \n",
      " 43%|████▎     | 1320/3080 [05:13<01:36, 18.29it/s]Saving model checkpoint to ./distBert-v2/20230203_044137$-train-model-distilbert-base-uncased\\checkpoint-1320\n",
      "Configuration saved in ./distBert-v2/20230203_044137$-train-model-distilbert-base-uncased\\checkpoint-1320\\config.json\n"
     ]
    },
    {
     "name": "stdout",
     "output_type": "stream",
     "text": [
      "{'eval_loss': 0.0956304743885994, 'eval_f1': 0.7764705882352941, 'eval_roc_auc': 0.8402288732394366, 'eval_accuracy': 0.6363636363636364, 'eval_runtime': 0.0903, 'eval_samples_per_second': 487.392, 'eval_steps_per_second': 66.462, 'epoch': 30.0}\n"
     ]
    },
    {
     "name": "stderr",
     "output_type": "stream",
     "text": [
      "Model weights saved in ./distBert-v2/20230203_044137$-train-model-distilbert-base-uncased\\checkpoint-1320\\pytorch_model.bin\n",
      "tokenizer config file saved in ./distBert-v2/20230203_044137$-train-model-distilbert-base-uncased\\checkpoint-1320\\tokenizer_config.json\n",
      "Special tokens file saved in ./distBert-v2/20230203_044137$-train-model-distilbert-base-uncased\\checkpoint-1320\\special_tokens_map.json\n",
      " 44%|████▍     | 1364/3080 [05:20<01:34, 18.17it/s]***** Running Evaluation *****\n",
      "  Num examples = 44\n",
      "  Batch size = 8\n",
      "                                                   \n",
      " 44%|████▍     | 1364/3080 [05:21<01:34, 18.17it/s]Saving model checkpoint to ./distBert-v2/20230203_044137$-train-model-distilbert-base-uncased\\checkpoint-1364\n",
      "Configuration saved in ./distBert-v2/20230203_044137$-train-model-distilbert-base-uncased\\checkpoint-1364\\config.json\n"
     ]
    },
    {
     "name": "stdout",
     "output_type": "stream",
     "text": [
      "{'eval_loss': 0.0999867171049118, 'eval_f1': 0.75, 'eval_roc_auc': 0.8375880281690141, 'eval_accuracy': 0.6136363636363636, 'eval_runtime': 0.09, 'eval_samples_per_second': 489.023, 'eval_steps_per_second': 66.685, 'epoch': 31.0}\n"
     ]
    },
    {
     "name": "stderr",
     "output_type": "stream",
     "text": [
      "Model weights saved in ./distBert-v2/20230203_044137$-train-model-distilbert-base-uncased\\checkpoint-1364\\pytorch_model.bin\n",
      "tokenizer config file saved in ./distBert-v2/20230203_044137$-train-model-distilbert-base-uncased\\checkpoint-1364\\tokenizer_config.json\n",
      "Special tokens file saved in ./distBert-v2/20230203_044137$-train-model-distilbert-base-uncased\\checkpoint-1364\\special_tokens_map.json\n",
      " 46%|████▌     | 1407/3080 [05:39<01:34, 17.74it/s]  ***** Running Evaluation *****\n",
      "  Num examples = 44\n",
      "  Batch size = 8\n",
      "                                                   \n",
      " 46%|████▌     | 1408/3080 [05:39<01:34, 17.74it/s]Saving model checkpoint to ./distBert-v2/20230203_044137$-train-model-distilbert-base-uncased\\checkpoint-1408\n",
      "Configuration saved in ./distBert-v2/20230203_044137$-train-model-distilbert-base-uncased\\checkpoint-1408\\config.json\n"
     ]
    },
    {
     "name": "stdout",
     "output_type": "stream",
     "text": [
      "{'eval_loss': 0.10101108998060226, 'eval_f1': 0.7555555555555556, 'eval_roc_auc': 0.84712441314554, 'eval_accuracy': 0.6136363636363636, 'eval_runtime': 0.091, 'eval_samples_per_second': 483.277, 'eval_steps_per_second': 65.901, 'epoch': 32.0}\n"
     ]
    },
    {
     "name": "stderr",
     "output_type": "stream",
     "text": [
      "Model weights saved in ./distBert-v2/20230203_044137$-train-model-distilbert-base-uncased\\checkpoint-1408\\pytorch_model.bin\n",
      "tokenizer config file saved in ./distBert-v2/20230203_044137$-train-model-distilbert-base-uncased\\checkpoint-1408\\tokenizer_config.json\n",
      "Special tokens file saved in ./distBert-v2/20230203_044137$-train-model-distilbert-base-uncased\\checkpoint-1408\\special_tokens_map.json\n",
      " 47%|████▋     | 1451/3080 [05:52<01:30, 17.98it/s]***** Running Evaluation *****\n",
      "  Num examples = 44\n",
      "  Batch size = 8\n",
      "                                                   \n",
      " 47%|████▋     | 1452/3080 [05:52<01:30, 17.98it/s]Saving model checkpoint to ./distBert-v2/20230203_044137$-train-model-distilbert-base-uncased\\checkpoint-1452\n",
      "Configuration saved in ./distBert-v2/20230203_044137$-train-model-distilbert-base-uncased\\checkpoint-1452\\config.json\n"
     ]
    },
    {
     "name": "stdout",
     "output_type": "stream",
     "text": [
      "{'eval_loss': 0.09766719490289688, 'eval_f1': 0.7816091954022988, 'eval_roc_auc': 0.8497652582159625, 'eval_accuracy': 0.6590909090909091, 'eval_runtime': 0.0878, 'eval_samples_per_second': 501.287, 'eval_steps_per_second': 68.357, 'epoch': 33.0}\n"
     ]
    },
    {
     "name": "stderr",
     "output_type": "stream",
     "text": [
      "Model weights saved in ./distBert-v2/20230203_044137$-train-model-distilbert-base-uncased\\checkpoint-1452\\pytorch_model.bin\n",
      "tokenizer config file saved in ./distBert-v2/20230203_044137$-train-model-distilbert-base-uncased\\checkpoint-1452\\tokenizer_config.json\n",
      "Special tokens file saved in ./distBert-v2/20230203_044137$-train-model-distilbert-base-uncased\\checkpoint-1452\\special_tokens_map.json\n",
      " 49%|████▊     | 1495/3080 [05:58<01:28, 17.85it/s]***** Running Evaluation *****\n",
      "  Num examples = 44\n",
      "  Batch size = 8\n",
      "                                                   \n",
      " 49%|████▊     | 1496/3080 [05:58<01:28, 17.85it/s]Saving model checkpoint to ./distBert-v2/20230203_044137$-train-model-distilbert-base-uncased\\checkpoint-1496\n",
      "Configuration saved in ./distBert-v2/20230203_044137$-train-model-distilbert-base-uncased\\checkpoint-1496\\config.json\n"
     ]
    },
    {
     "name": "stdout",
     "output_type": "stream",
     "text": [
      "{'eval_loss': 0.10194763541221619, 'eval_f1': 0.7640449438202247, 'eval_roc_auc': 0.8480046948356809, 'eval_accuracy': 0.6363636363636364, 'eval_runtime': 0.0903, 'eval_samples_per_second': 487.217, 'eval_steps_per_second': 66.439, 'epoch': 34.0}\n"
     ]
    },
    {
     "name": "stderr",
     "output_type": "stream",
     "text": [
      "Model weights saved in ./distBert-v2/20230203_044137$-train-model-distilbert-base-uncased\\checkpoint-1496\\pytorch_model.bin\n",
      "tokenizer config file saved in ./distBert-v2/20230203_044137$-train-model-distilbert-base-uncased\\checkpoint-1496\\tokenizer_config.json\n",
      "Special tokens file saved in ./distBert-v2/20230203_044137$-train-model-distilbert-base-uncased\\checkpoint-1496\\special_tokens_map.json\n",
      " 49%|████▉     | 1503/3080 [06:14<22:07,  1.19it/s]  "
     ]
    },
    {
     "name": "stdout",
     "output_type": "stream",
     "text": [
      "{'loss': 0.0118, 'learning_rate': 1.025974025974026e-05, 'epoch': 34.09}\n"
     ]
    },
    {
     "name": "stderr",
     "output_type": "stream",
     "text": [
      " 50%|████▉     | 1539/3080 [06:16<01:26, 17.80it/s]***** Running Evaluation *****\n",
      "  Num examples = 44\n",
      "  Batch size = 8\n",
      "                                                   \n",
      " 50%|█████     | 1540/3080 [06:16<01:26, 17.80it/s]Saving model checkpoint to ./distBert-v2/20230203_044137$-train-model-distilbert-base-uncased\\checkpoint-1540\n",
      "Configuration saved in ./distBert-v2/20230203_044137$-train-model-distilbert-base-uncased\\checkpoint-1540\\config.json\n"
     ]
    },
    {
     "name": "stdout",
     "output_type": "stream",
     "text": [
      "{'eval_loss': 0.09611711651086807, 'eval_f1': 0.7692307692307692, 'eval_roc_auc': 0.8575410798122065, 'eval_accuracy': 0.6363636363636364, 'eval_runtime': 0.0893, 'eval_samples_per_second': 492.54, 'eval_steps_per_second': 67.165, 'epoch': 35.0}\n"
     ]
    },
    {
     "name": "stderr",
     "output_type": "stream",
     "text": [
      "Model weights saved in ./distBert-v2/20230203_044137$-train-model-distilbert-base-uncased\\checkpoint-1540\\pytorch_model.bin\n",
      "tokenizer config file saved in ./distBert-v2/20230203_044137$-train-model-distilbert-base-uncased\\checkpoint-1540\\tokenizer_config.json\n",
      "Special tokens file saved in ./distBert-v2/20230203_044137$-train-model-distilbert-base-uncased\\checkpoint-1540\\special_tokens_map.json\n",
      " 51%|█████▏    | 1583/3080 [06:33<01:24, 17.61it/s]***** Running Evaluation *****\n",
      "  Num examples = 44\n",
      "  Batch size = 8\n",
      "                                                   \n",
      " 51%|█████▏    | 1584/3080 [06:33<01:24, 17.61it/s]Saving model checkpoint to ./distBert-v2/20230203_044137$-train-model-distilbert-base-uncased\\checkpoint-1584\n",
      "Configuration saved in ./distBert-v2/20230203_044137$-train-model-distilbert-base-uncased\\checkpoint-1584\\config.json\n"
     ]
    },
    {
     "name": "stdout",
     "output_type": "stream",
     "text": [
      "{'eval_loss': 0.09559784084558487, 'eval_f1': 0.7954545454545454, 'eval_roc_auc': 0.860181924882629, 'eval_accuracy': 0.6818181818181818, 'eval_runtime': 0.0934, 'eval_samples_per_second': 471.21, 'eval_steps_per_second': 64.256, 'epoch': 36.0}\n"
     ]
    },
    {
     "name": "stderr",
     "output_type": "stream",
     "text": [
      "Model weights saved in ./distBert-v2/20230203_044137$-train-model-distilbert-base-uncased\\checkpoint-1584\\pytorch_model.bin\n",
      "tokenizer config file saved in ./distBert-v2/20230203_044137$-train-model-distilbert-base-uncased\\checkpoint-1584\\tokenizer_config.json\n",
      "Special tokens file saved in ./distBert-v2/20230203_044137$-train-model-distilbert-base-uncased\\checkpoint-1584\\special_tokens_map.json\n",
      " 53%|█████▎    | 1627/3080 [06:37<01:19, 18.25it/s]***** Running Evaluation *****\n",
      "  Num examples = 44\n",
      "  Batch size = 8\n",
      "                                                   \n",
      " 53%|█████▎    | 1628/3080 [06:37<01:19, 18.25it/s]Saving model checkpoint to ./distBert-v2/20230203_044137$-train-model-distilbert-base-uncased\\checkpoint-1628\n",
      "Configuration saved in ./distBert-v2/20230203_044137$-train-model-distilbert-base-uncased\\checkpoint-1628\\config.json\n"
     ]
    },
    {
     "name": "stdout",
     "output_type": "stream",
     "text": [
      "{'eval_loss': 0.10086458176374435, 'eval_f1': 0.7640449438202247, 'eval_roc_auc': 0.8480046948356809, 'eval_accuracy': 0.6363636363636364, 'eval_runtime': 0.0908, 'eval_samples_per_second': 484.77, 'eval_steps_per_second': 66.105, 'epoch': 37.0}\n"
     ]
    },
    {
     "name": "stderr",
     "output_type": "stream",
     "text": [
      "Model weights saved in ./distBert-v2/20230203_044137$-train-model-distilbert-base-uncased\\checkpoint-1628\\pytorch_model.bin\n",
      "tokenizer config file saved in ./distBert-v2/20230203_044137$-train-model-distilbert-base-uncased\\checkpoint-1628\\tokenizer_config.json\n",
      "Special tokens file saved in ./distBert-v2/20230203_044137$-train-model-distilbert-base-uncased\\checkpoint-1628\\special_tokens_map.json\n",
      " 54%|█████▍    | 1672/3080 [06:53<01:17, 18.14it/s]***** Running Evaluation *****\n",
      "  Num examples = 44\n",
      "  Batch size = 8\n",
      "                                                   \n",
      " 54%|█████▍    | 1672/3080 [06:53<01:17, 18.14it/s]Saving model checkpoint to ./distBert-v2/20230203_044137$-train-model-distilbert-base-uncased\\checkpoint-1672\n",
      "Configuration saved in ./distBert-v2/20230203_044137$-train-model-distilbert-base-uncased\\checkpoint-1672\\config.json\n"
     ]
    },
    {
     "name": "stdout",
     "output_type": "stream",
     "text": [
      "{'eval_loss': 0.09916654229164124, 'eval_f1': 0.7865168539325843, 'eval_roc_auc': 0.8593016431924883, 'eval_accuracy': 0.6590909090909091, 'eval_runtime': 0.0887, 'eval_samples_per_second': 495.819, 'eval_steps_per_second': 67.612, 'epoch': 38.0}\n"
     ]
    },
    {
     "name": "stderr",
     "output_type": "stream",
     "text": [
      "Model weights saved in ./distBert-v2/20230203_044137$-train-model-distilbert-base-uncased\\checkpoint-1672\\pytorch_model.bin\n",
      "tokenizer config file saved in ./distBert-v2/20230203_044137$-train-model-distilbert-base-uncased\\checkpoint-1672\\tokenizer_config.json\n",
      "Special tokens file saved in ./distBert-v2/20230203_044137$-train-model-distilbert-base-uncased\\checkpoint-1672\\special_tokens_map.json\n",
      " 56%|█████▌    | 1715/3080 [07:09<01:16, 17.87it/s]***** Running Evaluation *****\n",
      "  Num examples = 44\n",
      "  Batch size = 8\n",
      "                                                   \n",
      " 56%|█████▌    | 1716/3080 [07:10<01:16, 17.87it/s]Saving model checkpoint to ./distBert-v2/20230203_044137$-train-model-distilbert-base-uncased\\checkpoint-1716\n",
      "Configuration saved in ./distBert-v2/20230203_044137$-train-model-distilbert-base-uncased\\checkpoint-1716\\config.json\n"
     ]
    },
    {
     "name": "stdout",
     "output_type": "stream",
     "text": [
      "{'eval_loss': 0.10249987244606018, 'eval_f1': 0.7777777777777777, 'eval_roc_auc': 0.8584213615023473, 'eval_accuracy': 0.6590909090909091, 'eval_runtime': 0.0883, 'eval_samples_per_second': 498.447, 'eval_steps_per_second': 67.97, 'epoch': 39.0}\n"
     ]
    },
    {
     "name": "stderr",
     "output_type": "stream",
     "text": [
      "Model weights saved in ./distBert-v2/20230203_044137$-train-model-distilbert-base-uncased\\checkpoint-1716\\pytorch_model.bin\n",
      "tokenizer config file saved in ./distBert-v2/20230203_044137$-train-model-distilbert-base-uncased\\checkpoint-1716\\tokenizer_config.json\n",
      "Special tokens file saved in ./distBert-v2/20230203_044137$-train-model-distilbert-base-uncased\\checkpoint-1716\\special_tokens_map.json\n",
      " 57%|█████▋    | 1759/3080 [07:26<01:15, 17.38it/s]***** Running Evaluation *****\n",
      "  Num examples = 44\n",
      "  Batch size = 8\n",
      "                                                   \n",
      " 57%|█████▋    | 1760/3080 [07:26<01:15, 17.38it/s]Saving model checkpoint to ./distBert-v2/20230203_044137$-train-model-distilbert-base-uncased\\checkpoint-1760\n",
      "Configuration saved in ./distBert-v2/20230203_044137$-train-model-distilbert-base-uncased\\checkpoint-1760\\config.json\n"
     ]
    },
    {
     "name": "stdout",
     "output_type": "stream",
     "text": [
      "{'eval_loss': 0.10068514943122864, 'eval_f1': 0.7777777777777777, 'eval_roc_auc': 0.8584213615023473, 'eval_accuracy': 0.6590909090909091, 'eval_runtime': 0.0864, 'eval_samples_per_second': 509.048, 'eval_steps_per_second': 69.416, 'epoch': 40.0}\n"
     ]
    },
    {
     "name": "stderr",
     "output_type": "stream",
     "text": [
      "Model weights saved in ./distBert-v2/20230203_044137$-train-model-distilbert-base-uncased\\checkpoint-1760\\pytorch_model.bin\n",
      "tokenizer config file saved in ./distBert-v2/20230203_044137$-train-model-distilbert-base-uncased\\checkpoint-1760\\tokenizer_config.json\n",
      "Special tokens file saved in ./distBert-v2/20230203_044137$-train-model-distilbert-base-uncased\\checkpoint-1760\\special_tokens_map.json\n",
      " 59%|█████▊    | 1803/3080 [07:44<01:12, 17.55it/s]***** Running Evaluation *****\n",
      "  Num examples = 44\n",
      "  Batch size = 8\n",
      "                                                   \n",
      " 59%|█████▊    | 1804/3080 [07:44<01:12, 17.55it/s]Saving model checkpoint to ./distBert-v2/20230203_044137$-train-model-distilbert-base-uncased\\checkpoint-1804\n",
      "Configuration saved in ./distBert-v2/20230203_044137$-train-model-distilbert-base-uncased\\checkpoint-1804\\config.json\n"
     ]
    },
    {
     "name": "stdout",
     "output_type": "stream",
     "text": [
      "{'eval_loss': 0.09847504645586014, 'eval_f1': 0.7912087912087912, 'eval_roc_auc': 0.868838028169014, 'eval_accuracy': 0.6590909090909091, 'eval_runtime': 0.0936, 'eval_samples_per_second': 470.306, 'eval_steps_per_second': 64.133, 'epoch': 41.0}\n"
     ]
    },
    {
     "name": "stderr",
     "output_type": "stream",
     "text": [
      "Model weights saved in ./distBert-v2/20230203_044137$-train-model-distilbert-base-uncased\\checkpoint-1804\\pytorch_model.bin\n",
      "tokenizer config file saved in ./distBert-v2/20230203_044137$-train-model-distilbert-base-uncased\\checkpoint-1804\\tokenizer_config.json\n",
      "Special tokens file saved in ./distBert-v2/20230203_044137$-train-model-distilbert-base-uncased\\checkpoint-1804\\special_tokens_map.json\n",
      " 60%|█████▉    | 1847/3080 [07:47<01:07, 18.19it/s]***** Running Evaluation *****\n",
      "  Num examples = 44\n",
      "  Batch size = 8\n",
      "                                                   \n",
      " 60%|██████    | 1848/3080 [07:47<01:07, 18.19it/s]Saving model checkpoint to ./distBert-v2/20230203_044137$-train-model-distilbert-base-uncased\\checkpoint-1848\n",
      "Configuration saved in ./distBert-v2/20230203_044137$-train-model-distilbert-base-uncased\\checkpoint-1848\\config.json\n"
     ]
    },
    {
     "name": "stdout",
     "output_type": "stream",
     "text": [
      "{'eval_loss': 0.10203761607408524, 'eval_f1': 0.7912087912087912, 'eval_roc_auc': 0.868838028169014, 'eval_accuracy': 0.6818181818181818, 'eval_runtime': 0.0931, 'eval_samples_per_second': 472.744, 'eval_steps_per_second': 64.465, 'epoch': 42.0}\n"
     ]
    },
    {
     "name": "stderr",
     "output_type": "stream",
     "text": [
      "Model weights saved in ./distBert-v2/20230203_044137$-train-model-distilbert-base-uncased\\checkpoint-1848\\pytorch_model.bin\n",
      "tokenizer config file saved in ./distBert-v2/20230203_044137$-train-model-distilbert-base-uncased\\checkpoint-1848\\tokenizer_config.json\n",
      "Special tokens file saved in ./distBert-v2/20230203_044137$-train-model-distilbert-base-uncased\\checkpoint-1848\\special_tokens_map.json\n",
      " 61%|██████▏   | 1891/3080 [08:04<01:06, 18.01it/s]***** Running Evaluation *****\n",
      "  Num examples = 44\n",
      "  Batch size = 8\n",
      "                                                   \n",
      " 61%|██████▏   | 1892/3080 [08:04<01:05, 18.01it/s]Saving model checkpoint to ./distBert-v2/20230203_044137$-train-model-distilbert-base-uncased\\checkpoint-1892\n",
      "Configuration saved in ./distBert-v2/20230203_044137$-train-model-distilbert-base-uncased\\checkpoint-1892\\config.json\n"
     ]
    },
    {
     "name": "stdout",
     "output_type": "stream",
     "text": [
      "{'eval_loss': 0.10134200751781464, 'eval_f1': 0.7764705882352941, 'eval_roc_auc': 0.8402288732394366, 'eval_accuracy': 0.6363636363636364, 'eval_runtime': 0.0889, 'eval_samples_per_second': 494.728, 'eval_steps_per_second': 67.463, 'epoch': 43.0}\n"
     ]
    },
    {
     "name": "stderr",
     "output_type": "stream",
     "text": [
      "Model weights saved in ./distBert-v2/20230203_044137$-train-model-distilbert-base-uncased\\checkpoint-1892\\pytorch_model.bin\n",
      "tokenizer config file saved in ./distBert-v2/20230203_044137$-train-model-distilbert-base-uncased\\checkpoint-1892\\tokenizer_config.json\n",
      "Special tokens file saved in ./distBert-v2/20230203_044137$-train-model-distilbert-base-uncased\\checkpoint-1892\\special_tokens_map.json\n",
      " 63%|██████▎   | 1935/3080 [08:21<01:04, 17.66it/s]***** Running Evaluation *****\n",
      "  Num examples = 44\n",
      "  Batch size = 8\n",
      "                                                   \n",
      " 63%|██████▎   | 1936/3080 [08:21<01:04, 17.66it/s]Saving model checkpoint to ./distBert-v2/20230203_044137$-train-model-distilbert-base-uncased\\checkpoint-1936\n",
      "Configuration saved in ./distBert-v2/20230203_044137$-train-model-distilbert-base-uncased\\checkpoint-1936\\config.json\n"
     ]
    },
    {
     "name": "stdout",
     "output_type": "stream",
     "text": [
      "{'eval_loss': 0.10561218857765198, 'eval_f1': 0.7912087912087912, 'eval_roc_auc': 0.868838028169014, 'eval_accuracy': 0.6818181818181818, 'eval_runtime': 0.0907, 'eval_samples_per_second': 484.879, 'eval_steps_per_second': 66.12, 'epoch': 44.0}\n"
     ]
    },
    {
     "name": "stderr",
     "output_type": "stream",
     "text": [
      "Model weights saved in ./distBert-v2/20230203_044137$-train-model-distilbert-base-uncased\\checkpoint-1936\\pytorch_model.bin\n",
      "tokenizer config file saved in ./distBert-v2/20230203_044137$-train-model-distilbert-base-uncased\\checkpoint-1936\\tokenizer_config.json\n",
      "Special tokens file saved in ./distBert-v2/20230203_044137$-train-model-distilbert-base-uncased\\checkpoint-1936\\special_tokens_map.json\n",
      " 64%|██████▍   | 1979/3080 [08:25<01:01, 18.00it/s]***** Running Evaluation *****\n",
      "  Num examples = 44\n",
      "  Batch size = 8\n",
      "                                                   \n",
      " 64%|██████▍   | 1980/3080 [08:25<01:01, 18.00it/s]Saving model checkpoint to ./distBert-v2/20230203_044137$-train-model-distilbert-base-uncased\\checkpoint-1980\n",
      "Configuration saved in ./distBert-v2/20230203_044137$-train-model-distilbert-base-uncased\\checkpoint-1980\\config.json\n"
     ]
    },
    {
     "name": "stdout",
     "output_type": "stream",
     "text": [
      "{'eval_loss': 0.10253418236970901, 'eval_f1': 0.7777777777777777, 'eval_roc_auc': 0.8584213615023473, 'eval_accuracy': 0.6590909090909091, 'eval_runtime': 0.0948, 'eval_samples_per_second': 464.378, 'eval_steps_per_second': 63.324, 'epoch': 45.0}\n"
     ]
    },
    {
     "name": "stderr",
     "output_type": "stream",
     "text": [
      "Model weights saved in ./distBert-v2/20230203_044137$-train-model-distilbert-base-uncased\\checkpoint-1980\\pytorch_model.bin\n",
      "tokenizer config file saved in ./distBert-v2/20230203_044137$-train-model-distilbert-base-uncased\\checkpoint-1980\\tokenizer_config.json\n",
      "Special tokens file saved in ./distBert-v2/20230203_044137$-train-model-distilbert-base-uncased\\checkpoint-1980\\special_tokens_map.json\n",
      " 65%|██████▌   | 2003/3080 [08:39<01:42, 10.52it/s]"
     ]
    },
    {
     "name": "stdout",
     "output_type": "stream",
     "text": [
      "{'loss': 0.0064, 'learning_rate': 7.012987012987014e-06, 'epoch': 45.45}\n"
     ]
    },
    {
     "name": "stderr",
     "output_type": "stream",
     "text": [
      " 66%|██████▌   | 2023/3080 [08:40<00:59, 17.75it/s]***** Running Evaluation *****\n",
      "  Num examples = 44\n",
      "  Batch size = 8\n",
      "                                                   \n",
      " 66%|██████▌   | 2024/3080 [08:40<00:59, 17.75it/s]Saving model checkpoint to ./distBert-v2/20230203_044137$-train-model-distilbert-base-uncased\\checkpoint-2024\n",
      "Configuration saved in ./distBert-v2/20230203_044137$-train-model-distilbert-base-uncased\\checkpoint-2024\\config.json\n"
     ]
    },
    {
     "name": "stdout",
     "output_type": "stream",
     "text": [
      "{'eval_loss': 0.10352449119091034, 'eval_f1': 0.7692307692307692, 'eval_roc_auc': 0.8575410798122065, 'eval_accuracy': 0.6363636363636364, 'eval_runtime': 0.0943, 'eval_samples_per_second': 466.729, 'eval_steps_per_second': 63.645, 'epoch': 46.0}\n"
     ]
    },
    {
     "name": "stderr",
     "output_type": "stream",
     "text": [
      "Model weights saved in ./distBert-v2/20230203_044137$-train-model-distilbert-base-uncased\\checkpoint-2024\\pytorch_model.bin\n",
      "tokenizer config file saved in ./distBert-v2/20230203_044137$-train-model-distilbert-base-uncased\\checkpoint-2024\\tokenizer_config.json\n",
      "Special tokens file saved in ./distBert-v2/20230203_044137$-train-model-distilbert-base-uncased\\checkpoint-2024\\special_tokens_map.json\n",
      " 67%|██████▋   | 2067/3080 [08:56<00:57, 17.75it/s]***** Running Evaluation *****\n",
      "  Num examples = 44\n",
      "  Batch size = 8\n",
      "                                                   \n",
      " 67%|██████▋   | 2068/3080 [08:56<00:57, 17.75it/s]Saving model checkpoint to ./distBert-v2/20230203_044137$-train-model-distilbert-base-uncased\\checkpoint-2068\n",
      "Configuration saved in ./distBert-v2/20230203_044137$-train-model-distilbert-base-uncased\\checkpoint-2068\\config.json\n"
     ]
    },
    {
     "name": "stdout",
     "output_type": "stream",
     "text": [
      "{'eval_loss': 0.09996736794710159, 'eval_f1': 0.7999999999999999, 'eval_roc_auc': 0.8697183098591549, 'eval_accuracy': 0.6818181818181818, 'eval_runtime': 0.0932, 'eval_samples_per_second': 471.985, 'eval_steps_per_second': 64.362, 'epoch': 47.0}\n"
     ]
    },
    {
     "name": "stderr",
     "output_type": "stream",
     "text": [
      "Model weights saved in ./distBert-v2/20230203_044137$-train-model-distilbert-base-uncased\\checkpoint-2068\\pytorch_model.bin\n",
      "tokenizer config file saved in ./distBert-v2/20230203_044137$-train-model-distilbert-base-uncased\\checkpoint-2068\\tokenizer_config.json\n",
      "Special tokens file saved in ./distBert-v2/20230203_044137$-train-model-distilbert-base-uncased\\checkpoint-2068\\special_tokens_map.json\n",
      " 69%|██████▊   | 2111/3080 [08:59<00:53, 18.12it/s]***** Running Evaluation *****\n",
      "  Num examples = 44\n",
      "  Batch size = 8\n",
      "                                                   \n",
      " 69%|██████▊   | 2112/3080 [08:59<00:53, 18.12it/s]Saving model checkpoint to ./distBert-v2/20230203_044137$-train-model-distilbert-base-uncased\\checkpoint-2112\n",
      "Configuration saved in ./distBert-v2/20230203_044137$-train-model-distilbert-base-uncased\\checkpoint-2112\\config.json\n"
     ]
    },
    {
     "name": "stdout",
     "output_type": "stream",
     "text": [
      "{'eval_loss': 0.10254053771495819, 'eval_f1': 0.7777777777777777, 'eval_roc_auc': 0.8584213615023473, 'eval_accuracy': 0.6590909090909091, 'eval_runtime': 0.0845, 'eval_samples_per_second': 520.801, 'eval_steps_per_second': 71.018, 'epoch': 48.0}\n"
     ]
    },
    {
     "name": "stderr",
     "output_type": "stream",
     "text": [
      " 69%|██████▊   | 2112/3080 [09:11<00:53, 18.12it/s]Model weights saved in ./distBert-v2/20230203_044137$-train-model-distilbert-base-uncased\\checkpoint-2112\\pytorch_model.bin\n",
      "tokenizer config file saved in ./distBert-v2/20230203_044137$-train-model-distilbert-base-uncased\\checkpoint-2112\\tokenizer_config.json\n",
      "Special tokens file saved in ./distBert-v2/20230203_044137$-train-model-distilbert-base-uncased\\checkpoint-2112\\special_tokens_map.json\n",
      " 70%|██████▉   | 2155/3080 [09:16<00:52, 17.52it/s]***** Running Evaluation *****\n",
      "  Num examples = 44\n",
      "  Batch size = 8\n",
      "                                                   \n",
      " 70%|███████   | 2156/3080 [09:16<00:52, 17.52it/s]Saving model checkpoint to ./distBert-v2/20230203_044137$-train-model-distilbert-base-uncased\\checkpoint-2156\n",
      "Configuration saved in ./distBert-v2/20230203_044137$-train-model-distilbert-base-uncased\\checkpoint-2156\\config.json\n"
     ]
    },
    {
     "name": "stdout",
     "output_type": "stream",
     "text": [
      "{'eval_loss': 0.1042005717754364, 'eval_f1': 0.7692307692307692, 'eval_roc_auc': 0.8575410798122065, 'eval_accuracy': 0.6363636363636364, 'eval_runtime': 0.088, 'eval_samples_per_second': 499.992, 'eval_steps_per_second': 68.181, 'epoch': 49.0}\n"
     ]
    },
    {
     "name": "stderr",
     "output_type": "stream",
     "text": [
      "Model weights saved in ./distBert-v2/20230203_044137$-train-model-distilbert-base-uncased\\checkpoint-2156\\pytorch_model.bin\n",
      "tokenizer config file saved in ./distBert-v2/20230203_044137$-train-model-distilbert-base-uncased\\checkpoint-2156\\tokenizer_config.json\n",
      "Special tokens file saved in ./distBert-v2/20230203_044137$-train-model-distilbert-base-uncased\\checkpoint-2156\\special_tokens_map.json\n",
      " 71%|███████▏  | 2200/3080 [09:33<00:48, 17.97it/s]***** Running Evaluation *****\n",
      "  Num examples = 44\n",
      "  Batch size = 8\n",
      "                                                   \n",
      " 71%|███████▏  | 2200/3080 [09:33<00:48, 17.97it/s]Saving model checkpoint to ./distBert-v2/20230203_044137$-train-model-distilbert-base-uncased\\checkpoint-2200\n",
      "Configuration saved in ./distBert-v2/20230203_044137$-train-model-distilbert-base-uncased\\checkpoint-2200\\config.json\n"
     ]
    },
    {
     "name": "stdout",
     "output_type": "stream",
     "text": [
      "{'eval_loss': 0.10296358913183212, 'eval_f1': 0.7777777777777777, 'eval_roc_auc': 0.8584213615023473, 'eval_accuracy': 0.6590909090909091, 'eval_runtime': 0.0853, 'eval_samples_per_second': 515.955, 'eval_steps_per_second': 70.358, 'epoch': 50.0}\n"
     ]
    },
    {
     "name": "stderr",
     "output_type": "stream",
     "text": [
      "Model weights saved in ./distBert-v2/20230203_044137$-train-model-distilbert-base-uncased\\checkpoint-2200\\pytorch_model.bin\n",
      "tokenizer config file saved in ./distBert-v2/20230203_044137$-train-model-distilbert-base-uncased\\checkpoint-2200\\tokenizer_config.json\n",
      "Special tokens file saved in ./distBert-v2/20230203_044137$-train-model-distilbert-base-uncased\\checkpoint-2200\\special_tokens_map.json\n",
      " 73%|███████▎  | 2244/3080 [09:37<00:45, 18.32it/s]***** Running Evaluation *****\n",
      "  Num examples = 44\n",
      "  Batch size = 8\n",
      "                                                   \n",
      " 73%|███████▎  | 2244/3080 [09:37<00:45, 18.32it/s]Saving model checkpoint to ./distBert-v2/20230203_044137$-train-model-distilbert-base-uncased\\checkpoint-2244\n",
      "Configuration saved in ./distBert-v2/20230203_044137$-train-model-distilbert-base-uncased\\checkpoint-2244\\config.json\n"
     ]
    },
    {
     "name": "stdout",
     "output_type": "stream",
     "text": [
      "{'eval_loss': 0.10203440487384796, 'eval_f1': 0.7912087912087912, 'eval_roc_auc': 0.868838028169014, 'eval_accuracy': 0.6818181818181818, 'eval_runtime': 0.0918, 'eval_samples_per_second': 479.543, 'eval_steps_per_second': 65.392, 'epoch': 51.0}\n"
     ]
    },
    {
     "name": "stderr",
     "output_type": "stream",
     "text": [
      " 73%|███████▎  | 2244/3080 [09:49<00:45, 18.32it/s]Model weights saved in ./distBert-v2/20230203_044137$-train-model-distilbert-base-uncased\\checkpoint-2244\\pytorch_model.bin\n",
      "tokenizer config file saved in ./distBert-v2/20230203_044137$-train-model-distilbert-base-uncased\\checkpoint-2244\\tokenizer_config.json\n",
      "Special tokens file saved in ./distBert-v2/20230203_044137$-train-model-distilbert-base-uncased\\checkpoint-2244\\special_tokens_map.json\n",
      " 74%|███████▍  | 2287/3080 [09:53<00:44, 17.96it/s]***** Running Evaluation *****\n",
      "  Num examples = 44\n",
      "  Batch size = 8\n",
      "                                                   \n",
      " 74%|███████▍  | 2288/3080 [09:53<00:44, 17.96it/s]Saving model checkpoint to ./distBert-v2/20230203_044137$-train-model-distilbert-base-uncased\\checkpoint-2288\n",
      "Configuration saved in ./distBert-v2/20230203_044137$-train-model-distilbert-base-uncased\\checkpoint-2288\\config.json\n"
     ]
    },
    {
     "name": "stdout",
     "output_type": "stream",
     "text": [
      "{'eval_loss': 0.10340417176485062, 'eval_f1': 0.7865168539325843, 'eval_roc_auc': 0.8593016431924883, 'eval_accuracy': 0.6590909090909091, 'eval_runtime': 0.0888, 'eval_samples_per_second': 495.219, 'eval_steps_per_second': 67.53, 'epoch': 52.0}\n"
     ]
    },
    {
     "name": "stderr",
     "output_type": "stream",
     "text": [
      "Model weights saved in ./distBert-v2/20230203_044137$-train-model-distilbert-base-uncased\\checkpoint-2288\\pytorch_model.bin\n",
      "tokenizer config file saved in ./distBert-v2/20230203_044137$-train-model-distilbert-base-uncased\\checkpoint-2288\\tokenizer_config.json\n",
      "Special tokens file saved in ./distBert-v2/20230203_044137$-train-model-distilbert-base-uncased\\checkpoint-2288\\special_tokens_map.json\n",
      " 76%|███████▌  | 2331/3080 [10:11<00:41, 17.90it/s]***** Running Evaluation *****\n",
      "  Num examples = 44\n",
      "  Batch size = 8\n",
      "                                                   \n",
      " 76%|███████▌  | 2332/3080 [10:11<00:41, 17.90it/s]Saving model checkpoint to ./distBert-v2/20230203_044137$-train-model-distilbert-base-uncased\\checkpoint-2332\n",
      "Configuration saved in ./distBert-v2/20230203_044137$-train-model-distilbert-base-uncased\\checkpoint-2332\\config.json\n"
     ]
    },
    {
     "name": "stdout",
     "output_type": "stream",
     "text": [
      "{'eval_loss': 0.10386683791875839, 'eval_f1': 0.7692307692307692, 'eval_roc_auc': 0.8575410798122065, 'eval_accuracy': 0.6363636363636364, 'eval_runtime': 0.09, 'eval_samples_per_second': 488.625, 'eval_steps_per_second': 66.631, 'epoch': 53.0}\n"
     ]
    },
    {
     "name": "stderr",
     "output_type": "stream",
     "text": [
      "Model weights saved in ./distBert-v2/20230203_044137$-train-model-distilbert-base-uncased\\checkpoint-2332\\pytorch_model.bin\n",
      "tokenizer config file saved in ./distBert-v2/20230203_044137$-train-model-distilbert-base-uncased\\checkpoint-2332\\tokenizer_config.json\n",
      "Special tokens file saved in ./distBert-v2/20230203_044137$-train-model-distilbert-base-uncased\\checkpoint-2332\\special_tokens_map.json\n",
      " 77%|███████▋  | 2375/3080 [10:29<00:39, 17.83it/s]***** Running Evaluation *****\n",
      "  Num examples = 44\n",
      "  Batch size = 8\n",
      "                                                   \n",
      " 77%|███████▋  | 2376/3080 [10:29<00:39, 17.83it/s]Saving model checkpoint to ./distBert-v2/20230203_044137$-train-model-distilbert-base-uncased\\checkpoint-2376\n",
      "Configuration saved in ./distBert-v2/20230203_044137$-train-model-distilbert-base-uncased\\checkpoint-2376\\config.json\n"
     ]
    },
    {
     "name": "stdout",
     "output_type": "stream",
     "text": [
      "{'eval_loss': 0.09993760287761688, 'eval_f1': 0.7912087912087912, 'eval_roc_auc': 0.868838028169014, 'eval_accuracy': 0.6818181818181818, 'eval_runtime': 0.0889, 'eval_samples_per_second': 494.873, 'eval_steps_per_second': 67.483, 'epoch': 54.0}\n"
     ]
    },
    {
     "name": "stderr",
     "output_type": "stream",
     "text": [
      "Model weights saved in ./distBert-v2/20230203_044137$-train-model-distilbert-base-uncased\\checkpoint-2376\\pytorch_model.bin\n",
      "tokenizer config file saved in ./distBert-v2/20230203_044137$-train-model-distilbert-base-uncased\\checkpoint-2376\\tokenizer_config.json\n",
      "Special tokens file saved in ./distBert-v2/20230203_044137$-train-model-distilbert-base-uncased\\checkpoint-2376\\special_tokens_map.json\n",
      " 79%|███████▊  | 2419/3080 [10:32<00:36, 18.21it/s]***** Running Evaluation *****\n",
      "  Num examples = 44\n",
      "  Batch size = 8\n",
      "                                                   \n",
      " 79%|███████▊  | 2420/3080 [10:33<00:36, 18.21it/s]Saving model checkpoint to ./distBert-v2/20230203_044137$-train-model-distilbert-base-uncased\\checkpoint-2420\n",
      "Configuration saved in ./distBert-v2/20230203_044137$-train-model-distilbert-base-uncased\\checkpoint-2420\\config.json\n"
     ]
    },
    {
     "name": "stdout",
     "output_type": "stream",
     "text": [
      "{'eval_loss': 0.10708053410053253, 'eval_f1': 0.7777777777777777, 'eval_roc_auc': 0.8584213615023473, 'eval_accuracy': 0.6590909090909091, 'eval_runtime': 0.0863, 'eval_samples_per_second': 509.933, 'eval_steps_per_second': 69.536, 'epoch': 55.0}\n"
     ]
    },
    {
     "name": "stderr",
     "output_type": "stream",
     "text": [
      "Model weights saved in ./distBert-v2/20230203_044137$-train-model-distilbert-base-uncased\\checkpoint-2420\\pytorch_model.bin\n",
      "tokenizer config file saved in ./distBert-v2/20230203_044137$-train-model-distilbert-base-uncased\\checkpoint-2420\\tokenizer_config.json\n",
      "Special tokens file saved in ./distBert-v2/20230203_044137$-train-model-distilbert-base-uncased\\checkpoint-2420\\special_tokens_map.json\n",
      " 80%|███████▉  | 2463/3080 [10:38<00:34, 17.92it/s]***** Running Evaluation *****\n",
      "  Num examples = 44\n",
      "  Batch size = 8\n",
      "                                                   \n",
      " 80%|████████  | 2464/3080 [10:38<00:34, 17.92it/s]Saving model checkpoint to ./distBert-v2/20230203_044137$-train-model-distilbert-base-uncased\\checkpoint-2464\n",
      "Configuration saved in ./distBert-v2/20230203_044137$-train-model-distilbert-base-uncased\\checkpoint-2464\\config.json\n"
     ]
    },
    {
     "name": "stdout",
     "output_type": "stream",
     "text": [
      "{'eval_loss': 0.10476405173540115, 'eval_f1': 0.7777777777777777, 'eval_roc_auc': 0.8584213615023473, 'eval_accuracy': 0.6590909090909091, 'eval_runtime': 0.0839, 'eval_samples_per_second': 524.629, 'eval_steps_per_second': 71.54, 'epoch': 56.0}\n"
     ]
    },
    {
     "name": "stderr",
     "output_type": "stream",
     "text": [
      "Model weights saved in ./distBert-v2/20230203_044137$-train-model-distilbert-base-uncased\\checkpoint-2464\\pytorch_model.bin\n",
      "tokenizer config file saved in ./distBert-v2/20230203_044137$-train-model-distilbert-base-uncased\\checkpoint-2464\\tokenizer_config.json\n",
      "Special tokens file saved in ./distBert-v2/20230203_044137$-train-model-distilbert-base-uncased\\checkpoint-2464\\special_tokens_map.json\n",
      " 81%|████████▏ | 2503/3080 [10:51<00:33, 17.40it/s]"
     ]
    },
    {
     "name": "stdout",
     "output_type": "stream",
     "text": [
      "{'loss': 0.0043, 'learning_rate': 3.7662337662337666e-06, 'epoch': 56.82}\n"
     ]
    },
    {
     "name": "stderr",
     "output_type": "stream",
     "text": [
      " 81%|████████▏ | 2507/3080 [10:51<00:32, 17.68it/s]***** Running Evaluation *****\n",
      "  Num examples = 44\n",
      "  Batch size = 8\n",
      "                                                   \n",
      " 81%|████████▏ | 2508/3080 [10:51<00:32, 17.68it/s]Saving model checkpoint to ./distBert-v2/20230203_044137$-train-model-distilbert-base-uncased\\checkpoint-2508\n",
      "Configuration saved in ./distBert-v2/20230203_044137$-train-model-distilbert-base-uncased\\checkpoint-2508\\config.json\n"
     ]
    },
    {
     "name": "stdout",
     "output_type": "stream",
     "text": [
      "{'eval_loss': 0.10371491312980652, 'eval_f1': 0.7912087912087912, 'eval_roc_auc': 0.868838028169014, 'eval_accuracy': 0.6818181818181818, 'eval_runtime': 0.0893, 'eval_samples_per_second': 492.882, 'eval_steps_per_second': 67.211, 'epoch': 57.0}\n"
     ]
    },
    {
     "name": "stderr",
     "output_type": "stream",
     "text": [
      "Model weights saved in ./distBert-v2/20230203_044137$-train-model-distilbert-base-uncased\\checkpoint-2508\\pytorch_model.bin\n",
      "tokenizer config file saved in ./distBert-v2/20230203_044137$-train-model-distilbert-base-uncased\\checkpoint-2508\\tokenizer_config.json\n",
      "Special tokens file saved in ./distBert-v2/20230203_044137$-train-model-distilbert-base-uncased\\checkpoint-2508\\special_tokens_map.json\n",
      " 83%|████████▎ | 2552/3080 [11:08<00:29, 18.05it/s]***** Running Evaluation *****\n",
      "  Num examples = 44\n",
      "  Batch size = 8\n",
      "                                                   \n",
      " 83%|████████▎ | 2552/3080 [11:08<00:29, 18.05it/s]Saving model checkpoint to ./distBert-v2/20230203_044137$-train-model-distilbert-base-uncased\\checkpoint-2552\n",
      "Configuration saved in ./distBert-v2/20230203_044137$-train-model-distilbert-base-uncased\\checkpoint-2552\\config.json\n"
     ]
    },
    {
     "name": "stdout",
     "output_type": "stream",
     "text": [
      "{'eval_loss': 0.10424887388944626, 'eval_f1': 0.7777777777777777, 'eval_roc_auc': 0.8584213615023473, 'eval_accuracy': 0.6590909090909091, 'eval_runtime': 0.0854, 'eval_samples_per_second': 515.081, 'eval_steps_per_second': 70.238, 'epoch': 58.0}\n"
     ]
    },
    {
     "name": "stderr",
     "output_type": "stream",
     "text": [
      "Model weights saved in ./distBert-v2/20230203_044137$-train-model-distilbert-base-uncased\\checkpoint-2552\\pytorch_model.bin\n",
      "tokenizer config file saved in ./distBert-v2/20230203_044137$-train-model-distilbert-base-uncased\\checkpoint-2552\\tokenizer_config.json\n",
      "Special tokens file saved in ./distBert-v2/20230203_044137$-train-model-distilbert-base-uncased\\checkpoint-2552\\special_tokens_map.json\n",
      " 84%|████████▍ | 2596/3080 [11:12<00:26, 18.32it/s]***** Running Evaluation *****\n",
      "  Num examples = 44\n",
      "  Batch size = 8\n",
      "                                                   \n",
      " 84%|████████▍ | 2596/3080 [11:12<00:26, 18.32it/s]Saving model checkpoint to ./distBert-v2/20230203_044137$-train-model-distilbert-base-uncased\\checkpoint-2596\n",
      "Configuration saved in ./distBert-v2/20230203_044137$-train-model-distilbert-base-uncased\\checkpoint-2596\\config.json\n",
      " 84%|████████▍ | 2596/3080 [11:24<00:26, 18.32it/s]"
     ]
    },
    {
     "name": "stdout",
     "output_type": "stream",
     "text": [
      "{'eval_loss': 0.10516321659088135, 'eval_f1': 0.7692307692307692, 'eval_roc_auc': 0.8575410798122065, 'eval_accuracy': 0.6363636363636364, 'eval_runtime': 0.0906, 'eval_samples_per_second': 485.581, 'eval_steps_per_second': 66.216, 'epoch': 59.0}\n"
     ]
    },
    {
     "name": "stderr",
     "output_type": "stream",
     "text": [
      "Model weights saved in ./distBert-v2/20230203_044137$-train-model-distilbert-base-uncased\\checkpoint-2596\\pytorch_model.bin\n",
      "tokenizer config file saved in ./distBert-v2/20230203_044137$-train-model-distilbert-base-uncased\\checkpoint-2596\\tokenizer_config.json\n",
      "Special tokens file saved in ./distBert-v2/20230203_044137$-train-model-distilbert-base-uncased\\checkpoint-2596\\special_tokens_map.json\n",
      " 86%|████████▌ | 2640/3080 [11:27<00:24, 18.02it/s]***** Running Evaluation *****\n",
      "  Num examples = 44\n",
      "  Batch size = 8\n",
      "                                                   \n",
      " 86%|████████▌ | 2640/3080 [11:27<00:24, 18.02it/s]Saving model checkpoint to ./distBert-v2/20230203_044137$-train-model-distilbert-base-uncased\\checkpoint-2640\n",
      "Configuration saved in ./distBert-v2/20230203_044137$-train-model-distilbert-base-uncased\\checkpoint-2640\\config.json\n"
     ]
    },
    {
     "name": "stdout",
     "output_type": "stream",
     "text": [
      "{'eval_loss': 0.10966510325670242, 'eval_f1': 0.7692307692307692, 'eval_roc_auc': 0.8575410798122065, 'eval_accuracy': 0.6363636363636364, 'eval_runtime': 0.0855, 'eval_samples_per_second': 514.852, 'eval_steps_per_second': 70.207, 'epoch': 60.0}\n"
     ]
    },
    {
     "name": "stderr",
     "output_type": "stream",
     "text": [
      "Model weights saved in ./distBert-v2/20230203_044137$-train-model-distilbert-base-uncased\\checkpoint-2640\\pytorch_model.bin\n",
      "tokenizer config file saved in ./distBert-v2/20230203_044137$-train-model-distilbert-base-uncased\\checkpoint-2640\\tokenizer_config.json\n",
      "Special tokens file saved in ./distBert-v2/20230203_044137$-train-model-distilbert-base-uncased\\checkpoint-2640\\special_tokens_map.json\n",
      " 87%|████████▋ | 2683/3080 [11:45<00:22, 17.86it/s]***** Running Evaluation *****\n",
      "  Num examples = 44\n",
      "  Batch size = 8\n",
      "                                                   \n",
      " 87%|████████▋ | 2684/3080 [11:45<00:22, 17.86it/s]Saving model checkpoint to ./distBert-v2/20230203_044137$-train-model-distilbert-base-uncased\\checkpoint-2684\n",
      "Configuration saved in ./distBert-v2/20230203_044137$-train-model-distilbert-base-uncased\\checkpoint-2684\\config.json\n"
     ]
    },
    {
     "name": "stdout",
     "output_type": "stream",
     "text": [
      "{'eval_loss': 0.10452204197645187, 'eval_f1': 0.7692307692307692, 'eval_roc_auc': 0.8575410798122065, 'eval_accuracy': 0.6363636363636364, 'eval_runtime': 0.087, 'eval_samples_per_second': 505.85, 'eval_steps_per_second': 68.98, 'epoch': 61.0}\n"
     ]
    },
    {
     "name": "stderr",
     "output_type": "stream",
     "text": [
      "Model weights saved in ./distBert-v2/20230203_044137$-train-model-distilbert-base-uncased\\checkpoint-2684\\pytorch_model.bin\n",
      "tokenizer config file saved in ./distBert-v2/20230203_044137$-train-model-distilbert-base-uncased\\checkpoint-2684\\tokenizer_config.json\n",
      "Special tokens file saved in ./distBert-v2/20230203_044137$-train-model-distilbert-base-uncased\\checkpoint-2684\\special_tokens_map.json\n",
      " 89%|████████▊ | 2727/3080 [11:53<00:19, 17.85it/s]***** Running Evaluation *****\n",
      "  Num examples = 44\n",
      "  Batch size = 8\n",
      "                                                   \n",
      " 89%|████████▊ | 2728/3080 [11:53<00:19, 17.85it/s]Saving model checkpoint to ./distBert-v2/20230203_044137$-train-model-distilbert-base-uncased\\checkpoint-2728\n",
      "Configuration saved in ./distBert-v2/20230203_044137$-train-model-distilbert-base-uncased\\checkpoint-2728\\config.json\n"
     ]
    },
    {
     "name": "stdout",
     "output_type": "stream",
     "text": [
      "{'eval_loss': 0.10565116256475449, 'eval_f1': 0.7826086956521738, 'eval_roc_auc': 0.8679577464788734, 'eval_accuracy': 0.6590909090909091, 'eval_runtime': 0.0908, 'eval_samples_per_second': 484.384, 'eval_steps_per_second': 66.052, 'epoch': 62.0}\n"
     ]
    },
    {
     "name": "stderr",
     "output_type": "stream",
     "text": [
      "Model weights saved in ./distBert-v2/20230203_044137$-train-model-distilbert-base-uncased\\checkpoint-2728\\pytorch_model.bin\n",
      "tokenizer config file saved in ./distBert-v2/20230203_044137$-train-model-distilbert-base-uncased\\checkpoint-2728\\tokenizer_config.json\n",
      "Special tokens file saved in ./distBert-v2/20230203_044137$-train-model-distilbert-base-uncased\\checkpoint-2728\\special_tokens_map.json\n",
      " 90%|████████▉ | 2771/3080 [12:03<00:17, 18.06it/s]***** Running Evaluation *****\n",
      "  Num examples = 44\n",
      "  Batch size = 8\n",
      "                                                   \n",
      " 90%|█████████ | 2772/3080 [12:04<00:17, 18.06it/s]Saving model checkpoint to ./distBert-v2/20230203_044137$-train-model-distilbert-base-uncased\\checkpoint-2772\n",
      "Configuration saved in ./distBert-v2/20230203_044137$-train-model-distilbert-base-uncased\\checkpoint-2772\\config.json\n"
     ]
    },
    {
     "name": "stdout",
     "output_type": "stream",
     "text": [
      "{'eval_loss': 0.10592803359031677, 'eval_f1': 0.7692307692307692, 'eval_roc_auc': 0.8575410798122065, 'eval_accuracy': 0.6363636363636364, 'eval_runtime': 0.0882, 'eval_samples_per_second': 498.912, 'eval_steps_per_second': 68.033, 'epoch': 63.0}\n"
     ]
    },
    {
     "name": "stderr",
     "output_type": "stream",
     "text": [
      "Model weights saved in ./distBert-v2/20230203_044137$-train-model-distilbert-base-uncased\\checkpoint-2772\\pytorch_model.bin\n",
      "tokenizer config file saved in ./distBert-v2/20230203_044137$-train-model-distilbert-base-uncased\\checkpoint-2772\\tokenizer_config.json\n",
      "Special tokens file saved in ./distBert-v2/20230203_044137$-train-model-distilbert-base-uncased\\checkpoint-2772\\special_tokens_map.json\n",
      " 91%|█████████▏| 2815/3080 [12:21<00:14, 17.73it/s]***** Running Evaluation *****\n",
      "  Num examples = 44\n",
      "  Batch size = 8\n",
      "                                                   \n",
      " 91%|█████████▏| 2816/3080 [12:21<00:14, 17.73it/s]Saving model checkpoint to ./distBert-v2/20230203_044137$-train-model-distilbert-base-uncased\\checkpoint-2816\n",
      "Configuration saved in ./distBert-v2/20230203_044137$-train-model-distilbert-base-uncased\\checkpoint-2816\\config.json\n"
     ]
    },
    {
     "name": "stdout",
     "output_type": "stream",
     "text": [
      "{'eval_loss': 0.10500220954418182, 'eval_f1': 0.7777777777777777, 'eval_roc_auc': 0.8584213615023473, 'eval_accuracy': 0.6590909090909091, 'eval_runtime': 0.0865, 'eval_samples_per_second': 508.88, 'eval_steps_per_second': 69.393, 'epoch': 64.0}\n"
     ]
    },
    {
     "name": "stderr",
     "output_type": "stream",
     "text": [
      "Model weights saved in ./distBert-v2/20230203_044137$-train-model-distilbert-base-uncased\\checkpoint-2816\\pytorch_model.bin\n",
      "tokenizer config file saved in ./distBert-v2/20230203_044137$-train-model-distilbert-base-uncased\\checkpoint-2816\\tokenizer_config.json\n",
      "Special tokens file saved in ./distBert-v2/20230203_044137$-train-model-distilbert-base-uncased\\checkpoint-2816\\special_tokens_map.json\n",
      " 93%|█████████▎| 2859/3080 [12:33<00:12, 17.85it/s]***** Running Evaluation *****\n",
      "  Num examples = 44\n",
      "  Batch size = 8\n",
      "                                                   \n",
      " 93%|█████████▎| 2860/3080 [12:34<00:12, 17.85it/s]Saving model checkpoint to ./distBert-v2/20230203_044137$-train-model-distilbert-base-uncased\\checkpoint-2860\n",
      "Configuration saved in ./distBert-v2/20230203_044137$-train-model-distilbert-base-uncased\\checkpoint-2860\\config.json\n",
      " 93%|█████████▎| 2860/3080 [12:49<00:12, 17.85it/s]"
     ]
    },
    {
     "name": "stdout",
     "output_type": "stream",
     "text": [
      "{'eval_loss': 0.10614147782325745, 'eval_f1': 0.7692307692307692, 'eval_roc_auc': 0.8575410798122065, 'eval_accuracy': 0.6363636363636364, 'eval_runtime': 0.0867, 'eval_samples_per_second': 507.287, 'eval_steps_per_second': 69.175, 'epoch': 65.0}\n"
     ]
    },
    {
     "name": "stderr",
     "output_type": "stream",
     "text": [
      "Model weights saved in ./distBert-v2/20230203_044137$-train-model-distilbert-base-uncased\\checkpoint-2860\\pytorch_model.bin\n",
      "tokenizer config file saved in ./distBert-v2/20230203_044137$-train-model-distilbert-base-uncased\\checkpoint-2860\\tokenizer_config.json\n",
      "Special tokens file saved in ./distBert-v2/20230203_044137$-train-model-distilbert-base-uncased\\checkpoint-2860\\special_tokens_map.json\n",
      " 94%|█████████▍| 2903/3080 [12:53<00:10, 17.53it/s]***** Running Evaluation *****\n",
      "  Num examples = 44\n",
      "  Batch size = 8\n",
      "                                                   \n",
      " 94%|█████████▍| 2904/3080 [12:53<00:10, 17.53it/s]Saving model checkpoint to ./distBert-v2/20230203_044137$-train-model-distilbert-base-uncased\\checkpoint-2904\n",
      "Configuration saved in ./distBert-v2/20230203_044137$-train-model-distilbert-base-uncased\\checkpoint-2904\\config.json\n"
     ]
    },
    {
     "name": "stdout",
     "output_type": "stream",
     "text": [
      "{'eval_loss': 0.10686397552490234, 'eval_f1': 0.7777777777777777, 'eval_roc_auc': 0.8584213615023473, 'eval_accuracy': 0.6590909090909091, 'eval_runtime': 0.0835, 'eval_samples_per_second': 526.944, 'eval_steps_per_second': 71.856, 'epoch': 66.0}\n"
     ]
    },
    {
     "name": "stderr",
     "output_type": "stream",
     "text": [
      "Model weights saved in ./distBert-v2/20230203_044137$-train-model-distilbert-base-uncased\\checkpoint-2904\\pytorch_model.bin\n",
      "tokenizer config file saved in ./distBert-v2/20230203_044137$-train-model-distilbert-base-uncased\\checkpoint-2904\\tokenizer_config.json\n",
      "Special tokens file saved in ./distBert-v2/20230203_044137$-train-model-distilbert-base-uncased\\checkpoint-2904\\special_tokens_map.json\n",
      " 96%|█████████▌| 2947/3080 [12:57<00:07, 17.96it/s]***** Running Evaluation *****\n",
      "  Num examples = 44\n",
      "  Batch size = 8\n",
      "                                                   \n",
      " 96%|█████████▌| 2948/3080 [12:57<00:07, 17.96it/s]Saving model checkpoint to ./distBert-v2/20230203_044137$-train-model-distilbert-base-uncased\\checkpoint-2948\n",
      "Configuration saved in ./distBert-v2/20230203_044137$-train-model-distilbert-base-uncased\\checkpoint-2948\\config.json\n"
     ]
    },
    {
     "name": "stdout",
     "output_type": "stream",
     "text": [
      "{'eval_loss': 0.10698144882917404, 'eval_f1': 0.7692307692307692, 'eval_roc_auc': 0.8575410798122065, 'eval_accuracy': 0.6363636363636364, 'eval_runtime': 0.0876, 'eval_samples_per_second': 502.178, 'eval_steps_per_second': 68.479, 'epoch': 67.0}\n"
     ]
    },
    {
     "name": "stderr",
     "output_type": "stream",
     "text": [
      "Model weights saved in ./distBert-v2/20230203_044137$-train-model-distilbert-base-uncased\\checkpoint-2948\\pytorch_model.bin\n",
      "tokenizer config file saved in ./distBert-v2/20230203_044137$-train-model-distilbert-base-uncased\\checkpoint-2948\\tokenizer_config.json\n",
      "Special tokens file saved in ./distBert-v2/20230203_044137$-train-model-distilbert-base-uncased\\checkpoint-2948\\special_tokens_map.json\n",
      " 97%|█████████▋| 2991/3080 [13:10<00:04, 17.83it/s]***** Running Evaluation *****\n",
      "  Num examples = 44\n",
      "  Batch size = 8\n",
      "                                                   \n",
      " 97%|█████████▋| 2992/3080 [13:10<00:04, 17.83it/s]Saving model checkpoint to ./distBert-v2/20230203_044137$-train-model-distilbert-base-uncased\\checkpoint-2992\n",
      "Configuration saved in ./distBert-v2/20230203_044137$-train-model-distilbert-base-uncased\\checkpoint-2992\\config.json\n"
     ]
    },
    {
     "name": "stdout",
     "output_type": "stream",
     "text": [
      "{'eval_loss': 0.10705835372209549, 'eval_f1': 0.7777777777777777, 'eval_roc_auc': 0.8584213615023473, 'eval_accuracy': 0.6590909090909091, 'eval_runtime': 0.0908, 'eval_samples_per_second': 484.794, 'eval_steps_per_second': 66.108, 'epoch': 68.0}\n"
     ]
    },
    {
     "name": "stderr",
     "output_type": "stream",
     "text": [
      "Model weights saved in ./distBert-v2/20230203_044137$-train-model-distilbert-base-uncased\\checkpoint-2992\\pytorch_model.bin\n",
      "tokenizer config file saved in ./distBert-v2/20230203_044137$-train-model-distilbert-base-uncased\\checkpoint-2992\\tokenizer_config.json\n",
      "Special tokens file saved in ./distBert-v2/20230203_044137$-train-model-distilbert-base-uncased\\checkpoint-2992\\special_tokens_map.json\n",
      " 98%|█████████▊| 3003/3080 [13:14<00:10,  7.41it/s]"
     ]
    },
    {
     "name": "stdout",
     "output_type": "stream",
     "text": [
      "{'loss': 0.0036, 'learning_rate': 5.194805194805196e-07, 'epoch': 68.18}\n"
     ]
    },
    {
     "name": "stderr",
     "output_type": "stream",
     "text": [
      " 99%|█████████▊| 3035/3080 [13:16<00:02, 18.22it/s]***** Running Evaluation *****\n",
      "  Num examples = 44\n",
      "  Batch size = 8\n",
      "                                                   \n",
      " 99%|█████████▊| 3036/3080 [13:16<00:02, 18.22it/s]Saving model checkpoint to ./distBert-v2/20230203_044137$-train-model-distilbert-base-uncased\\checkpoint-3036\n",
      "Configuration saved in ./distBert-v2/20230203_044137$-train-model-distilbert-base-uncased\\checkpoint-3036\\config.json\n"
     ]
    },
    {
     "name": "stdout",
     "output_type": "stream",
     "text": [
      "{'eval_loss': 0.10694251209497452, 'eval_f1': 0.7777777777777777, 'eval_roc_auc': 0.8584213615023473, 'eval_accuracy': 0.6590909090909091, 'eval_runtime': 0.0915, 'eval_samples_per_second': 480.786, 'eval_steps_per_second': 65.562, 'epoch': 69.0}\n"
     ]
    },
    {
     "name": "stderr",
     "output_type": "stream",
     "text": [
      "Model weights saved in ./distBert-v2/20230203_044137$-train-model-distilbert-base-uncased\\checkpoint-3036\\pytorch_model.bin\n",
      "tokenizer config file saved in ./distBert-v2/20230203_044137$-train-model-distilbert-base-uncased\\checkpoint-3036\\tokenizer_config.json\n",
      "Special tokens file saved in ./distBert-v2/20230203_044137$-train-model-distilbert-base-uncased\\checkpoint-3036\\special_tokens_map.json\n",
      "100%|█████████▉| 3079/3080 [13:33<00:00, 17.79it/s]***** Running Evaluation *****\n",
      "  Num examples = 44\n",
      "  Batch size = 8\n",
      "                                                   \n",
      "100%|██████████| 3080/3080 [13:33<00:00, 17.79it/s]Saving model checkpoint to ./distBert-v2/20230203_044137$-train-model-distilbert-base-uncased\\checkpoint-3080\n",
      "Configuration saved in ./distBert-v2/20230203_044137$-train-model-distilbert-base-uncased\\checkpoint-3080\\config.json\n"
     ]
    },
    {
     "name": "stdout",
     "output_type": "stream",
     "text": [
      "{'eval_loss': 0.10676152259111404, 'eval_f1': 0.7777777777777777, 'eval_roc_auc': 0.8584213615023473, 'eval_accuracy': 0.6590909090909091, 'eval_runtime': 0.0878, 'eval_samples_per_second': 501.114, 'eval_steps_per_second': 68.334, 'epoch': 70.0}\n"
     ]
    },
    {
     "name": "stderr",
     "output_type": "stream",
     "text": [
      "Model weights saved in ./distBert-v2/20230203_044137$-train-model-distilbert-base-uncased\\checkpoint-3080\\pytorch_model.bin\n",
      "tokenizer config file saved in ./distBert-v2/20230203_044137$-train-model-distilbert-base-uncased\\checkpoint-3080\\tokenizer_config.json\n",
      "Special tokens file saved in ./distBert-v2/20230203_044137$-train-model-distilbert-base-uncased\\checkpoint-3080\\special_tokens_map.json\n",
      "100%|██████████| 3080/3080 [13:45<00:00, 17.79it/s]\n",
      "\n",
      "Training completed. Do not forget to share your model on huggingface.co/models =)\n",
      "\n",
      "\n",
      "Loading best model from ./distBert-v2/20230203_044137$-train-model-distilbert-base-uncased\\checkpoint-2068 (score: 0.7999999999999999).\n",
      "100%|██████████| 3080/3080 [13:48<00:00,  3.72it/s]"
     ]
    },
    {
     "name": "stdout",
     "output_type": "stream",
     "text": [
      "{'train_runtime': 828.5702, 'train_samples_per_second': 29.569, 'train_steps_per_second': 3.717, 'train_loss': 0.04396502600087748, 'epoch': 70.0}\n"
     ]
    },
    {
     "name": "stderr",
     "output_type": "stream",
     "text": [
      "\n"
     ]
    },
    {
     "data": {
      "text/plain": [
       "TrainOutput(global_step=3080, training_loss=0.04396502600087748, metrics={'train_runtime': 828.5702, 'train_samples_per_second': 29.569, 'train_steps_per_second': 3.717, 'train_loss': 0.04396502600087748, 'epoch': 70.0})"
      ]
     },
     "execution_count": 27,
     "metadata": {},
     "output_type": "execute_result"
    }
   ],
   "source": [
    "trainer.train()"
   ]
  },
  {
   "cell_type": "code",
   "execution_count": 28,
   "metadata": {},
   "outputs": [
    {
     "name": "stderr",
     "output_type": "stream",
     "text": [
      "***** Running Evaluation *****\n",
      "  Num examples = 44\n",
      "  Batch size = 8\n",
      "100%|██████████| 6/6 [00:00<00:00, 37.41it/s]\n"
     ]
    },
    {
     "data": {
      "text/plain": [
       "{'eval_loss': 0.09996736794710159,\n",
       " 'eval_f1': 0.7999999999999999,\n",
       " 'eval_roc_auc': 0.8697183098591549,\n",
       " 'eval_accuracy': 0.6818181818181818,\n",
       " 'eval_runtime': 0.2083,\n",
       " 'eval_samples_per_second': 211.243,\n",
       " 'eval_steps_per_second': 28.806,\n",
       " 'epoch': 70.0}"
      ]
     },
     "execution_count": 28,
     "metadata": {},
     "output_type": "execute_result"
    }
   ],
   "source": [
    "trainer.evaluate()"
   ]
  },
  {
   "cell_type": "code",
   "execution_count": 29,
   "metadata": {},
   "outputs": [
    {
     "name": "stderr",
     "output_type": "stream",
     "text": [
      "***** Running Evaluation *****\n",
      "  Num examples = 350\n",
      "  Batch size = 8\n",
      "100%|██████████| 44/44 [00:00<00:00, 75.37it/s]\n"
     ]
    }
   ],
   "source": [
    "training_results = trainer.evaluate(encoded_ds['train'])"
   ]
  },
  {
   "cell_type": "code",
   "execution_count": 30,
   "metadata": {},
   "outputs": [
    {
     "name": "stderr",
     "output_type": "stream",
     "text": [
      "***** Running Prediction *****\n",
      "  Num examples = 44\n",
      "  Batch size = 8\n",
      "100%|██████████| 6/6 [00:00<00:00, 89.00it/s]\n"
     ]
    }
   ],
   "source": [
    "prediction_result = trainer.predict(encoded_ds['test'])"
   ]
  },
  {
   "cell_type": "code",
   "execution_count": 31,
   "metadata": {},
   "outputs": [
    {
     "name": "stdout",
     "output_type": "stream",
     "text": [
      "{'test_loss': 0.13947755098342896, 'test_f1': 0.7356321839080459, 'test_roc_auc': 0.8271713615023473, 'test_accuracy': 0.5909090909090909, 'test_runtime': 0.1491, 'test_samples_per_second': 295.071, 'test_steps_per_second': 40.237}\n"
     ]
    }
   ],
   "source": [
    "print(prediction_result.metrics)"
   ]
  },
  {
   "cell_type": "code",
   "execution_count": 32,
   "metadata": {},
   "outputs": [
    {
     "name": "stderr",
     "output_type": "stream",
     "text": [
      "Saving model checkpoint to ./distlBert-model-v3\n",
      "Configuration saved in ./distlBert-model-v3\\config.json\n",
      "Model weights saved in ./distlBert-model-v3\\pytorch_model.bin\n",
      "tokenizer config file saved in ./distlBert-model-v3\\tokenizer_config.json\n",
      "Special tokens file saved in ./distlBert-model-v3\\special_tokens_map.json\n"
     ]
    }
   ],
   "source": [
    "trainer.save_model(\"./distlBert-model-v3\")"
   ]
  }
 ],
 "metadata": {
  "kernelspec": {
   "display_name": "venv",
   "language": "python",
   "name": "python3"
  },
  "language_info": {
   "codemirror_mode": {
    "name": "ipython",
    "version": 3
   },
   "file_extension": ".py",
   "mimetype": "text/x-python",
   "name": "python",
   "nbconvert_exporter": "python",
   "pygments_lexer": "ipython3",
   "version": "3.8.10"
  },
  "orig_nbformat": 4,
  "vscode": {
   "interpreter": {
    "hash": "e32da21edddcaf775c480ccd7b569f19fc9b1c5c20d607727913c5339e7adca8"
   }
  }
 },
 "nbformat": 4,
 "nbformat_minor": 2
}
