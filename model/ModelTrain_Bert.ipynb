{
 "cells": [
  {
   "cell_type": "code",
   "execution_count": 1,
   "metadata": {},
   "outputs": [
    {
     "name": "stderr",
     "output_type": "stream",
     "text": [
      "c:\\Users\\user\\Desktop\\QuestionQuestionModel\\venv\\lib\\site-packages\\tqdm\\auto.py:22: TqdmWarning: IProgress not found. Please update jupyter and ipywidgets. See https://ipywidgets.readthedocs.io/en/stable/user_install.html\n",
      "  from .autonotebook import tqdm as notebook_tqdm\n"
     ]
    },
    {
     "data": {
      "text/plain": [
       "DatasetDict({\n",
       "    train: Dataset({\n",
       "        features: ['String', 'Algorithm Design', 'Basic Machine Organisation', 'Computer System', 'Data Manipulation and Analysis', 'Data Organisation and Data Control', 'Elementary Web Authoring', 'Health and Ethical Issues', 'Information Processing', 'Intellectual Property', 'Internet Services and Applications', 'Multimedia Elements', 'Networking and Internet Basics', 'Program Development', 'Spreadsheets and Databases', 'Threats and Security on the Internet', '__index_level_0__'],\n",
       "        num_rows: 644\n",
       "    })\n",
       "    valid: Dataset({\n",
       "        features: ['String', 'Algorithm Design', 'Basic Machine Organisation', 'Computer System', 'Data Manipulation and Analysis', 'Data Organisation and Data Control', 'Elementary Web Authoring', 'Health and Ethical Issues', 'Information Processing', 'Intellectual Property', 'Internet Services and Applications', 'Multimedia Elements', 'Networking and Internet Basics', 'Program Development', 'Spreadsheets and Databases', 'Threats and Security on the Internet', '__index_level_0__'],\n",
       "        num_rows: 81\n",
       "    })\n",
       "    test: Dataset({\n",
       "        features: ['String', 'Algorithm Design', 'Basic Machine Organisation', 'Computer System', 'Data Manipulation and Analysis', 'Data Organisation and Data Control', 'Elementary Web Authoring', 'Health and Ethical Issues', 'Information Processing', 'Intellectual Property', 'Internet Services and Applications', 'Multimedia Elements', 'Networking and Internet Basics', 'Program Development', 'Spreadsheets and Databases', 'Threats and Security on the Internet', '__index_level_0__'],\n",
       "        num_rows: 81\n",
       "    })\n",
       "})"
      ]
     },
     "execution_count": 1,
     "metadata": {},
     "output_type": "execute_result"
    }
   ],
   "source": [
    "# Model Training\n",
    "from datasets import load_from_disk\n",
    "\n",
    "datasets = load_from_disk(\"./encoded_data4\")\n",
    "datasets"
   ]
  },
  {
   "cell_type": "code",
   "execution_count": 2,
   "metadata": {},
   "outputs": [],
   "source": [
    "datasets = datasets.remove_columns(['__index_level_0__'])"
   ]
  },
  {
   "cell_type": "code",
   "execution_count": 3,
   "metadata": {},
   "outputs": [
    {
     "data": {
      "text/plain": [
       "DatasetDict({\n",
       "    train: Dataset({\n",
       "        features: ['String', 'Algorithm Design', 'Basic Machine Organisation', 'Computer System', 'Data Manipulation and Analysis', 'Data Organisation and Data Control', 'Elementary Web Authoring', 'Health and Ethical Issues', 'Information Processing', 'Intellectual Property', 'Internet Services and Applications', 'Multimedia Elements', 'Networking and Internet Basics', 'Program Development', 'Spreadsheets and Databases', 'Threats and Security on the Internet'],\n",
       "        num_rows: 644\n",
       "    })\n",
       "    valid: Dataset({\n",
       "        features: ['String', 'Algorithm Design', 'Basic Machine Organisation', 'Computer System', 'Data Manipulation and Analysis', 'Data Organisation and Data Control', 'Elementary Web Authoring', 'Health and Ethical Issues', 'Information Processing', 'Intellectual Property', 'Internet Services and Applications', 'Multimedia Elements', 'Networking and Internet Basics', 'Program Development', 'Spreadsheets and Databases', 'Threats and Security on the Internet'],\n",
       "        num_rows: 81\n",
       "    })\n",
       "    test: Dataset({\n",
       "        features: ['String', 'Algorithm Design', 'Basic Machine Organisation', 'Computer System', 'Data Manipulation and Analysis', 'Data Organisation and Data Control', 'Elementary Web Authoring', 'Health and Ethical Issues', 'Information Processing', 'Intellectual Property', 'Internet Services and Applications', 'Multimedia Elements', 'Networking and Internet Basics', 'Program Development', 'Spreadsheets and Databases', 'Threats and Security on the Internet'],\n",
       "        num_rows: 81\n",
       "    })\n",
       "})"
      ]
     },
     "execution_count": 3,
     "metadata": {},
     "output_type": "execute_result"
    }
   ],
   "source": [
    "datasets"
   ]
  },
  {
   "cell_type": "code",
   "execution_count": 4,
   "metadata": {},
   "outputs": [],
   "source": [
    "model_labels = [label for label in datasets['train'].features.keys() if label not in ['Unnamed: 0', 'String', '__index_level_0__']]"
   ]
  },
  {
   "cell_type": "code",
   "execution_count": 5,
   "metadata": {},
   "outputs": [
    {
     "data": {
      "text/plain": [
       "['Algorithm Design',\n",
       " 'Basic Machine Organisation',\n",
       " 'Computer System',\n",
       " 'Data Manipulation and Analysis',\n",
       " 'Data Organisation and Data Control',\n",
       " 'Elementary Web Authoring',\n",
       " 'Health and Ethical Issues',\n",
       " 'Information Processing',\n",
       " 'Intellectual Property',\n",
       " 'Internet Services and Applications',\n",
       " 'Multimedia Elements',\n",
       " 'Networking and Internet Basics',\n",
       " 'Program Development',\n",
       " 'Spreadsheets and Databases',\n",
       " 'Threats and Security on the Internet']"
      ]
     },
     "execution_count": 5,
     "metadata": {},
     "output_type": "execute_result"
    }
   ],
   "source": [
    "model_labels"
   ]
  },
  {
   "cell_type": "code",
   "execution_count": 6,
   "metadata": {},
   "outputs": [
    {
     "data": {
      "text/plain": [
       "['String',\n",
       " 'Algorithm Design',\n",
       " 'Basic Machine Organisation',\n",
       " 'Computer System',\n",
       " 'Data Manipulation and Analysis',\n",
       " 'Data Organisation and Data Control',\n",
       " 'Elementary Web Authoring',\n",
       " 'Health and Ethical Issues',\n",
       " 'Information Processing',\n",
       " 'Intellectual Property',\n",
       " 'Internet Services and Applications',\n",
       " 'Multimedia Elements',\n",
       " 'Networking and Internet Basics',\n",
       " 'Program Development',\n",
       " 'Spreadsheets and Databases',\n",
       " 'Threats and Security on the Internet']"
      ]
     },
     "execution_count": 6,
     "metadata": {},
     "output_type": "execute_result"
    }
   ],
   "source": [
    "datasets[\"train\"].column_names"
   ]
  },
  {
   "cell_type": "code",
   "execution_count": 7,
   "metadata": {},
   "outputs": [
    {
     "data": {
      "text/plain": [
       "{'String': Value(dtype='string', id=None),\n",
       " 'Algorithm Design': Value(dtype='int32', id=None),\n",
       " 'Basic Machine Organisation': Value(dtype='int32', id=None),\n",
       " 'Computer System': Value(dtype='int32', id=None),\n",
       " 'Data Manipulation and Analysis': Value(dtype='int32', id=None),\n",
       " 'Data Organisation and Data Control': Value(dtype='int32', id=None),\n",
       " 'Elementary Web Authoring': Value(dtype='int32', id=None),\n",
       " 'Health and Ethical Issues': Value(dtype='int32', id=None),\n",
       " 'Information Processing': Value(dtype='int32', id=None),\n",
       " 'Intellectual Property': Value(dtype='int32', id=None),\n",
       " 'Internet Services and Applications': Value(dtype='int32', id=None),\n",
       " 'Multimedia Elements': Value(dtype='int32', id=None),\n",
       " 'Networking and Internet Basics': Value(dtype='int32', id=None),\n",
       " 'Program Development': Value(dtype='int32', id=None),\n",
       " 'Spreadsheets and Databases': Value(dtype='int32', id=None),\n",
       " 'Threats and Security on the Internet': Value(dtype='int32', id=None)}"
      ]
     },
     "execution_count": 7,
     "metadata": {},
     "output_type": "execute_result"
    }
   ],
   "source": [
    "datasets[\"train\"].features"
   ]
  },
  {
   "cell_type": "code",
   "execution_count": 8,
   "metadata": {},
   "outputs": [],
   "source": [
    "#print(f\"{datasets.train.column_names}\\n{datasets.train.features}\")"
   ]
  },
  {
   "cell_type": "code",
   "execution_count": 9,
   "metadata": {},
   "outputs": [
    {
     "data": {
      "text/plain": [
       "['Algorithm Design',\n",
       " 'Basic Machine Organisation',\n",
       " 'Computer System',\n",
       " 'Data Manipulation and Analysis',\n",
       " 'Data Organisation and Data Control',\n",
       " 'Elementary Web Authoring',\n",
       " 'Health and Ethical Issues',\n",
       " 'Information Processing',\n",
       " 'Intellectual Property',\n",
       " 'Internet Services and Applications',\n",
       " 'Multimedia Elements',\n",
       " 'Networking and Internet Basics',\n",
       " 'Program Development',\n",
       " 'Spreadsheets and Databases',\n",
       " 'Threats and Security on the Internet']"
      ]
     },
     "execution_count": 9,
     "metadata": {},
     "output_type": "execute_result"
    }
   ],
   "source": [
    "model_labels"
   ]
  },
  {
   "cell_type": "code",
   "execution_count": 10,
   "metadata": {},
   "outputs": [],
   "source": [
    "id2label = {idx:label for idx, label in enumerate(model_labels)}\n",
    "label2id = {label:idx for idx, label in enumerate(model_labels)}"
   ]
  },
  {
   "cell_type": "code",
   "execution_count": 11,
   "metadata": {},
   "outputs": [],
   "source": [
    "from transformers import AutoTokenizer, AutoModelForSequenceClassification\n",
    "import numpy as np\n",
    "\n",
    "tokenizer = AutoTokenizer.from_pretrained(\"bert-base-uncased\")"
   ]
  },
  {
   "cell_type": "code",
   "execution_count": 12,
   "metadata": {},
   "outputs": [],
   "source": [
    "def encode_data(dataset):\n",
    "    text = dataset[\"String\"]\n",
    "    # tokenize string\n",
    "    encoding = tokenizer(text, padding=\"max_length\", truncation=True, max_length=70)\n",
    "    # create encoded array list with labels\n",
    "    labelsBatch = {x: dataset[x] for x in dataset.keys() if x in model_labels}\n",
    "    labels_matrix = np.zeros((len(text), len(model_labels)))\n",
    "    for idx, label in enumerate(model_labels):\n",
    "        labels_matrix[:, idx] = labelsBatch[label]\n",
    "    \n",
    "    encoding[\"labels\"] = labels_matrix.tolist()\n",
    "    return encoding"
   ]
  },
  {
   "cell_type": "code",
   "execution_count": 13,
   "metadata": {},
   "outputs": [
    {
     "name": "stderr",
     "output_type": "stream",
     "text": [
      "Loading cached processed dataset at c:\\Users\\user\\Desktop\\QuestionQuestionModel\\model\\encoded_data4\\train\\cache-83276ad8f96c0d70.arrow\n",
      "100%|██████████| 1/1 [00:00<00:00, 47.77ba/s]\n",
      "Loading cached processed dataset at c:\\Users\\user\\Desktop\\QuestionQuestionModel\\model\\encoded_data4\\test\\cache-6fff698335c533a9.arrow\n"
     ]
    }
   ],
   "source": [
    "# tokenize the dataset\n",
    "encoded_ds = datasets.map(encode_data, batched=True, remove_columns=datasets['train'].column_names)"
   ]
  },
  {
   "cell_type": "code",
   "execution_count": 14,
   "metadata": {},
   "outputs": [
    {
     "data": {
      "text/plain": [
       "[0.0, 0.0, 0.0, 0.0, 0.0, 0.0, 0.0, 0.0, 0.0, 0.0, 1.0, 0.0, 0.0, 0.0, 0.0]"
      ]
     },
     "execution_count": 14,
     "metadata": {},
     "output_type": "execute_result"
    }
   ],
   "source": [
    "encoded_ds['train']['labels'][0]"
   ]
  },
  {
   "cell_type": "code",
   "execution_count": 15,
   "metadata": {},
   "outputs": [
    {
     "data": {
      "text/plain": [
       "['Data Organisation and Data Control']"
      ]
     },
     "execution_count": 15,
     "metadata": {},
     "output_type": "execute_result"
    }
   ],
   "source": [
    "[id2label[idx] for idx, label in enumerate(encoded_ds['train'][15]['labels']) if label == 1.0]"
   ]
  },
  {
   "cell_type": "code",
   "execution_count": 16,
   "metadata": {},
   "outputs": [
    {
     "name": "stdout",
     "output_type": "stream",
     "text": [
      "Using device: cuda\n",
      "\n"
     ]
    }
   ],
   "source": [
    "import torch\n",
    "from torch import cuda\n",
    "device = torch.device('cuda' if torch.cuda.is_available() else 'cpu')\n",
    "print('Using device:', device)\n",
    "print()\n",
    "\n",
    "encoded_ds.set_format(\"torch\")"
   ]
  },
  {
   "cell_type": "code",
   "execution_count": 17,
   "metadata": {},
   "outputs": [
    {
     "data": {
      "text/plain": [
       "Dataset({\n",
       "    features: ['input_ids', 'token_type_ids', 'attention_mask', 'labels'],\n",
       "    num_rows: 644\n",
       "})"
      ]
     },
     "execution_count": 17,
     "metadata": {},
     "output_type": "execute_result"
    }
   ],
   "source": [
    "encoded_ds[\"train\"]"
   ]
  },
  {
   "cell_type": "code",
   "execution_count": 18,
   "metadata": {},
   "outputs": [
    {
     "name": "stderr",
     "output_type": "stream",
     "text": [
      "Some weights of the model checkpoint at bert-base-uncased were not used when initializing BertForSequenceClassification: ['cls.predictions.decoder.weight', 'cls.predictions.transform.dense.weight', 'cls.predictions.transform.LayerNorm.bias', 'cls.predictions.transform.LayerNorm.weight', 'cls.predictions.transform.dense.bias', 'cls.seq_relationship.bias', 'cls.predictions.bias', 'cls.seq_relationship.weight']\n",
      "- This IS expected if you are initializing BertForSequenceClassification from the checkpoint of a model trained on another task or with another architecture (e.g. initializing a BertForSequenceClassification model from a BertForPreTraining model).\n",
      "- This IS NOT expected if you are initializing BertForSequenceClassification from the checkpoint of a model that you expect to be exactly identical (initializing a BertForSequenceClassification model from a BertForSequenceClassification model).\n",
      "Some weights of BertForSequenceClassification were not initialized from the model checkpoint at bert-base-uncased and are newly initialized: ['classifier.weight', 'classifier.bias']\n",
      "You should probably TRAIN this model on a down-stream task to be able to use it for predictions and inference.\n"
     ]
    }
   ],
   "source": [
    "\n",
    "# define model\n",
    "model = AutoModelForSequenceClassification.from_pretrained(\"bert-base-uncased\", problem_type=\"multi_label_classification\", num_labels=len(model_labels), id2label=id2label, label2id=label2id)"
   ]
  },
  {
   "cell_type": "code",
   "execution_count": 19,
   "metadata": {},
   "outputs": [],
   "source": [
    "# train model\n",
    "batch_size = 8\n",
    "metric_name = \"f1\""
   ]
  },
  {
   "cell_type": "code",
   "execution_count": 20,
   "metadata": {},
   "outputs": [],
   "source": [
    "import evaluate\n",
    "metric  = evaluate.load(\"accuracy\")"
   ]
  },
  {
   "cell_type": "code",
   "execution_count": 21,
   "metadata": {},
   "outputs": [
    {
     "data": {
      "text/plain": [
       "'20230329_065154$-train-model-bert-base-uncased'"
      ]
     },
     "execution_count": 21,
     "metadata": {},
     "output_type": "execute_result"
    }
   ],
   "source": [
    "import time\n",
    "\n",
    "train_name_dir = time.strftime(f\"%Y%m%d_%H%M%S$-train-model-{model.name_or_path}\")\n",
    "train_name_dir"
   ]
  },
  {
   "cell_type": "code",
   "execution_count": 22,
   "metadata": {},
   "outputs": [],
   "source": [
    "from transformers import TrainingArguments, Trainer\n",
    "\n",
    "\n",
    "args = TrainingArguments(\n",
    "    output_dir=\"./Bert-v1/\"+ train_name_dir,\n",
    "    evaluation_strategy = \"epoch\",\n",
    "    save_strategy = \"epoch\",\n",
    "    learning_rate=2e-5,\n",
    "    per_device_train_batch_size=batch_size,\n",
    "    per_device_eval_batch_size=batch_size,\n",
    "    num_train_epochs= 81,\n",
    "    weight_decay=0.01,\n",
    "    load_best_model_at_end=True,\n",
    "    metric_for_best_model=metric_name,\n",
    "    logging_dir='./Bert-v1/logging/'+ train_name_dir\n",
    ")"
   ]
  },
  {
   "cell_type": "code",
   "execution_count": 23,
   "metadata": {},
   "outputs": [
    {
     "data": {
      "text/plain": [
       "2e-05"
      ]
     },
     "execution_count": 23,
     "metadata": {},
     "output_type": "execute_result"
    }
   ],
   "source": [
    "args.learning_rate"
   ]
  },
  {
   "cell_type": "code",
   "execution_count": 24,
   "metadata": {},
   "outputs": [
    {
     "name": "stderr",
     "output_type": "stream",
     "text": [
      "c:\\Users\\user\\Desktop\\QuestionQuestionModel\\venv\\lib\\site-packages\\transformers\\optimization.py:306: FutureWarning: This implementation of AdamW is deprecated and will be removed in a future version. Use the PyTorch implementation torch.optim.AdamW instead, or set `no_deprecation_warning=True` to disable this warning\n",
      "  warnings.warn(\n"
     ]
    }
   ],
   "source": [
    "from transformers import AdamW\n",
    "optimizer = AdamW(model.parameters(), lr=args.learning_rate, weight_decay=args.weight_decay)"
   ]
  },
  {
   "cell_type": "code",
   "execution_count": 25,
   "metadata": {},
   "outputs": [],
   "source": [
    "from sklearn.metrics import f1_score, roc_auc_score, accuracy_score, balanced_accuracy_score, hamming_loss\n",
    "from transformers import EvalPrediction\n",
    "\n",
    "\n",
    "def multi_label_metrics(predictions, labels, threshold=0.50):\n",
    "    # apply sigmoid on predictions fitting (batch_size, num_labels)\n",
    "    sigmoid = torch.nn.Sigmoid()\n",
    "    probs = sigmoid(torch.Tensor(predictions))\n",
    "    # use threshold to turn them into integer predictions\n",
    "    y_pred = np.zeros(probs.shape)\n",
    "    y_pred[np.where(probs >= threshold)] = 1\n",
    "    # compute metrics\n",
    "    y_true = labels\n",
    "    f1_micro_average = f1_score(y_true=y_true, y_pred=y_pred, average='micro')\n",
    "    roc_auc = roc_auc_score(y_true, y_pred, average = 'micro')\n",
    "    accuracy = accuracy_score(y_true, y_pred)\n",
    "    balanced_accuracy = balanced_accuracy_score(y_true.argmax(axis=1), y_pred.argmax(axis=1))\n",
    "    # logits, labels = predictions\n",
    "    # prediction = np.argmax(logits, axis=-1)\n",
    "    # return as dictionary\n",
    "    metrics = {'f1': f1_micro_average,\n",
    "               'roc_auc': roc_auc,\n",
    "               'accuracy': accuracy,\n",
    "               'balanced_accuracy': balanced_accuracy,\n",
    "               }\n",
    "    return metrics\n",
    "\n",
    "def compute_metrics(p: EvalPrediction):\n",
    "    preds = p.predictions[0] if isinstance(p.predictions, \n",
    "            tuple) else p.predictions\n",
    "    result = multi_label_metrics(\n",
    "        predictions=preds, \n",
    "        labels=p.label_ids)\n",
    "    return result\n",
    "\n",
    "def compute_metrics_new(eval_pred):\n",
    "    logits, labels = eval_pred\n",
    "    predictions = np.argmax(logits, axis=-1)\n",
    "    return metric.compute(predictions=predictions, references=labels)"
   ]
  },
  {
   "cell_type": "code",
   "execution_count": 26,
   "metadata": {},
   "outputs": [
    {
     "data": {
      "text/plain": [
       "'torch.FloatTensor'"
      ]
     },
     "execution_count": 26,
     "metadata": {},
     "output_type": "execute_result"
    }
   ],
   "source": [
    "encoded_ds['train'][0]['labels'].type()"
   ]
  },
  {
   "cell_type": "code",
   "execution_count": 27,
   "metadata": {},
   "outputs": [],
   "source": [
    "# model.to(device)"
   ]
  },
  {
   "cell_type": "code",
   "execution_count": 28,
   "metadata": {},
   "outputs": [
    {
     "data": {
      "text/plain": [
       "SequenceClassifierOutput(loss=tensor(0.7149, grad_fn=<BinaryCrossEntropyWithLogitsBackward0>), logits=tensor([[ 0.8069,  0.2389, -0.1406, -0.2847,  0.1737, -0.0554,  0.0414, -0.0071,\n",
       "         -0.7592, -0.3400, -0.2981,  0.4890, -0.1173, -0.0797, -0.0747]],\n",
       "       grad_fn=<AddmmBackward0>), hidden_states=None, attentions=None)"
      ]
     },
     "execution_count": 28,
     "metadata": {},
     "output_type": "execute_result"
    }
   ],
   "source": [
    "outputs = model(input_ids=encoded_ds['train']['input_ids'][0].unsqueeze(0), labels=encoded_ds['train'][0]['labels'].unsqueeze(0))\n",
    "outputs"
   ]
  },
  {
   "cell_type": "code",
   "execution_count": 29,
   "metadata": {},
   "outputs": [],
   "source": [
    "trainer = Trainer(\n",
    "    model,\n",
    "    args,\n",
    "    train_dataset=encoded_ds[\"train\"],\n",
    "    eval_dataset=encoded_ds[\"valid\"],\n",
    "    compute_metrics=compute_metrics,\n",
    "    tokenizer=tokenizer\n",
    ")"
   ]
  },
  {
   "cell_type": "code",
   "execution_count": 30,
   "metadata": {},
   "outputs": [
    {
     "name": "stderr",
     "output_type": "stream",
     "text": [
      "***** Running training *****\n",
      "  Num examples = 644\n",
      "  Num Epochs = 81\n",
      "  Instantaneous batch size per device = 8\n",
      "  Total train batch size (w. parallel, distributed & accumulation) = 8\n",
      "  Gradient Accumulation steps = 1\n",
      "  Total optimization steps = 6561\n",
      "  Number of trainable parameters = 109493775\n",
      "  0%|          | 0/6561 [00:00<?, ?it/s]You're using a BertTokenizerFast tokenizer. Please note that with a fast tokenizer, using the `__call__` method is faster than using a method to encode the text followed by a call to the `pad` method to get a padded encoding.\n",
      "  1%|          | 80/6561 [00:08<09:22, 11.53it/s] ***** Running Evaluation *****\n",
      "  Num examples = 81\n",
      "  Batch size = 8\n",
      "                                                 \n",
      "  1%|          | 81/6561 [00:08<09:22, 11.53it/s]Saving model checkpoint to ./Bert-v1/20230329_065154$-train-model-bert-base-uncased\\checkpoint-81\n",
      "Configuration saved in ./Bert-v1/20230329_065154$-train-model-bert-base-uncased\\checkpoint-81\\config.json\n"
     ]
    },
    {
     "name": "stdout",
     "output_type": "stream",
     "text": [
      "{'eval_loss': 0.2676461637020111, 'eval_f1': 0.0, 'eval_roc_auc': 0.5, 'eval_accuracy': 0.0, 'eval_balanced_accuracy': 0.06666666666666667, 'eval_runtime': 0.2199, 'eval_samples_per_second': 368.27, 'eval_steps_per_second': 50.012, 'epoch': 1.0}\n"
     ]
    },
    {
     "name": "stderr",
     "output_type": "stream",
     "text": [
      "Model weights saved in ./Bert-v1/20230329_065154$-train-model-bert-base-uncased\\checkpoint-81\\pytorch_model.bin\n",
      "tokenizer config file saved in ./Bert-v1/20230329_065154$-train-model-bert-base-uncased\\checkpoint-81\\tokenizer_config.json\n",
      "Special tokens file saved in ./Bert-v1/20230329_065154$-train-model-bert-base-uncased\\checkpoint-81\\special_tokens_map.json\n",
      "  2%|▏         | 162/6561 [00:17<08:48, 12.10it/s]***** Running Evaluation *****\n",
      "  Num examples = 81\n",
      "  Batch size = 8\n",
      "                                                  \n",
      "  2%|▏         | 162/6561 [00:17<08:48, 12.10it/s]Saving model checkpoint to ./Bert-v1/20230329_065154$-train-model-bert-base-uncased\\checkpoint-162\n",
      "Configuration saved in ./Bert-v1/20230329_065154$-train-model-bert-base-uncased\\checkpoint-162\\config.json\n"
     ]
    },
    {
     "name": "stdout",
     "output_type": "stream",
     "text": [
      "{'eval_loss': 0.24016331136226654, 'eval_f1': 0.0, 'eval_roc_auc': 0.5, 'eval_accuracy': 0.0, 'eval_balanced_accuracy': 0.06666666666666667, 'eval_runtime': 0.2229, 'eval_samples_per_second': 363.326, 'eval_steps_per_second': 49.341, 'epoch': 2.0}\n"
     ]
    },
    {
     "name": "stderr",
     "output_type": "stream",
     "text": [
      "Model weights saved in ./Bert-v1/20230329_065154$-train-model-bert-base-uncased\\checkpoint-162\\pytorch_model.bin\n",
      "tokenizer config file saved in ./Bert-v1/20230329_065154$-train-model-bert-base-uncased\\checkpoint-162\\tokenizer_config.json\n",
      "Special tokens file saved in ./Bert-v1/20230329_065154$-train-model-bert-base-uncased\\checkpoint-162\\special_tokens_map.json\n",
      "  4%|▎         | 243/6561 [00:26<08:39, 12.15it/s]***** Running Evaluation *****\n",
      "  Num examples = 81\n",
      "  Batch size = 8\n",
      "                                                  \n",
      "  4%|▎         | 243/6561 [00:26<08:39, 12.15it/s]Saving model checkpoint to ./Bert-v1/20230329_065154$-train-model-bert-base-uncased\\checkpoint-243\n",
      "Configuration saved in ./Bert-v1/20230329_065154$-train-model-bert-base-uncased\\checkpoint-243\\config.json\n"
     ]
    },
    {
     "name": "stdout",
     "output_type": "stream",
     "text": [
      "{'eval_loss': 0.22029325366020203, 'eval_f1': 0.0, 'eval_roc_auc': 0.5, 'eval_accuracy': 0.0, 'eval_balanced_accuracy': 0.06666666666666667, 'eval_runtime': 0.2348, 'eval_samples_per_second': 344.933, 'eval_steps_per_second': 46.843, 'epoch': 3.0}\n"
     ]
    },
    {
     "name": "stderr",
     "output_type": "stream",
     "text": [
      "Model weights saved in ./Bert-v1/20230329_065154$-train-model-bert-base-uncased\\checkpoint-243\\pytorch_model.bin\n",
      "tokenizer config file saved in ./Bert-v1/20230329_065154$-train-model-bert-base-uncased\\checkpoint-243\\tokenizer_config.json\n",
      "Special tokens file saved in ./Bert-v1/20230329_065154$-train-model-bert-base-uncased\\checkpoint-243\\special_tokens_map.json\n",
      "  5%|▍         | 323/6561 [00:35<08:58, 11.58it/s]***** Running Evaluation *****\n",
      "  Num examples = 81\n",
      "  Batch size = 8\n",
      "                                                  \n",
      "  5%|▍         | 324/6561 [00:36<08:58, 11.58it/s]Saving model checkpoint to ./Bert-v1/20230329_065154$-train-model-bert-base-uncased\\checkpoint-324\n",
      "Configuration saved in ./Bert-v1/20230329_065154$-train-model-bert-base-uncased\\checkpoint-324\\config.json\n"
     ]
    },
    {
     "name": "stdout",
     "output_type": "stream",
     "text": [
      "{'eval_loss': 0.1943204402923584, 'eval_f1': 0.15053763440860218, 'eval_roc_auc': 0.5406976744186046, 'eval_accuracy': 0.07407407407407407, 'eval_balanced_accuracy': 0.13111111111111112, 'eval_runtime': 0.2242, 'eval_samples_per_second': 361.277, 'eval_steps_per_second': 49.062, 'epoch': 4.0}\n"
     ]
    },
    {
     "name": "stderr",
     "output_type": "stream",
     "text": [
      "Model weights saved in ./Bert-v1/20230329_065154$-train-model-bert-base-uncased\\checkpoint-324\\pytorch_model.bin\n",
      "tokenizer config file saved in ./Bert-v1/20230329_065154$-train-model-bert-base-uncased\\checkpoint-324\\tokenizer_config.json\n",
      "Special tokens file saved in ./Bert-v1/20230329_065154$-train-model-bert-base-uncased\\checkpoint-324\\special_tokens_map.json\n",
      "  6%|▌         | 405/6561 [00:44<08:28, 12.12it/s]***** Running Evaluation *****\n",
      "  Num examples = 81\n",
      "  Batch size = 8\n",
      "                                                  \n",
      "  6%|▌         | 405/6561 [00:44<08:28, 12.12it/s]Saving model checkpoint to ./Bert-v1/20230329_065154$-train-model-bert-base-uncased\\checkpoint-405\n",
      "Configuration saved in ./Bert-v1/20230329_065154$-train-model-bert-base-uncased\\checkpoint-405\\config.json\n"
     ]
    },
    {
     "name": "stdout",
     "output_type": "stream",
     "text": [
      "{'eval_loss': 0.16976314783096313, 'eval_f1': 0.43859649122807026, 'eval_roc_auc': 0.6440202278204628, 'eval_accuracy': 0.2962962962962963, 'eval_balanced_accuracy': 0.24813131313131315, 'eval_runtime': 0.2178, 'eval_samples_per_second': 371.931, 'eval_steps_per_second': 50.509, 'epoch': 5.0}\n"
     ]
    },
    {
     "name": "stderr",
     "output_type": "stream",
     "text": [
      "Model weights saved in ./Bert-v1/20230329_065154$-train-model-bert-base-uncased\\checkpoint-405\\pytorch_model.bin\n",
      "tokenizer config file saved in ./Bert-v1/20230329_065154$-train-model-bert-base-uncased\\checkpoint-405\\tokenizer_config.json\n",
      "Special tokens file saved in ./Bert-v1/20230329_065154$-train-model-bert-base-uncased\\checkpoint-405\\special_tokens_map.json\n",
      "  7%|▋         | 485/6561 [00:53<08:46, 11.55it/s]***** Running Evaluation *****\n",
      "  Num examples = 81\n",
      "  Batch size = 8\n",
      "                                                  \n",
      "  7%|▋         | 486/6561 [00:53<08:45, 11.55it/s]Saving model checkpoint to ./Bert-v1/20230329_065154$-train-model-bert-base-uncased\\checkpoint-486\n",
      "Configuration saved in ./Bert-v1/20230329_065154$-train-model-bert-base-uncased\\checkpoint-486\\config.json\n"
     ]
    },
    {
     "name": "stdout",
     "output_type": "stream",
     "text": [
      "{'eval_loss': 0.14992116391658783, 'eval_f1': 0.5737704918032788, 'eval_roc_auc': 0.7030455022967433, 'eval_accuracy': 0.41975308641975306, 'eval_balanced_accuracy': 0.3534848484848485, 'eval_runtime': 0.2462, 'eval_samples_per_second': 328.992, 'eval_steps_per_second': 44.678, 'epoch': 6.0}\n"
     ]
    },
    {
     "name": "stderr",
     "output_type": "stream",
     "text": [
      "Model weights saved in ./Bert-v1/20230329_065154$-train-model-bert-base-uncased\\checkpoint-486\\pytorch_model.bin\n",
      "tokenizer config file saved in ./Bert-v1/20230329_065154$-train-model-bert-base-uncased\\checkpoint-486\\tokenizer_config.json\n",
      "Special tokens file saved in ./Bert-v1/20230329_065154$-train-model-bert-base-uncased\\checkpoint-486\\special_tokens_map.json\n",
      "  8%|▊         | 501/6561 [00:57<10:53,  9.28it/s]"
     ]
    },
    {
     "name": "stdout",
     "output_type": "stream",
     "text": [
      "{'loss': 0.2294, 'learning_rate': 1.8475842097241278e-05, 'epoch': 6.17}\n"
     ]
    },
    {
     "name": "stderr",
     "output_type": "stream",
     "text": [
      "  9%|▊         | 567/6561 [01:02<08:25, 11.86it/s]***** Running Evaluation *****\n",
      "  Num examples = 81\n",
      "  Batch size = 8\n",
      "                                                  \n",
      "  9%|▊         | 567/6561 [01:03<08:25, 11.86it/s]Saving model checkpoint to ./Bert-v1/20230329_065154$-train-model-bert-base-uncased\\checkpoint-567\n",
      "Configuration saved in ./Bert-v1/20230329_065154$-train-model-bert-base-uncased\\checkpoint-567\\config.json\n"
     ]
    },
    {
     "name": "stdout",
     "output_type": "stream",
     "text": [
      "{'eval_loss': 0.13610674440860748, 'eval_f1': 0.6466165413533835, 'eval_roc_auc': 0.7482285208148804, 'eval_accuracy': 0.5185185185185185, 'eval_balanced_accuracy': 0.5402308802308802, 'eval_runtime': 0.2279, 'eval_samples_per_second': 355.36, 'eval_steps_per_second': 48.259, 'epoch': 7.0}\n"
     ]
    },
    {
     "name": "stderr",
     "output_type": "stream",
     "text": [
      "Model weights saved in ./Bert-v1/20230329_065154$-train-model-bert-base-uncased\\checkpoint-567\\pytorch_model.bin\n",
      "tokenizer config file saved in ./Bert-v1/20230329_065154$-train-model-bert-base-uncased\\checkpoint-567\\tokenizer_config.json\n",
      "Special tokens file saved in ./Bert-v1/20230329_065154$-train-model-bert-base-uncased\\checkpoint-567\\special_tokens_map.json\n",
      " 10%|▉         | 647/6561 [01:18<08:49, 11.17it/s]  ***** Running Evaluation *****\n",
      "  Num examples = 81\n",
      "  Batch size = 8\n",
      "                                                  \n",
      " 10%|▉         | 648/6561 [01:18<08:49, 11.17it/s]Saving model checkpoint to ./Bert-v1/20230329_065154$-train-model-bert-base-uncased\\checkpoint-648\n",
      "Configuration saved in ./Bert-v1/20230329_065154$-train-model-bert-base-uncased\\checkpoint-648\\config.json\n"
     ]
    },
    {
     "name": "stdout",
     "output_type": "stream",
     "text": [
      "{'eval_loss': 0.12094715237617493, 'eval_f1': 0.6901408450704225, 'eval_roc_auc': 0.7817836323562734, 'eval_accuracy': 0.5802469135802469, 'eval_balanced_accuracy': 0.5888023088023089, 'eval_runtime': 0.2274, 'eval_samples_per_second': 356.221, 'eval_steps_per_second': 48.376, 'epoch': 8.0}\n"
     ]
    },
    {
     "name": "stderr",
     "output_type": "stream",
     "text": [
      "Model weights saved in ./Bert-v1/20230329_065154$-train-model-bert-base-uncased\\checkpoint-648\\pytorch_model.bin\n",
      "tokenizer config file saved in ./Bert-v1/20230329_065154$-train-model-bert-base-uncased\\checkpoint-648\\tokenizer_config.json\n",
      "Special tokens file saved in ./Bert-v1/20230329_065154$-train-model-bert-base-uncased\\checkpoint-648\\special_tokens_map.json\n",
      " 11%|█         | 728/6561 [01:27<08:16, 11.74it/s]***** Running Evaluation *****\n",
      "  Num examples = 81\n",
      "  Batch size = 8\n",
      "                                                  \n",
      " 11%|█         | 729/6561 [01:27<08:16, 11.74it/s]Saving model checkpoint to ./Bert-v1/20230329_065154$-train-model-bert-base-uncased\\checkpoint-729\n",
      "Configuration saved in ./Bert-v1/20230329_065154$-train-model-bert-base-uncased\\checkpoint-729\\config.json\n"
     ]
    },
    {
     "name": "stdout",
     "output_type": "stream",
     "text": [
      "{'eval_loss': 0.11407685279846191, 'eval_f1': 0.7083333333333334, 'eval_roc_auc': 0.7934115393330176, 'eval_accuracy': 0.6172839506172839, 'eval_balanced_accuracy': 0.6392784992784991, 'eval_runtime': 0.2291, 'eval_samples_per_second': 353.595, 'eval_steps_per_second': 48.019, 'epoch': 9.0}\n"
     ]
    },
    {
     "name": "stderr",
     "output_type": "stream",
     "text": [
      "Model weights saved in ./Bert-v1/20230329_065154$-train-model-bert-base-uncased\\checkpoint-729\\pytorch_model.bin\n",
      "tokenizer config file saved in ./Bert-v1/20230329_065154$-train-model-bert-base-uncased\\checkpoint-729\\tokenizer_config.json\n",
      "Special tokens file saved in ./Bert-v1/20230329_065154$-train-model-bert-base-uncased\\checkpoint-729\\special_tokens_map.json\n",
      " 12%|█▏        | 809/6561 [01:36<07:53, 12.15it/s]***** Running Evaluation *****\n",
      "  Num examples = 81\n",
      "  Batch size = 8\n",
      "                                                  \n",
      " 12%|█▏        | 810/6561 [01:36<07:53, 12.15it/s]Saving model checkpoint to ./Bert-v1/20230329_065154$-train-model-bert-base-uncased\\checkpoint-810\n",
      "Configuration saved in ./Bert-v1/20230329_065154$-train-model-bert-base-uncased\\checkpoint-810\\config.json\n"
     ]
    },
    {
     "name": "stdout",
     "output_type": "stream",
     "text": [
      "{'eval_loss': 0.10180196911096573, 'eval_f1': 0.7466666666666667, 'eval_roc_auc': 0.8220384369785981, 'eval_accuracy': 0.6419753086419753, 'eval_balanced_accuracy': 0.6821356421356423, 'eval_runtime': 0.2238, 'eval_samples_per_second': 361.993, 'eval_steps_per_second': 49.16, 'epoch': 10.0}\n"
     ]
    },
    {
     "name": "stderr",
     "output_type": "stream",
     "text": [
      "Model weights saved in ./Bert-v1/20230329_065154$-train-model-bert-base-uncased\\checkpoint-810\\pytorch_model.bin\n",
      "tokenizer config file saved in ./Bert-v1/20230329_065154$-train-model-bert-base-uncased\\checkpoint-810\\tokenizer_config.json\n",
      "Special tokens file saved in ./Bert-v1/20230329_065154$-train-model-bert-base-uncased\\checkpoint-810\\special_tokens_map.json\n",
      " 14%|█▎        | 891/6561 [01:45<07:59, 11.84it/s]***** Running Evaluation *****\n",
      "  Num examples = 81\n",
      "  Batch size = 8\n",
      "                                                  \n",
      " 14%|█▎        | 891/6561 [01:45<07:59, 11.84it/s]Saving model checkpoint to ./Bert-v1/20230329_065154$-train-model-bert-base-uncased\\checkpoint-891\n",
      "Configuration saved in ./Bert-v1/20230329_065154$-train-model-bert-base-uncased\\checkpoint-891\\config.json\n"
     ]
    },
    {
     "name": "stdout",
     "output_type": "stream",
     "text": [
      "{'eval_loss': 0.09457758069038391, 'eval_f1': 0.7973856209150326, 'eval_roc_auc': 0.8519939440130183, 'eval_accuracy': 0.7160493827160493, 'eval_balanced_accuracy': 0.7581673881673883, 'eval_runtime': 0.2282, 'eval_samples_per_second': 355.027, 'eval_steps_per_second': 48.214, 'epoch': 11.0}\n"
     ]
    },
    {
     "name": "stderr",
     "output_type": "stream",
     "text": [
      "Model weights saved in ./Bert-v1/20230329_065154$-train-model-bert-base-uncased\\checkpoint-891\\pytorch_model.bin\n",
      "tokenizer config file saved in ./Bert-v1/20230329_065154$-train-model-bert-base-uncased\\checkpoint-891\\tokenizer_config.json\n",
      "Special tokens file saved in ./Bert-v1/20230329_065154$-train-model-bert-base-uncased\\checkpoint-891\\special_tokens_map.json\n",
      " 15%|█▍        | 971/6561 [01:53<07:39, 12.16it/s]***** Running Evaluation *****\n",
      "  Num examples = 81\n",
      "  Batch size = 8\n",
      "                                                  \n",
      " 15%|█▍        | 972/6561 [01:54<07:39, 12.16it/s]Saving model checkpoint to ./Bert-v1/20230329_065154$-train-model-bert-base-uncased\\checkpoint-972\n",
      "Configuration saved in ./Bert-v1/20230329_065154$-train-model-bert-base-uncased\\checkpoint-972\\config.json\n"
     ]
    },
    {
     "name": "stdout",
     "output_type": "stream",
     "text": [
      "{'eval_loss': 0.0916844829916954, 'eval_f1': 0.779874213836478, 'eval_roc_auc': 0.8555935485199909, 'eval_accuracy': 0.7160493827160493, 'eval_balanced_accuracy': 0.7537518037518037, 'eval_runtime': 0.2249, 'eval_samples_per_second': 360.235, 'eval_steps_per_second': 48.921, 'epoch': 12.0}\n"
     ]
    },
    {
     "name": "stderr",
     "output_type": "stream",
     "text": [
      "Model weights saved in ./Bert-v1/20230329_065154$-train-model-bert-base-uncased\\checkpoint-972\\pytorch_model.bin\n",
      "tokenizer config file saved in ./Bert-v1/20230329_065154$-train-model-bert-base-uncased\\checkpoint-972\\tokenizer_config.json\n",
      "Special tokens file saved in ./Bert-v1/20230329_065154$-train-model-bert-base-uncased\\checkpoint-972\\special_tokens_map.json\n",
      " 15%|█▌        | 1001/6561 [02:12<09:42,  9.55it/s] "
     ]
    },
    {
     "name": "stdout",
     "output_type": "stream",
     "text": [
      "{'loss': 0.0731, 'learning_rate': 1.6951684194482548e-05, 'epoch': 12.35}\n"
     ]
    },
    {
     "name": "stderr",
     "output_type": "stream",
     "text": [
      " 16%|█▌        | 1053/6561 [02:17<07:47, 11.79it/s]***** Running Evaluation *****\n",
      "  Num examples = 81\n",
      "  Batch size = 8\n",
      "                                                   \n",
      " 16%|█▌        | 1053/6561 [02:17<07:47, 11.79it/s]Saving model checkpoint to ./Bert-v1/20230329_065154$-train-model-bert-base-uncased\\checkpoint-1053\n",
      "Configuration saved in ./Bert-v1/20230329_065154$-train-model-bert-base-uncased\\checkpoint-1053\\config.json\n"
     ]
    },
    {
     "name": "stdout",
     "output_type": "stream",
     "text": [
      "{'eval_loss': 0.09120998531579971, 'eval_f1': 0.8025477707006369, 'eval_roc_auc': 0.8627361113972027, 'eval_accuracy': 0.7283950617283951, 'eval_balanced_accuracy': 0.7753391053391054, 'eval_runtime': 0.2305, 'eval_samples_per_second': 351.417, 'eval_steps_per_second': 47.723, 'epoch': 13.0}\n"
     ]
    },
    {
     "name": "stderr",
     "output_type": "stream",
     "text": [
      "Model weights saved in ./Bert-v1/20230329_065154$-train-model-bert-base-uncased\\checkpoint-1053\\pytorch_model.bin\n",
      "tokenizer config file saved in ./Bert-v1/20230329_065154$-train-model-bert-base-uncased\\checkpoint-1053\\tokenizer_config.json\n",
      "Special tokens file saved in ./Bert-v1/20230329_065154$-train-model-bert-base-uncased\\checkpoint-1053\\special_tokens_map.json\n",
      " 17%|█▋        | 1133/6561 [02:26<08:04, 11.20it/s]***** Running Evaluation *****\n",
      "  Num examples = 81\n",
      "  Batch size = 8\n",
      "                                                   \n",
      " 17%|█▋        | 1134/6561 [02:26<08:04, 11.20it/s]Saving model checkpoint to ./Bert-v1/20230329_065154$-train-model-bert-base-uncased\\checkpoint-1134\n",
      "Configuration saved in ./Bert-v1/20230329_065154$-train-model-bert-base-uncased\\checkpoint-1134\\config.json\n"
     ]
    },
    {
     "name": "stdout",
     "output_type": "stream",
     "text": [
      "{'eval_loss': 0.09180570393800735, 'eval_f1': 0.7848101265822784, 'eval_roc_auc': 0.8560364183162708, 'eval_accuracy': 0.7160493827160493, 'eval_balanced_accuracy': 0.7765800865800866, 'eval_runtime': 0.2214, 'eval_samples_per_second': 365.927, 'eval_steps_per_second': 49.694, 'epoch': 14.0}\n"
     ]
    },
    {
     "name": "stderr",
     "output_type": "stream",
     "text": [
      "Model weights saved in ./Bert-v1/20230329_065154$-train-model-bert-base-uncased\\checkpoint-1134\\pytorch_model.bin\n",
      "tokenizer config file saved in ./Bert-v1/20230329_065154$-train-model-bert-base-uncased\\checkpoint-1134\\tokenizer_config.json\n",
      "Special tokens file saved in ./Bert-v1/20230329_065154$-train-model-bert-base-uncased\\checkpoint-1134\\special_tokens_map.json\n",
      " 19%|█▊        | 1215/6561 [02:35<07:29, 11.88it/s]***** Running Evaluation *****\n",
      "  Num examples = 81\n",
      "  Batch size = 8\n",
      "                                                   \n",
      " 19%|█▊        | 1215/6561 [02:35<07:29, 11.88it/s]Saving model checkpoint to ./Bert-v1/20230329_065154$-train-model-bert-base-uncased\\checkpoint-1215\n",
      "Configuration saved in ./Bert-v1/20230329_065154$-train-model-bert-base-uncased\\checkpoint-1215\\config.json\n"
     ]
    },
    {
     "name": "stdout",
     "output_type": "stream",
     "text": [
      "{'eval_loss': 0.08989589661359787, 'eval_f1': 0.779874213836478, 'eval_roc_auc': 0.8555935485199909, 'eval_accuracy': 0.7160493827160493, 'eval_balanced_accuracy': 0.7620057720057719, 'eval_runtime': 0.2242, 'eval_samples_per_second': 361.249, 'eval_steps_per_second': 49.058, 'epoch': 15.0}\n"
     ]
    },
    {
     "name": "stderr",
     "output_type": "stream",
     "text": [
      "Model weights saved in ./Bert-v1/20230329_065154$-train-model-bert-base-uncased\\checkpoint-1215\\pytorch_model.bin\n",
      "tokenizer config file saved in ./Bert-v1/20230329_065154$-train-model-bert-base-uncased\\checkpoint-1215\\tokenizer_config.json\n",
      "Special tokens file saved in ./Bert-v1/20230329_065154$-train-model-bert-base-uncased\\checkpoint-1215\\special_tokens_map.json\n",
      " 20%|█▉        | 1295/6561 [02:44<07:40, 11.44it/s]***** Running Evaluation *****\n",
      "  Num examples = 81\n",
      "  Batch size = 8\n",
      "                                                   \n",
      " 20%|█▉        | 1296/6561 [02:44<07:40, 11.44it/s]Saving model checkpoint to ./Bert-v1/20230329_065154$-train-model-bert-base-uncased\\checkpoint-1296\n",
      "Configuration saved in ./Bert-v1/20230329_065154$-train-model-bert-base-uncased\\checkpoint-1296\\config.json\n"
     ]
    },
    {
     "name": "stdout",
     "output_type": "stream",
     "text": [
      "{'eval_loss': 0.0858728289604187, 'eval_f1': 0.8152866242038216, 'eval_roc_auc': 0.8689929346818547, 'eval_accuracy': 0.7407407407407407, 'eval_balanced_accuracy': 0.75991341991342, 'eval_runtime': 0.2264, 'eval_samples_per_second': 357.754, 'eval_steps_per_second': 48.584, 'epoch': 16.0}\n"
     ]
    },
    {
     "name": "stderr",
     "output_type": "stream",
     "text": [
      "Model weights saved in ./Bert-v1/20230329_065154$-train-model-bert-base-uncased\\checkpoint-1296\\pytorch_model.bin\n",
      "tokenizer config file saved in ./Bert-v1/20230329_065154$-train-model-bert-base-uncased\\checkpoint-1296\\tokenizer_config.json\n",
      "Special tokens file saved in ./Bert-v1/20230329_065154$-train-model-bert-base-uncased\\checkpoint-1296\\special_tokens_map.json\n",
      " 21%|██        | 1377/6561 [02:52<06:54, 12.52it/s]***** Running Evaluation *****\n",
      "  Num examples = 81\n",
      "  Batch size = 8\n",
      "                                                   \n",
      " 21%|██        | 1377/6561 [02:53<06:54, 12.52it/s]Saving model checkpoint to ./Bert-v1/20230329_065154$-train-model-bert-base-uncased\\checkpoint-1377\n",
      "Configuration saved in ./Bert-v1/20230329_065154$-train-model-bert-base-uncased\\checkpoint-1377\\config.json\n"
     ]
    },
    {
     "name": "stdout",
     "output_type": "stream",
     "text": [
      "{'eval_loss': 0.08588279038667679, 'eval_f1': 0.7901234567901234, 'eval_roc_auc': 0.8667785857004553, 'eval_accuracy': 0.7283950617283951, 'eval_balanced_accuracy': 0.7564502164502165, 'eval_runtime': 0.2134, 'eval_samples_per_second': 379.561, 'eval_steps_per_second': 51.545, 'epoch': 17.0}\n"
     ]
    },
    {
     "name": "stderr",
     "output_type": "stream",
     "text": [
      "Model weights saved in ./Bert-v1/20230329_065154$-train-model-bert-base-uncased\\checkpoint-1377\\pytorch_model.bin\n",
      "tokenizer config file saved in ./Bert-v1/20230329_065154$-train-model-bert-base-uncased\\checkpoint-1377\\tokenizer_config.json\n",
      "Special tokens file saved in ./Bert-v1/20230329_065154$-train-model-bert-base-uncased\\checkpoint-1377\\special_tokens_map.json\n",
      " 22%|██▏       | 1458/6561 [03:16<06:49, 12.47it/s]  ***** Running Evaluation *****\n",
      "  Num examples = 81\n",
      "  Batch size = 8\n",
      "                                                   \n",
      " 22%|██▏       | 1458/6561 [03:16<06:49, 12.47it/s]Saving model checkpoint to ./Bert-v1/20230329_065154$-train-model-bert-base-uncased\\checkpoint-1458\n",
      "Configuration saved in ./Bert-v1/20230329_065154$-train-model-bert-base-uncased\\checkpoint-1458\\config.json\n"
     ]
    },
    {
     "name": "stdout",
     "output_type": "stream",
     "text": [
      "{'eval_loss': 0.08710237592458725, 'eval_f1': 0.7926829268292682, 'eval_roc_auc': 0.8721496693925476, 'eval_accuracy': 0.7283950617283951, 'eval_balanced_accuracy': 0.765974025974026, 'eval_runtime': 0.213, 'eval_samples_per_second': 380.358, 'eval_steps_per_second': 51.654, 'epoch': 18.0}\n"
     ]
    },
    {
     "name": "stderr",
     "output_type": "stream",
     "text": [
      "Model weights saved in ./Bert-v1/20230329_065154$-train-model-bert-base-uncased\\checkpoint-1458\\pytorch_model.bin\n",
      "tokenizer config file saved in ./Bert-v1/20230329_065154$-train-model-bert-base-uncased\\checkpoint-1458\\tokenizer_config.json\n",
      "Special tokens file saved in ./Bert-v1/20230329_065154$-train-model-bert-base-uncased\\checkpoint-1458\\special_tokens_map.json\n",
      " 23%|██▎       | 1501/6561 [03:35<07:05, 11.89it/s]  "
     ]
    },
    {
     "name": "stdout",
     "output_type": "stream",
     "text": [
      "{'loss': 0.0312, 'learning_rate': 1.5427526291723824e-05, 'epoch': 18.52}\n"
     ]
    },
    {
     "name": "stderr",
     "output_type": "stream",
     "text": [
      " 23%|██▎       | 1539/6561 [03:38<06:51, 12.22it/s]***** Running Evaluation *****\n",
      "  Num examples = 81\n",
      "  Batch size = 8\n",
      "                                                   \n",
      " 23%|██▎       | 1539/6561 [03:39<06:51, 12.22it/s]Saving model checkpoint to ./Bert-v1/20230329_065154$-train-model-bert-base-uncased\\checkpoint-1539\n",
      "Configuration saved in ./Bert-v1/20230329_065154$-train-model-bert-base-uncased\\checkpoint-1539\\config.json\n"
     ]
    },
    {
     "name": "stdout",
     "output_type": "stream",
     "text": [
      "{'eval_loss': 0.08623947203159332, 'eval_f1': 0.8076923076923077, 'eval_roc_auc': 0.8631789811934825, 'eval_accuracy': 0.7283950617283951, 'eval_balanced_accuracy': 0.757056277056277, 'eval_runtime': 0.2104, 'eval_samples_per_second': 384.958, 'eval_steps_per_second': 52.278, 'epoch': 19.0}\n"
     ]
    },
    {
     "name": "stderr",
     "output_type": "stream",
     "text": [
      "Model weights saved in ./Bert-v1/20230329_065154$-train-model-bert-base-uncased\\checkpoint-1539\\pytorch_model.bin\n",
      "tokenizer config file saved in ./Bert-v1/20230329_065154$-train-model-bert-base-uncased\\checkpoint-1539\\tokenizer_config.json\n",
      "Special tokens file saved in ./Bert-v1/20230329_065154$-train-model-bert-base-uncased\\checkpoint-1539\\special_tokens_map.json\n",
      " 25%|██▍       | 1620/6561 [04:01<06:59, 11.78it/s]  ***** Running Evaluation *****\n",
      "  Num examples = 81\n",
      "  Batch size = 8\n",
      "                                                   \n",
      " 25%|██▍       | 1620/6561 [04:02<06:59, 11.78it/s]Saving model checkpoint to ./Bert-v1/20230329_065154$-train-model-bert-base-uncased\\checkpoint-1620\n",
      "Configuration saved in ./Bert-v1/20230329_065154$-train-model-bert-base-uncased\\checkpoint-1620\\config.json\n"
     ]
    },
    {
     "name": "stdout",
     "output_type": "stream",
     "text": [
      "{'eval_loss': 0.08898309618234634, 'eval_f1': 0.787878787878788, 'eval_roc_auc': 0.8717067995962675, 'eval_accuracy': 0.7283950617283951, 'eval_balanced_accuracy': 0.765974025974026, 'eval_runtime': 0.2255, 'eval_samples_per_second': 359.173, 'eval_steps_per_second': 48.777, 'epoch': 20.0}\n"
     ]
    },
    {
     "name": "stderr",
     "output_type": "stream",
     "text": [
      "Model weights saved in ./Bert-v1/20230329_065154$-train-model-bert-base-uncased\\checkpoint-1620\\pytorch_model.bin\n",
      "tokenizer config file saved in ./Bert-v1/20230329_065154$-train-model-bert-base-uncased\\checkpoint-1620\\tokenizer_config.json\n",
      "Special tokens file saved in ./Bert-v1/20230329_065154$-train-model-bert-base-uncased\\checkpoint-1620\\special_tokens_map.json\n",
      " 26%|██▌       | 1701/6561 [04:24<07:04, 11.45it/s]  ***** Running Evaluation *****\n",
      "  Num examples = 81\n",
      "  Batch size = 8\n",
      "                                                   \n",
      " 26%|██▌       | 1701/6561 [04:24<07:04, 11.45it/s]Saving model checkpoint to ./Bert-v1/20230329_065154$-train-model-bert-base-uncased\\checkpoint-1701\n",
      "Configuration saved in ./Bert-v1/20230329_065154$-train-model-bert-base-uncased\\checkpoint-1701\\config.json\n"
     ]
    },
    {
     "name": "stdout",
     "output_type": "stream",
     "text": [
      "{'eval_loss': 0.08651912957429886, 'eval_f1': 0.7950310559006211, 'eval_roc_auc': 0.8672214554967351, 'eval_accuracy': 0.7407407407407407, 'eval_balanced_accuracy': 0.7675613275613277, 'eval_runtime': 0.2369, 'eval_samples_per_second': 341.984, 'eval_steps_per_second': 46.442, 'epoch': 21.0}\n"
     ]
    },
    {
     "name": "stderr",
     "output_type": "stream",
     "text": [
      "Model weights saved in ./Bert-v1/20230329_065154$-train-model-bert-base-uncased\\checkpoint-1701\\pytorch_model.bin\n",
      "tokenizer config file saved in ./Bert-v1/20230329_065154$-train-model-bert-base-uncased\\checkpoint-1701\\tokenizer_config.json\n",
      "Special tokens file saved in ./Bert-v1/20230329_065154$-train-model-bert-base-uncased\\checkpoint-1701\\special_tokens_map.json\n",
      " 27%|██▋       | 1782/6561 [04:47<06:28, 12.32it/s]  ***** Running Evaluation *****\n",
      "  Num examples = 81\n",
      "  Batch size = 8\n",
      "                                                   \n",
      " 27%|██▋       | 1782/6561 [04:47<06:28, 12.32it/s]Saving model checkpoint to ./Bert-v1/20230329_065154$-train-model-bert-base-uncased\\checkpoint-1782\n",
      "Configuration saved in ./Bert-v1/20230329_065154$-train-model-bert-base-uncased\\checkpoint-1782\\config.json\n"
     ]
    },
    {
     "name": "stdout",
     "output_type": "stream",
     "text": [
      "{'eval_loss': 0.08742530643939972, 'eval_f1': 0.8074534161490684, 'eval_roc_auc': 0.8734782787813872, 'eval_accuracy': 0.7283950617283951, 'eval_balanced_accuracy': 0.7805483405483407, 'eval_runtime': 0.2147, 'eval_samples_per_second': 377.23, 'eval_steps_per_second': 51.229, 'epoch': 22.0}\n"
     ]
    },
    {
     "name": "stderr",
     "output_type": "stream",
     "text": [
      "Model weights saved in ./Bert-v1/20230329_065154$-train-model-bert-base-uncased\\checkpoint-1782\\pytorch_model.bin\n",
      "tokenizer config file saved in ./Bert-v1/20230329_065154$-train-model-bert-base-uncased\\checkpoint-1782\\tokenizer_config.json\n",
      "Special tokens file saved in ./Bert-v1/20230329_065154$-train-model-bert-base-uncased\\checkpoint-1782\\special_tokens_map.json\n",
      " 28%|██▊       | 1862/6561 [05:09<06:25, 12.18it/s]  ***** Running Evaluation *****\n",
      "  Num examples = 81\n",
      "  Batch size = 8\n",
      "                                                   \n",
      " 28%|██▊       | 1863/6561 [05:09<06:25, 12.18it/s]Saving model checkpoint to ./Bert-v1/20230329_065154$-train-model-bert-base-uncased\\checkpoint-1863\n",
      "Configuration saved in ./Bert-v1/20230329_065154$-train-model-bert-base-uncased\\checkpoint-1863\\config.json\n"
     ]
    },
    {
     "name": "stdout",
     "output_type": "stream",
     "text": [
      "{'eval_loss': 0.08407355099916458, 'eval_f1': 0.7749999999999999, 'eval_roc_auc': 0.8551506787237111, 'eval_accuracy': 0.7037037037037037, 'eval_balanced_accuracy': 0.7431168831168831, 'eval_runtime': 0.2091, 'eval_samples_per_second': 387.402, 'eval_steps_per_second': 52.61, 'epoch': 23.0}\n"
     ]
    },
    {
     "name": "stderr",
     "output_type": "stream",
     "text": [
      "Model weights saved in ./Bert-v1/20230329_065154$-train-model-bert-base-uncased\\checkpoint-1863\\pytorch_model.bin\n",
      "tokenizer config file saved in ./Bert-v1/20230329_065154$-train-model-bert-base-uncased\\checkpoint-1863\\tokenizer_config.json\n",
      "Special tokens file saved in ./Bert-v1/20230329_065154$-train-model-bert-base-uncased\\checkpoint-1863\\special_tokens_map.json\n",
      " 30%|██▉       | 1944/6561 [05:25<06:24, 12.00it/s]  ***** Running Evaluation *****\n",
      "  Num examples = 81\n",
      "  Batch size = 8\n",
      "                                                   \n",
      " 30%|██▉       | 1944/6561 [05:25<06:24, 12.00it/s]Saving model checkpoint to ./Bert-v1/20230329_065154$-train-model-bert-base-uncased\\checkpoint-1944\n",
      "Configuration saved in ./Bert-v1/20230329_065154$-train-model-bert-base-uncased\\checkpoint-1944\\config.json\n"
     ]
    },
    {
     "name": "stdout",
     "output_type": "stream",
     "text": [
      "{'eval_loss': 0.0855647474527359, 'eval_f1': 0.7901234567901234, 'eval_roc_auc': 0.8667785857004553, 'eval_accuracy': 0.7407407407407407, 'eval_balanced_accuracy': 0.7675613275613277, 'eval_runtime': 0.2194, 'eval_samples_per_second': 369.174, 'eval_steps_per_second': 50.135, 'epoch': 24.0}\n"
     ]
    },
    {
     "name": "stderr",
     "output_type": "stream",
     "text": [
      "Model weights saved in ./Bert-v1/20230329_065154$-train-model-bert-base-uncased\\checkpoint-1944\\pytorch_model.bin\n",
      "tokenizer config file saved in ./Bert-v1/20230329_065154$-train-model-bert-base-uncased\\checkpoint-1944\\tokenizer_config.json\n",
      "Special tokens file saved in ./Bert-v1/20230329_065154$-train-model-bert-base-uncased\\checkpoint-1944\\special_tokens_map.json\n",
      " 30%|███       | 2001/6561 [05:45<06:22, 11.93it/s]  "
     ]
    },
    {
     "name": "stdout",
     "output_type": "stream",
     "text": [
      "{'loss': 0.0183, 'learning_rate': 1.3903368388965097e-05, 'epoch': 24.69}\n"
     ]
    },
    {
     "name": "stderr",
     "output_type": "stream",
     "text": [
      " 31%|███       | 2025/6561 [05:47<06:05, 12.43it/s]***** Running Evaluation *****\n",
      "  Num examples = 81\n",
      "  Batch size = 8\n",
      "                                                   \n",
      " 31%|███       | 2025/6561 [05:47<06:05, 12.43it/s]Saving model checkpoint to ./Bert-v1/20230329_065154$-train-model-bert-base-uncased\\checkpoint-2025\n",
      "Configuration saved in ./Bert-v1/20230329_065154$-train-model-bert-base-uncased\\checkpoint-2025\\config.json\n"
     ]
    },
    {
     "name": "stdout",
     "output_type": "stream",
     "text": [
      "{'eval_loss': 0.08283726125955582, 'eval_f1': 0.7875, 'eval_roc_auc': 0.861407502008363, 'eval_accuracy': 0.7160493827160493, 'eval_balanced_accuracy': 0.7497835497835497, 'eval_runtime': 0.2179, 'eval_samples_per_second': 371.648, 'eval_steps_per_second': 50.471, 'epoch': 25.0}\n"
     ]
    },
    {
     "name": "stderr",
     "output_type": "stream",
     "text": [
      "Model weights saved in ./Bert-v1/20230329_065154$-train-model-bert-base-uncased\\checkpoint-2025\\pytorch_model.bin\n",
      "tokenizer config file saved in ./Bert-v1/20230329_065154$-train-model-bert-base-uncased\\checkpoint-2025\\tokenizer_config.json\n",
      "Special tokens file saved in ./Bert-v1/20230329_065154$-train-model-bert-base-uncased\\checkpoint-2025\\special_tokens_map.json\n",
      " 32%|███▏      | 2105/6561 [06:09<06:04, 12.23it/s]  ***** Running Evaluation *****\n",
      "  Num examples = 81\n",
      "  Batch size = 8\n",
      "                                                   \n",
      " 32%|███▏      | 2106/6561 [06:09<06:04, 12.23it/s]Saving model checkpoint to ./Bert-v1/20230329_065154$-train-model-bert-base-uncased\\checkpoint-2106\n",
      "Configuration saved in ./Bert-v1/20230329_065154$-train-model-bert-base-uncased\\checkpoint-2106\\config.json\n"
     ]
    },
    {
     "name": "stdout",
     "output_type": "stream",
     "text": [
      "{'eval_loss': 0.08474758267402649, 'eval_f1': 0.7901234567901234, 'eval_roc_auc': 0.8667785857004553, 'eval_accuracy': 0.7283950617283951, 'eval_balanced_accuracy': 0.7675613275613277, 'eval_runtime': 0.2123, 'eval_samples_per_second': 381.534, 'eval_steps_per_second': 51.813, 'epoch': 26.0}\n"
     ]
    },
    {
     "name": "stderr",
     "output_type": "stream",
     "text": [
      "Model weights saved in ./Bert-v1/20230329_065154$-train-model-bert-base-uncased\\checkpoint-2106\\pytorch_model.bin\n",
      "tokenizer config file saved in ./Bert-v1/20230329_065154$-train-model-bert-base-uncased\\checkpoint-2106\\tokenizer_config.json\n",
      "Special tokens file saved in ./Bert-v1/20230329_065154$-train-model-bert-base-uncased\\checkpoint-2106\\special_tokens_map.json\n",
      " 33%|███▎      | 2187/6561 [06:32<06:01, 12.10it/s]  ***** Running Evaluation *****\n",
      "  Num examples = 81\n",
      "  Batch size = 8\n",
      "                                                   \n",
      " 33%|███▎      | 2187/6561 [06:32<06:01, 12.10it/s]Saving model checkpoint to ./Bert-v1/20230329_065154$-train-model-bert-base-uncased\\checkpoint-2187\n",
      "Configuration saved in ./Bert-v1/20230329_065154$-train-model-bert-base-uncased\\checkpoint-2187\\config.json\n"
     ]
    },
    {
     "name": "stdout",
     "output_type": "stream",
     "text": [
      "{'eval_loss': 0.09028562158346176, 'eval_f1': 0.7852760736196319, 'eval_roc_auc': 0.8663357159041754, 'eval_accuracy': 0.7283950617283951, 'eval_balanced_accuracy': 0.7675613275613277, 'eval_runtime': 0.2298, 'eval_samples_per_second': 352.545, 'eval_steps_per_second': 47.876, 'epoch': 27.0}\n"
     ]
    },
    {
     "name": "stderr",
     "output_type": "stream",
     "text": [
      "Model weights saved in ./Bert-v1/20230329_065154$-train-model-bert-base-uncased\\checkpoint-2187\\pytorch_model.bin\n",
      "tokenizer config file saved in ./Bert-v1/20230329_065154$-train-model-bert-base-uncased\\checkpoint-2187\\tokenizer_config.json\n",
      "Special tokens file saved in ./Bert-v1/20230329_065154$-train-model-bert-base-uncased\\checkpoint-2187\\special_tokens_map.json\n",
      " 35%|███▍      | 2268/6561 [06:54<05:50, 12.25it/s]  ***** Running Evaluation *****\n",
      "  Num examples = 81\n",
      "  Batch size = 8\n",
      "                                                   \n",
      " 35%|███▍      | 2268/6561 [06:55<05:50, 12.25it/s]Saving model checkpoint to ./Bert-v1/20230329_065154$-train-model-bert-base-uncased\\checkpoint-2268\n",
      "Configuration saved in ./Bert-v1/20230329_065154$-train-model-bert-base-uncased\\checkpoint-2268\\config.json\n"
     ]
    },
    {
     "name": "stdout",
     "output_type": "stream",
     "text": [
      "{'eval_loss': 0.08496853709220886, 'eval_f1': 0.787878787878788, 'eval_roc_auc': 0.8717067995962675, 'eval_accuracy': 0.7283950617283951, 'eval_balanced_accuracy': 0.7564502164502165, 'eval_runtime': 0.2138, 'eval_samples_per_second': 378.932, 'eval_steps_per_second': 51.46, 'epoch': 28.0}\n"
     ]
    },
    {
     "name": "stderr",
     "output_type": "stream",
     "text": [
      "Model weights saved in ./Bert-v1/20230329_065154$-train-model-bert-base-uncased\\checkpoint-2268\\pytorch_model.bin\n",
      "tokenizer config file saved in ./Bert-v1/20230329_065154$-train-model-bert-base-uncased\\checkpoint-2268\\tokenizer_config.json\n",
      "Special tokens file saved in ./Bert-v1/20230329_065154$-train-model-bert-base-uncased\\checkpoint-2268\\special_tokens_map.json\n",
      " 36%|███▌      | 2348/6561 [07:18<06:06, 11.50it/s]  ***** Running Evaluation *****\n",
      "  Num examples = 81\n",
      "  Batch size = 8\n",
      "                                                   \n",
      " 36%|███▌      | 2349/6561 [07:18<06:06, 11.50it/s]Saving model checkpoint to ./Bert-v1/20230329_065154$-train-model-bert-base-uncased\\checkpoint-2349\n",
      "Configuration saved in ./Bert-v1/20230329_065154$-train-model-bert-base-uncased\\checkpoint-2349\\config.json\n"
     ]
    },
    {
     "name": "stdout",
     "output_type": "stream",
     "text": [
      "{'eval_loss': 0.08796067535877228, 'eval_f1': 0.7924528301886793, 'eval_roc_auc': 0.861850371804643, 'eval_accuracy': 0.7283950617283951, 'eval_balanced_accuracy': 0.7615007215007217, 'eval_runtime': 0.2206, 'eval_samples_per_second': 367.242, 'eval_steps_per_second': 49.872, 'epoch': 29.0}\n"
     ]
    },
    {
     "name": "stderr",
     "output_type": "stream",
     "text": [
      "Model weights saved in ./Bert-v1/20230329_065154$-train-model-bert-base-uncased\\checkpoint-2349\\pytorch_model.bin\n",
      "tokenizer config file saved in ./Bert-v1/20230329_065154$-train-model-bert-base-uncased\\checkpoint-2349\\tokenizer_config.json\n",
      "Special tokens file saved in ./Bert-v1/20230329_065154$-train-model-bert-base-uncased\\checkpoint-2349\\special_tokens_map.json\n",
      " 37%|███▋      | 2430/6561 [07:41<05:28, 12.57it/s]  ***** Running Evaluation *****\n",
      "  Num examples = 81\n",
      "  Batch size = 8\n",
      "                                                   \n",
      " 37%|███▋      | 2430/6561 [07:41<05:28, 12.57it/s]Saving model checkpoint to ./Bert-v1/20230329_065154$-train-model-bert-base-uncased\\checkpoint-2430\n",
      "Configuration saved in ./Bert-v1/20230329_065154$-train-model-bert-base-uncased\\checkpoint-2430\\config.json\n"
     ]
    },
    {
     "name": "stdout",
     "output_type": "stream",
     "text": [
      "{'eval_loss': 0.0863800197839737, 'eval_f1': 0.7950310559006211, 'eval_roc_auc': 0.8672214554967351, 'eval_accuracy': 0.7283950617283951, 'eval_balanced_accuracy': 0.7564502164502165, 'eval_runtime': 0.214, 'eval_samples_per_second': 378.442, 'eval_steps_per_second': 51.393, 'epoch': 30.0}\n"
     ]
    },
    {
     "name": "stderr",
     "output_type": "stream",
     "text": [
      "Model weights saved in ./Bert-v1/20230329_065154$-train-model-bert-base-uncased\\checkpoint-2430\\pytorch_model.bin\n",
      "tokenizer config file saved in ./Bert-v1/20230329_065154$-train-model-bert-base-uncased\\checkpoint-2430\\tokenizer_config.json\n",
      "Special tokens file saved in ./Bert-v1/20230329_065154$-train-model-bert-base-uncased\\checkpoint-2430\\special_tokens_map.json\n",
      " 38%|███▊      | 2501/6561 [08:03<05:55, 11.41it/s]  "
     ]
    },
    {
     "name": "stdout",
     "output_type": "stream",
     "text": [
      "{'loss': 0.0123, 'learning_rate': 1.2379210486206372e-05, 'epoch': 30.86}\n"
     ]
    },
    {
     "name": "stderr",
     "output_type": "stream",
     "text": [
      " 38%|███▊      | 2511/6561 [08:04<05:40, 11.88it/s]***** Running Evaluation *****\n",
      "  Num examples = 81\n",
      "  Batch size = 8\n",
      "                                                   \n",
      " 38%|███▊      | 2511/6561 [08:04<05:40, 11.88it/s]Saving model checkpoint to ./Bert-v1/20230329_065154$-train-model-bert-base-uncased\\checkpoint-2511\n",
      "Configuration saved in ./Bert-v1/20230329_065154$-train-model-bert-base-uncased\\checkpoint-2511\\config.json\n"
     ]
    },
    {
     "name": "stdout",
     "output_type": "stream",
     "text": [
      "{'eval_loss': 0.08380914479494095, 'eval_f1': 0.8125, 'eval_roc_auc': 0.873921148577667, 'eval_accuracy': 0.7407407407407407, 'eval_balanced_accuracy': 0.7675613275613277, 'eval_runtime': 0.2273, 'eval_samples_per_second': 356.298, 'eval_steps_per_second': 48.386, 'epoch': 31.0}\n"
     ]
    },
    {
     "name": "stderr",
     "output_type": "stream",
     "text": [
      "Model weights saved in ./Bert-v1/20230329_065154$-train-model-bert-base-uncased\\checkpoint-2511\\pytorch_model.bin\n",
      "tokenizer config file saved in ./Bert-v1/20230329_065154$-train-model-bert-base-uncased\\checkpoint-2511\\tokenizer_config.json\n",
      "Special tokens file saved in ./Bert-v1/20230329_065154$-train-model-bert-base-uncased\\checkpoint-2511\\special_tokens_map.json\n",
      " 40%|███▉      | 2592/6561 [08:27<05:38, 11.72it/s]  ***** Running Evaluation *****\n",
      "  Num examples = 81\n",
      "  Batch size = 8\n",
      "                                                   \n",
      " 40%|███▉      | 2592/6561 [08:27<05:38, 11.72it/s]Saving model checkpoint to ./Bert-v1/20230329_065154$-train-model-bert-base-uncased\\checkpoint-2592\n",
      "Configuration saved in ./Bert-v1/20230329_065154$-train-model-bert-base-uncased\\checkpoint-2592\\config.json\n"
     ]
    },
    {
     "name": "stdout",
     "output_type": "stream",
     "text": [
      "{'eval_loss': 0.08869124948978424, 'eval_f1': 0.7852760736196319, 'eval_roc_auc': 0.8663357159041754, 'eval_accuracy': 0.7407407407407407, 'eval_balanced_accuracy': 0.7675613275613277, 'eval_runtime': 0.2247, 'eval_samples_per_second': 360.405, 'eval_steps_per_second': 48.944, 'epoch': 32.0}\n"
     ]
    },
    {
     "name": "stderr",
     "output_type": "stream",
     "text": [
      "Model weights saved in ./Bert-v1/20230329_065154$-train-model-bert-base-uncased\\checkpoint-2592\\pytorch_model.bin\n",
      "tokenizer config file saved in ./Bert-v1/20230329_065154$-train-model-bert-base-uncased\\checkpoint-2592\\tokenizer_config.json\n",
      "Special tokens file saved in ./Bert-v1/20230329_065154$-train-model-bert-base-uncased\\checkpoint-2592\\special_tokens_map.json\n",
      " 41%|████      | 2672/6561 [08:47<05:33, 11.65it/s]  ***** Running Evaluation *****\n",
      "  Num examples = 81\n",
      "  Batch size = 8\n",
      "                                                   \n",
      " 41%|████      | 2673/6561 [08:47<05:33, 11.65it/s]Saving model checkpoint to ./Bert-v1/20230329_065154$-train-model-bert-base-uncased\\checkpoint-2673\n",
      "Configuration saved in ./Bert-v1/20230329_065154$-train-model-bert-base-uncased\\checkpoint-2673\\config.json\n"
     ]
    },
    {
     "name": "stdout",
     "output_type": "stream",
     "text": [
      "{'eval_loss': 0.08432165533304214, 'eval_f1': 0.8074534161490684, 'eval_roc_auc': 0.8734782787813872, 'eval_accuracy': 0.7160493827160493, 'eval_balanced_accuracy': 0.7821356421356421, 'eval_runtime': 0.2208, 'eval_samples_per_second': 366.911, 'eval_steps_per_second': 49.827, 'epoch': 33.0}\n"
     ]
    },
    {
     "name": "stderr",
     "output_type": "stream",
     "text": [
      "Model weights saved in ./Bert-v1/20230329_065154$-train-model-bert-base-uncased\\checkpoint-2673\\pytorch_model.bin\n",
      "tokenizer config file saved in ./Bert-v1/20230329_065154$-train-model-bert-base-uncased\\checkpoint-2673\\tokenizer_config.json\n",
      "Special tokens file saved in ./Bert-v1/20230329_065154$-train-model-bert-base-uncased\\checkpoint-2673\\special_tokens_map.json\n",
      " 42%|████▏     | 2754/6561 [09:06<05:20, 11.89it/s]  ***** Running Evaluation *****\n",
      "  Num examples = 81\n",
      "  Batch size = 8\n",
      "                                                   \n",
      " 42%|████▏     | 2754/6561 [09:06<05:20, 11.89it/s]Saving model checkpoint to ./Bert-v1/20230329_065154$-train-model-bert-base-uncased\\checkpoint-2754\n",
      "Configuration saved in ./Bert-v1/20230329_065154$-train-model-bert-base-uncased\\checkpoint-2754\\config.json\n"
     ]
    },
    {
     "name": "stdout",
     "output_type": "stream",
     "text": [
      "{'eval_loss': 0.08002308011054993, 'eval_f1': 0.8176100628930817, 'eval_roc_auc': 0.874364018373947, 'eval_accuracy': 0.7530864197530864, 'eval_balanced_accuracy': 0.7786724386724388, 'eval_runtime': 0.2248, 'eval_samples_per_second': 360.289, 'eval_steps_per_second': 48.928, 'epoch': 34.0}\n"
     ]
    },
    {
     "name": "stderr",
     "output_type": "stream",
     "text": [
      "Model weights saved in ./Bert-v1/20230329_065154$-train-model-bert-base-uncased\\checkpoint-2754\\pytorch_model.bin\n",
      "tokenizer config file saved in ./Bert-v1/20230329_065154$-train-model-bert-base-uncased\\checkpoint-2754\\tokenizer_config.json\n",
      "Special tokens file saved in ./Bert-v1/20230329_065154$-train-model-bert-base-uncased\\checkpoint-2754\\special_tokens_map.json\n",
      " 43%|████▎     | 2834/6561 [09:19<05:29, 11.32it/s]  ***** Running Evaluation *****\n",
      "  Num examples = 81\n",
      "  Batch size = 8\n",
      "                                                   \n",
      " 43%|████▎     | 2835/6561 [09:20<05:29, 11.32it/s]Saving model checkpoint to ./Bert-v1/20230329_065154$-train-model-bert-base-uncased\\checkpoint-2835\n",
      "Configuration saved in ./Bert-v1/20230329_065154$-train-model-bert-base-uncased\\checkpoint-2835\\config.json\n"
     ]
    },
    {
     "name": "stdout",
     "output_type": "stream",
     "text": [
      "{'eval_loss': 0.08516218513250351, 'eval_f1': 0.8125, 'eval_roc_auc': 0.873921148577667, 'eval_accuracy': 0.7530864197530864, 'eval_balanced_accuracy': 0.7897835497835498, 'eval_runtime': 0.2269, 'eval_samples_per_second': 357.01, 'eval_steps_per_second': 48.483, 'epoch': 35.0}\n"
     ]
    },
    {
     "name": "stderr",
     "output_type": "stream",
     "text": [
      "Model weights saved in ./Bert-v1/20230329_065154$-train-model-bert-base-uncased\\checkpoint-2835\\pytorch_model.bin\n",
      "tokenizer config file saved in ./Bert-v1/20230329_065154$-train-model-bert-base-uncased\\checkpoint-2835\\tokenizer_config.json\n",
      "Special tokens file saved in ./Bert-v1/20230329_065154$-train-model-bert-base-uncased\\checkpoint-2835\\special_tokens_map.json\n",
      " 44%|████▍     | 2916/6561 [09:40<04:54, 12.38it/s]  ***** Running Evaluation *****\n",
      "  Num examples = 81\n",
      "  Batch size = 8\n",
      "                                                   \n",
      " 44%|████▍     | 2916/6561 [09:41<04:54, 12.38it/s]Saving model checkpoint to ./Bert-v1/20230329_065154$-train-model-bert-base-uncased\\checkpoint-2916\n",
      "Configuration saved in ./Bert-v1/20230329_065154$-train-model-bert-base-uncased\\checkpoint-2916\\config.json\n"
     ]
    },
    {
     "name": "stdout",
     "output_type": "stream",
     "text": [
      "{'eval_loss': 0.08086138963699341, 'eval_f1': 0.8227848101265824, 'eval_roc_auc': 0.8748068881702268, 'eval_accuracy': 0.7530864197530864, 'eval_balanced_accuracy': 0.7897835497835498, 'eval_runtime': 0.221, 'eval_samples_per_second': 366.453, 'eval_steps_per_second': 49.765, 'epoch': 36.0}\n"
     ]
    },
    {
     "name": "stderr",
     "output_type": "stream",
     "text": [
      "Model weights saved in ./Bert-v1/20230329_065154$-train-model-bert-base-uncased\\checkpoint-2916\\pytorch_model.bin\n",
      "tokenizer config file saved in ./Bert-v1/20230329_065154$-train-model-bert-base-uncased\\checkpoint-2916\\tokenizer_config.json\n",
      "Special tokens file saved in ./Bert-v1/20230329_065154$-train-model-bert-base-uncased\\checkpoint-2916\\special_tokens_map.json\n",
      " 46%|████▌     | 2996/6561 [09:59<05:00, 11.87it/s]  ***** Running Evaluation *****\n",
      "  Num examples = 81\n",
      "  Batch size = 8\n",
      "                                                   \n",
      " 46%|████▌     | 2997/6561 [09:59<05:00, 11.87it/s]Saving model checkpoint to ./Bert-v1/20230329_065154$-train-model-bert-base-uncased\\checkpoint-2997\n",
      "Configuration saved in ./Bert-v1/20230329_065154$-train-model-bert-base-uncased\\checkpoint-2997\\config.json\n"
     ]
    },
    {
     "name": "stdout",
     "output_type": "stream",
     "text": [
      "{'eval_loss': 0.08546610921621323, 'eval_f1': 0.7950310559006211, 'eval_roc_auc': 0.8672214554967351, 'eval_accuracy': 0.7283950617283951, 'eval_balanced_accuracy': 0.7675613275613277, 'eval_runtime': 0.2269, 'eval_samples_per_second': 356.946, 'eval_steps_per_second': 48.474, 'epoch': 37.0}\n"
     ]
    },
    {
     "name": "stderr",
     "output_type": "stream",
     "text": [
      "Model weights saved in ./Bert-v1/20230329_065154$-train-model-bert-base-uncased\\checkpoint-2997\\pytorch_model.bin\n",
      "tokenizer config file saved in ./Bert-v1/20230329_065154$-train-model-bert-base-uncased\\checkpoint-2997\\tokenizer_config.json\n",
      "Special tokens file saved in ./Bert-v1/20230329_065154$-train-model-bert-base-uncased\\checkpoint-2997\\special_tokens_map.json\n",
      " 46%|████▌     | 3002/6561 [10:13<1:02:59,  1.06s/it]"
     ]
    },
    {
     "name": "stdout",
     "output_type": "stream",
     "text": [
      "{'loss': 0.009, 'learning_rate': 1.0855052583447645e-05, 'epoch': 37.04}\n"
     ]
    },
    {
     "name": "stderr",
     "output_type": "stream",
     "text": [
      " 47%|████▋     | 3078/6561 [10:19<04:50, 11.98it/s]  ***** Running Evaluation *****\n",
      "  Num examples = 81\n",
      "  Batch size = 8\n",
      "                                                   \n",
      " 47%|████▋     | 3078/6561 [10:19<04:50, 11.98it/s]Saving model checkpoint to ./Bert-v1/20230329_065154$-train-model-bert-base-uncased\\checkpoint-3078\n",
      "Configuration saved in ./Bert-v1/20230329_065154$-train-model-bert-base-uncased\\checkpoint-3078\\config.json\n"
     ]
    },
    {
     "name": "stdout",
     "output_type": "stream",
     "text": [
      "{'eval_loss': 0.0820268914103508, 'eval_f1': 0.8125, 'eval_roc_auc': 0.873921148577667, 'eval_accuracy': 0.7407407407407407, 'eval_balanced_accuracy': 0.7675613275613277, 'eval_runtime': 0.2286, 'eval_samples_per_second': 354.403, 'eval_steps_per_second': 48.129, 'epoch': 38.0}\n"
     ]
    },
    {
     "name": "stderr",
     "output_type": "stream",
     "text": [
      "Model weights saved in ./Bert-v1/20230329_065154$-train-model-bert-base-uncased\\checkpoint-3078\\pytorch_model.bin\n",
      "tokenizer config file saved in ./Bert-v1/20230329_065154$-train-model-bert-base-uncased\\checkpoint-3078\\tokenizer_config.json\n",
      "Special tokens file saved in ./Bert-v1/20230329_065154$-train-model-bert-base-uncased\\checkpoint-3078\\special_tokens_map.json\n",
      " 48%|████▊     | 3158/6561 [10:42<04:39, 12.16it/s]  ***** Running Evaluation *****\n",
      "  Num examples = 81\n",
      "  Batch size = 8\n",
      "                                                   \n",
      " 48%|████▊     | 3159/6561 [10:42<04:39, 12.16it/s]Saving model checkpoint to ./Bert-v1/20230329_065154$-train-model-bert-base-uncased\\checkpoint-3159\n",
      "Configuration saved in ./Bert-v1/20230329_065154$-train-model-bert-base-uncased\\checkpoint-3159\\config.json\n"
     ]
    },
    {
     "name": "stdout",
     "output_type": "stream",
     "text": [
      "{'eval_loss': 0.08656472712755203, 'eval_f1': 0.8176100628930817, 'eval_roc_auc': 0.874364018373947, 'eval_accuracy': 0.7530864197530864, 'eval_balanced_accuracy': 0.7897835497835498, 'eval_runtime': 0.2134, 'eval_samples_per_second': 379.543, 'eval_steps_per_second': 51.543, 'epoch': 39.0}\n"
     ]
    },
    {
     "name": "stderr",
     "output_type": "stream",
     "text": [
      "Model weights saved in ./Bert-v1/20230329_065154$-train-model-bert-base-uncased\\checkpoint-3159\\pytorch_model.bin\n",
      "tokenizer config file saved in ./Bert-v1/20230329_065154$-train-model-bert-base-uncased\\checkpoint-3159\\tokenizer_config.json\n",
      "Special tokens file saved in ./Bert-v1/20230329_065154$-train-model-bert-base-uncased\\checkpoint-3159\\special_tokens_map.json\n",
      " 49%|████▉     | 3240/6561 [11:04<04:25, 12.49it/s]  ***** Running Evaluation *****\n",
      "  Num examples = 81\n",
      "  Batch size = 8\n",
      "                                                   \n",
      " 49%|████▉     | 3240/6561 [11:04<04:25, 12.49it/s]Saving model checkpoint to ./Bert-v1/20230329_065154$-train-model-bert-base-uncased\\checkpoint-3240\n",
      "Configuration saved in ./Bert-v1/20230329_065154$-train-model-bert-base-uncased\\checkpoint-3240\\config.json\n"
     ]
    },
    {
     "name": "stdout",
     "output_type": "stream",
     "text": [
      "{'eval_loss': 0.08460107445716858, 'eval_f1': 0.8176100628930817, 'eval_roc_auc': 0.874364018373947, 'eval_accuracy': 0.7530864197530864, 'eval_balanced_accuracy': 0.7897835497835498, 'eval_runtime': 0.2127, 'eval_samples_per_second': 380.831, 'eval_steps_per_second': 51.718, 'epoch': 40.0}\n"
     ]
    },
    {
     "name": "stderr",
     "output_type": "stream",
     "text": [
      "Model weights saved in ./Bert-v1/20230329_065154$-train-model-bert-base-uncased\\checkpoint-3240\\pytorch_model.bin\n",
      "tokenizer config file saved in ./Bert-v1/20230329_065154$-train-model-bert-base-uncased\\checkpoint-3240\\tokenizer_config.json\n",
      "Special tokens file saved in ./Bert-v1/20230329_065154$-train-model-bert-base-uncased\\checkpoint-3240\\special_tokens_map.json\n",
      " 51%|█████     | 3321/6561 [11:27<04:17, 12.60it/s]  ***** Running Evaluation *****\n",
      "  Num examples = 81\n",
      "  Batch size = 8\n",
      "                                                   \n",
      " 51%|█████     | 3321/6561 [11:27<04:17, 12.60it/s]Saving model checkpoint to ./Bert-v1/20230329_065154$-train-model-bert-base-uncased\\checkpoint-3321\n",
      "Configuration saved in ./Bert-v1/20230329_065154$-train-model-bert-base-uncased\\checkpoint-3321\\config.json\n"
     ]
    },
    {
     "name": "stdout",
     "output_type": "stream",
     "text": [
      "{'eval_loss': 0.0875915139913559, 'eval_f1': 0.7950310559006211, 'eval_roc_auc': 0.8672214554967351, 'eval_accuracy': 0.7407407407407407, 'eval_balanced_accuracy': 0.7675613275613277, 'eval_runtime': 0.2165, 'eval_samples_per_second': 374.135, 'eval_steps_per_second': 50.808, 'epoch': 41.0}\n"
     ]
    },
    {
     "name": "stderr",
     "output_type": "stream",
     "text": [
      "Model weights saved in ./Bert-v1/20230329_065154$-train-model-bert-base-uncased\\checkpoint-3321\\pytorch_model.bin\n",
      "tokenizer config file saved in ./Bert-v1/20230329_065154$-train-model-bert-base-uncased\\checkpoint-3321\\tokenizer_config.json\n",
      "Special tokens file saved in ./Bert-v1/20230329_065154$-train-model-bert-base-uncased\\checkpoint-3321\\special_tokens_map.json\n",
      " 52%|█████▏    | 3402/6561 [11:53<04:24, 11.96it/s]  ***** Running Evaluation *****\n",
      "  Num examples = 81\n",
      "  Batch size = 8\n",
      "                                                   \n",
      " 52%|█████▏    | 3402/6561 [11:53<04:24, 11.96it/s]Saving model checkpoint to ./Bert-v1/20230329_065154$-train-model-bert-base-uncased\\checkpoint-3402\n",
      "Configuration saved in ./Bert-v1/20230329_065154$-train-model-bert-base-uncased\\checkpoint-3402\\config.json\n"
     ]
    },
    {
     "name": "stdout",
     "output_type": "stream",
     "text": [
      "{'eval_loss': 0.08496356755495071, 'eval_f1': 0.825, 'eval_roc_auc': 0.8801779718623189, 'eval_accuracy': 0.7654320987654321, 'eval_balanced_accuracy': 0.7993073593073593, 'eval_runtime': 0.2468, 'eval_samples_per_second': 328.261, 'eval_steps_per_second': 44.579, 'epoch': 42.0}\n"
     ]
    },
    {
     "name": "stderr",
     "output_type": "stream",
     "text": [
      "Model weights saved in ./Bert-v1/20230329_065154$-train-model-bert-base-uncased\\checkpoint-3402\\pytorch_model.bin\n",
      "tokenizer config file saved in ./Bert-v1/20230329_065154$-train-model-bert-base-uncased\\checkpoint-3402\\tokenizer_config.json\n",
      "Special tokens file saved in ./Bert-v1/20230329_065154$-train-model-bert-base-uncased\\checkpoint-3402\\special_tokens_map.json\n",
      " 53%|█████▎    | 3482/6561 [12:01<04:22, 11.71it/s]***** Running Evaluation *****\n",
      "  Num examples = 81\n",
      "  Batch size = 8\n",
      "                                                   \n",
      " 53%|█████▎    | 3483/6561 [12:02<04:22, 11.71it/s]Saving model checkpoint to ./Bert-v1/20230329_065154$-train-model-bert-base-uncased\\checkpoint-3483\n",
      "Configuration saved in ./Bert-v1/20230329_065154$-train-model-bert-base-uncased\\checkpoint-3483\\config.json\n"
     ]
    },
    {
     "name": "stdout",
     "output_type": "stream",
     "text": [
      "{'eval_loss': 0.08795112371444702, 'eval_f1': 0.8024691358024691, 'eval_roc_auc': 0.8730354089851072, 'eval_accuracy': 0.7530864197530864, 'eval_balanced_accuracy': 0.7786724386724388, 'eval_runtime': 0.2236, 'eval_samples_per_second': 362.307, 'eval_steps_per_second': 49.202, 'epoch': 43.0}\n"
     ]
    },
    {
     "name": "stderr",
     "output_type": "stream",
     "text": [
      "Model weights saved in ./Bert-v1/20230329_065154$-train-model-bert-base-uncased\\checkpoint-3483\\pytorch_model.bin\n",
      "tokenizer config file saved in ./Bert-v1/20230329_065154$-train-model-bert-base-uncased\\checkpoint-3483\\tokenizer_config.json\n",
      "Special tokens file saved in ./Bert-v1/20230329_065154$-train-model-bert-base-uncased\\checkpoint-3483\\special_tokens_map.json\n",
      " 53%|█████▎    | 3502/6561 [12:20<09:26,  5.40it/s]  "
     ]
    },
    {
     "name": "stdout",
     "output_type": "stream",
     "text": [
      "{'loss': 0.0068, 'learning_rate': 9.33089468068892e-06, 'epoch': 43.21}\n"
     ]
    },
    {
     "name": "stderr",
     "output_type": "stream",
     "text": [
      " 54%|█████▍    | 3564/6561 [12:25<04:02, 12.34it/s]***** Running Evaluation *****\n",
      "  Num examples = 81\n",
      "  Batch size = 8\n",
      "                                                   \n",
      " 54%|█████▍    | 3564/6561 [12:25<04:02, 12.34it/s]Saving model checkpoint to ./Bert-v1/20230329_065154$-train-model-bert-base-uncased\\checkpoint-3564\n",
      "Configuration saved in ./Bert-v1/20230329_065154$-train-model-bert-base-uncased\\checkpoint-3564\\config.json\n"
     ]
    },
    {
     "name": "stdout",
     "output_type": "stream",
     "text": [
      "{'eval_loss': 0.08624894171953201, 'eval_f1': 0.8176100628930817, 'eval_roc_auc': 0.874364018373947, 'eval_accuracy': 0.7530864197530864, 'eval_balanced_accuracy': 0.7786724386724388, 'eval_runtime': 0.2165, 'eval_samples_per_second': 374.192, 'eval_steps_per_second': 50.816, 'epoch': 44.0}\n"
     ]
    },
    {
     "name": "stderr",
     "output_type": "stream",
     "text": [
      "Model weights saved in ./Bert-v1/20230329_065154$-train-model-bert-base-uncased\\checkpoint-3564\\pytorch_model.bin\n",
      "tokenizer config file saved in ./Bert-v1/20230329_065154$-train-model-bert-base-uncased\\checkpoint-3564\\tokenizer_config.json\n",
      "Special tokens file saved in ./Bert-v1/20230329_065154$-train-model-bert-base-uncased\\checkpoint-3564\\special_tokens_map.json\n",
      " 56%|█████▌    | 3644/6561 [12:34<04:04, 11.91it/s]***** Running Evaluation *****\n",
      "  Num examples = 81\n",
      "  Batch size = 8\n",
      "                                                   \n",
      " 56%|█████▌    | 3645/6561 [12:34<04:04, 11.91it/s]Saving model checkpoint to ./Bert-v1/20230329_065154$-train-model-bert-base-uncased\\checkpoint-3645\n",
      "Configuration saved in ./Bert-v1/20230329_065154$-train-model-bert-base-uncased\\checkpoint-3645\\config.json\n"
     ]
    },
    {
     "name": "stdout",
     "output_type": "stream",
     "text": [
      "{'eval_loss': 0.08847439289093018, 'eval_f1': 0.8074534161490684, 'eval_roc_auc': 0.8734782787813872, 'eval_accuracy': 0.7530864197530864, 'eval_balanced_accuracy': 0.7786724386724388, 'eval_runtime': 0.2271, 'eval_samples_per_second': 356.716, 'eval_steps_per_second': 48.443, 'epoch': 45.0}\n"
     ]
    },
    {
     "name": "stderr",
     "output_type": "stream",
     "text": [
      "Model weights saved in ./Bert-v1/20230329_065154$-train-model-bert-base-uncased\\checkpoint-3645\\pytorch_model.bin\n",
      "tokenizer config file saved in ./Bert-v1/20230329_065154$-train-model-bert-base-uncased\\checkpoint-3645\\tokenizer_config.json\n",
      "Special tokens file saved in ./Bert-v1/20230329_065154$-train-model-bert-base-uncased\\checkpoint-3645\\special_tokens_map.json\n",
      " 57%|█████▋    | 3726/6561 [12:44<03:52, 12.19it/s]***** Running Evaluation *****\n",
      "  Num examples = 81\n",
      "  Batch size = 8\n",
      "                                                   \n",
      " 57%|█████▋    | 3726/6561 [12:44<03:52, 12.19it/s]Saving model checkpoint to ./Bert-v1/20230329_065154$-train-model-bert-base-uncased\\checkpoint-3726\n",
      "Configuration saved in ./Bert-v1/20230329_065154$-train-model-bert-base-uncased\\checkpoint-3726\\config.json\n"
     ]
    },
    {
     "name": "stdout",
     "output_type": "stream",
     "text": [
      "{'eval_loss': 0.09473801404237747, 'eval_f1': 0.7926829268292682, 'eval_roc_auc': 0.8721496693925476, 'eval_accuracy': 0.7530864197530864, 'eval_balanced_accuracy': 0.7770851370851372, 'eval_runtime': 0.2198, 'eval_samples_per_second': 368.569, 'eval_steps_per_second': 50.053, 'epoch': 46.0}\n"
     ]
    },
    {
     "name": "stderr",
     "output_type": "stream",
     "text": [
      "Model weights saved in ./Bert-v1/20230329_065154$-train-model-bert-base-uncased\\checkpoint-3726\\pytorch_model.bin\n",
      "tokenizer config file saved in ./Bert-v1/20230329_065154$-train-model-bert-base-uncased\\checkpoint-3726\\tokenizer_config.json\n",
      "Special tokens file saved in ./Bert-v1/20230329_065154$-train-model-bert-base-uncased\\checkpoint-3726\\special_tokens_map.json\n",
      " 58%|█████▊    | 3806/6561 [12:52<03:55, 11.70it/s]***** Running Evaluation *****\n",
      "  Num examples = 81\n",
      "  Batch size = 8\n",
      "                                                   \n",
      " 58%|█████▊    | 3807/6561 [12:53<03:55, 11.70it/s]Saving model checkpoint to ./Bert-v1/20230329_065154$-train-model-bert-base-uncased\\checkpoint-3807\n",
      "Configuration saved in ./Bert-v1/20230329_065154$-train-model-bert-base-uncased\\checkpoint-3807\\config.json\n"
     ]
    },
    {
     "name": "stdout",
     "output_type": "stream",
     "text": [
      "{'eval_loss': 0.09455348551273346, 'eval_f1': 0.783132530120482, 'eval_roc_auc': 0.8712639297999876, 'eval_accuracy': 0.7407407407407407, 'eval_balanced_accuracy': 0.7675613275613277, 'eval_runtime': 0.2212, 'eval_samples_per_second': 366.117, 'eval_steps_per_second': 49.72, 'epoch': 47.0}\n"
     ]
    },
    {
     "name": "stderr",
     "output_type": "stream",
     "text": [
      "Model weights saved in ./Bert-v1/20230329_065154$-train-model-bert-base-uncased\\checkpoint-3807\\pytorch_model.bin\n",
      "tokenizer config file saved in ./Bert-v1/20230329_065154$-train-model-bert-base-uncased\\checkpoint-3807\\tokenizer_config.json\n",
      "Special tokens file saved in ./Bert-v1/20230329_065154$-train-model-bert-base-uncased\\checkpoint-3807\\special_tokens_map.json\n",
      " 59%|█████▉    | 3888/6561 [13:09<03:45, 11.87it/s]  ***** Running Evaluation *****\n",
      "  Num examples = 81\n",
      "  Batch size = 8\n",
      "                                                   \n",
      " 59%|█████▉    | 3888/6561 [13:09<03:45, 11.87it/s]Saving model checkpoint to ./Bert-v1/20230329_065154$-train-model-bert-base-uncased\\checkpoint-3888\n",
      "Configuration saved in ./Bert-v1/20230329_065154$-train-model-bert-base-uncased\\checkpoint-3888\\config.json\n"
     ]
    },
    {
     "name": "stdout",
     "output_type": "stream",
     "text": [
      "{'eval_loss': 0.09081222116947174, 'eval_f1': 0.8024691358024691, 'eval_roc_auc': 0.8730354089851072, 'eval_accuracy': 0.7530864197530864, 'eval_balanced_accuracy': 0.7786724386724388, 'eval_runtime': 0.2291, 'eval_samples_per_second': 353.569, 'eval_steps_per_second': 48.016, 'epoch': 48.0}\n"
     ]
    },
    {
     "name": "stderr",
     "output_type": "stream",
     "text": [
      "Model weights saved in ./Bert-v1/20230329_065154$-train-model-bert-base-uncased\\checkpoint-3888\\pytorch_model.bin\n",
      "tokenizer config file saved in ./Bert-v1/20230329_065154$-train-model-bert-base-uncased\\checkpoint-3888\\tokenizer_config.json\n",
      "Special tokens file saved in ./Bert-v1/20230329_065154$-train-model-bert-base-uncased\\checkpoint-3888\\special_tokens_map.json\n",
      " 60%|██████    | 3969/6561 [13:18<03:29, 12.37it/s]***** Running Evaluation *****\n",
      "  Num examples = 81\n",
      "  Batch size = 8\n",
      "                                                   \n",
      " 60%|██████    | 3969/6561 [13:18<03:29, 12.37it/s]Saving model checkpoint to ./Bert-v1/20230329_065154$-train-model-bert-base-uncased\\checkpoint-3969\n",
      "Configuration saved in ./Bert-v1/20230329_065154$-train-model-bert-base-uncased\\checkpoint-3969\\config.json\n"
     ]
    },
    {
     "name": "stdout",
     "output_type": "stream",
     "text": [
      "{'eval_loss': 0.09499197453260422, 'eval_f1': 0.8024691358024691, 'eval_roc_auc': 0.8730354089851072, 'eval_accuracy': 0.7530864197530864, 'eval_balanced_accuracy': 0.7786724386724388, 'eval_runtime': 0.2143, 'eval_samples_per_second': 377.957, 'eval_steps_per_second': 51.327, 'epoch': 49.0}\n"
     ]
    },
    {
     "name": "stderr",
     "output_type": "stream",
     "text": [
      "Model weights saved in ./Bert-v1/20230329_065154$-train-model-bert-base-uncased\\checkpoint-3969\\pytorch_model.bin\n",
      "tokenizer config file saved in ./Bert-v1/20230329_065154$-train-model-bert-base-uncased\\checkpoint-3969\\tokenizer_config.json\n",
      "Special tokens file saved in ./Bert-v1/20230329_065154$-train-model-bert-base-uncased\\checkpoint-3969\\special_tokens_map.json\n",
      " 61%|██████    | 4001/6561 [13:37<04:16,  9.99it/s]  "
     ]
    },
    {
     "name": "stdout",
     "output_type": "stream",
     "text": [
      "{'loss': 0.0055, 'learning_rate': 7.806736777930195e-06, 'epoch': 49.38}\n"
     ]
    },
    {
     "name": "stderr",
     "output_type": "stream",
     "text": [
      " 62%|██████▏   | 4049/6561 [13:41<03:43, 11.26it/s]***** Running Evaluation *****\n",
      "  Num examples = 81\n",
      "  Batch size = 8\n",
      "                                                   \n",
      " 62%|██████▏   | 4050/6561 [13:41<03:43, 11.26it/s]Saving model checkpoint to ./Bert-v1/20230329_065154$-train-model-bert-base-uncased\\checkpoint-4050\n",
      "Configuration saved in ./Bert-v1/20230329_065154$-train-model-bert-base-uncased\\checkpoint-4050\\config.json\n"
     ]
    },
    {
     "name": "stdout",
     "output_type": "stream",
     "text": [
      "{'eval_loss': 0.09095437079668045, 'eval_f1': 0.8074534161490684, 'eval_roc_auc': 0.8734782787813872, 'eval_accuracy': 0.7530864197530864, 'eval_balanced_accuracy': 0.7786724386724388, 'eval_runtime': 0.2283, 'eval_samples_per_second': 354.793, 'eval_steps_per_second': 48.182, 'epoch': 50.0}\n"
     ]
    },
    {
     "name": "stderr",
     "output_type": "stream",
     "text": [
      "Model weights saved in ./Bert-v1/20230329_065154$-train-model-bert-base-uncased\\checkpoint-4050\\pytorch_model.bin\n",
      "tokenizer config file saved in ./Bert-v1/20230329_065154$-train-model-bert-base-uncased\\checkpoint-4050\\tokenizer_config.json\n",
      "Special tokens file saved in ./Bert-v1/20230329_065154$-train-model-bert-base-uncased\\checkpoint-4050\\special_tokens_map.json\n",
      " 63%|██████▎   | 4130/6561 [14:04<03:21, 12.06it/s]  ***** Running Evaluation *****\n",
      "  Num examples = 81\n",
      "  Batch size = 8\n",
      "                                                   \n",
      " 63%|██████▎   | 4131/6561 [14:05<03:21, 12.06it/s]Saving model checkpoint to ./Bert-v1/20230329_065154$-train-model-bert-base-uncased\\checkpoint-4131\n",
      "Configuration saved in ./Bert-v1/20230329_065154$-train-model-bert-base-uncased\\checkpoint-4131\\config.json\n"
     ]
    },
    {
     "name": "stdout",
     "output_type": "stream",
     "text": [
      "{'eval_loss': 0.0928412675857544, 'eval_f1': 0.8024691358024691, 'eval_roc_auc': 0.8730354089851072, 'eval_accuracy': 0.7530864197530864, 'eval_balanced_accuracy': 0.7786724386724388, 'eval_runtime': 0.2161, 'eval_samples_per_second': 374.878, 'eval_steps_per_second': 50.909, 'epoch': 51.0}\n"
     ]
    },
    {
     "name": "stderr",
     "output_type": "stream",
     "text": [
      "Model weights saved in ./Bert-v1/20230329_065154$-train-model-bert-base-uncased\\checkpoint-4131\\pytorch_model.bin\n",
      "tokenizer config file saved in ./Bert-v1/20230329_065154$-train-model-bert-base-uncased\\checkpoint-4131\\tokenizer_config.json\n",
      "Special tokens file saved in ./Bert-v1/20230329_065154$-train-model-bert-base-uncased\\checkpoint-4131\\special_tokens_map.json\n",
      " 64%|██████▍   | 4212/6561 [14:27<03:06, 12.58it/s]  ***** Running Evaluation *****\n",
      "  Num examples = 81\n",
      "  Batch size = 8\n",
      " 64%|██████▍   | 4212/6561 [14:28<03:06, 12.58it/s]Saving model checkpoint to ./Bert-v1/20230329_065154$-train-model-bert-base-uncased\\checkpoint-4212\n",
      "Configuration saved in ./Bert-v1/20230329_065154$-train-model-bert-base-uncased\\checkpoint-4212\\config.json\n"
     ]
    },
    {
     "name": "stdout",
     "output_type": "stream",
     "text": [
      "{'eval_loss': 0.09443605691194534, 'eval_f1': 0.7975460122699386, 'eval_roc_auc': 0.8725925391888273, 'eval_accuracy': 0.7530864197530864, 'eval_balanced_accuracy': 0.7786724386724388, 'eval_runtime': 0.2141, 'eval_samples_per_second': 378.317, 'eval_steps_per_second': 51.376, 'epoch': 52.0}\n"
     ]
    },
    {
     "name": "stderr",
     "output_type": "stream",
     "text": [
      "Model weights saved in ./Bert-v1/20230329_065154$-train-model-bert-base-uncased\\checkpoint-4212\\pytorch_model.bin\n",
      "tokenizer config file saved in ./Bert-v1/20230329_065154$-train-model-bert-base-uncased\\checkpoint-4212\\tokenizer_config.json\n",
      "Special tokens file saved in ./Bert-v1/20230329_065154$-train-model-bert-base-uncased\\checkpoint-4212\\special_tokens_map.json\n",
      " 65%|██████▌   | 4292/6561 [14:36<03:08, 12.05it/s]***** Running Evaluation *****\n",
      "  Num examples = 81\n",
      "  Batch size = 8\n",
      "                                                   \n",
      " 65%|██████▌   | 4293/6561 [14:36<03:08, 12.05it/s]Saving model checkpoint to ./Bert-v1/20230329_065154$-train-model-bert-base-uncased\\checkpoint-4293\n",
      "Configuration saved in ./Bert-v1/20230329_065154$-train-model-bert-base-uncased\\checkpoint-4293\\config.json\n"
     ]
    },
    {
     "name": "stdout",
     "output_type": "stream",
     "text": [
      "{'eval_loss': 0.09472773969173431, 'eval_f1': 0.7975460122699386, 'eval_roc_auc': 0.8725925391888273, 'eval_accuracy': 0.7530864197530864, 'eval_balanced_accuracy': 0.7786724386724388, 'eval_runtime': 0.2115, 'eval_samples_per_second': 382.917, 'eval_steps_per_second': 52.001, 'epoch': 53.0}\n"
     ]
    },
    {
     "name": "stderr",
     "output_type": "stream",
     "text": [
      "Model weights saved in ./Bert-v1/20230329_065154$-train-model-bert-base-uncased\\checkpoint-4293\\pytorch_model.bin\n",
      "tokenizer config file saved in ./Bert-v1/20230329_065154$-train-model-bert-base-uncased\\checkpoint-4293\\tokenizer_config.json\n",
      "Special tokens file saved in ./Bert-v1/20230329_065154$-train-model-bert-base-uncased\\checkpoint-4293\\special_tokens_map.json\n",
      " 67%|██████▋   | 4374/6561 [14:45<03:04, 11.84it/s]***** Running Evaluation *****\n",
      "  Num examples = 81\n",
      "  Batch size = 8\n",
      "                                                   \n",
      " 67%|██████▋   | 4374/6561 [14:45<03:04, 11.84it/s]Saving model checkpoint to ./Bert-v1/20230329_065154$-train-model-bert-base-uncased\\checkpoint-4374\n",
      "Configuration saved in ./Bert-v1/20230329_065154$-train-model-bert-base-uncased\\checkpoint-4374\\config.json\n"
     ]
    },
    {
     "name": "stdout",
     "output_type": "stream",
     "text": [
      "{'eval_loss': 0.09694109112024307, 'eval_f1': 0.7926829268292682, 'eval_roc_auc': 0.8721496693925476, 'eval_accuracy': 0.7407407407407407, 'eval_balanced_accuracy': 0.7675613275613277, 'eval_runtime': 0.2207, 'eval_samples_per_second': 366.948, 'eval_steps_per_second': 49.832, 'epoch': 54.0}\n"
     ]
    },
    {
     "name": "stderr",
     "output_type": "stream",
     "text": [
      "Model weights saved in ./Bert-v1/20230329_065154$-train-model-bert-base-uncased\\checkpoint-4374\\pytorch_model.bin\n",
      "tokenizer config file saved in ./Bert-v1/20230329_065154$-train-model-bert-base-uncased\\checkpoint-4374\\tokenizer_config.json\n",
      "Special tokens file saved in ./Bert-v1/20230329_065154$-train-model-bert-base-uncased\\checkpoint-4374\\special_tokens_map.json\n",
      " 68%|██████▊   | 4454/6561 [14:54<03:07, 11.22it/s]***** Running Evaluation *****\n",
      "  Num examples = 81\n",
      "  Batch size = 8\n",
      "                                                   \n",
      " 68%|██████▊   | 4455/6561 [14:54<03:07, 11.22it/s]Saving model checkpoint to ./Bert-v1/20230329_065154$-train-model-bert-base-uncased\\checkpoint-4455\n",
      "Configuration saved in ./Bert-v1/20230329_065154$-train-model-bert-base-uncased\\checkpoint-4455\\config.json\n"
     ]
    },
    {
     "name": "stdout",
     "output_type": "stream",
     "text": [
      "{'eval_loss': 0.09471691399812698, 'eval_f1': 0.7926829268292682, 'eval_roc_auc': 0.8721496693925476, 'eval_accuracy': 0.7407407407407407, 'eval_balanced_accuracy': 0.7675613275613277, 'eval_runtime': 0.2244, 'eval_samples_per_second': 360.923, 'eval_steps_per_second': 49.014, 'epoch': 55.0}\n"
     ]
    },
    {
     "name": "stderr",
     "output_type": "stream",
     "text": [
      "Model weights saved in ./Bert-v1/20230329_065154$-train-model-bert-base-uncased\\checkpoint-4455\\pytorch_model.bin\n",
      "tokenizer config file saved in ./Bert-v1/20230329_065154$-train-model-bert-base-uncased\\checkpoint-4455\\tokenizer_config.json\n",
      "Special tokens file saved in ./Bert-v1/20230329_065154$-train-model-bert-base-uncased\\checkpoint-4455\\special_tokens_map.json\n",
      " 69%|██████▊   | 4502/6561 [15:14<03:04, 11.14it/s]  "
     ]
    },
    {
     "name": "stdout",
     "output_type": "stream",
     "text": [
      "{'loss': 0.0045, 'learning_rate': 6.282578875171468e-06, 'epoch': 55.56}\n"
     ]
    },
    {
     "name": "stderr",
     "output_type": "stream",
     "text": [
      " 69%|██████▉   | 4536/6561 [15:17<02:50, 11.91it/s]***** Running Evaluation *****\n",
      "  Num examples = 81\n",
      "  Batch size = 8\n",
      "                                                   \n",
      " 69%|██████▉   | 4536/6561 [15:17<02:50, 11.91it/s]Saving model checkpoint to ./Bert-v1/20230329_065154$-train-model-bert-base-uncased\\checkpoint-4536\n",
      "Configuration saved in ./Bert-v1/20230329_065154$-train-model-bert-base-uncased\\checkpoint-4536\\config.json\n"
     ]
    },
    {
     "name": "stdout",
     "output_type": "stream",
     "text": [
      "{'eval_loss': 0.09215033799409866, 'eval_f1': 0.7975460122699386, 'eval_roc_auc': 0.8725925391888273, 'eval_accuracy': 0.7407407407407407, 'eval_balanced_accuracy': 0.7675613275613277, 'eval_runtime': 0.2268, 'eval_samples_per_second': 357.175, 'eval_steps_per_second': 48.505, 'epoch': 56.0}\n"
     ]
    },
    {
     "name": "stderr",
     "output_type": "stream",
     "text": [
      "Model weights saved in ./Bert-v1/20230329_065154$-train-model-bert-base-uncased\\checkpoint-4536\\pytorch_model.bin\n",
      "tokenizer config file saved in ./Bert-v1/20230329_065154$-train-model-bert-base-uncased\\checkpoint-4536\\tokenizer_config.json\n",
      "Special tokens file saved in ./Bert-v1/20230329_065154$-train-model-bert-base-uncased\\checkpoint-4536\\special_tokens_map.json\n",
      " 70%|███████   | 4617/6561 [15:40<02:41, 12.03it/s]  ***** Running Evaluation *****\n",
      "  Num examples = 81\n",
      "  Batch size = 8\n",
      "                                                   \n",
      " 70%|███████   | 4617/6561 [15:40<02:41, 12.03it/s]Saving model checkpoint to ./Bert-v1/20230329_065154$-train-model-bert-base-uncased\\checkpoint-4617\n",
      "Configuration saved in ./Bert-v1/20230329_065154$-train-model-bert-base-uncased\\checkpoint-4617\\config.json\n"
     ]
    },
    {
     "name": "stdout",
     "output_type": "stream",
     "text": [
      "{'eval_loss': 0.09796102344989777, 'eval_f1': 0.7926829268292682, 'eval_roc_auc': 0.8721496693925476, 'eval_accuracy': 0.7530864197530864, 'eval_balanced_accuracy': 0.7786724386724388, 'eval_runtime': 0.224, 'eval_samples_per_second': 361.582, 'eval_steps_per_second': 49.104, 'epoch': 57.0}\n"
     ]
    },
    {
     "name": "stderr",
     "output_type": "stream",
     "text": [
      "Model weights saved in ./Bert-v1/20230329_065154$-train-model-bert-base-uncased\\checkpoint-4617\\pytorch_model.bin\n",
      "tokenizer config file saved in ./Bert-v1/20230329_065154$-train-model-bert-base-uncased\\checkpoint-4617\\tokenizer_config.json\n",
      "Special tokens file saved in ./Bert-v1/20230329_065154$-train-model-bert-base-uncased\\checkpoint-4617\\special_tokens_map.json\n",
      " 72%|███████▏  | 4698/6561 [16:03<02:35, 11.99it/s]  ***** Running Evaluation *****\n",
      "  Num examples = 81\n",
      "  Batch size = 8\n",
      "                                                   \n",
      " 72%|███████▏  | 4698/6561 [16:03<02:35, 11.99it/s]Saving model checkpoint to ./Bert-v1/20230329_065154$-train-model-bert-base-uncased\\checkpoint-4698\n",
      "Configuration saved in ./Bert-v1/20230329_065154$-train-model-bert-base-uncased\\checkpoint-4698\\config.json\n"
     ]
    },
    {
     "name": "stdout",
     "output_type": "stream",
     "text": [
      "{'eval_loss': 0.09532252699136734, 'eval_f1': 0.8024691358024691, 'eval_roc_auc': 0.8730354089851072, 'eval_accuracy': 0.7530864197530864, 'eval_balanced_accuracy': 0.7786724386724388, 'eval_runtime': 0.2297, 'eval_samples_per_second': 352.583, 'eval_steps_per_second': 47.882, 'epoch': 58.0}\n"
     ]
    },
    {
     "name": "stderr",
     "output_type": "stream",
     "text": [
      "Model weights saved in ./Bert-v1/20230329_065154$-train-model-bert-base-uncased\\checkpoint-4698\\pytorch_model.bin\n",
      "tokenizer config file saved in ./Bert-v1/20230329_065154$-train-model-bert-base-uncased\\checkpoint-4698\\tokenizer_config.json\n",
      "Special tokens file saved in ./Bert-v1/20230329_065154$-train-model-bert-base-uncased\\checkpoint-4698\\special_tokens_map.json\n",
      " 73%|███████▎  | 4778/6561 [16:23<02:35, 11.47it/s]  ***** Running Evaluation *****\n",
      "  Num examples = 81\n",
      "  Batch size = 8\n",
      "                                                   \n",
      " 73%|███████▎  | 4779/6561 [16:23<02:35, 11.47it/s]Saving model checkpoint to ./Bert-v1/20230329_065154$-train-model-bert-base-uncased\\checkpoint-4779\n",
      "Configuration saved in ./Bert-v1/20230329_065154$-train-model-bert-base-uncased\\checkpoint-4779\\config.json\n"
     ]
    },
    {
     "name": "stdout",
     "output_type": "stream",
     "text": [
      "{'eval_loss': 0.09764057397842407, 'eval_f1': 0.7926829268292682, 'eval_roc_auc': 0.8721496693925476, 'eval_accuracy': 0.7407407407407407, 'eval_balanced_accuracy': 0.7675613275613277, 'eval_runtime': 0.228, 'eval_samples_per_second': 355.293, 'eval_steps_per_second': 48.25, 'epoch': 59.0}\n"
     ]
    },
    {
     "name": "stderr",
     "output_type": "stream",
     "text": [
      "Model weights saved in ./Bert-v1/20230329_065154$-train-model-bert-base-uncased\\checkpoint-4779\\pytorch_model.bin\n",
      "tokenizer config file saved in ./Bert-v1/20230329_065154$-train-model-bert-base-uncased\\checkpoint-4779\\tokenizer_config.json\n",
      "Special tokens file saved in ./Bert-v1/20230329_065154$-train-model-bert-base-uncased\\checkpoint-4779\\special_tokens_map.json\n",
      " 74%|███████▍  | 4860/6561 [16:40<02:23, 11.88it/s]***** Running Evaluation *****\n",
      "  Num examples = 81\n",
      "  Batch size = 8\n",
      "                                                   \n",
      " 74%|███████▍  | 4860/6561 [16:41<02:23, 11.88it/s]Saving model checkpoint to ./Bert-v1/20230329_065154$-train-model-bert-base-uncased\\checkpoint-4860\n",
      "Configuration saved in ./Bert-v1/20230329_065154$-train-model-bert-base-uncased\\checkpoint-4860\\config.json\n"
     ]
    },
    {
     "name": "stdout",
     "output_type": "stream",
     "text": [
      "{'eval_loss': 0.09245827049016953, 'eval_f1': 0.8074534161490684, 'eval_roc_auc': 0.8734782787813872, 'eval_accuracy': 0.7530864197530864, 'eval_balanced_accuracy': 0.7786724386724388, 'eval_runtime': 0.225, 'eval_samples_per_second': 359.988, 'eval_steps_per_second': 48.887, 'epoch': 60.0}\n"
     ]
    },
    {
     "name": "stderr",
     "output_type": "stream",
     "text": [
      "Model weights saved in ./Bert-v1/20230329_065154$-train-model-bert-base-uncased\\checkpoint-4860\\pytorch_model.bin\n",
      "tokenizer config file saved in ./Bert-v1/20230329_065154$-train-model-bert-base-uncased\\checkpoint-4860\\tokenizer_config.json\n",
      "Special tokens file saved in ./Bert-v1/20230329_065154$-train-model-bert-base-uncased\\checkpoint-4860\\special_tokens_map.json\n",
      " 75%|███████▌  | 4940/6561 [16:59<02:21, 11.49it/s]***** Running Evaluation *****\n",
      "  Num examples = 81\n",
      "  Batch size = 8\n",
      "                                                   \n",
      " 75%|███████▌  | 4941/6561 [16:59<02:20, 11.49it/s]Saving model checkpoint to ./Bert-v1/20230329_065154$-train-model-bert-base-uncased\\checkpoint-4941\n",
      "Configuration saved in ./Bert-v1/20230329_065154$-train-model-bert-base-uncased\\checkpoint-4941\\config.json\n"
     ]
    },
    {
     "name": "stdout",
     "output_type": "stream",
     "text": [
      "{'eval_loss': 0.1002904400229454, 'eval_f1': 0.7926829268292682, 'eval_roc_auc': 0.8721496693925476, 'eval_accuracy': 0.7530864197530864, 'eval_balanced_accuracy': 0.7786724386724388, 'eval_runtime': 0.2255, 'eval_samples_per_second': 359.226, 'eval_steps_per_second': 48.784, 'epoch': 61.0}\n"
     ]
    },
    {
     "name": "stderr",
     "output_type": "stream",
     "text": [
      "Model weights saved in ./Bert-v1/20230329_065154$-train-model-bert-base-uncased\\checkpoint-4941\\pytorch_model.bin\n",
      "tokenizer config file saved in ./Bert-v1/20230329_065154$-train-model-bert-base-uncased\\checkpoint-4941\\tokenizer_config.json\n",
      "Special tokens file saved in ./Bert-v1/20230329_065154$-train-model-bert-base-uncased\\checkpoint-4941\\special_tokens_map.json\n",
      " 76%|███████▌  | 5002/6561 [17:21<02:17, 11.37it/s]  "
     ]
    },
    {
     "name": "stdout",
     "output_type": "stream",
     "text": [
      "{'loss': 0.0039, 'learning_rate': 4.7584209724127425e-06, 'epoch': 61.73}\n"
     ]
    },
    {
     "name": "stderr",
     "output_type": "stream",
     "text": [
      " 77%|███████▋  | 5022/6561 [17:22<02:09, 11.87it/s]***** Running Evaluation *****\n",
      "  Num examples = 81\n",
      "  Batch size = 8\n",
      "                                                   \n",
      " 77%|███████▋  | 5022/6561 [17:23<02:09, 11.87it/s]Saving model checkpoint to ./Bert-v1/20230329_065154$-train-model-bert-base-uncased\\checkpoint-5022\n",
      "Configuration saved in ./Bert-v1/20230329_065154$-train-model-bert-base-uncased\\checkpoint-5022\\config.json\n"
     ]
    },
    {
     "name": "stdout",
     "output_type": "stream",
     "text": [
      "{'eval_loss': 0.09469842910766602, 'eval_f1': 0.8024691358024691, 'eval_roc_auc': 0.8730354089851072, 'eval_accuracy': 0.7530864197530864, 'eval_balanced_accuracy': 0.7786724386724388, 'eval_runtime': 0.2305, 'eval_samples_per_second': 351.421, 'eval_steps_per_second': 47.724, 'epoch': 62.0}\n"
     ]
    },
    {
     "name": "stderr",
     "output_type": "stream",
     "text": [
      "Model weights saved in ./Bert-v1/20230329_065154$-train-model-bert-base-uncased\\checkpoint-5022\\pytorch_model.bin\n",
      "tokenizer config file saved in ./Bert-v1/20230329_065154$-train-model-bert-base-uncased\\checkpoint-5022\\tokenizer_config.json\n",
      "Special tokens file saved in ./Bert-v1/20230329_065154$-train-model-bert-base-uncased\\checkpoint-5022\\special_tokens_map.json\n",
      " 78%|███████▊  | 5103/6561 [17:45<02:03, 11.77it/s]  ***** Running Evaluation *****\n",
      "  Num examples = 81\n",
      "  Batch size = 8\n",
      "                                                   \n",
      " 78%|███████▊  | 5103/6561 [17:45<02:03, 11.77it/s]Saving model checkpoint to ./Bert-v1/20230329_065154$-train-model-bert-base-uncased\\checkpoint-5103\n",
      "Configuration saved in ./Bert-v1/20230329_065154$-train-model-bert-base-uncased\\checkpoint-5103\\config.json\n"
     ]
    },
    {
     "name": "stdout",
     "output_type": "stream",
     "text": [
      "{'eval_loss': 0.09437476843595505, 'eval_f1': 0.8024691358024691, 'eval_roc_auc': 0.8730354089851072, 'eval_accuracy': 0.7530864197530864, 'eval_balanced_accuracy': 0.7786724386724388, 'eval_runtime': 0.226, 'eval_samples_per_second': 358.441, 'eval_steps_per_second': 48.677, 'epoch': 63.0}\n"
     ]
    },
    {
     "name": "stderr",
     "output_type": "stream",
     "text": [
      "Model weights saved in ./Bert-v1/20230329_065154$-train-model-bert-base-uncased\\checkpoint-5103\\pytorch_model.bin\n",
      "tokenizer config file saved in ./Bert-v1/20230329_065154$-train-model-bert-base-uncased\\checkpoint-5103\\tokenizer_config.json\n",
      "Special tokens file saved in ./Bert-v1/20230329_065154$-train-model-bert-base-uncased\\checkpoint-5103\\special_tokens_map.json\n",
      " 79%|███████▉  | 5184/6561 [18:08<01:56, 11.85it/s]  ***** Running Evaluation *****\n",
      "  Num examples = 81\n",
      "  Batch size = 8\n",
      "                                                   \n",
      " 79%|███████▉  | 5184/6561 [18:08<01:56, 11.85it/s]Saving model checkpoint to ./Bert-v1/20230329_065154$-train-model-bert-base-uncased\\checkpoint-5184\n",
      "Configuration saved in ./Bert-v1/20230329_065154$-train-model-bert-base-uncased\\checkpoint-5184\\config.json\n"
     ]
    },
    {
     "name": "stdout",
     "output_type": "stream",
     "text": [
      "{'eval_loss': 0.0950847938656807, 'eval_f1': 0.8024691358024691, 'eval_roc_auc': 0.8730354089851072, 'eval_accuracy': 0.7530864197530864, 'eval_balanced_accuracy': 0.7786724386724388, 'eval_runtime': 0.2269, 'eval_samples_per_second': 356.94, 'eval_steps_per_second': 48.473, 'epoch': 64.0}\n"
     ]
    },
    {
     "name": "stderr",
     "output_type": "stream",
     "text": [
      "Model weights saved in ./Bert-v1/20230329_065154$-train-model-bert-base-uncased\\checkpoint-5184\\pytorch_model.bin\n",
      "tokenizer config file saved in ./Bert-v1/20230329_065154$-train-model-bert-base-uncased\\checkpoint-5184\\tokenizer_config.json\n",
      "Special tokens file saved in ./Bert-v1/20230329_065154$-train-model-bert-base-uncased\\checkpoint-5184\\special_tokens_map.json\n",
      " 80%|████████  | 5264/6561 [18:31<01:52, 11.54it/s]***** Running Evaluation *****\n",
      "  Num examples = 81\n",
      "  Batch size = 8\n",
      "                                                   \n",
      " 80%|████████  | 5265/6561 [18:32<01:52, 11.54it/s]Saving model checkpoint to ./Bert-v1/20230329_065154$-train-model-bert-base-uncased\\checkpoint-5265\n",
      "Configuration saved in ./Bert-v1/20230329_065154$-train-model-bert-base-uncased\\checkpoint-5265\\config.json\n"
     ]
    },
    {
     "name": "stdout",
     "output_type": "stream",
     "text": [
      "{'eval_loss': 0.09733572602272034, 'eval_f1': 0.7975460122699386, 'eval_roc_auc': 0.8725925391888273, 'eval_accuracy': 0.7530864197530864, 'eval_balanced_accuracy': 0.7786724386724388, 'eval_runtime': 0.2284, 'eval_samples_per_second': 354.703, 'eval_steps_per_second': 48.17, 'epoch': 65.0}\n"
     ]
    },
    {
     "name": "stderr",
     "output_type": "stream",
     "text": [
      "Model weights saved in ./Bert-v1/20230329_065154$-train-model-bert-base-uncased\\checkpoint-5265\\pytorch_model.bin\n",
      "tokenizer config file saved in ./Bert-v1/20230329_065154$-train-model-bert-base-uncased\\checkpoint-5265\\tokenizer_config.json\n",
      "Special tokens file saved in ./Bert-v1/20230329_065154$-train-model-bert-base-uncased\\checkpoint-5265\\special_tokens_map.json\n",
      " 81%|████████▏ | 5346/6561 [18:54<01:40, 12.05it/s]***** Running Evaluation *****\n",
      "  Num examples = 81\n",
      "  Batch size = 8\n",
      "                                                   \n",
      " 81%|████████▏ | 5346/6561 [18:55<01:40, 12.05it/s]Saving model checkpoint to ./Bert-v1/20230329_065154$-train-model-bert-base-uncased\\checkpoint-5346\n",
      "Configuration saved in ./Bert-v1/20230329_065154$-train-model-bert-base-uncased\\checkpoint-5346\\config.json\n"
     ]
    },
    {
     "name": "stdout",
     "output_type": "stream",
     "text": [
      "{'eval_loss': 0.09706579148769379, 'eval_f1': 0.7975460122699386, 'eval_roc_auc': 0.8725925391888273, 'eval_accuracy': 0.7530864197530864, 'eval_balanced_accuracy': 0.7786724386724388, 'eval_runtime': 0.2222, 'eval_samples_per_second': 364.533, 'eval_steps_per_second': 49.504, 'epoch': 66.0}\n"
     ]
    },
    {
     "name": "stderr",
     "output_type": "stream",
     "text": [
      "Model weights saved in ./Bert-v1/20230329_065154$-train-model-bert-base-uncased\\checkpoint-5346\\pytorch_model.bin\n",
      "tokenizer config file saved in ./Bert-v1/20230329_065154$-train-model-bert-base-uncased\\checkpoint-5346\\tokenizer_config.json\n",
      "Special tokens file saved in ./Bert-v1/20230329_065154$-train-model-bert-base-uncased\\checkpoint-5346\\special_tokens_map.json\n",
      " 83%|████████▎ | 5427/6561 [19:17<01:34, 12.04it/s]***** Running Evaluation *****\n",
      "  Num examples = 81\n",
      "  Batch size = 8\n",
      "                                                   \n",
      " 83%|████████▎ | 5427/6561 [19:18<01:34, 12.04it/s]Saving model checkpoint to ./Bert-v1/20230329_065154$-train-model-bert-base-uncased\\checkpoint-5427\n",
      "Configuration saved in ./Bert-v1/20230329_065154$-train-model-bert-base-uncased\\checkpoint-5427\\config.json\n"
     ]
    },
    {
     "name": "stdout",
     "output_type": "stream",
     "text": [
      "{'eval_loss': 0.09549295157194138, 'eval_f1': 0.8024691358024691, 'eval_roc_auc': 0.8730354089851072, 'eval_accuracy': 0.7530864197530864, 'eval_balanced_accuracy': 0.7786724386724388, 'eval_runtime': 0.2231, 'eval_samples_per_second': 363.006, 'eval_steps_per_second': 49.297, 'epoch': 67.0}\n"
     ]
    },
    {
     "name": "stderr",
     "output_type": "stream",
     "text": [
      "Model weights saved in ./Bert-v1/20230329_065154$-train-model-bert-base-uncased\\checkpoint-5427\\pytorch_model.bin\n",
      "tokenizer config file saved in ./Bert-v1/20230329_065154$-train-model-bert-base-uncased\\checkpoint-5427\\tokenizer_config.json\n",
      "Special tokens file saved in ./Bert-v1/20230329_065154$-train-model-bert-base-uncased\\checkpoint-5427\\special_tokens_map.json\n",
      " 84%|████████▍ | 5502/6561 [19:39<01:31, 11.57it/s]"
     ]
    },
    {
     "name": "stdout",
     "output_type": "stream",
     "text": [
      "{'loss': 0.0034, 'learning_rate': 3.234263069654016e-06, 'epoch': 67.9}\n"
     ]
    },
    {
     "name": "stderr",
     "output_type": "stream",
     "text": [
      " 84%|████████▍ | 5508/6561 [19:40<01:27, 11.97it/s]***** Running Evaluation *****\n",
      "  Num examples = 81\n",
      "  Batch size = 8\n",
      "                                                   \n",
      " 84%|████████▍ | 5508/6561 [19:40<01:27, 11.97it/s]Saving model checkpoint to ./Bert-v1/20230329_065154$-train-model-bert-base-uncased\\checkpoint-5508\n",
      "Configuration saved in ./Bert-v1/20230329_065154$-train-model-bert-base-uncased\\checkpoint-5508\\config.json\n"
     ]
    },
    {
     "name": "stdout",
     "output_type": "stream",
     "text": [
      "{'eval_loss': 0.09484289586544037, 'eval_f1': 0.8024691358024691, 'eval_roc_auc': 0.8730354089851072, 'eval_accuracy': 0.7530864197530864, 'eval_balanced_accuracy': 0.7786724386724388, 'eval_runtime': 0.2239, 'eval_samples_per_second': 361.737, 'eval_steps_per_second': 49.125, 'epoch': 68.0}\n"
     ]
    },
    {
     "name": "stderr",
     "output_type": "stream",
     "text": [
      "Model weights saved in ./Bert-v1/20230329_065154$-train-model-bert-base-uncased\\checkpoint-5508\\pytorch_model.bin\n",
      "tokenizer config file saved in ./Bert-v1/20230329_065154$-train-model-bert-base-uncased\\checkpoint-5508\\tokenizer_config.json\n",
      "Special tokens file saved in ./Bert-v1/20230329_065154$-train-model-bert-base-uncased\\checkpoint-5508\\special_tokens_map.json\n",
      " 85%|████████▌ | 5588/6561 [19:59<01:27, 11.18it/s]***** Running Evaluation *****\n",
      "  Num examples = 81\n",
      "  Batch size = 8\n",
      "                                                   \n",
      " 85%|████████▌ | 5589/6561 [19:59<01:26, 11.18it/s]Saving model checkpoint to ./Bert-v1/20230329_065154$-train-model-bert-base-uncased\\checkpoint-5589\n",
      "Configuration saved in ./Bert-v1/20230329_065154$-train-model-bert-base-uncased\\checkpoint-5589\\config.json\n"
     ]
    },
    {
     "name": "stdout",
     "output_type": "stream",
     "text": [
      "{'eval_loss': 0.09640563279390335, 'eval_f1': 0.8024691358024691, 'eval_roc_auc': 0.8730354089851072, 'eval_accuracy': 0.7530864197530864, 'eval_balanced_accuracy': 0.7786724386724388, 'eval_runtime': 0.226, 'eval_samples_per_second': 358.464, 'eval_steps_per_second': 48.68, 'epoch': 69.0}\n"
     ]
    },
    {
     "name": "stderr",
     "output_type": "stream",
     "text": [
      "Model weights saved in ./Bert-v1/20230329_065154$-train-model-bert-base-uncased\\checkpoint-5589\\pytorch_model.bin\n",
      "tokenizer config file saved in ./Bert-v1/20230329_065154$-train-model-bert-base-uncased\\checkpoint-5589\\tokenizer_config.json\n",
      "Special tokens file saved in ./Bert-v1/20230329_065154$-train-model-bert-base-uncased\\checkpoint-5589\\special_tokens_map.json\n",
      " 86%|████████▋ | 5670/6561 [20:15<01:14, 11.90it/s]***** Running Evaluation *****\n",
      "  Num examples = 81\n",
      "  Batch size = 8\n",
      "                                                   \n",
      " 86%|████████▋ | 5670/6561 [20:15<01:14, 11.90it/s]Saving model checkpoint to ./Bert-v1/20230329_065154$-train-model-bert-base-uncased\\checkpoint-5670\n",
      "Configuration saved in ./Bert-v1/20230329_065154$-train-model-bert-base-uncased\\checkpoint-5670\\config.json\n"
     ]
    },
    {
     "name": "stdout",
     "output_type": "stream",
     "text": [
      "{'eval_loss': 0.09620528668165207, 'eval_f1': 0.8074534161490684, 'eval_roc_auc': 0.8734782787813872, 'eval_accuracy': 0.7530864197530864, 'eval_balanced_accuracy': 0.7897835497835498, 'eval_runtime': 0.2303, 'eval_samples_per_second': 351.738, 'eval_steps_per_second': 47.767, 'epoch': 70.0}\n"
     ]
    },
    {
     "name": "stderr",
     "output_type": "stream",
     "text": [
      "Model weights saved in ./Bert-v1/20230329_065154$-train-model-bert-base-uncased\\checkpoint-5670\\pytorch_model.bin\n",
      "tokenizer config file saved in ./Bert-v1/20230329_065154$-train-model-bert-base-uncased\\checkpoint-5670\\tokenizer_config.json\n",
      "Special tokens file saved in ./Bert-v1/20230329_065154$-train-model-bert-base-uncased\\checkpoint-5670\\special_tokens_map.json\n",
      " 88%|████████▊ | 5751/6561 [20:37<01:08, 11.79it/s]***** Running Evaluation *****\n",
      "  Num examples = 81\n",
      "  Batch size = 8\n",
      "                                                   \n",
      " 88%|████████▊ | 5751/6561 [20:37<01:08, 11.79it/s]Saving model checkpoint to ./Bert-v1/20230329_065154$-train-model-bert-base-uncased\\checkpoint-5751\n",
      "Configuration saved in ./Bert-v1/20230329_065154$-train-model-bert-base-uncased\\checkpoint-5751\\config.json\n"
     ]
    },
    {
     "name": "stdout",
     "output_type": "stream",
     "text": [
      "{'eval_loss': 0.09627680480480194, 'eval_f1': 0.8074534161490684, 'eval_roc_auc': 0.8734782787813872, 'eval_accuracy': 0.7530864197530864, 'eval_balanced_accuracy': 0.7897835497835498, 'eval_runtime': 0.2247, 'eval_samples_per_second': 360.444, 'eval_steps_per_second': 48.949, 'epoch': 71.0}\n"
     ]
    },
    {
     "name": "stderr",
     "output_type": "stream",
     "text": [
      "Model weights saved in ./Bert-v1/20230329_065154$-train-model-bert-base-uncased\\checkpoint-5751\\pytorch_model.bin\n",
      "tokenizer config file saved in ./Bert-v1/20230329_065154$-train-model-bert-base-uncased\\checkpoint-5751\\tokenizer_config.json\n",
      "Special tokens file saved in ./Bert-v1/20230329_065154$-train-model-bert-base-uncased\\checkpoint-5751\\special_tokens_map.json\n",
      " 89%|████████▉ | 5831/6561 [20:56<01:05, 11.07it/s]***** Running Evaluation *****\n",
      "  Num examples = 81\n",
      "  Batch size = 8\n",
      "                                                   \n",
      " 89%|████████▉ | 5832/6561 [20:57<01:05, 11.07it/s]Saving model checkpoint to ./Bert-v1/20230329_065154$-train-model-bert-base-uncased\\checkpoint-5832\n",
      "Configuration saved in ./Bert-v1/20230329_065154$-train-model-bert-base-uncased\\checkpoint-5832\\config.json\n"
     ]
    },
    {
     "name": "stdout",
     "output_type": "stream",
     "text": [
      "{'eval_loss': 0.0955829918384552, 'eval_f1': 0.8074534161490684, 'eval_roc_auc': 0.8734782787813872, 'eval_accuracy': 0.7530864197530864, 'eval_balanced_accuracy': 0.7897835497835498, 'eval_runtime': 0.2296, 'eval_samples_per_second': 352.826, 'eval_steps_per_second': 47.915, 'epoch': 72.0}\n"
     ]
    },
    {
     "name": "stderr",
     "output_type": "stream",
     "text": [
      "Model weights saved in ./Bert-v1/20230329_065154$-train-model-bert-base-uncased\\checkpoint-5832\\pytorch_model.bin\n",
      "tokenizer config file saved in ./Bert-v1/20230329_065154$-train-model-bert-base-uncased\\checkpoint-5832\\tokenizer_config.json\n",
      "Special tokens file saved in ./Bert-v1/20230329_065154$-train-model-bert-base-uncased\\checkpoint-5832\\special_tokens_map.json\n",
      " 90%|█████████ | 5912/6561 [21:15<00:57, 11.31it/s]***** Running Evaluation *****\n",
      "  Num examples = 81\n",
      "  Batch size = 8\n",
      "                                                   \n",
      " 90%|█████████ | 5913/6561 [21:15<00:57, 11.31it/s]Saving model checkpoint to ./Bert-v1/20230329_065154$-train-model-bert-base-uncased\\checkpoint-5913\n",
      "Configuration saved in ./Bert-v1/20230329_065154$-train-model-bert-base-uncased\\checkpoint-5913\\config.json\n"
     ]
    },
    {
     "name": "stdout",
     "output_type": "stream",
     "text": [
      "{'eval_loss': 0.09740349650382996, 'eval_f1': 0.8024691358024691, 'eval_roc_auc': 0.8730354089851072, 'eval_accuracy': 0.7530864197530864, 'eval_balanced_accuracy': 0.7786724386724388, 'eval_runtime': 0.2313, 'eval_samples_per_second': 350.163, 'eval_steps_per_second': 47.553, 'epoch': 73.0}\n"
     ]
    },
    {
     "name": "stderr",
     "output_type": "stream",
     "text": [
      "Model weights saved in ./Bert-v1/20230329_065154$-train-model-bert-base-uncased\\checkpoint-5913\\pytorch_model.bin\n",
      "tokenizer config file saved in ./Bert-v1/20230329_065154$-train-model-bert-base-uncased\\checkpoint-5913\\tokenizer_config.json\n",
      "Special tokens file saved in ./Bert-v1/20230329_065154$-train-model-bert-base-uncased\\checkpoint-5913\\special_tokens_map.json\n",
      " 91%|█████████▏| 5993/6561 [21:33<00:49, 11.53it/s]***** Running Evaluation *****\n",
      "  Num examples = 81\n",
      "  Batch size = 8\n",
      "                                                   \n",
      " 91%|█████████▏| 5994/6561 [21:33<00:49, 11.53it/s]Saving model checkpoint to ./Bert-v1/20230329_065154$-train-model-bert-base-uncased\\checkpoint-5994\n",
      "Configuration saved in ./Bert-v1/20230329_065154$-train-model-bert-base-uncased\\checkpoint-5994\\config.json\n"
     ]
    },
    {
     "name": "stdout",
     "output_type": "stream",
     "text": [
      "{'eval_loss': 0.09642425924539566, 'eval_f1': 0.8074534161490684, 'eval_roc_auc': 0.8734782787813872, 'eval_accuracy': 0.7530864197530864, 'eval_balanced_accuracy': 0.7897835497835498, 'eval_runtime': 0.2256, 'eval_samples_per_second': 359.01, 'eval_steps_per_second': 48.754, 'epoch': 74.0}\n"
     ]
    },
    {
     "name": "stderr",
     "output_type": "stream",
     "text": [
      "Model weights saved in ./Bert-v1/20230329_065154$-train-model-bert-base-uncased\\checkpoint-5994\\pytorch_model.bin\n",
      "tokenizer config file saved in ./Bert-v1/20230329_065154$-train-model-bert-base-uncased\\checkpoint-5994\\tokenizer_config.json\n",
      "Special tokens file saved in ./Bert-v1/20230329_065154$-train-model-bert-base-uncased\\checkpoint-5994\\special_tokens_map.json\n",
      " 91%|█████████▏| 6001/6561 [21:49<08:17,  1.13it/s]"
     ]
    },
    {
     "name": "stdout",
     "output_type": "stream",
     "text": [
      "{'loss': 0.0031, 'learning_rate': 1.7101051668952906e-06, 'epoch': 74.07}\n"
     ]
    },
    {
     "name": "stderr",
     "output_type": "stream",
     "text": [
      " 93%|█████████▎| 6075/6561 [21:55<00:41, 11.83it/s]***** Running Evaluation *****\n",
      "  Num examples = 81\n",
      "  Batch size = 8\n",
      "                                                   \n",
      " 93%|█████████▎| 6075/6561 [21:56<00:41, 11.83it/s]Saving model checkpoint to ./Bert-v1/20230329_065154$-train-model-bert-base-uncased\\checkpoint-6075\n",
      "Configuration saved in ./Bert-v1/20230329_065154$-train-model-bert-base-uncased\\checkpoint-6075\\config.json\n"
     ]
    },
    {
     "name": "stdout",
     "output_type": "stream",
     "text": [
      "{'eval_loss': 0.09506209939718246, 'eval_f1': 0.8074534161490684, 'eval_roc_auc': 0.8734782787813872, 'eval_accuracy': 0.7530864197530864, 'eval_balanced_accuracy': 0.7897835497835498, 'eval_runtime': 0.2265, 'eval_samples_per_second': 357.572, 'eval_steps_per_second': 48.559, 'epoch': 75.0}\n"
     ]
    },
    {
     "name": "stderr",
     "output_type": "stream",
     "text": [
      "Model weights saved in ./Bert-v1/20230329_065154$-train-model-bert-base-uncased\\checkpoint-6075\\pytorch_model.bin\n",
      "tokenizer config file saved in ./Bert-v1/20230329_065154$-train-model-bert-base-uncased\\checkpoint-6075\\tokenizer_config.json\n",
      "Special tokens file saved in ./Bert-v1/20230329_065154$-train-model-bert-base-uncased\\checkpoint-6075\\special_tokens_map.json\n",
      " 94%|█████████▍| 6156/6561 [22:18<00:34, 11.90it/s]***** Running Evaluation *****\n",
      "  Num examples = 81\n",
      "  Batch size = 8\n",
      "                                                   \n",
      " 94%|█████████▍| 6156/6561 [22:19<00:34, 11.90it/s]Saving model checkpoint to ./Bert-v1/20230329_065154$-train-model-bert-base-uncased\\checkpoint-6156\n",
      "Configuration saved in ./Bert-v1/20230329_065154$-train-model-bert-base-uncased\\checkpoint-6156\\config.json\n"
     ]
    },
    {
     "name": "stdout",
     "output_type": "stream",
     "text": [
      "{'eval_loss': 0.09551229327917099, 'eval_f1': 0.8074534161490684, 'eval_roc_auc': 0.8734782787813872, 'eval_accuracy': 0.7530864197530864, 'eval_balanced_accuracy': 0.7897835497835498, 'eval_runtime': 0.2268, 'eval_samples_per_second': 357.14, 'eval_steps_per_second': 48.5, 'epoch': 76.0}\n"
     ]
    },
    {
     "name": "stderr",
     "output_type": "stream",
     "text": [
      "Model weights saved in ./Bert-v1/20230329_065154$-train-model-bert-base-uncased\\checkpoint-6156\\pytorch_model.bin\n",
      "tokenizer config file saved in ./Bert-v1/20230329_065154$-train-model-bert-base-uncased\\checkpoint-6156\\tokenizer_config.json\n",
      "Special tokens file saved in ./Bert-v1/20230329_065154$-train-model-bert-base-uncased\\checkpoint-6156\\special_tokens_map.json\n",
      " 95%|█████████▌| 6237/6561 [22:41<00:26, 12.09it/s]***** Running Evaluation *****\n",
      "  Num examples = 81\n",
      "  Batch size = 8\n",
      "                                                   \n",
      " 95%|█████████▌| 6237/6561 [22:42<00:26, 12.09it/s]Saving model checkpoint to ./Bert-v1/20230329_065154$-train-model-bert-base-uncased\\checkpoint-6237\n",
      "Configuration saved in ./Bert-v1/20230329_065154$-train-model-bert-base-uncased\\checkpoint-6237\\config.json\n"
     ]
    },
    {
     "name": "stdout",
     "output_type": "stream",
     "text": [
      "{'eval_loss': 0.09565488994121552, 'eval_f1': 0.8024691358024691, 'eval_roc_auc': 0.8730354089851072, 'eval_accuracy': 0.7530864197530864, 'eval_balanced_accuracy': 0.7786724386724388, 'eval_runtime': 0.2252, 'eval_samples_per_second': 359.744, 'eval_steps_per_second': 48.854, 'epoch': 77.0}\n"
     ]
    },
    {
     "name": "stderr",
     "output_type": "stream",
     "text": [
      "Model weights saved in ./Bert-v1/20230329_065154$-train-model-bert-base-uncased\\checkpoint-6237\\pytorch_model.bin\n",
      "tokenizer config file saved in ./Bert-v1/20230329_065154$-train-model-bert-base-uncased\\checkpoint-6237\\tokenizer_config.json\n",
      "Special tokens file saved in ./Bert-v1/20230329_065154$-train-model-bert-base-uncased\\checkpoint-6237\\special_tokens_map.json\n",
      " 96%|█████████▋| 6317/6561 [23:04<00:21, 11.47it/s]***** Running Evaluation *****\n",
      "  Num examples = 81\n",
      "  Batch size = 8\n",
      "                                                   \n",
      " 96%|█████████▋| 6318/6561 [23:04<00:21, 11.47it/s]Saving model checkpoint to ./Bert-v1/20230329_065154$-train-model-bert-base-uncased\\checkpoint-6318\n",
      "Configuration saved in ./Bert-v1/20230329_065154$-train-model-bert-base-uncased\\checkpoint-6318\\config.json\n"
     ]
    },
    {
     "name": "stdout",
     "output_type": "stream",
     "text": [
      "{'eval_loss': 0.0959412157535553, 'eval_f1': 0.8024691358024691, 'eval_roc_auc': 0.8730354089851072, 'eval_accuracy': 0.7530864197530864, 'eval_balanced_accuracy': 0.7786724386724388, 'eval_runtime': 0.2279, 'eval_samples_per_second': 355.347, 'eval_steps_per_second': 48.257, 'epoch': 78.0}\n"
     ]
    },
    {
     "name": "stderr",
     "output_type": "stream",
     "text": [
      "Model weights saved in ./Bert-v1/20230329_065154$-train-model-bert-base-uncased\\checkpoint-6318\\pytorch_model.bin\n",
      "tokenizer config file saved in ./Bert-v1/20230329_065154$-train-model-bert-base-uncased\\checkpoint-6318\\tokenizer_config.json\n",
      "Special tokens file saved in ./Bert-v1/20230329_065154$-train-model-bert-base-uncased\\checkpoint-6318\\special_tokens_map.json\n",
      " 98%|█████████▊| 6399/6561 [23:27<00:14, 10.95it/s]***** Running Evaluation *****\n",
      "  Num examples = 81\n",
      "  Batch size = 8\n",
      "                                                   \n",
      " 98%|█████████▊| 6399/6561 [23:27<00:14, 10.95it/s]Saving model checkpoint to ./Bert-v1/20230329_065154$-train-model-bert-base-uncased\\checkpoint-6399\n",
      "Configuration saved in ./Bert-v1/20230329_065154$-train-model-bert-base-uncased\\checkpoint-6399\\config.json\n"
     ]
    },
    {
     "name": "stdout",
     "output_type": "stream",
     "text": [
      "{'eval_loss': 0.09648449718952179, 'eval_f1': 0.8024691358024691, 'eval_roc_auc': 0.8730354089851072, 'eval_accuracy': 0.7530864197530864, 'eval_balanced_accuracy': 0.7786724386724388, 'eval_runtime': 0.2561, 'eval_samples_per_second': 316.306, 'eval_steps_per_second': 42.955, 'epoch': 79.0}\n"
     ]
    },
    {
     "name": "stderr",
     "output_type": "stream",
     "text": [
      "Model weights saved in ./Bert-v1/20230329_065154$-train-model-bert-base-uncased\\checkpoint-6399\\pytorch_model.bin\n",
      "tokenizer config file saved in ./Bert-v1/20230329_065154$-train-model-bert-base-uncased\\checkpoint-6399\\tokenizer_config.json\n",
      "Special tokens file saved in ./Bert-v1/20230329_065154$-train-model-bert-base-uncased\\checkpoint-6399\\special_tokens_map.json\n",
      " 99%|█████████▉| 6480/6561 [23:51<00:06, 12.02it/s]***** Running Evaluation *****\n",
      "  Num examples = 81\n",
      "  Batch size = 8\n",
      "                                                   \n",
      " 99%|█████████▉| 6480/6561 [23:51<00:06, 12.02it/s]Saving model checkpoint to ./Bert-v1/20230329_065154$-train-model-bert-base-uncased\\checkpoint-6480\n",
      "Configuration saved in ./Bert-v1/20230329_065154$-train-model-bert-base-uncased\\checkpoint-6480\\config.json\n"
     ]
    },
    {
     "name": "stdout",
     "output_type": "stream",
     "text": [
      "{'eval_loss': 0.09630260616540909, 'eval_f1': 0.8024691358024691, 'eval_roc_auc': 0.8730354089851072, 'eval_accuracy': 0.7530864197530864, 'eval_balanced_accuracy': 0.7786724386724388, 'eval_runtime': 0.2261, 'eval_samples_per_second': 358.283, 'eval_steps_per_second': 48.656, 'epoch': 80.0}\n"
     ]
    },
    {
     "name": "stderr",
     "output_type": "stream",
     "text": [
      "Model weights saved in ./Bert-v1/20230329_065154$-train-model-bert-base-uncased\\checkpoint-6480\\pytorch_model.bin\n",
      "tokenizer config file saved in ./Bert-v1/20230329_065154$-train-model-bert-base-uncased\\checkpoint-6480\\tokenizer_config.json\n",
      "Special tokens file saved in ./Bert-v1/20230329_065154$-train-model-bert-base-uncased\\checkpoint-6480\\special_tokens_map.json\n",
      " 99%|█████████▉| 6501/6561 [24:20<00:12,  4.96it/s]"
     ]
    },
    {
     "name": "stdout",
     "output_type": "stream",
     "text": [
      "{'loss': 0.0029, 'learning_rate': 1.8594726413656458e-07, 'epoch': 80.25}\n"
     ]
    },
    {
     "name": "stderr",
     "output_type": "stream",
     "text": [
      "100%|██████████| 6561/6561 [24:25<00:00, 11.97it/s]***** Running Evaluation *****\n",
      "  Num examples = 81\n",
      "  Batch size = 8\n",
      "                                                   \n",
      "100%|██████████| 6561/6561 [24:25<00:00, 11.97it/s]Saving model checkpoint to ./Bert-v1/20230329_065154$-train-model-bert-base-uncased\\checkpoint-6561\n",
      "Configuration saved in ./Bert-v1/20230329_065154$-train-model-bert-base-uncased\\checkpoint-6561\\config.json\n"
     ]
    },
    {
     "name": "stdout",
     "output_type": "stream",
     "text": [
      "{'eval_loss': 0.09601752460002899, 'eval_f1': 0.8024691358024691, 'eval_roc_auc': 0.8730354089851072, 'eval_accuracy': 0.7530864197530864, 'eval_balanced_accuracy': 0.7786724386724388, 'eval_runtime': 0.225, 'eval_samples_per_second': 360.036, 'eval_steps_per_second': 48.894, 'epoch': 81.0}\n"
     ]
    },
    {
     "name": "stderr",
     "output_type": "stream",
     "text": [
      "Model weights saved in ./Bert-v1/20230329_065154$-train-model-bert-base-uncased\\checkpoint-6561\\pytorch_model.bin\n",
      "tokenizer config file saved in ./Bert-v1/20230329_065154$-train-model-bert-base-uncased\\checkpoint-6561\\tokenizer_config.json\n",
      "Special tokens file saved in ./Bert-v1/20230329_065154$-train-model-bert-base-uncased\\checkpoint-6561\\special_tokens_map.json\n",
      "100%|██████████| 6561/6561 [24:39<00:00, 11.97it/s]\n",
      "\n",
      "Training completed. Do not forget to share your model on huggingface.co/models =)\n",
      "\n",
      "\n",
      "Loading best model from ./Bert-v1/20230329_065154$-train-model-bert-base-uncased\\checkpoint-3402 (score: 0.825).\n",
      "100%|██████████| 6561/6561 [24:41<00:00,  4.43it/s]"
     ]
    },
    {
     "name": "stdout",
     "output_type": "stream",
     "text": [
      "{'train_runtime': 1481.9002, 'train_samples_per_second': 35.201, 'train_steps_per_second': 4.427, 'train_loss': 0.030787286900961622, 'epoch': 81.0}\n"
     ]
    },
    {
     "name": "stderr",
     "output_type": "stream",
     "text": [
      "\n"
     ]
    },
    {
     "data": {
      "text/plain": [
       "TrainOutput(global_step=6561, training_loss=0.030787286900961622, metrics={'train_runtime': 1481.9002, 'train_samples_per_second': 35.201, 'train_steps_per_second': 4.427, 'train_loss': 0.030787286900961622, 'epoch': 81.0})"
      ]
     },
     "execution_count": 30,
     "metadata": {},
     "output_type": "execute_result"
    }
   ],
   "source": [
    "trainer.train()"
   ]
  },
  {
   "cell_type": "code",
   "execution_count": 31,
   "metadata": {},
   "outputs": [
    {
     "name": "stderr",
     "output_type": "stream",
     "text": [
      "***** Running Evaluation *****\n",
      "  Num examples = 81\n",
      "  Batch size = 8\n",
      "100%|██████████| 11/11 [00:00<00:00, 42.85it/s]\n"
     ]
    },
    {
     "data": {
      "text/plain": [
       "{'eval_loss': 0.08496356755495071,\n",
       " 'eval_f1': 0.825,\n",
       " 'eval_roc_auc': 0.8801779718623189,\n",
       " 'eval_accuracy': 0.7654320987654321,\n",
       " 'eval_balanced_accuracy': 0.7993073593073593,\n",
       " 'eval_runtime': 0.4151,\n",
       " 'eval_samples_per_second': 195.146,\n",
       " 'eval_steps_per_second': 26.501,\n",
       " 'epoch': 81.0}"
      ]
     },
     "execution_count": 31,
     "metadata": {},
     "output_type": "execute_result"
    }
   ],
   "source": [
    "trainer.evaluate()"
   ]
  },
  {
   "cell_type": "code",
   "execution_count": 32,
   "metadata": {},
   "outputs": [
    {
     "name": "stderr",
     "output_type": "stream",
     "text": [
      "***** Running Prediction *****\n",
      "  Num examples = 81\n",
      "  Batch size = 8\n",
      "100%|██████████| 11/11 [00:00<00:00, 61.92it/s]\n"
     ]
    }
   ],
   "source": [
    "prediction_result = trainer.predict(encoded_ds['test'])"
   ]
  },
  {
   "cell_type": "code",
   "execution_count": 33,
   "metadata": {},
   "outputs": [
    {
     "name": "stdout",
     "output_type": "stream",
     "text": [
      "{'test_loss': 0.12187018245458603, 'test_f1': 0.7625, 'test_roc_auc': 0.860402741708885, 'test_accuracy': 0.7283950617283951, 'test_balanced_accuracy': 0.7782251082251082, 'test_runtime': 0.1996, 'test_samples_per_second': 405.841, 'test_steps_per_second': 55.114}\n"
     ]
    }
   ],
   "source": [
    "print(prediction_result.metrics)"
   ]
  },
  {
   "cell_type": "code",
   "execution_count": 34,
   "metadata": {},
   "outputs": [
    {
     "name": "stderr",
     "output_type": "stream",
     "text": [
      "Saving model checkpoint to ./Bert-model-v\n",
      "Configuration saved in ./Bert-model-v\\config.json\n",
      "Model weights saved in ./Bert-model-v\\pytorch_model.bin\n",
      "tokenizer config file saved in ./Bert-model-v\\tokenizer_config.json\n",
      "Special tokens file saved in ./Bert-model-v\\special_tokens_map.json\n"
     ]
    }
   ],
   "source": [
    "trainer.save_model(\"./Bert-model-v\")"
   ]
  },
  {
   "cell_type": "code",
   "execution_count": 35,
   "metadata": {},
   "outputs": [
    {
     "name": "stderr",
     "output_type": "stream",
     "text": [
      "tokenizer config file saved in ./Bert-model-v1/tokenizer\\tokenizer_config.json\n",
      "Special tokens file saved in ./Bert-model-v1/tokenizer\\special_tokens_map.json\n"
     ]
    },
    {
     "data": {
      "text/plain": [
       "('./Bert-model-v1/tokenizer\\\\tokenizer_config.json',\n",
       " './Bert-model-v1/tokenizer\\\\special_tokens_map.json',\n",
       " './Bert-model-v1/tokenizer\\\\vocab.txt',\n",
       " './Bert-model-v1/tokenizer\\\\added_tokens.json',\n",
       " './Bert-model-v1/tokenizer\\\\tokenizer.json')"
      ]
     },
     "execution_count": 35,
     "metadata": {},
     "output_type": "execute_result"
    }
   ],
   "source": [
    "tokenizer.save_pretrained(\"./Bert-model-v1/tokenizer\")"
   ]
  }
 ],
 "metadata": {
  "kernelspec": {
   "display_name": "venv",
   "language": "python",
   "name": "python3"
  },
  "language_info": {
   "codemirror_mode": {
    "name": "ipython",
    "version": 3
   },
   "file_extension": ".py",
   "mimetype": "text/x-python",
   "name": "python",
   "nbconvert_exporter": "python",
   "pygments_lexer": "ipython3",
   "version": "3.8.10"
  },
  "orig_nbformat": 4,
  "vscode": {
   "interpreter": {
    "hash": "e32da21edddcaf775c480ccd7b569f19fc9b1c5c20d607727913c5339e7adca8"
   }
  }
 },
 "nbformat": 4,
 "nbformat_minor": 2
}
