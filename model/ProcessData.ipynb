{
 "cells": [
  {
   "attachments": {},
   "cell_type": "markdown",
   "metadata": {},
   "source": [
    "# Proprocessing dataset"
   ]
  },
  {
   "cell_type": "code",
   "execution_count": 1,
   "metadata": {},
   "outputs": [
    {
     "name": "stdout",
     "output_type": "stream",
     "text": [
      "<_io.TextIOWrapper name='../dataset/train3_v4.csv' mode='r' encoding='cp950'>\n"
     ]
    }
   ],
   "source": [
    "with open('../dataset/train3_v4.csv') as f:\n",
    "        print(f)"
   ]
  },
  {
   "cell_type": "code",
   "execution_count": 2,
   "metadata": {},
   "outputs": [
    {
     "name": "stderr",
     "output_type": "stream",
     "text": [
      "c:\\Users\\user\\Desktop\\QuestionQuestionModel\\venv\\lib\\site-packages\\tqdm\\auto.py:22: TqdmWarning: IProgress not found. Please update jupyter and ipywidgets. See https://ipywidgets.readthedocs.io/en/stable/user_install.html\n",
      "  from .autonotebook import tqdm as notebook_tqdm\n"
     ]
    }
   ],
   "source": [
    "import pandas as pd\n",
    "import datasets\n",
    "from datasets import load_dataset, Dataset, DatasetDict\n",
    "\n",
    "Qdata_frame = pd.read_csv('../dataset/train3_v4.csv')\n",
    "#Qdata_frame = pd.read_csv('../dataset/train3_v4.csv')\n"
   ]
  },
  {
   "cell_type": "code",
   "execution_count": 3,
   "metadata": {},
   "outputs": [
    {
     "data": {
      "text/html": [
       "<div>\n",
       "<style scoped>\n",
       "    .dataframe tbody tr th:only-of-type {\n",
       "        vertical-align: middle;\n",
       "    }\n",
       "\n",
       "    .dataframe tbody tr th {\n",
       "        vertical-align: top;\n",
       "    }\n",
       "\n",
       "    .dataframe thead th {\n",
       "        text-align: right;\n",
       "    }\n",
       "</style>\n",
       "<table border=\"1\" class=\"dataframe\">\n",
       "  <thead>\n",
       "    <tr style=\"text-align: right;\">\n",
       "      <th></th>\n",
       "      <th>id</th>\n",
       "      <th>String</th>\n",
       "      <th>topic</th>\n",
       "      <th>type</th>\n",
       "    </tr>\n",
       "  </thead>\n",
       "  <tbody>\n",
       "    <tr>\n",
       "      <th>0</th>\n",
       "      <td>1</td>\n",
       "      <td>Which of the following are components of an in...</td>\n",
       "      <td>Introduction to Information Processing</td>\n",
       "      <td>MC</td>\n",
       "    </tr>\n",
       "    <tr>\n",
       "      <th>1</th>\n",
       "      <td>2</td>\n",
       "      <td>Which of the following is an example of data c...</td>\n",
       "      <td>Introduction to Information Processing</td>\n",
       "      <td>MC</td>\n",
       "    </tr>\n",
       "    <tr>\n",
       "      <th>2</th>\n",
       "      <td>3</td>\n",
       "      <td>Which of the following personnels is responsib...</td>\n",
       "      <td>Introduction to Information Processing</td>\n",
       "      <td>MC</td>\n",
       "    </tr>\n",
       "    <tr>\n",
       "      <th>3</th>\n",
       "      <td>4</td>\n",
       "      <td>Which of the following is not a valid way to i...</td>\n",
       "      <td>Introduction to Information Processing</td>\n",
       "      <td>MC</td>\n",
       "    </tr>\n",
       "    <tr>\n",
       "      <th>4</th>\n",
       "      <td>5</td>\n",
       "      <td>Which of the following is/are (a) method(s) of...</td>\n",
       "      <td>Data Organisation and Data Control</td>\n",
       "      <td>MC</td>\n",
       "    </tr>\n",
       "    <tr>\n",
       "      <th>...</th>\n",
       "      <td>...</td>\n",
       "      <td>...</td>\n",
       "      <td>...</td>\n",
       "      <td>...</td>\n",
       "    </tr>\n",
       "    <tr>\n",
       "      <th>809</th>\n",
       "      <td>810</td>\n",
       "      <td>In the case of (d)(i), will ALG1 or ALG2 be mo...</td>\n",
       "      <td>Algorithm Design, Program Development</td>\n",
       "      <td>LQ</td>\n",
       "    </tr>\n",
       "    <tr>\n",
       "      <th>810</th>\n",
       "      <td>811</td>\n",
       "      <td>What is the benefit of using an array to store...</td>\n",
       "      <td>Algorithm Design</td>\n",
       "      <td>LQ</td>\n",
       "    </tr>\n",
       "    <tr>\n",
       "      <th>811</th>\n",
       "      <td>812</td>\n",
       "      <td>There are different kinds of online shopping w...</td>\n",
       "      <td>Database, Threats and Security on the Internet...</td>\n",
       "      <td>MC</td>\n",
       "    </tr>\n",
       "    <tr>\n",
       "      <th>812</th>\n",
       "      <td>813</td>\n",
       "      <td>A search engine can automatically the search r...</td>\n",
       "      <td>Internet Services and Applications, Networking...</td>\n",
       "      <td>MC</td>\n",
       "    </tr>\n",
       "    <tr>\n",
       "      <th>813</th>\n",
       "      <td>814</td>\n",
       "      <td>In the following diagram, X is a device for tr...</td>\n",
       "      <td>Internet Services and Applications, Computer S...</td>\n",
       "      <td>MC</td>\n",
       "    </tr>\n",
       "  </tbody>\n",
       "</table>\n",
       "<p>814 rows × 4 columns</p>\n",
       "</div>"
      ],
      "text/plain": [
       "      id                                             String  \\\n",
       "0      1  Which of the following are components of an in...   \n",
       "1      2  Which of the following is an example of data c...   \n",
       "2      3  Which of the following personnels is responsib...   \n",
       "3      4  Which of the following is not a valid way to i...   \n",
       "4      5  Which of the following is/are (a) method(s) of...   \n",
       "..   ...                                                ...   \n",
       "809  810  In the case of (d)(i), will ALG1 or ALG2 be mo...   \n",
       "810  811  What is the benefit of using an array to store...   \n",
       "811  812  There are different kinds of online shopping w...   \n",
       "812  813  A search engine can automatically the search r...   \n",
       "813  814  In the following diagram, X is a device for tr...   \n",
       "\n",
       "                                                 topic type  \n",
       "0               Introduction to Information Processing   MC  \n",
       "1               Introduction to Information Processing   MC  \n",
       "2               Introduction to Information Processing   MC  \n",
       "3               Introduction to Information Processing   MC  \n",
       "4                   Data Organisation and Data Control   MC  \n",
       "..                                                 ...  ...  \n",
       "809              Algorithm Design, Program Development   LQ  \n",
       "810                                   Algorithm Design   LQ  \n",
       "811  Database, Threats and Security on the Internet...   MC  \n",
       "812  Internet Services and Applications, Networking...   MC  \n",
       "813  Internet Services and Applications, Computer S...   MC  \n",
       "\n",
       "[814 rows x 4 columns]"
      ]
     },
     "execution_count": 3,
     "metadata": {},
     "output_type": "execute_result"
    }
   ],
   "source": [
    "Qdata_frame"
   ]
  },
  {
   "cell_type": "code",
   "execution_count": 4,
   "metadata": {},
   "outputs": [],
   "source": [
    "duplicated = Qdata_frame.duplicated(subset=['String'])"
   ]
  },
  {
   "cell_type": "code",
   "execution_count": 5,
   "metadata": {},
   "outputs": [
    {
     "data": {
      "text/plain": [
       "0      False\n",
       "1      False\n",
       "2      False\n",
       "3      False\n",
       "4      False\n",
       "       ...  \n",
       "809    False\n",
       "810    False\n",
       "811    False\n",
       "812    False\n",
       "813    False\n",
       "Length: 814, dtype: bool"
      ]
     },
     "execution_count": 5,
     "metadata": {},
     "output_type": "execute_result"
    }
   ],
   "source": [
    "duplicated"
   ]
  },
  {
   "cell_type": "code",
   "execution_count": 6,
   "metadata": {},
   "outputs": [],
   "source": [
    "Qdata_frame = Qdata_frame.drop_duplicates(subset=['String'])"
   ]
  },
  {
   "cell_type": "code",
   "execution_count": 7,
   "metadata": {},
   "outputs": [
    {
     "name": "stderr",
     "output_type": "stream",
     "text": [
      "C:\\Users\\user\\AppData\\Local\\Temp\\ipykernel_27860\\3268410748.py:1: SettingWithCopyWarning: \n",
      "A value is trying to be set on a copy of a slice from a DataFrame.\n",
      "Try using .loc[row_indexer,col_indexer] = value instead\n",
      "\n",
      "See the caveats in the documentation: https://pandas.pydata.org/pandas-docs/stable/user_guide/indexing.html#returning-a-view-versus-a-copy\n",
      "  Qdata_frame['topic'] = Qdata_frame['topic'].apply(lambda x: x.strip().split(', '))\n"
     ]
    }
   ],
   "source": [
    "Qdata_frame['topic'] = Qdata_frame['topic'].apply(lambda x: x.strip().split(', '))"
   ]
  },
  {
   "cell_type": "code",
   "execution_count": 8,
   "metadata": {},
   "outputs": [
    {
     "data": {
      "text/html": [
       "<div>\n",
       "<style scoped>\n",
       "    .dataframe tbody tr th:only-of-type {\n",
       "        vertical-align: middle;\n",
       "    }\n",
       "\n",
       "    .dataframe tbody tr th {\n",
       "        vertical-align: top;\n",
       "    }\n",
       "\n",
       "    .dataframe thead th {\n",
       "        text-align: right;\n",
       "    }\n",
       "</style>\n",
       "<table border=\"1\" class=\"dataframe\">\n",
       "  <thead>\n",
       "    <tr style=\"text-align: right;\">\n",
       "      <th></th>\n",
       "      <th>id</th>\n",
       "      <th>String</th>\n",
       "      <th>topic</th>\n",
       "      <th>type</th>\n",
       "    </tr>\n",
       "  </thead>\n",
       "  <tbody>\n",
       "    <tr>\n",
       "      <th>0</th>\n",
       "      <td>1</td>\n",
       "      <td>Which of the following are components of an in...</td>\n",
       "      <td>[Introduction to Information Processing]</td>\n",
       "      <td>MC</td>\n",
       "    </tr>\n",
       "    <tr>\n",
       "      <th>1</th>\n",
       "      <td>2</td>\n",
       "      <td>Which of the following is an example of data c...</td>\n",
       "      <td>[Introduction to Information Processing]</td>\n",
       "      <td>MC</td>\n",
       "    </tr>\n",
       "    <tr>\n",
       "      <th>2</th>\n",
       "      <td>3</td>\n",
       "      <td>Which of the following personnels is responsib...</td>\n",
       "      <td>[Introduction to Information Processing]</td>\n",
       "      <td>MC</td>\n",
       "    </tr>\n",
       "    <tr>\n",
       "      <th>3</th>\n",
       "      <td>4</td>\n",
       "      <td>Which of the following is not a valid way to i...</td>\n",
       "      <td>[Introduction to Information Processing]</td>\n",
       "      <td>MC</td>\n",
       "    </tr>\n",
       "    <tr>\n",
       "      <th>4</th>\n",
       "      <td>5</td>\n",
       "      <td>Which of the following is/are (a) method(s) of...</td>\n",
       "      <td>[Data Organisation and Data Control]</td>\n",
       "      <td>MC</td>\n",
       "    </tr>\n",
       "    <tr>\n",
       "      <th>...</th>\n",
       "      <td>...</td>\n",
       "      <td>...</td>\n",
       "      <td>...</td>\n",
       "      <td>...</td>\n",
       "    </tr>\n",
       "    <tr>\n",
       "      <th>809</th>\n",
       "      <td>810</td>\n",
       "      <td>In the case of (d)(i), will ALG1 or ALG2 be mo...</td>\n",
       "      <td>[Algorithm Design, Program Development]</td>\n",
       "      <td>LQ</td>\n",
       "    </tr>\n",
       "    <tr>\n",
       "      <th>810</th>\n",
       "      <td>811</td>\n",
       "      <td>What is the benefit of using an array to store...</td>\n",
       "      <td>[Algorithm Design]</td>\n",
       "      <td>LQ</td>\n",
       "    </tr>\n",
       "    <tr>\n",
       "      <th>811</th>\n",
       "      <td>812</td>\n",
       "      <td>There are different kinds of online shopping w...</td>\n",
       "      <td>[Database, Threats and Security on the Interne...</td>\n",
       "      <td>MC</td>\n",
       "    </tr>\n",
       "    <tr>\n",
       "      <th>812</th>\n",
       "      <td>813</td>\n",
       "      <td>A search engine can automatically the search r...</td>\n",
       "      <td>[Internet Services and Applications, Networkin...</td>\n",
       "      <td>MC</td>\n",
       "    </tr>\n",
       "    <tr>\n",
       "      <th>813</th>\n",
       "      <td>814</td>\n",
       "      <td>In the following diagram, X is a device for tr...</td>\n",
       "      <td>[Internet Services and Applications, Computer ...</td>\n",
       "      <td>MC</td>\n",
       "    </tr>\n",
       "  </tbody>\n",
       "</table>\n",
       "<p>806 rows × 4 columns</p>\n",
       "</div>"
      ],
      "text/plain": [
       "      id                                             String  \\\n",
       "0      1  Which of the following are components of an in...   \n",
       "1      2  Which of the following is an example of data c...   \n",
       "2      3  Which of the following personnels is responsib...   \n",
       "3      4  Which of the following is not a valid way to i...   \n",
       "4      5  Which of the following is/are (a) method(s) of...   \n",
       "..   ...                                                ...   \n",
       "809  810  In the case of (d)(i), will ALG1 or ALG2 be mo...   \n",
       "810  811  What is the benefit of using an array to store...   \n",
       "811  812  There are different kinds of online shopping w...   \n",
       "812  813  A search engine can automatically the search r...   \n",
       "813  814  In the following diagram, X is a device for tr...   \n",
       "\n",
       "                                                 topic type  \n",
       "0             [Introduction to Information Processing]   MC  \n",
       "1             [Introduction to Information Processing]   MC  \n",
       "2             [Introduction to Information Processing]   MC  \n",
       "3             [Introduction to Information Processing]   MC  \n",
       "4                 [Data Organisation and Data Control]   MC  \n",
       "..                                                 ...  ...  \n",
       "809            [Algorithm Design, Program Development]   LQ  \n",
       "810                                 [Algorithm Design]   LQ  \n",
       "811  [Database, Threats and Security on the Interne...   MC  \n",
       "812  [Internet Services and Applications, Networkin...   MC  \n",
       "813  [Internet Services and Applications, Computer ...   MC  \n",
       "\n",
       "[806 rows x 4 columns]"
      ]
     },
     "execution_count": 8,
     "metadata": {},
     "output_type": "execute_result"
    }
   ],
   "source": [
    "Qdata_frame"
   ]
  },
  {
   "cell_type": "code",
   "execution_count": 9,
   "metadata": {},
   "outputs": [],
   "source": [
    "class_dict = {\n",
    "'Algorithm Design': \"Algorithm Design\", \n",
    "'Communication Software and Protocols': \"Networking and Internet Basics\", \n",
    "'Computer System': \"Computer System\", \n",
    "'Data Manipulation and Analysis': \"Data Manipulation and Analysis\", \n",
    "'Data Organisation and Data Control': \"Data Organisation and Data Control\", \n",
    "'Database': \"Spreadsheets and Databases\", \n",
    "'Elementary Web Authoring': \"Elementary Web Authoring\", \n",
    "'Health and Ethical Issues': \"Health and Ethical Issues\", \n",
    "'Input and Output Devices': \"Basic Machine Organisation\", \n",
    "'Intellectual Property': \"Intellectual Property\", \n",
    "'Internet Services and Applications': \"Internet Services and Applications\", \n",
    "'Introduction to HTML': \"Elementary Web Authoring\", \n",
    "'Introduction to Information Processing': \"Information Processing\", \n",
    "'Multimedia Elements': \"Multimedia Elements\", \n",
    "'Number System': \"Data Organisation and Data Control\", \n",
    "'Problem- Formulation and Analysis': \"Program Development\", \n",
    "'Program Development': \"Program Development\", \n",
    "'Program Testing and Debugging': \"Program Development\", \n",
    "'Secondary Storage Devices': \"Basic Machine Organisation\", \n",
    "'Spreadsheet': \"Spreadsheets and Databases\", \n",
    "'System Software': \"Computer System\", \n",
    "'Networking and Internet Basics': 'Networking and Internet Basics',\n",
    "'System Unit of a Computer System': \"Basic Machine Organisation\", \n",
    "'The Networking and Internet Basics': \"Networking and Internet Basics\", \n",
    "'Threats and Security on the Internet': \"Threats and Security on the Internet\", \n",
    "'Word Presentation': \"Data Manipulation and Analysis\"}"
   ]
  },
  {
   "cell_type": "code",
   "execution_count": 18,
   "metadata": {},
   "outputs": [
    {
     "name": "stderr",
     "output_type": "stream",
     "text": [
      "C:\\Users\\user\\AppData\\Local\\Temp\\ipykernel_27860\\1669245357.py:1: SettingWithCopyWarning: \n",
      "A value is trying to be set on a copy of a slice from a DataFrame.\n",
      "Try using .loc[row_indexer,col_indexer] = value instead\n",
      "\n",
      "See the caveats in the documentation: https://pandas.pydata.org/pandas-docs/stable/user_guide/indexing.html#returning-a-view-versus-a-copy\n",
      "  Qdata_frame['newTopic'] = Qdata_frame['topic'].apply(lambda topics: [class_dict[topic] for topic in topics])\n"
     ]
    }
   ],
   "source": [
    "Qdata_frame['newTopic'] = Qdata_frame['topic'].apply(lambda topics: [class_dict[topic] for topic in topics])"
   ]
  },
  {
   "cell_type": "code",
   "execution_count": 19,
   "metadata": {},
   "outputs": [
    {
     "data": {
      "text/html": [
       "<div>\n",
       "<style scoped>\n",
       "    .dataframe tbody tr th:only-of-type {\n",
       "        vertical-align: middle;\n",
       "    }\n",
       "\n",
       "    .dataframe tbody tr th {\n",
       "        vertical-align: top;\n",
       "    }\n",
       "\n",
       "    .dataframe thead th {\n",
       "        text-align: right;\n",
       "    }\n",
       "</style>\n",
       "<table border=\"1\" class=\"dataframe\">\n",
       "  <thead>\n",
       "    <tr style=\"text-align: right;\">\n",
       "      <th></th>\n",
       "      <th>id</th>\n",
       "      <th>String</th>\n",
       "      <th>topic</th>\n",
       "      <th>type</th>\n",
       "      <th>newTopic</th>\n",
       "    </tr>\n",
       "  </thead>\n",
       "  <tbody>\n",
       "    <tr>\n",
       "      <th>0</th>\n",
       "      <td>1</td>\n",
       "      <td>Which of the following are components of an in...</td>\n",
       "      <td>[Introduction to Information Processing]</td>\n",
       "      <td>MC</td>\n",
       "      <td>[Information Processing]</td>\n",
       "    </tr>\n",
       "    <tr>\n",
       "      <th>1</th>\n",
       "      <td>2</td>\n",
       "      <td>Which of the following is an example of data c...</td>\n",
       "      <td>[Introduction to Information Processing]</td>\n",
       "      <td>MC</td>\n",
       "      <td>[Information Processing]</td>\n",
       "    </tr>\n",
       "    <tr>\n",
       "      <th>2</th>\n",
       "      <td>3</td>\n",
       "      <td>Which of the following personnels is responsib...</td>\n",
       "      <td>[Introduction to Information Processing]</td>\n",
       "      <td>MC</td>\n",
       "      <td>[Information Processing]</td>\n",
       "    </tr>\n",
       "    <tr>\n",
       "      <th>3</th>\n",
       "      <td>4</td>\n",
       "      <td>Which of the following is not a valid way to i...</td>\n",
       "      <td>[Introduction to Information Processing]</td>\n",
       "      <td>MC</td>\n",
       "      <td>[Information Processing]</td>\n",
       "    </tr>\n",
       "    <tr>\n",
       "      <th>4</th>\n",
       "      <td>5</td>\n",
       "      <td>Which of the following is/are (a) method(s) of...</td>\n",
       "      <td>[Data Organisation and Data Control]</td>\n",
       "      <td>MC</td>\n",
       "      <td>[Data Organisation and Data Control]</td>\n",
       "    </tr>\n",
       "  </tbody>\n",
       "</table>\n",
       "</div>"
      ],
      "text/plain": [
       "   id                                             String  \\\n",
       "0   1  Which of the following are components of an in...   \n",
       "1   2  Which of the following is an example of data c...   \n",
       "2   3  Which of the following personnels is responsib...   \n",
       "3   4  Which of the following is not a valid way to i...   \n",
       "4   5  Which of the following is/are (a) method(s) of...   \n",
       "\n",
       "                                      topic type  \\\n",
       "0  [Introduction to Information Processing]   MC   \n",
       "1  [Introduction to Information Processing]   MC   \n",
       "2  [Introduction to Information Processing]   MC   \n",
       "3  [Introduction to Information Processing]   MC   \n",
       "4      [Data Organisation and Data Control]   MC   \n",
       "\n",
       "                               newTopic  \n",
       "0              [Information Processing]  \n",
       "1              [Information Processing]  \n",
       "2              [Information Processing]  \n",
       "3              [Information Processing]  \n",
       "4  [Data Organisation and Data Control]  "
      ]
     },
     "execution_count": 19,
     "metadata": {},
     "output_type": "execute_result"
    }
   ],
   "source": [
    "Qdata_frame[:5]"
   ]
  },
  {
   "cell_type": "code",
   "execution_count": 12,
   "metadata": {},
   "outputs": [],
   "source": [
    "# labelling\n",
    "from sklearn.preprocessing import MultiLabelBinarizer\n",
    "mlb = MultiLabelBinarizer()\n",
    "Qdf = Qdata_frame.join(pd.DataFrame(mlb.fit_transform(Qdata_frame['newTopic']), columns=mlb.classes_))"
   ]
  },
  {
   "cell_type": "code",
   "execution_count": 13,
   "metadata": {},
   "outputs": [],
   "source": [
    "# split the train, test, and validation data\n",
    "import sklearn\n",
    "from sklearn.model_selection import train_test_split\n",
    "\n",
    "Qdf_train, Qdf_remain = train_test_split(Qdf, train_size=0.8)\n",
    "Qdf_valid, Qdf_test = train_test_split(Qdf_remain, test_size=0.5)"
   ]
  },
  {
   "cell_type": "code",
   "execution_count": 14,
   "metadata": {},
   "outputs": [
    {
     "data": {
      "text/plain": [
       "(644, 20)"
      ]
     },
     "execution_count": 14,
     "metadata": {},
     "output_type": "execute_result"
    }
   ],
   "source": [
    "Qdf_train.shape"
   ]
  },
  {
   "cell_type": "code",
   "execution_count": 15,
   "metadata": {},
   "outputs": [
    {
     "data": {
      "text/plain": [
       "(81, 20)"
      ]
     },
     "execution_count": 15,
     "metadata": {},
     "output_type": "execute_result"
    }
   ],
   "source": [
    "Qdf_test.shape"
   ]
  },
  {
   "cell_type": "code",
   "execution_count": 16,
   "metadata": {},
   "outputs": [
    {
     "data": {
      "text/plain": [
       "(81, 20)"
      ]
     },
     "execution_count": 16,
     "metadata": {},
     "output_type": "execute_result"
    }
   ],
   "source": [
    "Qdf_valid.shape"
   ]
  },
  {
   "cell_type": "code",
   "execution_count": null,
   "metadata": {},
   "outputs": [],
   "source": [
    "# change to hugging face dataset type\n",
    "trainDS = Dataset.from_pandas(Qdf_train)\n",
    "validDS = Dataset.from_pandas(Qdf_valid)\n",
    "testDS = Dataset.from_pandas(Qdf_test)\n",
    "ds = DatasetDict()\n",
    "ds[\"train\"] = trainDS\n",
    "ds[\"valid\"] = validDS\n",
    "ds[\"test\"] = testDS\n",
    "\n",
    "labels_original = [label for label in ds['train'].features.keys() if label not in ['Unnamed: 0', 'String', '__index_level_0__']]"
   ]
  },
  {
   "cell_type": "code",
   "execution_count": null,
   "metadata": {},
   "outputs": [],
   "source": [
    "Qdf[labels_original].drop([\"id\", \"type\", \"topic\", \"newTopic\"], axis=1).sum().sort_values()"
   ]
  },
  {
   "cell_type": "code",
   "execution_count": null,
   "metadata": {},
   "outputs": [],
   "source": [
    "Qdf_train[labels_original].drop([\"id\", \"type\", \"topic\", \"newTopic\"], axis=1).sum().sort_values()"
   ]
  },
  {
   "cell_type": "code",
   "execution_count": null,
   "metadata": {},
   "outputs": [],
   "source": [
    "Qdf_train[labels_original].drop([\"id\", \"type\", \"topic\", \"newTopic\"], axis=1).sum().sort_values().plot.bar()"
   ]
  },
  {
   "cell_type": "code",
   "execution_count": null,
   "metadata": {},
   "outputs": [],
   "source": [
    "Qdf_valid[labels_original].drop([\"id\", \"type\", \"topic\", \"newTopic\"], axis=1).sum().sort_values().plot.bar()"
   ]
  },
  {
   "cell_type": "code",
   "execution_count": null,
   "metadata": {},
   "outputs": [],
   "source": [
    "Qdf_valid[labels_original].drop([\"id\", \"type\", \"topic\", \"newTopic\"], axis=1).sum().sort_values()"
   ]
  },
  {
   "cell_type": "code",
   "execution_count": null,
   "metadata": {},
   "outputs": [],
   "source": [
    "Qdf_test[labels_original].drop([\"id\", \"type\", \"topic\", \"newTopic\"], axis=1).sum().sort_values().plot.bar()"
   ]
  },
  {
   "cell_type": "code",
   "execution_count": null,
   "metadata": {},
   "outputs": [],
   "source": [
    "Qdf_test[labels_original].drop([\"id\", \"type\", \"topic\", \"newTopic\"], axis=1).sum().sort_values()"
   ]
  },
  {
   "cell_type": "code",
   "execution_count": null,
   "metadata": {},
   "outputs": [],
   "source": [
    "#  clear not used columns\n",
    "columns = ds.column_names\n",
    "columns_toRemove = [\"id\", \"type\", \"topic\", \"newTopic\"]\n",
    "new_ds = ds.remove_columns(columns_toRemove)\n",
    "print(new_ds)\n"
   ]
  },
  {
   "cell_type": "code",
   "execution_count": null,
   "metadata": {},
   "outputs": [],
   "source": [
    "labels_original = [label for label in new_ds['train'].features.keys() if label not in ['Unnamed: 0', 'String', '__index_level_0__']]"
   ]
  },
  {
   "cell_type": "code",
   "execution_count": null,
   "metadata": {},
   "outputs": [],
   "source": [
    "labels_original"
   ]
  },
  {
   "cell_type": "code",
   "execution_count": null,
   "metadata": {},
   "outputs": [],
   "source": [
    "# extract the labels\n",
    "labels_original\n",
    "id2label = {idx:label for idx, label in enumerate(labels_original)}\n",
    "label2id = {label:idx for idx, label in enumerate(labels_original)}"
   ]
  },
  {
   "cell_type": "code",
   "execution_count": null,
   "metadata": {},
   "outputs": [],
   "source": [
    "import matplotlib.pyplot as plt\n",
    "Qdf[labels_original].sum().plot.bar()"
   ]
  },
  {
   "cell_type": "code",
   "execution_count": null,
   "metadata": {},
   "outputs": [],
   "source": [
    "#new_ds.save_to_disk('./encoded_data3_070')"
   ]
  }
 ],
 "metadata": {
  "kernelspec": {
   "display_name": "venv",
   "language": "python",
   "name": "python3"
  },
  "language_info": {
   "codemirror_mode": {
    "name": "ipython",
    "version": 3
   },
   "file_extension": ".py",
   "mimetype": "text/x-python",
   "name": "python",
   "nbconvert_exporter": "python",
   "pygments_lexer": "ipython3",
   "version": "3.8.10"
  },
  "orig_nbformat": 4,
  "vscode": {
   "interpreter": {
    "hash": "e32da21edddcaf775c480ccd7b569f19fc9b1c5c20d607727913c5339e7adca8"
   }
  }
 },
 "nbformat": 4,
 "nbformat_minor": 2
}
