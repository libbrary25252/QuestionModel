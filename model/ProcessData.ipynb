{
 "cells": [
  {
   "attachments": {},
   "cell_type": "markdown",
   "metadata": {},
   "source": [
    "# Proprocessing dataset"
   ]
  },
  {
   "cell_type": "code",
   "execution_count": 2,
   "metadata": {},
   "outputs": [
    {
     "name": "stderr",
     "output_type": "stream",
     "text": [
      "c:\\Users\\user\\Desktop\\QuestionQuestionModel\\venv\\lib\\site-packages\\tqdm\\auto.py:22: TqdmWarning: IProgress not found. Please update jupyter and ipywidgets. See https://ipywidgets.readthedocs.io/en/stable/user_install.html\n",
      "  from .autonotebook import tqdm as notebook_tqdm\n"
     ]
    }
   ],
   "source": [
    "import pandas as pd\n",
    "import datasets\n",
    "from datasets import load_dataset, Dataset, DatasetDict\n",
    "\n",
    "Qdata_frame = pd.read_csv('../dataset/train3_v3.csv')\n"
   ]
  },
  {
   "cell_type": "code",
   "execution_count": 3,
   "metadata": {},
   "outputs": [],
   "source": [
    "Qdata_frame['topic'] = Qdata_frame['topic'].apply(lambda x: x.strip().split(', '))"
   ]
  },
  {
   "cell_type": "code",
   "execution_count": 5,
   "metadata": {},
   "outputs": [],
   "source": [
    "class_dict = {\n",
    "'Algorithm Design': \"Algorithm Design\", \n",
    "'Communication Software and Protocols': \"Networking and Internet Basics\", \n",
    "'Computer System': \"Computer System\", \n",
    "'Data Manipulation and Analysis': \"Data Manipulation and Analysis\", \n",
    "'Data Organisation and Data Control': \"Data Organisation and Data Control\", \n",
    "'Database': \"Data Manipulation and Analysis\", \n",
    "'Elementary Web Authoring': \"Elementary Web Authoring\", \n",
    "'Health and Ethical Issues': \"Health and Ethical Issues\", \n",
    "'Input and Output Devices': \"Basic Machine Organisation\", \n",
    "'Intellectual Property': \"Intellectual Property\", \n",
    "'Internet Services and Applications': \"Internet Services and Applications\", \n",
    "'Introduction to HTML': \"Elementary Web Authoring\", \n",
    "'Introduction to Information Processing': \"Information Processing\", \n",
    "'Multimedia Elements': \"Multimedia Elements\", \n",
    "'Number System': \"Data Organisation and Data Control\", \n",
    "'Problem- Formulation and Analysis': \"Program Development\", \n",
    "'Program Development': \"Program Development\", \n",
    "'Program Testing and Debugging': \"Program Development\", \n",
    "'Secondary Storage Devices': \"Basic Machine Organisation\", \n",
    "'Spreadsheet': \"Data Manipulation and Analysis\", \n",
    "'System Software': \"Computer System\", \n",
    "'Networking and Internet Basics': 'Networking and Internet Basics',\n",
    "'System Unit of a Computer System': \"Basic Machine Organisation\", \n",
    "'The Networking and Internet Basics': \"Networking and Internet Basics\", \n",
    "'Threats and Security on the Internet': \"Threats and Security on the Internet\", \n",
    "'Word Presentation': \"Data Manipulation and Analysis\"}"
   ]
  },
  {
   "cell_type": "code",
   "execution_count": 6,
   "metadata": {},
   "outputs": [],
   "source": [
    "Qdata_frame['newTopic'] = Qdata_frame['topic'].apply(lambda topics: [class_dict[topic] for topic in topics])"
   ]
  },
  {
   "cell_type": "code",
   "execution_count": 7,
   "metadata": {},
   "outputs": [
    {
     "data": {
      "text/html": [
       "<div>\n",
       "<style scoped>\n",
       "    .dataframe tbody tr th:only-of-type {\n",
       "        vertical-align: middle;\n",
       "    }\n",
       "\n",
       "    .dataframe tbody tr th {\n",
       "        vertical-align: top;\n",
       "    }\n",
       "\n",
       "    .dataframe thead th {\n",
       "        text-align: right;\n",
       "    }\n",
       "</style>\n",
       "<table border=\"1\" class=\"dataframe\">\n",
       "  <thead>\n",
       "    <tr style=\"text-align: right;\">\n",
       "      <th></th>\n",
       "      <th>id</th>\n",
       "      <th>String</th>\n",
       "      <th>topic</th>\n",
       "      <th>type</th>\n",
       "      <th>newTopic</th>\n",
       "    </tr>\n",
       "  </thead>\n",
       "  <tbody>\n",
       "    <tr>\n",
       "      <th>0</th>\n",
       "      <td>1</td>\n",
       "      <td>Which of the following are components of an in...</td>\n",
       "      <td>[Introduction to Information Processing]</td>\n",
       "      <td>MC</td>\n",
       "      <td>[Information Processing]</td>\n",
       "    </tr>\n",
       "    <tr>\n",
       "      <th>1</th>\n",
       "      <td>2</td>\n",
       "      <td>Which of the following is an example of data c...</td>\n",
       "      <td>[Introduction to Information Processing]</td>\n",
       "      <td>MC</td>\n",
       "      <td>[Information Processing]</td>\n",
       "    </tr>\n",
       "    <tr>\n",
       "      <th>2</th>\n",
       "      <td>3</td>\n",
       "      <td>Which of the following personnels is responsib...</td>\n",
       "      <td>[Introduction to Information Processing]</td>\n",
       "      <td>MC</td>\n",
       "      <td>[Information Processing]</td>\n",
       "    </tr>\n",
       "    <tr>\n",
       "      <th>3</th>\n",
       "      <td>4</td>\n",
       "      <td>Which of the following is not a valid way to i...</td>\n",
       "      <td>[Introduction to Information Processing]</td>\n",
       "      <td>MC</td>\n",
       "      <td>[Information Processing]</td>\n",
       "    </tr>\n",
       "    <tr>\n",
       "      <th>4</th>\n",
       "      <td>5</td>\n",
       "      <td>Which of the following is/are (a) method(s) of...</td>\n",
       "      <td>[Data Organisation and Data Control]</td>\n",
       "      <td>MC</td>\n",
       "      <td>[Data Organisation and Data Control]</td>\n",
       "    </tr>\n",
       "    <tr>\n",
       "      <th>...</th>\n",
       "      <td>...</td>\n",
       "      <td>...</td>\n",
       "      <td>...</td>\n",
       "      <td>...</td>\n",
       "      <td>...</td>\n",
       "    </tr>\n",
       "    <tr>\n",
       "      <th>433</th>\n",
       "      <td>434</td>\n",
       "      <td>When placing a table in a web which of the fol...</td>\n",
       "      <td>[Introduction to HTML]</td>\n",
       "      <td>MC</td>\n",
       "      <td>[Elementary Web Authoring]</td>\n",
       "    </tr>\n",
       "    <tr>\n",
       "      <th>434</th>\n",
       "      <td>435</td>\n",
       "      <td>A simple web page is shown below. Which ofthe ...</td>\n",
       "      <td>[Introduction to HTML]</td>\n",
       "      <td>MC</td>\n",
       "      <td>[Elementary Web Authoring]</td>\n",
       "    </tr>\n",
       "    <tr>\n",
       "      <th>435</th>\n",
       "      <td>436</td>\n",
       "      <td>Betty buys a voice recognition dictionary mobi...</td>\n",
       "      <td>[Input and Output Devices]</td>\n",
       "      <td>MC</td>\n",
       "      <td>[Basic Machine Organisation]</td>\n",
       "    </tr>\n",
       "    <tr>\n",
       "      <th>436</th>\n",
       "      <td>437</td>\n",
       "      <td>Study the following web page:. Which of the fo...</td>\n",
       "      <td>[Introduction to HTML]</td>\n",
       "      <td>MC</td>\n",
       "      <td>[Elementary Web Authoring]</td>\n",
       "    </tr>\n",
       "    <tr>\n",
       "      <th>437</th>\n",
       "      <td>438</td>\n",
       "      <td>In HTML, which of the following are the attrib...</td>\n",
       "      <td>[Introduction to HTML]</td>\n",
       "      <td>MC</td>\n",
       "      <td>[Elementary Web Authoring]</td>\n",
       "    </tr>\n",
       "  </tbody>\n",
       "</table>\n",
       "<p>438 rows × 5 columns</p>\n",
       "</div>"
      ],
      "text/plain": [
       "      id                                             String  \\\n",
       "0      1  Which of the following are components of an in...   \n",
       "1      2  Which of the following is an example of data c...   \n",
       "2      3  Which of the following personnels is responsib...   \n",
       "3      4  Which of the following is not a valid way to i...   \n",
       "4      5  Which of the following is/are (a) method(s) of...   \n",
       "..   ...                                                ...   \n",
       "433  434  When placing a table in a web which of the fol...   \n",
       "434  435  A simple web page is shown below. Which ofthe ...   \n",
       "435  436  Betty buys a voice recognition dictionary mobi...   \n",
       "436  437  Study the following web page:. Which of the fo...   \n",
       "437  438  In HTML, which of the following are the attrib...   \n",
       "\n",
       "                                        topic type  \\\n",
       "0    [Introduction to Information Processing]   MC   \n",
       "1    [Introduction to Information Processing]   MC   \n",
       "2    [Introduction to Information Processing]   MC   \n",
       "3    [Introduction to Information Processing]   MC   \n",
       "4        [Data Organisation and Data Control]   MC   \n",
       "..                                        ...  ...   \n",
       "433                    [Introduction to HTML]   MC   \n",
       "434                    [Introduction to HTML]   MC   \n",
       "435                [Input and Output Devices]   MC   \n",
       "436                    [Introduction to HTML]   MC   \n",
       "437                    [Introduction to HTML]   MC   \n",
       "\n",
       "                                 newTopic  \n",
       "0                [Information Processing]  \n",
       "1                [Information Processing]  \n",
       "2                [Information Processing]  \n",
       "3                [Information Processing]  \n",
       "4    [Data Organisation and Data Control]  \n",
       "..                                    ...  \n",
       "433            [Elementary Web Authoring]  \n",
       "434            [Elementary Web Authoring]  \n",
       "435          [Basic Machine Organisation]  \n",
       "436            [Elementary Web Authoring]  \n",
       "437            [Elementary Web Authoring]  \n",
       "\n",
       "[438 rows x 5 columns]"
      ]
     },
     "execution_count": 7,
     "metadata": {},
     "output_type": "execute_result"
    }
   ],
   "source": [
    "Qdata_frame"
   ]
  },
  {
   "cell_type": "code",
   "execution_count": 8,
   "metadata": {},
   "outputs": [],
   "source": [
    "# labelling\n",
    "from sklearn.preprocessing import MultiLabelBinarizer\n",
    "mlb = MultiLabelBinarizer()\n",
    "Qdf = Qdata_frame.join(pd.DataFrame(mlb.fit_transform(Qdata_frame['newTopic']), columns=mlb.classes_))"
   ]
  },
  {
   "cell_type": "code",
   "execution_count": 41,
   "metadata": {},
   "outputs": [],
   "source": [
    "Qdf.to_csv(r'../dataset/train3_clean_v3.csv')"
   ]
  },
  {
   "cell_type": "code",
   "execution_count": 39,
   "metadata": {},
   "outputs": [],
   "source": [
    "Qdata_Cleanframe = pd.read_csv('../dataset/train3_clean_v3.csv')"
   ]
  },
  {
   "cell_type": "code",
   "execution_count": 40,
   "metadata": {},
   "outputs": [
    {
     "data": {
      "text/plain": [
       "63"
      ]
     },
     "execution_count": 40,
     "metadata": {},
     "output_type": "execute_result"
    }
   ],
   "source": [
    "max(Qdata_Cleanframe['String'].map(lambda x: len(x.split(' '))))"
   ]
  },
  {
   "cell_type": "code",
   "execution_count": 87,
   "metadata": {},
   "outputs": [],
   "source": [
    "# split the train, test, and validation data\n",
    "import sklearn\n",
    "from sklearn.model_selection import train_test_split\n",
    "\n",
    "Qdf_train, Qdf_remain = train_test_split(Qdata_Cleanframe, train_size=0.8, shuffle=True)\n",
    "Qdf_valid, Qdf_test = train_test_split(Qdf_remain, test_size=0.5, shuffle=True)"
   ]
  },
  {
   "cell_type": "code",
   "execution_count": null,
   "metadata": {},
   "outputs": [],
   "source": []
  },
  {
   "cell_type": "code",
   "execution_count": 45,
   "metadata": {},
   "outputs": [
    {
     "data": {
      "text/plain": [
       "(350, 20)"
      ]
     },
     "execution_count": 45,
     "metadata": {},
     "output_type": "execute_result"
    }
   ],
   "source": [
    "Qdf_train.shape"
   ]
  },
  {
   "cell_type": "code",
   "execution_count": 46,
   "metadata": {},
   "outputs": [
    {
     "data": {
      "text/plain": [
       "(44, 20)"
      ]
     },
     "execution_count": 46,
     "metadata": {},
     "output_type": "execute_result"
    }
   ],
   "source": [
    "Qdf_test.shape"
   ]
  },
  {
   "cell_type": "code",
   "execution_count": 47,
   "metadata": {},
   "outputs": [
    {
     "data": {
      "text/plain": [
       "(44, 20)"
      ]
     },
     "execution_count": 47,
     "metadata": {},
     "output_type": "execute_result"
    }
   ],
   "source": [
    "Qdf_valid.shape"
   ]
  },
  {
   "cell_type": "code",
   "execution_count": 88,
   "metadata": {},
   "outputs": [],
   "source": [
    "# change to hugging face dataset type\n",
    "trainDS = Dataset.from_pandas(Qdf_train)\n",
    "validDS = Dataset.from_pandas(Qdf_valid)\n",
    "testDS = Dataset.from_pandas(Qdf_test)\n",
    "ds = DatasetDict()\n",
    "ds[\"train\"] = trainDS\n",
    "ds[\"valid\"] = validDS\n",
    "ds[\"test\"] = testDS\n",
    "\n",
    "labels_original = [label for label in ds['train'].features.keys() if label not in ['Unnamed: 0', 'String', '__index_level_0__']]"
   ]
  },
  {
   "cell_type": "code",
   "execution_count": 89,
   "metadata": {},
   "outputs": [
    {
     "data": {
      "text/plain": [
       "Elementary Web Authoring                13\n",
       "Information Processing                  15\n",
       "Health and Ethical Issues               18\n",
       "Intellectual Property                   18\n",
       "Internet Services and Applications      19\n",
       "Computer System                         21\n",
       "Multimedia Elements                     24\n",
       "Threats and Security on the Internet    34\n",
       "Networking and Internet Basics          40\n",
       "Data Organisation and Data Control      47\n",
       "Algorithm Design                        48\n",
       "Program Development                     48\n",
       "Basic Machine Organisation              56\n",
       "Data Manipulation and Analysis          83\n",
       "dtype: int64"
      ]
     },
     "execution_count": 89,
     "metadata": {},
     "output_type": "execute_result"
    }
   ],
   "source": [
    "Qdata_Cleanframe2 = Qdata_Cleanframe\n",
    "Qdata_Cleanframe2[labels_original].drop([\"id\", \"type\", \"topic\", \"newTopic\"], axis=1).sum().sort_values()"
   ]
  },
  {
   "cell_type": "code",
   "execution_count": 90,
   "metadata": {},
   "outputs": [
    {
     "data": {
      "text/plain": [
       "Information Processing                   9\n",
       "Elementary Web Authoring                11\n",
       "Intellectual Property                   12\n",
       "Internet Services and Applications      12\n",
       "Computer System                         15\n",
       "Health and Ethical Issues               15\n",
       "Multimedia Elements                     19\n",
       "Threats and Security on the Internet    29\n",
       "Networking and Internet Basics          33\n",
       "Data Organisation and Data Control      39\n",
       "Algorithm Design                        41\n",
       "Program Development                     41\n",
       "Basic Machine Organisation              49\n",
       "Data Manipulation and Analysis          64\n",
       "dtype: int64"
      ]
     },
     "execution_count": 90,
     "metadata": {},
     "output_type": "execute_result"
    }
   ],
   "source": [
    "Qdf_train[labels_original].drop([\"id\", \"type\", \"topic\", \"newTopic\"], axis=1).sum().sort_values()"
   ]
  },
  {
   "cell_type": "code",
   "execution_count": 46,
   "metadata": {},
   "outputs": [
    {
     "data": {
      "text/plain": [
       "<AxesSubplot: >"
      ]
     },
     "execution_count": 46,
     "metadata": {},
     "output_type": "execute_result"
    },
    {
     "data": {
      "image/png": "[encoded data removed]",
      "text/plain": [
       "<Figure size 640x480 with 1 Axes>"
      ]
     },
     "metadata": {},
     "output_type": "display_data"
    }
   ],
   "source": [
    "Qdf_train[labels_original].drop([\"id\", \"type\", \"topic\", \"newTopic\"], axis=1).sum().sort_values().plot.bar()"
   ]
  },
  {
   "cell_type": "code",
   "execution_count": 64,
   "metadata": {},
   "outputs": [
    {
     "data": {
      "text/plain": [
       "<AxesSubplot: >"
      ]
     },
     "execution_count": 64,
     "metadata": {},
     "output_type": "execute_result"
    },
    {
     "data": {
      "image/png": "[encoded data removed]",
      "text/plain": [
       "<Figure size 640x480 with 1 Axes>"
      ]
     },
     "metadata": {},
     "output_type": "display_data"
    }
   ],
   "source": [
    "Qdf_valid[labels_original].drop([\"id\", \"type\", \"topic\", \"newTopic\"], axis=1).sum().sort_values().plot.bar()"
   ]
  },
  {
   "cell_type": "code",
   "execution_count": 91,
   "metadata": {},
   "outputs": [
    {
     "data": {
      "text/plain": [
       "Information Processing                  0\n",
       "Elementary Web Authoring                1\n",
       "Program Development                     1\n",
       "Algorithm Design                        2\n",
       "Data Organisation and Data Control      2\n",
       "Health and Ethical Issues               2\n",
       "Multimedia Elements                     2\n",
       "Threats and Security on the Internet    2\n",
       "Computer System                         4\n",
       "Basic Machine Organisation              5\n",
       "Intellectual Property                   5\n",
       "Internet Services and Applications      5\n",
       "Networking and Internet Basics          7\n",
       "Data Manipulation and Analysis          9\n",
       "dtype: int64"
      ]
     },
     "execution_count": 91,
     "metadata": {},
     "output_type": "execute_result"
    }
   ],
   "source": [
    "Qdf_valid[labels_original].drop([\"id\", \"type\", \"topic\", \"newTopic\"], axis=1).sum().sort_values()"
   ]
  },
  {
   "cell_type": "code",
   "execution_count": 73,
   "metadata": {},
   "outputs": [
    {
     "data": {
      "text/plain": [
       "<AxesSubplot: >"
      ]
     },
     "execution_count": 73,
     "metadata": {},
     "output_type": "execute_result"
    },
    {
     "data": {
      "image/png": "[encoded data removed]",
      "text/plain": [
       "<Figure size 640x480 with 1 Axes>"
      ]
     },
     "metadata": {},
     "output_type": "display_data"
    }
   ],
   "source": [
    "Qdf_test[labels_original].drop([\"id\", \"type\", \"topic\", \"newTopic\"], axis=1).sum().sort_values().plot.bar()"
   ]
  },
  {
   "cell_type": "code",
   "execution_count": 92,
   "metadata": {},
   "outputs": [
    {
     "data": {
      "text/plain": [
       "Networking and Internet Basics           0\n",
       "Elementary Web Authoring                 1\n",
       "Health and Ethical Issues                1\n",
       "Intellectual Property                    1\n",
       "Basic Machine Organisation               2\n",
       "Computer System                          2\n",
       "Internet Services and Applications       2\n",
       "Multimedia Elements                      3\n",
       "Threats and Security on the Internet     3\n",
       "Algorithm Design                         5\n",
       "Data Organisation and Data Control       6\n",
       "Information Processing                   6\n",
       "Program Development                      6\n",
       "Data Manipulation and Analysis          10\n",
       "dtype: int64"
      ]
     },
     "execution_count": 92,
     "metadata": {},
     "output_type": "execute_result"
    }
   ],
   "source": [
    "Qdf_test[labels_original].drop([\"id\", \"type\", \"topic\", \"newTopic\"], axis=1).sum().sort_values()"
   ]
  },
  {
   "cell_type": "code",
   "execution_count": 30,
   "metadata": {},
   "outputs": [
    {
     "name": "stdout",
     "output_type": "stream",
     "text": [
      "DatasetDict({\n",
      "    train: Dataset({\n",
      "        features: ['Unnamed: 0', 'String', 'Algorithm Design', 'Basic Machine Organisation', 'Computer System', 'Data Manipulation and Analysis', 'Data Organisation and Data Control', 'Elementary Web Authoring', 'Health and Ethical Issues', 'Information Processing', 'Intellectual Property', 'Internet Services and Applications', 'Multimedia Elements', 'Networking and Internet Basics', 'Program Development', 'Threats and Security on the Internet', '__index_level_0__'],\n",
      "        num_rows: 350\n",
      "    })\n",
      "    valid: Dataset({\n",
      "        features: ['Unnamed: 0', 'String', 'Algorithm Design', 'Basic Machine Organisation', 'Computer System', 'Data Manipulation and Analysis', 'Data Organisation and Data Control', 'Elementary Web Authoring', 'Health and Ethical Issues', 'Information Processing', 'Intellectual Property', 'Internet Services and Applications', 'Multimedia Elements', 'Networking and Internet Basics', 'Program Development', 'Threats and Security on the Internet', '__index_level_0__'],\n",
      "        num_rows: 44\n",
      "    })\n",
      "    test: Dataset({\n",
      "        features: ['Unnamed: 0', 'String', 'Algorithm Design', 'Basic Machine Organisation', 'Computer System', 'Data Manipulation and Analysis', 'Data Organisation and Data Control', 'Elementary Web Authoring', 'Health and Ethical Issues', 'Information Processing', 'Intellectual Property', 'Internet Services and Applications', 'Multimedia Elements', 'Networking and Internet Basics', 'Program Development', 'Threats and Security on the Internet', '__index_level_0__'],\n",
      "        num_rows: 44\n",
      "    })\n",
      "})\n"
     ]
    }
   ],
   "source": [
    "#  clear not used columns\n",
    "columns = ds.column_names\n",
    "columns_toRemove = [\"id\", \"type\", \"topic\", \"newTopic\"]\n",
    "new_ds = ds.remove_columns(columns_toRemove)\n",
    "print(new_ds)\n"
   ]
  },
  {
   "cell_type": "code",
   "execution_count": 31,
   "metadata": {},
   "outputs": [],
   "source": [
    "labels_original = [label for label in new_ds['train'].features.keys() if label not in ['Unnamed: 0', 'String', '__index_level_0__']]"
   ]
  },
  {
   "cell_type": "code",
   "execution_count": 32,
   "metadata": {},
   "outputs": [
    {
     "data": {
      "text/plain": [
       "['Algorithm Design',\n",
       " 'Basic Machine Organisation',\n",
       " 'Computer System',\n",
       " 'Data Manipulation and Analysis',\n",
       " 'Data Organisation and Data Control',\n",
       " 'Elementary Web Authoring',\n",
       " 'Health and Ethical Issues',\n",
       " 'Information Processing',\n",
       " 'Intellectual Property',\n",
       " 'Internet Services and Applications',\n",
       " 'Multimedia Elements',\n",
       " 'Networking and Internet Basics',\n",
       " 'Program Development',\n",
       " 'Threats and Security on the Internet']"
      ]
     },
     "execution_count": 32,
     "metadata": {},
     "output_type": "execute_result"
    }
   ],
   "source": [
    "labels_original"
   ]
  },
  {
   "cell_type": "code",
   "execution_count": 33,
   "metadata": {},
   "outputs": [],
   "source": [
    "# extract the labels\n",
    "labels_original\n",
    "id2label = {idx:label for idx, label in enumerate(labels_original)}\n",
    "label2id = {label:idx for idx, label in enumerate(labels_original)}"
   ]
  },
  {
   "cell_type": "code",
   "execution_count": 34,
   "metadata": {},
   "outputs": [
    {
     "data": {
      "text/plain": [
       "['Algorithm Design',\n",
       " 'Basic Machine Organisation',\n",
       " 'Computer System',\n",
       " 'Data Manipulation and Analysis',\n",
       " 'Data Organisation and Data Control',\n",
       " 'Elementary Web Authoring',\n",
       " 'Health and Ethical Issues',\n",
       " 'Information Processing',\n",
       " 'Intellectual Property',\n",
       " 'Internet Services and Applications',\n",
       " 'Multimedia Elements',\n",
       " 'Networking and Internet Basics',\n",
       " 'Program Development',\n",
       " 'Threats and Security on the Internet']"
      ]
     },
     "execution_count": 34,
     "metadata": {},
     "output_type": "execute_result"
    }
   ],
   "source": [
    "labels_original"
   ]
  },
  {
   "cell_type": "code",
   "execution_count": 130,
   "metadata": {},
   "outputs": [
    {
     "data": {
      "text/plain": [
       "<AxesSubplot: >"
      ]
     },
     "execution_count": 130,
     "metadata": {},
     "output_type": "execute_result"
    },
    {
     "data": {
      "image/png": "[encoded data removed]",
      "text/plain": [
       "<Figure size 640x480 with 1 Axes>"
      ]
     },
     "metadata": {},
     "output_type": "display_data"
    }
   ],
   "source": [
    "import matplotlib.pyplot as plt\n",
    "Qdata_Cleanframe[labels_original].sum().plot.bar()"
   ]
  },
  {
   "cell_type": "code",
   "execution_count": 35,
   "metadata": {},
   "outputs": [
    {
     "name": "stderr",
     "output_type": "stream",
     "text": [
      "                                                                                            \r"
     ]
    }
   ],
   "source": [
    "new_ds.save_to_disk('./encoded_data2_better')"
   ]
  },
  {
   "cell_type": "code",
   "execution_count": null,
   "metadata": {},
   "outputs": [],
   "source": []
  },
  {
   "cell_type": "code",
   "execution_count": 69,
   "metadata": {},
   "outputs": [
    {
     "name": "stderr",
     "output_type": "stream",
     "text": [
      "Downloading (…)solve/main/vocab.txt: 100%|██████████| 232k/232k [00:00<00:00, 258kB/s]\n",
      "c:\\Users\\user\\Desktop\\QuestionQuestionModel\\venv\\lib\\site-packages\\huggingface_hub\\file_download.py:129: UserWarning: `huggingface_hub` cache-system uses symlinks by default to efficiently store duplicated files but your machine does not support them in C:\\Users\\user\\.cache\\huggingface\\hub. Caching files will still work but in a degraded version that might require more space on your disk. This warning can be disabled by setting the `HF_HUB_DISABLE_SYMLINKS_WARNING` environment variable. For more details, see https://huggingface.co/docs/huggingface_hub/how-to-cache#limitations.\n",
      "To support symlinks on Windows, you either need to activate Developer Mode or to run Python as an administrator. In order to see activate developer mode, see this article: https://docs.microsoft.com/en-us/windows/apps/get-started/enable-your-device-for-development\n",
      "  warnings.warn(message)\n",
      "Downloading (…)okenizer_config.json: 100%|██████████| 28.0/28.0 [00:00<00:00, 5.64kB/s]\n",
      "Downloading (…)lve/main/config.json: 100%|██████████| 483/483 [00:00<00:00, 121kB/s]\n"
     ]
    }
   ],
   "source": [
    "from transformers import DistilBertTokenizer, DistilBertForSequenceClassification\n",
    "import numpy as np\n",
    "\n",
    "tokenizer = DistilBertTokenizer.from_pretrained(\"distilbert-base-uncased\")"
   ]
  },
  {
   "cell_type": "code",
   "execution_count": 70,
   "metadata": {},
   "outputs": [],
   "source": [
    "def encode_data(dataset):\n",
    "    text = dataset[\"String\"]\n",
    "    # tokenize string\n",
    "    encoding = tokenizer(text, padding=\"max_length\", truncation=True, max_length=70)\n",
    "    # create encoded array list with labels\n",
    "    labelsBatch = {x: dataset[x] for x in dataset.keys() if x in labels_original}\n",
    "    labels_matrix = np.zeros((len(text), len(labels_original)))\n",
    "    for idx, label in enumerate(labels_original):\n",
    "        labels_matrix[:, idx] = labelsBatch[label]\n",
    "    \n",
    "    encoding[\"labels\"] = labels_matrix.tolist()\n",
    "    return encoding"
   ]
  },
  {
   "cell_type": "code",
   "execution_count": 71,
   "metadata": {},
   "outputs": [
    {
     "name": "stderr",
     "output_type": "stream",
     "text": [
      "100%|██████████| 1/1 [00:00<00:00,  5.49ba/s]\n",
      "100%|██████████| 1/1 [00:00<00:00, 58.99ba/s]\n",
      "100%|██████████| 1/1 [00:00<00:00, 58.98ba/s]\n"
     ]
    },
    {
     "data": {
      "text/plain": [
       "dict_keys(['input_ids', 'attention_mask', 'labels'])"
      ]
     },
     "execution_count": 71,
     "metadata": {},
     "output_type": "execute_result"
    }
   ],
   "source": [
    "encoded_ds = new_ds.map(encode_data, batched=True, remove_columns=new_ds['train'].column_names)\n",
    "encoded_ds['train'][0]\n",
    "encoded_ds['train'][0].keys()"
   ]
  },
  {
   "cell_type": "code",
   "execution_count": 72,
   "metadata": {},
   "outputs": [
    {
     "data": {
      "text/plain": [
       "[101,\n",
       " 2577,\n",
       " 2003,\n",
       " 1037,\n",
       " 5597,\n",
       " 3836,\n",
       " 1012,\n",
       " 2002,\n",
       " 2003,\n",
       " 4526,\n",
       " 1037,\n",
       " 8312,\n",
       " 5371,\n",
       " 2005,\n",
       " 2010,\n",
       " 2493,\n",
       " 1012,\n",
       " 2002,\n",
       " 9909,\n",
       " 1037,\n",
       " 23760,\n",
       " 4957,\n",
       " 2000,\n",
       " 1037,\n",
       " 7358,\n",
       " 1010,\n",
       " 2029,\n",
       " 6971,\n",
       " 2000,\n",
       " 2070,\n",
       " 3176,\n",
       " 4475,\n",
       " 1012,\n",
       " 2029,\n",
       " 1997,\n",
       " 1996,\n",
       " 2206,\n",
       " 7047,\n",
       " 2064,\n",
       " 2022,\n",
       " 5799,\n",
       " 1996,\n",
       " 2014,\n",
       " 4957,\n",
       " 1029,\n",
       " 102,\n",
       " 0,\n",
       " 0,\n",
       " 0,\n",
       " 0,\n",
       " 0,\n",
       " 0,\n",
       " 0,\n",
       " 0,\n",
       " 0,\n",
       " 0,\n",
       " 0,\n",
       " 0,\n",
       " 0,\n",
       " 0,\n",
       " 0,\n",
       " 0,\n",
       " 0,\n",
       " 0,\n",
       " 0,\n",
       " 0,\n",
       " 0,\n",
       " 0,\n",
       " 0,\n",
       " 0]"
      ]
     },
     "execution_count": 72,
     "metadata": {},
     "output_type": "execute_result"
    }
   ],
   "source": [
    "encoded_ds['train']['input_ids'][0]"
   ]
  },
  {
   "cell_type": "code",
   "execution_count": 73,
   "metadata": {},
   "outputs": [
    {
     "data": {
      "text/plain": [
       "['Health and Ethical Issues']"
      ]
     },
     "execution_count": 73,
     "metadata": {},
     "output_type": "execute_result"
    }
   ],
   "source": [
    "[id2label[idx] for idx, label in enumerate(encoded_ds['train'][15]['labels']) if label == 1.0]"
   ]
  },
  {
   "cell_type": "code",
   "execution_count": 74,
   "metadata": {},
   "outputs": [
    {
     "name": "stderr",
     "output_type": "stream",
     "text": [
      "                                                                                            \r"
     ]
    }
   ],
   "source": [
    "encoded_ds.save_to_disk('./encoded_data')"
   ]
  },
  {
   "cell_type": "code",
   "execution_count": null,
   "metadata": {},
   "outputs": [],
   "source": [
    "# datasets.load_from_disk(\"./encoded_data\")"
   ]
  },
  {
   "attachments": {},
   "cell_type": "markdown",
   "metadata": {},
   "source": [
    "# Model training"
   ]
  },
  {
   "cell_type": "code",
   "execution_count": 20,
   "metadata": {},
   "outputs": [
    {
     "name": "stdout",
     "output_type": "stream",
     "text": [
      "Using device: cuda\n",
      "\n"
     ]
    }
   ],
   "source": [
    "# TODO:  tokenize text, feature extraction, multilabel classification\n",
    "import torch\n",
    "from torch import cuda\n",
    "device = torch.device('cuda' if torch.cuda.is_available() else 'cpu')\n",
    "print('Using device:', device)\n",
    "print()\n",
    "\n",
    "encoded_ds.set_format(\"torch\")"
   ]
  },
  {
   "cell_type": "code",
   "execution_count": 34,
   "metadata": {},
   "outputs": [
    {
     "name": "stderr",
     "output_type": "stream",
     "text": [
      "Some weights of the model checkpoint at bert-base-uncased were not used when initializing BertForSequenceClassification: ['cls.predictions.transform.dense.weight', 'cls.predictions.decoder.weight', 'cls.seq_relationship.weight', 'cls.predictions.transform.LayerNorm.bias', 'cls.predictions.bias', 'cls.predictions.transform.LayerNorm.weight', 'cls.predictions.transform.dense.bias', 'cls.seq_relationship.bias']\n",
      "- This IS expected if you are initializing BertForSequenceClassification from the checkpoint of a model trained on another task or with another architecture (e.g. initializing a BertForSequenceClassification model from a BertForPreTraining model).\n",
      "- This IS NOT expected if you are initializing BertForSequenceClassification from the checkpoint of a model that you expect to be exactly identical (initializing a BertForSequenceClassification model from a BertForSequenceClassification model).\n",
      "Some weights of BertForSequenceClassification were not initialized from the model checkpoint at bert-base-uncased and are newly initialized: ['classifier.weight', 'classifier.bias']\n",
      "You should probably TRAIN this model on a down-stream task to be able to use it for predictions and inference.\n"
     ]
    }
   ],
   "source": [
    "from transformers import AutoModelForSequenceClassification, AutoModel\n",
    "# define model\n",
    "model = AutoModelForSequenceClassification.from_pretrained(\"bert-base-uncased\", problem_type=\"multi_label_classification\", num_labels=len(labels), id2label=id2label, label2id=label2id)"
   ]
  },
  {
   "cell_type": "code",
   "execution_count": 35,
   "metadata": {},
   "outputs": [],
   "source": [
    "# train model\n",
    "batch_size = 8\n",
    "metric_name = \"f1\""
   ]
  },
  {
   "cell_type": "code",
   "execution_count": 36,
   "metadata": {},
   "outputs": [],
   "source": [
    "from transformers import TrainingArguments, Trainer\n",
    "\n",
    "args = TrainingArguments(\n",
    "    f\"nbroad/ESG-BERT\",\n",
    "    evaluation_strategy = \"epoch\",\n",
    "    save_strategy = \"epoch\",\n",
    "    learning_rate=2e-5,\n",
    "    per_device_train_batch_size=batch_size,\n",
    "    per_device_eval_batch_size=batch_size,\n",
    "    num_train_epochs= 30,\n",
    "    weight_decay=0.01,\n",
    "    load_best_model_at_end=True,\n",
    "    metric_for_best_model=metric_name,\n",
    ")"
   ]
  },
  {
   "cell_type": "code",
   "execution_count": 38,
   "metadata": {},
   "outputs": [],
   "source": [
    "from sklearn.metrics import f1_score, roc_auc_score, accuracy_score\n",
    "from transformers import EvalPrediction\n",
    "    \n",
    "def multi_label_metrics(predictions, labels, threshold=0.5):\n",
    "    # apply sigmoid on predictions fitting (batch_size, num_labels)\n",
    "    sigmoid = torch.nn.Sigmoid()\n",
    "    probs = sigmoid(torch.Tensor(predictions))\n",
    "    # use threshold to turn them into integer predictions\n",
    "    y_pred = np.zeros(probs.shape)\n",
    "    y_pred[np.where(probs >= threshold)] = 1\n",
    "    # compute metrics\n",
    "    y_true = labels\n",
    "    f1_micro_average = f1_score(y_true=y_true, y_pred=y_pred, average='micro')\n",
    "    roc_auc = roc_auc_score(y_true, y_pred, average = 'micro')\n",
    "    accuracy = accuracy_score(y_true, y_pred)\n",
    "    # return as dictionary\n",
    "    metrics = {'f1': f1_micro_average,\n",
    "               'roc_auc': roc_auc,\n",
    "               'accuracy': accuracy}\n",
    "    return metrics\n",
    "\n",
    "def compute_metrics(p: EvalPrediction):\n",
    "    preds = p.predictions[0] if isinstance(p.predictions, \n",
    "            tuple) else p.predictions\n",
    "    result = multi_label_metrics(\n",
    "        predictions=preds, \n",
    "        labels=p.label_ids)\n",
    "    return result"
   ]
  },
  {
   "cell_type": "code",
   "execution_count": 39,
   "metadata": {},
   "outputs": [
    {
     "data": {
      "text/plain": [
       "'torch.FloatTensor'"
      ]
     },
     "execution_count": 39,
     "metadata": {},
     "output_type": "execute_result"
    }
   ],
   "source": [
    "encoded_ds['train'][0]['labels'].type()"
   ]
  },
  {
   "cell_type": "code",
   "execution_count": 40,
   "metadata": {},
   "outputs": [
    {
     "data": {
      "text/plain": [
       "tensor([  101,  4480,  2064,  2338,  2005, 12436, 14693,  9323,  2083,  1037,\n",
       "         4773,  2609,  1012,  4480,  2064,  7276,  1996,  2335, 10994,  2005,\n",
       "         1996, 21725,  2027,  2215,  2008,  2145,  2031, 20563,  2015,  1012,\n",
       "         2029,  1997,  1996,  2206, 11583,  1997,  3169,  2190,  6235,  2023,\n",
       "         2291,  1029,   102,     0,     0,     0,     0,     0,     0,     0,\n",
       "            0,     0,     0,     0,     0,     0,     0,     0,     0,     0,\n",
       "            0,     0,     0,     0,     0,     0,     0,     0,     0,     0])"
      ]
     },
     "execution_count": 40,
     "metadata": {},
     "output_type": "execute_result"
    }
   ],
   "source": [
    "encoded_ds['train']['input_ids'][0]"
   ]
  },
  {
   "cell_type": "code",
   "execution_count": 41,
   "metadata": {},
   "outputs": [
    {
     "data": {
      "text/plain": [
       "SequenceClassifierOutput(loss=tensor(0.6724, grad_fn=<BinaryCrossEntropyWithLogitsBackward0>), logits=tensor([[-0.3612,  0.2631,  0.4374, -0.0700,  0.7228,  0.1198, -0.3052, -0.1301,\n",
       "          0.0266,  0.2273,  0.2286, -0.5257,  0.1255, -0.0676, -0.0962, -0.1973,\n",
       "          0.0611, -0.4574, -0.5786, -0.2036, -0.1694,  0.2730, -0.1104,  0.2453,\n",
       "         -0.1880]], grad_fn=<AddmmBackward0>), hidden_states=None, attentions=None)"
      ]
     },
     "execution_count": 41,
     "metadata": {},
     "output_type": "execute_result"
    }
   ],
   "source": [
    "#forward pass\n",
    "outputs = model(input_ids=encoded_ds['train']['input_ids'][0].unsqueeze(0), labels=encoded_ds['train'][0]['labels'].unsqueeze(0))\n",
    "outputs"
   ]
  },
  {
   "cell_type": "code",
   "execution_count": 42,
   "metadata": {},
   "outputs": [],
   "source": [
    "trainer = Trainer(\n",
    "    model,\n",
    "    args,\n",
    "    train_dataset=encoded_ds[\"train\"],\n",
    "    eval_dataset=encoded_ds[\"valid\"],\n",
    "    tokenizer=tokenizer,\n",
    "    compute_metrics=compute_metrics\n",
    ")"
   ]
  },
  {
   "cell_type": "code",
   "execution_count": 43,
   "metadata": {},
   "outputs": [
    {
     "name": "stderr",
     "output_type": "stream",
     "text": [
      "c:\\Users\\user\\Desktop\\QuestionQuestionModel\\venv\\lib\\site-packages\\transformers\\optimization.py:306: FutureWarning: This implementation of AdamW is deprecated and will be removed in a future version. Use the PyTorch implementation torch.optim.AdamW instead, or set `no_deprecation_warning=True` to disable this warning\n",
      "  warnings.warn(\n",
      "***** Running training *****\n",
      "  Num examples = 342\n",
      "  Num Epochs = 30\n",
      "  Instantaneous batch size per device = 8\n",
      "  Total train batch size (w. parallel, distributed & accumulation) = 8\n",
      "  Gradient Accumulation steps = 1\n",
      "  Total optimization steps = 1290\n",
      "  Number of trainable parameters = 109501465\n",
      "  0%|          | 0/1290 [00:00<?, ?it/s]You're using a BertTokenizerFast tokenizer. Please note that with a fast tokenizer, using the `__call__` method is faster than using a method to encode the text followed by a call to the `pad` method to get a padded encoding.\n",
      "  3%|▎         | 43/1290 [00:07<01:46, 11.69it/s] ***** Running Evaluation *****\n",
      "  Num examples = 43\n",
      "  Batch size = 8\n",
      "                                                 \n",
      "  3%|▎         | 43/1290 [00:07<01:46, 11.69it/s]Saving model checkpoint to nbroad/ESG-BERT\\checkpoint-43\n",
      "Configuration saved in nbroad/ESG-BERT\\checkpoint-43\\config.json\n"
     ]
    },
    {
     "name": "stdout",
     "output_type": "stream",
     "text": [
      "{'eval_loss': 0.34994110465049744, 'eval_f1': 0.0, 'eval_roc_auc': 0.5, 'eval_accuracy': 0.0, 'eval_runtime': 0.1363, 'eval_samples_per_second': 315.442, 'eval_steps_per_second': 44.015, 'epoch': 1.0}\n"
     ]
    },
    {
     "name": "stderr",
     "output_type": "stream",
     "text": [
      "Model weights saved in nbroad/ESG-BERT\\checkpoint-43\\pytorch_model.bin\n",
      "tokenizer config file saved in nbroad/ESG-BERT\\checkpoint-43\\tokenizer_config.json\n",
      "Special tokens file saved in nbroad/ESG-BERT\\checkpoint-43\\special_tokens_map.json\n",
      "  7%|▋         | 85/1290 [00:12<01:42, 11.71it/s]***** Running Evaluation *****\n",
      "  Num examples = 43\n",
      "  Batch size = 8\n",
      "                                                 \n",
      "  7%|▋         | 86/1290 [00:12<01:42, 11.71it/s]Saving model checkpoint to nbroad/ESG-BERT\\checkpoint-86\n",
      "Configuration saved in nbroad/ESG-BERT\\checkpoint-86\\config.json\n"
     ]
    },
    {
     "name": "stdout",
     "output_type": "stream",
     "text": [
      "{'eval_loss': 0.24263913929462433, 'eval_f1': 0.0, 'eval_roc_auc': 0.5, 'eval_accuracy': 0.0, 'eval_runtime': 0.1297, 'eval_samples_per_second': 331.573, 'eval_steps_per_second': 46.266, 'epoch': 2.0}\n"
     ]
    },
    {
     "name": "stderr",
     "output_type": "stream",
     "text": [
      "Model weights saved in nbroad/ESG-BERT\\checkpoint-86\\pytorch_model.bin\n",
      "tokenizer config file saved in nbroad/ESG-BERT\\checkpoint-86\\tokenizer_config.json\n",
      "Special tokens file saved in nbroad/ESG-BERT\\checkpoint-86\\special_tokens_map.json\n",
      " 10%|█         | 129/1290 [00:18<01:37, 11.96it/s]***** Running Evaluation *****\n",
      "  Num examples = 43\n",
      "  Batch size = 8\n",
      "                                                  \n",
      " 10%|█         | 129/1290 [00:18<01:37, 11.96it/s]Saving model checkpoint to nbroad/ESG-BERT\\checkpoint-129\n",
      "Configuration saved in nbroad/ESG-BERT\\checkpoint-129\\config.json\n"
     ]
    },
    {
     "name": "stdout",
     "output_type": "stream",
     "text": [
      "{'eval_loss': 0.2065877914428711, 'eval_f1': 0.0, 'eval_roc_auc': 0.5, 'eval_accuracy': 0.0, 'eval_runtime': 0.1238, 'eval_samples_per_second': 347.408, 'eval_steps_per_second': 48.476, 'epoch': 3.0}\n"
     ]
    },
    {
     "name": "stderr",
     "output_type": "stream",
     "text": [
      "Model weights saved in nbroad/ESG-BERT\\checkpoint-129\\pytorch_model.bin\n",
      "tokenizer config file saved in nbroad/ESG-BERT\\checkpoint-129\\tokenizer_config.json\n",
      "Special tokens file saved in nbroad/ESG-BERT\\checkpoint-129\\special_tokens_map.json\n",
      " 13%|█▎        | 171/1290 [00:23<01:34, 11.81it/s]***** Running Evaluation *****\n",
      "  Num examples = 43\n",
      "  Batch size = 8\n",
      "                                                  \n",
      " 13%|█▎        | 172/1290 [00:23<01:34, 11.81it/s]Saving model checkpoint to nbroad/ESG-BERT\\checkpoint-172\n",
      "Configuration saved in nbroad/ESG-BERT\\checkpoint-172\\config.json\n"
     ]
    },
    {
     "name": "stdout",
     "output_type": "stream",
     "text": [
      "{'eval_loss': 0.19196200370788574, 'eval_f1': 0.0, 'eval_roc_auc': 0.5, 'eval_accuracy': 0.0, 'eval_runtime': 0.1271, 'eval_samples_per_second': 338.348, 'eval_steps_per_second': 47.211, 'epoch': 4.0}\n"
     ]
    },
    {
     "name": "stderr",
     "output_type": "stream",
     "text": [
      "Model weights saved in nbroad/ESG-BERT\\checkpoint-172\\pytorch_model.bin\n",
      "tokenizer config file saved in nbroad/ESG-BERT\\checkpoint-172\\tokenizer_config.json\n",
      "Special tokens file saved in nbroad/ESG-BERT\\checkpoint-172\\special_tokens_map.json\n",
      " 17%|█▋        | 215/1290 [00:28<01:32, 11.58it/s]***** Running Evaluation *****\n",
      "  Num examples = 43\n",
      "  Batch size = 8\n",
      "                                                  \n",
      " 17%|█▋        | 215/1290 [00:28<01:32, 11.58it/s]Saving model checkpoint to nbroad/ESG-BERT\\checkpoint-215\n",
      "Configuration saved in nbroad/ESG-BERT\\checkpoint-215\\config.json\n"
     ]
    },
    {
     "name": "stdout",
     "output_type": "stream",
     "text": [
      "{'eval_loss': 0.1838485151529312, 'eval_f1': 0.0, 'eval_roc_auc': 0.5, 'eval_accuracy': 0.0, 'eval_runtime': 0.1277, 'eval_samples_per_second': 336.658, 'eval_steps_per_second': 46.976, 'epoch': 5.0}\n"
     ]
    },
    {
     "name": "stderr",
     "output_type": "stream",
     "text": [
      "Model weights saved in nbroad/ESG-BERT\\checkpoint-215\\pytorch_model.bin\n",
      "tokenizer config file saved in nbroad/ESG-BERT\\checkpoint-215\\tokenizer_config.json\n",
      "Special tokens file saved in nbroad/ESG-BERT\\checkpoint-215\\special_tokens_map.json\n",
      " 20%|█▉        | 257/1290 [00:34<01:28, 11.66it/s]***** Running Evaluation *****\n",
      "  Num examples = 43\n",
      "  Batch size = 8\n",
      "                                                  \n",
      " 20%|██        | 258/1290 [00:34<01:28, 11.66it/s]Saving model checkpoint to nbroad/ESG-BERT\\checkpoint-258\n",
      "Configuration saved in nbroad/ESG-BERT\\checkpoint-258\\config.json\n"
     ]
    },
    {
     "name": "stdout",
     "output_type": "stream",
     "text": [
      "{'eval_loss': 0.17599597573280334, 'eval_f1': 0.0, 'eval_roc_auc': 0.5, 'eval_accuracy': 0.0, 'eval_runtime': 0.1245, 'eval_samples_per_second': 345.393, 'eval_steps_per_second': 48.194, 'epoch': 6.0}\n"
     ]
    },
    {
     "name": "stderr",
     "output_type": "stream",
     "text": [
      "Model weights saved in nbroad/ESG-BERT\\checkpoint-258\\pytorch_model.bin\n",
      "tokenizer config file saved in nbroad/ESG-BERT\\checkpoint-258\\tokenizer_config.json\n",
      "Special tokens file saved in nbroad/ESG-BERT\\checkpoint-258\\special_tokens_map.json\n",
      " 23%|██▎       | 300/1290 [00:40<01:23, 11.80it/s]***** Running Evaluation *****\n",
      "  Num examples = 43\n",
      "  Batch size = 8\n",
      "                                                  \n",
      " 23%|██▎       | 301/1290 [00:41<01:23, 11.80it/s]Saving model checkpoint to nbroad/ESG-BERT\\checkpoint-301\n",
      "Configuration saved in nbroad/ESG-BERT\\checkpoint-301\\config.json\n"
     ]
    },
    {
     "name": "stdout",
     "output_type": "stream",
     "text": [
      "{'eval_loss': 0.16920821368694305, 'eval_f1': 0.0, 'eval_roc_auc': 0.5, 'eval_accuracy': 0.0, 'eval_runtime': 0.1242, 'eval_samples_per_second': 346.172, 'eval_steps_per_second': 48.303, 'epoch': 7.0}\n"
     ]
    },
    {
     "name": "stderr",
     "output_type": "stream",
     "text": [
      "Model weights saved in nbroad/ESG-BERT\\checkpoint-301\\pytorch_model.bin\n",
      "tokenizer config file saved in nbroad/ESG-BERT\\checkpoint-301\\tokenizer_config.json\n",
      "Special tokens file saved in nbroad/ESG-BERT\\checkpoint-301\\special_tokens_map.json\n",
      " 27%|██▋       | 344/1290 [00:46<01:19, 11.97it/s]***** Running Evaluation *****\n",
      "  Num examples = 43\n",
      "  Batch size = 8\n",
      "                                                  \n",
      " 27%|██▋       | 344/1290 [00:46<01:19, 11.97it/s]Saving model checkpoint to nbroad/ESG-BERT\\checkpoint-344\n",
      "Configuration saved in nbroad/ESG-BERT\\checkpoint-344\\config.json\n"
     ]
    },
    {
     "name": "stdout",
     "output_type": "stream",
     "text": [
      "{'eval_loss': 0.16141127049922943, 'eval_f1': 0.0, 'eval_roc_auc': 0.5, 'eval_accuracy': 0.0, 'eval_runtime': 0.1252, 'eval_samples_per_second': 343.45, 'eval_steps_per_second': 47.923, 'epoch': 8.0}\n"
     ]
    },
    {
     "name": "stderr",
     "output_type": "stream",
     "text": [
      "Model weights saved in nbroad/ESG-BERT\\checkpoint-344\\pytorch_model.bin\n",
      "tokenizer config file saved in nbroad/ESG-BERT\\checkpoint-344\\tokenizer_config.json\n",
      "Special tokens file saved in nbroad/ESG-BERT\\checkpoint-344\\special_tokens_map.json\n",
      " 30%|██▉       | 386/1290 [00:51<01:16, 11.75it/s]***** Running Evaluation *****\n",
      "  Num examples = 43\n",
      "  Batch size = 8\n",
      "                                                  \n",
      " 30%|███       | 387/1290 [00:51<01:16, 11.75it/s]Saving model checkpoint to nbroad/ESG-BERT\\checkpoint-387\n",
      "Configuration saved in nbroad/ESG-BERT\\checkpoint-387\\config.json\n"
     ]
    },
    {
     "name": "stdout",
     "output_type": "stream",
     "text": [
      "{'eval_loss': 0.15483927726745605, 'eval_f1': 0.3, 'eval_roc_auc': 0.5882352941176471, 'eval_accuracy': 0.06976744186046512, 'eval_runtime': 0.1267, 'eval_samples_per_second': 339.458, 'eval_steps_per_second': 47.366, 'epoch': 9.0}\n"
     ]
    },
    {
     "name": "stderr",
     "output_type": "stream",
     "text": [
      "Model weights saved in nbroad/ESG-BERT\\checkpoint-387\\pytorch_model.bin\n",
      "tokenizer config file saved in nbroad/ESG-BERT\\checkpoint-387\\tokenizer_config.json\n",
      "Special tokens file saved in nbroad/ESG-BERT\\checkpoint-387\\special_tokens_map.json\n",
      " 33%|███▎      | 430/1290 [00:56<01:11, 12.02it/s]***** Running Evaluation *****\n",
      "  Num examples = 43\n",
      "  Batch size = 8\n",
      "                                                  \n",
      " 33%|███▎      | 430/1290 [00:56<01:11, 12.02it/s]Saving model checkpoint to nbroad/ESG-BERT\\checkpoint-430\n",
      "Configuration saved in nbroad/ESG-BERT\\checkpoint-430\\config.json\n"
     ]
    },
    {
     "name": "stdout",
     "output_type": "stream",
     "text": [
      "{'eval_loss': 0.14805974066257477, 'eval_f1': 0.3, 'eval_roc_auc': 0.5882352941176471, 'eval_accuracy': 0.06976744186046512, 'eval_runtime': 0.1248, 'eval_samples_per_second': 344.604, 'eval_steps_per_second': 48.084, 'epoch': 10.0}\n"
     ]
    },
    {
     "name": "stderr",
     "output_type": "stream",
     "text": [
      "Model weights saved in nbroad/ESG-BERT\\checkpoint-430\\pytorch_model.bin\n",
      "tokenizer config file saved in nbroad/ESG-BERT\\checkpoint-430\\tokenizer_config.json\n",
      "Special tokens file saved in nbroad/ESG-BERT\\checkpoint-430\\special_tokens_map.json\n",
      " 37%|███▋      | 472/1290 [01:01<01:09, 11.81it/s]***** Running Evaluation *****\n",
      "  Num examples = 43\n",
      "  Batch size = 8\n",
      "                                                  \n",
      " 37%|███▋      | 473/1290 [01:02<01:09, 11.81it/s]Saving model checkpoint to nbroad/ESG-BERT\\checkpoint-473\n",
      "Configuration saved in nbroad/ESG-BERT\\checkpoint-473\\config.json\n"
     ]
    },
    {
     "name": "stdout",
     "output_type": "stream",
     "text": [
      "{'eval_loss': 0.14303907752037048, 'eval_f1': 0.24137931034482762, 'eval_roc_auc': 0.5686274509803921, 'eval_accuracy': 0.023255813953488372, 'eval_runtime': 0.1255, 'eval_samples_per_second': 342.735, 'eval_steps_per_second': 47.823, 'epoch': 11.0}\n"
     ]
    },
    {
     "name": "stderr",
     "output_type": "stream",
     "text": [
      "Model weights saved in nbroad/ESG-BERT\\checkpoint-473\\pytorch_model.bin\n",
      "tokenizer config file saved in nbroad/ESG-BERT\\checkpoint-473\\tokenizer_config.json\n",
      "Special tokens file saved in nbroad/ESG-BERT\\checkpoint-473\\special_tokens_map.json\n",
      " 39%|███▉      | 502/1290 [01:06<01:08, 11.47it/s]"
     ]
    },
    {
     "name": "stdout",
     "output_type": "stream",
     "text": [
      "{'loss': 0.2099, 'learning_rate': 1.2248062015503876e-05, 'epoch': 11.63}\n"
     ]
    },
    {
     "name": "stderr",
     "output_type": "stream",
     "text": [
      " 40%|████      | 516/1290 [01:07<01:04, 11.95it/s]***** Running Evaluation *****\n",
      "  Num examples = 43\n",
      "  Batch size = 8\n",
      "                                                  \n",
      " 40%|████      | 516/1290 [01:07<01:04, 11.95it/s]Saving model checkpoint to nbroad/ESG-BERT\\checkpoint-516\n",
      "Configuration saved in nbroad/ESG-BERT\\checkpoint-516\\config.json\n"
     ]
    },
    {
     "name": "stdout",
     "output_type": "stream",
     "text": [
      "{'eval_loss': 0.13734687864780426, 'eval_f1': 0.39999999999999997, 'eval_roc_auc': 0.6269626991421569, 'eval_accuracy': 0.13953488372093023, 'eval_runtime': 0.1247, 'eval_samples_per_second': 344.886, 'eval_steps_per_second': 48.124, 'epoch': 12.0}\n"
     ]
    },
    {
     "name": "stderr",
     "output_type": "stream",
     "text": [
      "Model weights saved in nbroad/ESG-BERT\\checkpoint-516\\pytorch_model.bin\n",
      "tokenizer config file saved in nbroad/ESG-BERT\\checkpoint-516\\tokenizer_config.json\n",
      "Special tokens file saved in nbroad/ESG-BERT\\checkpoint-516\\special_tokens_map.json\n",
      " 43%|████▎     | 558/1290 [01:12<01:02, 11.63it/s]***** Running Evaluation *****\n",
      "  Num examples = 43\n",
      "  Batch size = 8\n",
      "                                                  \n",
      " 43%|████▎     | 559/1290 [01:12<01:02, 11.63it/s]Saving model checkpoint to nbroad/ESG-BERT\\checkpoint-559\n",
      "Configuration saved in nbroad/ESG-BERT\\checkpoint-559\\config.json\n"
     ]
    },
    {
     "name": "stdout",
     "output_type": "stream",
     "text": [
      "{'eval_loss': 0.13374534249305725, 'eval_f1': 0.375, 'eval_roc_auc': 0.6171587775735294, 'eval_accuracy': 0.13953488372093023, 'eval_runtime': 0.1288, 'eval_samples_per_second': 333.747, 'eval_steps_per_second': 46.569, 'epoch': 13.0}\n"
     ]
    },
    {
     "name": "stderr",
     "output_type": "stream",
     "text": [
      "Model weights saved in nbroad/ESG-BERT\\checkpoint-559\\pytorch_model.bin\n",
      "tokenizer config file saved in nbroad/ESG-BERT\\checkpoint-559\\tokenizer_config.json\n",
      "Special tokens file saved in nbroad/ESG-BERT\\checkpoint-559\\special_tokens_map.json\n",
      " 47%|████▋     | 602/1290 [01:18<00:58, 11.82it/s]***** Running Evaluation *****\n",
      "  Num examples = 43\n",
      "  Batch size = 8\n",
      "                                                  \n",
      " 47%|████▋     | 602/1290 [01:18<00:58, 11.82it/s]Saving model checkpoint to nbroad/ESG-BERT\\checkpoint-602\n",
      "Configuration saved in nbroad/ESG-BERT\\checkpoint-602\\config.json\n"
     ]
    },
    {
     "name": "stdout",
     "output_type": "stream",
     "text": [
      "{'eval_loss': 0.1291268765926361, 'eval_f1': 0.375, 'eval_roc_auc': 0.6171587775735294, 'eval_accuracy': 0.13953488372093023, 'eval_runtime': 0.1243, 'eval_samples_per_second': 346.006, 'eval_steps_per_second': 48.28, 'epoch': 14.0}\n"
     ]
    },
    {
     "name": "stderr",
     "output_type": "stream",
     "text": [
      "Model weights saved in nbroad/ESG-BERT\\checkpoint-602\\pytorch_model.bin\n",
      "tokenizer config file saved in nbroad/ESG-BERT\\checkpoint-602\\tokenizer_config.json\n",
      "Special tokens file saved in nbroad/ESG-BERT\\checkpoint-602\\special_tokens_map.json\n",
      " 50%|████▉     | 644/1290 [01:23<00:59, 10.82it/s]***** Running Evaluation *****\n",
      "  Num examples = 43\n",
      "  Batch size = 8\n",
      "                                                  \n",
      " 50%|█████     | 645/1290 [01:24<00:59, 10.82it/s]Saving model checkpoint to nbroad/ESG-BERT\\checkpoint-645\n",
      "Configuration saved in nbroad/ESG-BERT\\checkpoint-645\\config.json\n"
     ]
    },
    {
     "name": "stdout",
     "output_type": "stream",
     "text": [
      "{'eval_loss': 0.12493478506803513, 'eval_f1': 0.39999999999999997, 'eval_roc_auc': 0.6269626991421569, 'eval_accuracy': 0.13953488372093023, 'eval_runtime': 0.1332, 'eval_samples_per_second': 322.737, 'eval_steps_per_second': 45.033, 'epoch': 15.0}\n"
     ]
    },
    {
     "name": "stderr",
     "output_type": "stream",
     "text": [
      "Model weights saved in nbroad/ESG-BERT\\checkpoint-645\\pytorch_model.bin\n",
      "tokenizer config file saved in nbroad/ESG-BERT\\checkpoint-645\\tokenizer_config.json\n",
      "Special tokens file saved in nbroad/ESG-BERT\\checkpoint-645\\special_tokens_map.json\n",
      " 53%|█████▎    | 688/1290 [01:29<00:50, 11.85it/s]***** Running Evaluation *****\n",
      "  Num examples = 43\n",
      "  Batch size = 8\n",
      "                                                  \n",
      " 53%|█████▎    | 688/1290 [01:29<00:50, 11.85it/s]Saving model checkpoint to nbroad/ESG-BERT\\checkpoint-688\n",
      "Configuration saved in nbroad/ESG-BERT\\checkpoint-688\\config.json\n"
     ]
    },
    {
     "name": "stdout",
     "output_type": "stream",
     "text": [
      "{'eval_loss': 0.12262646853923798, 'eval_f1': 0.48571428571428565, 'eval_roc_auc': 0.6656901041666666, 'eval_accuracy': 0.23255813953488372, 'eval_runtime': 0.1332, 'eval_samples_per_second': 322.862, 'eval_steps_per_second': 45.051, 'epoch': 16.0}\n"
     ]
    },
    {
     "name": "stderr",
     "output_type": "stream",
     "text": [
      "Model weights saved in nbroad/ESG-BERT\\checkpoint-688\\pytorch_model.bin\n",
      "tokenizer config file saved in nbroad/ESG-BERT\\checkpoint-688\\tokenizer_config.json\n",
      "Special tokens file saved in nbroad/ESG-BERT\\checkpoint-688\\special_tokens_map.json\n",
      " 57%|█████▋    | 730/1290 [01:34<00:47, 11.67it/s]***** Running Evaluation *****\n",
      "  Num examples = 43\n",
      "  Batch size = 8\n",
      "                                                  \n",
      " 57%|█████▋    | 731/1290 [01:34<00:47, 11.67it/s]Saving model checkpoint to nbroad/ESG-BERT\\checkpoint-731\n",
      "Configuration saved in nbroad/ESG-BERT\\checkpoint-731\\config.json\n"
     ]
    },
    {
     "name": "stdout",
     "output_type": "stream",
     "text": [
      "{'eval_loss': 0.11991657316684723, 'eval_f1': 0.547945205479452, 'eval_roc_auc': 0.695101868872549, 'eval_accuracy': 0.3023255813953488, 'eval_runtime': 0.1251, 'eval_samples_per_second': 343.848, 'eval_steps_per_second': 47.979, 'epoch': 17.0}\n"
     ]
    },
    {
     "name": "stderr",
     "output_type": "stream",
     "text": [
      "Model weights saved in nbroad/ESG-BERT\\checkpoint-731\\pytorch_model.bin\n",
      "tokenizer config file saved in nbroad/ESG-BERT\\checkpoint-731\\tokenizer_config.json\n",
      "Special tokens file saved in nbroad/ESG-BERT\\checkpoint-731\\special_tokens_map.json\n",
      " 60%|██████    | 774/1290 [01:39<00:42, 12.01it/s]***** Running Evaluation *****\n",
      "  Num examples = 43\n",
      "  Batch size = 8\n",
      "                                                  \n",
      " 60%|██████    | 774/1290 [01:40<00:42, 12.01it/s]Saving model checkpoint to nbroad/ESG-BERT\\checkpoint-774\n",
      "Configuration saved in nbroad/ESG-BERT\\checkpoint-774\\config.json\n"
     ]
    },
    {
     "name": "stdout",
     "output_type": "stream",
     "text": [
      "{'eval_loss': 0.11853792518377304, 'eval_f1': 0.5866666666666666, 'eval_roc_auc': 0.7147097120098039, 'eval_accuracy': 0.3488372093023256, 'eval_runtime': 0.1254, 'eval_samples_per_second': 342.854, 'eval_steps_per_second': 47.84, 'epoch': 18.0}\n"
     ]
    },
    {
     "name": "stderr",
     "output_type": "stream",
     "text": [
      "Model weights saved in nbroad/ESG-BERT\\checkpoint-774\\pytorch_model.bin\n",
      "tokenizer config file saved in nbroad/ESG-BERT\\checkpoint-774\\tokenizer_config.json\n",
      "Special tokens file saved in nbroad/ESG-BERT\\checkpoint-774\\special_tokens_map.json\n",
      " 63%|██████▎   | 816/1290 [01:45<00:40, 11.80it/s]***** Running Evaluation *****\n",
      "  Num examples = 43\n",
      "  Batch size = 8\n",
      "                                                  \n",
      " 63%|██████▎   | 817/1290 [01:45<00:40, 11.80it/s]Saving model checkpoint to nbroad/ESG-BERT\\checkpoint-817\n",
      "Configuration saved in nbroad/ESG-BERT\\checkpoint-817\\config.json\n"
     ]
    },
    {
     "name": "stdout",
     "output_type": "stream",
     "text": [
      "{'eval_loss': 0.1149933859705925, 'eval_f1': 0.5675675675675675, 'eval_roc_auc': 0.7049057904411764, 'eval_accuracy': 0.3488372093023256, 'eval_runtime': 0.1242, 'eval_samples_per_second': 346.222, 'eval_steps_per_second': 48.31, 'epoch': 19.0}\n"
     ]
    },
    {
     "name": "stderr",
     "output_type": "stream",
     "text": [
      "Model weights saved in nbroad/ESG-BERT\\checkpoint-817\\pytorch_model.bin\n",
      "tokenizer config file saved in nbroad/ESG-BERT\\checkpoint-817\\tokenizer_config.json\n",
      "Special tokens file saved in nbroad/ESG-BERT\\checkpoint-817\\special_tokens_map.json\n",
      " 67%|██████▋   | 860/1290 [01:50<00:37, 11.58it/s]***** Running Evaluation *****\n",
      "  Num examples = 43\n",
      "  Batch size = 8\n",
      "                                                  \n",
      " 67%|██████▋   | 860/1290 [01:50<00:37, 11.58it/s]Saving model checkpoint to nbroad/ESG-BERT\\checkpoint-860\n",
      "Configuration saved in nbroad/ESG-BERT\\checkpoint-860\\config.json\n"
     ]
    },
    {
     "name": "stdout",
     "output_type": "stream",
     "text": [
      "{'eval_loss': 0.11361194401979446, 'eval_f1': 0.5866666666666666, 'eval_roc_auc': 0.7147097120098039, 'eval_accuracy': 0.3488372093023256, 'eval_runtime': 0.1274, 'eval_samples_per_second': 337.467, 'eval_steps_per_second': 47.088, 'epoch': 20.0}\n"
     ]
    },
    {
     "name": "stderr",
     "output_type": "stream",
     "text": [
      "Model weights saved in nbroad/ESG-BERT\\checkpoint-860\\pytorch_model.bin\n",
      "tokenizer config file saved in nbroad/ESG-BERT\\checkpoint-860\\tokenizer_config.json\n",
      "Special tokens file saved in nbroad/ESG-BERT\\checkpoint-860\\special_tokens_map.json\n",
      " 70%|██████▉   | 902/1290 [01:55<00:32, 11.77it/s]***** Running Evaluation *****\n",
      "  Num examples = 43\n",
      "  Batch size = 8\n",
      "                                                  \n",
      " 70%|███████   | 903/1290 [01:56<00:32, 11.77it/s]Saving model checkpoint to nbroad/ESG-BERT\\checkpoint-903\n",
      "Configuration saved in nbroad/ESG-BERT\\checkpoint-903\\config.json\n"
     ]
    },
    {
     "name": "stdout",
     "output_type": "stream",
     "text": [
      "{'eval_loss': 0.1126101091504097, 'eval_f1': 0.5866666666666666, 'eval_roc_auc': 0.7147097120098039, 'eval_accuracy': 0.3488372093023256, 'eval_runtime': 0.1478, 'eval_samples_per_second': 290.952, 'eval_steps_per_second': 40.598, 'epoch': 21.0}\n"
     ]
    },
    {
     "name": "stderr",
     "output_type": "stream",
     "text": [
      "Model weights saved in nbroad/ESG-BERT\\checkpoint-903\\pytorch_model.bin\n",
      "tokenizer config file saved in nbroad/ESG-BERT\\checkpoint-903\\tokenizer_config.json\n",
      "Special tokens file saved in nbroad/ESG-BERT\\checkpoint-903\\special_tokens_map.json\n",
      " 73%|███████▎  | 946/1290 [02:01<00:28, 12.01it/s]***** Running Evaluation *****\n",
      "  Num examples = 43\n",
      "  Batch size = 8\n",
      "                                                  \n",
      " 73%|███████▎  | 946/1290 [02:01<00:28, 12.01it/s]Saving model checkpoint to nbroad/ESG-BERT\\checkpoint-946\n",
      "Configuration saved in nbroad/ESG-BERT\\checkpoint-946\\config.json\n"
     ]
    },
    {
     "name": "stdout",
     "output_type": "stream",
     "text": [
      "{'eval_loss': 0.11120515316724777, 'eval_f1': 0.6410256410256411, 'eval_roc_auc': 0.7441214767156863, 'eval_accuracy': 0.4186046511627907, 'eval_runtime': 0.1234, 'eval_samples_per_second': 348.473, 'eval_steps_per_second': 48.624, 'epoch': 22.0}\n"
     ]
    },
    {
     "name": "stderr",
     "output_type": "stream",
     "text": [
      "Model weights saved in nbroad/ESG-BERT\\checkpoint-946\\pytorch_model.bin\n",
      "tokenizer config file saved in nbroad/ESG-BERT\\checkpoint-946\\tokenizer_config.json\n",
      "Special tokens file saved in nbroad/ESG-BERT\\checkpoint-946\\special_tokens_map.json\n",
      " 77%|███████▋  | 988/1290 [02:06<00:25, 11.75it/s]***** Running Evaluation *****\n",
      "  Num examples = 43\n",
      "  Batch size = 8\n",
      "                                                  \n",
      " 77%|███████▋  | 989/1290 [02:06<00:25, 11.75it/s]Saving model checkpoint to nbroad/ESG-BERT\\checkpoint-989\n",
      "Configuration saved in nbroad/ESG-BERT\\checkpoint-989\\config.json\n"
     ]
    },
    {
     "name": "stdout",
     "output_type": "stream",
     "text": [
      "{'eval_loss': 0.10932711511850357, 'eval_f1': 0.6410256410256411, 'eval_roc_auc': 0.7441214767156863, 'eval_accuracy': 0.4186046511627907, 'eval_runtime': 0.1243, 'eval_samples_per_second': 346.017, 'eval_steps_per_second': 48.281, 'epoch': 23.0}\n"
     ]
    },
    {
     "name": "stderr",
     "output_type": "stream",
     "text": [
      "Model weights saved in nbroad/ESG-BERT\\checkpoint-989\\pytorch_model.bin\n",
      "tokenizer config file saved in nbroad/ESG-BERT\\checkpoint-989\\tokenizer_config.json\n",
      "Special tokens file saved in nbroad/ESG-BERT\\checkpoint-989\\special_tokens_map.json\n",
      " 78%|███████▊  | 1002/1290 [02:24<01:50,  2.61it/s]"
     ]
    },
    {
     "name": "stdout",
     "output_type": "stream",
     "text": [
      "{'loss': 0.1079, 'learning_rate': 4.4961240310077525e-06, 'epoch': 23.26}\n"
     ]
    },
    {
     "name": "stderr",
     "output_type": "stream",
     "text": [
      " 80%|████████  | 1032/1290 [02:27<00:21, 11.84it/s]***** Running Evaluation *****\n",
      "  Num examples = 43\n",
      "  Batch size = 8\n",
      "                                                   \n",
      " 80%|████████  | 1032/1290 [02:27<00:21, 11.84it/s]Saving model checkpoint to nbroad/ESG-BERT\\checkpoint-1032\n",
      "Configuration saved in nbroad/ESG-BERT\\checkpoint-1032\\config.json\n"
     ]
    },
    {
     "name": "stdout",
     "output_type": "stream",
     "text": [
      "{'eval_loss': 0.1094929650425911, 'eval_f1': 0.6233766233766235, 'eval_roc_auc': 0.7343175551470589, 'eval_accuracy': 0.4186046511627907, 'eval_runtime': 0.1254, 'eval_samples_per_second': 342.813, 'eval_steps_per_second': 47.834, 'epoch': 24.0}\n"
     ]
    },
    {
     "name": "stderr",
     "output_type": "stream",
     "text": [
      "Model weights saved in nbroad/ESG-BERT\\checkpoint-1032\\pytorch_model.bin\n",
      "tokenizer config file saved in nbroad/ESG-BERT\\checkpoint-1032\\tokenizer_config.json\n",
      "Special tokens file saved in nbroad/ESG-BERT\\checkpoint-1032\\special_tokens_map.json\n",
      " 83%|████████▎ | 1074/1290 [02:32<00:18, 11.80it/s]***** Running Evaluation *****\n",
      "  Num examples = 43\n",
      "  Batch size = 8\n",
      "                                                   \n",
      " 83%|████████▎ | 1075/1290 [02:32<00:18, 11.80it/s]Saving model checkpoint to nbroad/ESG-BERT\\checkpoint-1075\n",
      "Configuration saved in nbroad/ESG-BERT\\checkpoint-1075\\config.json\n"
     ]
    },
    {
     "name": "stdout",
     "output_type": "stream",
     "text": [
      "{'eval_loss': 0.1084151566028595, 'eval_f1': 0.6410256410256411, 'eval_roc_auc': 0.7441214767156863, 'eval_accuracy': 0.4186046511627907, 'eval_runtime': 0.1248, 'eval_samples_per_second': 344.642, 'eval_steps_per_second': 48.09, 'epoch': 25.0}\n"
     ]
    },
    {
     "name": "stderr",
     "output_type": "stream",
     "text": [
      "Model weights saved in nbroad/ESG-BERT\\checkpoint-1075\\pytorch_model.bin\n",
      "tokenizer config file saved in nbroad/ESG-BERT\\checkpoint-1075\\tokenizer_config.json\n",
      "Special tokens file saved in nbroad/ESG-BERT\\checkpoint-1075\\special_tokens_map.json\n",
      " 87%|████████▋ | 1118/1290 [02:37<00:14, 12.00it/s]***** Running Evaluation *****\n",
      "  Num examples = 43\n",
      "  Batch size = 8\n",
      "                                                   \n",
      " 87%|████████▋ | 1118/1290 [02:37<00:14, 12.00it/s]Saving model checkpoint to nbroad/ESG-BERT\\checkpoint-1118\n"
     ]
    },
    {
     "name": "stdout",
     "output_type": "stream",
     "text": [
      "{'eval_loss': 0.10729937255382538, 'eval_f1': 0.6410256410256411, 'eval_roc_auc': 0.7441214767156863, 'eval_accuracy': 0.4186046511627907, 'eval_runtime': 0.1243, 'eval_samples_per_second': 346.01, 'eval_steps_per_second': 48.28, 'epoch': 26.0}\n"
     ]
    },
    {
     "name": "stderr",
     "output_type": "stream",
     "text": [
      "Configuration saved in nbroad/ESG-BERT\\checkpoint-1118\\config.json\n",
      " 87%|████████▋ | 1118/1290 [02:47<00:14, 12.00it/s]Model weights saved in nbroad/ESG-BERT\\checkpoint-1118\\pytorch_model.bin\n",
      "tokenizer config file saved in nbroad/ESG-BERT\\checkpoint-1118\\tokenizer_config.json\n",
      "Special tokens file saved in nbroad/ESG-BERT\\checkpoint-1118\\special_tokens_map.json\n",
      " 90%|█████████ | 1161/1290 [02:55<00:10, 11.87it/s]***** Running Evaluation *****\n",
      "  Num examples = 43\n",
      "  Batch size = 8\n",
      "                                                   \n",
      " 90%|█████████ | 1161/1290 [02:55<00:10, 11.87it/s]Saving model checkpoint to nbroad/ESG-BERT\\checkpoint-1161\n",
      "Configuration saved in nbroad/ESG-BERT\\checkpoint-1161\\config.json\n"
     ]
    },
    {
     "name": "stdout",
     "output_type": "stream",
     "text": [
      "{'eval_loss': 0.10700342059135437, 'eval_f1': 0.6052631578947368, 'eval_roc_auc': 0.7245136335784313, 'eval_accuracy': 0.3953488372093023, 'eval_runtime': 0.1232, 'eval_samples_per_second': 348.983, 'eval_steps_per_second': 48.695, 'epoch': 27.0}\n"
     ]
    },
    {
     "name": "stderr",
     "output_type": "stream",
     "text": [
      "Model weights saved in nbroad/ESG-BERT\\checkpoint-1161\\pytorch_model.bin\n",
      "tokenizer config file saved in nbroad/ESG-BERT\\checkpoint-1161\\tokenizer_config.json\n",
      "Special tokens file saved in nbroad/ESG-BERT\\checkpoint-1161\\special_tokens_map.json\n",
      " 93%|█████████▎| 1203/1290 [03:00<00:07, 11.79it/s]***** Running Evaluation *****\n",
      "  Num examples = 43\n",
      "  Batch size = 8\n",
      "                                                   \n",
      " 93%|█████████▎| 1204/1290 [03:01<00:07, 11.79it/s]Saving model checkpoint to nbroad/ESG-BERT\\checkpoint-1204\n",
      "Configuration saved in nbroad/ESG-BERT\\checkpoint-1204\\config.json\n"
     ]
    },
    {
     "name": "stdout",
     "output_type": "stream",
     "text": [
      "{'eval_loss': 0.10617008805274963, 'eval_f1': 0.6410256410256411, 'eval_roc_auc': 0.7441214767156863, 'eval_accuracy': 0.4186046511627907, 'eval_runtime': 0.1246, 'eval_samples_per_second': 345.039, 'eval_steps_per_second': 48.145, 'epoch': 28.0}\n"
     ]
    },
    {
     "name": "stderr",
     "output_type": "stream",
     "text": [
      " 93%|█████████▎| 1204/1290 [03:12<00:07, 11.79it/s]Model weights saved in nbroad/ESG-BERT\\checkpoint-1204\\pytorch_model.bin\n",
      "tokenizer config file saved in nbroad/ESG-BERT\\checkpoint-1204\\tokenizer_config.json\n",
      "Special tokens file saved in nbroad/ESG-BERT\\checkpoint-1204\\special_tokens_map.json\n",
      " 97%|█████████▋| 1247/1290 [03:18<00:03, 11.88it/s]***** Running Evaluation *****\n",
      "  Num examples = 43\n",
      "  Batch size = 8\n",
      "                                                   \n",
      " 97%|█████████▋| 1247/1290 [03:18<00:03, 11.88it/s]Saving model checkpoint to nbroad/ESG-BERT\\checkpoint-1247\n",
      "Configuration saved in nbroad/ESG-BERT\\checkpoint-1247\\config.json\n"
     ]
    },
    {
     "name": "stdout",
     "output_type": "stream",
     "text": [
      "{'eval_loss': 0.1061098501086235, 'eval_f1': 0.6410256410256411, 'eval_roc_auc': 0.7441214767156863, 'eval_accuracy': 0.4186046511627907, 'eval_runtime': 0.1249, 'eval_samples_per_second': 344.315, 'eval_steps_per_second': 48.044, 'epoch': 29.0}\n"
     ]
    },
    {
     "name": "stderr",
     "output_type": "stream",
     "text": [
      "Model weights saved in nbroad/ESG-BERT\\checkpoint-1247\\pytorch_model.bin\n",
      "tokenizer config file saved in nbroad/ESG-BERT\\checkpoint-1247\\tokenizer_config.json\n",
      "Special tokens file saved in nbroad/ESG-BERT\\checkpoint-1247\\special_tokens_map.json\n",
      "100%|██████████| 1290/1290 [03:37<00:00, 11.85it/s]***** Running Evaluation *****\n",
      "  Num examples = 43\n",
      "  Batch size = 8\n",
      "                                                   \n",
      "100%|██████████| 1290/1290 [03:37<00:00, 11.85it/s]Saving model checkpoint to nbroad/ESG-BERT\\checkpoint-1290\n",
      "Configuration saved in nbroad/ESG-BERT\\checkpoint-1290\\config.json\n"
     ]
    },
    {
     "name": "stdout",
     "output_type": "stream",
     "text": [
      "{'eval_loss': 0.10597935318946838, 'eval_f1': 0.6410256410256411, 'eval_roc_auc': 0.7441214767156863, 'eval_accuracy': 0.4186046511627907, 'eval_runtime': 0.1258, 'eval_samples_per_second': 341.929, 'eval_steps_per_second': 47.711, 'epoch': 30.0}\n"
     ]
    },
    {
     "name": "stderr",
     "output_type": "stream",
     "text": [
      "Model weights saved in nbroad/ESG-BERT\\checkpoint-1290\\pytorch_model.bin\n",
      "tokenizer config file saved in nbroad/ESG-BERT\\checkpoint-1290\\tokenizer_config.json\n",
      "Special tokens file saved in nbroad/ESG-BERT\\checkpoint-1290\\special_tokens_map.json\n",
      "\n",
      "\n",
      "Training completed. Do not forget to share your model on huggingface.co/models =)\n",
      "\n",
      "\n",
      "Loading best model from nbroad/ESG-BERT\\checkpoint-946 (score: 0.6410256410256411).\n",
      "100%|██████████| 1290/1290 [03:39<00:00,  5.87it/s]"
     ]
    },
    {
     "name": "stdout",
     "output_type": "stream",
     "text": [
      "{'train_runtime': 219.8928, 'train_samples_per_second': 46.659, 'train_steps_per_second': 5.866, 'train_loss': 0.14222994516062182, 'epoch': 30.0}\n"
     ]
    },
    {
     "name": "stderr",
     "output_type": "stream",
     "text": [
      "\n"
     ]
    },
    {
     "data": {
      "text/plain": [
       "TrainOutput(global_step=1290, training_loss=0.14222994516062182, metrics={'train_runtime': 219.8928, 'train_samples_per_second': 46.659, 'train_steps_per_second': 5.866, 'train_loss': 0.14222994516062182, 'epoch': 30.0})"
      ]
     },
     "execution_count": 43,
     "metadata": {},
     "output_type": "execute_result"
    }
   ],
   "source": [
    "trainer.train()"
   ]
  },
  {
   "cell_type": "code",
   "execution_count": 44,
   "metadata": {},
   "outputs": [
    {
     "name": "stderr",
     "output_type": "stream",
     "text": [
      "***** Running Evaluation *****\n",
      "  Num examples = 43\n",
      "  Batch size = 8\n",
      "100%|██████████| 6/6 [00:00<00:00, 61.33it/s]\n"
     ]
    },
    {
     "data": {
      "text/plain": [
       "{'eval_loss': 0.11120515316724777,\n",
       " 'eval_f1': 0.6410256410256411,\n",
       " 'eval_roc_auc': 0.7441214767156863,\n",
       " 'eval_accuracy': 0.4186046511627907,\n",
       " 'eval_runtime': 0.2372,\n",
       " 'eval_samples_per_second': 181.266,\n",
       " 'eval_steps_per_second': 25.293,\n",
       " 'epoch': 30.0}"
      ]
     },
     "execution_count": 44,
     "metadata": {},
     "output_type": "execute_result"
    }
   ],
   "source": [
    "trainer.evaluate()"
   ]
  },
  {
   "cell_type": "code",
   "execution_count": 100,
   "metadata": {},
   "outputs": [
    {
     "name": "stderr",
     "output_type": "stream",
     "text": [
      "Saving model checkpoint to ./temp_model\n",
      "Configuration saved in ./temp_model\\config.json\n",
      "Model weights saved in ./temp_model\\pytorch_model.bin\n",
      "tokenizer config file saved in ./temp_model\\tokenizer_config.json\n",
      "Special tokens file saved in ./temp_model\\special_tokens_map.json\n"
     ]
    }
   ],
   "source": [
    "# trainer.save_model(\"./temp_model\")"
   ]
  },
  {
   "cell_type": "code",
   "execution_count": 45,
   "metadata": {},
   "outputs": [
    {
     "data": {
      "text/plain": [
       "{'input_ids': tensor([ 101, 2029, 1997, 1996, 2206, 2024, 6413, 2043, 2478, 1037, 2591, 2865,\n",
       "         4646, 1029,  102,    0,    0,    0,    0,    0,    0,    0,    0,    0,\n",
       "            0,    0,    0,    0,    0,    0,    0,    0,    0,    0,    0,    0,\n",
       "            0,    0,    0,    0,    0,    0,    0,    0,    0,    0,    0,    0,\n",
       "            0,    0,    0,    0,    0,    0,    0,    0,    0,    0,    0,    0,\n",
       "            0,    0,    0,    0,    0,    0,    0,    0,    0,    0]),\n",
       " 'token_type_ids': tensor([0, 0, 0, 0, 0, 0, 0, 0, 0, 0, 0, 0, 0, 0, 0, 0, 0, 0, 0, 0, 0, 0, 0, 0,\n",
       "         0, 0, 0, 0, 0, 0, 0, 0, 0, 0, 0, 0, 0, 0, 0, 0, 0, 0, 0, 0, 0, 0, 0, 0,\n",
       "         0, 0, 0, 0, 0, 0, 0, 0, 0, 0, 0, 0, 0, 0, 0, 0, 0, 0, 0, 0, 0, 0]),\n",
       " 'attention_mask': tensor([1, 1, 1, 1, 1, 1, 1, 1, 1, 1, 1, 1, 1, 1, 1, 0, 0, 0, 0, 0, 0, 0, 0, 0,\n",
       "         0, 0, 0, 0, 0, 0, 0, 0, 0, 0, 0, 0, 0, 0, 0, 0, 0, 0, 0, 0, 0, 0, 0, 0,\n",
       "         0, 0, 0, 0, 0, 0, 0, 0, 0, 0, 0, 0, 0, 0, 0, 0, 0, 0, 0, 0, 0, 0]),\n",
       " 'labels': tensor([0., 0., 0., 0., 0., 0., 0., 1., 0., 0., 0., 0., 0., 0., 0., 0., 0., 0.,\n",
       "         0., 0., 0., 0., 0., 0., 0.])}"
      ]
     },
     "execution_count": 45,
     "metadata": {},
     "output_type": "execute_result"
    }
   ],
   "source": [
    "encoded_ds[\"test\"][0]"
   ]
  },
  {
   "cell_type": "code",
   "execution_count": 47,
   "metadata": {},
   "outputs": [
    {
     "data": {
      "text/plain": [
       "device(type='cuda', index=0)"
      ]
     },
     "execution_count": 47,
     "metadata": {},
     "output_type": "execute_result"
    }
   ],
   "source": [
    "trainer.model.device\n"
   ]
  },
  {
   "cell_type": "code",
   "execution_count": 85,
   "metadata": {},
   "outputs": [],
   "source": [
    "test2 = encoded_ds['test']"
   ]
  },
  {
   "cell_type": "code",
   "execution_count": 86,
   "metadata": {},
   "outputs": [],
   "source": [
    "test2 = test2.with_format(\"torch\",device=device)\n"
   ]
  },
  {
   "cell_type": "code",
   "execution_count": null,
   "metadata": {},
   "outputs": [],
   "source": [
    "# from torch.utils.data import DataLoader\n",
    "# test_loader = DataLoader(test2, batch_size=8)\n",
    "\n",
    "# acc = []\n",
    "# loop = tqdm(test_loader)\n",
    "# for batch in loop:\n",
    "#     with torch.ho_grad():\n",
    "#         input_ids = batch['input_ids']\n",
    "#         token_type_ids = batch['token_type_ids']\n",
    "#         attention_mask = batch['attention_mask']\n",
    "#         labels = batch['labels']\n",
    "\n",
    "#         outputs = trainer.model(input_ids, token_type_ids = token_type_ids, attention_mask = attention_mask, labels=labels)\n",
    "#         loss = outputs[0]\n",
    "#         loss.backward()\n",
    "#         optim.step()\n",
    "\n",
    "#         loop.set_descriptions(f'Epoch {epoch}')\n",
    "#         loop.set_postfix(loss = loss.item())\n",
    "\n"
   ]
  },
  {
   "cell_type": "code",
   "execution_count": 115,
   "metadata": {},
   "outputs": [],
   "source": [
    "text = \"When creating a database table in database software, what should users usually set?\"\n",
    "\n",
    "encoding = tokenizer(text, return_tensors=\"pt\")\n",
    "encoding = {k: v.to(trainer.model.device) for k,v in encoding.items()}\n",
    "\n",
    "outputs = trainer.model(**encoding)"
   ]
  },
  {
   "cell_type": "code",
   "execution_count": 116,
   "metadata": {},
   "outputs": [
    {
     "data": {
      "text/plain": [
       "torch.Size([1, 25])"
      ]
     },
     "execution_count": 116,
     "metadata": {},
     "output_type": "execute_result"
    }
   ],
   "source": [
    "logits = outputs.logits\n",
    "logits.shape"
   ]
  },
  {
   "cell_type": "code",
   "execution_count": 117,
   "metadata": {},
   "outputs": [
    {
     "name": "stdout",
     "output_type": "stream",
     "text": [
      "['Database']\n"
     ]
    }
   ],
   "source": [
    "sigmoid = torch.nn.Sigmoid()\n",
    "probs = sigmoid(logits.squeeze().cpu())\n",
    "predictions = np.zeros(probs.shape)\n",
    "predictions[np.where(probs >= 0.5)] = 1\n",
    "# turn predicted id's into actual label names\n",
    "predicted_labels = [id2label[idx] for idx, label in enumerate(predictions) if label == 1.0]\n",
    "print(predicted_labels)"
   ]
  },
  {
   "cell_type": "code",
   "execution_count": 123,
   "metadata": {},
   "outputs": [
    {
     "name": "stderr",
     "output_type": "stream",
     "text": [
      "***** Running Prediction *****\n",
      "  Num examples = 43\n",
      "  Batch size = 8\n",
      "100%|██████████| 6/6 [00:00<00:00, 58.81it/s]\n"
     ]
    }
   ],
   "source": [
    "predictions = trainer.predict(encoded_ds['test'])"
   ]
  },
  {
   "cell_type": "code",
   "execution_count": 134,
   "metadata": {},
   "outputs": [
    {
     "name": "stdout",
     "output_type": "stream",
     "text": [
      "[[-3.7618997 -2.9189916 -2.913126  ... -2.962478  -2.6815667 -3.3390715]\n",
      " [-2.7135108 -3.2827024 -3.6933084 ... -3.252916  -3.3481479 -2.7850587]\n",
      " [-0.7024888 -3.9971478 -3.7749178 ... -3.8887842 -3.465865  -3.984353 ]\n",
      " ...\n",
      " [-3.8829486 -3.4575887 -3.0203755 ... -3.0978239 -3.457069  -3.3682363]\n",
      " [ 1.6844727 -3.241483  -3.215388  ... -2.6664422 -2.3518958 -3.8822513]\n",
      " [-2.7291753 -3.064532  -3.40631   ... -3.595975  -3.2936034 -2.8933134]]\n"
     ]
    }
   ],
   "source": [
    "print(predictions.predictions)"
   ]
  },
  {
   "cell_type": "code",
   "execution_count": 130,
   "metadata": {},
   "outputs": [
    {
     "name": "stdout",
     "output_type": "stream",
     "text": [
      "{'test_loss': 0.11980658024549484, 'test_f1': 0.36065573770491804, 'test_roc_auc': 0.6176215827946085, 'test_accuracy': 0.16279069767441862, 'test_runtime': 0.2729, 'test_samples_per_second': 157.556, 'test_steps_per_second': 21.985}\n"
     ]
    }
   ],
   "source": [
    "\n",
    "print(predictions.metrics)"
   ]
  },
  {
   "cell_type": "code",
   "execution_count": 135,
   "metadata": {},
   "outputs": [
    {
     "name": "stderr",
     "output_type": "stream",
     "text": [
      "Configuration saved in ./Bert-model-v1\\config.json\n",
      "Model weights saved in ./Bert-model-v1\\pytorch_model.bin\n"
     ]
    }
   ],
   "source": [
    "model.save_pretrained(\"./Bert-model-v1\")"
   ]
  },
  {
   "cell_type": "code",
   "execution_count": 137,
   "metadata": {},
   "outputs": [
    {
     "name": "stderr",
     "output_type": "stream",
     "text": [
      "***** Running Evaluation *****\n",
      "  Num examples = 43\n",
      "  Batch size = 8\n",
      "100%|██████████| 6/6 [00:00<00:00, 52.42it/s]\n"
     ]
    },
    {
     "data": {
      "text/plain": [
       "{'eval_loss': 0.11980658024549484,\n",
       " 'eval_f1': 0.36065573770491804,\n",
       " 'eval_roc_auc': 0.6176215827946085,\n",
       " 'eval_accuracy': 0.16279069767441862,\n",
       " 'eval_runtime': 0.3234,\n",
       " 'eval_samples_per_second': 132.956,\n",
       " 'eval_steps_per_second': 18.552,\n",
       " 'epoch': 30.0}"
      ]
     },
     "execution_count": 137,
     "metadata": {},
     "output_type": "execute_result"
    }
   ],
   "source": [
    "trainer.evaluate(encoded_ds['test'])"
   ]
  },
  {
   "cell_type": "code",
   "execution_count": 140,
   "metadata": {},
   "outputs": [
    {
     "data": {
      "text/plain": [
       "array([[0., 0., 0., ..., 0., 0., 0.],\n",
       "       [0., 0., 0., ..., 0., 0., 0.],\n",
       "       [0., 0., 0., ..., 0., 0., 0.],\n",
       "       ...,\n",
       "       [0., 0., 0., ..., 0., 0., 0.],\n",
       "       [0., 0., 0., ..., 0., 0., 0.],\n",
       "       [0., 0., 0., ..., 0., 0., 0.]], dtype=float32)"
      ]
     },
     "execution_count": 140,
     "metadata": {},
     "output_type": "execute_result"
    }
   ],
   "source": [
    "\n"
   ]
  },
  {
   "attachments": {},
   "cell_type": "markdown",
   "metadata": {},
   "source": [
    "# Training model 2"
   ]
  }
 ],
 "metadata": {
  "kernelspec": {
   "display_name": "venv",
   "language": "python",
   "name": "python3"
  },
  "language_info": {
   "codemirror_mode": {
    "name": "ipython",
    "version": 3
   },
   "file_extension": ".py",
   "mimetype": "text/x-python",
   "name": "python",
   "nbconvert_exporter": "python",
   "pygments_lexer": "ipython3",
   "version": "3.8.10"
  },
  "orig_nbformat": 4,
  "vscode": {
   "interpreter": {
    "hash": "e32da21edddcaf775c480ccd7b569f19fc9b1c5c20d607727913c5339e7adca8"
   }
  }
 },
 "nbformat": 4,
 "nbformat_minor": 2
}
