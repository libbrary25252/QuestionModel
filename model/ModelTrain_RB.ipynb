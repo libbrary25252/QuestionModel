{
 "cells": [
  {
   "cell_type": "code",
   "execution_count": 2,
   "metadata": {},
   "outputs": [
    {
     "data": {
      "text/plain": [
       "DatasetDict({\n",
       "    train: Dataset({\n",
       "        features: ['String', 'Algorithm Design', 'Basic Machine Organisation', 'Computer System', 'Data Manipulation and Analysis', 'Data Organisation and Data Control', 'Elementary Web Authoring', 'Health and Ethical Issues', 'Information Processing', 'Intellectual Property', 'Internet Services and Applications', 'Multimedia Elements', 'Networking and Internet Basics', 'Program Development', 'Spreadsheets and Databases', 'Threats and Security on the Internet', '__index_level_0__'],\n",
       "        num_rows: 644\n",
       "    })\n",
       "    valid: Dataset({\n",
       "        features: ['String', 'Algorithm Design', 'Basic Machine Organisation', 'Computer System', 'Data Manipulation and Analysis', 'Data Organisation and Data Control', 'Elementary Web Authoring', 'Health and Ethical Issues', 'Information Processing', 'Intellectual Property', 'Internet Services and Applications', 'Multimedia Elements', 'Networking and Internet Basics', 'Program Development', 'Spreadsheets and Databases', 'Threats and Security on the Internet', '__index_level_0__'],\n",
       "        num_rows: 81\n",
       "    })\n",
       "    test: Dataset({\n",
       "        features: ['String', 'Algorithm Design', 'Basic Machine Organisation', 'Computer System', 'Data Manipulation and Analysis', 'Data Organisation and Data Control', 'Elementary Web Authoring', 'Health and Ethical Issues', 'Information Processing', 'Intellectual Property', 'Internet Services and Applications', 'Multimedia Elements', 'Networking and Internet Basics', 'Program Development', 'Spreadsheets and Databases', 'Threats and Security on the Internet', '__index_level_0__'],\n",
       "        num_rows: 81\n",
       "    })\n",
       "})"
      ]
     },
     "execution_count": 2,
     "metadata": {},
     "output_type": "execute_result"
    }
   ],
   "source": [
    "# Model Training\n",
    "from datasets import load_from_disk\n",
    "\n",
    "datasets = load_from_disk(\"./encoded_data4\")\n",
    "datasets"
   ]
  },
  {
   "cell_type": "code",
   "execution_count": 3,
   "metadata": {},
   "outputs": [],
   "source": [
    "datasets = datasets.remove_columns(['__index_level_0__'])"
   ]
  },
  {
   "cell_type": "code",
   "execution_count": 4,
   "metadata": {},
   "outputs": [
    {
     "data": {
      "text/plain": [
       "DatasetDict({\n",
       "    train: Dataset({\n",
       "        features: ['String', 'Algorithm Design', 'Basic Machine Organisation', 'Computer System', 'Data Manipulation and Analysis', 'Data Organisation and Data Control', 'Elementary Web Authoring', 'Health and Ethical Issues', 'Information Processing', 'Intellectual Property', 'Internet Services and Applications', 'Multimedia Elements', 'Networking and Internet Basics', 'Program Development', 'Spreadsheets and Databases', 'Threats and Security on the Internet'],\n",
       "        num_rows: 644\n",
       "    })\n",
       "    valid: Dataset({\n",
       "        features: ['String', 'Algorithm Design', 'Basic Machine Organisation', 'Computer System', 'Data Manipulation and Analysis', 'Data Organisation and Data Control', 'Elementary Web Authoring', 'Health and Ethical Issues', 'Information Processing', 'Intellectual Property', 'Internet Services and Applications', 'Multimedia Elements', 'Networking and Internet Basics', 'Program Development', 'Spreadsheets and Databases', 'Threats and Security on the Internet'],\n",
       "        num_rows: 81\n",
       "    })\n",
       "    test: Dataset({\n",
       "        features: ['String', 'Algorithm Design', 'Basic Machine Organisation', 'Computer System', 'Data Manipulation and Analysis', 'Data Organisation and Data Control', 'Elementary Web Authoring', 'Health and Ethical Issues', 'Information Processing', 'Intellectual Property', 'Internet Services and Applications', 'Multimedia Elements', 'Networking and Internet Basics', 'Program Development', 'Spreadsheets and Databases', 'Threats and Security on the Internet'],\n",
       "        num_rows: 81\n",
       "    })\n",
       "})"
      ]
     },
     "execution_count": 4,
     "metadata": {},
     "output_type": "execute_result"
    }
   ],
   "source": [
    "datasets"
   ]
  },
  {
   "cell_type": "code",
   "execution_count": 5,
   "metadata": {},
   "outputs": [],
   "source": [
    "model_labels = [label for label in datasets['train'].features.keys() if label not in ['Unnamed: 0', 'String', '__index_level_0__']]"
   ]
  },
  {
   "cell_type": "code",
   "execution_count": 6,
   "metadata": {},
   "outputs": [
    {
     "data": {
      "text/plain": [
       "['Algorithm Design',\n",
       " 'Basic Machine Organisation',\n",
       " 'Computer System',\n",
       " 'Data Manipulation and Analysis',\n",
       " 'Data Organisation and Data Control',\n",
       " 'Elementary Web Authoring',\n",
       " 'Health and Ethical Issues',\n",
       " 'Information Processing',\n",
       " 'Intellectual Property',\n",
       " 'Internet Services and Applications',\n",
       " 'Multimedia Elements',\n",
       " 'Networking and Internet Basics',\n",
       " 'Program Development',\n",
       " 'Spreadsheets and Databases',\n",
       " 'Threats and Security on the Internet']"
      ]
     },
     "execution_count": 6,
     "metadata": {},
     "output_type": "execute_result"
    }
   ],
   "source": [
    "model_labels"
   ]
  },
  {
   "cell_type": "code",
   "execution_count": 7,
   "metadata": {},
   "outputs": [
    {
     "data": {
      "text/plain": [
       "['String',\n",
       " 'Algorithm Design',\n",
       " 'Basic Machine Organisation',\n",
       " 'Computer System',\n",
       " 'Data Manipulation and Analysis',\n",
       " 'Data Organisation and Data Control',\n",
       " 'Elementary Web Authoring',\n",
       " 'Health and Ethical Issues',\n",
       " 'Information Processing',\n",
       " 'Intellectual Property',\n",
       " 'Internet Services and Applications',\n",
       " 'Multimedia Elements',\n",
       " 'Networking and Internet Basics',\n",
       " 'Program Development',\n",
       " 'Spreadsheets and Databases',\n",
       " 'Threats and Security on the Internet']"
      ]
     },
     "execution_count": 7,
     "metadata": {},
     "output_type": "execute_result"
    }
   ],
   "source": [
    "datasets[\"train\"].column_names"
   ]
  },
  {
   "cell_type": "code",
   "execution_count": 8,
   "metadata": {},
   "outputs": [
    {
     "data": {
      "text/plain": [
       "{'String': Value(dtype='string', id=None),\n",
       " 'Algorithm Design': Value(dtype='int32', id=None),\n",
       " 'Basic Machine Organisation': Value(dtype='int32', id=None),\n",
       " 'Computer System': Value(dtype='int32', id=None),\n",
       " 'Data Manipulation and Analysis': Value(dtype='int32', id=None),\n",
       " 'Data Organisation and Data Control': Value(dtype='int32', id=None),\n",
       " 'Elementary Web Authoring': Value(dtype='int32', id=None),\n",
       " 'Health and Ethical Issues': Value(dtype='int32', id=None),\n",
       " 'Information Processing': Value(dtype='int32', id=None),\n",
       " 'Intellectual Property': Value(dtype='int32', id=None),\n",
       " 'Internet Services and Applications': Value(dtype='int32', id=None),\n",
       " 'Multimedia Elements': Value(dtype='int32', id=None),\n",
       " 'Networking and Internet Basics': Value(dtype='int32', id=None),\n",
       " 'Program Development': Value(dtype='int32', id=None),\n",
       " 'Spreadsheets and Databases': Value(dtype='int32', id=None),\n",
       " 'Threats and Security on the Internet': Value(dtype='int32', id=None)}"
      ]
     },
     "execution_count": 8,
     "metadata": {},
     "output_type": "execute_result"
    }
   ],
   "source": [
    "datasets[\"train\"].features"
   ]
  },
  {
   "cell_type": "code",
   "execution_count": 9,
   "metadata": {},
   "outputs": [],
   "source": [
    "#print(f\"{datasets.train.column_names}\\n{datasets.train.features}\")"
   ]
  },
  {
   "cell_type": "code",
   "execution_count": 10,
   "metadata": {},
   "outputs": [
    {
     "data": {
      "text/plain": [
       "['Algorithm Design',\n",
       " 'Basic Machine Organisation',\n",
       " 'Computer System',\n",
       " 'Data Manipulation and Analysis',\n",
       " 'Data Organisation and Data Control',\n",
       " 'Elementary Web Authoring',\n",
       " 'Health and Ethical Issues',\n",
       " 'Information Processing',\n",
       " 'Intellectual Property',\n",
       " 'Internet Services and Applications',\n",
       " 'Multimedia Elements',\n",
       " 'Networking and Internet Basics',\n",
       " 'Program Development',\n",
       " 'Spreadsheets and Databases',\n",
       " 'Threats and Security on the Internet']"
      ]
     },
     "execution_count": 10,
     "metadata": {},
     "output_type": "execute_result"
    }
   ],
   "source": [
    "model_labels"
   ]
  },
  {
   "cell_type": "code",
   "execution_count": 11,
   "metadata": {},
   "outputs": [],
   "source": [
    "id2label = {idx:label for idx, label in enumerate(model_labels)}\n",
    "label2id = {label:idx for idx, label in enumerate(model_labels)}"
   ]
  },
  {
   "cell_type": "code",
   "execution_count": 12,
   "metadata": {},
   "outputs": [],
   "source": [
    "from transformers import DistilBertTokenizer, DistilBertForSequenceClassification\n",
    "import numpy as np\n",
    "\n",
    "tokenizer = DistilBertTokenizer.from_pretrained(\"distilbert-base-uncased\")"
   ]
  },
  {
   "cell_type": "code",
   "execution_count": 13,
   "metadata": {},
   "outputs": [],
   "source": [
    "def encode_data(dataset):\n",
    "    text = dataset[\"String\"]\n",
    "    # tokenize string\n",
    "    encoding = tokenizer(text, padding=\"max_length\", truncation=True, max_length=70)\n",
    "    # create encoded array list with labels\n",
    "    labelsBatch = {x: dataset[x] for x in dataset.keys() if x in model_labels}\n",
    "    labels_matrix = np.zeros((len(text), len(model_labels)))\n",
    "    for idx, label in enumerate(model_labels):\n",
    "        labels_matrix[:, idx] = labelsBatch[label]\n",
    "    \n",
    "    encoding[\"labels\"] = labels_matrix.tolist()\n",
    "    return encoding"
   ]
  },
  {
   "cell_type": "code",
   "execution_count": 14,
   "metadata": {},
   "outputs": [
    {
     "name": "stderr",
     "output_type": "stream",
     "text": [
      "Loading cached processed dataset at c:\\Users\\user\\Desktop\\QuestionQuestionModel\\model\\encoded_data4\\train\\cache-7700797c4d7f932e.arrow\n",
      "Loading cached processed dataset at c:\\Users\\user\\Desktop\\QuestionQuestionModel\\model\\encoded_data4\\valid\\cache-ea223c76f3455998.arrow\n",
      "Loading cached processed dataset at c:\\Users\\user\\Desktop\\QuestionQuestionModel\\model\\encoded_data4\\test\\cache-459aacbf91ebbdc4.arrow\n"
     ]
    }
   ],
   "source": [
    "# tokenize the dataset\n",
    "encoded_ds = datasets.map(encode_data, batched=True, remove_columns=datasets['train'].column_names)"
   ]
  },
  {
   "cell_type": "code",
   "execution_count": 15,
   "metadata": {},
   "outputs": [
    {
     "data": {
      "text/plain": [
       "[0.0, 0.0, 0.0, 0.0, 0.0, 0.0, 0.0, 0.0, 0.0, 0.0, 1.0, 0.0, 0.0, 0.0, 0.0]"
      ]
     },
     "execution_count": 15,
     "metadata": {},
     "output_type": "execute_result"
    }
   ],
   "source": [
    "encoded_ds['train']['labels'][0]"
   ]
  },
  {
   "cell_type": "code",
   "execution_count": 16,
   "metadata": {},
   "outputs": [
    {
     "data": {
      "text/plain": [
       "['Data Organisation and Data Control']"
      ]
     },
     "execution_count": 16,
     "metadata": {},
     "output_type": "execute_result"
    }
   ],
   "source": [
    "[id2label[idx] for idx, label in enumerate(encoded_ds['train'][15]['labels']) if label == 1.0]"
   ]
  },
  {
   "cell_type": "code",
   "execution_count": 17,
   "metadata": {},
   "outputs": [
    {
     "name": "stdout",
     "output_type": "stream",
     "text": [
      "Using device: cuda\n",
      "\n"
     ]
    }
   ],
   "source": [
    "import torch\n",
    "from torch import cuda\n",
    "device = torch.device('cuda' if torch.cuda.is_available() else 'cpu')\n",
    "print('Using device:', device)\n",
    "print()\n",
    "\n",
    "encoded_ds.set_format(\"torch\")"
   ]
  },
  {
   "cell_type": "code",
   "execution_count": 18,
   "metadata": {},
   "outputs": [
    {
     "data": {
      "text/plain": [
       "Dataset({\n",
       "    features: ['input_ids', 'attention_mask', 'labels'],\n",
       "    num_rows: 644\n",
       "})"
      ]
     },
     "execution_count": 18,
     "metadata": {},
     "output_type": "execute_result"
    }
   ],
   "source": [
    "encoded_ds[\"train\"]"
   ]
  },
  {
   "cell_type": "code",
   "execution_count": 19,
   "metadata": {},
   "outputs": [
    {
     "name": "stderr",
     "output_type": "stream",
     "text": [
      "Some weights of the model checkpoint at distilbert-base-uncased were not used when initializing DistilBertForSequenceClassification: ['vocab_layer_norm.weight', 'vocab_layer_norm.bias', 'vocab_transform.weight', 'vocab_projector.weight', 'vocab_projector.bias', 'vocab_transform.bias']\n",
      "- This IS expected if you are initializing DistilBertForSequenceClassification from the checkpoint of a model trained on another task or with another architecture (e.g. initializing a BertForSequenceClassification model from a BertForPreTraining model).\n",
      "- This IS NOT expected if you are initializing DistilBertForSequenceClassification from the checkpoint of a model that you expect to be exactly identical (initializing a BertForSequenceClassification model from a BertForSequenceClassification model).\n",
      "Some weights of DistilBertForSequenceClassification were not initialized from the model checkpoint at distilbert-base-uncased and are newly initialized: ['classifier.weight', 'pre_classifier.bias', 'pre_classifier.weight', 'classifier.bias']\n",
      "You should probably TRAIN this model on a down-stream task to be able to use it for predictions and inference.\n"
     ]
    }
   ],
   "source": [
    "\n",
    "# define model\n",
    "model = DistilBertForSequenceClassification.from_pretrained(\"distilbert-base-uncased\", problem_type=\"multi_label_classification\", num_labels=len(model_labels), id2label=id2label, label2id=label2id)"
   ]
  },
  {
   "cell_type": "code",
   "execution_count": 20,
   "metadata": {},
   "outputs": [],
   "source": [
    "# train model\n",
    "batch_size = 8\n",
    "metric_name = \"f1\""
   ]
  },
  {
   "cell_type": "code",
   "execution_count": 21,
   "metadata": {},
   "outputs": [],
   "source": [
    "import evaluate\n",
    "metric  = evaluate.load(\"accuracy\")"
   ]
  },
  {
   "cell_type": "code",
   "execution_count": 22,
   "metadata": {},
   "outputs": [
    {
     "data": {
      "text/plain": [
       "'20230329_044227$-train-model-distilbert-base-uncased'"
      ]
     },
     "execution_count": 22,
     "metadata": {},
     "output_type": "execute_result"
    }
   ],
   "source": [
    "import time\n",
    "\n",
    "train_name_dir = time.strftime(f\"%Y%m%d_%H%M%S$-train-model-{model.name_or_path}\")\n",
    "train_name_dir"
   ]
  },
  {
   "cell_type": "code",
   "execution_count": 23,
   "metadata": {},
   "outputs": [],
   "source": [
    "from transformers import TrainingArguments, Trainer\n",
    "\n",
    "\n",
    "args = TrainingArguments(\n",
    "    output_dir=\"./distBert-v9/\"+ train_name_dir,\n",
    "    evaluation_strategy = \"epoch\",\n",
    "    save_strategy = \"epoch\",\n",
    "    learning_rate=2e-5,\n",
    "    per_device_train_batch_size=batch_size,\n",
    "    per_device_eval_batch_size=batch_size,\n",
    "    num_train_epochs= 81,\n",
    "    weight_decay=0.01,\n",
    "    load_best_model_at_end=True,\n",
    "    metric_for_best_model=metric_name,\n",
    "    logging_dir='./distBert-v9/logging/'+ train_name_dir\n",
    ")"
   ]
  },
  {
   "cell_type": "code",
   "execution_count": 24,
   "metadata": {},
   "outputs": [
    {
     "data": {
      "text/plain": [
       "2e-05"
      ]
     },
     "execution_count": 24,
     "metadata": {},
     "output_type": "execute_result"
    }
   ],
   "source": [
    "args.learning_rate"
   ]
  },
  {
   "cell_type": "code",
   "execution_count": 25,
   "metadata": {},
   "outputs": [
    {
     "name": "stderr",
     "output_type": "stream",
     "text": [
      "c:\\Users\\user\\Desktop\\QuestionQuestionModel\\venv\\lib\\site-packages\\transformers\\optimization.py:306: FutureWarning: This implementation of AdamW is deprecated and will be removed in a future version. Use the PyTorch implementation torch.optim.AdamW instead, or set `no_deprecation_warning=True` to disable this warning\n",
      "  warnings.warn(\n"
     ]
    }
   ],
   "source": [
    "from transformers import AdamW\n",
    "optimizer = AdamW(model.parameters(), lr=args.learning_rate, weight_decay=args.weight_decay)"
   ]
  },
  {
   "cell_type": "code",
   "execution_count": 26,
   "metadata": {},
   "outputs": [],
   "source": [
    "from sklearn.metrics import f1_score, roc_auc_score, accuracy_score, balanced_accuracy_score, hamming_loss\n",
    "from transformers import EvalPrediction\n",
    "\n",
    "\n",
    "def multi_label_metrics(predictions, labels, threshold=0.50):\n",
    "    # apply sigmoid on predictions fitting (batch_size, num_labels)\n",
    "    sigmoid = torch.nn.Sigmoid()\n",
    "    probs = sigmoid(torch.Tensor(predictions))\n",
    "    # use threshold to turn them into integer predictions\n",
    "    y_pred = np.zeros(probs.shape)\n",
    "    y_pred[np.where(probs >= threshold)] = 1\n",
    "    # compute metrics\n",
    "    y_true = labels\n",
    "    f1_micro_average = f1_score(y_true=y_true, y_pred=y_pred, average='micro')\n",
    "    roc_auc = roc_auc_score(y_true, y_pred, average = 'micro')\n",
    "    accuracy = accuracy_score(y_true, y_pred)\n",
    "    balanced_accuracy = balanced_accuracy_score(y_true.argmax(axis=1), y_pred.argmax(axis=1))\n",
    "    # logits, labels = predictions\n",
    "    # prediction = np.argmax(logits, axis=-1)\n",
    "    # return as dictionary\n",
    "    metrics = {'f1': f1_micro_average,\n",
    "               'roc_auc': roc_auc,\n",
    "               'accuracy': accuracy,\n",
    "               'balanced_accuracy': balanced_accuracy,\n",
    "               }\n",
    "    return metrics\n",
    "\n",
    "def compute_metrics(p: EvalPrediction):\n",
    "    preds = p.predictions[0] if isinstance(p.predictions, \n",
    "            tuple) else p.predictions\n",
    "    result = multi_label_metrics(\n",
    "        predictions=preds, \n",
    "        labels=p.label_ids)\n",
    "    return result\n",
    "\n",
    "def compute_metrics_new(eval_pred):\n",
    "    logits, labels = eval_pred\n",
    "    predictions = np.argmax(logits, axis=-1)\n",
    "    return metric.compute(predictions=predictions, references=labels)"
   ]
  },
  {
   "cell_type": "code",
   "execution_count": 27,
   "metadata": {},
   "outputs": [
    {
     "data": {
      "text/plain": [
       "'torch.FloatTensor'"
      ]
     },
     "execution_count": 27,
     "metadata": {},
     "output_type": "execute_result"
    }
   ],
   "source": [
    "encoded_ds['train'][0]['labels'].type()"
   ]
  },
  {
   "cell_type": "code",
   "execution_count": 28,
   "metadata": {},
   "outputs": [],
   "source": [
    "# model.to(device)"
   ]
  },
  {
   "cell_type": "code",
   "execution_count": 29,
   "metadata": {},
   "outputs": [
    {
     "data": {
      "text/plain": [
       "SequenceClassifierOutput(loss=tensor(0.7047, grad_fn=<BinaryCrossEntropyWithLogitsBackward0>), logits=tensor([[ 0.0037,  0.0217,  0.1640, -0.0293,  0.0279, -0.0833,  0.0151,  0.0361,\n",
       "          0.0137,  0.0495,  0.0158,  0.0092, -0.0196, -0.0053,  0.1444]],\n",
       "       grad_fn=<AddmmBackward0>), hidden_states=None, attentions=None)"
      ]
     },
     "execution_count": 29,
     "metadata": {},
     "output_type": "execute_result"
    }
   ],
   "source": [
    "outputs = model(input_ids=encoded_ds['train']['input_ids'][0].unsqueeze(0), labels=encoded_ds['train'][0]['labels'].unsqueeze(0))\n",
    "outputs"
   ]
  },
  {
   "cell_type": "code",
   "execution_count": 30,
   "metadata": {},
   "outputs": [],
   "source": [
    "trainer = Trainer(\n",
    "    model,\n",
    "    args,\n",
    "    train_dataset=encoded_ds[\"train\"],\n",
    "    eval_dataset=encoded_ds[\"valid\"],\n",
    "    compute_metrics=compute_metrics,\n",
    "    tokenizer=tokenizer\n",
    ")"
   ]
  },
  {
   "cell_type": "code",
   "execution_count": 31,
   "metadata": {},
   "outputs": [
    {
     "name": "stderr",
     "output_type": "stream",
     "text": [
      "***** Running training *****\n",
      "  Num examples = 644\n",
      "  Num Epochs = 81\n",
      "  Instantaneous batch size per device = 8\n",
      "  Total train batch size (w. parallel, distributed & accumulation) = 8\n",
      "  Gradient Accumulation steps = 1\n",
      "  Total optimization steps = 6561\n",
      "  Number of trainable parameters = 66965007\n",
      "  1%|          | 81/6561 [00:05<05:03, 21.34it/s] ***** Running Evaluation *****\n",
      "  Num examples = 81\n",
      "  Batch size = 8\n",
      "                                                 \n",
      "  1%|          | 81/6561 [00:05<05:03, 21.34it/s]Saving model checkpoint to ./distBert-v9/20230329_044227$-train-model-distilbert-base-uncased\\checkpoint-81\n",
      "Configuration saved in ./distBert-v9/20230329_044227$-train-model-distilbert-base-uncased\\checkpoint-81\\config.json\n"
     ]
    },
    {
     "name": "stdout",
     "output_type": "stream",
     "text": [
      "{'eval_loss': 0.28308966755867004, 'eval_f1': 0.0, 'eval_roc_auc': 0.5, 'eval_accuracy': 0.0, 'eval_balanced_accuracy': 0.06666666666666667, 'eval_runtime': 0.1293, 'eval_samples_per_second': 626.686, 'eval_steps_per_second': 85.106, 'epoch': 1.0}\n"
     ]
    },
    {
     "name": "stderr",
     "output_type": "stream",
     "text": [
      "Model weights saved in ./distBert-v9/20230329_044227$-train-model-distilbert-base-uncased\\checkpoint-81\\pytorch_model.bin\n",
      "tokenizer config file saved in ./distBert-v9/20230329_044227$-train-model-distilbert-base-uncased\\checkpoint-81\\tokenizer_config.json\n",
      "Special tokens file saved in ./distBert-v9/20230329_044227$-train-model-distilbert-base-uncased\\checkpoint-81\\special_tokens_map.json\n",
      "  2%|▏         | 162/6561 [00:10<04:59, 21.38it/s]***** Running Evaluation *****\n",
      "  Num examples = 81\n",
      "  Batch size = 8\n",
      "                                                  \n",
      "  2%|▏         | 162/6561 [00:10<04:59, 21.38it/s]Saving model checkpoint to ./distBert-v9/20230329_044227$-train-model-distilbert-base-uncased\\checkpoint-162\n",
      "Configuration saved in ./distBert-v9/20230329_044227$-train-model-distilbert-base-uncased\\checkpoint-162\\config.json\n"
     ]
    },
    {
     "name": "stdout",
     "output_type": "stream",
     "text": [
      "{'eval_loss': 0.2506187856197357, 'eval_f1': 0.0, 'eval_roc_auc': 0.5, 'eval_accuracy': 0.0, 'eval_balanced_accuracy': 0.06666666666666667, 'eval_runtime': 0.1408, 'eval_samples_per_second': 575.269, 'eval_steps_per_second': 78.123, 'epoch': 2.0}\n"
     ]
    },
    {
     "name": "stderr",
     "output_type": "stream",
     "text": [
      "Model weights saved in ./distBert-v9/20230329_044227$-train-model-distilbert-base-uncased\\checkpoint-162\\pytorch_model.bin\n",
      "tokenizer config file saved in ./distBert-v9/20230329_044227$-train-model-distilbert-base-uncased\\checkpoint-162\\tokenizer_config.json\n",
      "Special tokens file saved in ./distBert-v9/20230329_044227$-train-model-distilbert-base-uncased\\checkpoint-162\\special_tokens_map.json\n",
      "  4%|▎         | 243/6561 [00:15<04:54, 21.45it/s]***** Running Evaluation *****\n",
      "  Num examples = 81\n",
      "  Batch size = 8\n",
      "                                                  \n",
      "  4%|▎         | 243/6561 [00:15<04:54, 21.45it/s]Saving model checkpoint to ./distBert-v9/20230329_044227$-train-model-distilbert-base-uncased\\checkpoint-243\n",
      "Configuration saved in ./distBert-v9/20230329_044227$-train-model-distilbert-base-uncased\\checkpoint-243\\config.json\n"
     ]
    },
    {
     "name": "stdout",
     "output_type": "stream",
     "text": [
      "{'eval_loss': 0.22831156849861145, 'eval_f1': 0.0, 'eval_roc_auc': 0.5, 'eval_accuracy': 0.0, 'eval_balanced_accuracy': 0.06666666666666667, 'eval_runtime': 0.1309, 'eval_samples_per_second': 618.699, 'eval_steps_per_second': 84.021, 'epoch': 3.0}\n"
     ]
    },
    {
     "name": "stderr",
     "output_type": "stream",
     "text": [
      "Model weights saved in ./distBert-v9/20230329_044227$-train-model-distilbert-base-uncased\\checkpoint-243\\pytorch_model.bin\n",
      "tokenizer config file saved in ./distBert-v9/20230329_044227$-train-model-distilbert-base-uncased\\checkpoint-243\\tokenizer_config.json\n",
      "Special tokens file saved in ./distBert-v9/20230329_044227$-train-model-distilbert-base-uncased\\checkpoint-243\\special_tokens_map.json\n",
      "  5%|▍         | 324/6561 [00:20<04:50, 21.48it/s]***** Running Evaluation *****\n",
      "  Num examples = 81\n",
      "  Batch size = 8\n",
      "                                                  \n",
      "  5%|▍         | 324/6561 [00:20<04:50, 21.48it/s]Saving model checkpoint to ./distBert-v9/20230329_044227$-train-model-distilbert-base-uncased\\checkpoint-324\n",
      "Configuration saved in ./distBert-v9/20230329_044227$-train-model-distilbert-base-uncased\\checkpoint-324\\config.json\n"
     ]
    },
    {
     "name": "stdout",
     "output_type": "stream",
     "text": [
      "{'eval_loss': 0.1886240690946579, 'eval_f1': 0.13043478260869565, 'eval_roc_auc': 0.5348837209302325, 'eval_accuracy': 0.07407407407407407, 'eval_balanced_accuracy': 0.1293939393939394, 'eval_runtime': 0.134, 'eval_samples_per_second': 604.433, 'eval_steps_per_second': 82.084, 'epoch': 4.0}\n"
     ]
    },
    {
     "name": "stderr",
     "output_type": "stream",
     "text": [
      "Model weights saved in ./distBert-v9/20230329_044227$-train-model-distilbert-base-uncased\\checkpoint-324\\pytorch_model.bin\n",
      "tokenizer config file saved in ./distBert-v9/20230329_044227$-train-model-distilbert-base-uncased\\checkpoint-324\\tokenizer_config.json\n",
      "Special tokens file saved in ./distBert-v9/20230329_044227$-train-model-distilbert-base-uncased\\checkpoint-324\\special_tokens_map.json\n",
      "  6%|▌         | 405/6561 [00:25<04:55, 20.84it/s]***** Running Evaluation *****\n",
      "  Num examples = 81\n",
      "  Batch size = 8\n",
      "                                                  \n",
      "  6%|▌         | 405/6561 [00:26<04:55, 20.84it/s]Saving model checkpoint to ./distBert-v9/20230329_044227$-train-model-distilbert-base-uncased\\checkpoint-405\n",
      "Configuration saved in ./distBert-v9/20230329_044227$-train-model-distilbert-base-uncased\\checkpoint-405\\config.json\n"
     ]
    },
    {
     "name": "stdout",
     "output_type": "stream",
     "text": [
      "{'eval_loss': 0.15465840697288513, 'eval_f1': 0.5172413793103449, 'eval_roc_auc': 0.6744186046511628, 'eval_accuracy': 0.345679012345679, 'eval_balanced_accuracy': 0.2953030303030303, 'eval_runtime': 0.1297, 'eval_samples_per_second': 624.649, 'eval_steps_per_second': 84.829, 'epoch': 5.0}\n"
     ]
    },
    {
     "name": "stderr",
     "output_type": "stream",
     "text": [
      "Model weights saved in ./distBert-v9/20230329_044227$-train-model-distilbert-base-uncased\\checkpoint-405\\pytorch_model.bin\n",
      "tokenizer config file saved in ./distBert-v9/20230329_044227$-train-model-distilbert-base-uncased\\checkpoint-405\\tokenizer_config.json\n",
      "Special tokens file saved in ./distBert-v9/20230329_044227$-train-model-distilbert-base-uncased\\checkpoint-405\\special_tokens_map.json\n",
      "  7%|▋         | 484/6561 [00:31<04:45, 21.30it/s]***** Running Evaluation *****\n",
      "  Num examples = 81\n",
      "  Batch size = 8\n",
      "                                                  \n",
      "  7%|▋         | 486/6561 [00:32<04:45, 21.30it/s]Saving model checkpoint to ./distBert-v9/20230329_044227$-train-model-distilbert-base-uncased\\checkpoint-486\n",
      "Configuration saved in ./distBert-v9/20230329_044227$-train-model-distilbert-base-uncased\\checkpoint-486\\config.json\n"
     ]
    },
    {
     "name": "stdout",
     "output_type": "stream",
     "text": [
      "{'eval_loss': 0.13161906599998474, 'eval_f1': 0.6165413533834587, 'eval_roc_auc': 0.7357148742455765, 'eval_accuracy': 0.48148148148148145, 'eval_balanced_accuracy': 0.44266233766233765, 'eval_runtime': 0.1341, 'eval_samples_per_second': 603.97, 'eval_steps_per_second': 82.021, 'epoch': 6.0}\n"
     ]
    },
    {
     "name": "stderr",
     "output_type": "stream",
     "text": [
      "Model weights saved in ./distBert-v9/20230329_044227$-train-model-distilbert-base-uncased\\checkpoint-486\\pytorch_model.bin\n",
      "tokenizer config file saved in ./distBert-v9/20230329_044227$-train-model-distilbert-base-uncased\\checkpoint-486\\tokenizer_config.json\n",
      "Special tokens file saved in ./distBert-v9/20230329_044227$-train-model-distilbert-base-uncased\\checkpoint-486\\special_tokens_map.json\n",
      "  8%|▊         | 504/6561 [00:34<06:23, 15.79it/s]"
     ]
    },
    {
     "name": "stdout",
     "output_type": "stream",
     "text": [
      "{'loss': 0.231, 'learning_rate': 1.8475842097241278e-05, 'epoch': 6.17}\n"
     ]
    },
    {
     "name": "stderr",
     "output_type": "stream",
     "text": [
      "  9%|▊         | 567/6561 [00:37<04:39, 21.47it/s]***** Running Evaluation *****\n",
      "  Num examples = 81\n",
      "  Batch size = 8\n",
      "                                                  \n",
      "  9%|▊         | 567/6561 [00:37<04:39, 21.47it/s]Saving model checkpoint to ./distBert-v9/20230329_044227$-train-model-distilbert-base-uncased\\checkpoint-567\n",
      "Configuration saved in ./distBert-v9/20230329_044227$-train-model-distilbert-base-uncased\\checkpoint-567\\config.json\n"
     ]
    },
    {
     "name": "stdout",
     "output_type": "stream",
     "text": [
      "{'eval_loss': 0.12099692225456238, 'eval_f1': 0.6802721088435374, 'eval_roc_auc': 0.785826106659526, 'eval_accuracy': 0.5679012345679012, 'eval_balanced_accuracy': 0.5808658008658008, 'eval_runtime': 0.1287, 'eval_samples_per_second': 629.533, 'eval_steps_per_second': 85.492, 'epoch': 7.0}\n"
     ]
    },
    {
     "name": "stderr",
     "output_type": "stream",
     "text": [
      "Model weights saved in ./distBert-v9/20230329_044227$-train-model-distilbert-base-uncased\\checkpoint-567\\pytorch_model.bin\n",
      "tokenizer config file saved in ./distBert-v9/20230329_044227$-train-model-distilbert-base-uncased\\checkpoint-567\\tokenizer_config.json\n",
      "Special tokens file saved in ./distBert-v9/20230329_044227$-train-model-distilbert-base-uncased\\checkpoint-567\\special_tokens_map.json\n",
      " 10%|▉         | 648/6561 [00:42<04:35, 21.43it/s]***** Running Evaluation *****\n",
      "  Num examples = 81\n",
      "  Batch size = 8\n",
      "                                                  \n",
      " 10%|▉         | 648/6561 [00:42<04:35, 21.43it/s]Saving model checkpoint to ./distBert-v9/20230329_044227$-train-model-distilbert-base-uncased\\checkpoint-648\n",
      "Configuration saved in ./distBert-v9/20230329_044227$-train-model-distilbert-base-uncased\\checkpoint-648\\config.json\n"
     ]
    },
    {
     "name": "stdout",
     "output_type": "stream",
     "text": [
      "{'eval_loss': 0.10793931782245636, 'eval_f1': 0.7172413793103448, 'eval_roc_auc': 0.7992254928213895, 'eval_accuracy': 0.6172839506172839, 'eval_balanced_accuracy': 0.6198845598845598, 'eval_runtime': 0.1285, 'eval_samples_per_second': 630.34, 'eval_steps_per_second': 85.602, 'epoch': 8.0}\n"
     ]
    },
    {
     "name": "stderr",
     "output_type": "stream",
     "text": [
      "Model weights saved in ./distBert-v9/20230329_044227$-train-model-distilbert-base-uncased\\checkpoint-648\\pytorch_model.bin\n",
      "tokenizer config file saved in ./distBert-v9/20230329_044227$-train-model-distilbert-base-uncased\\checkpoint-648\\tokenizer_config.json\n",
      "Special tokens file saved in ./distBert-v9/20230329_044227$-train-model-distilbert-base-uncased\\checkpoint-648\\special_tokens_map.json\n",
      " 11%|█         | 728/6561 [00:47<04:39, 20.86it/s]***** Running Evaluation *****\n",
      "  Num examples = 81\n",
      "  Batch size = 8\n",
      "                                                  \n",
      " 11%|█         | 729/6561 [00:47<04:39, 20.86it/s]Saving model checkpoint to ./distBert-v9/20230329_044227$-train-model-distilbert-base-uncased\\checkpoint-729\n",
      "Configuration saved in ./distBert-v9/20230329_044227$-train-model-distilbert-base-uncased\\checkpoint-729\\config.json\n"
     ]
    },
    {
     "name": "stdout",
     "output_type": "stream",
     "text": [
      "{'eval_loss': 0.11028230935335159, 'eval_f1': 0.7272727272727273, 'eval_roc_auc': 0.8202669577934785, 'eval_accuracy': 0.6296296296296297, 'eval_balanced_accuracy': 0.6972871572871572, 'eval_runtime': 0.132, 'eval_samples_per_second': 613.409, 'eval_steps_per_second': 83.303, 'epoch': 9.0}\n"
     ]
    },
    {
     "name": "stderr",
     "output_type": "stream",
     "text": [
      "Model weights saved in ./distBert-v9/20230329_044227$-train-model-distilbert-base-uncased\\checkpoint-729\\pytorch_model.bin\n",
      "tokenizer config file saved in ./distBert-v9/20230329_044227$-train-model-distilbert-base-uncased\\checkpoint-729\\tokenizer_config.json\n",
      "Special tokens file saved in ./distBert-v9/20230329_044227$-train-model-distilbert-base-uncased\\checkpoint-729\\special_tokens_map.json\n",
      " 12%|█▏        | 809/6561 [00:52<04:35, 20.90it/s]***** Running Evaluation *****\n",
      "  Num examples = 81\n",
      "  Batch size = 8\n",
      "                                                  \n",
      " 12%|█▏        | 810/6561 [00:52<04:35, 20.90it/s]Saving model checkpoint to ./distBert-v9/20230329_044227$-train-model-distilbert-base-uncased\\checkpoint-810\n",
      "Configuration saved in ./distBert-v9/20230329_044227$-train-model-distilbert-base-uncased\\checkpoint-810\\config.json\n"
     ]
    },
    {
     "name": "stdout",
     "output_type": "stream",
     "text": [
      "{'eval_loss': 0.10313275456428528, 'eval_f1': 0.7417218543046358, 'eval_roc_auc': 0.8215955671823182, 'eval_accuracy': 0.654320987654321, 'eval_balanced_accuracy': 0.6764502164502164, 'eval_runtime': 0.1267, 'eval_samples_per_second': 639.437, 'eval_steps_per_second': 86.837, 'epoch': 10.0}\n"
     ]
    },
    {
     "name": "stderr",
     "output_type": "stream",
     "text": [
      "Model weights saved in ./distBert-v9/20230329_044227$-train-model-distilbert-base-uncased\\checkpoint-810\\pytorch_model.bin\n",
      "tokenizer config file saved in ./distBert-v9/20230329_044227$-train-model-distilbert-base-uncased\\checkpoint-810\\tokenizer_config.json\n",
      "Special tokens file saved in ./distBert-v9/20230329_044227$-train-model-distilbert-base-uncased\\checkpoint-810\\special_tokens_map.json\n",
      " 14%|█▎        | 889/6561 [01:09<04:43, 19.99it/s]  ***** Running Evaluation *****\n",
      "  Num examples = 81\n",
      "  Batch size = 8\n",
      "                                                  \n",
      " 14%|█▎        | 891/6561 [01:10<04:43, 19.99it/s]Saving model checkpoint to ./distBert-v9/20230329_044227$-train-model-distilbert-base-uncased\\checkpoint-891\n",
      "Configuration saved in ./distBert-v9/20230329_044227$-train-model-distilbert-base-uncased\\checkpoint-891\\config.json\n"
     ]
    },
    {
     "name": "stdout",
     "output_type": "stream",
     "text": [
      "{'eval_loss': 0.10021104663610458, 'eval_f1': 0.7564102564102564, 'eval_roc_auc': 0.8381516880548746, 'eval_accuracy': 0.691358024691358, 'eval_balanced_accuracy': 0.7109956709956708, 'eval_runtime': 0.15, 'eval_samples_per_second': 539.946, 'eval_steps_per_second': 73.326, 'epoch': 11.0}\n"
     ]
    },
    {
     "name": "stderr",
     "output_type": "stream",
     "text": [
      "Model weights saved in ./distBert-v9/20230329_044227$-train-model-distilbert-base-uncased\\checkpoint-891\\pytorch_model.bin\n",
      "tokenizer config file saved in ./distBert-v9/20230329_044227$-train-model-distilbert-base-uncased\\checkpoint-891\\tokenizer_config.json\n",
      "Special tokens file saved in ./distBert-v9/20230329_044227$-train-model-distilbert-base-uncased\\checkpoint-891\\special_tokens_map.json\n",
      " 15%|█▍        | 970/6561 [01:15<04:30, 20.66it/s]***** Running Evaluation *****\n",
      "  Num examples = 81\n",
      "  Batch size = 8\n",
      "                                                  \n",
      " 15%|█▍        | 972/6561 [01:15<04:30, 20.66it/s]Saving model checkpoint to ./distBert-v9/20230329_044227$-train-model-distilbert-base-uncased\\checkpoint-972\n",
      "Configuration saved in ./distBert-v9/20230329_044227$-train-model-distilbert-base-uncased\\checkpoint-972\\config.json\n"
     ]
    },
    {
     "name": "stdout",
     "output_type": "stream",
     "text": [
      "{'eval_loss': 0.09988737851381302, 'eval_f1': 0.7826086956521738, 'eval_roc_auc': 0.8609646322120832, 'eval_accuracy': 0.7037037037037037, 'eval_balanced_accuracy': 0.7499422799422799, 'eval_runtime': 0.1322, 'eval_samples_per_second': 612.604, 'eval_steps_per_second': 83.193, 'epoch': 12.0}\n"
     ]
    },
    {
     "name": "stderr",
     "output_type": "stream",
     "text": [
      "Model weights saved in ./distBert-v9/20230329_044227$-train-model-distilbert-base-uncased\\checkpoint-972\\pytorch_model.bin\n",
      "tokenizer config file saved in ./distBert-v9/20230329_044227$-train-model-distilbert-base-uncased\\checkpoint-972\\tokenizer_config.json\n",
      "Special tokens file saved in ./distBert-v9/20230329_044227$-train-model-distilbert-base-uncased\\checkpoint-972\\special_tokens_map.json\n",
      " 15%|█▌        | 1003/6561 [01:29<07:42, 12.03it/s] "
     ]
    },
    {
     "name": "stdout",
     "output_type": "stream",
     "text": [
      "{'loss': 0.0458, 'learning_rate': 1.6951684194482548e-05, 'epoch': 12.35}\n"
     ]
    },
    {
     "name": "stderr",
     "output_type": "stream",
     "text": [
      " 16%|█▌        | 1051/6561 [01:31<04:21, 21.09it/s]***** Running Evaluation *****\n",
      "  Num examples = 81\n",
      "  Batch size = 8\n",
      "                                                   \n",
      " 16%|█▌        | 1053/6561 [01:31<04:21, 21.09it/s]Saving model checkpoint to ./distBert-v9/20230329_044227$-train-model-distilbert-base-uncased\\checkpoint-1053\n",
      "Configuration saved in ./distBert-v9/20230329_044227$-train-model-distilbert-base-uncased\\checkpoint-1053\\config.json\n"
     ]
    },
    {
     "name": "stdout",
     "output_type": "stream",
     "text": [
      "{'eval_loss': 0.09688059240579605, 'eval_f1': 0.7547169811320754, 'eval_roc_auc': 0.8430799019506869, 'eval_accuracy': 0.6790123456790124, 'eval_balanced_accuracy': 0.7192784992784992, 'eval_runtime': 0.1312, 'eval_samples_per_second': 617.506, 'eval_steps_per_second': 83.859, 'epoch': 13.0}\n"
     ]
    },
    {
     "name": "stderr",
     "output_type": "stream",
     "text": [
      "Model weights saved in ./distBert-v9/20230329_044227$-train-model-distilbert-base-uncased\\checkpoint-1053\\pytorch_model.bin\n",
      "tokenizer config file saved in ./distBert-v9/20230329_044227$-train-model-distilbert-base-uncased\\checkpoint-1053\\tokenizer_config.json\n",
      "Special tokens file saved in ./distBert-v9/20230329_044227$-train-model-distilbert-base-uncased\\checkpoint-1053\\special_tokens_map.json\n",
      " 17%|█▋        | 1132/6561 [01:50<04:03, 22.32it/s]  ***** Running Evaluation *****\n",
      "  Num examples = 81\n",
      "  Batch size = 8\n",
      "                                                   \n",
      " 17%|█▋        | 1134/6561 [01:50<04:03, 22.32it/s]Saving model checkpoint to ./distBert-v9/20230329_044227$-train-model-distilbert-base-uncased\\checkpoint-1134\n",
      "Configuration saved in ./distBert-v9/20230329_044227$-train-model-distilbert-base-uncased\\checkpoint-1134\\config.json\n"
     ]
    },
    {
     "name": "stdout",
     "output_type": "stream",
     "text": [
      "{'eval_loss': 0.10063979029655457, 'eval_f1': 0.7643312101910827, 'eval_roc_auc': 0.8439656415432467, 'eval_accuracy': 0.691358024691358, 'eval_balanced_accuracy': 0.7298845598845599, 'eval_runtime': 0.1301, 'eval_samples_per_second': 622.444, 'eval_steps_per_second': 84.529, 'epoch': 14.0}\n"
     ]
    },
    {
     "name": "stderr",
     "output_type": "stream",
     "text": [
      "Model weights saved in ./distBert-v9/20230329_044227$-train-model-distilbert-base-uncased\\checkpoint-1134\\pytorch_model.bin\n",
      "tokenizer config file saved in ./distBert-v9/20230329_044227$-train-model-distilbert-base-uncased\\checkpoint-1134\\tokenizer_config.json\n",
      "Special tokens file saved in ./distBert-v9/20230329_044227$-train-model-distilbert-base-uncased\\checkpoint-1134\\special_tokens_map.json\n",
      " 19%|█▊        | 1215/6561 [01:55<04:08, 21.54it/s]***** Running Evaluation *****\n",
      "  Num examples = 81\n",
      "  Batch size = 8\n",
      "                                                   \n",
      " 19%|█▊        | 1215/6561 [01:55<04:08, 21.54it/s]Saving model checkpoint to ./distBert-v9/20230329_044227$-train-model-distilbert-base-uncased\\checkpoint-1215\n",
      "Configuration saved in ./distBert-v9/20230329_044227$-train-model-distilbert-base-uncased\\checkpoint-1215\\config.json\n"
     ]
    },
    {
     "name": "stdout",
     "output_type": "stream",
     "text": [
      "{'eval_loss': 0.09951674938201904, 'eval_f1': 0.7577639751552795, 'eval_roc_auc': 0.8484509856427791, 'eval_accuracy': 0.7037037037037037, 'eval_balanced_accuracy': 0.7359451659451659, 'eval_runtime': 0.1292, 'eval_samples_per_second': 626.833, 'eval_steps_per_second': 85.126, 'epoch': 15.0}\n"
     ]
    },
    {
     "name": "stderr",
     "output_type": "stream",
     "text": [
      "Model weights saved in ./distBert-v9/20230329_044227$-train-model-distilbert-base-uncased\\checkpoint-1215\\pytorch_model.bin\n",
      "tokenizer config file saved in ./distBert-v9/20230329_044227$-train-model-distilbert-base-uncased\\checkpoint-1215\\tokenizer_config.json\n",
      "Special tokens file saved in ./distBert-v9/20230329_044227$-train-model-distilbert-base-uncased\\checkpoint-1215\\special_tokens_map.json\n",
      " 20%|█▉        | 1296/6561 [02:10<04:07, 21.26it/s]  ***** Running Evaluation *****\n",
      "  Num examples = 81\n",
      "  Batch size = 8\n",
      "                                                   \n",
      " 20%|█▉        | 1296/6561 [02:10<04:07, 21.26it/s]Saving model checkpoint to ./distBert-v9/20230329_044227$-train-model-distilbert-base-uncased\\checkpoint-1296\n",
      "Configuration saved in ./distBert-v9/20230329_044227$-train-model-distilbert-base-uncased\\checkpoint-1296\\config.json\n"
     ]
    },
    {
     "name": "stdout",
     "output_type": "stream",
     "text": [
      "{'eval_loss': 0.11634865403175354, 'eval_f1': 0.751592356687898, 'eval_roc_auc': 0.8377088182585948, 'eval_accuracy': 0.691358024691358, 'eval_balanced_accuracy': 0.7222366522366522, 'eval_runtime': 0.1332, 'eval_samples_per_second': 608.252, 'eval_steps_per_second': 82.602, 'epoch': 16.0}\n"
     ]
    },
    {
     "name": "stderr",
     "output_type": "stream",
     "text": [
      "Model weights saved in ./distBert-v9/20230329_044227$-train-model-distilbert-base-uncased\\checkpoint-1296\\pytorch_model.bin\n",
      "tokenizer config file saved in ./distBert-v9/20230329_044227$-train-model-distilbert-base-uncased\\checkpoint-1296\\tokenizer_config.json\n",
      "Special tokens file saved in ./distBert-v9/20230329_044227$-train-model-distilbert-base-uncased\\checkpoint-1296\\special_tokens_map.json\n",
      " 21%|██        | 1377/6561 [02:35<04:02, 21.38it/s]  ***** Running Evaluation *****\n",
      "  Num examples = 81\n",
      "  Batch size = 8\n",
      "                                                   \n",
      " 21%|██        | 1377/6561 [02:35<04:02, 21.38it/s]Saving model checkpoint to ./distBert-v9/20230329_044227$-train-model-distilbert-base-uncased\\checkpoint-1377\n",
      "Configuration saved in ./distBert-v9/20230329_044227$-train-model-distilbert-base-uncased\\checkpoint-1377\\config.json\n"
     ]
    },
    {
     "name": "stdout",
     "output_type": "stream",
     "text": [
      "{'eval_loss': 0.09818665683269501, 'eval_f1': 0.7848101265822784, 'eval_roc_auc': 0.8560364183162708, 'eval_accuracy': 0.7283950617283951, 'eval_balanced_accuracy': 0.742005772005772, 'eval_runtime': 0.1318, 'eval_samples_per_second': 614.351, 'eval_steps_per_second': 83.43, 'epoch': 17.0}\n"
     ]
    },
    {
     "name": "stderr",
     "output_type": "stream",
     "text": [
      "Model weights saved in ./distBert-v9/20230329_044227$-train-model-distilbert-base-uncased\\checkpoint-1377\\pytorch_model.bin\n",
      "tokenizer config file saved in ./distBert-v9/20230329_044227$-train-model-distilbert-base-uncased\\checkpoint-1377\\tokenizer_config.json\n",
      "Special tokens file saved in ./distBert-v9/20230329_044227$-train-model-distilbert-base-uncased\\checkpoint-1377\\special_tokens_map.json\n",
      " 22%|██▏       | 1458/6561 [02:46<03:57, 21.50it/s]  ***** Running Evaluation *****\n",
      "  Num examples = 81\n",
      "  Batch size = 8\n",
      "                                                   \n",
      " 22%|██▏       | 1458/6561 [02:46<03:57, 21.50it/s]Saving model checkpoint to ./distBert-v9/20230329_044227$-train-model-distilbert-base-uncased\\checkpoint-1458\n",
      "Configuration saved in ./distBert-v9/20230329_044227$-train-model-distilbert-base-uncased\\checkpoint-1458\\config.json\n"
     ]
    },
    {
     "name": "stdout",
     "output_type": "stream",
     "text": [
      "{'eval_loss': 0.1084960550069809, 'eval_f1': 0.7721518987341772, 'eval_roc_auc': 0.8497795950316188, 'eval_accuracy': 0.691358024691358, 'eval_balanced_accuracy': 0.7420779220779221, 'eval_runtime': 0.1347, 'eval_samples_per_second': 601.373, 'eval_steps_per_second': 81.668, 'epoch': 18.0}\n"
     ]
    },
    {
     "name": "stderr",
     "output_type": "stream",
     "text": [
      "Model weights saved in ./distBert-v9/20230329_044227$-train-model-distilbert-base-uncased\\checkpoint-1458\\pytorch_model.bin\n",
      "tokenizer config file saved in ./distBert-v9/20230329_044227$-train-model-distilbert-base-uncased\\checkpoint-1458\\tokenizer_config.json\n",
      "Special tokens file saved in ./distBert-v9/20230329_044227$-train-model-distilbert-base-uncased\\checkpoint-1458\\special_tokens_map.json\n",
      " 23%|██▎       | 1503/6561 [02:50<04:12, 20.01it/s]"
     ]
    },
    {
     "name": "stdout",
     "output_type": "stream",
     "text": [
      "{'loss': 0.0131, 'learning_rate': 1.5427526291723824e-05, 'epoch': 18.52}\n"
     ]
    },
    {
     "name": "stderr",
     "output_type": "stream",
     "text": [
      " 23%|██▎       | 1539/6561 [02:51<03:55, 21.36it/s]***** Running Evaluation *****\n",
      "  Num examples = 81\n",
      "  Batch size = 8\n",
      "                                                   \n",
      " 23%|██▎       | 1539/6561 [02:51<03:55, 21.36it/s]Saving model checkpoint to ./distBert-v9/20230329_044227$-train-model-distilbert-base-uncased\\checkpoint-1539\n",
      "Configuration saved in ./distBert-v9/20230329_044227$-train-model-distilbert-base-uncased\\checkpoint-1539\\config.json\n"
     ]
    },
    {
     "name": "stdout",
     "output_type": "stream",
     "text": [
      "{'eval_loss': 0.10242187976837158, 'eval_f1': 0.7577639751552795, 'eval_roc_auc': 0.8484509856427791, 'eval_accuracy': 0.6790123456790124, 'eval_balanced_accuracy': 0.7343578643578643, 'eval_runtime': 0.1348, 'eval_samples_per_second': 600.92, 'eval_steps_per_second': 81.606, 'epoch': 19.0}\n"
     ]
    },
    {
     "name": "stderr",
     "output_type": "stream",
     "text": [
      "Model weights saved in ./distBert-v9/20230329_044227$-train-model-distilbert-base-uncased\\checkpoint-1539\\pytorch_model.bin\n",
      "tokenizer config file saved in ./distBert-v9/20230329_044227$-train-model-distilbert-base-uncased\\checkpoint-1539\\tokenizer_config.json\n",
      "Special tokens file saved in ./distBert-v9/20230329_044227$-train-model-distilbert-base-uncased\\checkpoint-1539\\special_tokens_map.json\n",
      " 25%|██▍       | 1620/6561 [02:56<03:55, 20.99it/s]***** Running Evaluation *****\n",
      "  Num examples = 81\n",
      "  Batch size = 8\n",
      "                                                   \n",
      " 25%|██▍       | 1620/6561 [02:56<03:55, 20.99it/s]Saving model checkpoint to ./distBert-v9/20230329_044227$-train-model-distilbert-base-uncased\\checkpoint-1620\n",
      "Configuration saved in ./distBert-v9/20230329_044227$-train-model-distilbert-base-uncased\\checkpoint-1620\\config.json\n"
     ]
    },
    {
     "name": "stdout",
     "output_type": "stream",
     "text": [
      "{'eval_loss': 0.10282829403877258, 'eval_f1': 0.7701863354037267, 'eval_roc_auc': 0.8547078089274311, 'eval_accuracy': 0.7037037037037037, 'eval_balanced_accuracy': 0.742005772005772, 'eval_runtime': 0.1318, 'eval_samples_per_second': 614.712, 'eval_steps_per_second': 83.479, 'epoch': 20.0}\n"
     ]
    },
    {
     "name": "stderr",
     "output_type": "stream",
     "text": [
      "Model weights saved in ./distBert-v9/20230329_044227$-train-model-distilbert-base-uncased\\checkpoint-1620\\pytorch_model.bin\n",
      "tokenizer config file saved in ./distBert-v9/20230329_044227$-train-model-distilbert-base-uncased\\checkpoint-1620\\tokenizer_config.json\n",
      "Special tokens file saved in ./distBert-v9/20230329_044227$-train-model-distilbert-base-uncased\\checkpoint-1620\\special_tokens_map.json\n",
      " 26%|██▌       | 1701/6561 [03:01<03:47, 21.40it/s]***** Running Evaluation *****\n",
      "  Num examples = 81\n",
      "  Batch size = 8\n",
      "                                                   \n",
      " 26%|██▌       | 1701/6561 [03:01<03:47, 21.40it/s]Saving model checkpoint to ./distBert-v9/20230329_044227$-train-model-distilbert-base-uncased\\checkpoint-1701\n",
      "Configuration saved in ./distBert-v9/20230329_044227$-train-model-distilbert-base-uncased\\checkpoint-1701\\config.json\n",
      " 26%|██▌       | 1701/6561 [03:11<03:47, 21.40it/s]"
     ]
    },
    {
     "name": "stdout",
     "output_type": "stream",
     "text": [
      "{'eval_loss': 0.10452217608690262, 'eval_f1': 0.779874213836478, 'eval_roc_auc': 0.8555935485199909, 'eval_accuracy': 0.7283950617283951, 'eval_balanced_accuracy': 0.742005772005772, 'eval_runtime': 0.1303, 'eval_samples_per_second': 621.71, 'eval_steps_per_second': 84.43, 'epoch': 21.0}\n"
     ]
    },
    {
     "name": "stderr",
     "output_type": "stream",
     "text": [
      "Model weights saved in ./distBert-v9/20230329_044227$-train-model-distilbert-base-uncased\\checkpoint-1701\\pytorch_model.bin\n",
      "tokenizer config file saved in ./distBert-v9/20230329_044227$-train-model-distilbert-base-uncased\\checkpoint-1701\\tokenizer_config.json\n",
      "Special tokens file saved in ./distBert-v9/20230329_044227$-train-model-distilbert-base-uncased\\checkpoint-1701\\special_tokens_map.json\n",
      " 27%|██▋       | 1782/6561 [03:17<03:43, 21.36it/s]  ***** Running Evaluation *****\n",
      "  Num examples = 81\n",
      "  Batch size = 8\n",
      "                                                   \n",
      " 27%|██▋       | 1782/6561 [03:17<03:43, 21.36it/s]Saving model checkpoint to ./distBert-v9/20230329_044227$-train-model-distilbert-base-uncased\\checkpoint-1782\n",
      "Configuration saved in ./distBert-v9/20230329_044227$-train-model-distilbert-base-uncased\\checkpoint-1782\\config.json\n"
     ]
    },
    {
     "name": "stdout",
     "output_type": "stream",
     "text": [
      "{'eval_loss': 0.10664751380681992, 'eval_f1': 0.7924528301886793, 'eval_roc_auc': 0.861850371804643, 'eval_accuracy': 0.7283950617283951, 'eval_balanced_accuracy': 0.7515295815295815, 'eval_runtime': 0.1399, 'eval_samples_per_second': 578.853, 'eval_steps_per_second': 78.61, 'epoch': 22.0}\n"
     ]
    },
    {
     "name": "stderr",
     "output_type": "stream",
     "text": [
      "Model weights saved in ./distBert-v9/20230329_044227$-train-model-distilbert-base-uncased\\checkpoint-1782\\pytorch_model.bin\n",
      "tokenizer config file saved in ./distBert-v9/20230329_044227$-train-model-distilbert-base-uncased\\checkpoint-1782\\tokenizer_config.json\n",
      "Special tokens file saved in ./distBert-v9/20230329_044227$-train-model-distilbert-base-uncased\\checkpoint-1782\\special_tokens_map.json\n",
      " 28%|██▊       | 1863/6561 [03:36<03:39, 21.38it/s]  ***** Running Evaluation *****\n",
      "  Num examples = 81\n",
      "  Batch size = 8\n",
      "                                                   \n",
      " 28%|██▊       | 1863/6561 [03:36<03:39, 21.38it/s]Saving model checkpoint to ./distBert-v9/20230329_044227$-train-model-distilbert-base-uncased\\checkpoint-1863\n",
      "Configuration saved in ./distBert-v9/20230329_044227$-train-model-distilbert-base-uncased\\checkpoint-1863\\config.json\n"
     ]
    },
    {
     "name": "stdout",
     "output_type": "stream",
     "text": [
      "{'eval_loss': 0.10787788778543472, 'eval_f1': 0.7924528301886793, 'eval_roc_auc': 0.861850371804643, 'eval_accuracy': 0.7407407407407407, 'eval_balanced_accuracy': 0.7642279942279943, 'eval_runtime': 0.1307, 'eval_samples_per_second': 619.942, 'eval_steps_per_second': 84.19, 'epoch': 23.0}\n"
     ]
    },
    {
     "name": "stderr",
     "output_type": "stream",
     "text": [
      "Model weights saved in ./distBert-v9/20230329_044227$-train-model-distilbert-base-uncased\\checkpoint-1863\\pytorch_model.bin\n",
      "tokenizer config file saved in ./distBert-v9/20230329_044227$-train-model-distilbert-base-uncased\\checkpoint-1863\\tokenizer_config.json\n",
      "Special tokens file saved in ./distBert-v9/20230329_044227$-train-model-distilbert-base-uncased\\checkpoint-1863\\special_tokens_map.json\n",
      " 30%|██▉       | 1944/6561 [03:41<03:38, 21.11it/s]***** Running Evaluation *****\n",
      "  Num examples = 81\n",
      "  Batch size = 8\n",
      "                                                   \n",
      " 30%|██▉       | 1944/6561 [03:41<03:38, 21.11it/s]Saving model checkpoint to ./distBert-v9/20230329_044227$-train-model-distilbert-base-uncased\\checkpoint-1944\n",
      "Configuration saved in ./distBert-v9/20230329_044227$-train-model-distilbert-base-uncased\\checkpoint-1944\\config.json\n",
      " 30%|██▉       | 1944/6561 [03:51<03:38, 21.11it/s]"
     ]
    },
    {
     "name": "stdout",
     "output_type": "stream",
     "text": [
      "{'eval_loss': 0.10194679349660873, 'eval_f1': 0.7950310559006211, 'eval_roc_auc': 0.8672214554967351, 'eval_accuracy': 0.7530864197530864, 'eval_balanced_accuracy': 0.7753391053391053, 'eval_runtime': 0.13, 'eval_samples_per_second': 622.999, 'eval_steps_per_second': 84.605, 'epoch': 24.0}\n"
     ]
    },
    {
     "name": "stderr",
     "output_type": "stream",
     "text": [
      "Model weights saved in ./distBert-v9/20230329_044227$-train-model-distilbert-base-uncased\\checkpoint-1944\\pytorch_model.bin\n",
      "tokenizer config file saved in ./distBert-v9/20230329_044227$-train-model-distilbert-base-uncased\\checkpoint-1944\\tokenizer_config.json\n",
      "Special tokens file saved in ./distBert-v9/20230329_044227$-train-model-distilbert-base-uncased\\checkpoint-1944\\special_tokens_map.json\n",
      " 31%|███       | 2004/6561 [03:55<03:42, 20.48it/s]  "
     ]
    },
    {
     "name": "stdout",
     "output_type": "stream",
     "text": [
      "{'loss': 0.0061, 'learning_rate': 1.3903368388965097e-05, 'epoch': 24.69}\n"
     ]
    },
    {
     "name": "stderr",
     "output_type": "stream",
     "text": [
      " 31%|███       | 2025/6561 [03:56<03:42, 20.39it/s]***** Running Evaluation *****\n",
      "  Num examples = 81\n",
      "  Batch size = 8\n",
      "                                                   \n",
      " 31%|███       | 2025/6561 [03:56<03:42, 20.39it/s]Saving model checkpoint to ./distBert-v9/20230329_044227$-train-model-distilbert-base-uncased\\checkpoint-2025\n",
      "Configuration saved in ./distBert-v9/20230329_044227$-train-model-distilbert-base-uncased\\checkpoint-2025\\config.json\n"
     ]
    },
    {
     "name": "stdout",
     "output_type": "stream",
     "text": [
      "{'eval_loss': 0.10891742259263992, 'eval_f1': 0.7875, 'eval_roc_auc': 0.861407502008363, 'eval_accuracy': 0.7407407407407407, 'eval_balanced_accuracy': 0.7642279942279943, 'eval_runtime': 0.1337, 'eval_samples_per_second': 605.928, 'eval_steps_per_second': 82.287, 'epoch': 25.0}\n"
     ]
    },
    {
     "name": "stderr",
     "output_type": "stream",
     "text": [
      "Model weights saved in ./distBert-v9/20230329_044227$-train-model-distilbert-base-uncased\\checkpoint-2025\\pytorch_model.bin\n",
      "tokenizer config file saved in ./distBert-v9/20230329_044227$-train-model-distilbert-base-uncased\\checkpoint-2025\\tokenizer_config.json\n",
      "Special tokens file saved in ./distBert-v9/20230329_044227$-train-model-distilbert-base-uncased\\checkpoint-2025\\special_tokens_map.json\n",
      " 32%|███▏      | 2106/6561 [04:16<03:33, 20.87it/s]  ***** Running Evaluation *****\n",
      "  Num examples = 81\n",
      "  Batch size = 8\n",
      "                                                   \n",
      " 32%|███▏      | 2106/6561 [04:16<03:33, 20.87it/s]Saving model checkpoint to ./distBert-v9/20230329_044227$-train-model-distilbert-base-uncased\\checkpoint-2106\n",
      "Configuration saved in ./distBert-v9/20230329_044227$-train-model-distilbert-base-uncased\\checkpoint-2106\\config.json\n"
     ]
    },
    {
     "name": "stdout",
     "output_type": "stream",
     "text": [
      "{'eval_loss': 0.10508403182029724, 'eval_f1': 0.7975460122699386, 'eval_roc_auc': 0.8725925391888273, 'eval_accuracy': 0.7654320987654321, 'eval_balanced_accuracy': 0.7864502164502164, 'eval_runtime': 0.1313, 'eval_samples_per_second': 616.853, 'eval_steps_per_second': 83.77, 'epoch': 26.0}\n"
     ]
    },
    {
     "name": "stderr",
     "output_type": "stream",
     "text": [
      "Model weights saved in ./distBert-v9/20230329_044227$-train-model-distilbert-base-uncased\\checkpoint-2106\\pytorch_model.bin\n",
      "tokenizer config file saved in ./distBert-v9/20230329_044227$-train-model-distilbert-base-uncased\\checkpoint-2106\\tokenizer_config.json\n",
      "Special tokens file saved in ./distBert-v9/20230329_044227$-train-model-distilbert-base-uncased\\checkpoint-2106\\special_tokens_map.json\n",
      " 33%|███▎      | 2186/6561 [04:22<03:30, 20.79it/s]***** Running Evaluation *****\n",
      "  Num examples = 81\n",
      "  Batch size = 8\n",
      "                                                   \n",
      " 33%|███▎      | 2187/6561 [04:22<03:30, 20.79it/s]Saving model checkpoint to ./distBert-v9/20230329_044227$-train-model-distilbert-base-uncased\\checkpoint-2187\n",
      "Configuration saved in ./distBert-v9/20230329_044227$-train-model-distilbert-base-uncased\\checkpoint-2187\\config.json\n"
     ]
    },
    {
     "name": "stdout",
     "output_type": "stream",
     "text": [
      "{'eval_loss': 0.11252079159021378, 'eval_f1': 0.7701863354037267, 'eval_roc_auc': 0.8547078089274311, 'eval_accuracy': 0.7160493827160493, 'eval_balanced_accuracy': 0.7581673881673882, 'eval_runtime': 0.1317, 'eval_samples_per_second': 615.011, 'eval_steps_per_second': 83.52, 'epoch': 27.0}\n"
     ]
    },
    {
     "name": "stderr",
     "output_type": "stream",
     "text": [
      "Model weights saved in ./distBert-v9/20230329_044227$-train-model-distilbert-base-uncased\\checkpoint-2187\\pytorch_model.bin\n",
      "tokenizer config file saved in ./distBert-v9/20230329_044227$-train-model-distilbert-base-uncased\\checkpoint-2187\\tokenizer_config.json\n",
      "Special tokens file saved in ./distBert-v9/20230329_044227$-train-model-distilbert-base-uncased\\checkpoint-2187\\special_tokens_map.json\n",
      " 35%|███▍      | 2266/6561 [04:35<03:23, 21.10it/s]  ***** Running Evaluation *****\n",
      "  Num examples = 81\n",
      "  Batch size = 8\n",
      "                                                   \n",
      " 35%|███▍      | 2268/6561 [04:36<03:23, 21.10it/s]Saving model checkpoint to ./distBert-v9/20230329_044227$-train-model-distilbert-base-uncased\\checkpoint-2268\n",
      "Configuration saved in ./distBert-v9/20230329_044227$-train-model-distilbert-base-uncased\\checkpoint-2268\\config.json\n"
     ]
    },
    {
     "name": "stdout",
     "output_type": "stream",
     "text": [
      "{'eval_loss': 0.1130247563123703, 'eval_f1': 0.7749999999999999, 'eval_roc_auc': 0.8551506787237111, 'eval_accuracy': 0.7283950617283951, 'eval_balanced_accuracy': 0.742005772005772, 'eval_runtime': 0.1377, 'eval_samples_per_second': 588.256, 'eval_steps_per_second': 79.887, 'epoch': 28.0}\n"
     ]
    },
    {
     "name": "stderr",
     "output_type": "stream",
     "text": [
      "Model weights saved in ./distBert-v9/20230329_044227$-train-model-distilbert-base-uncased\\checkpoint-2268\\pytorch_model.bin\n",
      "tokenizer config file saved in ./distBert-v9/20230329_044227$-train-model-distilbert-base-uncased\\checkpoint-2268\\tokenizer_config.json\n",
      "Special tokens file saved in ./distBert-v9/20230329_044227$-train-model-distilbert-base-uncased\\checkpoint-2268\\special_tokens_map.json\n",
      " 36%|███▌      | 2349/6561 [05:07<03:25, 20.51it/s]  ***** Running Evaluation *****\n",
      "  Num examples = 81\n",
      "  Batch size = 8\n",
      "                                                   \n",
      " 36%|███▌      | 2349/6561 [05:07<03:25, 20.51it/s]Saving model checkpoint to ./distBert-v9/20230329_044227$-train-model-distilbert-base-uncased\\checkpoint-2349\n",
      "Configuration saved in ./distBert-v9/20230329_044227$-train-model-distilbert-base-uncased\\checkpoint-2349\\config.json\n"
     ]
    },
    {
     "name": "stdout",
     "output_type": "stream",
     "text": [
      "{'eval_loss': 0.1135377436876297, 'eval_f1': 0.7950310559006211, 'eval_roc_auc': 0.8672214554967351, 'eval_accuracy': 0.7530864197530864, 'eval_balanced_accuracy': 0.780894660894661, 'eval_runtime': 0.1331, 'eval_samples_per_second': 608.729, 'eval_steps_per_second': 82.667, 'epoch': 29.0}\n"
     ]
    },
    {
     "name": "stderr",
     "output_type": "stream",
     "text": [
      "Model weights saved in ./distBert-v9/20230329_044227$-train-model-distilbert-base-uncased\\checkpoint-2349\\pytorch_model.bin\n",
      "tokenizer config file saved in ./distBert-v9/20230329_044227$-train-model-distilbert-base-uncased\\checkpoint-2349\\tokenizer_config.json\n",
      "Special tokens file saved in ./distBert-v9/20230329_044227$-train-model-distilbert-base-uncased\\checkpoint-2349\\special_tokens_map.json\n",
      " 37%|███▋      | 2428/6561 [05:12<03:19, 20.67it/s]***** Running Evaluation *****\n",
      "  Num examples = 81\n",
      "  Batch size = 8\n",
      "                                                   \n",
      " 37%|███▋      | 2430/6561 [05:12<03:19, 20.67it/s]Saving model checkpoint to ./distBert-v9/20230329_044227$-train-model-distilbert-base-uncased\\checkpoint-2430\n",
      "Configuration saved in ./distBert-v9/20230329_044227$-train-model-distilbert-base-uncased\\checkpoint-2430\\config.json\n"
     ]
    },
    {
     "name": "stdout",
     "output_type": "stream",
     "text": [
      "{'eval_loss': 0.11647705733776093, 'eval_f1': 0.7777777777777778, 'eval_roc_auc': 0.8605217624158032, 'eval_accuracy': 0.7407407407407407, 'eval_balanced_accuracy': 0.7515295815295815, 'eval_runtime': 0.1302, 'eval_samples_per_second': 622.306, 'eval_steps_per_second': 84.511, 'epoch': 30.0}\n"
     ]
    },
    {
     "name": "stderr",
     "output_type": "stream",
     "text": [
      "Model weights saved in ./distBert-v9/20230329_044227$-train-model-distilbert-base-uncased\\checkpoint-2430\\pytorch_model.bin\n",
      "tokenizer config file saved in ./distBert-v9/20230329_044227$-train-model-distilbert-base-uncased\\checkpoint-2430\\tokenizer_config.json\n",
      "Special tokens file saved in ./distBert-v9/20230329_044227$-train-model-distilbert-base-uncased\\checkpoint-2430\\special_tokens_map.json\n",
      " 38%|███▊      | 2503/6561 [05:17<03:15, 20.78it/s]"
     ]
    },
    {
     "name": "stdout",
     "output_type": "stream",
     "text": [
      "{'loss': 0.0034, 'learning_rate': 1.2379210486206372e-05, 'epoch': 30.86}\n"
     ]
    },
    {
     "name": "stderr",
     "output_type": "stream",
     "text": [
      " 38%|███▊      | 2509/6561 [05:17<03:13, 20.92it/s]***** Running Evaluation *****\n",
      "  Num examples = 81\n",
      "  Batch size = 8\n",
      "                                                   \n",
      " 38%|███▊      | 2511/6561 [05:17<03:13, 20.92it/s]Saving model checkpoint to ./distBert-v9/20230329_044227$-train-model-distilbert-base-uncased\\checkpoint-2511\n",
      "Configuration saved in ./distBert-v9/20230329_044227$-train-model-distilbert-base-uncased\\checkpoint-2511\\config.json\n"
     ]
    },
    {
     "name": "stdout",
     "output_type": "stream",
     "text": [
      "{'eval_loss': 0.11651447415351868, 'eval_f1': 0.7749999999999999, 'eval_roc_auc': 0.8551506787237111, 'eval_accuracy': 0.7283950617283951, 'eval_balanced_accuracy': 0.742005772005772, 'eval_runtime': 0.1332, 'eval_samples_per_second': 608.046, 'eval_steps_per_second': 82.574, 'epoch': 31.0}\n"
     ]
    },
    {
     "name": "stderr",
     "output_type": "stream",
     "text": [
      "Model weights saved in ./distBert-v9/20230329_044227$-train-model-distilbert-base-uncased\\checkpoint-2511\\pytorch_model.bin\n",
      "tokenizer config file saved in ./distBert-v9/20230329_044227$-train-model-distilbert-base-uncased\\checkpoint-2511\\tokenizer_config.json\n",
      "Special tokens file saved in ./distBert-v9/20230329_044227$-train-model-distilbert-base-uncased\\checkpoint-2511\\special_tokens_map.json\n",
      " 39%|███▉      | 2591/6561 [05:24<03:08, 21.04it/s]***** Running Evaluation *****\n",
      "  Num examples = 81\n",
      "  Batch size = 8\n",
      "                                                   \n",
      " 40%|███▉      | 2592/6561 [05:24<03:08, 21.04it/s]Saving model checkpoint to ./distBert-v9/20230329_044227$-train-model-distilbert-base-uncased\\checkpoint-2592\n",
      "Configuration saved in ./distBert-v9/20230329_044227$-train-model-distilbert-base-uncased\\checkpoint-2592\\config.json\n"
     ]
    },
    {
     "name": "stdout",
     "output_type": "stream",
     "text": [
      "{'eval_loss': 0.11723800748586655, 'eval_f1': 0.7975460122699386, 'eval_roc_auc': 0.8725925391888273, 'eval_accuracy': 0.7654320987654321, 'eval_balanced_accuracy': 0.7904184704184705, 'eval_runtime': 0.1313, 'eval_samples_per_second': 617.029, 'eval_steps_per_second': 83.794, 'epoch': 32.0}\n"
     ]
    },
    {
     "name": "stderr",
     "output_type": "stream",
     "text": [
      "Model weights saved in ./distBert-v9/20230329_044227$-train-model-distilbert-base-uncased\\checkpoint-2592\\pytorch_model.bin\n",
      "tokenizer config file saved in ./distBert-v9/20230329_044227$-train-model-distilbert-base-uncased\\checkpoint-2592\\tokenizer_config.json\n",
      "Special tokens file saved in ./distBert-v9/20230329_044227$-train-model-distilbert-base-uncased\\checkpoint-2592\\special_tokens_map.json\n",
      " 41%|████      | 2671/6561 [05:37<03:04, 21.08it/s]  ***** Running Evaluation *****\n",
      "  Num examples = 81\n",
      "  Batch size = 8\n",
      "                                                   \n",
      " 41%|████      | 2673/6561 [05:37<03:04, 21.08it/s]Saving model checkpoint to ./distBert-v9/20230329_044227$-train-model-distilbert-base-uncased\\checkpoint-2673\n",
      "Configuration saved in ./distBert-v9/20230329_044227$-train-model-distilbert-base-uncased\\checkpoint-2673\\config.json\n"
     ]
    },
    {
     "name": "stdout",
     "output_type": "stream",
     "text": [
      "{'eval_loss': 0.11890178173780441, 'eval_f1': 0.7826086956521738, 'eval_roc_auc': 0.8609646322120832, 'eval_accuracy': 0.7407407407407407, 'eval_balanced_accuracy': 0.7697835497835498, 'eval_runtime': 0.1294, 'eval_samples_per_second': 625.832, 'eval_steps_per_second': 84.99, 'epoch': 33.0}\n"
     ]
    },
    {
     "name": "stderr",
     "output_type": "stream",
     "text": [
      "Model weights saved in ./distBert-v9/20230329_044227$-train-model-distilbert-base-uncased\\checkpoint-2673\\pytorch_model.bin\n",
      "tokenizer config file saved in ./distBert-v9/20230329_044227$-train-model-distilbert-base-uncased\\checkpoint-2673\\tokenizer_config.json\n",
      "Special tokens file saved in ./distBert-v9/20230329_044227$-train-model-distilbert-base-uncased\\checkpoint-2673\\special_tokens_map.json\n",
      " 42%|████▏     | 2754/6561 [05:56<02:56, 21.53it/s]  ***** Running Evaluation *****\n",
      "  Num examples = 81\n",
      "  Batch size = 8\n",
      "                                                   \n",
      " 42%|████▏     | 2754/6561 [05:56<02:56, 21.53it/s]Saving model checkpoint to ./distBert-v9/20230329_044227$-train-model-distilbert-base-uncased\\checkpoint-2754\n",
      "Configuration saved in ./distBert-v9/20230329_044227$-train-model-distilbert-base-uncased\\checkpoint-2754\\config.json\n"
     ]
    },
    {
     "name": "stdout",
     "output_type": "stream",
     "text": [
      "{'eval_loss': 0.11814222484827042, 'eval_f1': 0.7852760736196319, 'eval_roc_auc': 0.8663357159041754, 'eval_accuracy': 0.7530864197530864, 'eval_balanced_accuracy': 0.780894660894661, 'eval_runtime': 0.1306, 'eval_samples_per_second': 619.99, 'eval_steps_per_second': 84.196, 'epoch': 34.0}\n"
     ]
    },
    {
     "name": "stderr",
     "output_type": "stream",
     "text": [
      "Model weights saved in ./distBert-v9/20230329_044227$-train-model-distilbert-base-uncased\\checkpoint-2754\\pytorch_model.bin\n",
      "tokenizer config file saved in ./distBert-v9/20230329_044227$-train-model-distilbert-base-uncased\\checkpoint-2754\\tokenizer_config.json\n",
      "Special tokens file saved in ./distBert-v9/20230329_044227$-train-model-distilbert-base-uncased\\checkpoint-2754\\special_tokens_map.json\n",
      " 43%|████▎     | 2835/6561 [06:07<02:52, 21.58it/s]***** Running Evaluation *****\n",
      "  Num examples = 81\n",
      "  Batch size = 8\n",
      "                                                   \n",
      " 43%|████▎     | 2835/6561 [06:08<02:52, 21.58it/s]Saving model checkpoint to ./distBert-v9/20230329_044227$-train-model-distilbert-base-uncased\\checkpoint-2835\n",
      "Configuration saved in ./distBert-v9/20230329_044227$-train-model-distilbert-base-uncased\\checkpoint-2835\\config.json\n"
     ]
    },
    {
     "name": "stdout",
     "output_type": "stream",
     "text": [
      "{'eval_loss': 0.12151309847831726, 'eval_f1': 0.7926829268292682, 'eval_roc_auc': 0.8721496693925476, 'eval_accuracy': 0.7654320987654321, 'eval_balanced_accuracy': 0.7904184704184705, 'eval_runtime': 0.131, 'eval_samples_per_second': 618.261, 'eval_steps_per_second': 83.961, 'epoch': 35.0}\n"
     ]
    },
    {
     "name": "stderr",
     "output_type": "stream",
     "text": [
      "Model weights saved in ./distBert-v9/20230329_044227$-train-model-distilbert-base-uncased\\checkpoint-2835\\pytorch_model.bin\n",
      "tokenizer config file saved in ./distBert-v9/20230329_044227$-train-model-distilbert-base-uncased\\checkpoint-2835\\tokenizer_config.json\n",
      "Special tokens file saved in ./distBert-v9/20230329_044227$-train-model-distilbert-base-uncased\\checkpoint-2835\\special_tokens_map.json\n",
      " 44%|████▍     | 2916/6561 [06:16<02:49, 21.50it/s]***** Running Evaluation *****\n",
      "  Num examples = 81\n",
      "  Batch size = 8\n",
      "                                                   \n",
      " 44%|████▍     | 2916/6561 [06:16<02:49, 21.50it/s]Saving model checkpoint to ./distBert-v9/20230329_044227$-train-model-distilbert-base-uncased\\checkpoint-2916\n",
      "Configuration saved in ./distBert-v9/20230329_044227$-train-model-distilbert-base-uncased\\checkpoint-2916\\config.json\n"
     ]
    },
    {
     "name": "stdout",
     "output_type": "stream",
     "text": [
      "{'eval_loss': 0.12114303559064865, 'eval_f1': 0.7926829268292682, 'eval_roc_auc': 0.8721496693925476, 'eval_accuracy': 0.7654320987654321, 'eval_balanced_accuracy': 0.7904184704184705, 'eval_runtime': 0.1303, 'eval_samples_per_second': 621.509, 'eval_steps_per_second': 84.402, 'epoch': 36.0}\n"
     ]
    },
    {
     "name": "stderr",
     "output_type": "stream",
     "text": [
      "Model weights saved in ./distBert-v9/20230329_044227$-train-model-distilbert-base-uncased\\checkpoint-2916\\pytorch_model.bin\n",
      "tokenizer config file saved in ./distBert-v9/20230329_044227$-train-model-distilbert-base-uncased\\checkpoint-2916\\tokenizer_config.json\n",
      "Special tokens file saved in ./distBert-v9/20230329_044227$-train-model-distilbert-base-uncased\\checkpoint-2916\\special_tokens_map.json\n",
      " 46%|████▌     | 2997/6561 [06:49<02:46, 21.47it/s]  ***** Running Evaluation *****\n",
      "  Num examples = 81\n",
      "  Batch size = 8\n",
      "                                                   \n",
      " 46%|████▌     | 2997/6561 [06:49<02:46, 21.47it/s]Saving model checkpoint to ./distBert-v9/20230329_044227$-train-model-distilbert-base-uncased\\checkpoint-2997\n",
      "Configuration saved in ./distBert-v9/20230329_044227$-train-model-distilbert-base-uncased\\checkpoint-2997\\config.json\n"
     ]
    },
    {
     "name": "stdout",
     "output_type": "stream",
     "text": [
      "{'eval_loss': 0.11951495707035065, 'eval_f1': 0.7926829268292682, 'eval_roc_auc': 0.8721496693925476, 'eval_accuracy': 0.7654320987654321, 'eval_balanced_accuracy': 0.792005772005772, 'eval_runtime': 0.1291, 'eval_samples_per_second': 627.256, 'eval_steps_per_second': 85.183, 'epoch': 37.0}\n"
     ]
    },
    {
     "name": "stderr",
     "output_type": "stream",
     "text": [
      "Model weights saved in ./distBert-v9/20230329_044227$-train-model-distilbert-base-uncased\\checkpoint-2997\\pytorch_model.bin\n",
      "tokenizer config file saved in ./distBert-v9/20230329_044227$-train-model-distilbert-base-uncased\\checkpoint-2997\\tokenizer_config.json\n",
      "Special tokens file saved in ./distBert-v9/20230329_044227$-train-model-distilbert-base-uncased\\checkpoint-2997\\special_tokens_map.json\n",
      " 46%|████▌     | 3002/6561 [06:51<07:45,  7.64it/s]"
     ]
    },
    {
     "name": "stdout",
     "output_type": "stream",
     "text": [
      "{'loss': 0.0022, 'learning_rate': 1.0855052583447645e-05, 'epoch': 37.04}\n"
     ]
    },
    {
     "name": "stderr",
     "output_type": "stream",
     "text": [
      " 47%|████▋     | 3076/6561 [06:54<02:46, 20.97it/s]***** Running Evaluation *****\n",
      "  Num examples = 81\n",
      "  Batch size = 8\n",
      "                                                   \n",
      " 47%|████▋     | 3078/6561 [06:54<02:46, 20.97it/s]Saving model checkpoint to ./distBert-v9/20230329_044227$-train-model-distilbert-base-uncased\\checkpoint-3078\n",
      "Configuration saved in ./distBert-v9/20230329_044227$-train-model-distilbert-base-uncased\\checkpoint-3078\\config.json\n"
     ]
    },
    {
     "name": "stdout",
     "output_type": "stream",
     "text": [
      "{'eval_loss': 0.12291192263364792, 'eval_f1': 0.7926829268292682, 'eval_roc_auc': 0.8721496693925476, 'eval_accuracy': 0.7654320987654321, 'eval_balanced_accuracy': 0.7904184704184705, 'eval_runtime': 0.1367, 'eval_samples_per_second': 592.453, 'eval_steps_per_second': 80.457, 'epoch': 38.0}\n"
     ]
    },
    {
     "name": "stderr",
     "output_type": "stream",
     "text": [
      "Model weights saved in ./distBert-v9/20230329_044227$-train-model-distilbert-base-uncased\\checkpoint-3078\\pytorch_model.bin\n",
      "tokenizer config file saved in ./distBert-v9/20230329_044227$-train-model-distilbert-base-uncased\\checkpoint-3078\\tokenizer_config.json\n",
      "Special tokens file saved in ./distBert-v9/20230329_044227$-train-model-distilbert-base-uncased\\checkpoint-3078\\special_tokens_map.json\n",
      " 48%|████▊     | 3157/6561 [06:59<02:49, 20.13it/s]***** Running Evaluation *****\n",
      "  Num examples = 81\n",
      "  Batch size = 8\n",
      "                                                   \n",
      " 48%|████▊     | 3159/6561 [06:59<02:48, 20.13it/s]Saving model checkpoint to ./distBert-v9/20230329_044227$-train-model-distilbert-base-uncased\\checkpoint-3159\n",
      "Configuration saved in ./distBert-v9/20230329_044227$-train-model-distilbert-base-uncased\\checkpoint-3159\\config.json\n"
     ]
    },
    {
     "name": "stdout",
     "output_type": "stream",
     "text": [
      "{'eval_loss': 0.12258867919445038, 'eval_f1': 0.7975460122699386, 'eval_roc_auc': 0.8725925391888273, 'eval_accuracy': 0.7654320987654321, 'eval_balanced_accuracy': 0.792005772005772, 'eval_runtime': 0.1344, 'eval_samples_per_second': 602.723, 'eval_steps_per_second': 81.851, 'epoch': 39.0}\n"
     ]
    },
    {
     "name": "stderr",
     "output_type": "stream",
     "text": [
      "Model weights saved in ./distBert-v9/20230329_044227$-train-model-distilbert-base-uncased\\checkpoint-3159\\pytorch_model.bin\n",
      "tokenizer config file saved in ./distBert-v9/20230329_044227$-train-model-distilbert-base-uncased\\checkpoint-3159\\tokenizer_config.json\n",
      "Special tokens file saved in ./distBert-v9/20230329_044227$-train-model-distilbert-base-uncased\\checkpoint-3159\\special_tokens_map.json\n",
      " 49%|████▉     | 3239/6561 [07:16<02:36, 21.18it/s]  ***** Running Evaluation *****\n",
      "  Num examples = 81\n",
      "  Batch size = 8\n",
      "                                                   \n",
      " 49%|████▉     | 3240/6561 [07:16<02:36, 21.18it/s]Saving model checkpoint to ./distBert-v9/20230329_044227$-train-model-distilbert-base-uncased\\checkpoint-3240\n",
      "Configuration saved in ./distBert-v9/20230329_044227$-train-model-distilbert-base-uncased\\checkpoint-3240\\config.json\n"
     ]
    },
    {
     "name": "stdout",
     "output_type": "stream",
     "text": [
      "{'eval_loss': 0.1258741319179535, 'eval_f1': 0.7926829268292682, 'eval_roc_auc': 0.8721496693925476, 'eval_accuracy': 0.7654320987654321, 'eval_balanced_accuracy': 0.7904184704184705, 'eval_runtime': 0.1331, 'eval_samples_per_second': 608.697, 'eval_steps_per_second': 82.663, 'epoch': 40.0}\n"
     ]
    },
    {
     "name": "stderr",
     "output_type": "stream",
     "text": [
      "Model weights saved in ./distBert-v9/20230329_044227$-train-model-distilbert-base-uncased\\checkpoint-3240\\pytorch_model.bin\n",
      "tokenizer config file saved in ./distBert-v9/20230329_044227$-train-model-distilbert-base-uncased\\checkpoint-3240\\tokenizer_config.json\n",
      "Special tokens file saved in ./distBert-v9/20230329_044227$-train-model-distilbert-base-uncased\\checkpoint-3240\\special_tokens_map.json\n",
      " 51%|█████     | 3319/6561 [07:31<02:50, 18.97it/s]  ***** Running Evaluation *****\n",
      "  Num examples = 81\n",
      "  Batch size = 8\n",
      "                                                   \n",
      " 51%|█████     | 3321/6561 [07:31<02:50, 18.97it/s]Saving model checkpoint to ./distBert-v9/20230329_044227$-train-model-distilbert-base-uncased\\checkpoint-3321\n",
      "Configuration saved in ./distBert-v9/20230329_044227$-train-model-distilbert-base-uncased\\checkpoint-3321\\config.json\n"
     ]
    },
    {
     "name": "stdout",
     "output_type": "stream",
     "text": [
      "{'eval_loss': 0.12535005807876587, 'eval_f1': 0.7804878048780488, 'eval_roc_auc': 0.8658928461078954, 'eval_accuracy': 0.7530864197530864, 'eval_balanced_accuracy': 0.780894660894661, 'eval_runtime': 0.1397, 'eval_samples_per_second': 579.674, 'eval_steps_per_second': 78.721, 'epoch': 41.0}\n"
     ]
    },
    {
     "name": "stderr",
     "output_type": "stream",
     "text": [
      "Model weights saved in ./distBert-v9/20230329_044227$-train-model-distilbert-base-uncased\\checkpoint-3321\\pytorch_model.bin\n",
      "tokenizer config file saved in ./distBert-v9/20230329_044227$-train-model-distilbert-base-uncased\\checkpoint-3321\\tokenizer_config.json\n",
      "Special tokens file saved in ./distBert-v9/20230329_044227$-train-model-distilbert-base-uncased\\checkpoint-3321\\special_tokens_map.json\n",
      " 52%|█████▏    | 3400/6561 [07:36<02:34, 20.43it/s]***** Running Evaluation *****\n",
      "  Num examples = 81\n",
      "  Batch size = 8\n",
      "                                                   \n",
      " 52%|█████▏    | 3402/6561 [07:36<02:34, 20.43it/s]Saving model checkpoint to ./distBert-v9/20230329_044227$-train-model-distilbert-base-uncased\\checkpoint-3402\n",
      "Configuration saved in ./distBert-v9/20230329_044227$-train-model-distilbert-base-uncased\\checkpoint-3402\\config.json\n"
     ]
    },
    {
     "name": "stdout",
     "output_type": "stream",
     "text": [
      "{'eval_loss': 0.12334807217121124, 'eval_f1': 0.7926829268292682, 'eval_roc_auc': 0.8721496693925476, 'eval_accuracy': 0.7530864197530864, 'eval_balanced_accuracy': 0.792005772005772, 'eval_runtime': 0.1332, 'eval_samples_per_second': 608.276, 'eval_steps_per_second': 82.605, 'epoch': 42.0}\n"
     ]
    },
    {
     "name": "stderr",
     "output_type": "stream",
     "text": [
      "Model weights saved in ./distBert-v9/20230329_044227$-train-model-distilbert-base-uncased\\checkpoint-3402\\pytorch_model.bin\n",
      "tokenizer config file saved in ./distBert-v9/20230329_044227$-train-model-distilbert-base-uncased\\checkpoint-3402\\tokenizer_config.json\n",
      "Special tokens file saved in ./distBert-v9/20230329_044227$-train-model-distilbert-base-uncased\\checkpoint-3402\\special_tokens_map.json\n",
      " 53%|█████▎    | 3482/6561 [08:07<02:25, 21.13it/s]  ***** Running Evaluation *****\n",
      "  Num examples = 81\n",
      "  Batch size = 8\n",
      "                                                   \n",
      " 53%|█████▎    | 3483/6561 [08:07<02:25, 21.13it/s]Saving model checkpoint to ./distBert-v9/20230329_044227$-train-model-distilbert-base-uncased\\checkpoint-3483\n",
      "Configuration saved in ./distBert-v9/20230329_044227$-train-model-distilbert-base-uncased\\checkpoint-3483\\config.json\n"
     ]
    },
    {
     "name": "stdout",
     "output_type": "stream",
     "text": [
      "{'eval_loss': 0.12745057046413422, 'eval_f1': 0.7926829268292682, 'eval_roc_auc': 0.8721496693925476, 'eval_accuracy': 0.7654320987654321, 'eval_balanced_accuracy': 0.7904184704184705, 'eval_runtime': 0.1284, 'eval_samples_per_second': 630.961, 'eval_steps_per_second': 85.686, 'epoch': 43.0}\n"
     ]
    },
    {
     "name": "stderr",
     "output_type": "stream",
     "text": [
      "Model weights saved in ./distBert-v9/20230329_044227$-train-model-distilbert-base-uncased\\checkpoint-3483\\pytorch_model.bin\n",
      "tokenizer config file saved in ./distBert-v9/20230329_044227$-train-model-distilbert-base-uncased\\checkpoint-3483\\tokenizer_config.json\n",
      "Special tokens file saved in ./distBert-v9/20230329_044227$-train-model-distilbert-base-uncased\\checkpoint-3483\\special_tokens_map.json\n",
      " 53%|█████▎    | 3503/6561 [08:09<03:04, 16.57it/s]"
     ]
    },
    {
     "name": "stdout",
     "output_type": "stream",
     "text": [
      "{'loss': 0.0015, 'learning_rate': 9.33089468068892e-06, 'epoch': 43.21}\n"
     ]
    },
    {
     "name": "stderr",
     "output_type": "stream",
     "text": [
      " 54%|█████▍    | 3563/6561 [08:12<02:40, 18.69it/s]***** Running Evaluation *****\n",
      "  Num examples = 81\n",
      "  Batch size = 8\n",
      "                                                   \n",
      " 54%|█████▍    | 3564/6561 [08:12<02:40, 18.69it/s]Saving model checkpoint to ./distBert-v9/20230329_044227$-train-model-distilbert-base-uncased\\checkpoint-3564\n",
      "Configuration saved in ./distBert-v9/20230329_044227$-train-model-distilbert-base-uncased\\checkpoint-3564\\config.json\n"
     ]
    },
    {
     "name": "stdout",
     "output_type": "stream",
     "text": [
      "{'eval_loss': 0.1273629516363144, 'eval_f1': 0.7852760736196319, 'eval_roc_auc': 0.8663357159041754, 'eval_accuracy': 0.7530864197530864, 'eval_balanced_accuracy': 0.780894660894661, 'eval_runtime': 0.1424, 'eval_samples_per_second': 568.859, 'eval_steps_per_second': 77.252, 'epoch': 44.0}\n"
     ]
    },
    {
     "name": "stderr",
     "output_type": "stream",
     "text": [
      "Model weights saved in ./distBert-v9/20230329_044227$-train-model-distilbert-base-uncased\\checkpoint-3564\\pytorch_model.bin\n",
      "tokenizer config file saved in ./distBert-v9/20230329_044227$-train-model-distilbert-base-uncased\\checkpoint-3564\\tokenizer_config.json\n",
      "Special tokens file saved in ./distBert-v9/20230329_044227$-train-model-distilbert-base-uncased\\checkpoint-3564\\special_tokens_map.json\n",
      " 56%|█████▌    | 3643/6561 [08:17<02:20, 20.83it/s]***** Running Evaluation *****\n",
      "  Num examples = 81\n",
      "  Batch size = 8\n",
      "                                                   \n",
      " 56%|█████▌    | 3645/6561 [08:17<02:19, 20.83it/s]Saving model checkpoint to ./distBert-v9/20230329_044227$-train-model-distilbert-base-uncased\\checkpoint-3645\n",
      "Configuration saved in ./distBert-v9/20230329_044227$-train-model-distilbert-base-uncased\\checkpoint-3645\\config.json\n",
      " 56%|█████▌    | 3645/6561 [08:27<02:19, 20.83it/s]"
     ]
    },
    {
     "name": "stdout",
     "output_type": "stream",
     "text": [
      "{'eval_loss': 0.12633772194385529, 'eval_f1': 0.787878787878788, 'eval_roc_auc': 0.8717067995962675, 'eval_accuracy': 0.7407407407407407, 'eval_balanced_accuracy': 0.792005772005772, 'eval_runtime': 0.1381, 'eval_samples_per_second': 586.325, 'eval_steps_per_second': 79.624, 'epoch': 45.0}\n"
     ]
    },
    {
     "name": "stderr",
     "output_type": "stream",
     "text": [
      "Model weights saved in ./distBert-v9/20230329_044227$-train-model-distilbert-base-uncased\\checkpoint-3645\\pytorch_model.bin\n",
      "tokenizer config file saved in ./distBert-v9/20230329_044227$-train-model-distilbert-base-uncased\\checkpoint-3645\\tokenizer_config.json\n",
      "Special tokens file saved in ./distBert-v9/20230329_044227$-train-model-distilbert-base-uncased\\checkpoint-3645\\special_tokens_map.json\n",
      " 57%|█████▋    | 3725/6561 [08:34<02:15, 20.99it/s]  ***** Running Evaluation *****\n",
      "  Num examples = 81\n",
      "  Batch size = 8\n",
      "                                                   \n",
      " 57%|█████▋    | 3726/6561 [08:34<02:15, 20.99it/s]Saving model checkpoint to ./distBert-v9/20230329_044227$-train-model-distilbert-base-uncased\\checkpoint-3726\n",
      "Configuration saved in ./distBert-v9/20230329_044227$-train-model-distilbert-base-uncased\\checkpoint-3726\\config.json\n"
     ]
    },
    {
     "name": "stdout",
     "output_type": "stream",
     "text": [
      "{'eval_loss': 0.13027341663837433, 'eval_f1': 0.7901234567901234, 'eval_roc_auc': 0.8667785857004553, 'eval_accuracy': 0.7530864197530864, 'eval_balanced_accuracy': 0.780894660894661, 'eval_runtime': 0.1338, 'eval_samples_per_second': 605.493, 'eval_steps_per_second': 82.227, 'epoch': 46.0}\n"
     ]
    },
    {
     "name": "stderr",
     "output_type": "stream",
     "text": [
      "Model weights saved in ./distBert-v9/20230329_044227$-train-model-distilbert-base-uncased\\checkpoint-3726\\pytorch_model.bin\n",
      "tokenizer config file saved in ./distBert-v9/20230329_044227$-train-model-distilbert-base-uncased\\checkpoint-3726\\tokenizer_config.json\n",
      "Special tokens file saved in ./distBert-v9/20230329_044227$-train-model-distilbert-base-uncased\\checkpoint-3726\\special_tokens_map.json\n",
      " 58%|█████▊    | 3805/6561 [08:49<02:12, 20.87it/s]***** Running Evaluation *****\n",
      "  Num examples = 81\n",
      "  Batch size = 8\n",
      "                                                   \n",
      " 58%|█████▊    | 3807/6561 [08:49<02:11, 20.87it/s]Saving model checkpoint to ./distBert-v9/20230329_044227$-train-model-distilbert-base-uncased\\checkpoint-3807\n",
      "Configuration saved in ./distBert-v9/20230329_044227$-train-model-distilbert-base-uncased\\checkpoint-3807\\config.json\n"
     ]
    },
    {
     "name": "stdout",
     "output_type": "stream",
     "text": [
      "{'eval_loss': 0.1325538605451584, 'eval_f1': 0.7926829268292682, 'eval_roc_auc': 0.8721496693925476, 'eval_accuracy': 0.7654320987654321, 'eval_balanced_accuracy': 0.7904184704184705, 'eval_runtime': 0.1341, 'eval_samples_per_second': 603.847, 'eval_steps_per_second': 82.004, 'epoch': 47.0}\n"
     ]
    },
    {
     "name": "stderr",
     "output_type": "stream",
     "text": [
      "Model weights saved in ./distBert-v9/20230329_044227$-train-model-distilbert-base-uncased\\checkpoint-3807\\pytorch_model.bin\n",
      "tokenizer config file saved in ./distBert-v9/20230329_044227$-train-model-distilbert-base-uncased\\checkpoint-3807\\tokenizer_config.json\n",
      "Special tokens file saved in ./distBert-v9/20230329_044227$-train-model-distilbert-base-uncased\\checkpoint-3807\\special_tokens_map.json\n",
      " 59%|█████▉    | 3886/6561 [08:54<02:06, 21.16it/s]***** Running Evaluation *****\n",
      "  Num examples = 81\n",
      "  Batch size = 8\n",
      "                                                   \n",
      " 59%|█████▉    | 3888/6561 [08:54<02:06, 21.16it/s]Saving model checkpoint to ./distBert-v9/20230329_044227$-train-model-distilbert-base-uncased\\checkpoint-3888\n",
      "Configuration saved in ./distBert-v9/20230329_044227$-train-model-distilbert-base-uncased\\checkpoint-3888\\config.json\n",
      " 59%|█████▉    | 3888/6561 [09:04<02:06, 21.16it/s]"
     ]
    },
    {
     "name": "stdout",
     "output_type": "stream",
     "text": [
      "{'eval_loss': 0.1314847320318222, 'eval_f1': 0.7804878048780488, 'eval_roc_auc': 0.8658928461078954, 'eval_accuracy': 0.7407407407407407, 'eval_balanced_accuracy': 0.780894660894661, 'eval_runtime': 0.1312, 'eval_samples_per_second': 617.602, 'eval_steps_per_second': 83.872, 'epoch': 48.0}\n"
     ]
    },
    {
     "name": "stderr",
     "output_type": "stream",
     "text": [
      "Model weights saved in ./distBert-v9/20230329_044227$-train-model-distilbert-base-uncased\\checkpoint-3888\\pytorch_model.bin\n",
      "tokenizer config file saved in ./distBert-v9/20230329_044227$-train-model-distilbert-base-uncased\\checkpoint-3888\\tokenizer_config.json\n",
      "Special tokens file saved in ./distBert-v9/20230329_044227$-train-model-distilbert-base-uncased\\checkpoint-3888\\special_tokens_map.json\n",
      " 60%|██████    | 3969/6561 [09:24<02:05, 20.60it/s]  ***** Running Evaluation *****\n",
      "  Num examples = 81\n",
      "  Batch size = 8\n",
      "                                                   \n",
      " 60%|██████    | 3969/6561 [09:24<02:05, 20.60it/s]Saving model checkpoint to ./distBert-v9/20230329_044227$-train-model-distilbert-base-uncased\\checkpoint-3969\n",
      "Configuration saved in ./distBert-v9/20230329_044227$-train-model-distilbert-base-uncased\\checkpoint-3969\\config.json\n"
     ]
    },
    {
     "name": "stdout",
     "output_type": "stream",
     "text": [
      "{'eval_loss': 0.1348549723625183, 'eval_f1': 0.783132530120482, 'eval_roc_auc': 0.8712639297999876, 'eval_accuracy': 0.7654320987654321, 'eval_balanced_accuracy': 0.7904184704184705, 'eval_runtime': 0.1312, 'eval_samples_per_second': 617.499, 'eval_steps_per_second': 83.858, 'epoch': 49.0}\n"
     ]
    },
    {
     "name": "stderr",
     "output_type": "stream",
     "text": [
      "Model weights saved in ./distBert-v9/20230329_044227$-train-model-distilbert-base-uncased\\checkpoint-3969\\pytorch_model.bin\n",
      "tokenizer config file saved in ./distBert-v9/20230329_044227$-train-model-distilbert-base-uncased\\checkpoint-3969\\tokenizer_config.json\n",
      "Special tokens file saved in ./distBert-v9/20230329_044227$-train-model-distilbert-base-uncased\\checkpoint-3969\\special_tokens_map.json\n",
      " 61%|██████    | 4003/6561 [09:27<02:08, 19.97it/s]"
     ]
    },
    {
     "name": "stdout",
     "output_type": "stream",
     "text": [
      "{'loss': 0.0012, 'learning_rate': 7.806736777930195e-06, 'epoch': 49.38}\n"
     ]
    },
    {
     "name": "stderr",
     "output_type": "stream",
     "text": [
      " 62%|██████▏   | 4050/6561 [09:29<01:57, 21.42it/s]***** Running Evaluation *****\n",
      "  Num examples = 81\n",
      "  Batch size = 8\n",
      "                                                   \n",
      " 62%|██████▏   | 4050/6561 [09:29<01:57, 21.42it/s]Saving model checkpoint to ./distBert-v9/20230329_044227$-train-model-distilbert-base-uncased\\checkpoint-4050\n",
      "Configuration saved in ./distBert-v9/20230329_044227$-train-model-distilbert-base-uncased\\checkpoint-4050\\config.json\n"
     ]
    },
    {
     "name": "stdout",
     "output_type": "stream",
     "text": [
      "{'eval_loss': 0.129301980137825, 'eval_f1': 0.7926829268292682, 'eval_roc_auc': 0.8721496693925476, 'eval_accuracy': 0.7530864197530864, 'eval_balanced_accuracy': 0.792005772005772, 'eval_runtime': 0.1302, 'eval_samples_per_second': 621.985, 'eval_steps_per_second': 84.467, 'epoch': 50.0}\n"
     ]
    },
    {
     "name": "stderr",
     "output_type": "stream",
     "text": [
      "Model weights saved in ./distBert-v9/20230329_044227$-train-model-distilbert-base-uncased\\checkpoint-4050\\pytorch_model.bin\n",
      "tokenizer config file saved in ./distBert-v9/20230329_044227$-train-model-distilbert-base-uncased\\checkpoint-4050\\tokenizer_config.json\n",
      "Special tokens file saved in ./distBert-v9/20230329_044227$-train-model-distilbert-base-uncased\\checkpoint-4050\\special_tokens_map.json\n",
      " 63%|██████▎   | 4131/6561 [09:34<01:53, 21.49it/s]***** Running Evaluation *****\n",
      "  Num examples = 81\n",
      "  Batch size = 8\n",
      "                                                   \n",
      " 63%|██████▎   | 4131/6561 [09:34<01:53, 21.49it/s]Saving model checkpoint to ./distBert-v9/20230329_044227$-train-model-distilbert-base-uncased\\checkpoint-4131\n",
      "Configuration saved in ./distBert-v9/20230329_044227$-train-model-distilbert-base-uncased\\checkpoint-4131\\config.json\n"
     ]
    },
    {
     "name": "stdout",
     "output_type": "stream",
     "text": [
      "{'eval_loss': 0.13526834547519684, 'eval_f1': 0.7926829268292682, 'eval_roc_auc': 0.8721496693925476, 'eval_accuracy': 0.7654320987654321, 'eval_balanced_accuracy': 0.7904184704184705, 'eval_runtime': 0.1292, 'eval_samples_per_second': 627.117, 'eval_steps_per_second': 85.164, 'epoch': 51.0}\n"
     ]
    },
    {
     "name": "stderr",
     "output_type": "stream",
     "text": [
      "Model weights saved in ./distBert-v9/20230329_044227$-train-model-distilbert-base-uncased\\checkpoint-4131\\pytorch_model.bin\n",
      "tokenizer config file saved in ./distBert-v9/20230329_044227$-train-model-distilbert-base-uncased\\checkpoint-4131\\tokenizer_config.json\n",
      "Special tokens file saved in ./distBert-v9/20230329_044227$-train-model-distilbert-base-uncased\\checkpoint-4131\\special_tokens_map.json\n",
      " 64%|██████▍   | 4211/6561 [09:49<01:51, 21.03it/s]***** Running Evaluation *****\n",
      "  Num examples = 81\n",
      "  Batch size = 8\n",
      "                                                   \n",
      " 64%|██████▍   | 4212/6561 [09:49<01:51, 21.03it/s]Saving model checkpoint to ./distBert-v9/20230329_044227$-train-model-distilbert-base-uncased\\checkpoint-4212\n",
      "Configuration saved in ./distBert-v9/20230329_044227$-train-model-distilbert-base-uncased\\checkpoint-4212\\config.json\n"
     ]
    },
    {
     "name": "stdout",
     "output_type": "stream",
     "text": [
      "{'eval_loss': 0.13188551366329193, 'eval_f1': 0.7901234567901234, 'eval_roc_auc': 0.8667785857004553, 'eval_accuracy': 0.7530864197530864, 'eval_balanced_accuracy': 0.780894660894661, 'eval_runtime': 0.1303, 'eval_samples_per_second': 621.847, 'eval_steps_per_second': 84.448, 'epoch': 52.0}\n"
     ]
    },
    {
     "name": "stderr",
     "output_type": "stream",
     "text": [
      "Model weights saved in ./distBert-v9/20230329_044227$-train-model-distilbert-base-uncased\\checkpoint-4212\\pytorch_model.bin\n",
      "tokenizer config file saved in ./distBert-v9/20230329_044227$-train-model-distilbert-base-uncased\\checkpoint-4212\\tokenizer_config.json\n",
      "Special tokens file saved in ./distBert-v9/20230329_044227$-train-model-distilbert-base-uncased\\checkpoint-4212\\special_tokens_map.json\n",
      " 65%|██████▌   | 4293/6561 [10:08<01:45, 21.53it/s]  ***** Running Evaluation *****\n",
      "  Num examples = 81\n",
      "  Batch size = 8\n",
      "                                                   \n",
      " 65%|██████▌   | 4293/6561 [10:08<01:45, 21.53it/s]Saving model checkpoint to ./distBert-v9/20230329_044227$-train-model-distilbert-base-uncased\\checkpoint-4293\n",
      "Configuration saved in ./distBert-v9/20230329_044227$-train-model-distilbert-base-uncased\\checkpoint-4293\\config.json\n"
     ]
    },
    {
     "name": "stdout",
     "output_type": "stream",
     "text": [
      "{'eval_loss': 0.13414239883422852, 'eval_f1': 0.7926829268292682, 'eval_roc_auc': 0.8721496693925476, 'eval_accuracy': 0.7654320987654321, 'eval_balanced_accuracy': 0.7904184704184705, 'eval_runtime': 0.1292, 'eval_samples_per_second': 627.082, 'eval_steps_per_second': 85.159, 'epoch': 53.0}\n"
     ]
    },
    {
     "name": "stderr",
     "output_type": "stream",
     "text": [
      "Model weights saved in ./distBert-v9/20230329_044227$-train-model-distilbert-base-uncased\\checkpoint-4293\\pytorch_model.bin\n",
      "tokenizer config file saved in ./distBert-v9/20230329_044227$-train-model-distilbert-base-uncased\\checkpoint-4293\\tokenizer_config.json\n",
      "Special tokens file saved in ./distBert-v9/20230329_044227$-train-model-distilbert-base-uncased\\checkpoint-4293\\special_tokens_map.json\n",
      " 67%|██████▋   | 4374/6561 [10:13<01:42, 21.44it/s]***** Running Evaluation *****\n",
      "  Num examples = 81\n",
      "  Batch size = 8\n",
      "                                                   \n",
      " 67%|██████▋   | 4374/6561 [10:13<01:42, 21.44it/s]Saving model checkpoint to ./distBert-v9/20230329_044227$-train-model-distilbert-base-uncased\\checkpoint-4374\n",
      "Configuration saved in ./distBert-v9/20230329_044227$-train-model-distilbert-base-uncased\\checkpoint-4374\\config.json\n",
      " 67%|██████▋   | 4374/6561 [10:26<01:42, 21.44it/s]"
     ]
    },
    {
     "name": "stdout",
     "output_type": "stream",
     "text": [
      "{'eval_loss': 0.13445447385311127, 'eval_f1': 0.7926829268292682, 'eval_roc_auc': 0.8721496693925476, 'eval_accuracy': 0.7530864197530864, 'eval_balanced_accuracy': 0.792005772005772, 'eval_runtime': 0.1295, 'eval_samples_per_second': 625.61, 'eval_steps_per_second': 84.959, 'epoch': 54.0}\n"
     ]
    },
    {
     "name": "stderr",
     "output_type": "stream",
     "text": [
      "Model weights saved in ./distBert-v9/20230329_044227$-train-model-distilbert-base-uncased\\checkpoint-4374\\pytorch_model.bin\n",
      "tokenizer config file saved in ./distBert-v9/20230329_044227$-train-model-distilbert-base-uncased\\checkpoint-4374\\tokenizer_config.json\n",
      "Special tokens file saved in ./distBert-v9/20230329_044227$-train-model-distilbert-base-uncased\\checkpoint-4374\\special_tokens_map.json\n",
      " 68%|██████▊   | 4455/6561 [10:43<01:39, 21.09it/s]  ***** Running Evaluation *****\n",
      "  Num examples = 81\n",
      "  Batch size = 8\n",
      "                                                   \n",
      " 68%|██████▊   | 4455/6561 [10:43<01:39, 21.09it/s]Saving model checkpoint to ./distBert-v9/20230329_044227$-train-model-distilbert-base-uncased\\checkpoint-4455\n",
      "Configuration saved in ./distBert-v9/20230329_044227$-train-model-distilbert-base-uncased\\checkpoint-4455\\config.json\n"
     ]
    },
    {
     "name": "stdout",
     "output_type": "stream",
     "text": [
      "{'eval_loss': 0.13430842757225037, 'eval_f1': 0.7901234567901234, 'eval_roc_auc': 0.8667785857004553, 'eval_accuracy': 0.7530864197530864, 'eval_balanced_accuracy': 0.780894660894661, 'eval_runtime': 0.1325, 'eval_samples_per_second': 611.201, 'eval_steps_per_second': 83.003, 'epoch': 55.0}\n"
     ]
    },
    {
     "name": "stderr",
     "output_type": "stream",
     "text": [
      "Model weights saved in ./distBert-v9/20230329_044227$-train-model-distilbert-base-uncased\\checkpoint-4455\\pytorch_model.bin\n",
      "tokenizer config file saved in ./distBert-v9/20230329_044227$-train-model-distilbert-base-uncased\\checkpoint-4455\\tokenizer_config.json\n",
      "Special tokens file saved in ./distBert-v9/20230329_044227$-train-model-distilbert-base-uncased\\checkpoint-4455\\special_tokens_map.json\n",
      " 69%|██████▊   | 4502/6561 [10:46<01:39, 20.67it/s]"
     ]
    },
    {
     "name": "stdout",
     "output_type": "stream",
     "text": [
      "{'loss': 0.0009, 'learning_rate': 6.282578875171468e-06, 'epoch': 55.56}\n"
     ]
    },
    {
     "name": "stderr",
     "output_type": "stream",
     "text": [
      " 69%|██████▉   | 4535/6561 [10:48<01:37, 20.87it/s]***** Running Evaluation *****\n",
      "  Num examples = 81\n",
      "  Batch size = 8\n",
      "                                                   \n",
      " 69%|██████▉   | 4536/6561 [10:48<01:37, 20.87it/s]Saving model checkpoint to ./distBert-v9/20230329_044227$-train-model-distilbert-base-uncased\\checkpoint-4536\n",
      "Configuration saved in ./distBert-v9/20230329_044227$-train-model-distilbert-base-uncased\\checkpoint-4536\\config.json\n"
     ]
    },
    {
     "name": "stdout",
     "output_type": "stream",
     "text": [
      "{'eval_loss': 0.13005848228931427, 'eval_f1': 0.7904191616766467, 'eval_roc_auc': 0.8770778832883597, 'eval_accuracy': 0.7530864197530864, 'eval_balanced_accuracy': 0.792005772005772, 'eval_runtime': 0.1333, 'eval_samples_per_second': 607.704, 'eval_steps_per_second': 82.528, 'epoch': 56.0}\n"
     ]
    },
    {
     "name": "stderr",
     "output_type": "stream",
     "text": [
      "Model weights saved in ./distBert-v9/20230329_044227$-train-model-distilbert-base-uncased\\checkpoint-4536\\pytorch_model.bin\n",
      "tokenizer config file saved in ./distBert-v9/20230329_044227$-train-model-distilbert-base-uncased\\checkpoint-4536\\tokenizer_config.json\n",
      "Special tokens file saved in ./distBert-v9/20230329_044227$-train-model-distilbert-base-uncased\\checkpoint-4536\\special_tokens_map.json\n",
      " 70%|███████   | 4617/6561 [11:07<01:30, 21.53it/s]***** Running Evaluation *****\n",
      "  Num examples = 81\n",
      "  Batch size = 8\n",
      "                                                   \n",
      " 70%|███████   | 4617/6561 [11:07<01:30, 21.53it/s]Saving model checkpoint to ./distBert-v9/20230329_044227$-train-model-distilbert-base-uncased\\checkpoint-4617\n",
      "Configuration saved in ./distBert-v9/20230329_044227$-train-model-distilbert-base-uncased\\checkpoint-4617\\config.json\n"
     ]
    },
    {
     "name": "stdout",
     "output_type": "stream",
     "text": [
      "{'eval_loss': 0.13557645678520203, 'eval_f1': 0.7901234567901234, 'eval_roc_auc': 0.8667785857004553, 'eval_accuracy': 0.7530864197530864, 'eval_balanced_accuracy': 0.780894660894661, 'eval_runtime': 0.1298, 'eval_samples_per_second': 623.886, 'eval_steps_per_second': 84.725, 'epoch': 57.0}\n"
     ]
    },
    {
     "name": "stderr",
     "output_type": "stream",
     "text": [
      "Model weights saved in ./distBert-v9/20230329_044227$-train-model-distilbert-base-uncased\\checkpoint-4617\\pytorch_model.bin\n",
      "tokenizer config file saved in ./distBert-v9/20230329_044227$-train-model-distilbert-base-uncased\\checkpoint-4617\\tokenizer_config.json\n",
      "Special tokens file saved in ./distBert-v9/20230329_044227$-train-model-distilbert-base-uncased\\checkpoint-4617\\special_tokens_map.json\n",
      " 72%|███████▏  | 4698/6561 [11:12<01:27, 21.34it/s]***** Running Evaluation *****\n",
      "  Num examples = 81\n",
      "  Batch size = 8\n",
      "                                                   \n",
      " 72%|███████▏  | 4698/6561 [11:12<01:27, 21.34it/s]Saving model checkpoint to ./distBert-v9/20230329_044227$-train-model-distilbert-base-uncased\\checkpoint-4698\n",
      "Configuration saved in ./distBert-v9/20230329_044227$-train-model-distilbert-base-uncased\\checkpoint-4698\\config.json\n"
     ]
    },
    {
     "name": "stdout",
     "output_type": "stream",
     "text": [
      "{'eval_loss': 0.1318211853504181, 'eval_f1': 0.7852760736196319, 'eval_roc_auc': 0.8663357159041754, 'eval_accuracy': 0.7407407407407407, 'eval_balanced_accuracy': 0.780894660894661, 'eval_runtime': 0.1317, 'eval_samples_per_second': 614.915, 'eval_steps_per_second': 83.507, 'epoch': 58.0}\n"
     ]
    },
    {
     "name": "stderr",
     "output_type": "stream",
     "text": [
      " 72%|███████▏  | 4698/6561 [11:23<01:27, 21.34it/s]Model weights saved in ./distBert-v9/20230329_044227$-train-model-distilbert-base-uncased\\checkpoint-4698\\pytorch_model.bin\n",
      "tokenizer config file saved in ./distBert-v9/20230329_044227$-train-model-distilbert-base-uncased\\checkpoint-4698\\tokenizer_config.json\n",
      "Special tokens file saved in ./distBert-v9/20230329_044227$-train-model-distilbert-base-uncased\\checkpoint-4698\\special_tokens_map.json\n",
      " 73%|███████▎  | 4779/6561 [11:42<01:22, 21.54it/s]  ***** Running Evaluation *****\n",
      "  Num examples = 81\n",
      "  Batch size = 8\n",
      "                                                   \n",
      " 73%|███████▎  | 4779/6561 [11:42<01:22, 21.54it/s]Saving model checkpoint to ./distBert-v9/20230329_044227$-train-model-distilbert-base-uncased\\checkpoint-4779\n",
      "Configuration saved in ./distBert-v9/20230329_044227$-train-model-distilbert-base-uncased\\checkpoint-4779\\config.json\n"
     ]
    },
    {
     "name": "stdout",
     "output_type": "stream",
     "text": [
      "{'eval_loss': 0.13152724504470825, 'eval_f1': 0.8, 'eval_roc_auc': 0.8779636228809196, 'eval_accuracy': 0.7777777777777778, 'eval_balanced_accuracy': 0.8031168831168831, 'eval_runtime': 0.1287, 'eval_samples_per_second': 629.185, 'eval_steps_per_second': 85.445, 'epoch': 59.0}\n"
     ]
    },
    {
     "name": "stderr",
     "output_type": "stream",
     "text": [
      "Model weights saved in ./distBert-v9/20230329_044227$-train-model-distilbert-base-uncased\\checkpoint-4779\\pytorch_model.bin\n",
      "tokenizer config file saved in ./distBert-v9/20230329_044227$-train-model-distilbert-base-uncased\\checkpoint-4779\\tokenizer_config.json\n",
      "Special tokens file saved in ./distBert-v9/20230329_044227$-train-model-distilbert-base-uncased\\checkpoint-4779\\special_tokens_map.json\n",
      " 74%|███████▍  | 4860/6561 [11:47<01:19, 21.47it/s]***** Running Evaluation *****\n",
      "  Num examples = 81\n",
      "  Batch size = 8\n",
      "                                                   \n",
      " 74%|███████▍  | 4860/6561 [11:47<01:19, 21.47it/s]Saving model checkpoint to ./distBert-v9/20230329_044227$-train-model-distilbert-base-uncased\\checkpoint-4860\n",
      "Configuration saved in ./distBert-v9/20230329_044227$-train-model-distilbert-base-uncased\\checkpoint-4860\\config.json\n"
     ]
    },
    {
     "name": "stdout",
     "output_type": "stream",
     "text": [
      "{'eval_loss': 0.13432183861732483, 'eval_f1': 0.8, 'eval_roc_auc': 0.8779636228809196, 'eval_accuracy': 0.7654320987654321, 'eval_balanced_accuracy': 0.8015295815295816, 'eval_runtime': 0.1342, 'eval_samples_per_second': 603.666, 'eval_steps_per_second': 81.979, 'epoch': 60.0}\n"
     ]
    },
    {
     "name": "stderr",
     "output_type": "stream",
     "text": [
      "Model weights saved in ./distBert-v9/20230329_044227$-train-model-distilbert-base-uncased\\checkpoint-4860\\pytorch_model.bin\n",
      "tokenizer config file saved in ./distBert-v9/20230329_044227$-train-model-distilbert-base-uncased\\checkpoint-4860\\tokenizer_config.json\n",
      "Special tokens file saved in ./distBert-v9/20230329_044227$-train-model-distilbert-base-uncased\\checkpoint-4860\\special_tokens_map.json\n",
      " 75%|███████▌  | 4939/6561 [11:52<01:16, 21.10it/s]***** Running Evaluation *****\n",
      "  Num examples = 81\n",
      "  Batch size = 8\n",
      "                                                   \n",
      " 75%|███████▌  | 4941/6561 [11:52<01:16, 21.10it/s]Saving model checkpoint to ./distBert-v9/20230329_044227$-train-model-distilbert-base-uncased\\checkpoint-4941\n",
      "Configuration saved in ./distBert-v9/20230329_044227$-train-model-distilbert-base-uncased\\checkpoint-4941\\config.json\n"
     ]
    },
    {
     "name": "stdout",
     "output_type": "stream",
     "text": [
      "{'eval_loss': 0.13517692685127258, 'eval_f1': 0.7926829268292682, 'eval_roc_auc': 0.8721496693925476, 'eval_accuracy': 0.7530864197530864, 'eval_balanced_accuracy': 0.792005772005772, 'eval_runtime': 0.1337, 'eval_samples_per_second': 605.799, 'eval_steps_per_second': 82.269, 'epoch': 61.0}\n"
     ]
    },
    {
     "name": "stderr",
     "output_type": "stream",
     "text": [
      "Model weights saved in ./distBert-v9/20230329_044227$-train-model-distilbert-base-uncased\\checkpoint-4941\\pytorch_model.bin\n",
      "tokenizer config file saved in ./distBert-v9/20230329_044227$-train-model-distilbert-base-uncased\\checkpoint-4941\\tokenizer_config.json\n",
      "Special tokens file saved in ./distBert-v9/20230329_044227$-train-model-distilbert-base-uncased\\checkpoint-4941\\special_tokens_map.json\n",
      " 76%|███████▋  | 5003/6561 [12:06<01:16, 20.32it/s]"
     ]
    },
    {
     "name": "stdout",
     "output_type": "stream",
     "text": [
      "{'loss': 0.0008, 'learning_rate': 4.7584209724127425e-06, 'epoch': 61.73}\n"
     ]
    },
    {
     "name": "stderr",
     "output_type": "stream",
     "text": [
      " 77%|███████▋  | 5021/6561 [12:07<01:13, 20.89it/s]***** Running Evaluation *****\n",
      "  Num examples = 81\n",
      "  Batch size = 8\n",
      "                                                   \n",
      " 77%|███████▋  | 5022/6561 [12:07<01:13, 20.89it/s]Saving model checkpoint to ./distBert-v9/20230329_044227$-train-model-distilbert-base-uncased\\checkpoint-5022\n",
      "Configuration saved in ./distBert-v9/20230329_044227$-train-model-distilbert-base-uncased\\checkpoint-5022\\config.json\n"
     ]
    },
    {
     "name": "stdout",
     "output_type": "stream",
     "text": [
      "{'eval_loss': 0.1363181471824646, 'eval_f1': 0.7926829268292682, 'eval_roc_auc': 0.8721496693925476, 'eval_accuracy': 0.7530864197530864, 'eval_balanced_accuracy': 0.792005772005772, 'eval_runtime': 0.1312, 'eval_samples_per_second': 617.542, 'eval_steps_per_second': 83.864, 'epoch': 62.0}\n"
     ]
    },
    {
     "name": "stderr",
     "output_type": "stream",
     "text": [
      "Model weights saved in ./distBert-v9/20230329_044227$-train-model-distilbert-base-uncased\\checkpoint-5022\\pytorch_model.bin\n",
      "tokenizer config file saved in ./distBert-v9/20230329_044227$-train-model-distilbert-base-uncased\\checkpoint-5022\\tokenizer_config.json\n",
      "Special tokens file saved in ./distBert-v9/20230329_044227$-train-model-distilbert-base-uncased\\checkpoint-5022\\special_tokens_map.json\n",
      " 78%|███████▊  | 5103/6561 [12:26<01:07, 21.59it/s]***** Running Evaluation *****\n",
      "  Num examples = 81\n",
      "  Batch size = 8\n",
      "                                                   \n",
      " 78%|███████▊  | 5103/6561 [12:26<01:07, 21.59it/s]Saving model checkpoint to ./distBert-v9/20230329_044227$-train-model-distilbert-base-uncased\\checkpoint-5103\n",
      "Configuration saved in ./distBert-v9/20230329_044227$-train-model-distilbert-base-uncased\\checkpoint-5103\\config.json\n"
     ]
    },
    {
     "name": "stdout",
     "output_type": "stream",
     "text": [
      "{'eval_loss': 0.13774269819259644, 'eval_f1': 0.8, 'eval_roc_auc': 0.8779636228809196, 'eval_accuracy': 0.7654320987654321, 'eval_balanced_accuracy': 0.8015295815295816, 'eval_runtime': 0.1352, 'eval_samples_per_second': 599.107, 'eval_steps_per_second': 81.36, 'epoch': 63.0}\n"
     ]
    },
    {
     "name": "stderr",
     "output_type": "stream",
     "text": [
      "Model weights saved in ./distBert-v9/20230329_044227$-train-model-distilbert-base-uncased\\checkpoint-5103\\pytorch_model.bin\n",
      "tokenizer config file saved in ./distBert-v9/20230329_044227$-train-model-distilbert-base-uncased\\checkpoint-5103\\tokenizer_config.json\n",
      "Special tokens file saved in ./distBert-v9/20230329_044227$-train-model-distilbert-base-uncased\\checkpoint-5103\\special_tokens_map.json\n",
      " 79%|███████▉  | 5184/6561 [12:31<01:04, 21.46it/s]***** Running Evaluation *****\n",
      "  Num examples = 81\n",
      "  Batch size = 8\n",
      "                                                   \n",
      " 79%|███████▉  | 5184/6561 [12:31<01:04, 21.46it/s]Saving model checkpoint to ./distBert-v9/20230329_044227$-train-model-distilbert-base-uncased\\checkpoint-5184\n",
      "Configuration saved in ./distBert-v9/20230329_044227$-train-model-distilbert-base-uncased\\checkpoint-5184\\config.json\n"
     ]
    },
    {
     "name": "stdout",
     "output_type": "stream",
     "text": [
      "{'eval_loss': 0.13914750516414642, 'eval_f1': 0.7852760736196319, 'eval_roc_auc': 0.8663357159041754, 'eval_accuracy': 0.7530864197530864, 'eval_balanced_accuracy': 0.780894660894661, 'eval_runtime': 0.1312, 'eval_samples_per_second': 617.594, 'eval_steps_per_second': 83.871, 'epoch': 64.0}\n"
     ]
    },
    {
     "name": "stderr",
     "output_type": "stream",
     "text": [
      " 79%|███████▉  | 5184/6561 [12:45<01:04, 21.46it/s]Model weights saved in ./distBert-v9/20230329_044227$-train-model-distilbert-base-uncased\\checkpoint-5184\\pytorch_model.bin\n",
      "tokenizer config file saved in ./distBert-v9/20230329_044227$-train-model-distilbert-base-uncased\\checkpoint-5184\\tokenizer_config.json\n",
      "Special tokens file saved in ./distBert-v9/20230329_044227$-train-model-distilbert-base-uncased\\checkpoint-5184\\special_tokens_map.json\n",
      " 80%|████████  | 5265/6561 [13:01<01:00, 21.45it/s]  ***** Running Evaluation *****\n",
      "  Num examples = 81\n",
      "  Batch size = 8\n",
      "                                                   \n",
      " 80%|████████  | 5265/6561 [13:01<01:00, 21.45it/s]Saving model checkpoint to ./distBert-v9/20230329_044227$-train-model-distilbert-base-uncased\\checkpoint-5265\n",
      "Configuration saved in ./distBert-v9/20230329_044227$-train-model-distilbert-base-uncased\\checkpoint-5265\\config.json\n"
     ]
    },
    {
     "name": "stdout",
     "output_type": "stream",
     "text": [
      "{'eval_loss': 0.13857950270175934, 'eval_f1': 0.7926829268292682, 'eval_roc_auc': 0.8721496693925476, 'eval_accuracy': 0.7530864197530864, 'eval_balanced_accuracy': 0.792005772005772, 'eval_runtime': 0.1295, 'eval_samples_per_second': 625.295, 'eval_steps_per_second': 84.917, 'epoch': 65.0}\n"
     ]
    },
    {
     "name": "stderr",
     "output_type": "stream",
     "text": [
      "Model weights saved in ./distBert-v9/20230329_044227$-train-model-distilbert-base-uncased\\checkpoint-5265\\pytorch_model.bin\n",
      "tokenizer config file saved in ./distBert-v9/20230329_044227$-train-model-distilbert-base-uncased\\checkpoint-5265\\tokenizer_config.json\n",
      "Special tokens file saved in ./distBert-v9/20230329_044227$-train-model-distilbert-base-uncased\\checkpoint-5265\\special_tokens_map.json\n",
      " 81%|████████▏ | 5345/6561 [13:07<00:59, 20.49it/s]***** Running Evaluation *****\n",
      "  Num examples = 81\n",
      "  Batch size = 8\n",
      "                                                   \n",
      " 81%|████████▏ | 5346/6561 [13:07<00:59, 20.49it/s]Saving model checkpoint to ./distBert-v9/20230329_044227$-train-model-distilbert-base-uncased\\checkpoint-5346\n",
      "Configuration saved in ./distBert-v9/20230329_044227$-train-model-distilbert-base-uncased\\checkpoint-5346\\config.json\n"
     ]
    },
    {
     "name": "stdout",
     "output_type": "stream",
     "text": [
      "{'eval_loss': 0.13821057975292206, 'eval_f1': 0.7926829268292682, 'eval_roc_auc': 0.8721496693925476, 'eval_accuracy': 0.7530864197530864, 'eval_balanced_accuracy': 0.792005772005772, 'eval_runtime': 0.1328, 'eval_samples_per_second': 610.037, 'eval_steps_per_second': 82.844, 'epoch': 66.0}\n"
     ]
    },
    {
     "name": "stderr",
     "output_type": "stream",
     "text": [
      "Model weights saved in ./distBert-v9/20230329_044227$-train-model-distilbert-base-uncased\\checkpoint-5346\\pytorch_model.bin\n",
      "tokenizer config file saved in ./distBert-v9/20230329_044227$-train-model-distilbert-base-uncased\\checkpoint-5346\\tokenizer_config.json\n",
      "Special tokens file saved in ./distBert-v9/20230329_044227$-train-model-distilbert-base-uncased\\checkpoint-5346\\special_tokens_map.json\n",
      " 83%|████████▎ | 5425/6561 [13:26<00:53, 21.12it/s]***** Running Evaluation *****\n",
      "  Num examples = 81\n",
      "  Batch size = 8\n",
      "                                                   \n",
      " 83%|████████▎ | 5427/6561 [13:26<00:53, 21.12it/s]Saving model checkpoint to ./distBert-v9/20230329_044227$-train-model-distilbert-base-uncased\\checkpoint-5427\n",
      "Configuration saved in ./distBert-v9/20230329_044227$-train-model-distilbert-base-uncased\\checkpoint-5427\\config.json\n"
     ]
    },
    {
     "name": "stdout",
     "output_type": "stream",
     "text": [
      "{'eval_loss': 0.137138232588768, 'eval_f1': 0.7926829268292682, 'eval_roc_auc': 0.8721496693925476, 'eval_accuracy': 0.7530864197530864, 'eval_balanced_accuracy': 0.792005772005772, 'eval_runtime': 0.1322, 'eval_samples_per_second': 612.482, 'eval_steps_per_second': 83.177, 'epoch': 67.0}\n"
     ]
    },
    {
     "name": "stderr",
     "output_type": "stream",
     "text": [
      "Model weights saved in ./distBert-v9/20230329_044227$-train-model-distilbert-base-uncased\\checkpoint-5427\\pytorch_model.bin\n",
      "tokenizer config file saved in ./distBert-v9/20230329_044227$-train-model-distilbert-base-uncased\\checkpoint-5427\\tokenizer_config.json\n",
      "Special tokens file saved in ./distBert-v9/20230329_044227$-train-model-distilbert-base-uncased\\checkpoint-5427\\special_tokens_map.json\n",
      " 84%|████████▍ | 5503/6561 [13:30<00:50, 20.95it/s]"
     ]
    },
    {
     "name": "stdout",
     "output_type": "stream",
     "text": [
      "{'loss': 0.0006, 'learning_rate': 3.234263069654016e-06, 'epoch': 67.9}\n"
     ]
    },
    {
     "name": "stderr",
     "output_type": "stream",
     "text": [
      " 84%|████████▍ | 5506/6561 [13:31<00:50, 21.01it/s]***** Running Evaluation *****\n",
      "  Num examples = 81\n",
      "  Batch size = 8\n",
      "                                                   \n",
      " 84%|████████▍ | 5508/6561 [13:31<00:50, 21.01it/s]Saving model checkpoint to ./distBert-v9/20230329_044227$-train-model-distilbert-base-uncased\\checkpoint-5508\n",
      "Configuration saved in ./distBert-v9/20230329_044227$-train-model-distilbert-base-uncased\\checkpoint-5508\\config.json\n"
     ]
    },
    {
     "name": "stdout",
     "output_type": "stream",
     "text": [
      "{'eval_loss': 0.1375809758901596, 'eval_f1': 0.7926829268292682, 'eval_roc_auc': 0.8721496693925476, 'eval_accuracy': 0.7530864197530864, 'eval_balanced_accuracy': 0.792005772005772, 'eval_runtime': 0.1293, 'eval_samples_per_second': 626.381, 'eval_steps_per_second': 85.064, 'epoch': 68.0}\n"
     ]
    },
    {
     "name": "stderr",
     "output_type": "stream",
     "text": [
      " 84%|████████▍ | 5508/6561 [13:50<00:50, 21.01it/s]Model weights saved in ./distBert-v9/20230329_044227$-train-model-distilbert-base-uncased\\checkpoint-5508\\pytorch_model.bin\n",
      "tokenizer config file saved in ./distBert-v9/20230329_044227$-train-model-distilbert-base-uncased\\checkpoint-5508\\tokenizer_config.json\n",
      "Special tokens file saved in ./distBert-v9/20230329_044227$-train-model-distilbert-base-uncased\\checkpoint-5508\\special_tokens_map.json\n",
      " 85%|████████▌ | 5589/6561 [14:01<00:45, 21.16it/s]***** Running Evaluation *****\n",
      "  Num examples = 81\n",
      "  Batch size = 8\n",
      "                                                   \n",
      " 85%|████████▌ | 5589/6561 [14:01<00:45, 21.16it/s]Saving model checkpoint to ./distBert-v9/20230329_044227$-train-model-distilbert-base-uncased\\checkpoint-5589\n",
      "Configuration saved in ./distBert-v9/20230329_044227$-train-model-distilbert-base-uncased\\checkpoint-5589\\config.json\n"
     ]
    },
    {
     "name": "stdout",
     "output_type": "stream",
     "text": [
      "{'eval_loss': 0.13810530304908752, 'eval_f1': 0.7926829268292682, 'eval_roc_auc': 0.8721496693925476, 'eval_accuracy': 0.7530864197530864, 'eval_balanced_accuracy': 0.792005772005772, 'eval_runtime': 0.1312, 'eval_samples_per_second': 617.294, 'eval_steps_per_second': 83.83, 'epoch': 69.0}\n"
     ]
    },
    {
     "name": "stderr",
     "output_type": "stream",
     "text": [
      "Model weights saved in ./distBert-v9/20230329_044227$-train-model-distilbert-base-uncased\\checkpoint-5589\\pytorch_model.bin\n",
      "tokenizer config file saved in ./distBert-v9/20230329_044227$-train-model-distilbert-base-uncased\\checkpoint-5589\\tokenizer_config.json\n",
      "Special tokens file saved in ./distBert-v9/20230329_044227$-train-model-distilbert-base-uncased\\checkpoint-5589\\special_tokens_map.json\n",
      " 86%|████████▋ | 5670/6561 [14:06<00:41, 21.35it/s]***** Running Evaluation *****\n",
      "  Num examples = 81\n",
      "  Batch size = 8\n",
      "                                                   \n",
      " 86%|████████▋ | 5670/6561 [14:06<00:41, 21.35it/s]Saving model checkpoint to ./distBert-v9/20230329_044227$-train-model-distilbert-base-uncased\\checkpoint-5670\n",
      "Configuration saved in ./distBert-v9/20230329_044227$-train-model-distilbert-base-uncased\\checkpoint-5670\\config.json\n"
     ]
    },
    {
     "name": "stdout",
     "output_type": "stream",
     "text": [
      "{'eval_loss': 0.13879410922527313, 'eval_f1': 0.7926829268292682, 'eval_roc_auc': 0.8721496693925476, 'eval_accuracy': 0.7530864197530864, 'eval_balanced_accuracy': 0.792005772005772, 'eval_runtime': 0.1297, 'eval_samples_per_second': 624.557, 'eval_steps_per_second': 84.816, 'epoch': 70.0}\n"
     ]
    },
    {
     "name": "stderr",
     "output_type": "stream",
     "text": [
      "Model weights saved in ./distBert-v9/20230329_044227$-train-model-distilbert-base-uncased\\checkpoint-5670\\pytorch_model.bin\n",
      "tokenizer config file saved in ./distBert-v9/20230329_044227$-train-model-distilbert-base-uncased\\checkpoint-5670\\tokenizer_config.json\n",
      "Special tokens file saved in ./distBert-v9/20230329_044227$-train-model-distilbert-base-uncased\\checkpoint-5670\\special_tokens_map.json\n",
      " 88%|████████▊ | 5751/6561 [14:26<00:38, 21.10it/s]***** Running Evaluation *****\n",
      "  Num examples = 81\n",
      "  Batch size = 8\n",
      "                                                   \n",
      " 88%|████████▊ | 5751/6561 [14:26<00:38, 21.10it/s]Saving model checkpoint to ./distBert-v9/20230329_044227$-train-model-distilbert-base-uncased\\checkpoint-5751\n",
      "Configuration saved in ./distBert-v9/20230329_044227$-train-model-distilbert-base-uncased\\checkpoint-5751\\config.json\n"
     ]
    },
    {
     "name": "stdout",
     "output_type": "stream",
     "text": [
      "{'eval_loss': 0.13867239654064178, 'eval_f1': 0.7926829268292682, 'eval_roc_auc': 0.8721496693925476, 'eval_accuracy': 0.7530864197530864, 'eval_balanced_accuracy': 0.792005772005772, 'eval_runtime': 0.141, 'eval_samples_per_second': 574.388, 'eval_steps_per_second': 78.003, 'epoch': 71.0}\n"
     ]
    },
    {
     "name": "stderr",
     "output_type": "stream",
     "text": [
      "Model weights saved in ./distBert-v9/20230329_044227$-train-model-distilbert-base-uncased\\checkpoint-5751\\pytorch_model.bin\n",
      "tokenizer config file saved in ./distBert-v9/20230329_044227$-train-model-distilbert-base-uncased\\checkpoint-5751\\tokenizer_config.json\n",
      "Special tokens file saved in ./distBert-v9/20230329_044227$-train-model-distilbert-base-uncased\\checkpoint-5751\\special_tokens_map.json\n",
      " 89%|████████▉ | 5830/6561 [14:31<00:36, 20.24it/s]***** Running Evaluation *****\n",
      "  Num examples = 81\n",
      "  Batch size = 8\n",
      "                                                   \n",
      " 89%|████████▉ | 5832/6561 [14:31<00:36, 20.24it/s]Saving model checkpoint to ./distBert-v9/20230329_044227$-train-model-distilbert-base-uncased\\checkpoint-5832\n",
      "Configuration saved in ./distBert-v9/20230329_044227$-train-model-distilbert-base-uncased\\checkpoint-5832\\config.json\n"
     ]
    },
    {
     "name": "stdout",
     "output_type": "stream",
     "text": [
      "{'eval_loss': 0.1395149528980255, 'eval_f1': 0.7926829268292682, 'eval_roc_auc': 0.8721496693925476, 'eval_accuracy': 0.7530864197530864, 'eval_balanced_accuracy': 0.792005772005772, 'eval_runtime': 0.1446, 'eval_samples_per_second': 560.354, 'eval_steps_per_second': 76.097, 'epoch': 72.0}\n"
     ]
    },
    {
     "name": "stderr",
     "output_type": "stream",
     "text": [
      "Model weights saved in ./distBert-v9/20230329_044227$-train-model-distilbert-base-uncased\\checkpoint-5832\\pytorch_model.bin\n",
      "tokenizer config file saved in ./distBert-v9/20230329_044227$-train-model-distilbert-base-uncased\\checkpoint-5832\\tokenizer_config.json\n",
      "Special tokens file saved in ./distBert-v9/20230329_044227$-train-model-distilbert-base-uncased\\checkpoint-5832\\special_tokens_map.json\n",
      " 90%|█████████ | 5913/6561 [14:50<00:31, 20.78it/s]***** Running Evaluation *****\n",
      "  Num examples = 81\n",
      "  Batch size = 8\n",
      "                                                   \n",
      " 90%|█████████ | 5913/6561 [14:50<00:31, 20.78it/s]Saving model checkpoint to ./distBert-v9/20230329_044227$-train-model-distilbert-base-uncased\\checkpoint-5913\n",
      "Configuration saved in ./distBert-v9/20230329_044227$-train-model-distilbert-base-uncased\\checkpoint-5913\\config.json\n"
     ]
    },
    {
     "name": "stdout",
     "output_type": "stream",
     "text": [
      "{'eval_loss': 0.14035862684249878, 'eval_f1': 0.7926829268292682, 'eval_roc_auc': 0.8721496693925476, 'eval_accuracy': 0.7530864197530864, 'eval_balanced_accuracy': 0.792005772005772, 'eval_runtime': 0.1282, 'eval_samples_per_second': 631.899, 'eval_steps_per_second': 85.813, 'epoch': 73.0}\n"
     ]
    },
    {
     "name": "stderr",
     "output_type": "stream",
     "text": [
      "Model weights saved in ./distBert-v9/20230329_044227$-train-model-distilbert-base-uncased\\checkpoint-5913\\pytorch_model.bin\n",
      "tokenizer config file saved in ./distBert-v9/20230329_044227$-train-model-distilbert-base-uncased\\checkpoint-5913\\tokenizer_config.json\n",
      "Special tokens file saved in ./distBert-v9/20230329_044227$-train-model-distilbert-base-uncased\\checkpoint-5913\\special_tokens_map.json\n",
      " 91%|█████████▏| 5992/6561 [14:59<00:29, 19.03it/s]***** Running Evaluation *****\n",
      "  Num examples = 81\n",
      "  Batch size = 8\n",
      "                                                   \n",
      " 91%|█████████▏| 5994/6561 [14:59<00:29, 19.03it/s]Saving model checkpoint to ./distBert-v9/20230329_044227$-train-model-distilbert-base-uncased\\checkpoint-5994\n",
      "Configuration saved in ./distBert-v9/20230329_044227$-train-model-distilbert-base-uncased\\checkpoint-5994\\config.json\n",
      " 91%|█████████▏| 5994/6561 [15:17<00:29, 19.03it/s]"
     ]
    },
    {
     "name": "stdout",
     "output_type": "stream",
     "text": [
      "{'eval_loss': 0.13968175649642944, 'eval_f1': 0.7926829268292682, 'eval_roc_auc': 0.8721496693925476, 'eval_accuracy': 0.7530864197530864, 'eval_balanced_accuracy': 0.792005772005772, 'eval_runtime': 0.142, 'eval_samples_per_second': 570.482, 'eval_steps_per_second': 77.473, 'epoch': 74.0}\n"
     ]
    },
    {
     "name": "stderr",
     "output_type": "stream",
     "text": [
      "Model weights saved in ./distBert-v9/20230329_044227$-train-model-distilbert-base-uncased\\checkpoint-5994\\pytorch_model.bin\n",
      "tokenizer config file saved in ./distBert-v9/20230329_044227$-train-model-distilbert-base-uncased\\checkpoint-5994\\tokenizer_config.json\n",
      "Special tokens file saved in ./distBert-v9/20230329_044227$-train-model-distilbert-base-uncased\\checkpoint-5994\\special_tokens_map.json\n",
      " 91%|█████████▏| 6002/6561 [15:22<09:31,  1.02s/it]"
     ]
    },
    {
     "name": "stdout",
     "output_type": "stream",
     "text": [
      "{'loss': 0.0006, 'learning_rate': 1.7101051668952906e-06, 'epoch': 74.07}\n"
     ]
    },
    {
     "name": "stderr",
     "output_type": "stream",
     "text": [
      " 93%|█████████▎| 6074/6561 [15:25<00:23, 21.01it/s]***** Running Evaluation *****\n",
      "  Num examples = 81\n",
      "  Batch size = 8\n",
      "                                                   \n",
      " 93%|█████████▎| 6075/6561 [15:25<00:23, 21.01it/s]Saving model checkpoint to ./distBert-v9/20230329_044227$-train-model-distilbert-base-uncased\\checkpoint-6075\n",
      "Configuration saved in ./distBert-v9/20230329_044227$-train-model-distilbert-base-uncased\\checkpoint-6075\\config.json\n"
     ]
    },
    {
     "name": "stdout",
     "output_type": "stream",
     "text": [
      "{'eval_loss': 0.14010858535766602, 'eval_f1': 0.7926829268292682, 'eval_roc_auc': 0.8721496693925476, 'eval_accuracy': 0.7530864197530864, 'eval_balanced_accuracy': 0.792005772005772, 'eval_runtime': 0.1306, 'eval_samples_per_second': 620.39, 'eval_steps_per_second': 84.251, 'epoch': 75.0}\n"
     ]
    },
    {
     "name": "stderr",
     "output_type": "stream",
     "text": [
      "Model weights saved in ./distBert-v9/20230329_044227$-train-model-distilbert-base-uncased\\checkpoint-6075\\pytorch_model.bin\n",
      "tokenizer config file saved in ./distBert-v9/20230329_044227$-train-model-distilbert-base-uncased\\checkpoint-6075\\tokenizer_config.json\n",
      "Special tokens file saved in ./distBert-v9/20230329_044227$-train-model-distilbert-base-uncased\\checkpoint-6075\\special_tokens_map.json\n",
      " 94%|█████████▍| 6155/6561 [15:30<00:19, 21.07it/s]***** Running Evaluation *****\n",
      "  Num examples = 81\n",
      "  Batch size = 8\n",
      "                                                   \n",
      " 94%|█████████▍| 6156/6561 [15:30<00:19, 21.07it/s]Saving model checkpoint to ./distBert-v9/20230329_044227$-train-model-distilbert-base-uncased\\checkpoint-6156\n",
      "Configuration saved in ./distBert-v9/20230329_044227$-train-model-distilbert-base-uncased\\checkpoint-6156\\config.json\n"
     ]
    },
    {
     "name": "stdout",
     "output_type": "stream",
     "text": [
      "{'eval_loss': 0.14048881828784943, 'eval_f1': 0.7926829268292682, 'eval_roc_auc': 0.8721496693925476, 'eval_accuracy': 0.7530864197530864, 'eval_balanced_accuracy': 0.792005772005772, 'eval_runtime': 0.1301, 'eval_samples_per_second': 622.789, 'eval_steps_per_second': 84.576, 'epoch': 76.0}\n"
     ]
    },
    {
     "name": "stderr",
     "output_type": "stream",
     "text": [
      "Model weights saved in ./distBert-v9/20230329_044227$-train-model-distilbert-base-uncased\\checkpoint-6156\\pytorch_model.bin\n",
      "tokenizer config file saved in ./distBert-v9/20230329_044227$-train-model-distilbert-base-uncased\\checkpoint-6156\\tokenizer_config.json\n",
      "Special tokens file saved in ./distBert-v9/20230329_044227$-train-model-distilbert-base-uncased\\checkpoint-6156\\special_tokens_map.json\n",
      " 95%|█████████▌| 6236/6561 [15:49<00:15, 21.05it/s]***** Running Evaluation *****\n",
      "  Num examples = 81\n",
      "  Batch size = 8\n",
      "                                                   \n",
      " 95%|█████████▌| 6237/6561 [15:50<00:15, 21.05it/s]Saving model checkpoint to ./distBert-v9/20230329_044227$-train-model-distilbert-base-uncased\\checkpoint-6237\n",
      "Configuration saved in ./distBert-v9/20230329_044227$-train-model-distilbert-base-uncased\\checkpoint-6237\\config.json\n"
     ]
    },
    {
     "name": "stdout",
     "output_type": "stream",
     "text": [
      "{'eval_loss': 0.1407882422208786, 'eval_f1': 0.7926829268292682, 'eval_roc_auc': 0.8721496693925476, 'eval_accuracy': 0.7530864197530864, 'eval_balanced_accuracy': 0.792005772005772, 'eval_runtime': 0.132, 'eval_samples_per_second': 613.571, 'eval_steps_per_second': 83.324, 'epoch': 77.0}\n"
     ]
    },
    {
     "name": "stderr",
     "output_type": "stream",
     "text": [
      "Model weights saved in ./distBert-v9/20230329_044227$-train-model-distilbert-base-uncased\\checkpoint-6237\\pytorch_model.bin\n",
      "tokenizer config file saved in ./distBert-v9/20230329_044227$-train-model-distilbert-base-uncased\\checkpoint-6237\\tokenizer_config.json\n",
      "Special tokens file saved in ./distBert-v9/20230329_044227$-train-model-distilbert-base-uncased\\checkpoint-6237\\special_tokens_map.json\n",
      " 96%|█████████▋| 6316/6561 [16:07<00:11, 21.13it/s]***** Running Evaluation *****\n",
      "  Num examples = 81\n",
      "  Batch size = 8\n",
      "                                                   \n",
      " 96%|█████████▋| 6318/6561 [16:07<00:11, 21.13it/s]Saving model checkpoint to ./distBert-v9/20230329_044227$-train-model-distilbert-base-uncased\\checkpoint-6318\n",
      "Configuration saved in ./distBert-v9/20230329_044227$-train-model-distilbert-base-uncased\\checkpoint-6318\\config.json\n",
      " 96%|█████████▋| 6318/6561 [16:17<00:11, 21.13it/s]"
     ]
    },
    {
     "name": "stdout",
     "output_type": "stream",
     "text": [
      "{'eval_loss': 0.14094120264053345, 'eval_f1': 0.7926829268292682, 'eval_roc_auc': 0.8721496693925476, 'eval_accuracy': 0.7530864197530864, 'eval_balanced_accuracy': 0.792005772005772, 'eval_runtime': 0.1391, 'eval_samples_per_second': 582.304, 'eval_steps_per_second': 79.078, 'epoch': 78.0}\n"
     ]
    },
    {
     "name": "stderr",
     "output_type": "stream",
     "text": [
      "Model weights saved in ./distBert-v9/20230329_044227$-train-model-distilbert-base-uncased\\checkpoint-6318\\pytorch_model.bin\n",
      "tokenizer config file saved in ./distBert-v9/20230329_044227$-train-model-distilbert-base-uncased\\checkpoint-6318\\tokenizer_config.json\n",
      "Special tokens file saved in ./distBert-v9/20230329_044227$-train-model-distilbert-base-uncased\\checkpoint-6318\\special_tokens_map.json\n",
      " 98%|█████████▊| 6399/6561 [16:24<00:07, 21.34it/s]***** Running Evaluation *****\n",
      "  Num examples = 81\n",
      "  Batch size = 8\n",
      "                                                   \n",
      " 98%|█████████▊| 6399/6561 [16:25<00:07, 21.34it/s]Saving model checkpoint to ./distBert-v9/20230329_044227$-train-model-distilbert-base-uncased\\checkpoint-6399\n",
      "Configuration saved in ./distBert-v9/20230329_044227$-train-model-distilbert-base-uncased\\checkpoint-6399\\config.json\n"
     ]
    },
    {
     "name": "stdout",
     "output_type": "stream",
     "text": [
      "{'eval_loss': 0.1408899873495102, 'eval_f1': 0.7926829268292682, 'eval_roc_auc': 0.8721496693925476, 'eval_accuracy': 0.7530864197530864, 'eval_balanced_accuracy': 0.792005772005772, 'eval_runtime': 0.1302, 'eval_samples_per_second': 622.121, 'eval_steps_per_second': 84.486, 'epoch': 79.0}\n"
     ]
    },
    {
     "name": "stderr",
     "output_type": "stream",
     "text": [
      "Model weights saved in ./distBert-v9/20230329_044227$-train-model-distilbert-base-uncased\\checkpoint-6399\\pytorch_model.bin\n",
      "tokenizer config file saved in ./distBert-v9/20230329_044227$-train-model-distilbert-base-uncased\\checkpoint-6399\\tokenizer_config.json\n",
      "Special tokens file saved in ./distBert-v9/20230329_044227$-train-model-distilbert-base-uncased\\checkpoint-6399\\special_tokens_map.json\n",
      " 99%|█████████▉| 6480/6561 [16:30<00:03, 21.20it/s]***** Running Evaluation *****\n",
      "  Num examples = 81\n",
      "  Batch size = 8\n",
      "                                                   \n",
      " 99%|█████████▉| 6480/6561 [16:30<00:03, 21.20it/s]Saving model checkpoint to ./distBert-v9/20230329_044227$-train-model-distilbert-base-uncased\\checkpoint-6480\n",
      "Configuration saved in ./distBert-v9/20230329_044227$-train-model-distilbert-base-uncased\\checkpoint-6480\\config.json\n"
     ]
    },
    {
     "name": "stdout",
     "output_type": "stream",
     "text": [
      "{'eval_loss': 0.140694722533226, 'eval_f1': 0.7926829268292682, 'eval_roc_auc': 0.8721496693925476, 'eval_accuracy': 0.7530864197530864, 'eval_balanced_accuracy': 0.792005772005772, 'eval_runtime': 0.1343, 'eval_samples_per_second': 602.933, 'eval_steps_per_second': 81.88, 'epoch': 80.0}\n"
     ]
    },
    {
     "name": "stderr",
     "output_type": "stream",
     "text": [
      "Model weights saved in ./distBert-v9/20230329_044227$-train-model-distilbert-base-uncased\\checkpoint-6480\\pytorch_model.bin\n",
      "tokenizer config file saved in ./distBert-v9/20230329_044227$-train-model-distilbert-base-uncased\\checkpoint-6480\\tokenizer_config.json\n",
      "Special tokens file saved in ./distBert-v9/20230329_044227$-train-model-distilbert-base-uncased\\checkpoint-6480\\special_tokens_map.json\n",
      " 99%|█████████▉| 6503/6561 [16:46<00:10,  5.66it/s]"
     ]
    },
    {
     "name": "stdout",
     "output_type": "stream",
     "text": [
      "{'loss': 0.0005, 'learning_rate': 1.8594726413656458e-07, 'epoch': 80.25}\n"
     ]
    },
    {
     "name": "stderr",
     "output_type": "stream",
     "text": [
      "100%|█████████▉| 6560/6561 [16:49<00:00, 20.41it/s]***** Running Evaluation *****\n",
      "  Num examples = 81\n",
      "  Batch size = 8\n",
      "                                                   \n",
      "100%|██████████| 6561/6561 [16:49<00:00, 20.41it/s]Saving model checkpoint to ./distBert-v9/20230329_044227$-train-model-distilbert-base-uncased\\checkpoint-6561\n",
      "Configuration saved in ./distBert-v9/20230329_044227$-train-model-distilbert-base-uncased\\checkpoint-6561\\config.json\n"
     ]
    },
    {
     "name": "stdout",
     "output_type": "stream",
     "text": [
      "{'eval_loss': 0.14079801738262177, 'eval_f1': 0.7926829268292682, 'eval_roc_auc': 0.8721496693925476, 'eval_accuracy': 0.7530864197530864, 'eval_balanced_accuracy': 0.792005772005772, 'eval_runtime': 0.1573, 'eval_samples_per_second': 514.802, 'eval_steps_per_second': 69.911, 'epoch': 81.0}\n"
     ]
    },
    {
     "name": "stderr",
     "output_type": "stream",
     "text": [
      "Model weights saved in ./distBert-v9/20230329_044227$-train-model-distilbert-base-uncased\\checkpoint-6561\\pytorch_model.bin\n",
      "tokenizer config file saved in ./distBert-v9/20230329_044227$-train-model-distilbert-base-uncased\\checkpoint-6561\\tokenizer_config.json\n",
      "Special tokens file saved in ./distBert-v9/20230329_044227$-train-model-distilbert-base-uncased\\checkpoint-6561\\special_tokens_map.json\n",
      "\n",
      "\n",
      "Training completed. Do not forget to share your model on huggingface.co/models =)\n",
      "\n",
      "\n",
      "Loading best model from ./distBert-v9/20230329_044227$-train-model-distilbert-base-uncased\\checkpoint-4779 (score: 0.8).\n",
      "100%|██████████| 6561/6561 [17:06<00:00,  6.39it/s]"
     ]
    },
    {
     "name": "stdout",
     "output_type": "stream",
     "text": [
      "{'train_runtime': 1026.0982, 'train_samples_per_second': 50.837, 'train_steps_per_second': 6.394, 'train_loss': 0.023440817683296967, 'epoch': 81.0}\n"
     ]
    },
    {
     "name": "stderr",
     "output_type": "stream",
     "text": [
      "\n"
     ]
    },
    {
     "data": {
      "text/plain": [
       "TrainOutput(global_step=6561, training_loss=0.023440817683296967, metrics={'train_runtime': 1026.0982, 'train_samples_per_second': 50.837, 'train_steps_per_second': 6.394, 'train_loss': 0.023440817683296967, 'epoch': 81.0})"
      ]
     },
     "execution_count": 31,
     "metadata": {},
     "output_type": "execute_result"
    }
   ],
   "source": [
    "trainer.train()"
   ]
  },
  {
   "cell_type": "code",
   "execution_count": 32,
   "metadata": {},
   "outputs": [
    {
     "name": "stderr",
     "output_type": "stream",
     "text": [
      "***** Running Evaluation *****\n",
      "  Num examples = 81\n",
      "  Batch size = 8\n",
      "100%|██████████| 11/11 [00:00<00:00, 90.79it/s]\n"
     ]
    },
    {
     "data": {
      "text/plain": [
       "{'eval_loss': 0.13152724504470825,\n",
       " 'eval_f1': 0.8,\n",
       " 'eval_roc_auc': 0.8779636228809196,\n",
       " 'eval_accuracy': 0.7777777777777778,\n",
       " 'eval_balanced_accuracy': 0.8031168831168831,\n",
       " 'eval_runtime': 0.1351,\n",
       " 'eval_samples_per_second': 599.579,\n",
       " 'eval_steps_per_second': 81.424,\n",
       " 'epoch': 81.0}"
      ]
     },
     "execution_count": 32,
     "metadata": {},
     "output_type": "execute_result"
    }
   ],
   "source": [
    "trainer.evaluate()"
   ]
  },
  {
   "cell_type": "code",
   "execution_count": 33,
   "metadata": {},
   "outputs": [
    {
     "name": "stderr",
     "output_type": "stream",
     "text": [
      "***** Running Prediction *****\n",
      "  Num examples = 81\n",
      "  Batch size = 8\n",
      "100%|██████████| 11/11 [00:00<00:00, 99.19it/s] \n"
     ]
    }
   ],
   "source": [
    "prediction_result = trainer.predict(encoded_ds['test'])"
   ]
  },
  {
   "cell_type": "code",
   "execution_count": 34,
   "metadata": {},
   "outputs": [
    {
     "name": "stdout",
     "output_type": "stream",
     "text": [
      "{'test_loss': 0.16424967348575592, 'test_f1': 0.7878787878787878, 'test_roc_auc': 0.8840574311379794, 'test_accuracy': 0.7530864197530864, 'test_balanced_accuracy': 0.8126695526695527, 'test_runtime': 0.1851, 'test_samples_per_second': 437.515, 'test_steps_per_second': 59.416}\n"
     ]
    }
   ],
   "source": [
    "print(prediction_result.metrics)"
   ]
  },
  {
   "cell_type": "code",
   "execution_count": 35,
   "metadata": {},
   "outputs": [
    {
     "name": "stderr",
     "output_type": "stream",
     "text": [
      "Saving model checkpoint to ./distlBert-model-v9\n",
      "Configuration saved in ./distlBert-model-v9\\config.json\n",
      "Model weights saved in ./distlBert-model-v9\\pytorch_model.bin\n",
      "tokenizer config file saved in ./distlBert-model-v9\\tokenizer_config.json\n",
      "Special tokens file saved in ./distlBert-model-v9\\special_tokens_map.json\n"
     ]
    }
   ],
   "source": [
    "trainer.save_model(\"./distlBert-model-v9\")"
   ]
  },
  {
   "cell_type": "code",
   "execution_count": 36,
   "metadata": {},
   "outputs": [
    {
     "name": "stderr",
     "output_type": "stream",
     "text": [
      "tokenizer config file saved in ./distlBert-model-v9/tokenizer\\tokenizer_config.json\n",
      "Special tokens file saved in ./distlBert-model-v9/tokenizer\\special_tokens_map.json\n"
     ]
    },
    {
     "data": {
      "text/plain": [
       "('./distlBert-model-v9/tokenizer\\\\tokenizer_config.json',\n",
       " './distlBert-model-v9/tokenizer\\\\special_tokens_map.json',\n",
       " './distlBert-model-v9/tokenizer\\\\vocab.txt',\n",
       " './distlBert-model-v9/tokenizer\\\\added_tokens.json')"
      ]
     },
     "execution_count": 36,
     "metadata": {},
     "output_type": "execute_result"
    }
   ],
   "source": [
    "tokenizer.save_pretrained(\"./distlBert-model-v9/tokenizer\")"
   ]
  }
 ],
 "metadata": {
  "kernelspec": {
   "display_name": "venv",
   "language": "python",
   "name": "python3"
  },
  "language_info": {
   "codemirror_mode": {
    "name": "ipython",
    "version": 3
   },
   "file_extension": ".py",
   "mimetype": "text/x-python",
   "name": "python",
   "nbconvert_exporter": "python",
   "pygments_lexer": "ipython3",
   "version": "3.8.10"
  },
  "orig_nbformat": 4,
  "vscode": {
   "interpreter": {
    "hash": "e32da21edddcaf775c480ccd7b569f19fc9b1c5c20d607727913c5339e7adca8"
   }
  }
 },
 "nbformat": 4,
 "nbformat_minor": 2
}
